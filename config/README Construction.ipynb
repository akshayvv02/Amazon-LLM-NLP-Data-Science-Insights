{
 "cells": [
  {
   "cell_type": "markdown",
   "metadata": {},
   "source": [
    "# README Maker\n",
    "> Complete README in this notebook and then convert this notebook to markdown. Delete every above the horizontal line:"
   ]
  },
  {
   "cell_type": "code",
   "execution_count": 4,
   "metadata": {
    "execution": {
     "iopub.execute_input": "2024-02-13T01:28:26.932164Z",
     "iopub.status.busy": "2024-02-13T01:28:26.931411Z",
     "iopub.status.idle": "2024-02-13T01:28:26.943936Z",
     "shell.execute_reply": "2024-02-13T01:28:26.941782Z",
     "shell.execute_reply.started": "2024-02-13T01:28:26.932124Z"
    }
   },
   "outputs": [
    {
     "data": {
      "text/plain": [
       "{'histogram-reviews-dist_png': 'images/01_histogram_reviews.png',\n",
       " 'avg-reviews-by-year_png': 'images/02_avg_rating_by_year.png',\n",
       " 'number-reviews-stars-by-year_png': 'images/03_count_stars_by_year.png',\n",
       " 'ngrams-by-group_png': 'images/04_ngrams_by_group.png',\n",
       " 'wordclouds-by-group_png': 'images/05_wordclouds.png'}"
      ]
     },
     "execution_count": 4,
     "metadata": {},
     "output_type": "execute_result"
    }
   ],
   "source": [
    "import json\n",
    "from IPython.display import display, Markdown\n",
    "import matplotlib.pyplot as plt\n",
    "# Ensure inline display of matplotlib figures\n",
    "%matplotlib inline\n",
    "\n",
    "import pandas as pd\n",
    "with open('config/filepaths.json') as f:\n",
    "    FPATHS = json.load(f)\n",
    "FPATHS['readme']"
   ]
  },
  {
   "cell_type": "code",
   "execution_count": 5,
   "metadata": {
    "execution": {
     "iopub.execute_input": "2024-02-13T01:28:26.946362Z",
     "iopub.status.busy": "2024-02-13T01:28:26.945873Z",
     "iopub.status.idle": "2024-02-13T01:28:27.037727Z",
     "shell.execute_reply": "2024-02-13T01:28:27.037333Z",
     "shell.execute_reply.started": "2024-02-13T01:28:26.946335Z"
    }
   },
   "outputs": [],
   "source": [
    "import joblib\n",
    "df = joblib.load(FPATHS['data']['processed-nlp']['processed-reviews-with-target_joblib'])"
   ]
  },
  {
   "cell_type": "code",
   "execution_count": 6,
   "metadata": {
    "execution": {
     "iopub.execute_input": "2024-02-13T01:28:27.038238Z",
     "iopub.status.busy": "2024-02-13T01:28:27.038145Z",
     "iopub.status.idle": "2024-02-13T01:28:27.042356Z",
     "shell.execute_reply": "2024-02-13T01:28:27.041904Z",
     "shell.execute_reply.started": "2024-02-13T01:28:27.038229Z"
    }
   },
   "outputs": [
    {
     "name": "stdout",
     "output_type": "stream",
     "text": [
      "\n",
      "- Product Title:\n",
      "\n",
      "***\"Miracle Noodle Zero Carb, Gluten Free Shirataki Pasta, Spinach Angel Hair, 7-Ounce (Pack of 24)\"***<p><img src='images/selected-products/miracle-noodle-2024.jpg' width=300px></p>\n",
      "- Brand: Miracle Noodle\n",
      "- Price: $59.76\n",
      "- Ranked 119,683 in Grocery & Gourmet Food (2018)\n",
      "- Categories:\n",
      "    - Grocery & Gourmet Food; Pasta & Noodles; Noodles; Shirataki\n"
     ]
    }
   ],
   "source": [
    "from IPython.display import Markdown\n",
    "with open(FPATHS['metadata']['product-information_md']) as f:\n",
    "    print(f.read())"
   ]
  },
  {
   "cell_type": "code",
   "execution_count": 7,
   "metadata": {
    "execution": {
     "iopub.execute_input": "2024-02-13T01:28:27.043408Z",
     "iopub.status.busy": "2024-02-13T01:28:27.043155Z",
     "iopub.status.idle": "2024-02-13T01:28:27.164269Z",
     "shell.execute_reply": "2024-02-13T01:28:27.163972Z",
     "shell.execute_reply.started": "2024-02-13T01:28:27.043395Z"
    }
   },
   "outputs": [
    {
     "data": {
      "text/plain": [
       "dict_keys(['model', 'train', 'test'])"
      ]
     },
     "execution_count": 7,
     "metadata": {},
     "output_type": "execute_result"
    }
   ],
   "source": [
    "# Commented Out on 06/25/24 due to error\n",
    "fpath_model_results = FPATHS['results']['best-ml-clf_joblib']\n",
    "results_dict = joblib.load(fpath_model_results)\n",
    "results_dict.keys()"
   ]
  },
  {
   "cell_type": "markdown",
   "metadata": {},
   "source": [
    "To Do:\n",
    "- Change your name and social media links below and remove code block syntax\n",
    "- Uncomment any sections at the bottom that you wish to add back.\n",
    "\n",
    "<hr style=\"color:red;\">"
   ]
  },
  {
   "cell_type": "code",
   "execution_count": null,
   "metadata": {},
   "outputs": [],
   "source": []
  },
  {
   "cell_type": "code",
   "execution_count": null,
   "metadata": {},
   "outputs": [],
   "source": []
  },
  {
   "cell_type": "markdown",
   "metadata": {},
   "source": [
    "# Amazon Reviews Analysis: Miracle Noodle Zero Carb Pasta"
   ]
  },
  {
   "cell_type": "markdown",
   "metadata": {},
   "source": [
    "*Understanding Consumer Taste Preferences from Reviews Using Natural Language Processing*"
   ]
  },
  {
   "cell_type": "markdown",
   "metadata": {},
   "source": [
    "- James M. Irving, Ph.D.\n",
    "\n",
    "<blockquote>\n",
    "    <ul>\n",
    "  <li><a href=\"https://www.linkedin.com/in/james-irving-phd\" rel=\"nofollow noreferrer\">\n",
    "    LinkedIn\n",
    "  </a> </li>\n",
    "  <li><a href=\"https://github.com/jirvingphd\" rel=\"nofollow noreferrer\">\n",
    "    Github\n",
    "  </a></li>\n",
    "</ul>\n",
    "</blockquote>\n",
    "\n",
    "- Updated 06/27/24"
   ]
  },
  {
   "cell_type": "markdown",
   "metadata": {},
   "source": [
    "## Overview\n",
    "\n",
    "This project focuses on analyzing customer reviews for the \"Miracle Noodle Zero Carb, Gluten Free Shirataki Pasta, Spinach Angel Hair\" product sold on Amazon. Utilizing advanced Natural Language Processing (NLP) and Machine Learning techniques, this analysis aims to uncover patterns in customer sentiment and preferences, which are crucial for driving product improvements and enhancing customer satisfaction."
   ]
  },
  {
   "cell_type": "markdown",
   "metadata": {},
   "source": [
    "## Business Problem\n",
    "\n",
    "In the competitive landscape of the grocery and gourmet food market, understanding consumer preferences and addressing their concerns is crucial for maintaining customer satisfaction and driving sales. The primary business problem we aim to address in this analysis is the significant proportion of negative reviews for the \"Miracle Noodle Zero Carb, Gluten Free Shirataki Pasta, Spinach Angel Hair, 7-Ounce (Pack of 24)\" product. Despite having a large number of positive reviews, the negative feedback highlights potential areas for improvement that could enhance the overall customer experience and product quality.\n",
    "\n",
    "### Objectives of the Analysis\n",
    "\n",
    "1. **Identify Key Themes in Customer Reviews**:\n",
    "    - Utilize NLP techniques to uncover common themes and topics in both positive and negative reviews. Understanding these themes will help us identify what aspects of the product customers appreciate and what issues they frequently encounter.\n",
    "2. **Analyze Sentiment Trends**:\n",
    "    - Perform sentiment analysis to assess the overall emotional tone of the reviews. This analysis will reveal how customer sentiment correlates with star ratings and how it changes over time.\n",
    "3. **Extract Actionable Insights**:\n",
    "    - Based on the identified themes and sentiment trends, derive actionable insights that can inform product improvements and marketing strategies. The goal is to address customer concerns effectively and enhance the product features that customers value the most.\n",
    "4. **Provide Data-Driven Recommendations**:\n",
    "    - Offer specific, data-driven recommendations to the product team and stakeholders on how to improve the product and increase customer satisfaction. These recommendations will be grounded in the analysis of the reviews and will target the most critical areas for enhancement.\n",
    "\n",
    "### How Insights Will Be Used\n",
    "\n",
    "1. **Improve Product Quality**:\n",
    "    - Address specific issues mentioned in negative reviews, such as texture, smell, and ease of preparation. Implementing these improvements can reduce the proportion of negative reviews and enhance overall customer satisfaction.\n",
    "2. **Enhance Marketing Strategies**:\n",
    "    - Highlight the positive aspects frequently mentioned in high-rating reviews, such as health benefits and flavor, in marketing materials. This can attract more customers who prioritize these features.\n",
    "3. **Guide Product Development**:\n",
    "    - Use the detailed feedback from reviews to guide future product development and innovation. Understanding customer preferences can help in designing new products or variants that better meet customer needs.\n",
    "4. **Monitor Customer Sentiment**:\n",
    "    - Continuously monitor customer sentiment through ongoing analysis of new reviews. This will help in quickly identifying emerging issues and addressing them proactively.\n",
    "\n",
    "By achieving these objectives, we aim to transform customer feedback into actionable strategies that drive product improvement and enhance customer loyalty.\n"
   ]
  },
  {
   "cell_type": "markdown",
   "metadata": {},
   "source": [
    "\n",
    "## Introduction to Natural Language Processing (NLP)\n",
    "\n",
    "Natural Language Processing (NLP) is a dynamic subfield of artificial intelligence (AI) concerned with the interaction between computers and human language. It involves designing and applying algorithms and models that enable computers to understand, interpret, and generate human language in meaningful and useful ways.\n",
    "\n",
    "### Why NLP?\n",
    "\n",
    "Utilizing NLP to analyze customer reviews is invaluable because it allows us to:\n",
    "\n",
    "1. **Automate Text Analysis**: Manually sifting through millions of reviews is not feasible. NLP facilitates large-scale, automated text analysis.\n",
    "2. **Discover Hidden Insights**: NLP methods can detect subtle patterns, trends, and sentiments, providing insights that are not readily apparent through manual examination.\n",
    "3. **Enhance Decision Making**: By deepening our understanding of customer sentiments and preferences, NLP aids in making informed decisions to improve product offerings.\n",
    "\n",
    "### Key NLP Techniques Utilized in This Project\n",
    "\n",
    "1. **Text Preprocessing**:\n",
    "    - **Tokenization**: Splitting text into meaningful elements like words or sentences.\n",
    "    - **Lemmatization**: Condensing words to their base or dictionary form.\n",
    "    - **Stopword Removal**: Eliminating common words that add no significant value to text interpretation.\n",
    "2. **Sentiment Analysis**:\n",
    "    - **VADER (Valence Aware Dictionary and sEntiment Reasoner)**: Tailored for social media analysis, this tool assesses texts' emotional tone, providing scores across positive, negative, and neutral sentiments.\n",
    "3. **Topic Modeling**:\n",
    "    - **Latent Dirichlet Allocation (LDA)**: This technique identifies prevalent topics within a large corpus by modeling each document as a mixture of various topics and each topic as a combination of words.\n",
    "\n",
    "### Benefits of NLP in Review Analysis\n",
    "\n",
    "1. **Understanding Sentiments**: Ascertain the emotional undertones of reviews, which reflect consumers' feelings toward products.\n",
    "2. **Identifying Themes**: Uncover major themes in discussions, helping pinpoint what consumers like or dislike.\n",
    "3. **Driving Actionable Insights**: Analyze reviews on a large scale to identify areas for product improvement and meet customer demands more effectively."
   ]
  },
  {
   "cell_type": "markdown",
   "metadata": {},
   "source": [
    "## The Data\n",
    "\n",
    "### Data Preparation and Filtering\n",
    "\n",
    "Effective data preparation and filtering are critical steps in any data analysis project, particularly when working with large datasets. In this project, we use a subset of the Amazon Reviews dataset to analyze consumer preferences in the Grocery and Gourmet Food category. This section outlines the steps taken to prepare and filter the data for meaningful analysis.\n",
    "\n",
    "#### Data Overview\n",
    "\n",
    "- **Dataset**: Amazon Reviews (Jianmo et al., 2019)\n",
    "- **Subset**: Groceries & Gourmet Food category\n",
    "- **Total Reviews**: 5,074,160\n",
    "- **Product Metadata**: 287,209 Gourmet products\n",
    "\n",
    "Due to the large size of the raw data files, they were split into multiple CSV files to fit within the project repository constraints.\n",
    "\n",
    "#### Review Filtering\n",
    "\n",
    "1. **Filtering Products**:\n",
    "    - The metadata was filtered to retain only those products categorized under the `main_cat` of Grocery. This step ensures that our analysis focuses solely on relevant items within the targeted category.\n",
    "\n",
    "1. **Verified Purchases**:\n",
    "    - Only reviews that were verified purchases were kept. This filtering step helps ensure the authenticity and reliability of the reviews, as verified purchase reviews are more likely to be genuine reflections of customer experiences.\n",
    "\n",
    "#### Product Selection Criteria\n",
    "\n",
    "In the absence of a direct stakeholder, a systematic approach was adopted to identify a suitable product for analysis. The goal was to select a product with substantial feedback, both positive and negative, to provide a balanced perspective.\n",
    "\n",
    "1. **Common Products**:\n",
    "    - Products with a significant number of both 1-star and 5-star reviews were shortlisted.\n",
    "2. **Ranking by Reviews**:\n",
    "    - Each brand/product was ranked based on the number of 1-star and 5-star reviews. This ranking helped identify products that generated strong opinions, either positive or negative.\n",
    "3. **Final Selection**:\n",
    "    - The final product was chosen based on the largest proportion of 1-star reviews. This selection aims to delve deeper into critical feedback, uncovering areas of dissatisfaction that can provide valuable insights for product improvement.\n"
   ]
  },
  {
   "cell_type": "markdown",
   "metadata": {},
   "source": [
    "\n",
    "### Selected Product\n",
    "\n",
    "- **Product Title**: ***\"Miracle Noodle Zero Carb, Gluten Free Shirataki Pasta, Spinach Angel Hair, 7-Ounce (Pack of 24)\"***\n",
    "- **Brand**: Miracle Noodle\n",
    "- **Price**: $59.76\n",
    "- **Rank**: 119,683 in Grocery & Gourmet Food (2018)\n",
    "- **Categories**: Grocery & Gourmet Food; Pasta & Noodles; Noodles; Shirataki\n",
    "\n",
    "By carefully preparing and filtering the data, we ensure that our analysis is based on clean, relevant, and high-quality data. This thorough preparation enables us to derive meaningful insights that can guide strategic decisions and product enhancements. This careful selection ensures that our analysis is grounded in relevant and insightful data, enabling us to derive meaningful conclusions that can significantly impact product strategy and consumer satisfaction."
   ]
  },
  {
   "cell_type": "markdown",
   "metadata": {},
   "source": [
    "\n",
    "#### Overall Rating Distribution for Selected Product\n",
    "Miracle Noodle has a substantial number of 5-star reviews. However, a significant portion of reviews are also 1-star, highlighting potential issues with the product. Given the multi-year span of this dataset, it is crucial to examine trends in the average rating over time.\n",
    "\n",
    "![Overall Rating Distribution](images/01_histogram_reviews.png)\n",
    "\n",
    "#### Reviews Over Time\n",
    "The overall average customer rating has decreased year-over-year.\n",
    "\n",
    "![Average Rating by Year](images/02_avg_rating_by_year.png)\n",
    "\n",
    "Additionally, the proportion of 1-star reviews has increased, while 5-star reviews have decreased.\n",
    "\n",
    "![Count of Star Ratings by Year](images/03_count_stars_by_year.png)\n",
    "\n",
    "We will use the text from the customer reviews to provide insights into customer preferences and offer recommendations on how to improve the product.\n"
   ]
  },
  {
   "cell_type": "markdown",
   "metadata": {},
   "source": [
    "#### Reference\n",
    "\n",
    "**Justifying recommendations using distantly-labeled reviews and fined-grained aspects**\n",
    "Jianmo Ni, Jiacheng Li, Julian McAuley\n",
    "*Empirical Methods in Natural Language Processing (EMNLP)*, 2019\n"
   ]
  },
  {
   "cell_type": "markdown",
   "metadata": {},
   "source": [
    "## Methods and Techniques\n",
    "\n",
    "In this project, we employed various natural language processing (NLP) methods and techniques to analyze customer reviews and extract meaningful insights. Below is a brief introduction to each method used, along with an explanation of the rationale behind choosing these methods and their relevance to the analysis.\n",
    "\n",
    "### Text Preprocessing\n",
    "\n",
    "Before applying any advanced NLP techniques, we performed several preprocessing steps to clean and prepare the text data. These steps include:\n",
    "\n",
    "- **Tokenization**: Breaking down the text into individual words or tokens. This is the first step in text processing, making the data suitable for further analysis.\n",
    "- **Lemmatization**: Reducing words to their base or root form (e.g., \"running\" to \"run\"). This helps in normalizing the text and reducing the dimensionality of the data.\n",
    "- **Stopword Removal**: Removing common words that do not add significant meaning to the text (e.g., \"and\", \"the\"). This step helps in focusing on the more meaningful words in the text.\n",
    "\n",
    "These preprocessing steps are crucial as they ensure the text data is clean and structured, which improves the performance and accuracy of the subsequent NLP techniques.\n",
    "\n",
    "### Sentiment Analysis with VADER\n",
    "\n",
    "**VADER (Valence Aware Dictionary and sEntiment Reasoner)** is a tool specifically designed for sentiment analysis in social media texts. It is effective for analyzing the sentiment of reviews, news articles, and other user-generated content. VADER assigns a sentiment score to each\n",
    "\n",
    " piece of text based on a combination of lexical features and grammatical rules.\n",
    "\n",
    "- **Positive, Negative, and Neutral Scores**: VADER calculates individual scores for positive, negative, and neutral sentiments within a text.\n",
    "- **Compound Score**: A normalized, weighted composite score that summarizes the overall sentiment of the text. The compound score ranges from -1 (most extreme negative) to +1 (most extreme positive).\n",
    "\n",
    "**Rationale for Choosing VADER**:\n",
    "\n",
    "- **Handles Informal Language**: VADER is well-suited for analyzing informal language, emoticons, slang, and punctuation, which are common in customer reviews.\n",
    "- **Ease of Use**: It is simple to implement and provides clear sentiment scores, making it efficient for large-scale sentiment analysis.\n",
    "\n",
    "### Topic Modeling with LDA\n",
    "\n",
    "**Latent Dirichlet Allocation (LDA)** is a powerful unsupervised machine learning technique used for topic modeling. LDA helps in discovering the underlying topics present within a large collection of documents by identifying patterns in word usage.\n",
    "\n",
    "- **Identifying Themes**: LDA helps in automatically discovering the hidden thematic structure in a corpus of text. This is particularly useful for understanding large datasets of textual information without manually reading through every document.\n",
    "- **Dimensionality Reduction**: By representing documents as mixtures of topics, LDA effectively reduces the dimensionality of text data, making it easier to analyze and visualize.\n",
    "\n",
    "**Rationale for Choosing LDA**:\n",
    "\n",
    "- **Uncovering Hidden Topics**: LDA is effective at identifying the main themes and topics within a large set of reviews, providing insights into what customers frequently discuss.\n",
    "- **Improving Decision Making**: Understanding the main topics in customer reviews can provide valuable insights for decision-making, trend analysis, and strategic planning.\n"
   ]
  },
  {
   "cell_type": "markdown",
   "metadata": {},
   "source": [
    "## Exploratory Data Analysis\n"
   ]
  },
  {
   "cell_type": "markdown",
   "metadata": {},
   "source": [
    "\n",
    "### Class Balance (Binary Classification)\n",
    "\n",
    "The binary classification had a relatively even class balance.\n",
    "\n",
    "<img src=\"eda/class-balance.png\" width=60%>"
   ]
  },
  {
   "cell_type": "markdown",
   "metadata": {},
   "source": []
  },
  {
   "cell_type": "markdown",
   "metadata": {},
   "source": [
    "#### WordClouds (Bigrams)\n",
    "Preliminary review of the word clouds provides some hints as to what may underlie the 1-star reviews, although many of the same phrases appear for both groups. Quantifying trigrams or quadgrams may be a better approach to unveil the differences.\n",
    "\n",
    "\n",
    "<img src='images/05_wordclouds.png' width=90%>\n",
    "\n",
    "\n"
   ]
  },
  {
   "cell_type": "markdown",
   "metadata": {},
   "source": [
    "#### Most Frequent Trigrams\n",
    "We can see that there are complaints about the noodles feeling like chewing on rubber bands. There's also a clear mention of a smell that may or may not go away (as it appears in both groups). Further exploration of the texts via Scattertext (see app at the top of README) uncovers alternative opinions on how easy it is to address the smell.\n",
    "\n",
    "<img src=\"images/04_ngrams_by_group.png\" width=90%>\n"
   ]
  },
  {
   "cell_type": "markdown",
   "metadata": {},
   "source": []
  },
  {
   "cell_type": "markdown",
   "metadata": {},
   "source": [
    "### Sentiment Analysis\n",
    "The sentiment analysis reveals a clear correlation between the star ratings and the sentiment scores. Higher star ratings correspond to more positive sentiment, while lower star ratings show more negative sentiment. Text preprocessing significantly impacts sentiment scores, highlighting the importance of careful text preparation in sentiment analysis."
   ]
  },
  {
   "cell_type": "markdown",
   "metadata": {},
   "source": [
    "#### Introduction to Sentiment Analysis with VADER\n"
   ]
  },
  {
   "cell_type": "markdown",
   "metadata": {},
   "source": [
    "\n",
    "Sentiment analysis is a powerful technique in natural language processing (NLP) used to determine the emotional tone behind a body of text. It is widely applied to understand opinions, attitudes, and emotions expressed in reviews, social media, and other textual data. In this section, we will focus on sentiment analysis using the VADER (Valence Aware Dictionary and sEntiment Reasoner) tool.\n",
    "\n",
    "##### Why VADER?\n",
    "\n",
    "1. **Specifically Designed for Social Media Text**: VADER is particularly effective for texts found in social media, news articles, and online reviews, making it a great fit for our analysis.\n",
    "2. **Handles Emoticons, Slang, and Punctuation**: Unlike many traditional sentiment analysis tools, VADER can accurately interpret emoticons, slang, and punctuation, which are often prevalent in user-generated content.\n",
    "3. **Easy to Use**: VADER is simple to implement and provides clear sentiment scores, allowing for quick and efficient sentiment analysis.\n",
    "\n",
    "##### How VADER Works\n",
    "\n",
    "VADER assigns a sentiment score to a piece of text based on a combination of lexical features and grammatical rules. The main components include:\n",
    "\n",
    "1. **Positive, Negative, and Neutral Scores**: VADER calculates individual scores for positive, negative, and neutral sentiments within a text.\n",
    "2. **Compound Score**: A normalized, weighted composite score that summarizes the overall sentiment of the text. The compound score ranges from -1 (most extreme negative) to +1 (most extreme positive).\n"
   ]
  },
  {
   "cell_type": "markdown",
   "metadata": {},
   "source": [
    "<img src=\"eda/sentiment-rating-strip.png\" width=60%>\n",
    "\n",
    "The sentiment analysis reveals a clear correlation between the star ratings and the sentiment scores. Higher star ratings correspond to more positive sentiment, while lower star ratings show more negative sentiment. Text preprocessing significantly impacts sentiment scores, highlighting the importance of careful text preparation in sentiment analysis."
   ]
  },
  {
   "cell_type": "markdown",
   "metadata": {},
   "source": [
    "\n",
    "#### VADER Sentiment Analysis Visualization vs. Preprocessing\n",
    "\n",
    "\n",
    "Text preprocessing significantly impacts sentiment scores, highlighting the importance of careful text preparation in sentiment analysis.\n",
    "\n",
    "- **Sentiment Distribution**: A bar chart or strip plot showing the distribution of positive, negative, and neutral sentiment scores across the reviews. This helps in understanding the overall emotional tone of the reviews.\n",
    "- Its intereesting that the lemmatized text shows reduced neutral sentiment and increased positive sentiment, underscoring how vital text preprocessing choices are to the quality of the results.\n",
    "\n",
    "<img src=\"eda/sentiment-groups-bar.png\" width=80%>\n",
    "\n"
   ]
  },
  {
   "cell_type": "markdown",
   "metadata": {},
   "source": [
    "- **Comparion of Average Compound Sentiment Score vs. Preprocessing Options**\n",
    "- Its also interesting to see here that the low-rating reviews lose their overeall negatiivity following lemmatization, further highlighting the consequences of text preprocessing decisions."
   ]
  },
  {
   "cell_type": "markdown",
   "metadata": {},
   "source": [
    "\n",
    "\n",
    "<img src='eda/sentiment-overall-bar.png' width=60%>\n",
    "\n"
   ]
  },
  {
   "cell_type": "markdown",
   "metadata": {},
   "source": [
    "#### LDA Topic Modeling\n",
    "\n",
    "LDA topic modeling has identified distinct themes within the reviews. High-rating reviews focus on health benefits and positive sensory experiences, while low-rating reviews highlight texture and smell issues. These insights help in understanding the primary factors that influence customer satisfaction and dissatisfaction.\n",
    "\n",
    "\n"
   ]
  },
  {
   "cell_type": "markdown",
   "metadata": {},
   "source": [
    "\n",
    "\n",
    "#### LDA Topic Modeling Visualizations\n",
    "\n",
    "- **Intertopic Distance Map**: A multidimensional scaling plot showing the relationships between topics. Each circle represents a topic, with the size indicating prevalence and the distance indicating similarity between topics. Closer topics share more similar themes.\n",
    "\n",
    "\n",
    "\n"
   ]
  },
  {
   "cell_type": "code",
   "execution_count": 9,
   "metadata": {},
   "outputs": [
    {
     "data": {
      "text/markdown": [
       "<img src=\"eda/lda-viz-screenshot-high.png\">"
      ],
      "text/plain": [
       "<IPython.core.display.Markdown object>"
      ]
     },
     "metadata": {},
     "output_type": "display_data"
    }
   ],
   "source": [
    "display(Markdown(f\"<img src=\\\"{FPATHS['eda']['lda']['lda-viz-screenshot-high_png']}\\\">\"))\n"
   ]
  },
  {
   "cell_type": "markdown",
   "metadata": {},
   "source": [
    "\n",
    "- **Top Terms per Topic**: A table displaying the most relevant terms for each topic. This visualization helps in understanding the key words that define each topic and provides insights into the themes discussed in the reviews.\n"
   ]
  },
  {
   "cell_type": "code",
   "execution_count": null,
   "metadata": {},
   "outputs": [
    {
     "data": {
      "text/markdown": [
       "### LDA Results for High Ratings\n",
       "\n",
       "#### High Rating Reviews Topics:\n",
       "|   Topic | group               | Word 1          | Word 2          | Word 3         | Word 4         | Word 5           | Word 6         | Word 7         | Word 8           | Word 9           | Word 10          |\n",
       "|--------:|:--------------------|:----------------|:----------------|:---------------|:---------------|:-----------------|:---------------|:---------------|:-----------------|:-----------------|:-----------------|\n",
       "|       1 | High Rating Reviews | rice (0.0360)   | noodle (0.0330) | pasta (0.0220) | like (0.0200)  | carb (0.0190)    | rinse (0.0140) | good (0.0120)  | dish (0.0120)    | sauce (0.0120)   | love (0.0110)    |\n",
       "|       2 | High Rating Reviews | noodle (0.0390) | like (0.0290)   | pasta (0.0180) | smell (0.0170) | great (0.0150)   | sauce (0.0140) | taste (0.0140) | calorie (0.0130) | texture (0.0130) | rinse (0.0120)   |\n",
       "|       3 | High Rating Reviews | noodle (0.0240) | love (0.0220)   | sauce (0.0180) | pasta (0.0170) | calorie (0.0140) | free (0.0120)  | taste (0.0110) | flavor (0.0110)  | minute (0.0110)  | smell (0.0100)   |\n",
       "|       4 | High Rating Reviews | great (0.0740)  | star (0.0620)   | love (0.0400)  | carb (0.0380)  | noodle (0.0320)  | good (0.0310)  | pasta (0.0300) | product (0.0260) | taste (0.0230)   | diet (0.0160)    |\n",
       "|       5 | High Rating Reviews | noodle (0.0530) | smell (0.0190)  | rinse (0.0180) | like (0.0170)  | taste (0.0150)   | good (0.0140)  | sauce (0.0140) | water (0.0120)   | pasta (0.0110)   | texture (0.0110) |\n",
       "\n",
       "- Topic 1\n",
       "  - Descriptive Label: Carb-Rich Dishes\n",
       "  - Top Words: rice, noodle, pasta, like, carb, rinse, good, dish, sauce, love\n",
       "  - Short Insight: This topic focuses on high-carb dishes such as rice, noodles, and pasta, with positive sentiments like \"good\" and \"love\" indicating high satisfaction.\n",
       "\n",
       "- Topic 2\n",
       "  - Descriptive Label: Flavor and Texture\n",
       "  - Top Words: noodle, like, pasta, smell, great, sauce, taste, calorie, texture, rinse\n",
       "  - Short Insight: This topic highlights the importance of flavor and texture in high-rated reviews, with frequent mentions of noodles, pasta, and sauce, along with positive descriptors like \"great\" and \"taste.\"\n",
       "\n",
       "- Topic 3\n",
       "  - Descriptive Label: Low-Calorie Favorites\n",
       "  - Top Words: noodle, love, sauce, pasta, calorie, free, taste, flavor, minute, smell\n",
       "  - Short Insight: This topic centers around low-calorie dishes that are well-loved, with frequent mentions of noodles, pasta, and sauce, and positive sentiments like \"love\" and \"flavor.\"\n",
       "\n",
       "- Topic 4\n",
       "  - Descriptive Label: Overall Satisfaction\n",
       "  - Top Words: great, star, love, carb, noodle, good, pasta, product, taste, diet\n",
       "  - Short Insight: This topic reflects overall satisfaction with products, emphasizing high ratings (\"star\"), love for the product, and mentions of carbs, noodles, and pasta.\n",
       "\n",
       "- Topic 5\n",
       "  - Descriptive Label: Sensory Experience\n",
       "  - Top Words: noodle, smell, rinse, like, taste, good, sauce, water, pasta, texture\n",
       "  - Short Insight: This topic focuses on the sensory experience of food, with frequent mentions of smell, taste, and texture, particularly in relation to noodles and pasta."
      ],
      "text/plain": [
       "<IPython.core.display.Markdown object>"
      ]
     },
     "metadata": {},
     "output_type": "display_data"
    }
   ],
   "source": [
    "### TEMP: Loading LDA markdown\n",
    "with open(FPATHS['eda']['lda']['lda-topics-high_md']) as f:\n",
    "    lda_topics_high = f.read()\n",
    "\n",
    "# lda_viz_high=f\"<img src=\\\"{FPATHS['eda']['lda']['lda-viz-screenshot-high_png']}\\\">\"    \n",
    "\n",
    "# Combine into 1 mardkwn string for high ratings\n",
    "lda_results_high = \"### LDA Results for High Ratings\\n\\n\"\n",
    "lda_results_high += lda_topics_high\n",
    "# lda_results_high += lda_viz_high\n",
    "display(Markdown(lda_results_high))\n"
   ]
  },
  {
   "cell_type": "code",
   "execution_count": 13,
   "metadata": {},
   "outputs": [
    {
     "data": {
      "text/markdown": [
       "<img src=\"eda/lda-viz-screenshot-low.png\">"
      ],
      "text/plain": [
       "<IPython.core.display.Markdown object>"
      ]
     },
     "metadata": {},
     "output_type": "display_data"
    },
    {
     "data": {
      "text/markdown": [
       "### LDA Results for Low Ratings\n",
       "\n",
       "### Low Rating Reviews Topics:\n",
       "|   Topic | group              | Word 1          | Word 2           | Word 3           | Word 4           | Word 5         | Word 6           | Word 7              | Word 8           | Word 9            | Word 10        |\n",
       "|--------:|:-------------------|:----------------|:-----------------|:-----------------|:-----------------|:---------------|:-----------------|:--------------------|:-----------------|:------------------|:---------------|\n",
       "|       1 | Low Rating Reviews | noodle (0.0220) | taste (0.0190)   | time (0.0180)    | like (0.0180)    | eat (0.0100)   | good (0.0100)    | cook (0.0100)       | slimy (0.0090)   | flavor (0.0090)   | want (0.0090)  |\n",
       "|       2 | Low Rating Reviews | like (0.0560)   | texture (0.0330) | noodle (0.0240)  | rice (0.0190)    | smell (0.0180) | rubber (0.0180)  | taste (0.0110)      | weird (0.0110)   | eat (0.0110)      | cook (0.0100)  |\n",
       "|       3 | Low Rating Reviews | smell (0.0560)  | like (0.0520)    | texture (0.0420) | taste (0.0400)   | Star (0.0330)  | fish (0.0280)    | noodle (0.0200)     | product (0.0180) | horrible (0.0130) | good (0.0110)  |\n",
       "|       4 | Low Rating Reviews | noodle (0.0330) | like (0.0320)    | texture (0.0250) | taste (0.0190)   | gross (0.0160) | star (0.0130)    | disgusting (0.0130) | pasta (0.0120)   | try (0.0120)      | good (0.0120)  |\n",
       "|       5 | Low Rating Reviews | taste (0.0350)  | noodle (0.0310)  | like (0.0300)    | package (0.0130) | try (0.0130)   | product (0.0120) | texture (0.0120)    | smell (0.0120)   | rice (0.0100)     | order (0.0100) |\n",
       "\n",
       "- Topic 1\n",
       "  - Descriptive Label: Unpleasant Noodle Experience\n",
       "  - Top Words: noodle, taste, time, like, eat, good, cook, slimy, flavor, want\n",
       "  - Short Insight: Reviews in this topic highlight dissatisfaction with the taste and texture of noodles, often described as slimy and lacking in flavor.\n",
       "\n",
       "- Topic 2\n",
       "  - Descriptive Label: Texture and Smell Issues\n",
       "  - Top Words: like, texture, noodle, rice, smell, rubber, taste, weird, eat, cook\n",
       "  - Short Insight: This topic focuses on negative feedback regarding the texture and smell of the product, with some reviewers comparing it to rubber and describing it as weird.\n",
       "\n",
       "- Topic 3\n",
       "  - Descriptive Label: Strong Odor and Poor Taste\n",
       "  - Top Words: smell, like, texture, taste, Star, fish, noodle, product, horrible, good\n",
       "  - Short Insight: Reviews in this topic emphasize a strong, unpleasant odor and poor taste, often mentioning a fishy smell and describing the product as horrible.\n",
       "\n",
       "- Topic 4\n",
       "  - Descriptive Label: Disgusting Noodle Texture\n",
       "  - Top Words: noodle, like, texture, taste, gross, star, disgusting, pasta, try, good\n",
       "  - Short Insight: This topic captures reviews that find the noodle texture disgusting and gross, with some reviewers expressing regret over trying the product.\n",
       "\n",
       "- Topic 5\n",
       "  - Descriptive Label: General Disappointment\n",
       "  - Top Words: taste, noodle, like, package, try, product, texture, smell, rice, order\n",
       "  - Short Insight: This topic reflects a general sense of disappointment with the product, mentioning issues with taste, texture, and packaging, and expressing dissatisfaction with the overall experience."
      ],
      "text/plain": [
       "<IPython.core.display.Markdown object>"
      ]
     },
     "metadata": {},
     "output_type": "display_data"
    }
   ],
   "source": [
    "\n",
    "\n",
    "lda_viz_low=f\"<img src=\\\"{FPATHS['eda']['lda']['lda-viz-screenshot-low_png']}\\\">\"    \n",
    "display(Markdown(lda_viz_low))\n",
    "### TEMP: Loading LDA markdown\n",
    "with open(FPATHS['eda']['lda']['lda-topics-low_md']) as f:\n",
    "    lda_topics_low = f.read()\n",
    "    \n",
    "# Combine into 1 mardkwn string for low ratings\n",
    "lda_results_low = \"### LDA Results for Low Ratings\\n\\n\"\n",
    "lda_results_low += lda_topics_low\n",
    "# lda_results_low += lda_viz_low\n",
    "display(Markdown(lda_results_low))\n"
   ]
  },
  {
   "cell_type": "markdown",
   "metadata": {},
   "source": [
    "## Modeling Results\n",
    "\n",
    "### Machine Learning Text Classification\n",
    "Several machine learning models were developed and evaluated to classify the Amazon reviews into high and low sentiment categories. The models used include:\n",
    "\n",
    "- **Dummy Classifier**: A baseline model for comparison.\n",
    "- **Naive Bayes**: A probabilistic classifier.\n",
    "- **Logistic Regression**: A linear model for binary classification.\n",
    "- **Random Forest**: An ensemble model using decision trees.\n",
    "- **Support Vector Classifier (SVC)**: A linear SVM model.\n",
    "\n",
    "\n"
   ]
  },
  {
   "cell_type": "markdown",
   "metadata": {},
   "source": [
    "\n",
    "#### Best Model\n",
    "The best-performing model was the Logistic Regression model using Tfidf Vectorization for preprocessing. Below are the classification metrics for the training and test data.\n",
    "\n"
   ]
  },
  {
   "cell_type": "code",
   "execution_count": null,
   "metadata": {},
   "outputs": [
    {
     "data": {
      "text/html": [
       "<style>#sk-container-id-3 {\n",
       "  /* Definition of color scheme common for light and dark mode */\n",
       "  --sklearn-color-text: black;\n",
       "  --sklearn-color-line: gray;\n",
       "  /* Definition of color scheme for unfitted estimators */\n",
       "  --sklearn-color-unfitted-level-0: #fff5e6;\n",
       "  --sklearn-color-unfitted-level-1: #f6e4d2;\n",
       "  --sklearn-color-unfitted-level-2: #ffe0b3;\n",
       "  --sklearn-color-unfitted-level-3: chocolate;\n",
       "  /* Definition of color scheme for fitted estimators */\n",
       "  --sklearn-color-fitted-level-0: #f0f8ff;\n",
       "  --sklearn-color-fitted-level-1: #d4ebff;\n",
       "  --sklearn-color-fitted-level-2: #b3dbfd;\n",
       "  --sklearn-color-fitted-level-3: cornflowerblue;\n",
       "\n",
       "  /* Specific color for light theme */\n",
       "  --sklearn-color-text-on-default-background: var(--sg-text-color, var(--theme-code-foreground, var(--jp-content-font-color1, black)));\n",
       "  --sklearn-color-background: var(--sg-background-color, var(--theme-background, var(--jp-layout-color0, white)));\n",
       "  --sklearn-color-border-box: var(--sg-text-color, var(--theme-code-foreground, var(--jp-content-font-color1, black)));\n",
       "  --sklearn-color-icon: #696969;\n",
       "\n",
       "  @media (prefers-color-scheme: dark) {\n",
       "    /* Redefinition of color scheme for dark theme */\n",
       "    --sklearn-color-text-on-default-background: var(--sg-text-color, var(--theme-code-foreground, var(--jp-content-font-color1, white)));\n",
       "    --sklearn-color-background: var(--sg-background-color, var(--theme-background, var(--jp-layout-color0, #111)));\n",
       "    --sklearn-color-border-box: var(--sg-text-color, var(--theme-code-foreground, var(--jp-content-font-color1, white)));\n",
       "    --sklearn-color-icon: #878787;\n",
       "  }\n",
       "}\n",
       "\n",
       "#sk-container-id-3 {\n",
       "  color: var(--sklearn-color-text);\n",
       "}\n",
       "\n",
       "#sk-container-id-3 pre {\n",
       "  padding: 0;\n",
       "}\n",
       "\n",
       "#sk-container-id-3 input.sk-hidden--visually {\n",
       "  border: 0;\n",
       "  clip: rect(1px 1px 1px 1px);\n",
       "  clip: rect(1px, 1px, 1px, 1px);\n",
       "  height: 1px;\n",
       "  margin: -1px;\n",
       "  overflow: hidden;\n",
       "  padding: 0;\n",
       "  position: absolute;\n",
       "  width: 1px;\n",
       "}\n",
       "\n",
       "#sk-container-id-3 div.sk-dashed-wrapped {\n",
       "  border: 1px dashed var(--sklearn-color-line);\n",
       "  margin: 0 0.4em 0.5em 0.4em;\n",
       "  box-sizing: border-box;\n",
       "  padding-bottom: 0.4em;\n",
       "  background-color: var(--sklearn-color-background);\n",
       "}\n",
       "\n",
       "#sk-container-id-3 div.sk-container {\n",
       "  /* jupyter's `normalize.less` sets `[hidden] { display: none; }`\n",
       "     but bootstrap.min.css set `[hidden] { display: none !important; }`\n",
       "     so we also need the `!important` here to be able to override the\n",
       "     default hidden behavior on the sphinx rendered scikit-learn.org.\n",
       "     See: https://github.com/scikit-learn/scikit-learn/issues/21755 */\n",
       "  display: inline-block !important;\n",
       "  position: relative;\n",
       "}\n",
       "\n",
       "#sk-container-id-3 div.sk-text-repr-fallback {\n",
       "  display: none;\n",
       "}\n",
       "\n",
       "div.sk-parallel-item,\n",
       "div.sk-serial,\n",
       "div.sk-item {\n",
       "  /* draw centered vertical line to link estimators */\n",
       "  background-image: linear-gradient(var(--sklearn-color-text-on-default-background), var(--sklearn-color-text-on-default-background));\n",
       "  background-size: 2px 100%;\n",
       "  background-repeat: no-repeat;\n",
       "  background-position: center center;\n",
       "}\n",
       "\n",
       "/* Parallel-specific style estimator block */\n",
       "\n",
       "#sk-container-id-3 div.sk-parallel-item::after {\n",
       "  content: \"\";\n",
       "  width: 100%;\n",
       "  border-bottom: 2px solid var(--sklearn-color-text-on-default-background);\n",
       "  flex-grow: 1;\n",
       "}\n",
       "\n",
       "#sk-container-id-3 div.sk-parallel {\n",
       "  display: flex;\n",
       "  align-items: stretch;\n",
       "  justify-content: center;\n",
       "  background-color: var(--sklearn-color-background);\n",
       "  position: relative;\n",
       "}\n",
       "\n",
       "#sk-container-id-3 div.sk-parallel-item {\n",
       "  display: flex;\n",
       "  flex-direction: column;\n",
       "}\n",
       "\n",
       "#sk-container-id-3 div.sk-parallel-item:first-child::after {\n",
       "  align-self: flex-end;\n",
       "  width: 50%;\n",
       "}\n",
       "\n",
       "#sk-container-id-3 div.sk-parallel-item:last-child::after {\n",
       "  align-self: flex-start;\n",
       "  width: 50%;\n",
       "}\n",
       "\n",
       "#sk-container-id-3 div.sk-parallel-item:only-child::after {\n",
       "  width: 0;\n",
       "}\n",
       "\n",
       "/* Serial-specific style estimator block */\n",
       "\n",
       "#sk-container-id-3 div.sk-serial {\n",
       "  display: flex;\n",
       "  flex-direction: column;\n",
       "  align-items: center;\n",
       "  background-color: var(--sklearn-color-background);\n",
       "  padding-right: 1em;\n",
       "  padding-left: 1em;\n",
       "}\n",
       "\n",
       "\n",
       "/* Toggleable style: style used for estimator/Pipeline/ColumnTransformer box that is\n",
       "clickable and can be expanded/collapsed.\n",
       "- Pipeline and ColumnTransformer use this feature and define the default style\n",
       "- Estimators will overwrite some part of the style using the `sk-estimator` class\n",
       "*/\n",
       "\n",
       "/* Pipeline and ColumnTransformer style (default) */\n",
       "\n",
       "#sk-container-id-3 div.sk-toggleable {\n",
       "  /* Default theme specific background. It is overwritten whether we have a\n",
       "  specific estimator or a Pipeline/ColumnTransformer */\n",
       "  background-color: var(--sklearn-color-background);\n",
       "}\n",
       "\n",
       "/* Toggleable label */\n",
       "#sk-container-id-3 label.sk-toggleable__label {\n",
       "  cursor: pointer;\n",
       "  display: block;\n",
       "  width: 100%;\n",
       "  margin-bottom: 0;\n",
       "  padding: 0.5em;\n",
       "  box-sizing: border-box;\n",
       "  text-align: center;\n",
       "}\n",
       "\n",
       "#sk-container-id-3 label.sk-toggleable__label-arrow:before {\n",
       "  /* Arrow on the left of the label */\n",
       "  content: \"▸\";\n",
       "  float: left;\n",
       "  margin-right: 0.25em;\n",
       "  color: var(--sklearn-color-icon);\n",
       "}\n",
       "\n",
       "#sk-container-id-3 label.sk-toggleable__label-arrow:hover:before {\n",
       "  color: var(--sklearn-color-text);\n",
       "}\n",
       "\n",
       "/* Toggleable content - dropdown */\n",
       "\n",
       "#sk-container-id-3 div.sk-toggleable__content {\n",
       "  max-height: 0;\n",
       "  max-width: 0;\n",
       "  overflow: hidden;\n",
       "  text-align: left;\n",
       "  /* unfitted */\n",
       "  background-color: var(--sklearn-color-unfitted-level-0);\n",
       "}\n",
       "\n",
       "#sk-container-id-3 div.sk-toggleable__content.fitted {\n",
       "  /* fitted */\n",
       "  background-color: var(--sklearn-color-fitted-level-0);\n",
       "}\n",
       "\n",
       "#sk-container-id-3 div.sk-toggleable__content pre {\n",
       "  margin: 0.2em;\n",
       "  border-radius: 0.25em;\n",
       "  color: var(--sklearn-color-text);\n",
       "  /* unfitted */\n",
       "  background-color: var(--sklearn-color-unfitted-level-0);\n",
       "}\n",
       "\n",
       "#sk-container-id-3 div.sk-toggleable__content.fitted pre {\n",
       "  /* unfitted */\n",
       "  background-color: var(--sklearn-color-fitted-level-0);\n",
       "}\n",
       "\n",
       "#sk-container-id-3 input.sk-toggleable__control:checked~div.sk-toggleable__content {\n",
       "  /* Expand drop-down */\n",
       "  max-height: 200px;\n",
       "  max-width: 100%;\n",
       "  overflow: auto;\n",
       "}\n",
       "\n",
       "#sk-container-id-3 input.sk-toggleable__control:checked~label.sk-toggleable__label-arrow:before {\n",
       "  content: \"▾\";\n",
       "}\n",
       "\n",
       "/* Pipeline/ColumnTransformer-specific style */\n",
       "\n",
       "#sk-container-id-3 div.sk-label input.sk-toggleable__control:checked~label.sk-toggleable__label {\n",
       "  color: var(--sklearn-color-text);\n",
       "  background-color: var(--sklearn-color-unfitted-level-2);\n",
       "}\n",
       "\n",
       "#sk-container-id-3 div.sk-label.fitted input.sk-toggleable__control:checked~label.sk-toggleable__label {\n",
       "  background-color: var(--sklearn-color-fitted-level-2);\n",
       "}\n",
       "\n",
       "/* Estimator-specific style */\n",
       "\n",
       "/* Colorize estimator box */\n",
       "#sk-container-id-3 div.sk-estimator input.sk-toggleable__control:checked~label.sk-toggleable__label {\n",
       "  /* unfitted */\n",
       "  background-color: var(--sklearn-color-unfitted-level-2);\n",
       "}\n",
       "\n",
       "#sk-container-id-3 div.sk-estimator.fitted input.sk-toggleable__control:checked~label.sk-toggleable__label {\n",
       "  /* fitted */\n",
       "  background-color: var(--sklearn-color-fitted-level-2);\n",
       "}\n",
       "\n",
       "#sk-container-id-3 div.sk-label label.sk-toggleable__label,\n",
       "#sk-container-id-3 div.sk-label label {\n",
       "  /* The background is the default theme color */\n",
       "  color: var(--sklearn-color-text-on-default-background);\n",
       "}\n",
       "\n",
       "/* On hover, darken the color of the background */\n",
       "#sk-container-id-3 div.sk-label:hover label.sk-toggleable__label {\n",
       "  color: var(--sklearn-color-text);\n",
       "  background-color: var(--sklearn-color-unfitted-level-2);\n",
       "}\n",
       "\n",
       "/* Label box, darken color on hover, fitted */\n",
       "#sk-container-id-3 div.sk-label.fitted:hover label.sk-toggleable__label.fitted {\n",
       "  color: var(--sklearn-color-text);\n",
       "  background-color: var(--sklearn-color-fitted-level-2);\n",
       "}\n",
       "\n",
       "/* Estimator label */\n",
       "\n",
       "#sk-container-id-3 div.sk-label label {\n",
       "  font-family: monospace;\n",
       "  font-weight: bold;\n",
       "  display: inline-block;\n",
       "  line-height: 1.2em;\n",
       "}\n",
       "\n",
       "#sk-container-id-3 div.sk-label-container {\n",
       "  text-align: center;\n",
       "}\n",
       "\n",
       "/* Estimator-specific */\n",
       "#sk-container-id-3 div.sk-estimator {\n",
       "  font-family: monospace;\n",
       "  border: 1px dotted var(--sklearn-color-border-box);\n",
       "  border-radius: 0.25em;\n",
       "  box-sizing: border-box;\n",
       "  margin-bottom: 0.5em;\n",
       "  /* unfitted */\n",
       "  background-color: var(--sklearn-color-unfitted-level-0);\n",
       "}\n",
       "\n",
       "#sk-container-id-3 div.sk-estimator.fitted {\n",
       "  /* fitted */\n",
       "  background-color: var(--sklearn-color-fitted-level-0);\n",
       "}\n",
       "\n",
       "/* on hover */\n",
       "#sk-container-id-3 div.sk-estimator:hover {\n",
       "  /* unfitted */\n",
       "  background-color: var(--sklearn-color-unfitted-level-2);\n",
       "}\n",
       "\n",
       "#sk-container-id-3 div.sk-estimator.fitted:hover {\n",
       "  /* fitted */\n",
       "  background-color: var(--sklearn-color-fitted-level-2);\n",
       "}\n",
       "\n",
       "/* Specification for estimator info (e.g. \"i\" and \"?\") */\n",
       "\n",
       "/* Common style for \"i\" and \"?\" */\n",
       "\n",
       ".sk-estimator-doc-link,\n",
       "a:link.sk-estimator-doc-link,\n",
       "a:visited.sk-estimator-doc-link {\n",
       "  float: right;\n",
       "  font-size: smaller;\n",
       "  line-height: 1em;\n",
       "  font-family: monospace;\n",
       "  background-color: var(--sklearn-color-background);\n",
       "  border-radius: 1em;\n",
       "  height: 1em;\n",
       "  width: 1em;\n",
       "  text-decoration: none !important;\n",
       "  margin-left: 1ex;\n",
       "  /* unfitted */\n",
       "  border: var(--sklearn-color-unfitted-level-1) 1pt solid;\n",
       "  color: var(--sklearn-color-unfitted-level-1);\n",
       "}\n",
       "\n",
       ".sk-estimator-doc-link.fitted,\n",
       "a:link.sk-estimator-doc-link.fitted,\n",
       "a:visited.sk-estimator-doc-link.fitted {\n",
       "  /* fitted */\n",
       "  border: var(--sklearn-color-fitted-level-1) 1pt solid;\n",
       "  color: var(--sklearn-color-fitted-level-1);\n",
       "}\n",
       "\n",
       "/* On hover */\n",
       "div.sk-estimator:hover .sk-estimator-doc-link:hover,\n",
       ".sk-estimator-doc-link:hover,\n",
       "div.sk-label-container:hover .sk-estimator-doc-link:hover,\n",
       ".sk-estimator-doc-link:hover {\n",
       "  /* unfitted */\n",
       "  background-color: var(--sklearn-color-unfitted-level-3);\n",
       "  color: var(--sklearn-color-background);\n",
       "  text-decoration: none;\n",
       "}\n",
       "\n",
       "div.sk-estimator.fitted:hover .sk-estimator-doc-link.fitted:hover,\n",
       ".sk-estimator-doc-link.fitted:hover,\n",
       "div.sk-label-container:hover .sk-estimator-doc-link.fitted:hover,\n",
       ".sk-estimator-doc-link.fitted:hover {\n",
       "  /* fitted */\n",
       "  background-color: var(--sklearn-color-fitted-level-3);\n",
       "  color: var(--sklearn-color-background);\n",
       "  text-decoration: none;\n",
       "}\n",
       "\n",
       "/* Span, style for the box shown on hovering the info icon */\n",
       ".sk-estimator-doc-link span {\n",
       "  display: none;\n",
       "  z-index: 9999;\n",
       "  position: relative;\n",
       "  font-weight: normal;\n",
       "  right: .2ex;\n",
       "  padding: .5ex;\n",
       "  margin: .5ex;\n",
       "  width: min-content;\n",
       "  min-width: 20ex;\n",
       "  max-width: 50ex;\n",
       "  color: var(--sklearn-color-text);\n",
       "  box-shadow: 2pt 2pt 4pt #999;\n",
       "  /* unfitted */\n",
       "  background: var(--sklearn-color-unfitted-level-0);\n",
       "  border: .5pt solid var(--sklearn-color-unfitted-level-3);\n",
       "}\n",
       "\n",
       ".sk-estimator-doc-link.fitted span {\n",
       "  /* fitted */\n",
       "  background: var(--sklearn-color-fitted-level-0);\n",
       "  border: var(--sklearn-color-fitted-level-3);\n",
       "}\n",
       "\n",
       ".sk-estimator-doc-link:hover span {\n",
       "  display: block;\n",
       "}\n",
       "\n",
       "/* \"?\"-specific style due to the `<a>` HTML tag */\n",
       "\n",
       "#sk-container-id-3 a.estimator_doc_link {\n",
       "  float: right;\n",
       "  font-size: 1rem;\n",
       "  line-height: 1em;\n",
       "  font-family: monospace;\n",
       "  background-color: var(--sklearn-color-background);\n",
       "  border-radius: 1rem;\n",
       "  height: 1rem;\n",
       "  width: 1rem;\n",
       "  text-decoration: none;\n",
       "  /* unfitted */\n",
       "  color: var(--sklearn-color-unfitted-level-1);\n",
       "  border: var(--sklearn-color-unfitted-level-1) 1pt solid;\n",
       "}\n",
       "\n",
       "#sk-container-id-3 a.estimator_doc_link.fitted {\n",
       "  /* fitted */\n",
       "  border: var(--sklearn-color-fitted-level-1) 1pt solid;\n",
       "  color: var(--sklearn-color-fitted-level-1);\n",
       "}\n",
       "\n",
       "/* On hover */\n",
       "#sk-container-id-3 a.estimator_doc_link:hover {\n",
       "  /* unfitted */\n",
       "  background-color: var(--sklearn-color-unfitted-level-3);\n",
       "  color: var(--sklearn-color-background);\n",
       "  text-decoration: none;\n",
       "}\n",
       "\n",
       "#sk-container-id-3 a.estimator_doc_link.fitted:hover {\n",
       "  /* fitted */\n",
       "  background-color: var(--sklearn-color-fitted-level-3);\n",
       "}\n",
       "</style><div id=\"sk-container-id-3\" class=\"sk-top-container\"><div class=\"sk-text-repr-fallback\"><pre>Pipeline(steps=[(&#x27;vectorizer&#x27;, TfidfVectorizer(ngram_range=(1, 2))),\n",
       "                (&#x27;clf&#x27;, LogisticRegressionCV(max_iter=200))])</pre><b>In a Jupyter environment, please rerun this cell to show the HTML representation or trust the notebook. <br />On GitHub, the HTML representation is unable to render, please try loading this page with nbviewer.org.</b></div><div class=\"sk-container\" hidden><div class=\"sk-item sk-dashed-wrapped\"><div class=\"sk-label-container\"><div class=\"sk-label fitted sk-toggleable\"><input class=\"sk-toggleable__control sk-hidden--visually\" id=\"sk-estimator-id-7\" type=\"checkbox\" ><label for=\"sk-estimator-id-7\" class=\"sk-toggleable__label fitted sk-toggleable__label-arrow fitted\">&nbsp;&nbsp;Pipeline<a class=\"sk-estimator-doc-link fitted\" rel=\"noreferrer\" target=\"_blank\" href=\"https://scikit-learn.org/1.4/modules/generated/sklearn.pipeline.Pipeline.html\">?<span>Documentation for Pipeline</span></a><span class=\"sk-estimator-doc-link fitted\">i<span>Fitted</span></span></label><div class=\"sk-toggleable__content fitted\"><pre>Pipeline(steps=[(&#x27;vectorizer&#x27;, TfidfVectorizer(ngram_range=(1, 2))),\n",
       "                (&#x27;clf&#x27;, LogisticRegressionCV(max_iter=200))])</pre></div> </div></div><div class=\"sk-serial\"><div class=\"sk-item\"><div class=\"sk-estimator fitted sk-toggleable\"><input class=\"sk-toggleable__control sk-hidden--visually\" id=\"sk-estimator-id-8\" type=\"checkbox\" ><label for=\"sk-estimator-id-8\" class=\"sk-toggleable__label fitted sk-toggleable__label-arrow fitted\">&nbsp;TfidfVectorizer<a class=\"sk-estimator-doc-link fitted\" rel=\"noreferrer\" target=\"_blank\" href=\"https://scikit-learn.org/1.4/modules/generated/sklearn.feature_extraction.text.TfidfVectorizer.html\">?<span>Documentation for TfidfVectorizer</span></a></label><div class=\"sk-toggleable__content fitted\"><pre>TfidfVectorizer(ngram_range=(1, 2))</pre></div> </div></div><div class=\"sk-item\"><div class=\"sk-estimator fitted sk-toggleable\"><input class=\"sk-toggleable__control sk-hidden--visually\" id=\"sk-estimator-id-9\" type=\"checkbox\" ><label for=\"sk-estimator-id-9\" class=\"sk-toggleable__label fitted sk-toggleable__label-arrow fitted\">&nbsp;LogisticRegressionCV<a class=\"sk-estimator-doc-link fitted\" rel=\"noreferrer\" target=\"_blank\" href=\"https://scikit-learn.org/1.4/modules/generated/sklearn.linear_model.LogisticRegressionCV.html\">?<span>Documentation for LogisticRegressionCV</span></a></label><div class=\"sk-toggleable__content fitted\"><pre>LogisticRegressionCV(max_iter=200)</pre></div> </div></div></div></div></div></div>"
      ],
      "text/plain": [
       "Pipeline(steps=[('vectorizer', TfidfVectorizer(ngram_range=(1, 2))),\n",
       "                ('clf', LogisticRegressionCV(max_iter=200))])"
      ]
     },
     "metadata": {},
     "output_type": "display_data"
    }
   ],
   "source": [
    "from sklearn.utils import estimator_html_repr\n",
    "from IPython.display import HTML\n",
    "diagram = results_dict['model']\n",
    "diagram"
   ]
  },
  {
   "cell_type": "code",
   "execution_count": null,
   "metadata": {},
   "outputs": [
    {
     "name": "stdout",
     "output_type": "stream",
     "text": [
      "----------------------------------------------------------------------\n",
      " Classification Metrics: Training Data\n",
      "----------------------------------------------------------------------\n",
      "              precision    recall  f1-score   support\n",
      "\n",
      "           0       1.00      1.00      1.00      1376\n",
      "           1       1.00      1.00      1.00      1102\n",
      "\n",
      "    accuracy                           1.00      2478\n",
      "   macro avg       1.00      1.00      1.00      2478\n",
      "weighted avg       1.00      1.00      1.00      2478\n",
      "\n",
      "\n",
      "\n"
     ]
    },
    {
     "data": {
      "image/png": "[encoded data removed]",
      "text/plain": [
       "<Figure size 800x400 with 2 Axes>"
      ]
     },
     "metadata": {},
     "output_type": "display_data"
    }
   ],
   "source": [
    "print(results_dict['train']['classification_report'])\n",
    "fig = results_dict['train']['confusion_matrix']\n",
    "fig"
   ]
  },
  {
   "cell_type": "code",
   "execution_count": null,
   "metadata": {},
   "outputs": [
    {
     "name": "stdout",
     "output_type": "stream",
     "text": [
      "----------------------------------------------------------------------\n",
      " Classification Metrics: Test Data\n",
      "----------------------------------------------------------------------\n",
      "              precision    recall  f1-score   support\n",
      "\n",
      "           0       0.96      0.97      0.96       492\n",
      "           1       0.95      0.93      0.94       335\n",
      "\n",
      "    accuracy                           0.96       827\n",
      "   macro avg       0.96      0.95      0.95       827\n",
      "weighted avg       0.96      0.96      0.96       827\n",
      "\n",
      "\n",
      "\n"
     ]
    },
    {
     "data": {
      "image/png": "[encoded data removed]",
      "text/plain": [
       "<Figure size 800x400 with 2 Axes>"
      ]
     },
     "metadata": {},
     "output_type": "display_data"
    }
   ],
   "source": [
    "print(results_dict['test']['classification_report'])\n",
    "fig = results_dict['test']['confusion_matrix']\n",
    "display(fig)"
   ]
  },
  {
   "cell_type": "markdown",
   "metadata": {},
   "source": [
    "## Final Conclusion\n",
    "\n",
    "The analysis of the Amazon reviews for the \"Miracle Noodle Zero Carb, Gluten Free Shirataki Pasta, Spinach Angel Hair\" product has provided comprehensive insights into customer preferences, sentiments, and common issues. By leveraging natural language processing techniques such as sentiment analysis with VADER and topic modeling with LDA, we have been able to identify key themes and sentiments expressed in both high and low-rating reviews.\n",
    "\n",
    "### Key Insights:\n",
    "\n",
    "1. **Positive Aspects**:\n",
    "    - High-rating reviews frequently highlight the health benefits, flavor, and texture of the product.\n",
    "    - Customers appreciate the low-calorie content and the ease of incorporating the noodles into various dishes.\n",
    "\n",
    "2. **Negative Aspects**:\n",
    "    - Low-rating reviews often mention issues with the texture, specifically describing the noodles as rubbery or slimy.\n",
    "    - There are frequent complaints about the unpleasant smell upon opening the package.\n",
    "    - Some customers find the preparation process challenging and not user-friendly.\n",
    "\n",
    "3. **Sentiment Analysis**:\n",
    "    - The sentiment analysis reveals a clear correlation between the star ratings and the sentiment scores. Higher star ratings correspond to more positive sentiment, while lower star ratings show more negative sentiment.\n",
    "    - Text preprocessing significantly impacts sentiment scores, highlighting the importance of careful text preparation in sentiment analysis.\n",
    "\n",
    "4. **Topic Modeling**:\n",
    "    - LDA topic modeling has identified distinct themes within the reviews. High-rating reviews focus on health benefits and positive sensory experiences, while low-rating reviews highlight texture and smell issues.\n",
    "    - These insights help in understanding the primary factors that influence customer satisfaction and dissatisfaction.\n",
    "\n",
    "### Recommendations:\n",
    "\n",
    "Based on the insights gained from the analysis, the following recommendations are proposed to improve the product and enhance customer satisfaction:\n",
    "\n",
    "1. **Improve Texture**: Reformulate the product to address the rubbery texture, making it more similar to traditional noodles.\n",
    "2. **Enhance Absorption**: Improve the noodles’ ability to absorb cooking sauces to make them more versatile and flavorful.\n",
    "3. **Address Smell**: Explore ways to minimize any unpleasant odors upon opening the package.\n",
    "4. **Simplify Preparation**: Provide clearer cooking instructions and consider offering pre-cooked options.\n",
    "5. **Highlight Health Benefits**: Emphasize the low-calorie and healthy aspects in marketing materials to attract health-conscious customers.\n",
    "\n",
    "By implementing these recommendations, the product can better meet customer expectations, reduce negative feedback, and reinforce positive aspects that attract loyal customers.\n",
    "\n",
    "\n",
    "## Limitations & Next Steps\n",
    "\n",
    "- Apply HuggingFace sentiment classification pipelines.\n",
    "- Return to deep NLP modeling.\n",
    "- Add sentiment analysis and LDA topic modeling to Streamlit app.\n",
    "\n",
    "\n"
   ]
  },
  {
   "cell_type": "markdown",
   "metadata": {},
   "source": [
    "___\n",
    "\n",
    "\n",
    "## Companion Streamlit Dashboard\n",
    "\n",
    "Explore the interactive visualizations and analysis results through the Streamlit dashboard: [Amazon Reviews NLP Analysis & Predictions](https://amazon-reviews-nlp-analysis-predictions.streamlit.app/)\n",
    "\n",
    "\n",
    "- [https://amazon-reviews-nlp-analysis-predictions.streamlit.app/](https://amazon-reviews-nlp-analysis-predictions.streamlit.app/)\n",
    "\n",
    "\n",
    "<img src=\"images/streamlit-app-preview.png\" width=1000>\n",
    "\n",
    "___"
   ]
  },
  {
   "cell_type": "markdown",
   "metadata": {},
   "source": [
    "___"
   ]
  },
  {
   "cell_type": "markdown",
   "metadata": {},
   "source": [
    "# APPENDIX"
   ]
  },
  {
   "cell_type": "markdown",
   "metadata": {},
   "source": [
    "\n",
    "By interpreting these visualizations, we can gain a deeper understanding of the sentiment and themes present in the reviews, guiding us to make data-driven recommendations for product improvement and customer satisfaction enhancement."
   ]
  },
  {
   "cell_type": "code",
   "execution_count": 29,
   "metadata": {},
   "outputs": [
    {
     "name": "stdout",
     "output_type": "stream",
     "text": [
      "eda/sentiment-rating-strip.png\n"
     ]
    }
   ],
   "source": [
    "fpath = FPATHS['eda']['sentiment']['sentiment-rating-strip_png']\n",
    "print(fpath)"
   ]
  },
  {
   "cell_type": "markdown",
   "metadata": {},
   "source": []
  },
  {
   "cell_type": "code",
   "execution_count": 30,
   "metadata": {},
   "outputs": [
    {
     "data": {
      "text/plain": [
       "{'sentiment-vs_overall_png': 'eda/sentiment-vs-overall.png',\n",
       " 'sentiment-groups-bar_png': 'eda/sentiment-groups-bar.png',\n",
       " 'sentiment-overall-bar_png': 'eda/sentiment-overall-bar.png',\n",
       " 'sentiment-rating-strip_png': 'eda/sentiment-rating-strip.png'}"
      ]
     },
     "execution_count": 30,
     "metadata": {},
     "output_type": "execute_result"
    }
   ],
   "source": [
    "FPATHS['eda']['sentiment']"
   ]
  },
  {
   "cell_type": "markdown",
   "metadata": {},
   "source": [
    "### LDA Topic Modeling"
   ]
  },
  {
   "cell_type": "markdown",
   "metadata": {},
   "source": [
    "\n",
    "Latent Dirichlet Allocation (LDA) is a powerful unsupervised machine learning technique commonly used for topic modeling in natural language processing (NLP). This method helps uncover the underlying topics present within a large collection of documents by identifying patterns in the word usage. \n",
    "\n",
    "#### Why LDA?\n",
    "\n",
    "1. **Identifying Themes**: LDA helps in automatically discovering the hidden thematic structure in a corpus of text. This can be particularly useful for understanding large datasets of textual information without having to manually read through every document.\n",
    "2. **Dimensionality Reduction**: By representing documents as mixtures of topics, LDA effectively reduces the dimensionality of text data, making it easier to analyze and visualize.\n",
    "3. **Informing Decision Making**: Understanding the main topics in customer reviews, articles, or any other textual data can provide valuable insights for decision-making, trend analysis, and strategic planning.\n",
    "\n",
    "#### How LDA Works\n",
    "\n",
    "LDA assumes that each document is a mixture of several topics, and each topic is a mixture of words. The goal is to infer these mixtures from the observed data (i.e., the words in the documents). The key steps involved in applying LDA are:\n",
    "\n",
    "1. **Tokenization**: Breaking down the text into individual words or tokens.\n",
    "2. **Preprocessing**: Cleaning the text data by removing stop words, punctuation, and applying techniques like lemmatization.\n",
    "3. **Modeling**: Using the LDA algorithm to discover the latent topics in the text.\n",
    "4. **Visualization**: Interpreting the results by visualizing the topics and their most relevant terms.\n",
    "\n",
    "In this section, we will apply LDA topic modeling to our dataset of reviews. This involves the following steps:\n",
    "\n",
    "1. **Preprocessing the Text Data**: We will start by cleaning and preparing the text data for analysis.\n",
    "2. **Building the LDA Model**: Using the preprocessed data, we will build an LDA model to uncover the latent topics.\n",
    "3. **Visualizing the Topics**: Finally, we will use interactive visualizations to explore and interpret the discovered topics.\n",
    "\n",
    "By the end of this section, you will have a clear understanding of the main themes present in the reviews and how they contribute to the overall structure of the dataset. This will provide valuable insights that can inform future analysis and decision-making."
   ]
  },
  {
   "cell_type": "code",
   "execution_count": 31,
   "metadata": {},
   "outputs": [
    {
     "data": {
      "text/plain": [
       "{'lda-topics-high_md': 'eda/lda-topics-high.md',\n",
       " 'lda-topics-low_md': 'eda/lda-topics-low.md',\n",
       " 'lda-topics-high_html': 'eda/lda-topics-high.html',\n",
       " 'lda-topics-low_html': 'eda/lda-topics-low.html',\n",
       " 'lda-topics-high_csv': 'eda/lda-topics-high.csv',\n",
       " 'lda-topics-low_csv': 'eda/lda-topics-low.csv',\n",
       " 'recommendations-products_md': 'eda/lda-recommendations-products.md',\n",
       " 'lda-viz-instructions_md': 'eda/lda-viz-instructions.md',\n",
       " 'lda-viz-screenshot-high_png': 'eda/lda-viz-screenshot-high.png',\n",
       " 'lda-viz-screenshot-low_png': 'eda/lda-viz-screenshot-low.png'}"
      ]
     },
     "execution_count": 31,
     "metadata": {},
     "output_type": "execute_result"
    }
   ],
   "source": [
    "FPATHS['eda']['lda']"
   ]
  },
  {
   "cell_type": "code",
   "execution_count": 32,
   "metadata": {},
   "outputs": [
    {
     "data": {
      "text/markdown": [
       "### LDA Results for High Ratings\n",
       "\n",
       "#### High Rating Reviews Topics:\n",
       "|   Topic | group               | Word 1          | Word 2          | Word 3         | Word 4         | Word 5           | Word 6         | Word 7         | Word 8           | Word 9           | Word 10          |\n",
       "|--------:|:--------------------|:----------------|:----------------|:---------------|:---------------|:-----------------|:---------------|:---------------|:-----------------|:-----------------|:-----------------|\n",
       "|       1 | High Rating Reviews | rice (0.0360)   | noodle (0.0330) | pasta (0.0220) | like (0.0200)  | carb (0.0190)    | rinse (0.0140) | good (0.0120)  | dish (0.0120)    | sauce (0.0120)   | love (0.0110)    |\n",
       "|       2 | High Rating Reviews | noodle (0.0390) | like (0.0290)   | pasta (0.0180) | smell (0.0170) | great (0.0150)   | sauce (0.0140) | taste (0.0140) | calorie (0.0130) | texture (0.0130) | rinse (0.0120)   |\n",
       "|       3 | High Rating Reviews | noodle (0.0240) | love (0.0220)   | sauce (0.0180) | pasta (0.0170) | calorie (0.0140) | free (0.0120)  | taste (0.0110) | flavor (0.0110)  | minute (0.0110)  | smell (0.0100)   |\n",
       "|       4 | High Rating Reviews | great (0.0740)  | star (0.0620)   | love (0.0400)  | carb (0.0380)  | noodle (0.0320)  | good (0.0310)  | pasta (0.0300) | product (0.0260) | taste (0.0230)   | diet (0.0160)    |\n",
       "|       5 | High Rating Reviews | noodle (0.0530) | smell (0.0190)  | rinse (0.0180) | like (0.0170)  | taste (0.0150)   | good (0.0140)  | sauce (0.0140) | water (0.0120)   | pasta (0.0110)   | texture (0.0110) |\n",
       "\n",
       "- Topic 1\n",
       "  - Descriptive Label: Carb-Rich Dishes\n",
       "  - Top Words: rice, noodle, pasta, like, carb, rinse, good, dish, sauce, love\n",
       "  - Short Insight: This topic focuses on high-carb dishes such as rice, noodles, and pasta, with positive sentiments like \"good\" and \"love\" indicating high satisfaction.\n",
       "\n",
       "- Topic 2\n",
       "  - Descriptive Label: Flavor and Texture\n",
       "  - Top Words: noodle, like, pasta, smell, great, sauce, taste, calorie, texture, rinse\n",
       "  - Short Insight: This topic highlights the importance of flavor and texture in high-rated reviews, with frequent mentions of noodles, pasta, and sauce, along with positive descriptors like \"great\" and \"taste.\"\n",
       "\n",
       "- Topic 3\n",
       "  - Descriptive Label: Low-Calorie Favorites\n",
       "  - Top Words: noodle, love, sauce, pasta, calorie, free, taste, flavor, minute, smell\n",
       "  - Short Insight: This topic centers around low-calorie dishes that are well-loved, with frequent mentions of noodles, pasta, and sauce, and positive sentiments like \"love\" and \"flavor.\"\n",
       "\n",
       "- Topic 4\n",
       "  - Descriptive Label: Overall Satisfaction\n",
       "  - Top Words: great, star, love, carb, noodle, good, pasta, product, taste, diet\n",
       "  - Short Insight: This topic reflects overall satisfaction with products, emphasizing high ratings (\"star\"), love for the product, and mentions of carbs, noodles, and pasta.\n",
       "\n",
       "- Topic 5\n",
       "  - Descriptive Label: Sensory Experience\n",
       "  - Top Words: noodle, smell, rinse, like, taste, good, sauce, water, pasta, texture\n",
       "  - Short Insight: This topic focuses on the sensory experience of food, with frequent mentions of smell, taste, and texture, particularly in relation to noodles and pasta.<img src=\"eda/lda-viz-screenshot-high.png\">"
      ],
      "text/plain": [
       "<IPython.core.display.Markdown object>"
      ]
     },
     "metadata": {},
     "output_type": "display_data"
    }
   ],
   "source": [
    "### TEMP: Loading LDA markdown\n",
    "with open(FPATHS['eda']['lda']['lda-topics-high_md']) as f:\n",
    "    lda_topics_high = f.read()\n",
    "\n",
    "lda_viz_high=f\"<img src=\\\"{FPATHS['eda']['lda']['lda-viz-screenshot-high_png']}\\\">\"    \n",
    "\n",
    "# Combine into 1 mardkwn string for high ratings\n",
    "lda_results_high = \"### LDA Results for High Ratings\\n\\n\"\n",
    "lda_results_high += lda_topics_high\n",
    "lda_results_high += lda_viz_high\n",
    "display(Markdown(lda_results_high))\n"
   ]
  },
  {
   "cell_type": "code",
   "execution_count": 33,
   "metadata": {},
   "outputs": [
    {
     "data": {
      "text/markdown": [
       "### LDA Results for Low Ratings\n",
       "\n",
       "### Low Rating Reviews Topics:\n",
       "|   Topic | group              | Word 1          | Word 2           | Word 3           | Word 4           | Word 5         | Word 6           | Word 7              | Word 8           | Word 9            | Word 10        |\n",
       "|--------:|:-------------------|:----------------|:-----------------|:-----------------|:-----------------|:---------------|:-----------------|:--------------------|:-----------------|:------------------|:---------------|\n",
       "|       1 | Low Rating Reviews | noodle (0.0220) | taste (0.0190)   | time (0.0180)    | like (0.0180)    | eat (0.0100)   | good (0.0100)    | cook (0.0100)       | slimy (0.0090)   | flavor (0.0090)   | want (0.0090)  |\n",
       "|       2 | Low Rating Reviews | like (0.0560)   | texture (0.0330) | noodle (0.0240)  | rice (0.0190)    | smell (0.0180) | rubber (0.0180)  | taste (0.0110)      | weird (0.0110)   | eat (0.0110)      | cook (0.0100)  |\n",
       "|       3 | Low Rating Reviews | smell (0.0560)  | like (0.0520)    | texture (0.0420) | taste (0.0400)   | Star (0.0330)  | fish (0.0280)    | noodle (0.0200)     | product (0.0180) | horrible (0.0130) | good (0.0110)  |\n",
       "|       4 | Low Rating Reviews | noodle (0.0330) | like (0.0320)    | texture (0.0250) | taste (0.0190)   | gross (0.0160) | star (0.0130)    | disgusting (0.0130) | pasta (0.0120)   | try (0.0120)      | good (0.0120)  |\n",
       "|       5 | Low Rating Reviews | taste (0.0350)  | noodle (0.0310)  | like (0.0300)    | package (0.0130) | try (0.0130)   | product (0.0120) | texture (0.0120)    | smell (0.0120)   | rice (0.0100)     | order (0.0100) |\n",
       "\n",
       "- Topic 1\n",
       "  - Descriptive Label: Unpleasant Noodle Experience\n",
       "  - Top Words: noodle, taste, time, like, eat, good, cook, slimy, flavor, want\n",
       "  - Short Insight: Reviews in this topic highlight dissatisfaction with the taste and texture of noodles, often described as slimy and lacking in flavor.\n",
       "\n",
       "- Topic 2\n",
       "  - Descriptive Label: Texture and Smell Issues\n",
       "  - Top Words: like, texture, noodle, rice, smell, rubber, taste, weird, eat, cook\n",
       "  - Short Insight: This topic focuses on negative feedback regarding the texture and smell of the product, with some reviewers comparing it to rubber and describing it as weird.\n",
       "\n",
       "- Topic 3\n",
       "  - Descriptive Label: Strong Odor and Poor Taste\n",
       "  - Top Words: smell, like, texture, taste, Star, fish, noodle, product, horrible, good\n",
       "  - Short Insight: Reviews in this topic emphasize a strong, unpleasant odor and poor taste, often mentioning a fishy smell and describing the product as horrible.\n",
       "\n",
       "- Topic 4\n",
       "  - Descriptive Label: Disgusting Noodle Texture\n",
       "  - Top Words: noodle, like, texture, taste, gross, star, disgusting, pasta, try, good\n",
       "  - Short Insight: This topic captures reviews that find the noodle texture disgusting and gross, with some reviewers expressing regret over trying the product.\n",
       "\n",
       "- Topic 5\n",
       "  - Descriptive Label: General Disappointment\n",
       "  - Top Words: taste, noodle, like, package, try, product, texture, smell, rice, order\n",
       "  - Short Insight: This topic reflects a general sense of disappointment with the product, mentioning issues with taste, texture, and packaging, and expressing dissatisfaction with the overall experience.<img src=\"eda/lda-viz-screenshot-low.png\">"
      ],
      "text/plain": [
       "<IPython.core.display.Markdown object>"
      ]
     },
     "metadata": {},
     "output_type": "display_data"
    }
   ],
   "source": [
    "### TEMP: Loading LDA markdown\n",
    "with open(FPATHS['eda']['lda']['lda-topics-low_md']) as f:\n",
    "    lda_topics_low = f.read()\n",
    "\n",
    "lda_viz_low=f\"<img src=\\\"{FPATHS['eda']['lda']['lda-viz-screenshot-low_png']}\\\">\"    \n",
    "\n",
    "# Combine into 1 mardkwn string for low ratings\n",
    "lda_results_low = \"### LDA Results for Low Ratings\\n\\n\"\n",
    "lda_results_low += lda_topics_low\n",
    "lda_results_low += lda_viz_low\n",
    "display(Markdown(lda_results_low))\n"
   ]
  },
  {
   "cell_type": "code",
   "execution_count": 34,
   "metadata": {},
   "outputs": [],
   "source": [
    "# display(Markdown(f\"<img src=\\\"{FPATHS['eda']['lda']['lda-viz-screenshot-high_png']}\\\">\"))\n",
    "\n",
    "# display(Markdown(FPATHS['eda']['lda']['lda-topics-high_md']))\n",
    "\n",
    "\n",
    "# display(Markdown(f\"<img src=\\\"{FPATHS['eda']['lda']['lda-viz-screenshot-low_png']}\\\">\"))\n",
    "# display(Markdown(FPATHS['eda']['lda']['lda-topics-low_md']))\n",
    "\n",
    "# display(Markdown(FPATHS['eda']['lda']['recommendations-products_md']))\n",
    " "
   ]
  },
  {
   "cell_type": "markdown",
   "metadata": {},
   "source": [
    "## Modeling Results\n",
    "\n",
    "### Machine Learning Text Classification\n",
    "Several machine learning models were developed and evaluated to classify the Amazon reviews into high and low sentiment categories. The models used include:\n",
    "\n",
    "- **Dummy Classifier**: A baseline model for comparison.\n",
    "- **Naive Bayes**: A probabilistic classifier.\n",
    "- **Logistic Regression**: A linear model for binary classification.\n",
    "- **Random Forest**: An ensemble model using decision trees.\n",
    "- **Support Vector Classifier (SVC)**: A linear SVM model.\n",
    "\n",
    "\n"
   ]
  },
  {
   "cell_type": "markdown",
   "metadata": {},
   "source": [
    "\n",
    "#### Best Model\n",
    "The best-performing model was the Logistic Regression model using Tfidf Vectorization for preprocessing. Below are the classification metrics for the training and test data.\n",
    "\n"
   ]
  },
  {
   "cell_type": "markdown",
   "metadata": {},
   "source": [
    "\n",
    "\n",
    "##### Training Data Classification Metrics\n",
    "```\n",
    "Precision  Recall  F1-Score  Support\n",
    "0       1.00    1.00     1.00     1376\n",
    "1       1.00    1.00     1.00     1102\n",
    "Accuracy                   1.00     2478\n",
    "Macro Avg   1.00    1.00     1.00     2478\n",
    "Weighted Avg 1.00    1.00     1.00     2478\n",
    "```\n",
    "\n",
    "##### Test Data Classification Metrics\n",
    "```\n",
    "Precision  Recall  F1-Score  Support\n",
    "0       0.96    0.97     0.96      492\n",
    "1       0.95    0.93     0.94      335\n",
    "Accuracy                   0.96      827\n",
    "Macro Avg   0.96    0.95     0.95      827\n",
    "Weighted Avg 0.96    0.96     0.96      827\n",
    "```\n"
   ]
  },
  {
   "cell_type": "code",
   "execution_count": null,
   "metadata": {},
   "outputs": [
    {
     "data": {
      "text/plain": [
       "'app-assets/best-clf-diagram.html'"
      ]
     },
     "metadata": {},
     "output_type": "display_data"
    }
   ],
   "source": [
    "FPATHS['results']['best-ml-clf-diagram_html']"
   ]
  },
  {
   "cell_type": "code",
   "execution_count": 35,
   "metadata": {},
   "outputs": [
    {
     "data": {
      "text/html": [
       "<style>#sk-container-id-3 {\n",
       "  /* Definition of color scheme common for light and dark mode */\n",
       "  --sklearn-color-text: black;\n",
       "  --sklearn-color-line: gray;\n",
       "  /* Definition of color scheme for unfitted estimators */\n",
       "  --sklearn-color-unfitted-level-0: #fff5e6;\n",
       "  --sklearn-color-unfitted-level-1: #f6e4d2;\n",
       "  --sklearn-color-unfitted-level-2: #ffe0b3;\n",
       "  --sklearn-color-unfitted-level-3: chocolate;\n",
       "  /* Definition of color scheme for fitted estimators */\n",
       "  --sklearn-color-fitted-level-0: #f0f8ff;\n",
       "  --sklearn-color-fitted-level-1: #d4ebff;\n",
       "  --sklearn-color-fitted-level-2: #b3dbfd;\n",
       "  --sklearn-color-fitted-level-3: cornflowerblue;\n",
       "\n",
       "  /* Specific color for light theme */\n",
       "  --sklearn-color-text-on-default-background: var(--sg-text-color, var(--theme-code-foreground, var(--jp-content-font-color1, black)));\n",
       "  --sklearn-color-background: var(--sg-background-color, var(--theme-background, var(--jp-layout-color0, white)));\n",
       "  --sklearn-color-border-box: var(--sg-text-color, var(--theme-code-foreground, var(--jp-content-font-color1, black)));\n",
       "  --sklearn-color-icon: #696969;\n",
       "\n",
       "  @media (prefers-color-scheme: dark) {\n",
       "    /* Redefinition of color scheme for dark theme */\n",
       "    --sklearn-color-text-on-default-background: var(--sg-text-color, var(--theme-code-foreground, var(--jp-content-font-color1, white)));\n",
       "    --sklearn-color-background: var(--sg-background-color, var(--theme-background, var(--jp-layout-color0, #111)));\n",
       "    --sklearn-color-border-box: var(--sg-text-color, var(--theme-code-foreground, var(--jp-content-font-color1, white)));\n",
       "    --sklearn-color-icon: #878787;\n",
       "  }\n",
       "}\n",
       "\n",
       "#sk-container-id-3 {\n",
       "  color: var(--sklearn-color-text);\n",
       "}\n",
       "\n",
       "#sk-container-id-3 pre {\n",
       "  padding: 0;\n",
       "}\n",
       "\n",
       "#sk-container-id-3 input.sk-hidden--visually {\n",
       "  border: 0;\n",
       "  clip: rect(1px 1px 1px 1px);\n",
       "  clip: rect(1px, 1px, 1px, 1px);\n",
       "  height: 1px;\n",
       "  margin: -1px;\n",
       "  overflow: hidden;\n",
       "  padding: 0;\n",
       "  position: absolute;\n",
       "  width: 1px;\n",
       "}\n",
       "\n",
       "#sk-container-id-3 div.sk-dashed-wrapped {\n",
       "  border: 1px dashed var(--sklearn-color-line);\n",
       "  margin: 0 0.4em 0.5em 0.4em;\n",
       "  box-sizing: border-box;\n",
       "  padding-bottom: 0.4em;\n",
       "  background-color: var(--sklearn-color-background);\n",
       "}\n",
       "\n",
       "#sk-container-id-3 div.sk-container {\n",
       "  /* jupyter's `normalize.less` sets `[hidden] { display: none; }`\n",
       "     but bootstrap.min.css set `[hidden] { display: none !important; }`\n",
       "     so we also need the `!important` here to be able to override the\n",
       "     default hidden behavior on the sphinx rendered scikit-learn.org.\n",
       "     See: https://github.com/scikit-learn/scikit-learn/issues/21755 */\n",
       "  display: inline-block !important;\n",
       "  position: relative;\n",
       "}\n",
       "\n",
       "#sk-container-id-3 div.sk-text-repr-fallback {\n",
       "  display: none;\n",
       "}\n",
       "\n",
       "div.sk-parallel-item,\n",
       "div.sk-serial,\n",
       "div.sk-item {\n",
       "  /* draw centered vertical line to link estimators */\n",
       "  background-image: linear-gradient(var(--sklearn-color-text-on-default-background), var(--sklearn-color-text-on-default-background));\n",
       "  background-size: 2px 100%;\n",
       "  background-repeat: no-repeat;\n",
       "  background-position: center center;\n",
       "}\n",
       "\n",
       "/* Parallel-specific style estimator block */\n",
       "\n",
       "#sk-container-id-3 div.sk-parallel-item::after {\n",
       "  content: \"\";\n",
       "  width: 100%;\n",
       "  border-bottom: 2px solid var(--sklearn-color-text-on-default-background);\n",
       "  flex-grow: 1;\n",
       "}\n",
       "\n",
       "#sk-container-id-3 div.sk-parallel {\n",
       "  display: flex;\n",
       "  align-items: stretch;\n",
       "  justify-content: center;\n",
       "  background-color: var(--sklearn-color-background);\n",
       "  position: relative;\n",
       "}\n",
       "\n",
       "#sk-container-id-3 div.sk-parallel-item {\n",
       "  display: flex;\n",
       "  flex-direction: column;\n",
       "}\n",
       "\n",
       "#sk-container-id-3 div.sk-parallel-item:first-child::after {\n",
       "  align-self: flex-end;\n",
       "  width: 50%;\n",
       "}\n",
       "\n",
       "#sk-container-id-3 div.sk-parallel-item:last-child::after {\n",
       "  align-self: flex-start;\n",
       "  width: 50%;\n",
       "}\n",
       "\n",
       "#sk-container-id-3 div.sk-parallel-item:only-child::after {\n",
       "  width: 0;\n",
       "}\n",
       "\n",
       "/* Serial-specific style estimator block */\n",
       "\n",
       "#sk-container-id-3 div.sk-serial {\n",
       "  display: flex;\n",
       "  flex-direction: column;\n",
       "  align-items: center;\n",
       "  background-color: var(--sklearn-color-background);\n",
       "  padding-right: 1em;\n",
       "  padding-left: 1em;\n",
       "}\n",
       "\n",
       "\n",
       "/* Toggleable style: style used for estimator/Pipeline/ColumnTransformer box that is\n",
       "clickable and can be expanded/collapsed.\n",
       "- Pipeline and ColumnTransformer use this feature and define the default style\n",
       "- Estimators will overwrite some part of the style using the `sk-estimator` class\n",
       "*/\n",
       "\n",
       "/* Pipeline and ColumnTransformer style (default) */\n",
       "\n",
       "#sk-container-id-3 div.sk-toggleable {\n",
       "  /* Default theme specific background. It is overwritten whether we have a\n",
       "  specific estimator or a Pipeline/ColumnTransformer */\n",
       "  background-color: var(--sklearn-color-background);\n",
       "}\n",
       "\n",
       "/* Toggleable label */\n",
       "#sk-container-id-3 label.sk-toggleable__label {\n",
       "  cursor: pointer;\n",
       "  display: block;\n",
       "  width: 100%;\n",
       "  margin-bottom: 0;\n",
       "  padding: 0.5em;\n",
       "  box-sizing: border-box;\n",
       "  text-align: center;\n",
       "}\n",
       "\n",
       "#sk-container-id-3 label.sk-toggleable__label-arrow:before {\n",
       "  /* Arrow on the left of the label */\n",
       "  content: \"▸\";\n",
       "  float: left;\n",
       "  margin-right: 0.25em;\n",
       "  color: var(--sklearn-color-icon);\n",
       "}\n",
       "\n",
       "#sk-container-id-3 label.sk-toggleable__label-arrow:hover:before {\n",
       "  color: var(--sklearn-color-text);\n",
       "}\n",
       "\n",
       "/* Toggleable content - dropdown */\n",
       "\n",
       "#sk-container-id-3 div.sk-toggleable__content {\n",
       "  max-height: 0;\n",
       "  max-width: 0;\n",
       "  overflow: hidden;\n",
       "  text-align: left;\n",
       "  /* unfitted */\n",
       "  background-color: var(--sklearn-color-unfitted-level-0);\n",
       "}\n",
       "\n",
       "#sk-container-id-3 div.sk-toggleable__content.fitted {\n",
       "  /* fitted */\n",
       "  background-color: var(--sklearn-color-fitted-level-0);\n",
       "}\n",
       "\n",
       "#sk-container-id-3 div.sk-toggleable__content pre {\n",
       "  margin: 0.2em;\n",
       "  border-radius: 0.25em;\n",
       "  color: var(--sklearn-color-text);\n",
       "  /* unfitted */\n",
       "  background-color: var(--sklearn-color-unfitted-level-0);\n",
       "}\n",
       "\n",
       "#sk-container-id-3 div.sk-toggleable__content.fitted pre {\n",
       "  /* unfitted */\n",
       "  background-color: var(--sklearn-color-fitted-level-0);\n",
       "}\n",
       "\n",
       "#sk-container-id-3 input.sk-toggleable__control:checked~div.sk-toggleable__content {\n",
       "  /* Expand drop-down */\n",
       "  max-height: 200px;\n",
       "  max-width: 100%;\n",
       "  overflow: auto;\n",
       "}\n",
       "\n",
       "#sk-container-id-3 input.sk-toggleable__control:checked~label.sk-toggleable__label-arrow:before {\n",
       "  content: \"▾\";\n",
       "}\n",
       "\n",
       "/* Pipeline/ColumnTransformer-specific style */\n",
       "\n",
       "#sk-container-id-3 div.sk-label input.sk-toggleable__control:checked~label.sk-toggleable__label {\n",
       "  color: var(--sklearn-color-text);\n",
       "  background-color: var(--sklearn-color-unfitted-level-2);\n",
       "}\n",
       "\n",
       "#sk-container-id-3 div.sk-label.fitted input.sk-toggleable__control:checked~label.sk-toggleable__label {\n",
       "  background-color: var(--sklearn-color-fitted-level-2);\n",
       "}\n",
       "\n",
       "/* Estimator-specific style */\n",
       "\n",
       "/* Colorize estimator box */\n",
       "#sk-container-id-3 div.sk-estimator input.sk-toggleable__control:checked~label.sk-toggleable__label {\n",
       "  /* unfitted */\n",
       "  background-color: var(--sklearn-color-unfitted-level-2);\n",
       "}\n",
       "\n",
       "#sk-container-id-3 div.sk-estimator.fitted input.sk-toggleable__control:checked~label.sk-toggleable__label {\n",
       "  /* fitted */\n",
       "  background-color: var(--sklearn-color-fitted-level-2);\n",
       "}\n",
       "\n",
       "#sk-container-id-3 div.sk-label label.sk-toggleable__label,\n",
       "#sk-container-id-3 div.sk-label label {\n",
       "  /* The background is the default theme color */\n",
       "  color: var(--sklearn-color-text-on-default-background);\n",
       "}\n",
       "\n",
       "/* On hover, darken the color of the background */\n",
       "#sk-container-id-3 div.sk-label:hover label.sk-toggleable__label {\n",
       "  color: var(--sklearn-color-text);\n",
       "  background-color: var(--sklearn-color-unfitted-level-2);\n",
       "}\n",
       "\n",
       "/* Label box, darken color on hover, fitted */\n",
       "#sk-container-id-3 div.sk-label.fitted:hover label.sk-toggleable__label.fitted {\n",
       "  color: var(--sklearn-color-text);\n",
       "  background-color: var(--sklearn-color-fitted-level-2);\n",
       "}\n",
       "\n",
       "/* Estimator label */\n",
       "\n",
       "#sk-container-id-3 div.sk-label label {\n",
       "  font-family: monospace;\n",
       "  font-weight: bold;\n",
       "  display: inline-block;\n",
       "  line-height: 1.2em;\n",
       "}\n",
       "\n",
       "#sk-container-id-3 div.sk-label-container {\n",
       "  text-align: center;\n",
       "}\n",
       "\n",
       "/* Estimator-specific */\n",
       "#sk-container-id-3 div.sk-estimator {\n",
       "  font-family: monospace;\n",
       "  border: 1px dotted var(--sklearn-color-border-box);\n",
       "  border-radius: 0.25em;\n",
       "  box-sizing: border-box;\n",
       "  margin-bottom: 0.5em;\n",
       "  /* unfitted */\n",
       "  background-color: var(--sklearn-color-unfitted-level-0);\n",
       "}\n",
       "\n",
       "#sk-container-id-3 div.sk-estimator.fitted {\n",
       "  /* fitted */\n",
       "  background-color: var(--sklearn-color-fitted-level-0);\n",
       "}\n",
       "\n",
       "/* on hover */\n",
       "#sk-container-id-3 div.sk-estimator:hover {\n",
       "  /* unfitted */\n",
       "  background-color: var(--sklearn-color-unfitted-level-2);\n",
       "}\n",
       "\n",
       "#sk-container-id-3 div.sk-estimator.fitted:hover {\n",
       "  /* fitted */\n",
       "  background-color: var(--sklearn-color-fitted-level-2);\n",
       "}\n",
       "\n",
       "/* Specification for estimator info (e.g. \"i\" and \"?\") */\n",
       "\n",
       "/* Common style for \"i\" and \"?\" */\n",
       "\n",
       ".sk-estimator-doc-link,\n",
       "a:link.sk-estimator-doc-link,\n",
       "a:visited.sk-estimator-doc-link {\n",
       "  float: right;\n",
       "  font-size: smaller;\n",
       "  line-height: 1em;\n",
       "  font-family: monospace;\n",
       "  background-color: var(--sklearn-color-background);\n",
       "  border-radius: 1em;\n",
       "  height: 1em;\n",
       "  width: 1em;\n",
       "  text-decoration: none !important;\n",
       "  margin-left: 1ex;\n",
       "  /* unfitted */\n",
       "  border: var(--sklearn-color-unfitted-level-1) 1pt solid;\n",
       "  color: var(--sklearn-color-unfitted-level-1);\n",
       "}\n",
       "\n",
       ".sk-estimator-doc-link.fitted,\n",
       "a:link.sk-estimator-doc-link.fitted,\n",
       "a:visited.sk-estimator-doc-link.fitted {\n",
       "  /* fitted */\n",
       "  border: var(--sklearn-color-fitted-level-1) 1pt solid;\n",
       "  color: var(--sklearn-color-fitted-level-1);\n",
       "}\n",
       "\n",
       "/* On hover */\n",
       "div.sk-estimator:hover .sk-estimator-doc-link:hover,\n",
       ".sk-estimator-doc-link:hover,\n",
       "div.sk-label-container:hover .sk-estimator-doc-link:hover,\n",
       ".sk-estimator-doc-link:hover {\n",
       "  /* unfitted */\n",
       "  background-color: var(--sklearn-color-unfitted-level-3);\n",
       "  color: var(--sklearn-color-background);\n",
       "  text-decoration: none;\n",
       "}\n",
       "\n",
       "div.sk-estimator.fitted:hover .sk-estimator-doc-link.fitted:hover,\n",
       ".sk-estimator-doc-link.fitted:hover,\n",
       "div.sk-label-container:hover .sk-estimator-doc-link.fitted:hover,\n",
       ".sk-estimator-doc-link.fitted:hover {\n",
       "  /* fitted */\n",
       "  background-color: var(--sklearn-color-fitted-level-3);\n",
       "  color: var(--sklearn-color-background);\n",
       "  text-decoration: none;\n",
       "}\n",
       "\n",
       "/* Span, style for the box shown on hovering the info icon */\n",
       ".sk-estimator-doc-link span {\n",
       "  display: none;\n",
       "  z-index: 9999;\n",
       "  position: relative;\n",
       "  font-weight: normal;\n",
       "  right: .2ex;\n",
       "  padding: .5ex;\n",
       "  margin: .5ex;\n",
       "  width: min-content;\n",
       "  min-width: 20ex;\n",
       "  max-width: 50ex;\n",
       "  color: var(--sklearn-color-text);\n",
       "  box-shadow: 2pt 2pt 4pt #999;\n",
       "  /* unfitted */\n",
       "  background: var(--sklearn-color-unfitted-level-0);\n",
       "  border: .5pt solid var(--sklearn-color-unfitted-level-3);\n",
       "}\n",
       "\n",
       ".sk-estimator-doc-link.fitted span {\n",
       "  /* fitted */\n",
       "  background: var(--sklearn-color-fitted-level-0);\n",
       "  border: var(--sklearn-color-fitted-level-3);\n",
       "}\n",
       "\n",
       ".sk-estimator-doc-link:hover span {\n",
       "  display: block;\n",
       "}\n",
       "\n",
       "/* \"?\"-specific style due to the `<a>` HTML tag */\n",
       "\n",
       "#sk-container-id-3 a.estimator_doc_link {\n",
       "  float: right;\n",
       "  font-size: 1rem;\n",
       "  line-height: 1em;\n",
       "  font-family: monospace;\n",
       "  background-color: var(--sklearn-color-background);\n",
       "  border-radius: 1rem;\n",
       "  height: 1rem;\n",
       "  width: 1rem;\n",
       "  text-decoration: none;\n",
       "  /* unfitted */\n",
       "  color: var(--sklearn-color-unfitted-level-1);\n",
       "  border: var(--sklearn-color-unfitted-level-1) 1pt solid;\n",
       "}\n",
       "\n",
       "#sk-container-id-3 a.estimator_doc_link.fitted {\n",
       "  /* fitted */\n",
       "  border: var(--sklearn-color-fitted-level-1) 1pt solid;\n",
       "  color: var(--sklearn-color-fitted-level-1);\n",
       "}\n",
       "\n",
       "/* On hover */\n",
       "#sk-container-id-3 a.estimator_doc_link:hover {\n",
       "  /* unfitted */\n",
       "  background-color: var(--sklearn-color-unfitted-level-3);\n",
       "  color: var(--sklearn-color-background);\n",
       "  text-decoration: none;\n",
       "}\n",
       "\n",
       "#sk-container-id-3 a.estimator_doc_link.fitted:hover {\n",
       "  /* fitted */\n",
       "  background-color: var(--sklearn-color-fitted-level-3);\n",
       "}\n",
       "</style><div id=\"sk-container-id-3\" class=\"sk-top-container\"><div class=\"sk-text-repr-fallback\"><pre>Pipeline(steps=[(&#x27;vectorizer&#x27;, TfidfVectorizer(ngram_range=(1, 2))),\n",
       "                (&#x27;clf&#x27;, LogisticRegressionCV(max_iter=200))])</pre><b>In a Jupyter environment, please rerun this cell to show the HTML representation or trust the notebook. <br />On GitHub, the HTML representation is unable to render, please try loading this page with nbviewer.org.</b></div><div class=\"sk-container\" hidden><div class=\"sk-item sk-dashed-wrapped\"><div class=\"sk-label-container\"><div class=\"sk-label fitted sk-toggleable\"><input class=\"sk-toggleable__control sk-hidden--visually\" id=\"sk-estimator-id-7\" type=\"checkbox\" ><label for=\"sk-estimator-id-7\" class=\"sk-toggleable__label fitted sk-toggleable__label-arrow fitted\">&nbsp;&nbsp;Pipeline<a class=\"sk-estimator-doc-link fitted\" rel=\"noreferrer\" target=\"_blank\" href=\"https://scikit-learn.org/1.4/modules/generated/sklearn.pipeline.Pipeline.html\">?<span>Documentation for Pipeline</span></a><span class=\"sk-estimator-doc-link fitted\">i<span>Fitted</span></span></label><div class=\"sk-toggleable__content fitted\"><pre>Pipeline(steps=[(&#x27;vectorizer&#x27;, TfidfVectorizer(ngram_range=(1, 2))),\n",
       "                (&#x27;clf&#x27;, LogisticRegressionCV(max_iter=200))])</pre></div> </div></div><div class=\"sk-serial\"><div class=\"sk-item\"><div class=\"sk-estimator fitted sk-toggleable\"><input class=\"sk-toggleable__control sk-hidden--visually\" id=\"sk-estimator-id-8\" type=\"checkbox\" ><label for=\"sk-estimator-id-8\" class=\"sk-toggleable__label fitted sk-toggleable__label-arrow fitted\">&nbsp;TfidfVectorizer<a class=\"sk-estimator-doc-link fitted\" rel=\"noreferrer\" target=\"_blank\" href=\"https://scikit-learn.org/1.4/modules/generated/sklearn.feature_extraction.text.TfidfVectorizer.html\">?<span>Documentation for TfidfVectorizer</span></a></label><div class=\"sk-toggleable__content fitted\"><pre>TfidfVectorizer(ngram_range=(1, 2))</pre></div> </div></div><div class=\"sk-item\"><div class=\"sk-estimator fitted sk-toggleable\"><input class=\"sk-toggleable__control sk-hidden--visually\" id=\"sk-estimator-id-9\" type=\"checkbox\" ><label for=\"sk-estimator-id-9\" class=\"sk-toggleable__label fitted sk-toggleable__label-arrow fitted\">&nbsp;LogisticRegressionCV<a class=\"sk-estimator-doc-link fitted\" rel=\"noreferrer\" target=\"_blank\" href=\"https://scikit-learn.org/1.4/modules/generated/sklearn.linear_model.LogisticRegressionCV.html\">?<span>Documentation for LogisticRegressionCV</span></a></label><div class=\"sk-toggleable__content fitted\"><pre>LogisticRegressionCV(max_iter=200)</pre></div> </div></div></div></div></div></div>"
      ],
      "text/plain": [
       "Pipeline(steps=[('vectorizer', TfidfVectorizer(ngram_range=(1, 2))),\n",
       "                ('clf', LogisticRegressionCV(max_iter=200))])"
      ]
     },
     "execution_count": 35,
     "metadata": {},
     "output_type": "execute_result"
    }
   ],
   "source": [
    "from sklearn.utils import estimator_html_repr\n",
    "from IPython.display import HTML\n",
    "diagram = results_dict['model']\n",
    "diagram"
   ]
  },
  {
   "cell_type": "markdown",
   "metadata": {},
   "source": [
    "The best model thus far is a basic LogisticRegression using Tfidf Vectorization for the preprocessing."
   ]
  },
  {
   "cell_type": "code",
   "execution_count": null,
   "metadata": {},
   "outputs": [
    {
     "name": "stdout",
     "output_type": "stream",
     "text": [
      "----------------------------------------------------------------------\n",
      " Classification Metrics: Training Data\n",
      "----------------------------------------------------------------------\n",
      "              precision    recall  f1-score   support\n",
      "\n",
      "           0       1.00      1.00      1.00      1376\n",
      "           1       1.00      1.00      1.00      1102\n",
      "\n",
      "    accuracy                           1.00      2478\n",
      "   macro avg       1.00      1.00      1.00      2478\n",
      "weighted avg       1.00      1.00      1.00      2478\n",
      "\n",
      "\n",
      "\n"
     ]
    },
    {
     "data": {
      "image/png": "[encoded data removed]",
      "text/plain": [
       "<Figure size 800x400 with 2 Axes>"
      ]
     },
     "metadata": {},
     "output_type": "display_data"
    }
   ],
   "source": [
    "\n",
    "\n",
    "print(results_dict['train']['classification_report'])\n",
    "fig = results_dict['train']['confusion_matrix']\n",
    "fig"
   ]
  },
  {
   "cell_type": "code",
   "execution_count": null,
   "metadata": {},
   "outputs": [
    {
     "data": {
      "image/png": "[encoded data removed]",
      "text/plain": [
       "<Figure size 800x400 with 2 Axes>"
      ]
     },
     "metadata": {},
     "output_type": "display_data"
    }
   ],
   "source": [
    "results_dict['train']['confusion_matrix']"
   ]
  },
  {
   "cell_type": "code",
   "execution_count": null,
   "metadata": {},
   "outputs": [
    {
     "name": "stdout",
     "output_type": "stream",
     "text": [
      "----------------------------------------------------------------------\n",
      " Classification Metrics: Test Data\n",
      "----------------------------------------------------------------------\n",
      "              precision    recall  f1-score   support\n",
      "\n",
      "           0       0.96      0.97      0.96       492\n",
      "           1       0.95      0.93      0.94       335\n",
      "\n",
      "    accuracy                           0.96       827\n",
      "   macro avg       0.96      0.95      0.95       827\n",
      "weighted avg       0.96      0.96      0.96       827\n",
      "\n",
      "\n",
      "\n"
     ]
    },
    {
     "data": {
      "image/png": "[encoded data removed]",
      "text/plain": [
       "<Figure size 800x400 with 2 Axes>"
      ]
     },
     "metadata": {},
     "output_type": "display_data"
    }
   ],
   "source": [
    "print(results_dict['test']['classification_report'])\n",
    "fig = results_dict['test']['confusion_matrix']\n",
    "display(fig)"
   ]
  },
  {
   "cell_type": "markdown",
   "metadata": {},
   "source": [
    "## Final Conclusion\n",
    "\n",
    "The analysis of the Amazon reviews for the \"Miracle Noodle Zero Carb, Gluten Free Shirataki Pasta, Spinach Angel Hair\" product has provided comprehensive insights into customer preferences, sentiments, and common issues. By leveraging natural language processing techniques such as sentiment analysis with VADER and topic modeling with LDA, we have been able to identify key themes and sentiments expressed in both high and low-rating reviews.\n",
    "\n",
    "### Key Insights:\n",
    "\n",
    "1. **Positive Aspects**:\n",
    "    - High-rating reviews frequently highlight the health benefits, flavor, and texture of the product.\n",
    "    - Customers appreciate the low-calorie content and the ease of incorporating the noodles into various dishes.\n",
    "\n",
    "2. **Negative Aspects**:\n",
    "    - Low-rating reviews often mention issues with the texture, specifically describing the noodles as rubbery or slimy.\n",
    "    - There are frequent complaints about the unpleasant smell upon opening the package.\n",
    "    - Some customers find the preparation process challenging and not user-friendly.\n",
    "\n",
    "3. **Sentiment Analysis**:\n",
    "    - The sentiment analysis reveals a clear correlation between the star ratings and the sentiment scores. Higher star ratings correspond to more positive sentiment, while lower star ratings show more negative sentiment.\n",
    "    - Text preprocessing significantly impacts sentiment scores, highlighting the importance of careful text preparation in sentiment analysis.\n",
    "\n",
    "4. **Topic Modeling**:\n",
    "    - LDA topic modeling has identified distinct themes within the reviews. High-rating reviews focus on health benefits and positive sensory experiences, while low-rating reviews highlight texture and smell issues.\n",
    "    - These insights help in understanding the primary factors that influence customer satisfaction and dissatisfaction.\n",
    "\n",
    "### Recommendations:\n",
    "\n",
    "Based on the insights gained from the analysis, the following recommendations are proposed to improve the product and enhance customer satisfaction:\n",
    "\n",
    "1. **Improve Texture**: Reformulate the product to address the rubbery texture, making it more similar to traditional noodles.\n",
    "2. **Enhance Absorption**: Improve the noodles’ ability to absorb cooking sauces to make them more versatile and flavorful.\n",
    "3. **Address Smell**: Explore ways to minimize any unpleasant odors upon opening the package.\n",
    "4. **Simplify Preparation**: Provide clearer cooking instructions and consider offering pre-cooked options.\n",
    "5. **Highlight Health Benefits**: Emphasize the low-calorie and healthy aspects in marketing materials to attract health-conscious customers.\n",
    "\n",
    "By implementing these recommendations, the product can better meet customer expectations, reduce negative feedback, and reinforce positive aspects that attract loyal customers."
   ]
  },
  {
   "cell_type": "markdown",
   "metadata": {},
   "source": [
    "\n",
    "## Limitations & Next Steps\n",
    "\n",
    "- To Do: apply HuggingFace sentiment classification pipelines\n",
    "- To Do: return to deep NLP modeling \n",
    "- To Do: add sentiment analysis and LDA topic modeling to streamlit app.\n",
    "\n",
    "\n",
    "<!-- ### For further information\n",
    "Please review the narrative of our analysis in [our jupyter notebook](./index.ipynb) or review our [presentation](./SampleProjectSlides.pdf)\n",
    "\n",
    "For any additional questions, please contact **email, email, email) -->\n",
    "\n",
    "<!-- \n",
    "##### Repository Structure:\n",
    "\n",
    "Here is where you would describe the structure of your repoistory and its contents, for exampe:\n",
    "\n",
    "```\n",
    "\n",
    "├── README.md               <- The top-level README for reviewers of this project.\n",
    "├── index.ipynb             <- narrative documentation of analysis in jupyter notebook\n",
    "├── presentation.pdf        <- pdf version of project presentation\n",
    "└── images\n",
    "    └── images               <- both sourced externally and generated from code\n",
    "└── data\n",
    "    └── \n",
    "\n",
    "``` -->"
   ]
  },
  {
   "cell_type": "markdown",
   "metadata": {},
   "source": []
  }
 ],
 "metadata": {
  "kernelspec": {
   "display_name": "Python 3 (ipykernel)",
   "language": "python",
   "name": "python3"
  },
  "language_info": {
   "codemirror_mode": {
    "name": "ipython",
    "version": 3
   },
   "file_extension": ".py",
   "mimetype": "text/x-python",
   "name": "python",
   "nbconvert_exporter": "python",
   "pygments_lexer": "ipython3",
   "version": "3.10.14"
  }
 },
 "nbformat": 4,
 "nbformat_minor": 4
}
