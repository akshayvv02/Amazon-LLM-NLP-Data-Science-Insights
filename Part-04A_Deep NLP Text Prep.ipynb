{
 "cells": [
  {
   "cell_type": "markdown",
   "id": "69383602-32d0-44b4-86d5-a29d46674555",
   "metadata": {},
   "source": [
    "# Part-04A: Deep NLP Text Preparation"
   ]
  },
  {
   "cell_type": "markdown",
   "id": "4f13052b",
   "metadata": {},
   "source": [
    "## Introduction\n",
    "\n",
    "Deep learning models have shown great potential in processing and understanding large volumes of text data. This notebook is dedicated to preparing text data for deep learning models using TensorFlow. We will cover essential steps such as creating train-test-validation splits, using Keras' TextVectorization layer, and building and evaluating various neural network models.\n",
    "\n",
    "#### Objectives\n",
    "\n",
    "1. **Prepare Data for Deep Learning**:\n",
    "   - Load and preprocess the Amazon Product Reviews dataset.\n",
    "   - Create train-test-validation splits to ensure robust model training and evaluation.\n",
    "\n",
    "2. **Text Vectorization**:\n",
    "   - Utilize Keras' TextVectorization layer to convert raw text into sequences of integers.\n",
    "   - Determine appropriate sequence lengths and batch the data for efficient processing.\n",
    "\n",
    "3. **Use Pre-trained Word Embeddings**:\n",
    "   - Load and utilize pre-trained GloVe word embeddings to enrich the text data with semantic information.\n",
    "   - Perform operations such as similarity checks and word arithmetic to explore the embeddings.\n",
    "\n",
    "4. **Build and Evaluate Neural Network Models**:\n",
    "   - Build and compile various neural network architectures, including Simple RNN, LSTM, GRU, and Attention models.\n",
    "   - Train the models using the prepared data and evaluate their performance using appropriate metrics.\n",
    "\n",
    "By the end of this notebook, we will have a set of well-prepared text data and trained deep learning models ready for further analysis and deployment. This preparation ensures that our models can effectively process and understand the text data, providing valuable insights and accurate predictions.\n"
   ]
  },
  {
   "cell_type": "code",
   "execution_count": 1,
   "id": "8a3487b0-db87-4f70-bc6c-a48e62956740",
   "metadata": {
    "execution": {
     "iopub.execute_input": "2024-07-09T16:27:08.056158Z",
     "iopub.status.busy": "2024-07-09T16:27:08.056024Z",
     "iopub.status.idle": "2024-07-09T16:27:08.060532Z",
     "shell.execute_reply": "2024-07-09T16:27:08.059852Z",
     "shell.execute_reply.started": "2024-07-09T16:27:08.056140Z"
    }
   },
   "outputs": [],
   "source": [
    "# Adding parent directory to python path\n",
    "import sys, os\n",
    "sys.path.append( os.path.abspath('../'))"
   ]
  },
  {
   "cell_type": "code",
   "execution_count": 2,
   "id": "02a96158",
   "metadata": {
    "execution": {
     "iopub.execute_input": "2024-07-09T16:27:08.061481Z",
     "iopub.status.busy": "2024-07-09T16:27:08.061337Z",
     "iopub.status.idle": "2024-07-09T16:27:08.063337Z",
     "shell.execute_reply": "2024-07-09T16:27:08.063046Z",
     "shell.execute_reply.started": "2024-07-09T16:27:08.061469Z"
    }
   },
   "outputs": [],
   "source": [
    "# # %conda install -y apple::tensorflow-deps\n",
    "# !python3 -m pip install tensorflow-macos\n",
    "# # !python3 -m pip install tensorflow-metal"
   ]
  },
  {
   "cell_type": "code",
   "execution_count": 3,
   "id": "23f8d776-63e5-4a02-afd8-04628e4c858e",
   "metadata": {
    "execution": {
     "iopub.execute_input": "2024-07-09T16:27:08.063933Z",
     "iopub.status.busy": "2024-07-09T16:27:08.063825Z",
     "iopub.status.idle": "2024-07-09T16:27:08.065852Z",
     "shell.execute_reply": "2024-07-09T16:27:08.065593Z",
     "shell.execute_reply.started": "2024-07-09T16:27:08.063923Z"
    }
   },
   "outputs": [
    {
     "name": "stdout",
     "output_type": "stream",
     "text": [
      "Requirement already satisfied: dojo_ds in /opt/homebrew/Caskroom/miniforge/base/envs/dojo-env/lib/python3.10/site-packages (1.1.15)\n"
     ]
    },
    {
     "data": {
      "text/plain": [
       "'1.1.15'"
      ]
     },
     "execution_count": 3,
     "metadata": {},
     "output_type": "execute_result"
    }
   ],
   "source": [
    "## Load the autoreload extension\n",
    "!pip install -U dojo_ds\n",
    "import dojo_ds as ds\n",
    "ds.__version__\n",
    "# %load_ext autoreload \n",
    "# %autoreload 2\n",
    "\n",
    "# import custom_functions_SOLUTION  as fn"
   ]
  },
  {
   "cell_type": "markdown",
   "id": "d90fe76e-5fa7-436e-9634-d67e5b470eab",
   "metadata": {},
   "source": [
    "## Data"
   ]
  },
  {
   "cell_type": "code",
   "execution_count": 4,
   "id": "d36b5806-1bf5-4c55-8e39-3f9159e26d1a",
   "metadata": {
    "execution": {
     "iopub.execute_input": "2024-07-09T16:27:08.066726Z",
     "iopub.status.busy": "2024-07-09T16:27:08.066630Z",
     "iopub.status.idle": "2024-07-09T16:27:08.070943Z",
     "shell.execute_reply": "2024-07-09T16:27:08.070564Z",
     "shell.execute_reply.started": "2024-07-09T16:27:08.066715Z"
    }
   },
   "outputs": [
    {
     "data": {
      "text/markdown": [
       "# Amazon Product Reviews\n",
       "\n",
       "- URL: https://cseweb.ucsd.edu/~jmcauley/datasets.html#amazon_reviews \n",
       "\n",
       "## Description\n",
       "\n",
       "This is a large crawl of product reviews from Amazon. This dataset contains 82.83 million unique reviews, from around 20 million users.\n",
       "\n",
       "## Basic statistics\n",
       "\n",
       "| Ratings:  | 82.83 million        |\n",
       "| --------- | -------------------- |\n",
       "| Users:    | 20.98 million        |\n",
       "| Items:    | 9.35 million         |\n",
       "| Timespan: | May 1996 - July 2014 |\n",
       "\n",
       "## Metadata\n",
       "\n",
       "- reviews and ratings\n",
       "- item-to-item relationships (e.g. \"people who bought X also bought Y\")\n",
       "- timestamps\n",
       "- helpfulness votes\n",
       "- product image (and CNN features)\n",
       "- price\n",
       "- category\n",
       "- salesRank\n",
       "\n",
       "## Example\n",
       "\n",
       "```\n",
       "{  \"reviewerID\": \"A2SUAM1J3GNN3B\",  \"asin\": \"0000013714\",  \"reviewerName\": \"J. McDonald\",  \"helpful\": [2, 3],  \"reviewText\": \"I bought this for my husband who plays the piano.  He is having a wonderful time playing these old hymns.  The music  is at times hard to read because we think the book was published for singing from more than playing from.  Great purchase though!\",  \"overall\": 5.0,  \"summary\": \"Heavenly Highway Hymns\",  \"unixReviewTime\": 1252800000,  \"reviewTime\": \"09 13, 2009\" }\n",
       "```\n",
       "\n",
       "## Download link\n",
       "\n",
       "See the [Amazon Dataset Page](https://cseweb.ucsd.edu/~jmcauley/datasets/amazon_v2/) for download information.\n",
       "\n",
       "The 2014 version of this dataset is [also available](https://cseweb.ucsd.edu/~jmcauley/datasets/amazon/links.html).\n",
       "\n",
       "## Citation\n",
       "\n",
       "Please cite the following if you use the data:\n",
       "\n",
       "**Ups and downs: Modeling the visual evolution of fashion trends with one-class collaborative filtering**\n",
       "\n",
       "R. He, J. McAuley\n",
       "\n",
       "*WWW*, 2016\n",
       "[pdf](https://cseweb.ucsd.edu/~jmcauley/pdfs/www16a.pdf)\n",
       "\n",
       "**Image-based recommendations on styles and substitutes**\n",
       "\n",
       "J. McAuley, C. Targett, J. Shi, A. van den Hengel\n",
       "\n",
       "*SIGIR*, 2015\n",
       "[pdf](https://cseweb.ucsd.edu/~jmcauley/pdfs/sigir15.pdf)"
      ],
      "text/plain": [
       "<IPython.core.display.Markdown object>"
      ]
     },
     "metadata": {},
     "output_type": "display_data"
    }
   ],
   "source": [
    "from IPython.display import display, Markdown\n",
    "with open(\"data/Amazon Product Reviews.md\") as f:\n",
    "    display(Markdown(f.read()))"
   ]
  },
  {
   "cell_type": "code",
   "execution_count": 5,
   "id": "c97861a7",
   "metadata": {
    "execution": {
     "iopub.execute_input": "2024-07-09T16:27:08.071735Z",
     "iopub.status.busy": "2024-07-09T16:27:08.071630Z",
     "iopub.status.idle": "2024-07-09T16:27:08.073732Z",
     "shell.execute_reply": "2024-07-09T16:27:08.073338Z",
     "shell.execute_reply.started": "2024-07-09T16:27:08.071722Z"
    }
   },
   "outputs": [],
   "source": [
    "# !pip install tensorflow-macos\"<2.13\"\n",
    "# !pip install tensorflow-metal\n",
    "# !pip install tf_keras"
   ]
  },
  {
   "cell_type": "code",
   "execution_count": 6,
   "id": "0091e098",
   "metadata": {
    "execution": {
     "iopub.execute_input": "2024-07-09T16:27:08.076675Z",
     "iopub.status.busy": "2024-07-09T16:27:08.076368Z",
     "iopub.status.idle": "2024-07-09T16:27:08.078736Z",
     "shell.execute_reply": "2024-07-09T16:27:08.078237Z",
     "shell.execute_reply.started": "2024-07-09T16:27:08.076662Z"
    }
   },
   "outputs": [],
   "source": [
    "# conda list tensorflow"
   ]
  },
  {
   "cell_type": "code",
   "execution_count": 7,
   "id": "f82ed03f",
   "metadata": {},
   "outputs": [],
   "source": [
    "# %pip install  tensorflow-macos --upgrade\n",
    "# %pip install  tensorflow-metal --upgrade"
   ]
  },
  {
   "cell_type": "code",
   "execution_count": 8,
   "id": "d1f7e2ff-dcf2-4b44-addc-6215aa8a9223",
   "metadata": {
    "execution": {
     "iopub.execute_input": "2024-07-09T16:27:08.079617Z",
     "iopub.status.busy": "2024-07-09T16:27:08.079417Z",
     "iopub.status.idle": "2024-07-09T16:27:10.734588Z",
     "shell.execute_reply": "2024-07-09T16:27:10.734304Z",
     "shell.execute_reply.started": "2024-07-09T16:27:08.079601Z"
    }
   },
   "outputs": [
    {
     "name": "stdout",
     "output_type": "stream",
     "text": [
      "tf.__version__='2.16.2'\n"
     ]
    }
   ],
   "source": [
    "import sys, os\n",
    "\n",
    "\n",
    "# os.environ['TF_USE_LEGACY_KERAS']='1'\n",
    "\n",
    "\n",
    "import tensorflow as tf\n",
    "import numpy as np\n",
    "\n",
    "# Then Set Random Seeds\n",
    "tf.keras.utils.set_random_seed(42)\n",
    "tf.random.set_seed(42)\n",
    "np.random.seed(42)\n",
    "# Then run the Enable Deterministic Operations Function\n",
    "tf.config.experimental.enable_op_determinism()\n",
    "\n",
    "# MacOS Sonoma Fix\n",
    "tf.config.set_visible_devices([], 'GPU')\n",
    "print(f\"{tf.__version__=}\")"
   ]
  },
  {
   "cell_type": "code",
   "execution_count": null,
   "id": "4515d747",
   "metadata": {},
   "outputs": [],
   "source": []
  },
  {
   "cell_type": "code",
   "execution_count": 9,
   "id": "89879753-84c6-40cb-a2a8-8d6e7221cdf3",
   "metadata": {
    "execution": {
     "iopub.execute_input": "2024-07-09T16:27:10.735218Z",
     "iopub.status.busy": "2024-07-09T16:27:10.735051Z",
     "iopub.status.idle": "2024-07-09T16:27:11.826224Z",
     "shell.execute_reply": "2024-07-09T16:27:11.825669Z",
     "shell.execute_reply.started": "2024-07-09T16:27:10.735205Z"
    }
   },
   "outputs": [],
   "source": [
    "import pandas as pd \n",
    "import seaborn as sns\n",
    "\n",
    "import pandas as pd\n",
    "import matplotlib.pyplot as plt\n",
    "import seaborn as sns\n",
    "import numpy as np\n",
    "\n",
    "\n",
    "from tensorflow.keras.layers import TextVectorization\n",
    "from tensorflow.keras import layers\n",
    "from tensorflow.keras import optimizers\n",
    "\n",
    "from sklearn.model_selection import train_test_split\n",
    "from sklearn.pipeline import make_pipeline, Pipeline\n",
    "from sklearn.model_selection import GridSearchCV\n",
    "from imblearn.under_sampling import RandomUnderSampler\n",
    "from sklearn.preprocessing import LabelEncoder\n",
    "from sklearn import set_config\n",
    "set_config(transform_output='pandas')\n",
    "pd.set_option('display.max_colwidth', 250)\n",
    "\n",
    "# Define a function for building an LSTM model\n",
    "from tensorflow.keras.models import Sequential\n",
    "from tensorflow.keras import layers, optimizers, regularizers"
   ]
  },
  {
   "cell_type": "code",
   "execution_count": 10,
   "id": "7c94ee65-ba8f-42c9-96ae-5da730f0fccf",
   "metadata": {
    "execution": {
     "iopub.execute_input": "2024-07-09T16:27:11.827041Z",
     "iopub.status.busy": "2024-07-09T16:27:11.826818Z",
     "iopub.status.idle": "2024-07-09T16:27:11.831577Z",
     "shell.execute_reply": "2024-07-09T16:27:11.830922Z",
     "shell.execute_reply.started": "2024-07-09T16:27:11.827030Z"
    }
   },
   "outputs": [
    {
     "data": {
      "text/plain": [
       "{'train_joblib': 'data/modeling/training-data.joblib',\n",
       " 'test_joblib': 'data/modeling/testing-data.joblib'}"
      ]
     },
     "execution_count": 10,
     "metadata": {},
     "output_type": "execute_result"
    }
   ],
   "source": [
    "import json, joblib\n",
    "with open(\"config/filepaths.json\") as f:\n",
    "    FPATHS = json.load(f)\n",
    "FPATHS['data']['ml-nlp']"
   ]
  },
  {
   "cell_type": "code",
   "execution_count": 11,
   "id": "834abd80-da7c-492b-92b1-033226750db7",
   "metadata": {
    "execution": {
     "iopub.execute_input": "2024-07-09T16:27:11.832387Z",
     "iopub.status.busy": "2024-07-09T16:27:11.832250Z",
     "iopub.status.idle": "2024-07-09T16:27:15.090043Z",
     "shell.execute_reply": "2024-07-09T16:27:15.089633Z",
     "shell.execute_reply.started": "2024-07-09T16:27:11.832373Z"
    }
   },
   "outputs": [
    {
     "name": "stdout",
     "output_type": "stream",
     "text": [
      "Requirement already satisfied: dojo_ds in /opt/homebrew/Caskroom/miniforge/base/envs/dojo-env/lib/python3.10/site-packages (1.1.15)\n"
     ]
    }
   ],
   "source": [
    "## Load the autoreload extension\n",
    "!pip install -U dojo_ds\n",
    "import dojo_ds as fn\n",
    "# %load_ext autoreload \n",
    "# %autoreload 2\n",
    "\n",
    "# import custom_functions_SOLUTION  as fn"
   ]
  },
  {
   "cell_type": "markdown",
   "id": "af17cb96-9d5c-4544-92a3-1b2eee5a86ac",
   "metadata": {},
   "source": [
    "## Function Code"
   ]
  },
  {
   "cell_type": "code",
   "execution_count": 12,
   "id": "1631f2d8-13df-4c23-ad92-4c4c34854853",
   "metadata": {
    "execution": {
     "iopub.execute_input": "2024-07-09T16:29:00.179636Z",
     "iopub.status.busy": "2024-07-09T16:29:00.179231Z",
     "iopub.status.idle": "2024-07-09T16:29:00.189677Z",
     "shell.execute_reply": "2024-07-09T16:29:00.189413Z",
     "shell.execute_reply.started": "2024-07-09T16:29:00.179612Z"
    }
   },
   "outputs": [
    {
     "data": {
      "text/markdown": [
       "```python\n",
       "def evaluate_classification_network(model, \n",
       "                                    X_train=None, y_train=None, \n",
       "                                    X_test=None, y_test=None,\n",
       "                                    history=None, history_figsize=(6,6),\n",
       "                                    figsize=(6,4), normalize='true',\n",
       "                                    output_dict = False,\n",
       "                                    cmap_train='Blues',\n",
       "                                    cmap_test=\"Reds\",\n",
       "                                    values_format=\".2f\", \n",
       "                                    colorbar=False, target_names=None, \n",
       "         return_fig=False):\n",
       "    \"\"\"Evaluates a neural network classification task using either\n",
       "    separate X and y arrays or a tensorflow Dataset\n",
       "\n",
       "    Args:\n",
       "        model (sklearn-compatible classifier): Model to evaluate.\n",
       "        X_train (array or tf.data.Dataset, optional): Training data. Defaults to None.\n",
       "        y_train (array, or None if X_train is a tf Dataset, optional): Training labels (if not using a tf dataset). Defaults to None.\n",
       "        X_test (array or tf.data.Dataset, optional): Test data. Defaults to None.\n",
       "        y_test (array, or None if X_test is a tf Dataset, optional): Test labels (if not using a tf Dataset). Defaults to None.\n",
       "        history (tensorflow history object, optional): History object from model training. Defaults to None.\n",
       "        history_figsize (tuple, optional): Total figure size for plot_history. Defaults to (6,8).\n",
       "        figsize (tuple, optional): figsize for confusion matrix subplots. Defaults to (6,4).\n",
       "        normalize (str, optional): arg for sklearn's ConfusionMatrixDisplay. Defaults to 'true' (conf mat values normalized to true class).  \n",
       "        output_dict (bool, optional):  Return the results of classification_report as a dict. Defaults to False. Defaults to False.\n",
       "        cmap_train (str, optional): Colormap for the ConfusionMatrixDisplay for training data. Defaults to 'Blues'.\n",
       "        cmap_test (str, optional): Colormap for the ConfusionMatrixDisplay for test data.  Defaults to \"Reds\".\n",
       "        colorbar (bool, optional): Arg for ConfusionMatrixDispaly: include colorbar or not. Defaults to False.\n",
       "        values_format (str, optional): Format values on confusion matrix. Defaults to \".2f\".\n",
       "        target_names (array, optional): Text labels for the integer-encoded target. Passed in numeric order [label for \"0\", label for \"1\", etc.]\n",
       "        return_fig (bool, optional): Whether the matplotlib figure for confusion matrix is returned. Defaults to False.\n",
       "                                          Note: Must set outout_dict to False and set return_fig to True to get figure returned.\n",
       "\n",
       "\n",
       "     Returns (Only 1 value is returned, but contents vary):\n",
       "        dict: Dictionary that contains results for \"train\" and \"test. \n",
       "            Contents of dictionary depending on output_dict and return_fig:\n",
       "              - if output_dict==True and return_fig==False: returns dictionary of classification report results\n",
       "            - if output_dict==False and return_fig==True: returns dictionary of confusion matrix displays.\n",
       "    \"\"\"\n",
       "    if (X_train is None) & (X_test is None):\n",
       "        raise Exception('\\nEither X_train & y_train or X_test & y_test must be provided.')\n",
       " \n",
       "    shared_kwargs = dict(output_dict=True, \n",
       "                      figsize=figsize,\n",
       "                      colorbar=colorbar,\n",
       "                      values_format=values_format, \n",
       "                      target_names=target_names,)\n",
       "    # Plot history, if provided\n",
       "    if history is not None:\n",
       "        plot_history(history, figsize=history_figsize)\n",
       "    ## Adding a Print Header\n",
       "    print(\"\\n\"+'='*80)\n",
       "    print('- Evaluating Network...')\n",
       "    print('='*80)\n",
       "    ## TRAINING DATA EVALUATION\n",
       "    # check if X_train was provided\n",
       "    if X_train is not None:\n",
       "        ## Check if X_train is a dataset\n",
       "        # if hasattr(X_train,'map'):\n",
       "        type_str = str(type(X_train))\n",
       "        if type_str.startswith(\"tensorflow\") or \"dataset\" in type_str.lower():\n",
       "            # If it IS a Datset:\n",
       "            # extract y_train and y_train_pred with helper function\n",
       "            y_train, y_train_pred = get_true_pred_labels(model, X_train)\n",
       "        else:\n",
       "            # Get predictions for training data\n",
       "            y_train_pred = model.predict(X_train)\n",
       "        ## Pass both y-vars through helper compatibility function\n",
       "        y_train = convert_y_to_sklearn_classes(y_train)\n",
       "        y_train_pred = convert_y_to_sklearn_classes(y_train_pred)\n",
       "        \n",
       "        # Call the helper function to obtain regression metrics for training data\n",
       "        results_train = classification_metrics(y_train, y_train_pred, cmap=cmap_train,label='Training Data', **shared_kwargs)\n",
       "        \n",
       "        ## Run model.evaluate         \n",
       "        print(\"\\n- Evaluating Training Data:\")\n",
       "        print(model.evaluate(X_train, return_dict=True))\n",
       "    \n",
       "    # If no X_train, then save empty list for results_train\n",
       "    else:\n",
       "        results_train = None\n",
       "  \n",
       "  \n",
       "    ## TEST DATA EVALUATION\n",
       "    # check if X_test was provided\n",
       "    if X_test is not None:\n",
       "        ## Check if X_train is a dataset\n",
       "        if hasattr(X_test,'map'):\n",
       "            # If it IS a Datset:\n",
       "            # extract y_train and y_train_pred with helper function\n",
       "            y_test, y_test_pred = get_true_pred_labels(model, X_test)\n",
       "        else:\n",
       "            # Get predictions for training data\n",
       "            y_test_pred = model.predict(X_test)\n",
       "        ## Pass both y-vars through helper compatibility function\n",
       "        y_test = convert_y_to_sklearn_classes(y_test)\n",
       "        y_test_pred = convert_y_to_sklearn_classes(y_test_pred)\n",
       "        \n",
       "        # Call the helper function to obtain regression metrics for training data\n",
       "        results_test = classification_metrics(y_test, y_test_pred, cmap=cmap_test,label='Test Data', **shared_kwargs)\n",
       "        \n",
       "        ## Run model.evaluate         \n",
       "        print(\"\\n- Evaluating Test Data:\")\n",
       "        print(model.evaluate(X_test, return_dict=True))\n",
       "      \n",
       "    # If no X_test, then save empty list for results_test\n",
       "    else:\n",
       "        results_test = None\n",
       "      \n",
       "    if (output_dict == True) | (return_fig==True):\n",
       "        # Store results in a dataframe if ouput_frame is True\n",
       "        results_dict = {'train':results_train,\n",
       "                        'test': results_test}\n",
       "        return results_dict\n",
       "\n",
       "```"
      ],
      "text/plain": [
       "<IPython.core.display.Markdown object>"
      ]
     },
     "metadata": {},
     "output_type": "display_data"
    },
    {
     "data": {
      "text/markdown": [
       "```python\n",
       "def classification_metrics(y_true, y_pred, label='',\n",
       "                           output_dict=False, figsize=(8,4),\n",
       "                           normalize='true', cmap='Blues',\n",
       "                           colorbar=False, values_format=\".2f\",\n",
       "                           target_names = None, return_fig=True):\n",
       "    \"\"\"\n",
       "    Calculate classification metrics from predictions and display Confusion matrix.\n",
       "\n",
       "    Args:\n",
       "        y_true (Series/array): True target values.\n",
       "        y_pred (Series/array): Predicted target values.\n",
       "        label (str, optional): Label for printed header. Defaults to ''.\n",
       "        output_dict (bool, optional): Return the results of classification_report as a dict. Defaults to False.\n",
       "        figsize (tuple, optional): figsize for confusion matrix subplots. Defaults to (8,4).\n",
       "        normalize (str, optional): Arg for sklearn's ConfusionMatrixDisplay. Defaults to 'true' (conf mat values normalized to true class).\n",
       "        cmap (str, optional): Colormap for the ConfusionMatrixDisplay. Defaults to 'Blues'.\n",
       "        colorbar (bool, optional): Arg for ConfusionMatrixDisplay: include colorbar or not. Defaults to False.\n",
       "        values_format (str, optional): Format values on confusion matrix. Defaults to \".2f\".\n",
       "        target_names (array, optional): Text labels for the integer-encoded target. Passed in numeric order [label for \"0\", label for \"1\", etc.].\n",
       "        return_fig (bool, optional): To get matplotlib figure for confusion matrix, set output_dict to False and set return_fig to True.\n",
       "\n",
       "    Returns:\n",
       "        dict: Dictionary from classification_report. Only returned if output_dict=True.\n",
       "        fig: Matplotlib figure with confusion matrix. Only returned if output_dict=False and return_fig=True.\n",
       "\n",
       "    Note: \n",
       "        This is a modified version of the classification metrics function from Intro to Machine Learning.\n",
       "        Updates:\n",
       "          - Reversed raw counts confusion matrix cmap (so darker==more).\n",
       "          - Added arg for normalized confusion matrix values_format.\n",
       "    \"\"\"\n",
       "    from sklearn.metrics import classification_report, ConfusionMatrixDisplay\n",
       "    import matplotlib.pyplot as plt\n",
       "    import numpy as np\n",
       "    # Get the classification report\n",
       "    report = classification_report(y_true, y_pred,target_names=target_names)\n",
       "    \n",
       "    ## Print header and report\n",
       "    header = \"-\"*70\n",
       "    print(header, f\" Classification Metrics: {label}\", header, sep='\\n')\n",
       "    print(report)\n",
       "    \n",
       "    ## CONFUSION MATRICES SUBPLOTS\n",
       "    fig, axes = plt.subplots(ncols=2, figsize=figsize)\n",
       "    \n",
       "    # Create a confusion matrix of raw counts (left subplot)\n",
       "    ConfusionMatrixDisplay.from_predictions(y_true, y_pred,\n",
       "                                            normalize=None, \n",
       "                                            cmap='gist_gray_r',# Updated cmap\n",
       "                                            values_format=\"d\", \n",
       "                                            colorbar=colorbar,\n",
       "                                            ax = axes[0], \n",
       "                                            display_labels=target_names);\n",
       "    axes[0].set_title(\"Raw Counts\")\n",
       "    \n",
       "    # Create a confusion matrix with the data with normalize argument \n",
       "    ConfusionMatrixDisplay.from_predictions(y_true, y_pred,\n",
       "                                            normalize=normalize,\n",
       "                                            cmap=cmap, \n",
       "                                            values_format=values_format, #New arg\n",
       "                                            colorbar=colorbar,\n",
       "                                            ax = axes[1],\n",
       "                                            display_labels=target_names);\n",
       "    axes[1].set_title(\"Normalized Confusion Matrix\")\n",
       "    \n",
       "    # Adjust layout and show figure\n",
       "    fig.tight_layout()\n",
       "    plt.show()\n",
       "    \n",
       "    # Return dictionary of classification_report\n",
       "    if output_dict==True:\n",
       "        report_dict = classification_report(y_true, y_pred,target_names=target_names, output_dict=True)\n",
       "        return report_dict\n",
       "\n",
       "    elif return_fig == True:\n",
       "        return fig\n",
       "\n",
       "```"
      ],
      "text/plain": [
       "<IPython.core.display.Markdown object>"
      ]
     },
     "metadata": {},
     "output_type": "display_data"
    },
    {
     "data": {
      "text/markdown": [
       "```python\n",
       "def convert_y_to_sklearn_classes(y, verbose=False):\n",
       "    \"\"\"\n",
       "    Helper function to convert neural network outputs to class labels.\n",
       "\n",
       "    Args:\n",
       "        y (array/Series): Predictions to convert to classes.\n",
       "        verbose (bool, optional): Print which preprocessing approach is used. Defaults to False.\n",
       "\n",
       "    Returns:\n",
       "        array: Target as 1D class labels\n",
       "    \"\"\"\n",
       "    import numpy as np\n",
       "\n",
       "    # If already one-dimension\n",
       "    if np.ndim(y) == 1:\n",
       "        if verbose:\n",
       "            print(\"- y is 1D, using it as-is.\")\n",
       "        return y\n",
       "\n",
       "    # If 2 dimensions with more than 1 column:\n",
       "    elif y.shape[1] > 1:\n",
       "        if verbose:\n",
       "            print(\"- y is 2D with >1 column. Using argmax for metrics.\")\n",
       "        return np.argmax(y, axis=1)\n",
       "\n",
       "    else:\n",
       "        if verbose:\n",
       "            print(\"y is 2D with 1 column. Using round for metrics.\")\n",
       "        return np.round(y).flatten().astype(int)\n",
       "\n",
       "```"
      ],
      "text/plain": [
       "<IPython.core.display.Markdown object>"
      ]
     },
     "metadata": {},
     "output_type": "display_data"
    }
   ],
   "source": [
    "fn.show_code(fn.evaluate.evaluate_classification_network)\n",
    "fn.show_code(fn.evaluate.classification_metrics)\n",
    "fn.show_code(fn.evaluate.convert_y_to_sklearn_classes)"
   ]
  },
  {
   "cell_type": "code",
   "execution_count": null,
   "id": "544a58c0-11b9-46a1-b1b7-0aca76351e0c",
   "metadata": {},
   "outputs": [],
   "source": []
  },
  {
   "cell_type": "markdown",
   "id": "2486c413-1286-46df-b939-b6cc423e9b4e",
   "metadata": {},
   "source": [
    "## From Train-Test Split for ML to Train-Test-Val Split for ANNs"
   ]
  },
  {
   "cell_type": "code",
   "execution_count": 13,
   "id": "f2692dd8-7b76-4008-b63d-35b84a4b1f67",
   "metadata": {
    "execution": {
     "iopub.execute_input": "2024-07-09T16:27:15.090819Z",
     "iopub.status.busy": "2024-07-09T16:27:15.090614Z",
     "iopub.status.idle": "2024-07-09T16:27:15.097755Z",
     "shell.execute_reply": "2024-07-09T16:27:15.097261Z",
     "shell.execute_reply.started": "2024-07-09T16:27:15.090806Z"
    }
   },
   "outputs": [],
   "source": [
    "X_train, y_train = joblib.load(FPATHS['data']['ml-nlp']['train_joblib'])\n",
    "X_test, y_test = joblib.load(FPATHS['data']['ml-nlp']['test_joblib'])"
   ]
  },
  {
   "cell_type": "markdown",
   "id": "d04f3486-8db8-4486-b931-bdc11d14a662",
   "metadata": {},
   "source": [
    "- Can't use text labels with neural networks."
   ]
  },
  {
   "cell_type": "code",
   "execution_count": 14,
   "id": "f098d599-e5a0-4d07-b8aa-a61ae8659921",
   "metadata": {
    "execution": {
     "iopub.execute_input": "2024-07-09T16:27:15.098644Z",
     "iopub.status.busy": "2024-07-09T16:27:15.098522Z",
     "iopub.status.idle": "2024-07-09T16:27:15.100811Z",
     "shell.execute_reply": "2024-07-09T16:27:15.100259Z",
     "shell.execute_reply.started": "2024-07-09T16:27:15.098633Z"
    }
   },
   "outputs": [],
   "source": [
    "# Instansiate label encoder\n",
    "# encoder = joblib.load()...LabelEncoder()"
   ]
  },
  {
   "cell_type": "code",
   "execution_count": 15,
   "id": "d319c2f9-60a7-4f4e-b2e2-acf0a1fe0f69",
   "metadata": {
    "execution": {
     "iopub.execute_input": "2024-07-09T16:27:15.101606Z",
     "iopub.status.busy": "2024-07-09T16:27:15.101451Z",
     "iopub.status.idle": "2024-07-09T16:27:15.113554Z",
     "shell.execute_reply": "2024-07-09T16:27:15.113079Z",
     "shell.execute_reply.started": "2024-07-09T16:27:15.101596Z"
    }
   },
   "outputs": [],
   "source": [
    "from sklearn.feature_extraction.text import CountVectorizer, TfidfVectorizer\n",
    "from sklearn.pipeline import Pipeline\n",
    "from sklearn.naive_bayes import MultinomialNB\n",
    "import joblib"
   ]
  },
  {
   "cell_type": "code",
   "execution_count": 16,
   "id": "292e57e0",
   "metadata": {
    "execution": {
     "iopub.execute_input": "2024-07-09T16:27:15.114416Z",
     "iopub.status.busy": "2024-07-09T16:27:15.114309Z",
     "iopub.status.idle": "2024-07-09T16:27:15.117451Z",
     "shell.execute_reply": "2024-07-09T16:27:15.117009Z",
     "shell.execute_reply.started": "2024-07-09T16:27:15.114406Z"
    }
   },
   "outputs": [
    {
     "data": {
      "text/plain": [
       "True"
      ]
     },
     "execution_count": 16,
     "metadata": {},
     "output_type": "execute_result"
    }
   ],
   "source": [
    "'encoder' in str(FPATHS)#['models'][ml]"
   ]
  },
  {
   "cell_type": "code",
   "execution_count": 17,
   "id": "969e9750",
   "metadata": {
    "execution": {
     "iopub.execute_input": "2024-07-09T16:27:15.118059Z",
     "iopub.status.busy": "2024-07-09T16:27:15.117947Z",
     "iopub.status.idle": "2024-07-09T16:27:15.123578Z",
     "shell.execute_reply": "2024-07-09T16:27:15.123304Z",
     "shell.execute_reply.started": "2024-07-09T16:27:15.118048Z"
    }
   },
   "outputs": [
    {
     "data": {
      "text/html": [
       "<style>#sk-container-id-1 {\n",
       "  /* Definition of color scheme common for light and dark mode */\n",
       "  --sklearn-color-text: black;\n",
       "  --sklearn-color-line: gray;\n",
       "  /* Definition of color scheme for unfitted estimators */\n",
       "  --sklearn-color-unfitted-level-0: #fff5e6;\n",
       "  --sklearn-color-unfitted-level-1: #f6e4d2;\n",
       "  --sklearn-color-unfitted-level-2: #ffe0b3;\n",
       "  --sklearn-color-unfitted-level-3: chocolate;\n",
       "  /* Definition of color scheme for fitted estimators */\n",
       "  --sklearn-color-fitted-level-0: #f0f8ff;\n",
       "  --sklearn-color-fitted-level-1: #d4ebff;\n",
       "  --sklearn-color-fitted-level-2: #b3dbfd;\n",
       "  --sklearn-color-fitted-level-3: cornflowerblue;\n",
       "\n",
       "  /* Specific color for light theme */\n",
       "  --sklearn-color-text-on-default-background: var(--sg-text-color, var(--theme-code-foreground, var(--jp-content-font-color1, black)));\n",
       "  --sklearn-color-background: var(--sg-background-color, var(--theme-background, var(--jp-layout-color0, white)));\n",
       "  --sklearn-color-border-box: var(--sg-text-color, var(--theme-code-foreground, var(--jp-content-font-color1, black)));\n",
       "  --sklearn-color-icon: #696969;\n",
       "\n",
       "  @media (prefers-color-scheme: dark) {\n",
       "    /* Redefinition of color scheme for dark theme */\n",
       "    --sklearn-color-text-on-default-background: var(--sg-text-color, var(--theme-code-foreground, var(--jp-content-font-color1, white)));\n",
       "    --sklearn-color-background: var(--sg-background-color, var(--theme-background, var(--jp-layout-color0, #111)));\n",
       "    --sklearn-color-border-box: var(--sg-text-color, var(--theme-code-foreground, var(--jp-content-font-color1, white)));\n",
       "    --sklearn-color-icon: #878787;\n",
       "  }\n",
       "}\n",
       "\n",
       "#sk-container-id-1 {\n",
       "  color: var(--sklearn-color-text);\n",
       "}\n",
       "\n",
       "#sk-container-id-1 pre {\n",
       "  padding: 0;\n",
       "}\n",
       "\n",
       "#sk-container-id-1 input.sk-hidden--visually {\n",
       "  border: 0;\n",
       "  clip: rect(1px 1px 1px 1px);\n",
       "  clip: rect(1px, 1px, 1px, 1px);\n",
       "  height: 1px;\n",
       "  margin: -1px;\n",
       "  overflow: hidden;\n",
       "  padding: 0;\n",
       "  position: absolute;\n",
       "  width: 1px;\n",
       "}\n",
       "\n",
       "#sk-container-id-1 div.sk-dashed-wrapped {\n",
       "  border: 1px dashed var(--sklearn-color-line);\n",
       "  margin: 0 0.4em 0.5em 0.4em;\n",
       "  box-sizing: border-box;\n",
       "  padding-bottom: 0.4em;\n",
       "  background-color: var(--sklearn-color-background);\n",
       "}\n",
       "\n",
       "#sk-container-id-1 div.sk-container {\n",
       "  /* jupyter's `normalize.less` sets `[hidden] { display: none; }`\n",
       "     but bootstrap.min.css set `[hidden] { display: none !important; }`\n",
       "     so we also need the `!important` here to be able to override the\n",
       "     default hidden behavior on the sphinx rendered scikit-learn.org.\n",
       "     See: https://github.com/scikit-learn/scikit-learn/issues/21755 */\n",
       "  display: inline-block !important;\n",
       "  position: relative;\n",
       "}\n",
       "\n",
       "#sk-container-id-1 div.sk-text-repr-fallback {\n",
       "  display: none;\n",
       "}\n",
       "\n",
       "div.sk-parallel-item,\n",
       "div.sk-serial,\n",
       "div.sk-item {\n",
       "  /* draw centered vertical line to link estimators */\n",
       "  background-image: linear-gradient(var(--sklearn-color-text-on-default-background), var(--sklearn-color-text-on-default-background));\n",
       "  background-size: 2px 100%;\n",
       "  background-repeat: no-repeat;\n",
       "  background-position: center center;\n",
       "}\n",
       "\n",
       "/* Parallel-specific style estimator block */\n",
       "\n",
       "#sk-container-id-1 div.sk-parallel-item::after {\n",
       "  content: \"\";\n",
       "  width: 100%;\n",
       "  border-bottom: 2px solid var(--sklearn-color-text-on-default-background);\n",
       "  flex-grow: 1;\n",
       "}\n",
       "\n",
       "#sk-container-id-1 div.sk-parallel {\n",
       "  display: flex;\n",
       "  align-items: stretch;\n",
       "  justify-content: center;\n",
       "  background-color: var(--sklearn-color-background);\n",
       "  position: relative;\n",
       "}\n",
       "\n",
       "#sk-container-id-1 div.sk-parallel-item {\n",
       "  display: flex;\n",
       "  flex-direction: column;\n",
       "}\n",
       "\n",
       "#sk-container-id-1 div.sk-parallel-item:first-child::after {\n",
       "  align-self: flex-end;\n",
       "  width: 50%;\n",
       "}\n",
       "\n",
       "#sk-container-id-1 div.sk-parallel-item:last-child::after {\n",
       "  align-self: flex-start;\n",
       "  width: 50%;\n",
       "}\n",
       "\n",
       "#sk-container-id-1 div.sk-parallel-item:only-child::after {\n",
       "  width: 0;\n",
       "}\n",
       "\n",
       "/* Serial-specific style estimator block */\n",
       "\n",
       "#sk-container-id-1 div.sk-serial {\n",
       "  display: flex;\n",
       "  flex-direction: column;\n",
       "  align-items: center;\n",
       "  background-color: var(--sklearn-color-background);\n",
       "  padding-right: 1em;\n",
       "  padding-left: 1em;\n",
       "}\n",
       "\n",
       "\n",
       "/* Toggleable style: style used for estimator/Pipeline/ColumnTransformer box that is\n",
       "clickable and can be expanded/collapsed.\n",
       "- Pipeline and ColumnTransformer use this feature and define the default style\n",
       "- Estimators will overwrite some part of the style using the `sk-estimator` class\n",
       "*/\n",
       "\n",
       "/* Pipeline and ColumnTransformer style (default) */\n",
       "\n",
       "#sk-container-id-1 div.sk-toggleable {\n",
       "  /* Default theme specific background. It is overwritten whether we have a\n",
       "  specific estimator or a Pipeline/ColumnTransformer */\n",
       "  background-color: var(--sklearn-color-background);\n",
       "}\n",
       "\n",
       "/* Toggleable label */\n",
       "#sk-container-id-1 label.sk-toggleable__label {\n",
       "  cursor: pointer;\n",
       "  display: block;\n",
       "  width: 100%;\n",
       "  margin-bottom: 0;\n",
       "  padding: 0.5em;\n",
       "  box-sizing: border-box;\n",
       "  text-align: center;\n",
       "}\n",
       "\n",
       "#sk-container-id-1 label.sk-toggleable__label-arrow:before {\n",
       "  /* Arrow on the left of the label */\n",
       "  content: \"▸\";\n",
       "  float: left;\n",
       "  margin-right: 0.25em;\n",
       "  color: var(--sklearn-color-icon);\n",
       "}\n",
       "\n",
       "#sk-container-id-1 label.sk-toggleable__label-arrow:hover:before {\n",
       "  color: var(--sklearn-color-text);\n",
       "}\n",
       "\n",
       "/* Toggleable content - dropdown */\n",
       "\n",
       "#sk-container-id-1 div.sk-toggleable__content {\n",
       "  max-height: 0;\n",
       "  max-width: 0;\n",
       "  overflow: hidden;\n",
       "  text-align: left;\n",
       "  /* unfitted */\n",
       "  background-color: var(--sklearn-color-unfitted-level-0);\n",
       "}\n",
       "\n",
       "#sk-container-id-1 div.sk-toggleable__content.fitted {\n",
       "  /* fitted */\n",
       "  background-color: var(--sklearn-color-fitted-level-0);\n",
       "}\n",
       "\n",
       "#sk-container-id-1 div.sk-toggleable__content pre {\n",
       "  margin: 0.2em;\n",
       "  border-radius: 0.25em;\n",
       "  color: var(--sklearn-color-text);\n",
       "  /* unfitted */\n",
       "  background-color: var(--sklearn-color-unfitted-level-0);\n",
       "}\n",
       "\n",
       "#sk-container-id-1 div.sk-toggleable__content.fitted pre {\n",
       "  /* unfitted */\n",
       "  background-color: var(--sklearn-color-fitted-level-0);\n",
       "}\n",
       "\n",
       "#sk-container-id-1 input.sk-toggleable__control:checked~div.sk-toggleable__content {\n",
       "  /* Expand drop-down */\n",
       "  max-height: 200px;\n",
       "  max-width: 100%;\n",
       "  overflow: auto;\n",
       "}\n",
       "\n",
       "#sk-container-id-1 input.sk-toggleable__control:checked~label.sk-toggleable__label-arrow:before {\n",
       "  content: \"▾\";\n",
       "}\n",
       "\n",
       "/* Pipeline/ColumnTransformer-specific style */\n",
       "\n",
       "#sk-container-id-1 div.sk-label input.sk-toggleable__control:checked~label.sk-toggleable__label {\n",
       "  color: var(--sklearn-color-text);\n",
       "  background-color: var(--sklearn-color-unfitted-level-2);\n",
       "}\n",
       "\n",
       "#sk-container-id-1 div.sk-label.fitted input.sk-toggleable__control:checked~label.sk-toggleable__label {\n",
       "  background-color: var(--sklearn-color-fitted-level-2);\n",
       "}\n",
       "\n",
       "/* Estimator-specific style */\n",
       "\n",
       "/* Colorize estimator box */\n",
       "#sk-container-id-1 div.sk-estimator input.sk-toggleable__control:checked~label.sk-toggleable__label {\n",
       "  /* unfitted */\n",
       "  background-color: var(--sklearn-color-unfitted-level-2);\n",
       "}\n",
       "\n",
       "#sk-container-id-1 div.sk-estimator.fitted input.sk-toggleable__control:checked~label.sk-toggleable__label {\n",
       "  /* fitted */\n",
       "  background-color: var(--sklearn-color-fitted-level-2);\n",
       "}\n",
       "\n",
       "#sk-container-id-1 div.sk-label label.sk-toggleable__label,\n",
       "#sk-container-id-1 div.sk-label label {\n",
       "  /* The background is the default theme color */\n",
       "  color: var(--sklearn-color-text-on-default-background);\n",
       "}\n",
       "\n",
       "/* On hover, darken the color of the background */\n",
       "#sk-container-id-1 div.sk-label:hover label.sk-toggleable__label {\n",
       "  color: var(--sklearn-color-text);\n",
       "  background-color: var(--sklearn-color-unfitted-level-2);\n",
       "}\n",
       "\n",
       "/* Label box, darken color on hover, fitted */\n",
       "#sk-container-id-1 div.sk-label.fitted:hover label.sk-toggleable__label.fitted {\n",
       "  color: var(--sklearn-color-text);\n",
       "  background-color: var(--sklearn-color-fitted-level-2);\n",
       "}\n",
       "\n",
       "/* Estimator label */\n",
       "\n",
       "#sk-container-id-1 div.sk-label label {\n",
       "  font-family: monospace;\n",
       "  font-weight: bold;\n",
       "  display: inline-block;\n",
       "  line-height: 1.2em;\n",
       "}\n",
       "\n",
       "#sk-container-id-1 div.sk-label-container {\n",
       "  text-align: center;\n",
       "}\n",
       "\n",
       "/* Estimator-specific */\n",
       "#sk-container-id-1 div.sk-estimator {\n",
       "  font-family: monospace;\n",
       "  border: 1px dotted var(--sklearn-color-border-box);\n",
       "  border-radius: 0.25em;\n",
       "  box-sizing: border-box;\n",
       "  margin-bottom: 0.5em;\n",
       "  /* unfitted */\n",
       "  background-color: var(--sklearn-color-unfitted-level-0);\n",
       "}\n",
       "\n",
       "#sk-container-id-1 div.sk-estimator.fitted {\n",
       "  /* fitted */\n",
       "  background-color: var(--sklearn-color-fitted-level-0);\n",
       "}\n",
       "\n",
       "/* on hover */\n",
       "#sk-container-id-1 div.sk-estimator:hover {\n",
       "  /* unfitted */\n",
       "  background-color: var(--sklearn-color-unfitted-level-2);\n",
       "}\n",
       "\n",
       "#sk-container-id-1 div.sk-estimator.fitted:hover {\n",
       "  /* fitted */\n",
       "  background-color: var(--sklearn-color-fitted-level-2);\n",
       "}\n",
       "\n",
       "/* Specification for estimator info (e.g. \"i\" and \"?\") */\n",
       "\n",
       "/* Common style for \"i\" and \"?\" */\n",
       "\n",
       ".sk-estimator-doc-link,\n",
       "a:link.sk-estimator-doc-link,\n",
       "a:visited.sk-estimator-doc-link {\n",
       "  float: right;\n",
       "  font-size: smaller;\n",
       "  line-height: 1em;\n",
       "  font-family: monospace;\n",
       "  background-color: var(--sklearn-color-background);\n",
       "  border-radius: 1em;\n",
       "  height: 1em;\n",
       "  width: 1em;\n",
       "  text-decoration: none !important;\n",
       "  margin-left: 1ex;\n",
       "  /* unfitted */\n",
       "  border: var(--sklearn-color-unfitted-level-1) 1pt solid;\n",
       "  color: var(--sklearn-color-unfitted-level-1);\n",
       "}\n",
       "\n",
       ".sk-estimator-doc-link.fitted,\n",
       "a:link.sk-estimator-doc-link.fitted,\n",
       "a:visited.sk-estimator-doc-link.fitted {\n",
       "  /* fitted */\n",
       "  border: var(--sklearn-color-fitted-level-1) 1pt solid;\n",
       "  color: var(--sklearn-color-fitted-level-1);\n",
       "}\n",
       "\n",
       "/* On hover */\n",
       "div.sk-estimator:hover .sk-estimator-doc-link:hover,\n",
       ".sk-estimator-doc-link:hover,\n",
       "div.sk-label-container:hover .sk-estimator-doc-link:hover,\n",
       ".sk-estimator-doc-link:hover {\n",
       "  /* unfitted */\n",
       "  background-color: var(--sklearn-color-unfitted-level-3);\n",
       "  color: var(--sklearn-color-background);\n",
       "  text-decoration: none;\n",
       "}\n",
       "\n",
       "div.sk-estimator.fitted:hover .sk-estimator-doc-link.fitted:hover,\n",
       ".sk-estimator-doc-link.fitted:hover,\n",
       "div.sk-label-container:hover .sk-estimator-doc-link.fitted:hover,\n",
       ".sk-estimator-doc-link.fitted:hover {\n",
       "  /* fitted */\n",
       "  background-color: var(--sklearn-color-fitted-level-3);\n",
       "  color: var(--sklearn-color-background);\n",
       "  text-decoration: none;\n",
       "}\n",
       "\n",
       "/* Span, style for the box shown on hovering the info icon */\n",
       ".sk-estimator-doc-link span {\n",
       "  display: none;\n",
       "  z-index: 9999;\n",
       "  position: relative;\n",
       "  font-weight: normal;\n",
       "  right: .2ex;\n",
       "  padding: .5ex;\n",
       "  margin: .5ex;\n",
       "  width: min-content;\n",
       "  min-width: 20ex;\n",
       "  max-width: 50ex;\n",
       "  color: var(--sklearn-color-text);\n",
       "  box-shadow: 2pt 2pt 4pt #999;\n",
       "  /* unfitted */\n",
       "  background: var(--sklearn-color-unfitted-level-0);\n",
       "  border: .5pt solid var(--sklearn-color-unfitted-level-3);\n",
       "}\n",
       "\n",
       ".sk-estimator-doc-link.fitted span {\n",
       "  /* fitted */\n",
       "  background: var(--sklearn-color-fitted-level-0);\n",
       "  border: var(--sklearn-color-fitted-level-3);\n",
       "}\n",
       "\n",
       ".sk-estimator-doc-link:hover span {\n",
       "  display: block;\n",
       "}\n",
       "\n",
       "/* \"?\"-specific style due to the `<a>` HTML tag */\n",
       "\n",
       "#sk-container-id-1 a.estimator_doc_link {\n",
       "  float: right;\n",
       "  font-size: 1rem;\n",
       "  line-height: 1em;\n",
       "  font-family: monospace;\n",
       "  background-color: var(--sklearn-color-background);\n",
       "  border-radius: 1rem;\n",
       "  height: 1rem;\n",
       "  width: 1rem;\n",
       "  text-decoration: none;\n",
       "  /* unfitted */\n",
       "  color: var(--sklearn-color-unfitted-level-1);\n",
       "  border: var(--sklearn-color-unfitted-level-1) 1pt solid;\n",
       "}\n",
       "\n",
       "#sk-container-id-1 a.estimator_doc_link.fitted {\n",
       "  /* fitted */\n",
       "  border: var(--sklearn-color-fitted-level-1) 1pt solid;\n",
       "  color: var(--sklearn-color-fitted-level-1);\n",
       "}\n",
       "\n",
       "/* On hover */\n",
       "#sk-container-id-1 a.estimator_doc_link:hover {\n",
       "  /* unfitted */\n",
       "  background-color: var(--sklearn-color-unfitted-level-3);\n",
       "  color: var(--sklearn-color-background);\n",
       "  text-decoration: none;\n",
       "}\n",
       "\n",
       "#sk-container-id-1 a.estimator_doc_link.fitted:hover {\n",
       "  /* fitted */\n",
       "  background-color: var(--sklearn-color-fitted-level-3);\n",
       "}\n",
       "</style><div id=\"sk-container-id-1\" class=\"sk-top-container\"><div class=\"sk-text-repr-fallback\"><pre>LabelEncoder()</pre><b>In a Jupyter environment, please rerun this cell to show the HTML representation or trust the notebook. <br />On GitHub, the HTML representation is unable to render, please try loading this page with nbviewer.org.</b></div><div class=\"sk-container\" hidden><div class=\"sk-item\"><div class=\"sk-estimator fitted sk-toggleable\"><input class=\"sk-toggleable__control sk-hidden--visually\" id=\"sk-estimator-id-1\" type=\"checkbox\" checked><label for=\"sk-estimator-id-1\" class=\"sk-toggleable__label fitted sk-toggleable__label-arrow fitted\">&nbsp;&nbsp;LabelEncoder<a class=\"sk-estimator-doc-link fitted\" rel=\"noreferrer\" target=\"_blank\" href=\"https://scikit-learn.org/1.4/modules/generated/sklearn.preprocessing.LabelEncoder.html\">?<span>Documentation for LabelEncoder</span></a><span class=\"sk-estimator-doc-link fitted\">i<span>Fitted</span></span></label><div class=\"sk-toggleable__content fitted\"><pre>LabelEncoder()</pre></div> </div></div></div></div>"
      ],
      "text/plain": [
       "LabelEncoder()"
      ]
     },
     "execution_count": 17,
     "metadata": {},
     "output_type": "execute_result"
    }
   ],
   "source": [
    "encoder=  joblib.load(FPATHS['metadata']['label_encoder_joblib'])\n",
    "encoder"
   ]
  },
  {
   "cell_type": "code",
   "execution_count": 18,
   "id": "cb1fbb89",
   "metadata": {
    "execution": {
     "iopub.execute_input": "2024-07-09T16:27:15.124145Z",
     "iopub.status.busy": "2024-07-09T16:27:15.124049Z",
     "iopub.status.idle": "2024-07-09T16:27:15.125969Z",
     "shell.execute_reply": "2024-07-09T16:27:15.125527Z",
     "shell.execute_reply.started": "2024-07-09T16:27:15.124135Z"
    }
   },
   "outputs": [],
   "source": [
    "# encoder = joblib.load(FPATHS['models']['ml']['encoder'])"
   ]
  },
  {
   "cell_type": "code",
   "execution_count": 19,
   "id": "9b488903-2846-4bfc-a046-41ebb7ccebfa",
   "metadata": {
    "execution": {
     "iopub.execute_input": "2024-07-09T16:27:15.126601Z",
     "iopub.status.busy": "2024-07-09T16:27:15.126428Z",
     "iopub.status.idle": "2024-07-09T16:27:15.375175Z",
     "shell.execute_reply": "2024-07-09T16:27:15.374824Z",
     "shell.execute_reply.started": "2024-07-09T16:27:15.126590Z"
    }
   },
   "outputs": [
    {
     "name": "stdout",
     "output_type": "stream",
     "text": [
      "----------------------------------------------------------------------\n",
      " Classification Metrics: Training Data\n",
      "----------------------------------------------------------------------\n",
      "              precision    recall  f1-score   support\n",
      "\n",
      "        High       0.97      0.98      0.98      1376\n",
      "         Low       0.97      0.96      0.97      1102\n",
      "\n",
      "    accuracy                           0.97      2478\n",
      "   macro avg       0.97      0.97      0.97      2478\n",
      "weighted avg       0.97      0.97      0.97      2478\n",
      "\n"
     ]
    },
    {
     "data": {
      "image/png": "[encoded data removed]",
      "text/plain": [
       "<Figure size 600x400 with 2 Axes>"
      ]
     },
     "metadata": {},
     "output_type": "display_data"
    },
    {
     "name": "stdout",
     "output_type": "stream",
     "text": [
      "\n",
      "----------------------------------------------------------------------\n",
      " Classification Metrics: Test Data\n",
      "----------------------------------------------------------------------\n",
      "              precision    recall  f1-score   support\n",
      "\n",
      "        High       0.93      0.98      0.96       492\n",
      "         Low       0.96      0.90      0.93       335\n",
      "\n",
      "    accuracy                           0.95       827\n",
      "   macro avg       0.95      0.94      0.94       827\n",
      "weighted avg       0.95      0.95      0.95       827\n",
      "\n"
     ]
    },
    {
     "data": {
      "image/png": "[encoded data removed]",
      "text/plain": [
       "<Figure size 600x400 with 2 Axes>"
      ]
     },
     "metadata": {},
     "output_type": "display_data"
    }
   ],
   "source": [
    "## Create a model pipeline \n",
    "count_pipe = Pipeline([('vectorizer',  CountVectorizer()), \n",
    "                       ('naivebayes',  MultinomialNB())])\n",
    "\n",
    "count_pipe.fit(X_train, y_train)\n",
    "fn.evaluate.evaluate_classification(count_pipe, X_train, y_train, X_test, y_test,target_names=encoder.classes_)"
   ]
  },
  {
   "cell_type": "code",
   "execution_count": 20,
   "id": "5bf02bd9-eea7-4f5c-aa3b-4c98da641129",
   "metadata": {
    "execution": {
     "iopub.execute_input": "2024-07-09T16:27:15.375852Z",
     "iopub.status.busy": "2024-07-09T16:27:15.375757Z",
     "iopub.status.idle": "2024-07-09T16:27:15.377938Z",
     "shell.execute_reply": "2024-07-09T16:27:15.377596Z",
     "shell.execute_reply.started": "2024-07-09T16:27:15.375842Z"
    }
   },
   "outputs": [],
   "source": [
    "# # Admin: Saving  for Demo functions in part 1\n",
    "# import joblib\n",
    "# fpath_joblib = \"../Lecture 1 Pt1 - Making a Custom Module/example-clf-model-with-data.joblib\"\n",
    "# save_for_part1= {'model':count_pipe, 'training data': [X_train, y_train],'test data':[X_test, y_test]}\n",
    "# joblib.dump(save_for_part1, fpath_joblib)"
   ]
  },
  {
   "cell_type": "markdown",
   "id": "23e80644-9fda-416e-80b6-789bb7a5903d",
   "metadata": {},
   "source": [
    "# Preparing For Deep NLP (Train-Test-Val Datasets)"
   ]
  },
  {
   "cell_type": "markdown",
   "id": "47ef132d-e442-485e-a634-acf94bf541ea",
   "metadata": {},
   "source": [
    "## Prepare Tensorflow Datasets"
   ]
  },
  {
   "attachments": {},
   "cell_type": "markdown",
   "id": "da20ab9e-7e58-445b-a0bf-38f9926e8d56",
   "metadata": {},
   "source": [
    "Since we already have train/test X and y vars, we will make 2 dataset objects using tf.data.Dataset.from_tensor_slices.\n",
    "\n",
    "1. The training dataset using X_train, y_train (that we resampled/balanced)\n",
    "2. The val/test dataset using X_test, y-test.\n",
    "\n",
    "We will then split the val/test dataset into a val/test split.\n",
    "\n",
    "<!-- \n",
    "### T/T/V Split - Order of Operations (if using 1 dataset object)\n",
    "\n",
    "1) **Create full dataset object & Shuffle Once.**\n",
    "2) Calculate number of samples for training and validation data.\n",
    "3) Create the train/test/val splits using .take() and .skip()\n",
    "4) **Add shuffle to the train dataset only.**\n",
    "5) (Optional/Not Used on LP) If applying a transformation (e.g. train_ds.map(...)) to the data, add  here, before .cache()\n",
    "7) (Optional) Add .cache() to all splits to increase speed  (but may cause problems with large datasets)\n",
    "8) **Add .batch to all splits (default batch size=32)**\n",
    "9) (Optional) Add .prefetch(tf.data.AUTOTUNE)\n",
    "10) (Optional) Print out final length of datasets -->"
   ]
  },
  {
   "cell_type": "code",
   "execution_count": 21,
   "id": "e0658b2a-2c35-4f27-a06e-a54416aa9821",
   "metadata": {
    "execution": {
     "iopub.execute_input": "2024-07-09T16:27:15.378459Z",
     "iopub.status.busy": "2024-07-09T16:27:15.378369Z",
     "iopub.status.idle": "2024-07-09T16:27:15.399407Z",
     "shell.execute_reply": "2024-07-09T16:27:15.399087Z",
     "shell.execute_reply.started": "2024-07-09T16:27:15.378450Z"
    }
   },
   "outputs": [],
   "source": [
    "# Convert training data to Dataset Object\n",
    "train_ds = tf.data.Dataset.from_tensor_slices((X_train, y_train))\n",
    "# Shuffle dataset once\n",
    "train_ds = train_ds.shuffle(buffer_size=len(train_ds),\n",
    "                            reshuffle_each_iteration=False, seed=321)"
   ]
  },
  {
   "cell_type": "markdown",
   "id": "fedeaafa-fa13-4309-a8a8-42913843b8c3",
   "metadata": {},
   "source": [
    "Create a test and validation dataset using X_test,y_test"
   ]
  },
  {
   "cell_type": "code",
   "execution_count": 22,
   "id": "3e890160-24b8-4bcf-a3af-5d88bd0237a9",
   "metadata": {
    "execution": {
     "iopub.execute_input": "2024-07-09T16:27:15.400213Z",
     "iopub.status.busy": "2024-07-09T16:27:15.400070Z",
     "iopub.status.idle": "2024-07-09T16:27:15.405216Z",
     "shell.execute_reply": "2024-07-09T16:27:15.404756Z",
     "shell.execute_reply.started": "2024-07-09T16:27:15.400203Z"
    }
   },
   "outputs": [
    {
     "data": {
      "text/plain": [
       "<_TensorSliceDataset element_spec=(TensorSpec(shape=(), dtype=tf.string, name=None), TensorSpec(shape=(), dtype=tf.int64, name=None))>"
      ]
     },
     "execution_count": 22,
     "metadata": {},
     "output_type": "execute_result"
    }
   ],
   "source": [
    "# Convert test to dataset object and split\n",
    "val_test_split_ds = tf.data.Dataset.from_tensor_slices((X_test, y_test))\n",
    "val_test_split_ds"
   ]
  },
  {
   "cell_type": "code",
   "execution_count": 23,
   "id": "d69060a8-96f1-4398-9242-af1b3701b761",
   "metadata": {
    "execution": {
     "iopub.execute_input": "2024-07-09T16:27:15.410840Z",
     "iopub.status.busy": "2024-07-09T16:27:15.410693Z",
     "iopub.status.idle": "2024-07-09T16:27:15.413493Z",
     "shell.execute_reply": "2024-07-09T16:27:15.413187Z",
     "shell.execute_reply.started": "2024-07-09T16:27:15.410830Z"
    }
   },
   "outputs": [
    {
     "data": {
      "text/plain": [
       "413"
      ]
     },
     "execution_count": 23,
     "metadata": {},
     "output_type": "execute_result"
    }
   ],
   "source": [
    "# Calculate # of samples for 50/50 val/test split\n",
    "n_val_samples =  int(len(val_test_split_ds) * .5)\n",
    "n_val_samples"
   ]
  },
  {
   "cell_type": "code",
   "execution_count": 24,
   "id": "e495b3b9-b89e-41c8-b597-d65a383cddbc",
   "metadata": {
    "execution": {
     "iopub.execute_input": "2024-07-09T16:27:15.414186Z",
     "iopub.status.busy": "2024-07-09T16:27:15.414041Z",
     "iopub.status.idle": "2024-07-09T16:27:15.418518Z",
     "shell.execute_reply": "2024-07-09T16:27:15.418200Z",
     "shell.execute_reply.started": "2024-07-09T16:27:15.414175Z"
    }
   },
   "outputs": [],
   "source": [
    "## Perform the val/test split\n",
    "## Create the validation dataset\n",
    "val_ds = val_test_split_ds.take(n_val_samples)\n",
    "\n",
    "## Create the test dataset\n",
    "test_ds = val_test_split_ds.skip(n_val_samples)"
   ]
  },
  {
   "cell_type": "code",
   "execution_count": 25,
   "id": "7ad4a489-7074-49ea-be83-ea6c6f54cc38",
   "metadata": {
    "execution": {
     "iopub.execute_input": "2024-07-09T16:27:15.419096Z",
     "iopub.status.busy": "2024-07-09T16:27:15.419004Z",
     "iopub.status.idle": "2024-07-09T16:27:15.422160Z",
     "shell.execute_reply": "2024-07-09T16:27:15.421881Z",
     "shell.execute_reply.started": "2024-07-09T16:27:15.419086Z"
    }
   },
   "outputs": [
    {
     "data": {
      "text/plain": [
       "(2478, 413, 414)"
      ]
     },
     "execution_count": 25,
     "metadata": {},
     "output_type": "execute_result"
    }
   ],
   "source": [
    "# Comparing the len gths of all 3 splits\n",
    "len(train_ds), len(val_ds), len(test_ds)"
   ]
  },
  {
   "cell_type": "code",
   "execution_count": 26,
   "id": "c4969390-4e72-4e52-9fe7-41f83e683729",
   "metadata": {
    "execution": {
     "iopub.execute_input": "2024-07-09T16:27:15.422825Z",
     "iopub.status.busy": "2024-07-09T16:27:15.422704Z",
     "iopub.status.idle": "2024-07-09T16:27:15.426593Z",
     "shell.execute_reply": "2024-07-09T16:27:15.426263Z",
     "shell.execute_reply.started": "2024-07-09T16:27:15.422815Z"
    }
   },
   "outputs": [],
   "source": [
    "# Shuffle only the training data every epoch\n",
    "train_ds = train_ds.shuffle(len(train_ds), seed=321)"
   ]
  },
  {
   "cell_type": "code",
   "execution_count": 27,
   "id": "e48eeddb-5554-4f37-a435-91ea27911e99",
   "metadata": {
    "execution": {
     "iopub.execute_input": "2024-07-09T16:27:15.427392Z",
     "iopub.status.busy": "2024-07-09T16:27:15.427241Z",
     "iopub.status.idle": "2024-07-09T16:27:15.432827Z",
     "shell.execute_reply": "2024-07-09T16:27:15.432392Z",
     "shell.execute_reply.started": "2024-07-09T16:27:15.427380Z"
    }
   },
   "outputs": [
    {
     "name": "stdout",
     "output_type": "stream",
     "text": [
      " There are 78 training batches.\n",
      " There are 13 validation batches.\n",
      " There are 13 testing batches.\n"
     ]
    }
   ],
   "source": [
    "#  Setting the batch_size for all datasets\n",
    "BATCH_SIZE = 32\n",
    "\n",
    "# use .batch to add batching to all 3 datasets\n",
    "train_ds = train_ds.batch(BATCH_SIZE)\n",
    "val_ds = val_ds.batch(BATCH_SIZE)\n",
    "test_ds = test_ds.batch(BATCH_SIZE)\n",
    "\n",
    "\n",
    "# Confirm the number of batches in each\n",
    "print (f' There are {len(train_ds)} training batches.')\n",
    "print (f' There are {len(val_ds)} validation batches.')\n",
    "print (f' There are {len(test_ds)} testing batches.')"
   ]
  },
  {
   "cell_type": "code",
   "execution_count": 28,
   "id": "a498f8eb-bdaa-45bb-a809-f36014e03f0d",
   "metadata": {
    "execution": {
     "iopub.execute_input": "2024-07-09T16:27:15.433500Z",
     "iopub.status.busy": "2024-07-09T16:27:15.433396Z",
     "iopub.status.idle": "2024-07-09T16:27:15.439712Z",
     "shell.execute_reply": "2024-07-09T16:27:15.439347Z",
     "shell.execute_reply.started": "2024-07-09T16:27:15.433491Z"
    }
   },
   "outputs": [
    {
     "name": "stdout",
     "output_type": "stream",
     "text": [
      "tf.Tensor(\n",
      "[b\"I have used this product before so I'm familiar with the preparation process and love that I can eat pasta with sauces I missed: Cheaper than anywhere else, I have used this product before so I'm familiar with the preparation process and love that I can eat pasta with sauces I missed for so long and not worry about the calories, sugars, and carbs. Will continue to be a loyal customer and would love if the buns were this affordable!\"\n",
      " b\"Excellant: Excellent as usual, anything I buy from Amazon always meets my expectations, the movies I bought, the noodles, everything I've gotten so far has always been great, I'm even feeding the rice I bought to my dogs so they don't get fat, thank you Amazon, I'm also losing weight like dr. Oz said, that's how I found the noodles in the first place, thanks Amazon again.\"\n",
      " b\"1\\\\2 as much: Love these noodles, been buying locally for years and they were a bit cheaper with free shipping. ( no brainer )\\nOnce we opened the one of the pack there wasn't that many noodles in the pack, further investigation all the packs  have less noodles and twice the water than what we bought locally. Plus they are rubbery, look and taste like silicone noodles. Just beware what looks like a good deal may not be.  .kind of a rip off\"\n",
      " b'These are excellent! I make a mean chicken and vegetable stir ...: These are excellent! I  make a mean chicken and vegetable stir fry with them.'\n",
      " b'Yum!!!: Super yum and healthy! And is a great way to eat healthy if you are looking to cut carbs!! I did not care for the rice!'\n",
      " b'Five Stars: Great product\\nReceived quickly'\n",
      " b'Love the Angel hair the most: Love the Angel hair the most. It makes my life so much easier and helps to maintain my low carb eating lifestyle.'\n",
      " b\"Save yourself time, calories, $$ & hassle: best Shirataki noodles ever: If you are anything like me, you'll want to experiment with your newly purchased Spiralizer to produce low carb, guilt free pasta in a var&iacute;ety of presentations. My In Spralize It! Cook book had dozens of recipes I wanted to experiment with. I viewed lots of videos featuring calm, happy Spiralizers cranking away with root veggies: j&iacute;cama, daikon radish. I'd been f&oacute;oled. Until spiralizing time, I hadn't even met a root.vegetable. I chose, as my 1st foray into  fetucine based veggies ,noodles dishes: the Inspiralize It! Pad Thai recipe. Have you actually met a j&iacute;cama? Have U become FB friends w/ a daikon radish? Two words: root vegetables. They were c&aacute;ntankerous with me, insolent. Neither daikon nor jicama were easy to peel, let alone spiralize. These healthful veggies are oddly shaped, do not lend themselves, as their cousin, the easy to spralize zucchini to zippy quick prep. Oh, no, jicama & daikon proved to be the pit bulls of vegetables, not attractive, filled with nutrients, yet so weirdly assymetrical that they were difficult  to reposition between the  Spiralizer end blades. For my debut jicama based Pad Thai, I managed to work the Spiralizer to render forth about a cup and a half of jicama noodles. I get it now that I should never have begun any Spiralizer recipes before taking stock of my expertise in this arena. Now, please welcome, TA-dah!! My introduction & use of Miracle noodles! I combined, & henceforth, always combine veggie noodles w/Miracle Noodles. I won't bore you with prep details. You will want to rinse, microwave, several times. I added 2 bags of Miracle Fetucinne 2 plump up my scant production of 1 cup of jicama fettuccine. Result: my guests raved about textures, taste test successful! I'm the rockingest hostess I'm my hood, Los Feliz, Ca, where celebrity chefs virtually live next door. Note: the Amazon pricing for Miracle noodles is competetive with barrio supermarkets here. I'm a believer.\"\n",
      " b'into a meal that I can enjoy with being concerned that it will raise my blood ...: I am diabetic and these noodles make meals, that would normally be high carb with regular pasta, into a meal that I can enjoy with being concerned that it will raise my blood sugar.'\n",
      " b\"Have not tried this specific one yet as I don't think this one would be to good in mac and cheese but I am sure it ...: I use miracle noodles a lot for making mac and cheese.  Have not tried this specific one yet as I don't think this one would be to good in mac and cheese but I am sure it will meet my expectations.\"\n",
      " b'Bad Smell and Bad Taste: These were a waste of money and not only do they stink they taste horrible.'\n",
      " b'miracle noodles...: i did not like them....the texture and taste were hard for me to consider it...I gave them to my neighbor and she liked it....so it was just not for me....I would not order them again'\n",
      " b'and overall disgusting. I threw the entire case away: they had a strong fish smell, gross texture, and overall disgusting. I threw the entire case away.'\n",
      " b'One Star: Does not seem like food.'\n",
      " b'One Star: Couldnt get past the smell and the texture. Gross'\n",
      " b'Rinse with cool water. Shake well: In a word, GROSS.  I bought a 6-pack.  Big mistake.  Opened one.  These are NOT ziti for starters.  They are 12\" long tubes.  They are slimy and rubbery.  And they stink.  Washing helps, but it lingers.  Nasoya makes Pasta Zero spaghetti.  Rinse with cool water.  Shake well.  Then let stand in hot water for about 2 minutes.  (Do not recommend microwaving although some do.)  Add heated sauce and grated Parmesan.  Outstanding for minimal calories and low carbs.  I am gonna\\' ask Amazon to refund my money.  These Miracle noodles are not edible.'\n",
      " b\"Weird but healthy!: They work. They're weird. I'm going to try some traditional recipes.\\n\\nUPDATE: I have officially decided these are revolting. Buy em, try em...but you just can't get past that odd after taste.\"\n",
      " b'Really ODD, and totally INCONSISTENT!: I ordered the 6-pack of Miracle Rice, without ever trying them anywhere first.  When I opened the box, I noticed only one package looked like it had any \"rice\" in it, the other 5 looked like mostly water, with a very small amount of product.  I cooked the full-looking one first, thinking maybe the others would be the same once opened, but it was not to be the case - the difference in amount of finished rice was radically different!  I only know this because eventually tried another package, and it was nothing like the fuller looking package....only about a half-cup of finished \"rice\"!\\n\\nAs for smell/flavor, when I first opened it, it smelled really fishy.  After boiling for 2 minutes, the smell went away, but the texture was really odd - like tiny gelatinous blobs, with no real flavor to speak of.\\n\\nI definitely can\\'t recommend these, and wouldn\\'t order again.'\n",
      " b'Two Stars: Yuck'\n",
      " b\"fishy smell, fishy taste terrible texture.: hate hate hate hate hate hate with a passion! I tried the rice the first time. It was like eating a mixture of tapioca pudding, fish eggs and slime all in one. I followed the directions by adding it to boiling water for two minutes, then I drained them and put them on the stove top to dry them out. My husband ate one spoonful with his chicken sausage and picked around it. It was pretty hard to eat. I don't mind tapioca pudding or fish eggs for that matter, and with the flavor of the chicken sausage it was more tolerable than without. I tried eating his after I ate mine, I took one bite of it and had to spit that bite out. It just didn't taste good. I will find an alternative to rice and noodles for keto.\"\n",
      " b'Great way to help cut carbs.: I had purchased these in the past for myself and loved them. I saw this variety pack and had to try the rice. I will say that when you first open the package you have to be sure to rinse them well due to the awful smell, but one they are rinsed and cooked in the whatever dish you are making they are very good. It is a guilt free way to have your favorite \"pasta\" dish minus the pasta. I have been trying to cut down on carbs and this definitely helps. They take on the flavor of whatever you cook it with. They do have a bit of a different consistency then noodles but very good overall.'\n",
      " b'Disgusting: Omg. This stuff is awful. The order when you open a package is that if dead fish. Disgusting'\n",
      " b\"That smell!!!: I ordered the variety pack and I've only tried the noodles...all I can say is the smell is atrocious!!! I washed them, boiled them, & dried them and I could still smell the fish smell! Also the texture was VERY rubbery!! I was so disappointed!!\"\n",
      " b'Not great: Not very tasty'\n",
      " b\"My favorite noodle replacement: These are my favorite noodle replacement! If I'm hungry I will just cook these, add a little butter, parmesan cheese and Italian seasoning and it is such a filling, satisfying snack. This price is the cheapest I've found them so I put in my bulk order regularly.\"\n",
      " b\"Great veggie noodle that replaces ramen noodles easily: I use these instead of ramen noodles when we make ramen at home, and they're a delicious way to get the noodle feel without carbs or gluten.\"\n",
      " b\"Didn't like: I've only tried the rice so far, but very disappointed. It reminded me small boba without the pop. It added no value to the meal so I removed as much as I could from my stir fry.\"\n",
      " b'Yummy: I eat these regularly as part of my low carb lifestyle.'\n",
      " b'Five Stars: These are the best grain free gluten free pasta!'\n",
      " b'Five Stars: these are great'\n",
      " b'Noodles can be spoiled.: One of the bags came spoiled, noodles like rubber, had to throw out. Others ok. Should not happen,'\n",
      " b'Five Stars: Having some tonight in my Thai coconut shrimp soup.'], shape=(32,), dtype=string) \n",
      "\n",
      " tf.Tensor([0 0 1 0 0 0 0 0 0 0 1 1 1 1 1 1 1 1 1 1 0 1 1 1 0 0 1 0 0 0 1 0], shape=(32,), dtype=int64)\n"
     ]
    }
   ],
   "source": [
    "# taking a sample - now 32 observations instead of 1\n",
    "example_X, example_y= train_ds.take(1).get_single_element()\n",
    "print(example_X,'\\n\\n',example_y)"
   ]
  },
  {
   "cell_type": "markdown",
   "id": "34c4e7e3-1bf9-4dae-964f-aaca3fee2a72",
   "metadata": {},
   "source": [
    "A single element now contains 32 samples since we set  batch_size to 32."
   ]
  },
  {
   "cell_type": "code",
   "execution_count": 29,
   "id": "a78e1401-dd83-4640-8b84-8493628e5bcf",
   "metadata": {
    "execution": {
     "iopub.execute_input": "2024-07-09T16:27:15.440487Z",
     "iopub.status.busy": "2024-07-09T16:27:15.440363Z",
     "iopub.status.idle": "2024-07-09T16:27:15.482138Z",
     "shell.execute_reply": "2024-07-09T16:27:15.481730Z",
     "shell.execute_reply.started": "2024-07-09T16:27:15.440477Z"
    }
   },
   "outputs": [],
   "source": [
    "## Saving Train and test dataset\n",
    "fname_train_ds = FPATHS['data']['nn-nlp']['train_dir']\n",
    "train_ds.save(path=fname_train_ds,)\n",
    "\n",
    "fname_val_ds = FPATHS['data']['nn-nlp']['val_dir']\n",
    "val_ds.save(path=fname_val_ds,)\n",
    "\n",
    "fname_test_ds = FPATHS['data']['nn-nlp']['test_dir']\n",
    "test_ds.save(path=fname_test_ds,)"
   ]
  },
  {
   "cell_type": "markdown",
   "id": "1eab650c-081c-44c6-afa4-33c234192bd7",
   "metadata": {},
   "source": [
    "## Word Embeddings Demo (Pre-Trained)"
   ]
  },
  {
   "cell_type": "markdown",
   "id": "5e12b1c6-ea27-41ab-bc5d-a00c296d9d4b",
   "metadata": {},
   "source": [
    "###  Pretrianed Word Embeddings with GloVe"
   ]
  },
  {
   "cell_type": "markdown",
   "id": "d247fc46-ace7-4a56-9fcd-d6236028aef6",
   "metadata": {},
   "source": [
    "- [Click here](https://nlp.stanford.edu/data/glove.6B.zip) to start donwnloading GloVe zip file (glove.6B.zip)\n",
    "- Unzip the downloaded zip archive.\n",
    "- Open the extracted folder and find the the `glove.6B.100d.txt` file. (Size is over 300MB )\n",
    "- Move the text file from Downloads to the same folder as this notebook.\n",
    "- **Make sure to ignore the large file using GitHub Desktop**"
   ]
  },
  {
   "cell_type": "code",
   "execution_count": 30,
   "id": "6184d6c7-1aa9-474a-8580-da7288950e84",
   "metadata": {
    "execution": {
     "iopub.execute_input": "2024-07-09T16:27:15.482864Z",
     "iopub.status.busy": "2024-07-09T16:27:15.482738Z",
     "iopub.status.idle": "2024-07-09T16:27:17.671256Z",
     "shell.execute_reply": "2024-07-09T16:27:17.670896Z",
     "shell.execute_reply.started": "2024-07-09T16:27:15.482854Z"
    }
   },
   "outputs": [
    {
     "name": "stdout",
     "output_type": "stream",
     "text": [
      "# packages in environment at /opt/homebrew/Caskroom/miniforge/base/envs/dojo-env:\n",
      "#\n",
      "# Name                    Version                   Build  Channel\n",
      "scipy                     1.12.0                   pypi_0    pypi\n",
      "\n",
      "Note: you may need to restart the kernel to use updated packages.\n"
     ]
    }
   ],
   "source": [
    "%conda list scipy\n",
    "\n",
    "# scipy==1.10.1"
   ]
  },
  {
   "cell_type": "code",
   "execution_count": 31,
   "id": "323ad1a2-4949-405f-a4a6-715a1274f274",
   "metadata": {
    "execution": {
     "iopub.execute_input": "2024-07-09T16:27:17.673083Z",
     "iopub.status.busy": "2024-07-09T16:27:17.672674Z",
     "iopub.status.idle": "2024-07-09T16:27:20.027894Z",
     "shell.execute_reply": "2024-07-09T16:27:20.027407Z",
     "shell.execute_reply.started": "2024-07-09T16:27:17.673059Z"
    }
   },
   "outputs": [
    {
     "name": "stdout",
     "output_type": "stream",
     "text": [
      "Requirement already satisfied: scipy==1.12 in /opt/homebrew/Caskroom/miniforge/base/envs/dojo-env/lib/python3.10/site-packages (1.12.0)\n",
      "Requirement already satisfied: numpy<1.29.0,>=1.22.4 in /opt/homebrew/Caskroom/miniforge/base/envs/dojo-env/lib/python3.10/site-packages (from scipy==1.12) (1.26.4)\n"
     ]
    }
   ],
   "source": [
    "# to get around scipy erorr when importing KeyedVectors from gensim\n",
    "!pip install scipy==1.12"
   ]
  },
  {
   "cell_type": "code",
   "execution_count": 32,
   "id": "53cab83d",
   "metadata": {},
   "outputs": [],
   "source": [
    "# %pip install scipy==1.12.0\n",
    "# %pip install -U gensim"
   ]
  },
  {
   "cell_type": "code",
   "execution_count": 33,
   "id": "8d787ab9-41a7-4c09-bd99-76722f369f07",
   "metadata": {
    "execution": {
     "iopub.execute_input": "2024-07-09T16:27:20.028911Z",
     "iopub.status.busy": "2024-07-09T16:27:20.028774Z",
     "iopub.status.idle": "2024-07-09T16:27:31.318801Z",
     "shell.execute_reply": "2024-07-09T16:27:31.318440Z",
     "shell.execute_reply.started": "2024-07-09T16:27:20.028895Z"
    }
   },
   "outputs": [],
   "source": [
    "from gensim.models import KeyedVectors\n",
    "# Load GloVe vectors into a gensim model\n",
    "glove_model = KeyedVectors.load_word2vec_format(\"data/glove/glove.6B.100d.txt\", binary=False, no_header=True)"
   ]
  },
  {
   "cell_type": "code",
   "execution_count": 34,
   "id": "7859c359-c117-4d4c-b745-a5c0591c8ea7",
   "metadata": {
    "execution": {
     "iopub.execute_input": "2024-07-09T16:27:31.319511Z",
     "iopub.status.busy": "2024-07-09T16:27:31.319404Z",
     "iopub.status.idle": "2024-07-09T16:27:31.325450Z",
     "shell.execute_reply": "2024-07-09T16:27:31.325046Z",
     "shell.execute_reply.started": "2024-07-09T16:27:31.319502Z"
    }
   },
   "outputs": [
    {
     "data": {
      "text/plain": [
       "array([-0.32307 , -0.87616 ,  0.21977 ,  0.25268 ,  0.22976 ,  0.7388  ,\n",
       "       -0.37954 , -0.35307 , -0.84369 , -1.1113  , -0.30266 ,  0.33178 ,\n",
       "       -0.25113 ,  0.30448 , -0.077491, -0.89815 ,  0.092496, -1.1407  ,\n",
       "       -0.58324 ,  0.66869 , -0.23122 , -0.95855 ,  0.28262 , -0.078848,\n",
       "        0.75315 ,  0.26584 ,  0.3422  , -0.33949 ,  0.95608 ,  0.065641,\n",
       "        0.45747 ,  0.39835 ,  0.57965 ,  0.39267 , -0.21851 ,  0.58795 ,\n",
       "       -0.55999 ,  0.63368 , -0.043983, -0.68731 , -0.37841 ,  0.38026 ,\n",
       "        0.61641 , -0.88269 , -0.12346 , -0.37928 , -0.38318 ,  0.23868 ,\n",
       "        0.6685  , -0.43321 , -0.11065 ,  0.081723,  1.1569  ,  0.78958 ,\n",
       "       -0.21223 , -2.3211  , -0.67806 ,  0.44561 ,  0.65707 ,  0.1045  ,\n",
       "        0.46217 ,  0.19912 ,  0.25802 ,  0.057194,  0.53443 , -0.43133 ,\n",
       "       -0.34311 ,  0.59789 , -0.58417 ,  0.068995,  0.23944 , -0.85181 ,\n",
       "        0.30379 , -0.34177 , -0.25746 , -0.031101, -0.16285 ,  0.45169 ,\n",
       "       -0.91627 ,  0.64521 ,  0.73281 , -0.22752 ,  0.30226 ,  0.044801,\n",
       "       -0.83741 ,  0.55006 , -0.52506 , -1.7357  ,  0.4751  , -0.70487 ,\n",
       "        0.056939, -0.7132  ,  0.089623,  0.41394 , -1.3363  , -0.61915 ,\n",
       "       -0.33089 , -0.52881 ,  0.16483 , -0.98878 ], dtype=float32)"
      ]
     },
     "execution_count": 34,
     "metadata": {},
     "output_type": "execute_result"
    }
   ],
   "source": [
    "# You can now use `glove_model` to access individual word vectors, similar to a dictionary\n",
    "vector = glove_model['king']\n",
    "vector"
   ]
  },
  {
   "cell_type": "code",
   "execution_count": 35,
   "id": "ec2cfa48-3101-4f11-b95f-86a2da36dba7",
   "metadata": {
    "execution": {
     "iopub.execute_input": "2024-07-09T16:27:31.326322Z",
     "iopub.status.busy": "2024-07-09T16:27:31.326143Z",
     "iopub.status.idle": "2024-07-09T16:27:31.328515Z",
     "shell.execute_reply": "2024-07-09T16:27:31.328254Z",
     "shell.execute_reply.started": "2024-07-09T16:27:31.326307Z"
    }
   },
   "outputs": [
    {
     "data": {
      "text/plain": [
       "(100,)"
      ]
     },
     "execution_count": 35,
     "metadata": {},
     "output_type": "execute_result"
    }
   ],
   "source": [
    "vector.shape"
   ]
  },
  {
   "cell_type": "code",
   "execution_count": 36,
   "id": "4f16f619-2d0b-4443-869a-801a3fb40313",
   "metadata": {
    "execution": {
     "iopub.execute_input": "2024-07-09T16:27:31.329246Z",
     "iopub.status.busy": "2024-07-09T16:27:31.329137Z",
     "iopub.status.idle": "2024-07-09T16:27:31.331654Z",
     "shell.execute_reply": "2024-07-09T16:27:31.331404Z",
     "shell.execute_reply.started": "2024-07-09T16:27:31.329235Z"
    }
   },
   "outputs": [
    {
     "data": {
      "text/plain": [
       "0.7507691"
      ]
     },
     "execution_count": 36,
     "metadata": {},
     "output_type": "execute_result"
    }
   ],
   "source": [
    "# Find similarity between words\n",
    "glove_model.similarity('king', 'queen')"
   ]
  },
  {
   "cell_type": "code",
   "execution_count": 37,
   "id": "c0366fee-7698-44a3-b281-1d55518ec2e2",
   "metadata": {
    "execution": {
     "iopub.execute_input": "2024-07-09T16:27:31.332241Z",
     "iopub.status.busy": "2024-07-09T16:27:31.332129Z",
     "iopub.status.idle": "2024-07-09T16:27:31.386911Z",
     "shell.execute_reply": "2024-07-09T16:27:31.386645Z",
     "shell.execute_reply.started": "2024-07-09T16:27:31.332229Z"
    }
   },
   "outputs": [
    {
     "data": {
      "text/plain": [
       "[('queen', 0.7698541283607483),\n",
       " ('monarch', 0.6843380331993103),\n",
       " ('throne', 0.6755736470222473),\n",
       " ('daughter', 0.6594556570053101),\n",
       " ('princess', 0.6520534157752991)]"
      ]
     },
     "execution_count": 37,
     "metadata": {},
     "output_type": "execute_result"
    }
   ],
   "source": [
    "# Perform word math\n",
    "result = glove_model.most_similar(positive=['woman', 'king'], negative=['man'], topn=5)\n",
    "result"
   ]
  },
  {
   "cell_type": "code",
   "execution_count": 38,
   "id": "0fc6bd42-f0a0-4ad0-a301-5790f22b24fb",
   "metadata": {
    "execution": {
     "iopub.execute_input": "2024-07-09T16:27:31.387518Z",
     "iopub.status.busy": "2024-07-09T16:27:31.387426Z",
     "iopub.status.idle": "2024-07-09T16:27:31.395060Z",
     "shell.execute_reply": "2024-07-09T16:27:31.394736Z",
     "shell.execute_reply.started": "2024-07-09T16:27:31.387508Z"
    }
   },
   "outputs": [
    {
     "data": {
      "text/plain": [
       "[('prince', 0.7682329416275024),\n",
       " ('queen', 0.7507689595222473),\n",
       " ('son', 0.7020888328552246),\n",
       " ('brother', 0.6985775828361511),\n",
       " ('monarch', 0.6977890729904175),\n",
       " ('throne', 0.691999077796936),\n",
       " ('kingdom', 0.6811410188674927),\n",
       " ('father', 0.6802029013633728),\n",
       " ('emperor', 0.6712858080863953),\n",
       " ('ii', 0.6676074266433716)]"
      ]
     },
     "execution_count": 38,
     "metadata": {},
     "output_type": "execute_result"
    }
   ],
   "source": [
    "# We can use glove to calculate the most similar\n",
    "glove_model.most_similar('king')"
   ]
  },
  {
   "cell_type": "code",
   "execution_count": 39,
   "id": "2631163a-290a-4086-8525-2ead60ae42ea",
   "metadata": {
    "execution": {
     "iopub.execute_input": "2024-07-09T16:27:31.395716Z",
     "iopub.status.busy": "2024-07-09T16:27:31.395609Z",
     "iopub.status.idle": "2024-07-09T16:27:31.398496Z",
     "shell.execute_reply": "2024-07-09T16:27:31.398214Z",
     "shell.execute_reply.started": "2024-07-09T16:27:31.395705Z"
    }
   },
   "outputs": [
    {
     "data": {
      "text/plain": [
       "array([-0.10231996, -0.81294006,  0.10211003,  0.985924  ,  0.34218282,\n",
       "        1.09095   , -0.48912996, -0.05616698, -0.21029997, -1.02996   ,\n",
       "       -0.86851   ,  0.36786997,  0.01960999,  0.59259   , -0.23190099,\n",
       "       -1.016919  , -0.01218399, -1.17194   , -0.52329   ,  0.60645   ,\n",
       "       -0.98537004, -1.001028  ,  0.48913902,  0.630072  ,  0.58224   ,\n",
       "        0.15908998,  0.43685   , -1.25351   ,  0.97054   , -0.065529  ,\n",
       "        0.733763  ,  0.44219002,  1.2091839 ,  0.19698   , -0.15948   ,\n",
       "        0.34364003, -0.46222997,  0.33772   ,  0.14792705, -0.24959502,\n",
       "       -0.77093005,  0.522717  , -0.1283    , -0.91881   , -0.01755001,\n",
       "       -0.44041002, -0.52656496,  0.33734798,  0.60639   , -0.45067   ,\n",
       "       -0.04158002,  0.08408299,  1.31456   ,  0.67737997, -0.24316001,\n",
       "       -2.071     , -0.60648996,  0.19710997,  0.63567   ,  0.07819998,\n",
       "        0.49161002,  0.08171999,  0.70855707,  0.201938  ,  0.5155501 ,\n",
       "       -0.23025298, -0.40473002,  0.39212003, -0.5093    , -0.139153  ,\n",
       "        0.21609999, -0.628671  ,  0.08894002,  0.49167   , -0.06637001,\n",
       "        0.76095   , -0.19442001,  0.41131002, -1.04476   , -0.14801991,\n",
       "       -0.09835501, -0.25115   ,  0.808957  ,  0.36312902, -0.78200996,\n",
       "       -0.10484004,  0.08340102, -1.24067   ,  0.655344  , -0.93635   ,\n",
       "        0.648379  , -0.55827   ,  0.45621303,  0.27575803, -1.54896   ,\n",
       "       -0.199096  , -0.50804996, -0.13818002,  0.27731198, -0.75721   ],\n",
       "      dtype=float32)"
      ]
     },
     "execution_count": 39,
     "metadata": {},
     "output_type": "execute_result"
    }
   ],
   "source": [
    "# Manually calculating new vector for word math\n",
    "new_vector = glove_model['king'] - glove_model['man'] + glove_model['woman']\n",
    "new_vector"
   ]
  },
  {
   "cell_type": "code",
   "execution_count": 40,
   "id": "ee62f9b9-696b-4186-baa0-96306023a7a3",
   "metadata": {
    "execution": {
     "iopub.execute_input": "2024-07-09T16:27:31.399129Z",
     "iopub.status.busy": "2024-07-09T16:27:31.398999Z",
     "iopub.status.idle": "2024-07-09T16:27:31.407945Z",
     "shell.execute_reply": "2024-07-09T16:27:31.407589Z",
     "shell.execute_reply.started": "2024-07-09T16:27:31.399118Z"
    }
   },
   "outputs": [
    {
     "data": {
      "text/plain": [
       "[('king', 0.8551837205886841),\n",
       " ('queen', 0.7834413647651672),\n",
       " ('monarch', 0.6933802366256714),\n",
       " ('throne', 0.6833109259605408),\n",
       " ('daughter', 0.680908203125),\n",
       " ('prince', 0.6713142991065979),\n",
       " ('princess', 0.664408266544342),\n",
       " ('mother', 0.6579325199127197),\n",
       " ('elizabeth', 0.6563301086425781),\n",
       " ('father', 0.6392418742179871)]"
      ]
     },
     "execution_count": 40,
     "metadata": {},
     "output_type": "execute_result"
    }
   ],
   "source": [
    "# Using .most_similar with an array\n",
    "glove_model.most_similar(new_vector)"
   ]
  },
  {
   "cell_type": "code",
   "execution_count": 41,
   "id": "4446cc69-1265-4e2e-a777-875ee070fa55",
   "metadata": {
    "execution": {
     "iopub.execute_input": "2024-07-09T16:27:31.408813Z",
     "iopub.status.busy": "2024-07-09T16:27:31.408523Z",
     "iopub.status.idle": "2024-07-09T16:27:31.417347Z",
     "shell.execute_reply": "2024-07-09T16:27:31.417050Z",
     "shell.execute_reply.started": "2024-07-09T16:27:31.408801Z"
    }
   },
   "outputs": [
    {
     "data": {
      "text/plain": [
       "[('government', 0.8555272221565247),\n",
       " ('elections', 0.8260869979858398),\n",
       " ('vote', 0.821299135684967),\n",
       " ('election', 0.7950962781906128),\n",
       " ('rule', 0.7902188897132874),\n",
       " ('opposition', 0.7764408588409424),\n",
       " ('parliament', 0.7697930335998535),\n",
       " ('ruling', 0.7695497274398804),\n",
       " ('party', 0.7599928379058838),\n",
       " ('monarchy', 0.7500120401382446)]"
      ]
     },
     "execution_count": 41,
     "metadata": {},
     "output_type": "execute_result"
    }
   ],
   "source": [
    "# Manually calculating new vector for word math\n",
    "new_vector = glove_model['monarchy'] + glove_model['vote'] + glove_model['government']\n",
    "glove_model.most_similar(new_vector)"
   ]
  },
  {
   "cell_type": "code",
   "execution_count": 42,
   "id": "2ccf957d-31af-4be4-aeeb-dc909a6a2c5e",
   "metadata": {
    "execution": {
     "iopub.execute_input": "2024-07-09T16:27:31.418011Z",
     "iopub.status.busy": "2024-07-09T16:27:31.417904Z",
     "iopub.status.idle": "2024-07-09T16:27:31.427660Z",
     "shell.execute_reply": "2024-07-09T16:27:31.427342Z",
     "shell.execute_reply.started": "2024-07-09T16:27:31.418001Z"
    }
   },
   "outputs": [
    {
     "data": {
      "text/plain": [
       "[('age', 0.8743536472320557),\n",
       " ('baby', 0.8642442226409912),\n",
       " ('child', 0.795682430267334),\n",
       " ('children', 0.7709920406341553),\n",
       " ('older', 0.7629886269569397),\n",
       " ('girl', 0.7522111535072327),\n",
       " ('mother', 0.7367070317268372),\n",
       " ('boy', 0.7361041307449341),\n",
       " ('birth', 0.7357129454612732),\n",
       " ('couple', 0.7255393266677856)]"
      ]
     },
     "execution_count": 42,
     "metadata": {},
     "output_type": "execute_result"
    }
   ],
   "source": [
    "# Manually calculating new vector for word math\n",
    "new_vector = glove_model['baby'] + glove_model['age']\n",
    "glove_model.most_similar(new_vector)"
   ]
  },
  {
   "cell_type": "code",
   "execution_count": 43,
   "id": "fede594e-cd14-4cdd-85ad-19065d899744",
   "metadata": {
    "execution": {
     "iopub.execute_input": "2024-07-09T16:27:31.428417Z",
     "iopub.status.busy": "2024-07-09T16:27:31.428285Z",
     "iopub.status.idle": "2024-07-09T16:27:31.438108Z",
     "shell.execute_reply": "2024-07-09T16:27:31.437744Z",
     "shell.execute_reply.started": "2024-07-09T16:27:31.428405Z"
    },
    "scrolled": true
   },
   "outputs": [
    {
     "data": {
      "text/plain": [
       "[('baby', 0.9999999403953552),\n",
       " ('babies', 0.7870863676071167),\n",
       " ('newborn', 0.7522428035736084),\n",
       " ('boy', 0.7506729364395142),\n",
       " ('girl', 0.7423104047775269),\n",
       " ('child', 0.7266175746917725),\n",
       " ('infant', 0.7064839005470276),\n",
       " ('mom', 0.699421226978302),\n",
       " ('pregnant', 0.6986744403839111),\n",
       " ('toddler', 0.6978277564048767)]"
      ]
     },
     "execution_count": 43,
     "metadata": {},
     "output_type": "execute_result"
    }
   ],
   "source": [
    "# Manually calculating new vector for word math\n",
    "new_vector = glove_model['baby'] + glove_model['baby']\n",
    "glove_model.most_similar(new_vector)"
   ]
  },
  {
   "cell_type": "markdown",
   "id": "77f05532-5113-4208-9163-c933b816d7e1",
   "metadata": {},
   "source": [
    "# Returning to Amazon Data"
   ]
  },
  {
   "cell_type": "markdown",
   "id": "d401b00d-d9b2-416c-b171-2e3cace3dd92",
   "metadata": {},
   "source": [
    "### Create the Training Texts Dataset"
   ]
  },
  {
   "cell_type": "code",
   "execution_count": 44,
   "id": "73d5cc8b-963d-4a78-a33f-4f134509e812",
   "metadata": {
    "execution": {
     "iopub.execute_input": "2024-07-09T16:27:31.438967Z",
     "iopub.status.busy": "2024-07-09T16:27:31.438854Z",
     "iopub.status.idle": "2024-07-09T16:27:31.442111Z",
     "shell.execute_reply": "2024-07-09T16:27:31.441817Z",
     "shell.execute_reply.started": "2024-07-09T16:27:31.438957Z"
    }
   },
   "outputs": [
    {
     "data": {
      "text/plain": [
       "NameError(\"name 'sequence_vectorizer' is not defined\")"
      ]
     },
     "metadata": {},
     "output_type": "display_data"
    }
   ],
   "source": [
    "# Fit the layer on the training texts\n",
    "try:\n",
    "    sequence_vectorizer.adapt(train_ds)\n",
    "except Exception as e:\n",
    "    display(e)"
   ]
  },
  {
   "cell_type": "markdown",
   "id": "c45da873-5e7a-4e92-b4ca-939ad5c0e1f2",
   "metadata": {},
   "source": [
    "> We need to get a version of our data that is **only the texts**."
   ]
  },
  {
   "cell_type": "code",
   "execution_count": 45,
   "id": "68a346be-2bf5-483d-8c13-4074fb506730",
   "metadata": {
    "execution": {
     "iopub.execute_input": "2024-07-09T16:27:31.442760Z",
     "iopub.status.busy": "2024-07-09T16:27:31.442662Z",
     "iopub.status.idle": "2024-07-09T16:27:31.463737Z",
     "shell.execute_reply": "2024-07-09T16:27:31.463428Z",
     "shell.execute_reply.started": "2024-07-09T16:27:31.442751Z"
    }
   },
   "outputs": [
    {
     "data": {
      "text/plain": [
       "<tf.Tensor: shape=(32,), dtype=string, numpy=\n",
       "array([b'Two Stars: Cooking process to long and complicated.',\n",
       "       b'One Star: horrible',\n",
       "       b'Love these low-carb low-calorie noodles: Love these low-carb low-calorie noodles. Sticking to a low-carb diet is really hard and these noodles make it possible for me',\n",
       "       b'Superior choice over wheat pastas: Had these before and wasn\\'t particularly impressed. Then gave them another chance once I realized I can\\'t eat wheat. I found that if you follow instructions - who knew!? - and rinsed them and pan dried them before use, they\\'re great! Tasteless on their own, they absorb the sauces you might use and are wonderful in a bowl of \"Pho\" or soups. The best part is that I get that satisfying sense of noodles and the health benefit of adding a beneficial fiber to my diet that actually feeds the good gut bacteria in the gut. Bonus! No calories!',\n",
       "       b'One Star: The texture of these rice and noodles were terrible.  It had completely no taste as well.',\n",
       "       b\"DONT BUY: worse stuff on planet earth. Smelt like a rotten dead fish. DON'T BUY.  Had to throw it down the garbage disposal and even then I gagged the entire time.\",\n",
       "       b\"Impressive and In Love with These!: An amazing alternative to traditional pasta noodles!  Yes, the consistency is a little different, but not so drastically that it isn't amazing!  I am so impressed by these, and I do not normally write a review.  They have the slightest (and I mean that unless you are pregnant or very odor sensitive [and I am odor sensitive!])  They take on whatever flavor you add to it and they are fairly easy to prepare.  I don't have a lot of time with the kids in the morning for meal prep for myself and they are within my time budget in the morning to prepare for lunch!  I don't even miss pasta because these are a wonderful substitute!\",\n",
       "       b'Yum!: Please be sure to follow the instructions on how to prepare this before bailing on this product. If done right, it retains shape, does not have any weird tastes and can absorb flavors as subtle as butter only!',\n",
       "       b'Great gluten free noodles that picks up the flavor of anything you pair it with.: I was worried at first, bit after draining, rinsing, and allowed to drain while I prepare my sauces. Adding them to the sauces, and allowing to simmer for only a few minutes, the noodles picked up the flavor of the sauces. Great for gluten free pasta dishes. I also used them in homemade chicken soup, and they were great. They also taste very good when slightly stir fried with Kimchi.',\n",
       "       b\"Great noodles for low carb/grain free eating!: Love these noodles, just rinse them and sauce them and they are delicious!  Even my kids like them as an alternative to regular spaghetti.  I don't mind the texture at all, I even prefer it to regular pasta.\",\n",
       "       b\"Five Stars: it's a good substitute for pasta\",\n",
       "       b\"Wonderful Guilt-Free Asian Noodles: These noodles are wonderful, with a couple caveats.  They're asian noodles, so their consistency is much more similar to Ramen than that of dried spaghetti.  Also, you have to make sure you follow the instructions, rinse thoroughly, and try not to smell them before you cook them.\\n\\nI think they're great, but if you're looking for something that's exactly like the delicious starchy store-bought dried spaghetti, you're better off looking elsewhere.\",\n",
       "       b'I won\\'t buy these again! As previous customers put ...: I won\\'t buy these again! As previous customers put, only 3 of the 6 packages actual have \"rice\" in them they way it\\'s suppose to look. The other 3 look defective and mostly just water.',\n",
       "       b\"Not really a miracle: This just adds texture to your food. No flavor and it doesn't fill you up. Might as well just drink water with your meal and save a couple bucks.\",\n",
       "       b\"weird: these just have a weird consistency, didn't like them at all, the odor was not as bad as I had read and was easy to get rid of, I guess its because im Italian and am use to eating normal pasta, just wanted to try these because im on a diet.\",\n",
       "       b\"My Miracle Noodles!: These noodle are fantastic! My sister introduced them to me when she prepared one of her dishes and I've been a fan ever since. I ordered four boxes (24 packets total) of my own within days of trying her dish. I love how they taste and I'm thrilled that they are low calorie or calorie free! I've read a number of reviews that mentioned the fish smell when a packet is opened and I will admit that this is true. However, the smell, in my opinion, is not overwhelming and is easily washed away with cold water using a strainer. I've enclosed two dishes* I made with the angel hair and fettuccini packets. :^) Someone mentioned that these noodles don't work so well with pasta dishes but the dish that my sister made for me was a spaghetti and meatball meal using the angel hair noodles. It is because of her variation to this pasta dish that I eat these noodles for dinner every day now.  I'm aware that miracle noodles aren't for everyone as tastes differ but, I couldn't be more satisfied with the new addition to my menu. *Dish One: Saut&eacute;ed Eggplant with Mushroom and Onions Over Angel Hair Shirataki Noodles. Dish Two: Saut&eacute;ed Fish with Shirataki (Fettuccini) Noodles. Note: To minimize the calorie and fat intake, I use Pam butter flavored cooking spray instead of butter or oil for saut&eacute; dishes.\",\n",
       "       b'Five Stars: i love this stuff! rinse and put it in anything without the carbs..',\n",
       "       b'One Star: NASTY DO NOT EVER BUY THIS STUFF',\n",
       "       b'Miracle noodle: These have no taste. Will not buy again.',\n",
       "       b\"One Star: horrendous. i'd rather eat soap.\",\n",
       "       b\"Angel Hair Pasta Was Not Angel Hair: When I ordered gluten free angel hair pasta I expected to get something that looked like a box of spaghetti only thinner.  What I received was some plastic bags filled with what looked like little white worms in a liquid. I did try one and cooked it according to instructions.  It didn't taste bad once you get past the appearance but it definitely was not  angel hair pasta.\",\n",
       "       b'These make your plate \"full\" and plenty.: Holly guacamole, I love these things! Follow instructions and get creative with spices and sauces. The \"funky\" smell so many have mentioned is no big deal and goes away. Texture is good, specially if you like ramen or asian food.\\n If you are like me and \"eat with your eyes\", more than with your stomach (talking about quantity here), these will make your plate look and feel full without the added calories. Get the assorted pack and give them a chance <3.',\n",
       "       b'Five Stars: Best for guilt-free eating. Please keep in mind has no nutritional value.',\n",
       "       b'Yummy and quick: Love this product. Really great on a keto diet.  Satisfying and filling.  Serves 2.  Easy to prepare',\n",
       "       b'Vegan Delight: We got this for a vegan relative. Pure happiness for him!',\n",
       "       b\"I've loved these for years!: It's true that these do have a strange smell when you first open and it's best to rinse them really thoroughly, but I've really come to love them!  My favorite thing to do is to use them in a pad thai - the texture really serves the dish well and it cuts out SO many calories!\",\n",
       "       b'Two Stars: YUK',\n",
       "       b'I really did not like the noodles: I really did not like the noodles. They have no taste and the consistence is like eating a jelly fishes tentacles.',\n",
       "       b\"A great alternative for those watching your calories: A great alternative for those watching your calories! I add these into my stir fries and it adds so much a dish without ramping up the calories. I don't mind the smell - as long as you're not sticking your face in them before they're heated up then it's not so bad. 10/10 would buy again!\",\n",
       "       b'These taste terrible. Maybe a chef could make it good: These taste terrible. Maybe a chef could make it good. Be careful because theres no returning them. Once you have them they are yours.',\n",
       "       b'Five Stars: Amazing products!!!!!!!',\n",
       "       b'Far exceeded my expectations!: Excellent product!  Takes the taste of your recipe amaizingly well. Definitely will buy again.'],\n",
       "      dtype=object)>"
      ]
     },
     "execution_count": 45,
     "metadata": {},
     "output_type": "execute_result"
    }
   ],
   "source": [
    "# Get just the text from ds_train\n",
    "ds_texts = train_ds.map(lambda x, y: x)\n",
    "\n",
    "# Preview the text\n",
    "ds_texts.take(1).get_single_element()"
   ]
  },
  {
   "cell_type": "markdown",
   "id": "8e2ad04a-c1c2-4c5e-bfa7-f7ce64e7a536",
   "metadata": {},
   "source": [
    "### Determine appropriate sequence length. "
   ]
  },
  {
   "cell_type": "code",
   "execution_count": 46,
   "id": "8e2fbbd2-718b-4766-912a-9fef9aa862ec",
   "metadata": {
    "execution": {
     "iopub.execute_input": "2024-07-09T16:27:31.464453Z",
     "iopub.status.busy": "2024-07-09T16:27:31.464352Z",
     "iopub.status.idle": "2024-07-09T16:27:31.466207Z",
     "shell.execute_reply": "2024-07-09T16:27:31.465952Z",
     "shell.execute_reply.started": "2024-07-09T16:27:31.464443Z"
    }
   },
   "outputs": [],
   "source": [
    "# df_ml['length (characters)'] = df_ml['text'].map(len)\n",
    "# df_ml.head(3)\n",
    "\n",
    "# ax = sns.histplot(data=df_ml, hue='rating', x='length (characters)',\n",
    "#                 stat='percent',common_norm=False)#, estimator='median',);\n",
    "# ax.axvline()"
   ]
  },
  {
   "cell_type": "code",
   "execution_count": 47,
   "id": "40296b48-d51f-4067-b1b0-23581bf80308",
   "metadata": {
    "execution": {
     "iopub.execute_input": "2024-07-09T16:27:31.466745Z",
     "iopub.status.busy": "2024-07-09T16:27:31.466672Z",
     "iopub.status.idle": "2024-07-09T16:27:31.480101Z",
     "shell.execute_reply": "2024-07-09T16:27:31.479327Z",
     "shell.execute_reply.started": "2024-07-09T16:27:31.466737Z"
    }
   },
   "outputs": [
    {
     "data": {
      "text/plain": [
       "count    2478.000000\n",
       "mean       49.979822\n",
       "std        60.989205\n",
       "min         2.000000\n",
       "25%        13.000000\n",
       "50%        33.000000\n",
       "75%        63.000000\n",
       "max       977.000000\n",
       "Name: review-text-full, dtype: float64"
      ]
     },
     "execution_count": 47,
     "metadata": {},
     "output_type": "execute_result"
    }
   ],
   "source": [
    "sequence_lengths = X_train.map(lambda x: len(x.split(\" \")))\n",
    "sequence_lengths.describe()"
   ]
  },
  {
   "cell_type": "code",
   "execution_count": 48,
   "id": "f3955e47-3198-4fd5-8958-eb135ca2fa6f",
   "metadata": {
    "execution": {
     "iopub.execute_input": "2024-07-09T16:27:31.486277Z",
     "iopub.status.busy": "2024-07-09T16:27:31.485675Z",
     "iopub.status.idle": "2024-07-09T16:27:31.491938Z",
     "shell.execute_reply": "2024-07-09T16:27:31.490986Z",
     "shell.execute_reply.started": "2024-07-09T16:27:31.486254Z"
    }
   },
   "outputs": [],
   "source": [
    "ax = sns"
   ]
  },
  {
   "cell_type": "code",
   "execution_count": 49,
   "id": "e473f73c-0ac0-461e-a186-bf45ad560e72",
   "metadata": {
    "execution": {
     "iopub.execute_input": "2024-07-09T16:27:31.494222Z",
     "iopub.status.busy": "2024-07-09T16:27:31.494099Z",
     "iopub.status.idle": "2024-07-09T16:27:31.615899Z",
     "shell.execute_reply": "2024-07-09T16:27:31.615595Z",
     "shell.execute_reply.started": "2024-07-09T16:27:31.494212Z"
    }
   },
   "outputs": [
    {
     "data": {
      "text/plain": [
       "<matplotlib.lines.Line2D at 0x3665e2710>"
      ]
     },
     "execution_count": 49,
     "metadata": {},
     "output_type": "execute_result"
    },
    {
     "data": {
      "image/png": "[encoded data removed]",
      "text/plain": [
       "<Figure size 640x480 with 1 Axes>"
      ]
     },
     "metadata": {},
     "output_type": "display_data"
    }
   ],
   "source": [
    "SEQUENCE_LENGTH = 150\n",
    "ax = sns.histplot(data=sequence_lengths,)# hue='target-rating', x='length (tokens)',kde=True,\n",
    "                # stat='probability',common_norm=False)#, estimator='median',);\n",
    "ax.axvline(SEQUENCE_LENGTH, color='red', ls=\":\")"
   ]
  },
  {
   "cell_type": "code",
   "execution_count": 50,
   "id": "46088607-41ee-49b1-93a4-d2405e591730",
   "metadata": {
    "execution": {
     "iopub.execute_input": "2024-07-09T16:27:31.616533Z",
     "iopub.status.busy": "2024-07-09T16:27:31.616431Z",
     "iopub.status.idle": "2024-07-09T16:27:31.758212Z",
     "shell.execute_reply": "2024-07-09T16:27:31.757780Z",
     "shell.execute_reply.started": "2024-07-09T16:27:31.616523Z"
    }
   },
   "outputs": [
    {
     "name": "stderr",
     "output_type": "stream",
     "text": [
      "2024-09-05 12:14:20.516161: W tensorflow/core/framework/local_rendezvous.cc:404] Local rendezvous is aborting with status: OUT_OF_RANGE: End of sequence\n"
     ]
    }
   ],
   "source": [
    "\n",
    "## Create text Vectorization layer\n",
    "SEQUENCE_LENGTH=50 #BEST=50\n",
    "EMBED_DIM = 100 # BEST= 200\n",
    "\n",
    "sequence_vectorizer = tf.keras.layers.TextVectorization(\n",
    "    standardize=\"lower_and_strip_punctuation\",\n",
    "    output_mode=\"int\",\n",
    "    output_sequence_length=SEQUENCE_LENGTH\n",
    ")\n",
    "\n",
    "sequence_vectorizer.adapt(ds_texts)\n"
   ]
  },
  {
   "cell_type": "markdown",
   "id": "d0e1a448-8cc1-4bac-8896-0d278ebcfc5f",
   "metadata": {},
   "source": [
    "# Our First Deep Sequence Model"
   ]
  },
  {
   "cell_type": "markdown",
   "id": "95210b15-3546-48cb-9e2e-85669af45e6d",
   "metadata": {},
   "source": [
    "### Simple RNN"
   ]
  },
  {
   "cell_type": "code",
   "execution_count": 51,
   "id": "2873c9d2-f3f2-4b75-9230-c4caef9ebb75",
   "metadata": {
    "execution": {
     "iopub.execute_input": "2024-07-09T16:27:31.758920Z",
     "iopub.status.busy": "2024-07-09T16:27:31.758817Z",
     "iopub.status.idle": "2024-07-09T16:27:31.763618Z",
     "shell.execute_reply": "2024-07-09T16:27:31.763349Z",
     "shell.execute_reply.started": "2024-07-09T16:27:31.758910Z"
    }
   },
   "outputs": [
    {
     "name": "stderr",
     "output_type": "stream",
     "text": [
      "/opt/homebrew/Caskroom/miniforge/base/envs/dojo-env/lib/python3.10/site-packages/keras/src/layers/core/embedding.py:90: UserWarning: Argument `input_length` is deprecated. Just remove it.\n",
      "  warnings.warn(\n"
     ]
    }
   ],
   "source": [
    "\n",
    "VOCAB_SIZE = sequence_vectorizer.vocabulary_size()\n",
    "SEQUENCE_LENGTH = sequence_vectorizer.get_config()['output_sequence_length']\n",
    "\n",
    "\n",
    "# Define sequential model with pre-trained vectorization layer and *new* embedding layer\n",
    "model = Sequential([\n",
    "    sequence_vectorizer,\n",
    "    layers.Embedding(input_dim=VOCAB_SIZE,\n",
    "                              output_dim=EMBED_DIM, \n",
    "                              input_length=SEQUENCE_LENGTH)\n",
    "    ])"
   ]
  },
  {
   "cell_type": "code",
   "execution_count": 52,
   "id": "8721207e-992b-449f-8892-f053704a70d8",
   "metadata": {
    "execution": {
     "iopub.execute_input": "2024-07-09T16:27:31.764194Z",
     "iopub.status.busy": "2024-07-09T16:27:31.764105Z",
     "iopub.status.idle": "2024-07-09T16:27:31.768176Z",
     "shell.execute_reply": "2024-07-09T16:27:31.767821Z",
     "shell.execute_reply.started": "2024-07-09T16:27:31.764183Z"
    }
   },
   "outputs": [],
   "source": [
    "### BEST\n",
    "\n",
    "\n",
    "def build_rnn_model(text_vectorization_layer):\n",
    "    VOCAB_SIZE = text_vectorization_layer.vocabulary_size()\n",
    "    SEQUENCE_LENGTH = sequence_vectorizer.get_config()['output_sequence_length']\n",
    "    \n",
    "    \n",
    "    # Define sequential model with pre-trained vectorization layer and *new* embedding layer\n",
    "    model = Sequential([\n",
    "        text_vectorization_layer,\n",
    "        layers.Embedding(input_dim=VOCAB_SIZE,\n",
    "                                  output_dim=EMBED_DIM, \n",
    "                                  input_length=SEQUENCE_LENGTH)\n",
    "        ])\n",
    "        \n",
    "    # Add *new* LSTM layer\n",
    "    model.add(layers.SimpleRNN(32)) #BEST=32\n",
    "    \n",
    "    # Add output layer\n",
    "    model.add(layers.Dense(1, activation='sigmoid'))\n",
    " \n",
    "    # Compile the model\n",
    "    model.compile(optimizer=optimizers.Adam(learning_rate = .001), \n",
    "                  loss='bce',#'sparse_categorical_crossentropy', \n",
    "                  metrics=['accuracy'])\n",
    "    \n",
    "    model.summary()\n",
    "    return model\n",
    "\n",
    "# def get_callbacks(patience=3, monitor='val_accuracy'):\n",
    "#     early_stop = tf.keras.callbacks.EarlyStopping(patience=patience, monitor=monitor)\n",
    "#     return [early_stop]\n",
    "# # Code below is from CNN Week\n",
    "# def get_callbacks(patience=3, monitor='val_accuracy'):\n",
    "#     early_stop = tf.keras.callbacks.EarlyStopping(patience=patience, monitor=monitor, verbose=True)\n",
    "#     return [early_stop]\n",
    "\n",
    "\n",
    "### Call backs\n",
    "# @tf.function\n",
    "def get_callbacks(monitor='val_accuracy',patience=3, restore_best_weights=False,\n",
    "                  start_from_epoch=0,baseline_value=None,\n",
    "                  verbose_early_stopping=1,  \n",
    "                  tensborboard=False, logdir=\"/tmp/tb_logs\",\n",
    "                 tb_embed_freq=0, tb_write_images = False, tb_hist_freq = 0):\n",
    "\n",
    "    early_stopping = tf.keras.callbacks.EarlyStopping(monitor=monitor, patience=patience, #mode=mode, \n",
    "                                                      restore_best_weights=restore_best_weights,\n",
    "                                                      baseline=baseline_value,\n",
    "                                                      start_from_epoch=start_from_epoch,\n",
    "                                                      verbose=verbose_early_stopping)\n",
    "\n",
    "    if tensborboard:\n",
    "        tboard = tf.keras.callbacks.TensorBoard(log_dir=logdir, histogram_freq=tb_hist_freq,write_images=tb_write_images,\n",
    "                                                embeddings_freq=tb_embed_freq,)\n",
    "        return [ early_stopping, tboard]\n",
    "    else:\n",
    "        return [early_stopping]"
   ]
  },
  {
   "cell_type": "code",
   "execution_count": 53,
   "id": "6ee5658e-544d-44ab-911a-4ded171ac3bd",
   "metadata": {
    "execution": {
     "iopub.execute_input": "2024-07-09T16:27:31.768775Z",
     "iopub.status.busy": "2024-07-09T16:27:31.768676Z",
     "iopub.status.idle": "2024-07-09T16:27:36.322855Z",
     "shell.execute_reply": "2024-07-09T16:27:36.322546Z",
     "shell.execute_reply.started": "2024-07-09T16:27:31.768765Z"
    }
   },
   "outputs": [
    {
     "data": {
      "text/html": [
       "<pre style=\"white-space:pre;overflow-x:auto;line-height:normal;font-family:Menlo,'DejaVu Sans Mono',consolas,'Courier New',monospace\"><span style=\"font-weight: bold\">Model: \"sequential_1\"</span>\n",
       "</pre>\n"
      ],
      "text/plain": [
       "\u001b[1mModel: \"sequential_1\"\u001b[0m\n"
      ]
     },
     "metadata": {},
     "output_type": "display_data"
    },
    {
     "data": {
      "text/html": [
       "<pre style=\"white-space:pre;overflow-x:auto;line-height:normal;font-family:Menlo,'DejaVu Sans Mono',consolas,'Courier New',monospace\">┏━━━━━━━━━━━━━━━━━━━━━━━━━━━━━━━━━┳━━━━━━━━━━━━━━━━━━━━━━━━┳━━━━━━━━━━━━━━━┓\n",
       "┃<span style=\"font-weight: bold\"> Layer (type)                    </span>┃<span style=\"font-weight: bold\"> Output Shape           </span>┃<span style=\"font-weight: bold\">       Param # </span>┃\n",
       "┡━━━━━━━━━━━━━━━━━━━━━━━━━━━━━━━━━╇━━━━━━━━━━━━━━━━━━━━━━━━╇━━━━━━━━━━━━━━━┩\n",
       "│ text_vectorization              │ ?                      │   <span style=\"color: #00af00; text-decoration-color: #00af00\">0</span> (unbuilt) │\n",
       "│ (<span style=\"color: #0087ff; text-decoration-color: #0087ff\">TextVectorization</span>)             │                        │               │\n",
       "├─────────────────────────────────┼────────────────────────┼───────────────┤\n",
       "│ embedding_1 (<span style=\"color: #0087ff; text-decoration-color: #0087ff\">Embedding</span>)         │ ?                      │   <span style=\"color: #00af00; text-decoration-color: #00af00\">0</span> (unbuilt) │\n",
       "├─────────────────────────────────┼────────────────────────┼───────────────┤\n",
       "│ simple_rnn (<span style=\"color: #0087ff; text-decoration-color: #0087ff\">SimpleRNN</span>)          │ ?                      │   <span style=\"color: #00af00; text-decoration-color: #00af00\">0</span> (unbuilt) │\n",
       "├─────────────────────────────────┼────────────────────────┼───────────────┤\n",
       "│ dense (<span style=\"color: #0087ff; text-decoration-color: #0087ff\">Dense</span>)                   │ ?                      │   <span style=\"color: #00af00; text-decoration-color: #00af00\">0</span> (unbuilt) │\n",
       "└─────────────────────────────────┴────────────────────────┴───────────────┘\n",
       "</pre>\n"
      ],
      "text/plain": [
       "┏━━━━━━━━━━━━━━━━━━━━━━━━━━━━━━━━━┳━━━━━━━━━━━━━━━━━━━━━━━━┳━━━━━━━━━━━━━━━┓\n",
       "┃\u001b[1m \u001b[0m\u001b[1mLayer (type)                   \u001b[0m\u001b[1m \u001b[0m┃\u001b[1m \u001b[0m\u001b[1mOutput Shape          \u001b[0m\u001b[1m \u001b[0m┃\u001b[1m \u001b[0m\u001b[1m      Param #\u001b[0m\u001b[1m \u001b[0m┃\n",
       "┡━━━━━━━━━━━━━━━━━━━━━━━━━━━━━━━━━╇━━━━━━━━━━━━━━━━━━━━━━━━╇━━━━━━━━━━━━━━━┩\n",
       "│ text_vectorization              │ ?                      │   \u001b[38;5;34m0\u001b[0m (unbuilt) │\n",
       "│ (\u001b[38;5;33mTextVectorization\u001b[0m)             │                        │               │\n",
       "├─────────────────────────────────┼────────────────────────┼───────────────┤\n",
       "│ embedding_1 (\u001b[38;5;33mEmbedding\u001b[0m)         │ ?                      │   \u001b[38;5;34m0\u001b[0m (unbuilt) │\n",
       "├─────────────────────────────────┼────────────────────────┼───────────────┤\n",
       "│ simple_rnn (\u001b[38;5;33mSimpleRNN\u001b[0m)          │ ?                      │   \u001b[38;5;34m0\u001b[0m (unbuilt) │\n",
       "├─────────────────────────────────┼────────────────────────┼───────────────┤\n",
       "│ dense (\u001b[38;5;33mDense\u001b[0m)                   │ ?                      │   \u001b[38;5;34m0\u001b[0m (unbuilt) │\n",
       "└─────────────────────────────────┴────────────────────────┴───────────────┘\n"
      ]
     },
     "metadata": {},
     "output_type": "display_data"
    },
    {
     "data": {
      "text/html": [
       "<pre style=\"white-space:pre;overflow-x:auto;line-height:normal;font-family:Menlo,'DejaVu Sans Mono',consolas,'Courier New',monospace\"><span style=\"font-weight: bold\"> Total params: </span><span style=\"color: #00af00; text-decoration-color: #00af00\">0</span> (0.00 B)\n",
       "</pre>\n"
      ],
      "text/plain": [
       "\u001b[1m Total params: \u001b[0m\u001b[38;5;34m0\u001b[0m (0.00 B)\n"
      ]
     },
     "metadata": {},
     "output_type": "display_data"
    },
    {
     "data": {
      "text/html": [
       "<pre style=\"white-space:pre;overflow-x:auto;line-height:normal;font-family:Menlo,'DejaVu Sans Mono',consolas,'Courier New',monospace\"><span style=\"font-weight: bold\"> Trainable params: </span><span style=\"color: #00af00; text-decoration-color: #00af00\">0</span> (0.00 B)\n",
       "</pre>\n"
      ],
      "text/plain": [
       "\u001b[1m Trainable params: \u001b[0m\u001b[38;5;34m0\u001b[0m (0.00 B)\n"
      ]
     },
     "metadata": {},
     "output_type": "display_data"
    },
    {
     "data": {
      "text/html": [
       "<pre style=\"white-space:pre;overflow-x:auto;line-height:normal;font-family:Menlo,'DejaVu Sans Mono',consolas,'Courier New',monospace\"><span style=\"font-weight: bold\"> Non-trainable params: </span><span style=\"color: #00af00; text-decoration-color: #00af00\">0</span> (0.00 B)\n",
       "</pre>\n"
      ],
      "text/plain": [
       "\u001b[1m Non-trainable params: \u001b[0m\u001b[38;5;34m0\u001b[0m (0.00 B)\n"
      ]
     },
     "metadata": {},
     "output_type": "display_data"
    },
    {
     "name": "stdout",
     "output_type": "stream",
     "text": [
      "Epoch 1/30\n",
      "\u001b[1m78/78\u001b[0m \u001b[32m━━━━━━━━━━━━━━━━━━━━\u001b[0m\u001b[37m\u001b[0m \u001b[1m1s\u001b[0m 9ms/step - accuracy: 0.6399 - loss: 0.6159 - val_accuracy: 0.8257 - val_loss: 0.4050\n",
      "Epoch 2/30\n",
      "\u001b[1m78/78\u001b[0m \u001b[32m━━━━━━━━━━━━━━━━━━━━\u001b[0m\u001b[37m\u001b[0m \u001b[1m1s\u001b[0m 8ms/step - accuracy: 0.8963 - loss: 0.2779 - val_accuracy: 0.8692 - val_loss: 0.3559\n",
      "Epoch 3/30\n",
      "\u001b[1m78/78\u001b[0m \u001b[32m━━━━━━━━━━━━━━━━━━━━\u001b[0m\u001b[37m\u001b[0m \u001b[1m1s\u001b[0m 8ms/step - accuracy: 0.9522 - loss: 0.1491 - val_accuracy: 0.8692 - val_loss: 0.3172\n",
      "Epoch 4/30\n",
      "\u001b[1m78/78\u001b[0m \u001b[32m━━━━━━━━━━━━━━━━━━━━\u001b[0m\u001b[37m\u001b[0m \u001b[1m1s\u001b[0m 8ms/step - accuracy: 0.9842 - loss: 0.0715 - val_accuracy: 0.8402 - val_loss: 0.4186\n",
      "Epoch 5/30\n",
      "\u001b[1m78/78\u001b[0m \u001b[32m━━━━━━━━━━━━━━━━━━━━\u001b[0m\u001b[37m\u001b[0m \u001b[1m1s\u001b[0m 7ms/step - accuracy: 0.9928 - loss: 0.0383 - val_accuracy: 0.8692 - val_loss: 0.3757\n",
      "Epoch 6/30\n",
      "\u001b[1m78/78\u001b[0m \u001b[32m━━━━━━━━━━━━━━━━━━━━\u001b[0m\u001b[37m\u001b[0m \u001b[1m1s\u001b[0m 7ms/step - accuracy: 0.9939 - loss: 0.0262 - val_accuracy: 0.8620 - val_loss: 0.3658\n",
      "Epoch 7/30\n",
      "\u001b[1m78/78\u001b[0m \u001b[32m━━━━━━━━━━━━━━━━━━━━\u001b[0m\u001b[37m\u001b[0m \u001b[1m1s\u001b[0m 7ms/step - accuracy: 0.9971 - loss: 0.0188 - val_accuracy: 0.8692 - val_loss: 0.4564\n",
      "Epoch 7: early stopping\n"
     ]
    },
    {
     "data": {
      "image/png": "[encoded data removed]",
      "text/plain": [
       "<Figure size 600x400 with 2 Axes>"
      ]
     },
     "metadata": {},
     "output_type": "display_data"
    }
   ],
   "source": [
    "# Build the lstm model and specify the vectorizer\n",
    "rnn_model = build_rnn_model(sequence_vectorizer)\n",
    "\n",
    "# Defien number of epocs\n",
    "EPOCHS = 30\n",
    "# Fit the model\n",
    "history = rnn_model.fit(\n",
    "    train_ds,\n",
    "    epochs=EPOCHS,\n",
    "    validation_data=val_ds,\n",
    "    callbacks=get_callbacks(patience=5),\n",
    ")\n",
    "fn.evaluate.plot_history(history,figsize=(6,4))"
   ]
  },
  {
   "cell_type": "code",
   "execution_count": 54,
   "id": "fb74a307-abc8-4713-bc8f-44ca51062faf",
   "metadata": {
    "execution": {
     "iopub.execute_input": "2024-07-09T16:27:36.323425Z",
     "iopub.status.busy": "2024-07-09T16:27:36.323343Z",
     "iopub.status.idle": "2024-07-09T16:27:41.820585Z",
     "shell.execute_reply": "2024-07-09T16:27:41.820126Z",
     "shell.execute_reply.started": "2024-07-09T16:27:36.323417Z"
    }
   },
   "outputs": [
    {
     "name": "stdout",
     "output_type": "stream",
     "text": [
      "\n",
      "================================================================================\n",
      "- Evaluating Network...\n",
      "================================================================================\n",
      "----------------------------------------------------------------------\n",
      " Classification Metrics: Training Data\n",
      "----------------------------------------------------------------------\n",
      "              precision    recall  f1-score   support\n",
      "\n",
      "           0       0.99      1.00      1.00      1376\n",
      "           1       1.00      0.99      1.00      1102\n",
      "\n",
      "    accuracy                           1.00      2478\n",
      "   macro avg       1.00      1.00      1.00      2478\n",
      "weighted avg       1.00      1.00      1.00      2478\n",
      "\n"
     ]
    },
    {
     "name": "stderr",
     "output_type": "stream",
     "text": [
      "2024-09-05 12:14:31.110954: W tensorflow/core/framework/local_rendezvous.cc:404] Local rendezvous is aborting with status: OUT_OF_RANGE: End of sequence\n"
     ]
    },
    {
     "data": {
      "image/png": "[encoded data removed]",
      "text/plain": [
       "<Figure size 600x400 with 2 Axes>"
      ]
     },
     "metadata": {},
     "output_type": "display_data"
    },
    {
     "name": "stdout",
     "output_type": "stream",
     "text": [
      "\n",
      "- Evaluating Training Data:\n",
      "\u001b[1m78/78\u001b[0m \u001b[32m━━━━━━━━━━━━━━━━━━━━\u001b[0m\u001b[37m\u001b[0m \u001b[1m0s\u001b[0m 2ms/step - accuracy: 0.9941 - loss: 0.0180\n",
      "{'accuracy': 0.9963680505752563, 'loss': 0.015681255608797073}\n",
      "----------------------------------------------------------------------\n",
      " Classification Metrics: Test Data\n",
      "----------------------------------------------------------------------\n",
      "              precision    recall  f1-score   support\n",
      "\n",
      "           0       0.89      0.97      0.93       238\n",
      "           1       0.95      0.85      0.89       176\n",
      "\n",
      "    accuracy                           0.92       414\n",
      "   macro avg       0.92      0.91      0.91       414\n",
      "weighted avg       0.92      0.92      0.91       414\n",
      "\n"
     ]
    },
    {
     "name": "stderr",
     "output_type": "stream",
     "text": [
      "2024-09-05 12:14:32.191647: W tensorflow/core/framework/local_rendezvous.cc:404] Local rendezvous is aborting with status: OUT_OF_RANGE: End of sequence\n"
     ]
    },
    {
     "data": {
      "image/png": "[encoded data removed]",
      "text/plain": [
       "<Figure size 600x400 with 2 Axes>"
      ]
     },
     "metadata": {},
     "output_type": "display_data"
    },
    {
     "name": "stdout",
     "output_type": "stream",
     "text": [
      "\n",
      "- Evaluating Test Data:\n",
      "\u001b[1m13/13\u001b[0m \u001b[32m━━━━━━━━━━━━━━━━━━━━\u001b[0m\u001b[37m\u001b[0m \u001b[1m0s\u001b[0m 2ms/step - accuracy: 0.9152 - loss: 0.2920\n",
      "{'accuracy': 0.9154589176177979, 'loss': 0.2961035370826721}\n"
     ]
    }
   ],
   "source": [
    "# Obtain the results\n",
    "results = fn.evaluate.evaluate_classification_network(\n",
    "    rnn_model, X_train=train_ds, \n",
    "    X_test=test_ds,# history=history\n",
    ");"
   ]
  },
  {
   "cell_type": "markdown",
   "id": "6daf92c9-7183-4d62-a4c3-203dfac757dd",
   "metadata": {},
   "source": [
    "## LSTM"
   ]
  },
  {
   "cell_type": "code",
   "execution_count": 55,
   "id": "61d34e65-fe34-477e-b390-828502456ec5",
   "metadata": {
    "execution": {
     "iopub.execute_input": "2024-07-09T16:27:41.821490Z",
     "iopub.status.busy": "2024-07-09T16:27:41.821375Z",
     "iopub.status.idle": "2024-07-09T16:27:41.826105Z",
     "shell.execute_reply": "2024-07-09T16:27:41.825750Z",
     "shell.execute_reply.started": "2024-07-09T16:27:41.821480Z"
    }
   },
   "outputs": [],
   "source": [
    "# Define a function for building an LSTM model\n",
    "from tensorflow.keras import layers, optimizers, regularizers\n",
    "from tensorflow.keras.models import Sequential\n",
    "\n",
    "\n",
    "# @tf.function\n",
    "def build_lstm_model(text_vectorization_layer, binary_task=True):\n",
    "    VOCAB_SIZE = text_vectorization_layer.vocabulary_size()\n",
    "\n",
    "    if binary_task == True:\n",
    "        final_activation = \"sigmoid\"  # ?\n",
    "        loss_func = \"binary_crossentropy\"\n",
    "        nunits_output = 1\n",
    "    else:\n",
    "        final_activation = \"softmax\"  # ?\n",
    "        loss_func = \"sparse_categorical_crossentropy\"\n",
    "        nunits_output = len(classes)\n",
    "\n",
    "    # Define sequential model with pre-trained vectorization layer and *new* embedding layer\n",
    "    lstm_model = Sequential(\n",
    "        [\n",
    "            text_vectorization_layer,\n",
    "            layers.Embedding(\n",
    "                input_dim=VOCAB_SIZE, output_dim=EMBED_DIM, input_length=SEQUENCE_LENGTH\n",
    "            ),\n",
    "        ]\n",
    "    )\n",
    "\n",
    "    # Add *new* LSTM layer\n",
    "    lstm_model.add(layers.LSTM(64, recurrent_dropout=0.1, return_sequences=True))\n",
    "    lstm_model.add(layers.Dropout(0.5))\n",
    "    lstm_model.add(layers.LSTM(64, return_sequences=True))\n",
    "    lstm_model.add(layers.GlobalMaxPooling1D())\n",
    "\n",
    "    # Add output layer\n",
    "    lstm_model.add(layers.Dense(nunits_output, activation=final_activation))\n",
    "\n",
    "    # Compile the model\n",
    "    lr_schedule = optimizers.schedules.ExponentialDecay(\n",
    "        initial_learning_rate=0.01, decay_steps=10000, decay_rate=0.95\n",
    "    )  # 0.9)\n",
    "    optimizer = optimizers.Adam(learning_rate=lr_schedule)\n",
    "    lstm_model.compile(\n",
    "        optimizer=optimizer,  #'adam',\n",
    "        loss=loss_func,  # \"sparse_categorical_crossentropy\",\n",
    "        metrics=[  # tf.metrics.Accuracy(name='accuracy'),\n",
    "            \"accuracy\",\n",
    "            tf.metrics.Recall(name=\"recall\")\n",
    "            # tf.keras.metrics.Recall(class_id=0, name=\"recall_class_0\"),\n",
    "            # tf.keras.metrics.Recall(class_id=1, name=\"recall_class_1\"),\n",
    "        ],\n",
    "    )\n",
    "\n",
    "    lstm_model.summary()\n",
    "    return lstm_model"
   ]
  },
  {
   "cell_type": "code",
   "execution_count": 56,
   "id": "ea7a8087-d599-4318-b4f6-a765a0b5e14f",
   "metadata": {
    "execution": {
     "iopub.execute_input": "2024-07-09T16:27:41.826713Z",
     "iopub.status.busy": "2024-07-09T16:27:41.826607Z",
     "iopub.status.idle": "2024-07-09T16:27:56.355651Z",
     "shell.execute_reply": "2024-07-09T16:27:56.355384Z",
     "shell.execute_reply.started": "2024-07-09T16:27:41.826703Z"
    }
   },
   "outputs": [
    {
     "name": "stderr",
     "output_type": "stream",
     "text": [
      "/opt/homebrew/Caskroom/miniforge/base/envs/dojo-env/lib/python3.10/site-packages/keras/src/layers/core/embedding.py:90: UserWarning: Argument `input_length` is deprecated. Just remove it.\n",
      "  warnings.warn(\n"
     ]
    },
    {
     "data": {
      "text/html": [
       "<pre style=\"white-space:pre;overflow-x:auto;line-height:normal;font-family:Menlo,'DejaVu Sans Mono',consolas,'Courier New',monospace\"><span style=\"font-weight: bold\">Model: \"sequential_2\"</span>\n",
       "</pre>\n"
      ],
      "text/plain": [
       "\u001b[1mModel: \"sequential_2\"\u001b[0m\n"
      ]
     },
     "metadata": {},
     "output_type": "display_data"
    },
    {
     "data": {
      "text/html": [
       "<pre style=\"white-space:pre;overflow-x:auto;line-height:normal;font-family:Menlo,'DejaVu Sans Mono',consolas,'Courier New',monospace\">┏━━━━━━━━━━━━━━━━━━━━━━━━━━━━━━━━━┳━━━━━━━━━━━━━━━━━━━━━━━━┳━━━━━━━━━━━━━━━┓\n",
       "┃<span style=\"font-weight: bold\"> Layer (type)                    </span>┃<span style=\"font-weight: bold\"> Output Shape           </span>┃<span style=\"font-weight: bold\">       Param # </span>┃\n",
       "┡━━━━━━━━━━━━━━━━━━━━━━━━━━━━━━━━━╇━━━━━━━━━━━━━━━━━━━━━━━━╇━━━━━━━━━━━━━━━┩\n",
       "│ text_vectorization              │ (<span style=\"color: #00d7ff; text-decoration-color: #00d7ff\">None</span>, <span style=\"color: #00af00; text-decoration-color: #00af00\">50</span>)             │             <span style=\"color: #00af00; text-decoration-color: #00af00\">0</span> │\n",
       "│ (<span style=\"color: #0087ff; text-decoration-color: #0087ff\">TextVectorization</span>)             │                        │               │\n",
       "├─────────────────────────────────┼────────────────────────┼───────────────┤\n",
       "│ embedding_2 (<span style=\"color: #0087ff; text-decoration-color: #0087ff\">Embedding</span>)         │ ?                      │   <span style=\"color: #00af00; text-decoration-color: #00af00\">0</span> (unbuilt) │\n",
       "├─────────────────────────────────┼────────────────────────┼───────────────┤\n",
       "│ lstm (<span style=\"color: #0087ff; text-decoration-color: #0087ff\">LSTM</span>)                     │ ?                      │   <span style=\"color: #00af00; text-decoration-color: #00af00\">0</span> (unbuilt) │\n",
       "├─────────────────────────────────┼────────────────────────┼───────────────┤\n",
       "│ dropout (<span style=\"color: #0087ff; text-decoration-color: #0087ff\">Dropout</span>)               │ ?                      │   <span style=\"color: #00af00; text-decoration-color: #00af00\">0</span> (unbuilt) │\n",
       "├─────────────────────────────────┼────────────────────────┼───────────────┤\n",
       "│ lstm_1 (<span style=\"color: #0087ff; text-decoration-color: #0087ff\">LSTM</span>)                   │ ?                      │   <span style=\"color: #00af00; text-decoration-color: #00af00\">0</span> (unbuilt) │\n",
       "├─────────────────────────────────┼────────────────────────┼───────────────┤\n",
       "│ global_max_pooling1d            │ ?                      │   <span style=\"color: #00af00; text-decoration-color: #00af00\">0</span> (unbuilt) │\n",
       "│ (<span style=\"color: #0087ff; text-decoration-color: #0087ff\">GlobalMaxPooling1D</span>)            │                        │               │\n",
       "├─────────────────────────────────┼────────────────────────┼───────────────┤\n",
       "│ dense_1 (<span style=\"color: #0087ff; text-decoration-color: #0087ff\">Dense</span>)                 │ ?                      │   <span style=\"color: #00af00; text-decoration-color: #00af00\">0</span> (unbuilt) │\n",
       "└─────────────────────────────────┴────────────────────────┴───────────────┘\n",
       "</pre>\n"
      ],
      "text/plain": [
       "┏━━━━━━━━━━━━━━━━━━━━━━━━━━━━━━━━━┳━━━━━━━━━━━━━━━━━━━━━━━━┳━━━━━━━━━━━━━━━┓\n",
       "┃\u001b[1m \u001b[0m\u001b[1mLayer (type)                   \u001b[0m\u001b[1m \u001b[0m┃\u001b[1m \u001b[0m\u001b[1mOutput Shape          \u001b[0m\u001b[1m \u001b[0m┃\u001b[1m \u001b[0m\u001b[1m      Param #\u001b[0m\u001b[1m \u001b[0m┃\n",
       "┡━━━━━━━━━━━━━━━━━━━━━━━━━━━━━━━━━╇━━━━━━━━━━━━━━━━━━━━━━━━╇━━━━━━━━━━━━━━━┩\n",
       "│ text_vectorization              │ (\u001b[38;5;45mNone\u001b[0m, \u001b[38;5;34m50\u001b[0m)             │             \u001b[38;5;34m0\u001b[0m │\n",
       "│ (\u001b[38;5;33mTextVectorization\u001b[0m)             │                        │               │\n",
       "├─────────────────────────────────┼────────────────────────┼───────────────┤\n",
       "│ embedding_2 (\u001b[38;5;33mEmbedding\u001b[0m)         │ ?                      │   \u001b[38;5;34m0\u001b[0m (unbuilt) │\n",
       "├─────────────────────────────────┼────────────────────────┼───────────────┤\n",
       "│ lstm (\u001b[38;5;33mLSTM\u001b[0m)                     │ ?                      │   \u001b[38;5;34m0\u001b[0m (unbuilt) │\n",
       "├─────────────────────────────────┼────────────────────────┼───────────────┤\n",
       "│ dropout (\u001b[38;5;33mDropout\u001b[0m)               │ ?                      │   \u001b[38;5;34m0\u001b[0m (unbuilt) │\n",
       "├─────────────────────────────────┼────────────────────────┼───────────────┤\n",
       "│ lstm_1 (\u001b[38;5;33mLSTM\u001b[0m)                   │ ?                      │   \u001b[38;5;34m0\u001b[0m (unbuilt) │\n",
       "├─────────────────────────────────┼────────────────────────┼───────────────┤\n",
       "│ global_max_pooling1d            │ ?                      │   \u001b[38;5;34m0\u001b[0m (unbuilt) │\n",
       "│ (\u001b[38;5;33mGlobalMaxPooling1D\u001b[0m)            │                        │               │\n",
       "├─────────────────────────────────┼────────────────────────┼───────────────┤\n",
       "│ dense_1 (\u001b[38;5;33mDense\u001b[0m)                 │ ?                      │   \u001b[38;5;34m0\u001b[0m (unbuilt) │\n",
       "└─────────────────────────────────┴────────────────────────┴───────────────┘\n"
      ]
     },
     "metadata": {},
     "output_type": "display_data"
    },
    {
     "data": {
      "text/html": [
       "<pre style=\"white-space:pre;overflow-x:auto;line-height:normal;font-family:Menlo,'DejaVu Sans Mono',consolas,'Courier New',monospace\"><span style=\"font-weight: bold\"> Total params: </span><span style=\"color: #00af00; text-decoration-color: #00af00\">0</span> (0.00 B)\n",
       "</pre>\n"
      ],
      "text/plain": [
       "\u001b[1m Total params: \u001b[0m\u001b[38;5;34m0\u001b[0m (0.00 B)\n"
      ]
     },
     "metadata": {},
     "output_type": "display_data"
    },
    {
     "data": {
      "text/html": [
       "<pre style=\"white-space:pre;overflow-x:auto;line-height:normal;font-family:Menlo,'DejaVu Sans Mono',consolas,'Courier New',monospace\"><span style=\"font-weight: bold\"> Trainable params: </span><span style=\"color: #00af00; text-decoration-color: #00af00\">0</span> (0.00 B)\n",
       "</pre>\n"
      ],
      "text/plain": [
       "\u001b[1m Trainable params: \u001b[0m\u001b[38;5;34m0\u001b[0m (0.00 B)\n"
      ]
     },
     "metadata": {},
     "output_type": "display_data"
    },
    {
     "data": {
      "text/html": [
       "<pre style=\"white-space:pre;overflow-x:auto;line-height:normal;font-family:Menlo,'DejaVu Sans Mono',consolas,'Courier New',monospace\"><span style=\"font-weight: bold\"> Non-trainable params: </span><span style=\"color: #00af00; text-decoration-color: #00af00\">0</span> (0.00 B)\n",
       "</pre>\n"
      ],
      "text/plain": [
       "\u001b[1m Non-trainable params: \u001b[0m\u001b[38;5;34m0\u001b[0m (0.00 B)\n"
      ]
     },
     "metadata": {},
     "output_type": "display_data"
    },
    {
     "name": "stdout",
     "output_type": "stream",
     "text": [
      "Epoch 1/30\n",
      "\u001b[1m78/78\u001b[0m \u001b[32m━━━━━━━━━━━━━━━━━━━━\u001b[0m\u001b[37m\u001b[0m \u001b[1m4s\u001b[0m 29ms/step - accuracy: 0.7489 - loss: 0.5078 - recall: 0.6173 - val_accuracy: 0.8741 - val_loss: 0.3060 - val_recall: 0.7987\n",
      "Epoch 2/30\n",
      "\u001b[1m78/78\u001b[0m \u001b[32m━━━━━━━━━━━━━━━━━━━━\u001b[0m\u001b[37m\u001b[0m \u001b[1m2s\u001b[0m 26ms/step - accuracy: 0.9369 - loss: 0.1753 - recall: 0.9238 - val_accuracy: 0.8838 - val_loss: 0.3123 - val_recall: 0.7358\n",
      "Epoch 3/30\n",
      "\u001b[1m78/78\u001b[0m \u001b[32m━━━━━━━━━━━━━━━━━━━━\u001b[0m\u001b[37m\u001b[0m \u001b[1m2s\u001b[0m 27ms/step - accuracy: 0.9534 - loss: 0.1268 - recall: 0.9355 - val_accuracy: 0.9056 - val_loss: 0.2816 - val_recall: 0.9308\n",
      "Epoch 4/30\n",
      "\u001b[1m78/78\u001b[0m \u001b[32m━━━━━━━━━━━━━━━━━━━━\u001b[0m\u001b[37m\u001b[0m \u001b[1m2s\u001b[0m 28ms/step - accuracy: 0.9798 - loss: 0.0700 - recall: 0.9769 - val_accuracy: 0.8910 - val_loss: 0.2928 - val_recall: 0.7925\n",
      "Epoch 5/30\n",
      "\u001b[1m78/78\u001b[0m \u001b[32m━━━━━━━━━━━━━━━━━━━━\u001b[0m\u001b[37m\u001b[0m \u001b[1m2s\u001b[0m 28ms/step - accuracy: 0.9811 - loss: 0.0555 - recall: 0.9734 - val_accuracy: 0.8765 - val_loss: 0.3352 - val_recall: 0.7673\n",
      "Epoch 6/30\n",
      "\u001b[1m78/78\u001b[0m \u001b[32m━━━━━━━━━━━━━━━━━━━━\u001b[0m\u001b[37m\u001b[0m \u001b[1m2s\u001b[0m 30ms/step - accuracy: 0.9931 - loss: 0.0202 - recall: 0.9903 - val_accuracy: 0.9056 - val_loss: 0.3164 - val_recall: 0.9245\n",
      "Epoch 6: early stopping\n"
     ]
    },
    {
     "data": {
      "image/png": "[encoded data removed]",
      "text/plain": [
       "<Figure size 600x800 with 3 Axes>"
      ]
     },
     "metadata": {},
     "output_type": "display_data"
    }
   ],
   "source": [
    "EMBED_DIM = 50\n",
    "classes = y_train.unique()\n",
    "# Build the lstm model and specify the vectorizer\n",
    "lstm_model = build_lstm_model(sequence_vectorizer)\n",
    "\n",
    "# Defien number of epocs\n",
    "EPOCHS = 30\n",
    "\n",
    "# Fit the model\n",
    "history = lstm_model.fit(\n",
    "    train_ds,\n",
    "    epochs=EPOCHS,\n",
    "    validation_data=val_ds,\n",
    "    callbacks=get_callbacks(),\n",
    ")\n",
    "\n",
    "fn.evaluate.plot_history(history)"
   ]
  },
  {
   "cell_type": "code",
   "execution_count": 57,
   "id": "2e6b1da3-095a-4878-8bd1-9beeb8fa3d72",
   "metadata": {
    "execution": {
     "iopub.execute_input": "2024-07-09T16:27:56.356304Z",
     "iopub.status.busy": "2024-07-09T16:27:56.356171Z",
     "iopub.status.idle": "2024-07-09T16:28:05.702270Z",
     "shell.execute_reply": "2024-07-09T16:28:05.701919Z",
     "shell.execute_reply.started": "2024-07-09T16:27:56.356293Z"
    }
   },
   "outputs": [
    {
     "name": "stdout",
     "output_type": "stream",
     "text": [
      "\n",
      "================================================================================\n",
      "- Evaluating Network...\n",
      "================================================================================\n",
      "----------------------------------------------------------------------\n",
      " Classification Metrics: Training Data\n",
      "----------------------------------------------------------------------\n",
      "              precision    recall  f1-score   support\n",
      "\n",
      "           0       1.00      1.00      1.00      1376\n",
      "           1       0.99      1.00      1.00      1102\n",
      "\n",
      "    accuracy                           1.00      2478\n",
      "   macro avg       1.00      1.00      1.00      2478\n",
      "weighted avg       1.00      1.00      1.00      2478\n",
      "\n"
     ]
    },
    {
     "name": "stderr",
     "output_type": "stream",
     "text": [
      "2024-09-05 12:14:55.627021: W tensorflow/core/framework/local_rendezvous.cc:404] Local rendezvous is aborting with status: OUT_OF_RANGE: End of sequence\n"
     ]
    },
    {
     "data": {
      "image/png": "[encoded data removed]",
      "text/plain": [
       "<Figure size 600x400 with 2 Axes>"
      ]
     },
     "metadata": {},
     "output_type": "display_data"
    },
    {
     "name": "stdout",
     "output_type": "stream",
     "text": [
      "\n",
      "- Evaluating Training Data:\n",
      "\u001b[1m78/78\u001b[0m \u001b[32m━━━━━━━━━━━━━━━━━━━━\u001b[0m\u001b[37m\u001b[0m \u001b[1m1s\u001b[0m 7ms/step - accuracy: 0.9972 - loss: 0.0130 - recall: 1.0000\n",
      "{'accuracy': 0.9975786805152893, 'loss': 0.012647964991629124, 'recall': 1.0}\n",
      "----------------------------------------------------------------------\n",
      " Classification Metrics: Test Data\n",
      "----------------------------------------------------------------------\n",
      "              precision    recall  f1-score   support\n",
      "\n",
      "           0       0.93      0.94      0.94       238\n",
      "           1       0.92      0.91      0.91       176\n",
      "\n",
      "    accuracy                           0.93       414\n",
      "   macro avg       0.93      0.93      0.93       414\n",
      "weighted avg       0.93      0.93      0.93       414\n",
      "\n"
     ]
    },
    {
     "name": "stderr",
     "output_type": "stream",
     "text": [
      "2024-09-05 12:14:57.522096: W tensorflow/core/framework/local_rendezvous.cc:404] Local rendezvous is aborting with status: OUT_OF_RANGE: End of sequence\n"
     ]
    },
    {
     "data": {
      "image/png": "[encoded data removed]",
      "text/plain": [
       "<Figure size 600x400 with 2 Axes>"
      ]
     },
     "metadata": {},
     "output_type": "display_data"
    },
    {
     "name": "stdout",
     "output_type": "stream",
     "text": [
      "\n",
      "- Evaluating Test Data:\n",
      "\u001b[1m13/13\u001b[0m \u001b[32m━━━━━━━━━━━━━━━━━━━━\u001b[0m\u001b[37m\u001b[0m \u001b[1m0s\u001b[0m 7ms/step - accuracy: 0.9216 - loss: 0.2072 - recall: 0.9105\n",
      "{'accuracy': 0.9275362491607666, 'loss': 0.20928291976451874, 'recall': 0.9090909361839294}\n"
     ]
    }
   ],
   "source": [
    "# Obtain the results\n",
    "results = fn.evaluate.evaluate_classification_network(\n",
    "    lstm_model, X_train=train_ds, \n",
    "    X_test=test_ds,# history=history\n",
    ");"
   ]
  },
  {
   "cell_type": "markdown",
   "id": "f893ad26-46bb-4092-b814-1c023725fd4c",
   "metadata": {},
   "source": [
    "> ADD SAVING MODEL"
   ]
  },
  {
   "cell_type": "code",
   "execution_count": 58,
   "id": "a9e88367-a475-49d1-8c11-254991ae6f4a",
   "metadata": {
    "execution": {
     "iopub.execute_input": "2024-07-09T16:28:05.702925Z",
     "iopub.status.busy": "2024-07-09T16:28:05.702832Z",
     "iopub.status.idle": "2024-07-09T16:28:05.704855Z",
     "shell.execute_reply": "2024-07-09T16:28:05.704496Z",
     "shell.execute_reply.started": "2024-07-09T16:28:05.702915Z"
    }
   },
   "outputs": [],
   "source": [
    "# # Saving model in tf format \n",
    "# fname_model_lstm = FPATHS['models']['nn']['LSTM_dir']# \"Models/keras/lstm/\" # Filename is a folder for save_format='tf'\n",
    "# lstm_model.save(fname_model_lstm, save_format='tf')"
   ]
  },
  {
   "cell_type": "markdown",
   "id": "ea1602ac-b343-4fdd-965a-c21e79d79901",
   "metadata": {},
   "source": [
    "### RNN Model 2"
   ]
  },
  {
   "cell_type": "code",
   "execution_count": 59,
   "id": "aaadb53c-8239-4308-b795-8fb78dfa3753",
   "metadata": {
    "execution": {
     "iopub.execute_input": "2024-07-09T16:28:05.705408Z",
     "iopub.status.busy": "2024-07-09T16:28:05.705303Z",
     "iopub.status.idle": "2024-07-09T16:28:05.709610Z",
     "shell.execute_reply": "2024-07-09T16:28:05.709180Z",
     "shell.execute_reply.started": "2024-07-09T16:28:05.705398Z"
    }
   },
   "outputs": [],
   "source": [
    "def build_gru_model_bi_pool(text_vectorization_layer, binary_task=True):\n",
    "    VOCAB_SIZE = text_vectorization_layer.vocabulary_size()\n",
    "    \n",
    "    if binary_task == True:\n",
    "        final_activation = \"sigmoid\"  # ?\n",
    "        loss_func = \"binary_crossentropy\"\n",
    "        nunits_output = 1\n",
    "    else:\n",
    "        final_activation = \"softmax\"  # ?\n",
    "        loss_func = \"sparse_categorical_crossentropy\"\n",
    "        nunits_output = len(classes)\n",
    "    \n",
    "    # Define sequential model with pre-trained vectorization layer and *new* embedding layer\n",
    "    model = Sequential(\n",
    "        [\n",
    "            text_vectorization_layer,\n",
    "            layers.Embedding(\n",
    "                input_dim=VOCAB_SIZE, output_dim=EMBED_DIM, input_length=SEQUENCE_LENGTH\n",
    "            ),\n",
    "        ]\n",
    "    )\n",
    "    model = Sequential([\n",
    "        text_vectorization_layer,\n",
    "        layers.Embedding(input_dim=VOCAB_SIZE,\n",
    "                      output_dim=EMBED_DIM,\n",
    "                      input_length=SEQUENCE_LENGTH)])\n",
    "        \n",
    "    # Add bidirectional component to GRU layer \n",
    "    model.add(layers.Bidirectional(layers.GRU(128, return_sequences = True)))\n",
    "    \n",
    "    # Add a pooling layer *new\n",
    "    model.add(layers.GlobalMaxPooling1D())\n",
    "    \n",
    "    # Output layer\n",
    "    model.add(layers.Dense(nunits_output, activation=final_activation))\n",
    "                     \n",
    "    # optimizer = optimizers.legacy.Adam()\n",
    "    # Compile the model\n",
    "    lr_schedule = optimizers.schedules.ExponentialDecay(\n",
    "        initial_learning_rate=0.01, decay_steps=10000, decay_rate=0.95\n",
    "    )  # 0.9)\n",
    "    optimizer = optimizers.Adam(learning_rate=lr_schedule)\n",
    "    model.compile(optimizer=optimizer, \n",
    "                  loss=loss_func,\n",
    "                              metrics=[  # tf.metrics.Accuracy(name='accuracy'),\n",
    "            \"accuracy\",\n",
    "            tf.metrics.Recall(name=\"recall\")\n",
    "                              ])\n",
    "    model.summary()\n",
    "    return model"
   ]
  },
  {
   "cell_type": "code",
   "execution_count": 60,
   "id": "e15c7346-1002-4ffd-be57-3e93402d2314",
   "metadata": {
    "execution": {
     "iopub.execute_input": "2024-07-09T16:28:05.710289Z",
     "iopub.status.busy": "2024-07-09T16:28:05.710184Z",
     "iopub.status.idle": "2024-07-09T16:28:35.728330Z",
     "shell.execute_reply": "2024-07-09T16:28:35.728029Z",
     "shell.execute_reply.started": "2024-07-09T16:28:05.710279Z"
    }
   },
   "outputs": [
    {
     "name": "stderr",
     "output_type": "stream",
     "text": [
      "/opt/homebrew/Caskroom/miniforge/base/envs/dojo-env/lib/python3.10/site-packages/keras/src/layers/core/embedding.py:90: UserWarning: Argument `input_length` is deprecated. Just remove it.\n",
      "  warnings.warn(\n"
     ]
    },
    {
     "data": {
      "text/html": [
       "<pre style=\"white-space:pre;overflow-x:auto;line-height:normal;font-family:Menlo,'DejaVu Sans Mono',consolas,'Courier New',monospace\"><span style=\"font-weight: bold\">Model: \"sequential_4\"</span>\n",
       "</pre>\n"
      ],
      "text/plain": [
       "\u001b[1mModel: \"sequential_4\"\u001b[0m\n"
      ]
     },
     "metadata": {},
     "output_type": "display_data"
    },
    {
     "data": {
      "text/html": [
       "<pre style=\"white-space:pre;overflow-x:auto;line-height:normal;font-family:Menlo,'DejaVu Sans Mono',consolas,'Courier New',monospace\">┏━━━━━━━━━━━━━━━━━━━━━━━━━━━━━━━━━┳━━━━━━━━━━━━━━━━━━━━━━━━┳━━━━━━━━━━━━━━━┓\n",
       "┃<span style=\"font-weight: bold\"> Layer (type)                    </span>┃<span style=\"font-weight: bold\"> Output Shape           </span>┃<span style=\"font-weight: bold\">       Param # </span>┃\n",
       "┡━━━━━━━━━━━━━━━━━━━━━━━━━━━━━━━━━╇━━━━━━━━━━━━━━━━━━━━━━━━╇━━━━━━━━━━━━━━━┩\n",
       "│ text_vectorization              │ (<span style=\"color: #00d7ff; text-decoration-color: #00d7ff\">None</span>, <span style=\"color: #00af00; text-decoration-color: #00af00\">50</span>)             │             <span style=\"color: #00af00; text-decoration-color: #00af00\">0</span> │\n",
       "│ (<span style=\"color: #0087ff; text-decoration-color: #0087ff\">TextVectorization</span>)             │                        │               │\n",
       "├─────────────────────────────────┼────────────────────────┼───────────────┤\n",
       "│ embedding_4 (<span style=\"color: #0087ff; text-decoration-color: #0087ff\">Embedding</span>)         │ ?                      │   <span style=\"color: #00af00; text-decoration-color: #00af00\">0</span> (unbuilt) │\n",
       "├─────────────────────────────────┼────────────────────────┼───────────────┤\n",
       "│ bidirectional (<span style=\"color: #0087ff; text-decoration-color: #0087ff\">Bidirectional</span>)   │ ?                      │   <span style=\"color: #00af00; text-decoration-color: #00af00\">0</span> (unbuilt) │\n",
       "├─────────────────────────────────┼────────────────────────┼───────────────┤\n",
       "│ global_max_pooling1d_1          │ ?                      │   <span style=\"color: #00af00; text-decoration-color: #00af00\">0</span> (unbuilt) │\n",
       "│ (<span style=\"color: #0087ff; text-decoration-color: #0087ff\">GlobalMaxPooling1D</span>)            │                        │               │\n",
       "├─────────────────────────────────┼────────────────────────┼───────────────┤\n",
       "│ dense_2 (<span style=\"color: #0087ff; text-decoration-color: #0087ff\">Dense</span>)                 │ ?                      │   <span style=\"color: #00af00; text-decoration-color: #00af00\">0</span> (unbuilt) │\n",
       "└─────────────────────────────────┴────────────────────────┴───────────────┘\n",
       "</pre>\n"
      ],
      "text/plain": [
       "┏━━━━━━━━━━━━━━━━━━━━━━━━━━━━━━━━━┳━━━━━━━━━━━━━━━━━━━━━━━━┳━━━━━━━━━━━━━━━┓\n",
       "┃\u001b[1m \u001b[0m\u001b[1mLayer (type)                   \u001b[0m\u001b[1m \u001b[0m┃\u001b[1m \u001b[0m\u001b[1mOutput Shape          \u001b[0m\u001b[1m \u001b[0m┃\u001b[1m \u001b[0m\u001b[1m      Param #\u001b[0m\u001b[1m \u001b[0m┃\n",
       "┡━━━━━━━━━━━━━━━━━━━━━━━━━━━━━━━━━╇━━━━━━━━━━━━━━━━━━━━━━━━╇━━━━━━━━━━━━━━━┩\n",
       "│ text_vectorization              │ (\u001b[38;5;45mNone\u001b[0m, \u001b[38;5;34m50\u001b[0m)             │             \u001b[38;5;34m0\u001b[0m │\n",
       "│ (\u001b[38;5;33mTextVectorization\u001b[0m)             │                        │               │\n",
       "├─────────────────────────────────┼────────────────────────┼───────────────┤\n",
       "│ embedding_4 (\u001b[38;5;33mEmbedding\u001b[0m)         │ ?                      │   \u001b[38;5;34m0\u001b[0m (unbuilt) │\n",
       "├─────────────────────────────────┼────────────────────────┼───────────────┤\n",
       "│ bidirectional (\u001b[38;5;33mBidirectional\u001b[0m)   │ ?                      │   \u001b[38;5;34m0\u001b[0m (unbuilt) │\n",
       "├─────────────────────────────────┼────────────────────────┼───────────────┤\n",
       "│ global_max_pooling1d_1          │ ?                      │   \u001b[38;5;34m0\u001b[0m (unbuilt) │\n",
       "│ (\u001b[38;5;33mGlobalMaxPooling1D\u001b[0m)            │                        │               │\n",
       "├─────────────────────────────────┼────────────────────────┼───────────────┤\n",
       "│ dense_2 (\u001b[38;5;33mDense\u001b[0m)                 │ ?                      │   \u001b[38;5;34m0\u001b[0m (unbuilt) │\n",
       "└─────────────────────────────────┴────────────────────────┴───────────────┘\n"
      ]
     },
     "metadata": {},
     "output_type": "display_data"
    },
    {
     "data": {
      "text/html": [
       "<pre style=\"white-space:pre;overflow-x:auto;line-height:normal;font-family:Menlo,'DejaVu Sans Mono',consolas,'Courier New',monospace\"><span style=\"font-weight: bold\"> Total params: </span><span style=\"color: #00af00; text-decoration-color: #00af00\">0</span> (0.00 B)\n",
       "</pre>\n"
      ],
      "text/plain": [
       "\u001b[1m Total params: \u001b[0m\u001b[38;5;34m0\u001b[0m (0.00 B)\n"
      ]
     },
     "metadata": {},
     "output_type": "display_data"
    },
    {
     "data": {
      "text/html": [
       "<pre style=\"white-space:pre;overflow-x:auto;line-height:normal;font-family:Menlo,'DejaVu Sans Mono',consolas,'Courier New',monospace\"><span style=\"font-weight: bold\"> Trainable params: </span><span style=\"color: #00af00; text-decoration-color: #00af00\">0</span> (0.00 B)\n",
       "</pre>\n"
      ],
      "text/plain": [
       "\u001b[1m Trainable params: \u001b[0m\u001b[38;5;34m0\u001b[0m (0.00 B)\n"
      ]
     },
     "metadata": {},
     "output_type": "display_data"
    },
    {
     "data": {
      "text/html": [
       "<pre style=\"white-space:pre;overflow-x:auto;line-height:normal;font-family:Menlo,'DejaVu Sans Mono',consolas,'Courier New',monospace\"><span style=\"font-weight: bold\"> Non-trainable params: </span><span style=\"color: #00af00; text-decoration-color: #00af00\">0</span> (0.00 B)\n",
       "</pre>\n"
      ],
      "text/plain": [
       "\u001b[1m Non-trainable params: \u001b[0m\u001b[38;5;34m0\u001b[0m (0.00 B)\n"
      ]
     },
     "metadata": {},
     "output_type": "display_data"
    },
    {
     "name": "stdout",
     "output_type": "stream",
     "text": [
      "Epoch 1/30\n",
      "\u001b[1m78/78\u001b[0m \u001b[32m━━━━━━━━━━━━━━━━━━━━\u001b[0m\u001b[37m\u001b[0m \u001b[1m5s\u001b[0m 41ms/step - accuracy: 0.7764 - loss: 0.4481 - recall: 0.5687 - val_accuracy: 0.9104 - val_loss: 0.2141 - val_recall: 0.8742\n",
      "Epoch 2/30\n",
      "\u001b[1m78/78\u001b[0m \u001b[32m━━━━━━━━━━━━━━━━━━━━\u001b[0m\u001b[37m\u001b[0m \u001b[1m4s\u001b[0m 54ms/step - accuracy: 0.9525 - loss: 0.1238 - recall: 0.9393 - val_accuracy: 0.9177 - val_loss: 0.2084 - val_recall: 0.8994\n",
      "Epoch 3/30\n",
      "\u001b[1m78/78\u001b[0m \u001b[32m━━━━━━━━━━━━━━━━━━━━\u001b[0m\u001b[37m\u001b[0m \u001b[1m4s\u001b[0m 56ms/step - accuracy: 0.9869 - loss: 0.0341 - recall: 0.9825 - val_accuracy: 0.9225 - val_loss: 0.2008 - val_recall: 0.8679\n",
      "Epoch 4/30\n",
      "\u001b[1m78/78\u001b[0m \u001b[32m━━━━━━━━━━━━━━━━━━━━\u001b[0m\u001b[37m\u001b[0m \u001b[1m4s\u001b[0m 55ms/step - accuracy: 0.9995 - loss: 0.0097 - recall: 0.9999 - val_accuracy: 0.9298 - val_loss: 0.2330 - val_recall: 0.9434\n",
      "Epoch 5/30\n",
      "\u001b[1m78/78\u001b[0m \u001b[32m━━━━━━━━━━━━━━━━━━━━\u001b[0m\u001b[37m\u001b[0m \u001b[1m4s\u001b[0m 57ms/step - accuracy: 0.9997 - loss: 0.0031 - recall: 0.9998 - val_accuracy: 0.9177 - val_loss: 0.2827 - val_recall: 0.9245\n",
      "Epoch 6/30\n",
      "\u001b[1m78/78\u001b[0m \u001b[32m━━━━━━━━━━━━━━━━━━━━\u001b[0m\u001b[37m\u001b[0m \u001b[1m5s\u001b[0m 62ms/step - accuracy: 0.9994 - loss: 0.0033 - recall: 0.9997 - val_accuracy: 0.9080 - val_loss: 0.2989 - val_recall: 0.8553\n",
      "Epoch 7/30\n",
      "\u001b[1m78/78\u001b[0m \u001b[32m━━━━━━━━━━━━━━━━━━━━\u001b[0m\u001b[37m\u001b[0m \u001b[1m5s\u001b[0m 60ms/step - accuracy: 1.0000 - loss: 0.0019 - recall: 0.9999 - val_accuracy: 0.9080 - val_loss: 0.3858 - val_recall: 0.9686\n",
      "Epoch 7: early stopping\n"
     ]
    },
    {
     "data": {
      "image/png": "[encoded data removed]",
      "text/plain": [
       "<Figure size 600x800 with 3 Axes>"
      ]
     },
     "metadata": {},
     "output_type": "display_data"
    }
   ],
   "source": [
    "# Build the lstm model and specify the vectorizer\n",
    "bidirection_model = build_gru_model_bi_pool(sequence_vectorizer)\n",
    "\n",
    "# Defien number of epocs\n",
    "EPOCHS = 30\n",
    "\n",
    "# Fit the model\n",
    "history = bidirection_model.fit(\n",
    "    train_ds,\n",
    "    epochs=EPOCHS,\n",
    "    validation_data=val_ds,\n",
    "    callbacks=get_callbacks(),\n",
    ")\n",
    "fn.evaluate.plot_history(history)"
   ]
  },
  {
   "cell_type": "code",
   "execution_count": 61,
   "id": "d0475eef-7b0c-49cd-86ef-503d050539ef",
   "metadata": {
    "execution": {
     "iopub.execute_input": "2024-07-09T16:28:35.728950Z",
     "iopub.status.busy": "2024-07-09T16:28:35.728843Z",
     "iopub.status.idle": "2024-07-09T16:28:57.730490Z",
     "shell.execute_reply": "2024-07-09T16:28:57.730166Z",
     "shell.execute_reply.started": "2024-07-09T16:28:35.728939Z"
    }
   },
   "outputs": [
    {
     "name": "stdout",
     "output_type": "stream",
     "text": [
      "\n",
      "================================================================================\n",
      "- Evaluating Network...\n",
      "================================================================================\n",
      "----------------------------------------------------------------------\n",
      " Classification Metrics: Training Data\n",
      "----------------------------------------------------------------------\n",
      "              precision    recall  f1-score   support\n",
      "\n",
      "           0       1.00      1.00      1.00      1376\n",
      "           1       1.00      1.00      1.00      1102\n",
      "\n",
      "    accuracy                           1.00      2478\n",
      "   macro avg       1.00      1.00      1.00      2478\n",
      "weighted avg       1.00      1.00      1.00      2478\n",
      "\n"
     ]
    },
    {
     "name": "stderr",
     "output_type": "stream",
     "text": [
      "2024-09-05 12:15:47.293788: W tensorflow/core/framework/local_rendezvous.cc:404] Local rendezvous is aborting with status: OUT_OF_RANGE: End of sequence\n"
     ]
    },
    {
     "data": {
      "image/png": "[encoded data removed]",
      "text/plain": [
       "<Figure size 600x400 with 2 Axes>"
      ]
     },
     "metadata": {},
     "output_type": "display_data"
    },
    {
     "name": "stdout",
     "output_type": "stream",
     "text": [
      "\n",
      "- Evaluating Training Data:\n",
      "\u001b[1m78/78\u001b[0m \u001b[32m━━━━━━━━━━━━━━━━━━━━\u001b[0m\u001b[37m\u001b[0m \u001b[1m1s\u001b[0m 14ms/step - accuracy: 0.9998 - loss: 0.0047 - recall: 1.0000\n",
      "{'accuracy': 0.9991928935050964, 'loss': 0.005624478217214346, 'recall': 1.0}\n",
      "----------------------------------------------------------------------\n",
      " Classification Metrics: Test Data\n",
      "----------------------------------------------------------------------\n",
      "              precision    recall  f1-score   support\n",
      "\n",
      "           0       0.96      0.91      0.94       238\n",
      "           1       0.89      0.95      0.92       176\n",
      "\n",
      "    accuracy                           0.93       414\n",
      "   macro avg       0.93      0.93      0.93       414\n",
      "weighted avg       0.93      0.93      0.93       414\n",
      "\n"
     ]
    },
    {
     "name": "stderr",
     "output_type": "stream",
     "text": [
      "2024-09-05 12:15:51.313545: W tensorflow/core/framework/local_rendezvous.cc:404] Local rendezvous is aborting with status: OUT_OF_RANGE: End of sequence\n"
     ]
    },
    {
     "data": {
      "image/png": "[encoded data removed]",
      "text/plain": [
       "<Figure size 600x400 with 2 Axes>"
      ]
     },
     "metadata": {},
     "output_type": "display_data"
    },
    {
     "name": "stdout",
     "output_type": "stream",
     "text": [
      "\n",
      "- Evaluating Test Data:\n",
      "\u001b[1m13/13\u001b[0m \u001b[32m━━━━━━━━━━━━━━━━━━━━\u001b[0m\u001b[37m\u001b[0m \u001b[1m0s\u001b[0m 14ms/step - accuracy: 0.9334 - loss: 0.2253 - recall: 0.9426\n",
      "{'accuracy': 0.9299516677856445, 'loss': 0.24098041653633118, 'recall': 0.9545454382896423}\n"
     ]
    }
   ],
   "source": [
    "# Obtain the results\n",
    "results = fn.evaluate.evaluate_classification_network(\n",
    "    bidirection_model, X_train=train_ds, \n",
    "    X_test=test_ds,# history=history\n",
    ");"
   ]
  },
  {
   "cell_type": "code",
   "execution_count": 62,
   "id": "1100a6ae-ed00-46dd-92a8-1b5dfd576f08",
   "metadata": {
    "execution": {
     "iopub.execute_input": "2024-07-09T16:28:57.731071Z",
     "iopub.status.busy": "2024-07-09T16:28:57.730976Z",
     "iopub.status.idle": "2024-07-09T16:28:57.732871Z",
     "shell.execute_reply": "2024-07-09T16:28:57.732537Z",
     "shell.execute_reply.started": "2024-07-09T16:28:57.731061Z"
    }
   },
   "outputs": [],
   "source": [
    "# # Saving model in tf format \n",
    "# fname_model_gru = FPATHS['models']['nn']['GRU_dir']# \"Models/keras/lstm/\" # Filename is a folder for save_format='tf'\n",
    "# bidirection_model.save(fname_model_gru, save_format='tf')"
   ]
  },
  {
   "cell_type": "markdown",
   "id": "e2adf52d-471e-4a23-bf45-f9269f19f73f",
   "metadata": {},
   "source": [
    "## Attention model"
   ]
  },
  {
   "cell_type": "code",
   "execution_count": 63,
   "id": "d3734698-27f5-42b6-ae21-43a7b0c747b4",
   "metadata": {
    "execution": {
     "iopub.execute_input": "2024-07-09T16:28:57.733417Z",
     "iopub.status.busy": "2024-07-09T16:28:57.733290Z",
     "iopub.status.idle": "2024-07-09T16:28:57.737770Z",
     "shell.execute_reply": "2024-07-09T16:28:57.737500Z",
     "shell.execute_reply.started": "2024-07-09T16:28:57.733407Z"
    }
   },
   "outputs": [],
   "source": [
    "from tensorflow.keras.layers import MultiHeadAttention\n",
    "from tensorflow.keras import models\n",
    "\n",
    "def build_attention_model(text_vectorization_layer, binary_task=True):\n",
    "    VOCAB_SIZE = text_vectorization_layer.vocabulary_size()\n",
    "    \n",
    "    if binary_task == True:\n",
    "        final_activation = \"sigmoid\"  # ?\n",
    "        loss_func = \"binary_crossentropy\"\n",
    "        nunits_output = 1\n",
    "    else:\n",
    "        final_activation = \"softmax\"  # ?\n",
    "        loss_func = \"sparse_categorical_crossentropy\"\n",
    "        nunits_output = len(classes)\n",
    "\n",
    "    # Input layer\n",
    "    input_layer = layers.Input(shape=(SEQUENCE_LENGTH,), dtype=tf.string) \n",
    "    flattened_input = tf.reshape(input_layer, (-1,))\n",
    "    \n",
    "\n",
    "    # Vectorization and embedding\n",
    "    x = text_vectorization_layer(flattened_input)\n",
    "    x = layers.Embedding(input_dim=VOCAB_SIZE, output_dim=EMBED_DIM, input_length=SEQUENCE_LENGTH)(x)\n",
    "\n",
    "    # MultiHeadAttention\n",
    "    # In this case, using the same tensor for query, key, and value\n",
    "    attention_output = layers.MultiHeadAttention(num_heads=4, key_dim=200, value_dim=EMBED_DIM)(x, x, x)\n",
    "    x = layers.Flatten()(attention_output)\n",
    "\n",
    "    # Further layers\n",
    "    x = layers.Dense(128, activation='relu')(x)\n",
    "    outputs = layers.Dense(nunits_output, activation=final_activation)(x)\n",
    "\n",
    "    # Model creation\n",
    "    model = models.Model(inputs=input_layer, outputs=outputs)\n",
    "\n",
    "    # optimizer = optimizers.legacy.Adam()\n",
    "    # Compile the model\n",
    "    lr_schedule = optimizers.schedules.ExponentialDecay(\n",
    "        initial_learning_rate=0.01, decay_steps=10000, decay_rate=0.95\n",
    "    )  # 0.9)\n",
    "    optimizer = optimizers.Adam(learning_rate=lr_schedule)\n",
    "    \n",
    "    model.compile(optimizer=optimizer, \n",
    "                  loss=loss_func,\n",
    "                              metrics=[  # tf.metrics.Accuracy(name='accuracy'),\n",
    "            \"accuracy\",\n",
    "            tf.metrics.Recall(name=\"recall\")\n",
    "                              ])\n",
    "    model.summary()\n",
    "    return model\n"
   ]
  },
  {
   "cell_type": "code",
   "execution_count": 64,
   "id": "11f99621-ac08-4160-8792-b98e5683231f",
   "metadata": {
    "execution": {
     "iopub.execute_input": "2024-07-09T16:28:57.738428Z",
     "iopub.status.busy": "2024-07-09T16:28:57.738296Z",
     "iopub.status.idle": "2024-07-09T16:28:57.740311Z",
     "shell.execute_reply": "2024-07-09T16:28:57.739901Z",
     "shell.execute_reply.started": "2024-07-09T16:28:57.738419Z"
    }
   },
   "outputs": [],
   "source": [
    "# # Build the lstm model and specify the vectorizer\n",
    "# attention_model = build_attention_model(sequence_vectorizer, binary_task=True)\n",
    "\n",
    "# # Defien number of epocs\n",
    "# EPOCHS = 30\n",
    "\n",
    "# # Fit the model\n",
    "# history = attention_model.fit(\n",
    "#     train_ds,\n",
    "#     epochs=EPOCHS,\n",
    "#     validation_data=val_ds,\n",
    "#     callbacks=get_callbacks(),\n",
    "# )\n",
    "# fn.evaluate.plot_history(history)"
   ]
  },
  {
   "cell_type": "code",
   "execution_count": 65,
   "id": "f930cc44-afb2-411d-b676-827956d80eff",
   "metadata": {
    "execution": {
     "iopub.execute_input": "2024-07-09T16:28:57.740941Z",
     "iopub.status.busy": "2024-07-09T16:28:57.740832Z",
     "iopub.status.idle": "2024-07-09T16:28:57.742895Z",
     "shell.execute_reply": "2024-07-09T16:28:57.742480Z",
     "shell.execute_reply.started": "2024-07-09T16:28:57.740931Z"
    }
   },
   "outputs": [],
   "source": [
    "# # Obtain the results\n",
    "# results = fn.evaluate.evaluate_classification_network(\n",
    "#     attention_model, X_train=train_ds, \n",
    "#     # X_test=test_ds,# history=history\n",
    "# );"
   ]
  }
 ],
 "metadata": {
  "kernelspec": {
   "display_name": "nlp-env",
   "language": "python",
   "name": "python3"
  },
  "language_info": {
   "codemirror_mode": {
    "name": "ipython",
    "version": 3
   },
   "file_extension": ".py",
   "mimetype": "text/x-python",
   "name": "python",
   "nbconvert_exporter": "python",
   "pygments_lexer": "ipython3",
   "version": "3.10.10"
  }
 },
 "nbformat": 4,
 "nbformat_minor": 5
}
