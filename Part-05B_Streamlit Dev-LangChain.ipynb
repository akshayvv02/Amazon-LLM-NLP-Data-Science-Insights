{
 "cells": [
  {
   "cell_type": "markdown",
   "id": "a4b91453-5e1f-4be1-9276-84fd0956ce53",
   "metadata": {},
   "source": [
    "# Part-05B: Streamlit Development with LangChain"
   ]
  },
  {
   "cell_type": "markdown",
   "id": "52f8826b",
   "metadata": {},
   "source": [
    "## Introduction\n",
    "\n",
    "This notebook focuses on developing a Streamlit application that leverages natural language processing (NLP) and machine learning models to provide interactive and dynamic visualizations and functionalities. By integrating LangChain and other NLP tools, we aim to create an engaging and informative user experience.\n",
    "\n",
    "#### Objectives\n",
    "\n",
    "1. **Prepare LLM-Related Elements**:\n",
    "   - Load and preprocess the review and metadata for use within the Streamlit app.\n",
    "   - Summarize reviews using pretrained models to provide concise insights.\n",
    "\n",
    "2. **Implement ChatGPT Integration**:\n",
    "   - Use LangChain’s `ChatOpenAI` to generate responses based on user queries.\n",
    "   - Create custom prompts to perform specific tasks such as summarizing feedback or providing recommendations.\n",
    "\n",
    "3. **Create a Vector Database**:\n",
    "   - Split review texts into manageable chunks and embed them using OpenAI embeddings.\n",
    "   - Store and retrieve document embeddings to perform similarity searches.\n",
    "\n",
    "4. **Develop the Streamlit Application**:\n",
    "   - Design and implement interactive components and visualizations to display review summaries, sentiment scores, and topic models.\n",
    "   - Provide search and retrieval functionalities to answer user queries about the product.\n",
    "\n",
    "By the end of this notebook, we will have a fully functional Streamlit application that allows users to interactively explore and analyze Amazon reviews, gaining valuable insights into customer preferences and sentiments.\n"
   ]
  },
  {
   "cell_type": "markdown",
   "id": "6b379644-709f-492c-87a4-39a70b55eb11",
   "metadata": {},
   "source": [
    "### Saving Product Metadata"
   ]
  },
  {
   "cell_type": "code",
   "execution_count": 96,
   "id": "016d6676-3ff2-450f-9fef-4e75daf5a8f3",
   "metadata": {
    "execution": {
     "iopub.execute_input": "2024-02-20T01:04:11.639562Z",
     "iopub.status.busy": "2024-02-20T01:04:11.638866Z",
     "iopub.status.idle": "2024-02-20T01:04:11.668552Z",
     "shell.execute_reply": "2024-02-20T01:04:11.668166Z",
     "shell.execute_reply.started": "2024-02-20T01:04:11.639511Z"
    }
   },
   "outputs": [
    {
     "name": "stdout",
     "output_type": "stream",
     "text": [
      "The autoreload extension is already loaded. To reload it, use:\n",
      "  %reload_ext autoreload\n"
     ]
    }
   ],
   "source": [
    "%load_ext autoreload \n",
    "%autoreload 2"
   ]
  },
  {
   "cell_type": "code",
   "execution_count": 97,
   "id": "c9373608-560e-4977-8f59-53ba5e2db9c1",
   "metadata": {
    "execution": {
     "iopub.execute_input": "2024-02-20T01:04:11.669612Z",
     "iopub.status.busy": "2024-02-20T01:04:11.669490Z",
     "iopub.status.idle": "2024-02-20T01:04:12.272954Z",
     "shell.execute_reply": "2024-02-20T01:04:12.272648Z",
     "shell.execute_reply.started": "2024-02-20T01:04:11.669602Z"
    }
   },
   "outputs": [
    {
     "data": {
      "text/html": [
       "<div>\n",
       "<style scoped>\n",
       "    .dataframe tbody tr th:only-of-type {\n",
       "        vertical-align: middle;\n",
       "    }\n",
       "\n",
       "    .dataframe tbody tr th {\n",
       "        vertical-align: top;\n",
       "    }\n",
       "\n",
       "    .dataframe thead th {\n",
       "        text-align: right;\n",
       "    }\n",
       "</style>\n",
       "<table border=\"1\" class=\"dataframe\">\n",
       "  <thead>\n",
       "    <tr style=\"text-align: right;\">\n",
       "      <th></th>\n",
       "      <th>asin</th>\n",
       "      <th>reviewerID</th>\n",
       "      <th>reviewText</th>\n",
       "      <th>summary</th>\n",
       "      <th>overall</th>\n",
       "      <th>year</th>\n",
       "      <th>title</th>\n",
       "      <th>brand</th>\n",
       "      <th>category</th>\n",
       "      <th>review-text-full</th>\n",
       "      <th>review-text-full_raw</th>\n",
       "      <th>tokens-dirty</th>\n",
       "      <th>tokens</th>\n",
       "      <th>lemmas</th>\n",
       "      <th>tokens-dirty-joined</th>\n",
       "      <th>tokens-joined</th>\n",
       "      <th>lemmas-joined</th>\n",
       "      <th>target-rating</th>\n",
       "    </tr>\n",
       "  </thead>\n",
       "  <tbody>\n",
       "    <tr>\n",
       "      <th>0</th>\n",
       "      <td>B007JINB0W</td>\n",
       "      <td>A3Y51NV9HU5T2</td>\n",
       "      <td>Great pasta taste and feel, but the spell in t...</td>\n",
       "      <td>Four Stars</td>\n",
       "      <td>4</td>\n",
       "      <td>2018</td>\n",
       "      <td>Miracle Noodle Zero Carb, Gluten Free Shiratak...</td>\n",
       "      <td>Miracle Noodle</td>\n",
       "      <td>Grocery &amp; Gourmet Food; Pasta &amp; Noodles; Noodl...</td>\n",
       "      <td>Four Stars: Great pasta taste and feel, but th...</td>\n",
       "      <td>Four Stars: Great pasta taste and feel, but th...</td>\n",
       "      <td>[four, stars, great, pasta, taste, and, feel, ...</td>\n",
       "      <td>[stars, great, pasta, taste, feel, spell, pack...</td>\n",
       "      <td>[star, great, pasta, taste, feel, spell, packa...</td>\n",
       "      <td>four stars great pasta taste and feel but the ...</td>\n",
       "      <td>stars great pasta taste feel spell packaged sk...</td>\n",
       "      <td>star great pasta taste feel spell package skrong</td>\n",
       "      <td>None</td>\n",
       "    </tr>\n",
       "    <tr>\n",
       "      <th>1</th>\n",
       "      <td>B007JINB0W</td>\n",
       "      <td>A3D7EFSRC6Y9MP</td>\n",
       "      <td>The texture just made it a little strange to e...</td>\n",
       "      <td>Okay but don't like texture</td>\n",
       "      <td>3</td>\n",
       "      <td>2014</td>\n",
       "      <td>Miracle Noodle Zero Carb, Gluten Free Shiratak...</td>\n",
       "      <td>Miracle Noodle</td>\n",
       "      <td>Grocery &amp; Gourmet Food; Pasta &amp; Noodles; Noodl...</td>\n",
       "      <td>Okay but don't like texture: The texture just ...</td>\n",
       "      <td>Okay but don't like texture: The texture just ...</td>\n",
       "      <td>[okay, but, do, n't, like, texture, the, textu...</td>\n",
       "      <td>[okay, like, texture, texture, little, strange...</td>\n",
       "      <td>[okay, like, texture, texture, little, strange...</td>\n",
       "      <td>okay but do n't like texture the texture just ...</td>\n",
       "      <td>okay like texture texture little strange eat f...</td>\n",
       "      <td>okay like texture texture little strange eat f...</td>\n",
       "      <td>None</td>\n",
       "    </tr>\n",
       "    <tr>\n",
       "      <th>2</th>\n",
       "      <td>B007JINB0W</td>\n",
       "      <td>A4AM5KBP3I2R</td>\n",
       "      <td>The herb flavor makes the odd texture of shira...</td>\n",
       "      <td>Go for the green noodles</td>\n",
       "      <td>5</td>\n",
       "      <td>2018</td>\n",
       "      <td>Miracle Noodle Zero Carb, Gluten Free Shiratak...</td>\n",
       "      <td>Miracle Noodle</td>\n",
       "      <td>Grocery &amp; Gourmet Food; Pasta &amp; Noodles; Noodl...</td>\n",
       "      <td>Go for the green noodles: The herb flavor make...</td>\n",
       "      <td>Go for the green noodles: The herb flavor make...</td>\n",
       "      <td>[go, for, the, green, noodles, the, herb, flav...</td>\n",
       "      <td>[green, noodles, herb, flavor, makes, odd, tex...</td>\n",
       "      <td>[green, noodle, herb, flavor, make, odd, textu...</td>\n",
       "      <td>go for the green noodles the herb flavor makes...</td>\n",
       "      <td>green noodles herb flavor makes odd texture sh...</td>\n",
       "      <td>green noodle herb flavor make odd texture shir...</td>\n",
       "      <td>High</td>\n",
       "    </tr>\n",
       "    <tr>\n",
       "      <th>3</th>\n",
       "      <td>B007JINB0W</td>\n",
       "      <td>A3GHK4IL78DB7Y</td>\n",
       "      <td>I didn't have a problem at all with a half fil...</td>\n",
       "      <td>Its an awesome substitute.</td>\n",
       "      <td>5</td>\n",
       "      <td>2018</td>\n",
       "      <td>Miracle Noodle Zero Carb, Gluten Free Shiratak...</td>\n",
       "      <td>Miracle Noodle</td>\n",
       "      <td>Grocery &amp; Gourmet Food; Pasta &amp; Noodles; Noodl...</td>\n",
       "      <td>Its an awesome substitute.: I didn't have a pr...</td>\n",
       "      <td>Its an awesome substitute.: I didn't have a pr...</td>\n",
       "      <td>[its, an, awesome, substitute, i, did, n't, ha...</td>\n",
       "      <td>[awesome, substitute, problem, half, filled, b...</td>\n",
       "      <td>[awesome, substitute, problem, half, fill, bag...</td>\n",
       "      <td>its an awesome substitute i did n't have a pro...</td>\n",
       "      <td>awesome substitute problem half filled bag use...</td>\n",
       "      <td>awesome substitute problem half fill bag user ...</td>\n",
       "      <td>High</td>\n",
       "    </tr>\n",
       "    <tr>\n",
       "      <th>4</th>\n",
       "      <td>B007JINB0W</td>\n",
       "      <td>AH3B94LQOPPY6</td>\n",
       "      <td>They taste like whatever you cook them with.</td>\n",
       "      <td>Five Stars</td>\n",
       "      <td>5</td>\n",
       "      <td>2016</td>\n",
       "      <td>Miracle Noodle Zero Carb, Gluten Free Shiratak...</td>\n",
       "      <td>Miracle Noodle</td>\n",
       "      <td>Grocery &amp; Gourmet Food; Pasta &amp; Noodles; Noodl...</td>\n",
       "      <td>Five Stars: They taste like whatever you cook ...</td>\n",
       "      <td>Five Stars: They taste like whatever you cook ...</td>\n",
       "      <td>[five, stars, they, taste, like, whatever, you...</td>\n",
       "      <td>[stars, taste, like, cook]</td>\n",
       "      <td>[star, taste, like, cook]</td>\n",
       "      <td>five stars they taste like whatever you cook t...</td>\n",
       "      <td>stars taste like cook</td>\n",
       "      <td>star taste like cook</td>\n",
       "      <td>High</td>\n",
       "    </tr>\n",
       "    <tr>\n",
       "      <th>...</th>\n",
       "      <td>...</td>\n",
       "      <td>...</td>\n",
       "      <td>...</td>\n",
       "      <td>...</td>\n",
       "      <td>...</td>\n",
       "      <td>...</td>\n",
       "      <td>...</td>\n",
       "      <td>...</td>\n",
       "      <td>...</td>\n",
       "      <td>...</td>\n",
       "      <td>...</td>\n",
       "      <td>...</td>\n",
       "      <td>...</td>\n",
       "      <td>...</td>\n",
       "      <td>...</td>\n",
       "      <td>...</td>\n",
       "      <td>...</td>\n",
       "      <td>...</td>\n",
       "    </tr>\n",
       "    <tr>\n",
       "      <th>4358</th>\n",
       "      <td>B007JINB0W</td>\n",
       "      <td>A73IG1ED6S0JR</td>\n",
       "      <td>Product arrived with two of the bags punctured...</td>\n",
       "      <td>would not recomend</td>\n",
       "      <td>1</td>\n",
       "      <td>2016</td>\n",
       "      <td>Miracle Noodle Zero Carb, Gluten Free Shiratak...</td>\n",
       "      <td>Miracle Noodle</td>\n",
       "      <td>Grocery &amp; Gourmet Food; Pasta &amp; Noodles; Noodl...</td>\n",
       "      <td>would not recomend: Product arrived with two o...</td>\n",
       "      <td>would not recomend: Product arrived with two o...</td>\n",
       "      <td>[would, not, recomend, product, arrived, with,...</td>\n",
       "      <td>[recomend, product, arrived, bags, punctured, ...</td>\n",
       "      <td>[recomend, product, arrive, bag, puncture, sme...</td>\n",
       "      <td>would not recomend product arrived with two of...</td>\n",
       "      <td>recomend product arrived bags punctured smells...</td>\n",
       "      <td>recomend product arrive bag puncture smell bad</td>\n",
       "      <td>Low</td>\n",
       "    </tr>\n",
       "    <tr>\n",
       "      <th>4359</th>\n",
       "      <td>B007JINB0W</td>\n",
       "      <td>A1XZ2H0MYG54M0</td>\n",
       "      <td>Ok.</td>\n",
       "      <td>Five Stars</td>\n",
       "      <td>5</td>\n",
       "      <td>2016</td>\n",
       "      <td>Miracle Noodle Zero Carb, Gluten Free Shiratak...</td>\n",
       "      <td>Miracle Noodle</td>\n",
       "      <td>Grocery &amp; Gourmet Food; Pasta &amp; Noodles; Noodl...</td>\n",
       "      <td>Five Stars: Ok.</td>\n",
       "      <td>Five Stars: Ok.</td>\n",
       "      <td>[five, stars, ok]</td>\n",
       "      <td>[stars, ok]</td>\n",
       "      <td>[star, ok]</td>\n",
       "      <td>five stars ok</td>\n",
       "      <td>stars ok</td>\n",
       "      <td>star ok</td>\n",
       "      <td>High</td>\n",
       "    </tr>\n",
       "    <tr>\n",
       "      <th>4360</th>\n",
       "      <td>B007JINB0W</td>\n",
       "      <td>A3I2YF0MXB7P0B</td>\n",
       "      <td>I like these noodles but the spinach ones just...</td>\n",
       "      <td>Not awful, but now I know why these were on sale.</td>\n",
       "      <td>2</td>\n",
       "      <td>2013</td>\n",
       "      <td>Miracle Noodle Zero Carb, Gluten Free Shiratak...</td>\n",
       "      <td>Miracle Noodle</td>\n",
       "      <td>Grocery &amp; Gourmet Food; Pasta &amp; Noodles; Noodl...</td>\n",
       "      <td>Not awful, but now I know why these were on sa...</td>\n",
       "      <td>Not awful, but now I know why these were on sa...</td>\n",
       "      <td>[not, awful, but, now, i, know, why, these, we...</td>\n",
       "      <td>[awful, know, sale, like, noodles, spinach, on...</td>\n",
       "      <td>[awful, know, sale, like, noodle, spinach, one...</td>\n",
       "      <td>not awful but now i know why these were on sal...</td>\n",
       "      <td>awful know sale like noodles spinach ones tast...</td>\n",
       "      <td>awful know sale like noodle spinach one taste ...</td>\n",
       "      <td>Low</td>\n",
       "    </tr>\n",
       "    <tr>\n",
       "      <th>4361</th>\n",
       "      <td>B007JINB0W</td>\n",
       "      <td>A2UELLFLITPMT1</td>\n",
       "      <td>Truly horrific. Like eating dead worms.</td>\n",
       "      <td>Don't even try it.</td>\n",
       "      <td>1</td>\n",
       "      <td>2017</td>\n",
       "      <td>Miracle Noodle Zero Carb, Gluten Free Shiratak...</td>\n",
       "      <td>Miracle Noodle</td>\n",
       "      <td>Grocery &amp; Gourmet Food; Pasta &amp; Noodles; Noodl...</td>\n",
       "      <td>Don't even try it.: Truly horrific. Like eatin...</td>\n",
       "      <td>Don't even try it.: Truly horrific. Like eatin...</td>\n",
       "      <td>[do, n't, even, try, it, truly, horrific, like...</td>\n",
       "      <td>[try, truly, horrific, like, eating, dead, worms]</td>\n",
       "      <td>[try, truly, horrific, like, eat, dead, worm]</td>\n",
       "      <td>do n't even try it truly horrific like eating ...</td>\n",
       "      <td>try truly horrific like eating dead worms</td>\n",
       "      <td>try truly horrific like eat dead worm</td>\n",
       "      <td>Low</td>\n",
       "    </tr>\n",
       "    <tr>\n",
       "      <th>4362</th>\n",
       "      <td>B007JINB0W</td>\n",
       "      <td>A178M2AHNWQZB0</td>\n",
       "      <td>We love the rice noodles, and have problems fi...</td>\n",
       "      <td>As good as all the other Miracle noodle products</td>\n",
       "      <td>5</td>\n",
       "      <td>2017</td>\n",
       "      <td>Miracle Noodle Zero Carb, Gluten Free Shiratak...</td>\n",
       "      <td>Miracle Noodle</td>\n",
       "      <td>Grocery &amp; Gourmet Food; Pasta &amp; Noodles; Noodl...</td>\n",
       "      <td>As good as all the other Miracle noodle produc...</td>\n",
       "      <td>As good as all the other Miracle noodle produc...</td>\n",
       "      <td>[as, good, as, all, the, other, miracle, noodl...</td>\n",
       "      <td>[good, miracle, noodle, products, love, rice, ...</td>\n",
       "      <td>[good, miracle, noodle, product, love, rice, n...</td>\n",
       "      <td>as good as all the other miracle noodle produc...</td>\n",
       "      <td>good miracle noodle products love rice noodles...</td>\n",
       "      <td>good miracle noodle product love rice noodle p...</td>\n",
       "      <td>High</td>\n",
       "    </tr>\n",
       "  </tbody>\n",
       "</table>\n",
       "<p>4363 rows × 18 columns</p>\n",
       "</div>"
      ],
      "text/plain": [
       "            asin      reviewerID  \\\n",
       "0     B007JINB0W   A3Y51NV9HU5T2   \n",
       "1     B007JINB0W  A3D7EFSRC6Y9MP   \n",
       "2     B007JINB0W    A4AM5KBP3I2R   \n",
       "3     B007JINB0W  A3GHK4IL78DB7Y   \n",
       "4     B007JINB0W   AH3B94LQOPPY6   \n",
       "...          ...             ...   \n",
       "4358  B007JINB0W   A73IG1ED6S0JR   \n",
       "4359  B007JINB0W  A1XZ2H0MYG54M0   \n",
       "4360  B007JINB0W  A3I2YF0MXB7P0B   \n",
       "4361  B007JINB0W  A2UELLFLITPMT1   \n",
       "4362  B007JINB0W  A178M2AHNWQZB0   \n",
       "\n",
       "                                             reviewText  \\\n",
       "0     Great pasta taste and feel, but the spell in t...   \n",
       "1     The texture just made it a little strange to e...   \n",
       "2     The herb flavor makes the odd texture of shira...   \n",
       "3     I didn't have a problem at all with a half fil...   \n",
       "4         They taste like whatever you cook them with.    \n",
       "...                                                 ...   \n",
       "4358  Product arrived with two of the bags punctured...   \n",
       "4359                                                Ok.   \n",
       "4360  I like these noodles but the spinach ones just...   \n",
       "4361            Truly horrific. Like eating dead worms.   \n",
       "4362  We love the rice noodles, and have problems fi...   \n",
       "\n",
       "                                                summary  overall  year  \\\n",
       "0                                            Four Stars        4  2018   \n",
       "1                           Okay but don't like texture        3  2014   \n",
       "2                              Go for the green noodles        5  2018   \n",
       "3                            Its an awesome substitute.        5  2018   \n",
       "4                                            Five Stars        5  2016   \n",
       "...                                                 ...      ...   ...   \n",
       "4358                                 would not recomend        1  2016   \n",
       "4359                                         Five Stars        5  2016   \n",
       "4360  Not awful, but now I know why these were on sale.        2  2013   \n",
       "4361                                 Don't even try it.        1  2017   \n",
       "4362   As good as all the other Miracle noodle products        5  2017   \n",
       "\n",
       "                                                  title           brand  \\\n",
       "0     Miracle Noodle Zero Carb, Gluten Free Shiratak...  Miracle Noodle   \n",
       "1     Miracle Noodle Zero Carb, Gluten Free Shiratak...  Miracle Noodle   \n",
       "2     Miracle Noodle Zero Carb, Gluten Free Shiratak...  Miracle Noodle   \n",
       "3     Miracle Noodle Zero Carb, Gluten Free Shiratak...  Miracle Noodle   \n",
       "4     Miracle Noodle Zero Carb, Gluten Free Shiratak...  Miracle Noodle   \n",
       "...                                                 ...             ...   \n",
       "4358  Miracle Noodle Zero Carb, Gluten Free Shiratak...  Miracle Noodle   \n",
       "4359  Miracle Noodle Zero Carb, Gluten Free Shiratak...  Miracle Noodle   \n",
       "4360  Miracle Noodle Zero Carb, Gluten Free Shiratak...  Miracle Noodle   \n",
       "4361  Miracle Noodle Zero Carb, Gluten Free Shiratak...  Miracle Noodle   \n",
       "4362  Miracle Noodle Zero Carb, Gluten Free Shiratak...  Miracle Noodle   \n",
       "\n",
       "                                               category  \\\n",
       "0     Grocery & Gourmet Food; Pasta & Noodles; Noodl...   \n",
       "1     Grocery & Gourmet Food; Pasta & Noodles; Noodl...   \n",
       "2     Grocery & Gourmet Food; Pasta & Noodles; Noodl...   \n",
       "3     Grocery & Gourmet Food; Pasta & Noodles; Noodl...   \n",
       "4     Grocery & Gourmet Food; Pasta & Noodles; Noodl...   \n",
       "...                                                 ...   \n",
       "4358  Grocery & Gourmet Food; Pasta & Noodles; Noodl...   \n",
       "4359  Grocery & Gourmet Food; Pasta & Noodles; Noodl...   \n",
       "4360  Grocery & Gourmet Food; Pasta & Noodles; Noodl...   \n",
       "4361  Grocery & Gourmet Food; Pasta & Noodles; Noodl...   \n",
       "4362  Grocery & Gourmet Food; Pasta & Noodles; Noodl...   \n",
       "\n",
       "                                       review-text-full  \\\n",
       "0     Four Stars: Great pasta taste and feel, but th...   \n",
       "1     Okay but don't like texture: The texture just ...   \n",
       "2     Go for the green noodles: The herb flavor make...   \n",
       "3     Its an awesome substitute.: I didn't have a pr...   \n",
       "4     Five Stars: They taste like whatever you cook ...   \n",
       "...                                                 ...   \n",
       "4358  would not recomend: Product arrived with two o...   \n",
       "4359                                    Five Stars: Ok.   \n",
       "4360  Not awful, but now I know why these were on sa...   \n",
       "4361  Don't even try it.: Truly horrific. Like eatin...   \n",
       "4362  As good as all the other Miracle noodle produc...   \n",
       "\n",
       "                                   review-text-full_raw  \\\n",
       "0     Four Stars: Great pasta taste and feel, but th...   \n",
       "1     Okay but don't like texture: The texture just ...   \n",
       "2     Go for the green noodles: The herb flavor make...   \n",
       "3     Its an awesome substitute.: I didn't have a pr...   \n",
       "4     Five Stars: They taste like whatever you cook ...   \n",
       "...                                                 ...   \n",
       "4358  would not recomend: Product arrived with two o...   \n",
       "4359                                    Five Stars: Ok.   \n",
       "4360  Not awful, but now I know why these were on sa...   \n",
       "4361  Don't even try it.: Truly horrific. Like eatin...   \n",
       "4362  As good as all the other Miracle noodle produc...   \n",
       "\n",
       "                                           tokens-dirty  \\\n",
       "0     [four, stars, great, pasta, taste, and, feel, ...   \n",
       "1     [okay, but, do, n't, like, texture, the, textu...   \n",
       "2     [go, for, the, green, noodles, the, herb, flav...   \n",
       "3     [its, an, awesome, substitute, i, did, n't, ha...   \n",
       "4     [five, stars, they, taste, like, whatever, you...   \n",
       "...                                                 ...   \n",
       "4358  [would, not, recomend, product, arrived, with,...   \n",
       "4359                                  [five, stars, ok]   \n",
       "4360  [not, awful, but, now, i, know, why, these, we...   \n",
       "4361  [do, n't, even, try, it, truly, horrific, like...   \n",
       "4362  [as, good, as, all, the, other, miracle, noodl...   \n",
       "\n",
       "                                                 tokens  \\\n",
       "0     [stars, great, pasta, taste, feel, spell, pack...   \n",
       "1     [okay, like, texture, texture, little, strange...   \n",
       "2     [green, noodles, herb, flavor, makes, odd, tex...   \n",
       "3     [awesome, substitute, problem, half, filled, b...   \n",
       "4                            [stars, taste, like, cook]   \n",
       "...                                                 ...   \n",
       "4358  [recomend, product, arrived, bags, punctured, ...   \n",
       "4359                                        [stars, ok]   \n",
       "4360  [awful, know, sale, like, noodles, spinach, on...   \n",
       "4361  [try, truly, horrific, like, eating, dead, worms]   \n",
       "4362  [good, miracle, noodle, products, love, rice, ...   \n",
       "\n",
       "                                                 lemmas  \\\n",
       "0     [star, great, pasta, taste, feel, spell, packa...   \n",
       "1     [okay, like, texture, texture, little, strange...   \n",
       "2     [green, noodle, herb, flavor, make, odd, textu...   \n",
       "3     [awesome, substitute, problem, half, fill, bag...   \n",
       "4                             [star, taste, like, cook]   \n",
       "...                                                 ...   \n",
       "4358  [recomend, product, arrive, bag, puncture, sme...   \n",
       "4359                                         [star, ok]   \n",
       "4360  [awful, know, sale, like, noodle, spinach, one...   \n",
       "4361      [try, truly, horrific, like, eat, dead, worm]   \n",
       "4362  [good, miracle, noodle, product, love, rice, n...   \n",
       "\n",
       "                                    tokens-dirty-joined  \\\n",
       "0     four stars great pasta taste and feel but the ...   \n",
       "1     okay but do n't like texture the texture just ...   \n",
       "2     go for the green noodles the herb flavor makes...   \n",
       "3     its an awesome substitute i did n't have a pro...   \n",
       "4     five stars they taste like whatever you cook t...   \n",
       "...                                                 ...   \n",
       "4358  would not recomend product arrived with two of...   \n",
       "4359                                      five stars ok   \n",
       "4360  not awful but now i know why these were on sal...   \n",
       "4361  do n't even try it truly horrific like eating ...   \n",
       "4362  as good as all the other miracle noodle produc...   \n",
       "\n",
       "                                          tokens-joined  \\\n",
       "0     stars great pasta taste feel spell packaged sk...   \n",
       "1     okay like texture texture little strange eat f...   \n",
       "2     green noodles herb flavor makes odd texture sh...   \n",
       "3     awesome substitute problem half filled bag use...   \n",
       "4                                 stars taste like cook   \n",
       "...                                                 ...   \n",
       "4358  recomend product arrived bags punctured smells...   \n",
       "4359                                           stars ok   \n",
       "4360  awful know sale like noodles spinach ones tast...   \n",
       "4361          try truly horrific like eating dead worms   \n",
       "4362  good miracle noodle products love rice noodles...   \n",
       "\n",
       "                                          lemmas-joined target-rating  \n",
       "0      star great pasta taste feel spell package skrong          None  \n",
       "1     okay like texture texture little strange eat f...          None  \n",
       "2     green noodle herb flavor make odd texture shir...          High  \n",
       "3     awesome substitute problem half fill bag user ...          High  \n",
       "4                                  star taste like cook          High  \n",
       "...                                                 ...           ...  \n",
       "4358     recomend product arrive bag puncture smell bad           Low  \n",
       "4359                                            star ok          High  \n",
       "4360  awful know sale like noodle spinach one taste ...           Low  \n",
       "4361              try truly horrific like eat dead worm           Low  \n",
       "4362  good miracle noodle product love rice noodle p...          High  \n",
       "\n",
       "[4363 rows x 18 columns]"
      ]
     },
     "execution_count": 97,
     "metadata": {},
     "output_type": "execute_result"
    }
   ],
   "source": [
    "import pandas as pd\n",
    "\n",
    "pd.set_option('display.max_columns',100)\n",
    "\n",
    "\n",
    "##Load in the data\n",
    "import json\n",
    "with open(\"config/filepaths.json\") as f:\n",
    "    FPATHS = json.load(f)\n",
    "\n",
    "\n",
    "import joblib\n",
    "df = joblib.load(FPATHS['data']['processed-nlp']['processed-reviews-with-target_joblib'])\n",
    "df"
   ]
  },
  {
   "cell_type": "code",
   "execution_count": null,
   "id": "edcd6bcd-8a19-4ac9-aa28-72d1b8a6b2b8",
   "metadata": {},
   "outputs": [],
   "source": []
  },
  {
   "cell_type": "code",
   "execution_count": 98,
   "id": "1a59d712-0cf5-4079-a6ce-c9d910040995",
   "metadata": {
    "execution": {
     "iopub.execute_input": "2024-02-20T01:04:12.273702Z",
     "iopub.status.busy": "2024-02-20T01:04:12.273558Z",
     "iopub.status.idle": "2024-02-20T01:04:12.307418Z",
     "shell.execute_reply": "2024-02-20T01:04:12.306997Z",
     "shell.execute_reply.started": "2024-02-20T01:04:12.273692Z"
    }
   },
   "outputs": [
    {
     "data": {
      "text/html": [
       "<div>\n",
       "<style scoped>\n",
       "    .dataframe tbody tr th:only-of-type {\n",
       "        vertical-align: middle;\n",
       "    }\n",
       "\n",
       "    .dataframe tbody tr th {\n",
       "        vertical-align: top;\n",
       "    }\n",
       "\n",
       "    .dataframe thead th {\n",
       "        text-align: right;\n",
       "    }\n",
       "</style>\n",
       "<table border=\"1\" class=\"dataframe\">\n",
       "  <thead>\n",
       "    <tr style=\"text-align: right;\">\n",
       "      <th></th>\n",
       "      <th>asin</th>\n",
       "      <th>category</th>\n",
       "      <th>description</th>\n",
       "      <th>title</th>\n",
       "      <th>brand</th>\n",
       "      <th>feature</th>\n",
       "      <th>rank</th>\n",
       "      <th>main_cat</th>\n",
       "      <th>price</th>\n",
       "      <th>imageURL</th>\n",
       "      <th>imageURLHighRes</th>\n",
       "      <th>details</th>\n",
       "      <th>Category_Beverages</th>\n",
       "      <th>Category_Bottled Beverages, Water &amp; Drink Mixes</th>\n",
       "      <th>Category_Candy &amp; Chocolate</th>\n",
       "      <th>Category_Canned, Jarred &amp; Packaged Foods</th>\n",
       "      <th>Category_Coffee</th>\n",
       "      <th>Category_Coffee, Tea &amp; Cocoa</th>\n",
       "      <th>Category_Cooking &amp; Baking</th>\n",
       "      <th>Category_Grocery &amp; Gourmet Food</th>\n",
       "      <th>Category_Herbs, Spices &amp; Seasonings</th>\n",
       "      <th>Category_Sauces, Gravies &amp; Marinades</th>\n",
       "      <th>Category_Snack Foods</th>\n",
       "      <th>Category_Tea</th>\n",
       "      <th>category_list</th>\n",
       "    </tr>\n",
       "  </thead>\n",
       "  <tbody>\n",
       "    <tr>\n",
       "      <th>0</th>\n",
       "      <td>B00BUKL666</td>\n",
       "      <td>Grocery &amp; Gourmet Food; Snack Foods; Bars; Nut...</td>\n",
       "      <td>'These bars are where our journey started and ...</td>\n",
       "      <td>KIND Bars, Dark Chocolate Nuts &amp;amp; Sea Salt,...</td>\n",
       "      <td>KIND</td>\n",
       "      <td>NaN</td>\n",
       "      <td>18 in Grocery &amp; Gourmet Food (</td>\n",
       "      <td>Grocery</td>\n",
       "      <td>$13.67</td>\n",
       "      <td>'https://images-na.ssl-images-amazon.com/image...</td>\n",
       "      <td>'https://images-na.ssl-images-amazon.com/image...</td>\n",
       "      <td>{'\\\\n    Product Dimensions: \\\\n    ': '6.8 x ...</td>\n",
       "      <td>0</td>\n",
       "      <td>0</td>\n",
       "      <td>0</td>\n",
       "      <td>0</td>\n",
       "      <td>0</td>\n",
       "      <td>0</td>\n",
       "      <td>0</td>\n",
       "      <td>1</td>\n",
       "      <td>0</td>\n",
       "      <td>0</td>\n",
       "      <td>1</td>\n",
       "      <td>0</td>\n",
       "      <td>['Grocery &amp; Gourmet Food', 'Snack Foods', 'Bar...</td>\n",
       "    </tr>\n",
       "    <tr>\n",
       "      <th>1</th>\n",
       "      <td>B008QMX2SG</td>\n",
       "      <td>Grocery &amp; Gourmet Food; Snack Foods; Bars; Nut...</td>\n",
       "      <td>'These bars are where our journey started and ...</td>\n",
       "      <td>Kind Bars, Madagascar Vanilla Almond, Gluten F...</td>\n",
       "      <td>KIND</td>\n",
       "      <td>NaN</td>\n",
       "      <td>2,949 in Grocery &amp; Gourmet Food (</td>\n",
       "      <td>Grocery</td>\n",
       "      <td>$14.79</td>\n",
       "      <td>'https://images-na.ssl-images-amazon.com/image...</td>\n",
       "      <td>'https://images-na.ssl-images-amazon.com/image...</td>\n",
       "      <td>{'\\\\n    Product Dimensions: \\\\n    ': '2 x 4 ...</td>\n",
       "      <td>0</td>\n",
       "      <td>0</td>\n",
       "      <td>0</td>\n",
       "      <td>0</td>\n",
       "      <td>0</td>\n",
       "      <td>0</td>\n",
       "      <td>0</td>\n",
       "      <td>1</td>\n",
       "      <td>0</td>\n",
       "      <td>0</td>\n",
       "      <td>1</td>\n",
       "      <td>0</td>\n",
       "      <td>['Grocery &amp; Gourmet Food', 'Snack Foods', 'Bar...</td>\n",
       "    </tr>\n",
       "    <tr>\n",
       "      <th>2</th>\n",
       "      <td>B00D3M2QP4</td>\n",
       "      <td>Grocery &amp; Gourmet Food; Breakfast Foods; Break...</td>\n",
       "      <td>'These bars are where our journey started and ...</td>\n",
       "      <td>KIND Bars, Dark Chocolate Chili Almond, Gluten...</td>\n",
       "      <td>KIND</td>\n",
       "      <td>NaN</td>\n",
       "      <td>4,575 in Grocery &amp; Gourmet Food (</td>\n",
       "      <td>Grocery</td>\n",
       "      <td>$15.53</td>\n",
       "      <td>'https://images-na.ssl-images-amazon.com/image...</td>\n",
       "      <td>'https://images-na.ssl-images-amazon.com/image...</td>\n",
       "      <td>{'\\\\n    Product Dimensions: \\\\n    ': '7 x 6 ...</td>\n",
       "      <td>0</td>\n",
       "      <td>0</td>\n",
       "      <td>0</td>\n",
       "      <td>0</td>\n",
       "      <td>0</td>\n",
       "      <td>0</td>\n",
       "      <td>0</td>\n",
       "      <td>1</td>\n",
       "      <td>0</td>\n",
       "      <td>0</td>\n",
       "      <td>0</td>\n",
       "      <td>0</td>\n",
       "      <td>['Grocery &amp; Gourmet Food', 'Breakfast Foods', ...</td>\n",
       "    </tr>\n",
       "    <tr>\n",
       "      <th>3</th>\n",
       "      <td>B00542YXFW</td>\n",
       "      <td>Grocery &amp; Gourmet Food; Beverages; Coffee, Tea...</td>\n",
       "      <td>'Mild, but round and full licorice flavor and ...</td>\n",
       "      <td>Davidson's Tea Bulk, Anise Seed, 16-Ounce Bag</td>\n",
       "      <td>Davidson's Tea</td>\n",
       "      <td>NaN</td>\n",
       "      <td>100,853 in Grocery &amp; Gourmet Food (</td>\n",
       "      <td>Grocery</td>\n",
       "      <td>$15.00</td>\n",
       "      <td>'https://images-na.ssl-images-amazon.com/image...</td>\n",
       "      <td>'https://images-na.ssl-images-amazon.com/image...</td>\n",
       "      <td>{'Shipping Weight:': '1.1 pounds (', 'Domestic...</td>\n",
       "      <td>1</td>\n",
       "      <td>0</td>\n",
       "      <td>0</td>\n",
       "      <td>0</td>\n",
       "      <td>0</td>\n",
       "      <td>1</td>\n",
       "      <td>0</td>\n",
       "      <td>1</td>\n",
       "      <td>0</td>\n",
       "      <td>0</td>\n",
       "      <td>0</td>\n",
       "      <td>1</td>\n",
       "      <td>['Grocery &amp; Gourmet Food', 'Beverages', 'Coffe...</td>\n",
       "    </tr>\n",
       "    <tr>\n",
       "      <th>4</th>\n",
       "      <td>B000F4DKAI</td>\n",
       "      <td>Grocery &amp; Gourmet Food; Beverages; Coffee, Tea...</td>\n",
       "      <td>'First started as much needed refreshment betw...</td>\n",
       "      <td>Twinings of London English Afternoon Black Tea...</td>\n",
       "      <td>Twinings</td>\n",
       "      <td>NaN</td>\n",
       "      <td>19,796 in Grocery &amp; Gourmet Food (</td>\n",
       "      <td>Grocery</td>\n",
       "      <td>$23.70</td>\n",
       "      <td>'https://images-na.ssl-images-amazon.com/image...</td>\n",
       "      <td>'https://images-na.ssl-images-amazon.com/image...</td>\n",
       "      <td>{'Shipping Weight:': '1.3 pounds (', 'Domestic...</td>\n",
       "      <td>1</td>\n",
       "      <td>0</td>\n",
       "      <td>0</td>\n",
       "      <td>0</td>\n",
       "      <td>0</td>\n",
       "      <td>1</td>\n",
       "      <td>0</td>\n",
       "      <td>1</td>\n",
       "      <td>0</td>\n",
       "      <td>0</td>\n",
       "      <td>0</td>\n",
       "      <td>1</td>\n",
       "      <td>['Grocery &amp; Gourmet Food', 'Beverages', 'Coffe...</td>\n",
       "    </tr>\n",
       "  </tbody>\n",
       "</table>\n",
       "</div>"
      ],
      "text/plain": [
       "         asin                                           category  \\\n",
       "0  B00BUKL666  Grocery & Gourmet Food; Snack Foods; Bars; Nut...   \n",
       "1  B008QMX2SG  Grocery & Gourmet Food; Snack Foods; Bars; Nut...   \n",
       "2  B00D3M2QP4  Grocery & Gourmet Food; Breakfast Foods; Break...   \n",
       "3  B00542YXFW  Grocery & Gourmet Food; Beverages; Coffee, Tea...   \n",
       "4  B000F4DKAI  Grocery & Gourmet Food; Beverages; Coffee, Tea...   \n",
       "\n",
       "                                         description  \\\n",
       "0  'These bars are where our journey started and ...   \n",
       "1  'These bars are where our journey started and ...   \n",
       "2  'These bars are where our journey started and ...   \n",
       "3  'Mild, but round and full licorice flavor and ...   \n",
       "4  'First started as much needed refreshment betw...   \n",
       "\n",
       "                                               title           brand feature  \\\n",
       "0  KIND Bars, Dark Chocolate Nuts &amp; Sea Salt,...            KIND     NaN   \n",
       "1  Kind Bars, Madagascar Vanilla Almond, Gluten F...            KIND     NaN   \n",
       "2  KIND Bars, Dark Chocolate Chili Almond, Gluten...            KIND     NaN   \n",
       "3      Davidson's Tea Bulk, Anise Seed, 16-Ounce Bag  Davidson's Tea     NaN   \n",
       "4  Twinings of London English Afternoon Black Tea...        Twinings     NaN   \n",
       "\n",
       "                                  rank main_cat   price  \\\n",
       "0       18 in Grocery & Gourmet Food (  Grocery  $13.67   \n",
       "1    2,949 in Grocery & Gourmet Food (  Grocery  $14.79   \n",
       "2    4,575 in Grocery & Gourmet Food (  Grocery  $15.53   \n",
       "3  100,853 in Grocery & Gourmet Food (  Grocery  $15.00   \n",
       "4   19,796 in Grocery & Gourmet Food (  Grocery  $23.70   \n",
       "\n",
       "                                            imageURL  \\\n",
       "0  'https://images-na.ssl-images-amazon.com/image...   \n",
       "1  'https://images-na.ssl-images-amazon.com/image...   \n",
       "2  'https://images-na.ssl-images-amazon.com/image...   \n",
       "3  'https://images-na.ssl-images-amazon.com/image...   \n",
       "4  'https://images-na.ssl-images-amazon.com/image...   \n",
       "\n",
       "                                     imageURLHighRes  \\\n",
       "0  'https://images-na.ssl-images-amazon.com/image...   \n",
       "1  'https://images-na.ssl-images-amazon.com/image...   \n",
       "2  'https://images-na.ssl-images-amazon.com/image...   \n",
       "3  'https://images-na.ssl-images-amazon.com/image...   \n",
       "4  'https://images-na.ssl-images-amazon.com/image...   \n",
       "\n",
       "                                             details  Category_Beverages  \\\n",
       "0  {'\\\\n    Product Dimensions: \\\\n    ': '6.8 x ...                   0   \n",
       "1  {'\\\\n    Product Dimensions: \\\\n    ': '2 x 4 ...                   0   \n",
       "2  {'\\\\n    Product Dimensions: \\\\n    ': '7 x 6 ...                   0   \n",
       "3  {'Shipping Weight:': '1.1 pounds (', 'Domestic...                   1   \n",
       "4  {'Shipping Weight:': '1.3 pounds (', 'Domestic...                   1   \n",
       "\n",
       "   Category_Bottled Beverages, Water & Drink Mixes  \\\n",
       "0                                                0   \n",
       "1                                                0   \n",
       "2                                                0   \n",
       "3                                                0   \n",
       "4                                                0   \n",
       "\n",
       "   Category_Candy & Chocolate  Category_Canned, Jarred & Packaged Foods  \\\n",
       "0                           0                                         0   \n",
       "1                           0                                         0   \n",
       "2                           0                                         0   \n",
       "3                           0                                         0   \n",
       "4                           0                                         0   \n",
       "\n",
       "   Category_Coffee  Category_Coffee, Tea & Cocoa  Category_Cooking & Baking  \\\n",
       "0                0                             0                          0   \n",
       "1                0                             0                          0   \n",
       "2                0                             0                          0   \n",
       "3                0                             1                          0   \n",
       "4                0                             1                          0   \n",
       "\n",
       "   Category_Grocery & Gourmet Food  Category_Herbs, Spices & Seasonings  \\\n",
       "0                                1                                    0   \n",
       "1                                1                                    0   \n",
       "2                                1                                    0   \n",
       "3                                1                                    0   \n",
       "4                                1                                    0   \n",
       "\n",
       "   Category_Sauces, Gravies & Marinades  Category_Snack Foods  Category_Tea  \\\n",
       "0                                     0                     1             0   \n",
       "1                                     0                     1             0   \n",
       "2                                     0                     0             0   \n",
       "3                                     0                     0             1   \n",
       "4                                     0                     0             1   \n",
       "\n",
       "                                       category_list  \n",
       "0  ['Grocery & Gourmet Food', 'Snack Foods', 'Bar...  \n",
       "1  ['Grocery & Gourmet Food', 'Snack Foods', 'Bar...  \n",
       "2  ['Grocery & Gourmet Food', 'Breakfast Foods', ...  \n",
       "3  ['Grocery & Gourmet Food', 'Beverages', 'Coffe...  \n",
       "4  ['Grocery & Gourmet Food', 'Beverages', 'Coffe...  "
      ]
     },
     "execution_count": 98,
     "metadata": {},
     "output_type": "execute_result"
    }
   ],
   "source": [
    "meta_df = pd.read_csv(FPATHS['data']['subset']['metadata_csv'])\n",
    "meta_df.head()"
   ]
  },
  {
   "cell_type": "code",
   "execution_count": 99,
   "id": "1c13f0cb-fda7-47f7-9f12-cdf14d83fafc",
   "metadata": {
    "execution": {
     "iopub.execute_input": "2024-02-20T01:04:12.308600Z",
     "iopub.status.busy": "2024-02-20T01:04:12.308479Z",
     "iopub.status.idle": "2024-02-20T01:04:12.324567Z",
     "shell.execute_reply": "2024-02-20T01:04:12.324274Z",
     "shell.execute_reply.started": "2024-02-20T01:04:12.308591Z"
    }
   },
   "outputs": [
    {
     "data": {
      "text/html": [
       "<div>\n",
       "<style scoped>\n",
       "    .dataframe tbody tr th:only-of-type {\n",
       "        vertical-align: middle;\n",
       "    }\n",
       "\n",
       "    .dataframe tbody tr th {\n",
       "        vertical-align: top;\n",
       "    }\n",
       "\n",
       "    .dataframe thead th {\n",
       "        text-align: right;\n",
       "    }\n",
       "</style>\n",
       "<table border=\"1\" class=\"dataframe\">\n",
       "  <thead>\n",
       "    <tr style=\"text-align: right;\">\n",
       "      <th></th>\n",
       "      <th>asin</th>\n",
       "      <th>category</th>\n",
       "      <th>description</th>\n",
       "      <th>title</th>\n",
       "      <th>brand</th>\n",
       "      <th>feature</th>\n",
       "      <th>rank</th>\n",
       "      <th>main_cat</th>\n",
       "      <th>price</th>\n",
       "      <th>imageURL</th>\n",
       "      <th>imageURLHighRes</th>\n",
       "      <th>details</th>\n",
       "      <th>Category_Beverages</th>\n",
       "      <th>Category_Bottled Beverages, Water &amp; Drink Mixes</th>\n",
       "      <th>Category_Candy &amp; Chocolate</th>\n",
       "      <th>Category_Canned, Jarred &amp; Packaged Foods</th>\n",
       "      <th>Category_Coffee</th>\n",
       "      <th>Category_Coffee, Tea &amp; Cocoa</th>\n",
       "      <th>Category_Cooking &amp; Baking</th>\n",
       "      <th>Category_Grocery &amp; Gourmet Food</th>\n",
       "      <th>Category_Herbs, Spices &amp; Seasonings</th>\n",
       "      <th>Category_Sauces, Gravies &amp; Marinades</th>\n",
       "      <th>Category_Snack Foods</th>\n",
       "      <th>Category_Tea</th>\n",
       "      <th>category_list</th>\n",
       "    </tr>\n",
       "  </thead>\n",
       "  <tbody>\n",
       "    <tr>\n",
       "      <th>0</th>\n",
       "      <td>B007JINB0W</td>\n",
       "      <td>Grocery &amp; Gourmet Food; Pasta &amp; Noodles; Noodl...</td>\n",
       "      <td>'Nutrition Facts Serving Size: 3 oz Servings P...</td>\n",
       "      <td>Miracle Noodle Zero Carb, Gluten Free Shiratak...</td>\n",
       "      <td>Miracle Noodle</td>\n",
       "      <td>'&lt;span class=\"a-size-base a-color-secondary\"&gt;\\...</td>\n",
       "      <td>119,683 in Grocery &amp; Gourmet Food (</td>\n",
       "      <td>Grocery</td>\n",
       "      <td>$59.76</td>\n",
       "      <td>'https://images-na.ssl-images-amazon.com/image...</td>\n",
       "      <td>'https://images-na.ssl-images-amazon.com/image...</td>\n",
       "      <td>{'\\\\n    Item Weight: \\\\n    ': '3.07 pounds',...</td>\n",
       "      <td>0</td>\n",
       "      <td>0</td>\n",
       "      <td>0</td>\n",
       "      <td>0</td>\n",
       "      <td>0</td>\n",
       "      <td>0</td>\n",
       "      <td>0</td>\n",
       "      <td>1</td>\n",
       "      <td>0</td>\n",
       "      <td>0</td>\n",
       "      <td>0</td>\n",
       "      <td>0</td>\n",
       "      <td>['Grocery &amp; Gourmet Food', 'Pasta &amp; Noodles', ...</td>\n",
       "    </tr>\n",
       "  </tbody>\n",
       "</table>\n",
       "</div>"
      ],
      "text/plain": [
       "         asin                                           category  \\\n",
       "0  B007JINB0W  Grocery & Gourmet Food; Pasta & Noodles; Noodl...   \n",
       "\n",
       "                                         description  \\\n",
       "0  'Nutrition Facts Serving Size: 3 oz Servings P...   \n",
       "\n",
       "                                               title           brand  \\\n",
       "0  Miracle Noodle Zero Carb, Gluten Free Shiratak...  Miracle Noodle   \n",
       "\n",
       "                                             feature  \\\n",
       "0  '<span class=\"a-size-base a-color-secondary\">\\...   \n",
       "\n",
       "                                  rank main_cat   price  \\\n",
       "0  119,683 in Grocery & Gourmet Food (  Grocery  $59.76   \n",
       "\n",
       "                                            imageURL  \\\n",
       "0  'https://images-na.ssl-images-amazon.com/image...   \n",
       "\n",
       "                                     imageURLHighRes  \\\n",
       "0  'https://images-na.ssl-images-amazon.com/image...   \n",
       "\n",
       "                                             details  Category_Beverages  \\\n",
       "0  {'\\\\n    Item Weight: \\\\n    ': '3.07 pounds',...                   0   \n",
       "\n",
       "   Category_Bottled Beverages, Water & Drink Mixes  \\\n",
       "0                                                0   \n",
       "\n",
       "   Category_Candy & Chocolate  Category_Canned, Jarred & Packaged Foods  \\\n",
       "0                           0                                         0   \n",
       "\n",
       "   Category_Coffee  Category_Coffee, Tea & Cocoa  Category_Cooking & Baking  \\\n",
       "0                0                             0                          0   \n",
       "\n",
       "   Category_Grocery & Gourmet Food  Category_Herbs, Spices & Seasonings  \\\n",
       "0                                1                                    0   \n",
       "\n",
       "   Category_Sauces, Gravies & Marinades  Category_Snack Foods  Category_Tea  \\\n",
       "0                                     0                     0             0   \n",
       "\n",
       "                                       category_list  \n",
       "0  ['Grocery & Gourmet Food', 'Pasta & Noodles', ...  "
      ]
     },
     "execution_count": 99,
     "metadata": {},
     "output_type": "execute_result"
    }
   ],
   "source": [
    "# Filter for only products in the reivews\n",
    "product_metadata = meta_df[meta_df['asin'].isin(df['asin'].unique())]\n",
    "# product_metadata = product_metadata.rename({'category_list':'categories'},axis=1)\n",
    "\n",
    "product_metadata = product_metadata.reset_index(drop=True)\n",
    "product_metadata"
   ]
  },
  {
   "cell_type": "code",
   "execution_count": 100,
   "id": "a5abe409-4d76-4a56-8cf2-08696443e387",
   "metadata": {
    "execution": {
     "iopub.execute_input": "2024-02-20T01:04:12.325129Z",
     "iopub.status.busy": "2024-02-20T01:04:12.325041Z",
     "iopub.status.idle": "2024-02-20T01:04:12.336266Z",
     "shell.execute_reply": "2024-02-20T01:04:12.335752Z",
     "shell.execute_reply.started": "2024-02-20T01:04:12.325120Z"
    }
   },
   "outputs": [],
   "source": [
    "# fpath_df = FPATHS['data']['processed-nlp']['processed-reviews-with-target_json']\n",
    "# df = pd.read_json(fpath_df)\n",
    "# df.head()"
   ]
  },
  {
   "cell_type": "markdown",
   "id": "8f39d896-a39d-46ff-b9ac-d0ef83385bb3",
   "metadata": {},
   "source": [
    "### Convert df into df_llm and replace df"
   ]
  },
  {
   "cell_type": "code",
   "execution_count": 101,
   "id": "ac8bcab4-204a-494f-b780-b277f386ac6a",
   "metadata": {
    "execution": {
     "iopub.execute_input": "2024-02-20T01:04:12.336891Z",
     "iopub.status.busy": "2024-02-20T01:04:12.336787Z",
     "iopub.status.idle": "2024-02-20T01:04:12.349235Z",
     "shell.execute_reply": "2024-02-20T01:04:12.348922Z",
     "shell.execute_reply.started": "2024-02-20T01:04:12.336881Z"
    }
   },
   "outputs": [
    {
     "data": {
      "text/plain": [
       "target-rating\n",
       "High    1868\n",
       "Low     1437\n",
       "None    1058\n",
       "Name: count, dtype: int64"
      ]
     },
     "execution_count": 101,
     "metadata": {},
     "output_type": "execute_result"
    }
   ],
   "source": [
    "df['target-rating'].value_counts(dropna=False)"
   ]
  },
  {
   "cell_type": "code",
   "execution_count": 102,
   "id": "05bc0aa6-c802-48cd-9cbd-2ae93ec63998",
   "metadata": {
    "execution": {
     "iopub.execute_input": "2024-02-20T01:04:12.349872Z",
     "iopub.status.busy": "2024-02-20T01:04:12.349762Z",
     "iopub.status.idle": "2024-02-20T01:04:12.366499Z",
     "shell.execute_reply": "2024-02-20T01:04:12.366154Z",
     "shell.execute_reply.started": "2024-02-20T01:04:12.349862Z"
    },
    "scrolled": true
   },
   "outputs": [
    {
     "data": {
      "text/html": [
       "<div>\n",
       "<style scoped>\n",
       "    .dataframe tbody tr th:only-of-type {\n",
       "        vertical-align: middle;\n",
       "    }\n",
       "\n",
       "    .dataframe tbody tr th {\n",
       "        vertical-align: top;\n",
       "    }\n",
       "\n",
       "    .dataframe thead th {\n",
       "        text-align: right;\n",
       "    }\n",
       "</style>\n",
       "<table border=\"1\" class=\"dataframe\">\n",
       "  <thead>\n",
       "    <tr style=\"text-align: right;\">\n",
       "      <th></th>\n",
       "      <th>reviewerID</th>\n",
       "      <th>review</th>\n",
       "      <th>stars</th>\n",
       "      <th>group</th>\n",
       "    </tr>\n",
       "  </thead>\n",
       "  <tbody>\n",
       "    <tr>\n",
       "      <th>0</th>\n",
       "      <td>A3Y51NV9HU5T2</td>\n",
       "      <td>Four Stars: Great pasta taste and feel, but th...</td>\n",
       "      <td>4</td>\n",
       "      <td>None</td>\n",
       "    </tr>\n",
       "    <tr>\n",
       "      <th>1</th>\n",
       "      <td>A3D7EFSRC6Y9MP</td>\n",
       "      <td>Okay but don't like texture: The texture just ...</td>\n",
       "      <td>3</td>\n",
       "      <td>None</td>\n",
       "    </tr>\n",
       "    <tr>\n",
       "      <th>2</th>\n",
       "      <td>A4AM5KBP3I2R</td>\n",
       "      <td>Go for the green noodles: The herb flavor make...</td>\n",
       "      <td>5</td>\n",
       "      <td>High</td>\n",
       "    </tr>\n",
       "    <tr>\n",
       "      <th>3</th>\n",
       "      <td>A3GHK4IL78DB7Y</td>\n",
       "      <td>Its an awesome substitute.: I didn't have a pr...</td>\n",
       "      <td>5</td>\n",
       "      <td>High</td>\n",
       "    </tr>\n",
       "    <tr>\n",
       "      <th>4</th>\n",
       "      <td>AH3B94LQOPPY6</td>\n",
       "      <td>Five Stars: They taste like whatever you cook ...</td>\n",
       "      <td>5</td>\n",
       "      <td>High</td>\n",
       "    </tr>\n",
       "    <tr>\n",
       "      <th>...</th>\n",
       "      <td>...</td>\n",
       "      <td>...</td>\n",
       "      <td>...</td>\n",
       "      <td>...</td>\n",
       "    </tr>\n",
       "    <tr>\n",
       "      <th>4358</th>\n",
       "      <td>A73IG1ED6S0JR</td>\n",
       "      <td>would not recomend: Product arrived with two o...</td>\n",
       "      <td>1</td>\n",
       "      <td>Low</td>\n",
       "    </tr>\n",
       "    <tr>\n",
       "      <th>4359</th>\n",
       "      <td>A1XZ2H0MYG54M0</td>\n",
       "      <td>Five Stars: Ok.</td>\n",
       "      <td>5</td>\n",
       "      <td>High</td>\n",
       "    </tr>\n",
       "    <tr>\n",
       "      <th>4360</th>\n",
       "      <td>A3I2YF0MXB7P0B</td>\n",
       "      <td>Not awful, but now I know why these were on sa...</td>\n",
       "      <td>2</td>\n",
       "      <td>Low</td>\n",
       "    </tr>\n",
       "    <tr>\n",
       "      <th>4361</th>\n",
       "      <td>A2UELLFLITPMT1</td>\n",
       "      <td>Don't even try it.: Truly horrific. Like eatin...</td>\n",
       "      <td>1</td>\n",
       "      <td>Low</td>\n",
       "    </tr>\n",
       "    <tr>\n",
       "      <th>4362</th>\n",
       "      <td>A178M2AHNWQZB0</td>\n",
       "      <td>As good as all the other Miracle noodle produc...</td>\n",
       "      <td>5</td>\n",
       "      <td>High</td>\n",
       "    </tr>\n",
       "  </tbody>\n",
       "</table>\n",
       "<p>4363 rows × 4 columns</p>\n",
       "</div>"
      ],
      "text/plain": [
       "          reviewerID                                             review  \\\n",
       "0      A3Y51NV9HU5T2  Four Stars: Great pasta taste and feel, but th...   \n",
       "1     A3D7EFSRC6Y9MP  Okay but don't like texture: The texture just ...   \n",
       "2       A4AM5KBP3I2R  Go for the green noodles: The herb flavor make...   \n",
       "3     A3GHK4IL78DB7Y  Its an awesome substitute.: I didn't have a pr...   \n",
       "4      AH3B94LQOPPY6  Five Stars: They taste like whatever you cook ...   \n",
       "...              ...                                                ...   \n",
       "4358   A73IG1ED6S0JR  would not recomend: Product arrived with two o...   \n",
       "4359  A1XZ2H0MYG54M0                                    Five Stars: Ok.   \n",
       "4360  A3I2YF0MXB7P0B  Not awful, but now I know why these were on sa...   \n",
       "4361  A2UELLFLITPMT1  Don't even try it.: Truly horrific. Like eatin...   \n",
       "4362  A178M2AHNWQZB0  As good as all the other Miracle noodle produc...   \n",
       "\n",
       "      stars group  \n",
       "0         4  None  \n",
       "1         3  None  \n",
       "2         5  High  \n",
       "3         5  High  \n",
       "4         5  High  \n",
       "...     ...   ...  \n",
       "4358      1   Low  \n",
       "4359      5  High  \n",
       "4360      2   Low  \n",
       "4361      1   Low  \n",
       "4362      5  High  \n",
       "\n",
       "[4363 rows x 4 columns]"
      ]
     },
     "execution_count": 102,
     "metadata": {},
     "output_type": "execute_result"
    }
   ],
   "source": [
    "# df_llm = df.dropna(subset=['target-rating'])\n",
    "llm_cols = ['reviewerID','review-text-full','overall','target-rating']\n",
    "df_llm = df.loc[:,#df['target-rating'].notna(),\n",
    "                llm_cols]\n",
    "df_llm = df_llm.rename({'overall':'stars','review-text-full':'review',\n",
    "                       'target-rating':'group'},axis=1)\n",
    "df_llm"
   ]
  },
  {
   "cell_type": "code",
   "execution_count": 103,
   "id": "1131ed24-99a8-40aa-b637-1b80c9b0a5f8",
   "metadata": {
    "execution": {
     "iopub.execute_input": "2024-02-20T01:04:12.367095Z",
     "iopub.status.busy": "2024-02-20T01:04:12.366999Z",
     "iopub.status.idle": "2024-02-20T01:04:12.382392Z",
     "shell.execute_reply": "2024-02-20T01:04:12.382085Z",
     "shell.execute_reply.started": "2024-02-20T01:04:12.367086Z"
    }
   },
   "outputs": [
    {
     "data": {
      "text/plain": [
       "42"
      ]
     },
     "execution_count": 103,
     "metadata": {},
     "output_type": "execute_result"
    }
   ],
   "source": [
    "dup_subset = ['review','stars']\n",
    "df_llm.duplicated(subset=dup_subset).sum()"
   ]
  },
  {
   "cell_type": "code",
   "execution_count": 104,
   "id": "15540c4a-9043-441d-b9b7-dbb78675e494",
   "metadata": {
    "execution": {
     "iopub.execute_input": "2024-02-20T01:04:12.383106Z",
     "iopub.status.busy": "2024-02-20T01:04:12.382943Z",
     "iopub.status.idle": "2024-02-20T01:04:12.419884Z",
     "shell.execute_reply": "2024-02-20T01:04:12.419554Z",
     "shell.execute_reply.started": "2024-02-20T01:04:12.383093Z"
    }
   },
   "outputs": [],
   "source": [
    "# \n",
    "fpath_llm = FPATHS['data']['app']['reviews-with-target-for-llm_csv']\n",
    "df_llm = df_llm.drop_duplicates(subset=dup_subset)\n",
    "df_llm.to_csv(fpath_llm, index=False)"
   ]
  },
  {
   "cell_type": "code",
   "execution_count": 105,
   "id": "52323ba1-5bfd-49b9-82bc-2c9a1b723307",
   "metadata": {
    "execution": {
     "iopub.execute_input": "2024-02-20T01:04:12.421983Z",
     "iopub.status.busy": "2024-02-20T01:04:12.421871Z",
     "iopub.status.idle": "2024-02-20T01:04:12.432790Z",
     "shell.execute_reply": "2024-02-20T01:04:12.432348Z",
     "shell.execute_reply.started": "2024-02-20T01:04:12.421973Z"
    }
   },
   "outputs": [],
   "source": [
    "# df_llm.duplicated(subset=['review','stars']).sum()"
   ]
  },
  {
   "cell_type": "code",
   "execution_count": 106,
   "id": "73db81eb-57a0-4d25-9904-b230d3df00f9",
   "metadata": {
    "execution": {
     "iopub.execute_input": "2024-02-20T01:04:12.433297Z",
     "iopub.status.busy": "2024-02-20T01:04:12.433208Z",
     "iopub.status.idle": "2024-02-20T01:04:12.456904Z",
     "shell.execute_reply": "2024-02-20T01:04:12.456343Z",
     "shell.execute_reply.started": "2024-02-20T01:04:12.433288Z"
    }
   },
   "outputs": [
    {
     "data": {
      "text/plain": [
       "stars\n",
       "5    1838\n",
       "1    1061\n",
       "4     605\n",
       "3     451\n",
       "2     366\n",
       "Name: count, dtype: int64"
      ]
     },
     "execution_count": 106,
     "metadata": {},
     "output_type": "execute_result"
    }
   ],
   "source": [
    "import pandas as pd\n",
    "df = pd.read_csv(fpath_llm)\n",
    "df['stars'].value_counts()"
   ]
  },
  {
   "cell_type": "code",
   "execution_count": 107,
   "id": "b4d49bef-d936-4d60-8147-6943d90983f6",
   "metadata": {
    "execution": {
     "iopub.execute_input": "2024-02-20T01:04:12.457931Z",
     "iopub.status.busy": "2024-02-20T01:04:12.457761Z",
     "iopub.status.idle": "2024-02-20T01:04:12.472593Z",
     "shell.execute_reply": "2024-02-20T01:04:12.472322Z",
     "shell.execute_reply.started": "2024-02-20T01:04:12.457916Z"
    }
   },
   "outputs": [
    {
     "data": {
      "text/plain": [
       "0"
      ]
     },
     "execution_count": 107,
     "metadata": {},
     "output_type": "execute_result"
    }
   ],
   "source": [
    "df.duplicated(subset=dup_subset).sum()"
   ]
  },
  {
   "cell_type": "code",
   "execution_count": 108,
   "id": "d0c3e25a-13ea-4655-b0ce-863689f4b094",
   "metadata": {
    "execution": {
     "iopub.execute_input": "2024-02-20T01:04:12.473285Z",
     "iopub.status.busy": "2024-02-20T01:04:12.473153Z",
     "iopub.status.idle": "2024-02-20T01:04:18.101812Z",
     "shell.execute_reply": "2024-02-20T01:04:18.101442Z",
     "shell.execute_reply.started": "2024-02-20T01:04:12.473276Z"
    }
   },
   "outputs": [
    {
     "name": "stdout",
     "output_type": "stream",
     "text": [
      "The autoreload extension is already loaded. To reload it, use:\n",
      "  %reload_ext autoreload\n"
     ]
    }
   ],
   "source": [
    "import streamlit as st\n",
    "import streamlit.components.v1 as components\n",
    "import pandas as pd\n",
    "import numpy as np\n",
    "import os\n",
    "import joblib\n",
    "import tensorflow as tf\n",
    "from PIL import Image\n",
    "\n",
    "%load_ext autoreload\n",
    "%autoreload 2\n",
    "    \n",
    "import custom_functions as fn\n",
    "\n",
    "# # Get Fpaths\n",
    "# @st.cache_data\n",
    "# def get_app_fpaths(fpath='config/filepaths.json'):\n",
    "# \timport json\n",
    "# \twith open(fpath ) as f:\n",
    "# \t\treturn json.load(f)\n",
    "\n",
    "\n",
    "\n",
    "##Load in the data\n",
    "import json\n",
    "with open(\"config/filepaths.json\") as f:\n",
    "    FPATHS = json.load(f)\n",
    "    \n",
    "# st.header(\"Exploratory Data Analysis of Amazon Reviews \")\n",
    "\n",
    "# if st.checkbox('[Dev] Show FPATHS?',value=False):\n",
    "#     FPATHS\n",
    "    "
   ]
  },
  {
   "cell_type": "code",
   "execution_count": 109,
   "id": "a83c834f-9f86-4a78-b5a3-47ce85f68267",
   "metadata": {
    "execution": {
     "iopub.execute_input": "2024-02-20T01:04:18.102499Z",
     "iopub.status.busy": "2024-02-20T01:04:18.102273Z",
     "iopub.status.idle": "2024-02-20T01:04:18.140385Z",
     "shell.execute_reply": "2024-02-20T01:04:18.140084Z",
     "shell.execute_reply.started": "2024-02-20T01:04:18.102490Z"
    }
   },
   "outputs": [],
   "source": [
    "import os,json\n",
    "\n",
    "# with open(\"/Users/codingdojo/.secret/open-ai.json\") as f:\n",
    "    # creds = json.load(f)\n",
    "\n",
    "# os.environ['OPENAI_API_KEY'] = creds['api-key']"
   ]
  },
  {
   "cell_type": "code",
   "execution_count": 110,
   "id": "f721864c-9ce3-45f2-89fb-5c6158ced29f",
   "metadata": {
    "execution": {
     "iopub.execute_input": "2024-02-20T01:04:18.140870Z",
     "iopub.status.busy": "2024-02-20T01:04:18.140784Z",
     "iopub.status.idle": "2024-02-20T01:04:18.196681Z",
     "shell.execute_reply": "2024-02-20T01:04:18.196404Z",
     "shell.execute_reply.started": "2024-02-20T01:04:18.140861Z"
    }
   },
   "outputs": [
    {
     "data": {
      "text/plain": [
       "Title            Miracle Noodle Zero Carb\\n Gluten Free Shirata...\n",
       "Description      Nutrition Facts Serving Size: 3 oz Servings Pe...\n",
       "Brand                                               Miracle Noodle\n",
       "Price                                                       $59.76\n",
       "Rank                             119,683 in Grocery & Gourmet Food\n",
       "Categories       [Grocery & Gourmet Food, Pasta & Noodles, Nood...\n",
       "Product Image     images/selected-products/miracle-noodle-2024.jpg\n",
       "Image Files      [images/selected-products/51RZohgUHBL.jpg, ima...\n",
       "Title (Raw)      Miracle Noodle Zero Carb, Gluten Free Shiratak...\n",
       "Name: B007JINB0W, dtype: object"
      ]
     },
     "execution_count": 110,
     "metadata": {},
     "output_type": "execute_result"
    }
   ],
   "source": [
    "# @st.cache_data    \n",
    "def load_df(fpath):\n",
    "    if fpath.endswith(\".joblib\"):\n",
    "        import joblib\n",
    "        return joblib.load(fpath)\n",
    "    elif fpath.endswith('.csv'):\n",
    "        import pandas as pd\n",
    "    return pd.read_csv(fpath)\n",
    "\n",
    "# @st.cache_data\n",
    "def load_metadata(fpath):\n",
    "    import pandas as pd\n",
    "    return pd.read_json(fpath)\n",
    "\n",
    "# df = load_df(FPATHS['data']['processed-nlp']['processed-reviews-with-target_joblib'])\n",
    "df = load_df(fpath = FPATHS['data']['app']['reviews-with-target-for-llm_csv'])\n",
    "\n",
    "meta_df = load_metadata(FPATHS['data']['app']['product-metadata_json'])\n",
    "product= meta_df.iloc[0]\n",
    "product"
   ]
  },
  {
   "cell_type": "code",
   "execution_count": 111,
   "id": "a99fb582-94da-4611-8c3b-0242788026fb",
   "metadata": {
    "execution": {
     "iopub.execute_input": "2024-02-20T01:04:18.197308Z",
     "iopub.status.busy": "2024-02-20T01:04:18.197195Z",
     "iopub.status.idle": "2024-02-20T01:04:18.236146Z",
     "shell.execute_reply": "2024-02-20T01:04:18.235839Z",
     "shell.execute_reply.started": "2024-02-20T01:04:18.197299Z"
    }
   },
   "outputs": [],
   "source": [
    "\n",
    "# product_json  ={'Title':product.loc['Title (Raw)'],\n",
    "#                'Brand':product.loc['Brand'],\n",
    "#                \"Price\":product.loc['Price'],\n",
    "#                \"Categories\": \"; \".join(product.loc['Categories']),\n",
    "#                 'ProductID':product.name\n",
    "#                }\n",
    "# product_json"
   ]
  },
  {
   "cell_type": "code",
   "execution_count": 112,
   "id": "0cbb3aeb-6a4d-4273-8c23-9732f6b3c955",
   "metadata": {
    "execution": {
     "iopub.execute_input": "2024-02-20T01:04:18.236786Z",
     "iopub.status.busy": "2024-02-20T01:04:18.236695Z",
     "iopub.status.idle": "2024-02-20T01:04:18.274584Z",
     "shell.execute_reply": "2024-02-20T01:04:18.274303Z",
     "shell.execute_reply.started": "2024-02-20T01:04:18.236777Z"
    }
   },
   "outputs": [
    {
     "name": "stdout",
     "output_type": "stream",
     "text": [
      "Nutrition Facts Serving Size: 3 oz Servings Per Container: 2.3 Amount Per Serving Calories 0 Calories from Fat 0 Total Fat 0g 0% Protein 0g 0% Protein <1g 0% Sugar 0g 0% Carbohydrate <1g - only fiber Zero Net Carbs, Zero Calories, Zero Glycemic Index Ingredients: Water, glucomannan (soluble fiber), calcium additive. No soy, gluten, or wheat! Kosher', 'Manufactured in a facility that also processes soy products. . This product is labelled to United States standards and may differ from similar products sold elsewhere in its ingredients, labeling and allergen warnings', 'No soy, gluten or wheat', 'Water, glucomannan (fiber), Spinach Powder, calcium additive.', 'Cooking instructions: drain the water out of the package and rinse the noodles in cool water for 10-15 seconds. Blanch in boiling water for about a minute. Place on a paper towel to dry and then add to your favorite dish.<br>Refrigerate after opening. Do not freeze.', 'Statements regarding dietary supplements have not been evaluated by the FDA and are not intended to diagnose, treat, cure, or prevent any disease or health condition.\n"
     ]
    }
   ],
   "source": [
    "print(product['Description'])"
   ]
  },
  {
   "cell_type": "code",
   "execution_count": 113,
   "id": "20f511bb-19d5-4ad2-b65e-d967a24bf9ea",
   "metadata": {
    "execution": {
     "iopub.execute_input": "2024-02-20T01:04:18.275150Z",
     "iopub.status.busy": "2024-02-20T01:04:18.275052Z",
     "iopub.status.idle": "2024-02-20T01:04:24.436347Z",
     "shell.execute_reply": "2024-02-20T01:04:24.435585Z",
     "shell.execute_reply.started": "2024-02-20T01:04:18.275141Z"
    }
   },
   "outputs": [
    {
     "data": {
      "text/plain": [
       "AIMessage(content='| Nutrition Facts                  | Serving Size: 3 oz  |\\n|----------------------------------|----------------------|\\n| Servings Per Container: 2.3      |                      |\\n|----------------------------------|----------------------|\\n| Amount Per Serving               |                      |\\n| Calories                         | 0                    |\\n| Calories from Fat                | 0                    |\\n| Total Fat                        | 0g 0%                |\\n| Protein                          | 0g 0%                |\\n| Protein                          | <1g 0%              |\\n| Sugar                            | 0g 0%                |\\n| Carbohydrate                     | <1g - only fiber     |\\n|----------------------------------|----------------------|\\n| Zero Net Carbs, Zero Calories, Zero Glycemic Index |\\n|----------------------------------|----------------------|\\n| Ingredients                      |                      |\\n| Water, glucomannan (soluble fiber), calcium additive |\\n| No soy, gluten, or wheat!        |                      |\\n| Kosher                           |                      |\\n| Manufactured in a facility that also processes soy products |\\n| This product is labelled to United States standards and may differ from similar products sold elsewhere in its ingredients, labeling and allergen warnings |\\n| No soy, gluten or wheat          |                      |\\n| Water, glucomannan (fiber), Spinach Powder, calcium additive |\\n|----------------------------------|----------------------|\\n| Cooking instructions             |                      |\\n| Drain the water out of the package and rinse the noodles in cool water for 10-15 seconds. Blanch in boiling water for about a minute. Place on a paper towel to dry and then add to your favorite dish. Refrigerate after opening. Do not freeze. |\\n|----------------------------------|----------------------|\\n| Statements regarding dietary supplements have not been evaluated by the FDA and are not intended to diagnose, treat, cure, or prevent any disease or health condition. |', response_metadata={'token_usage': {'completion_tokens': 376, 'prompt_tokens': 281, 'total_tokens': 657}, 'model_name': 'gpt-3.5-turbo-0125', 'system_fingerprint': None, 'finish_reason': 'stop', 'logprobs': None}, id='run-74971eff-91d8-4780-a77f-e311a196eefc-0', usage_metadata={'input_tokens': 281, 'output_tokens': 376, 'total_tokens': 657})"
      ]
     },
     "execution_count": 113,
     "metadata": {},
     "output_type": "execute_result"
    }
   ],
   "source": [
    "from langchain_openai.chat_models import ChatOpenAI\n",
    "chat = ChatOpenAI(temperature=0.1)\n",
    "response = chat.invoke(f\"Convert this raw text into a formatted nutrition table:\\n\\n {product['Description']}\")\n",
    "response"
   ]
  },
  {
   "cell_type": "code",
   "execution_count": 114,
   "id": "b980c05f-1c0d-4669-8796-bc455dca89c9",
   "metadata": {
    "execution": {
     "iopub.execute_input": "2024-02-20T01:04:24.438178Z",
     "iopub.status.busy": "2024-02-20T01:04:24.437741Z",
     "iopub.status.idle": "2024-02-20T01:04:24.498826Z",
     "shell.execute_reply": "2024-02-20T01:04:24.498489Z",
     "shell.execute_reply.started": "2024-02-20T01:04:24.438145Z"
    }
   },
   "outputs": [
    {
     "name": "stdout",
     "output_type": "stream",
     "text": [
      "| Nutrition Facts                  | Serving Size: 3 oz  |\n",
      "|----------------------------------|----------------------|\n",
      "| Servings Per Container: 2.3      |                      |\n",
      "|----------------------------------|----------------------|\n",
      "| Amount Per Serving               |                      |\n",
      "| Calories                         | 0                    |\n",
      "| Calories from Fat                | 0                    |\n",
      "| Total Fat                        | 0g 0%                |\n",
      "| Protein                          | 0g 0%                |\n",
      "| Protein                          | <1g 0%              |\n",
      "| Sugar                            | 0g 0%                |\n",
      "| Carbohydrate                     | <1g - only fiber     |\n",
      "|----------------------------------|----------------------|\n",
      "| Zero Net Carbs, Zero Calories, Zero Glycemic Index |\n",
      "|----------------------------------|----------------------|\n",
      "| Ingredients                      |                      |\n",
      "| Water, glucomannan (soluble fiber), calcium additive |\n",
      "| No soy, gluten, or wheat!        |                      |\n",
      "| Kosher                           |                      |\n",
      "| Manufactured in a facility that also processes soy products |\n",
      "| This product is labelled to United States standards and may differ from similar products sold elsewhere in its ingredients, labeling and allergen warnings |\n",
      "| No soy, gluten or wheat          |                      |\n",
      "| Water, glucomannan (fiber), Spinach Powder, calcium additive |\n",
      "|----------------------------------|----------------------|\n",
      "| Cooking instructions             |                      |\n",
      "| Drain the water out of the package and rinse the noodles in cool water for 10-15 seconds. Blanch in boiling water for about a minute. Place on a paper towel to dry and then add to your favorite dish. Refrigerate after opening. Do not freeze. |\n",
      "|----------------------------------|----------------------|\n",
      "| Statements regarding dietary supplements have not been evaluated by the FDA and are not intended to diagnose, treat, cure, or prevent any disease or health condition. |\n"
     ]
    }
   ],
   "source": [
    "print(response.content)"
   ]
  },
  {
   "cell_type": "markdown",
   "id": "3c72764b-bfa5-4435-92a4-2b08c19eb031",
   "metadata": {},
   "source": [
    "### Save Product Info "
   ]
  },
  {
   "cell_type": "code",
   "execution_count": 115,
   "id": "909e92ed-9469-4bbf-96b2-2f32cb1d885e",
   "metadata": {
    "execution": {
     "iopub.execute_input": "2024-02-20T01:04:24.499397Z",
     "iopub.status.busy": "2024-02-20T01:04:24.499297Z",
     "iopub.status.idle": "2024-02-20T01:04:29.162813Z",
     "shell.execute_reply": "2024-02-20T01:04:29.161151Z",
     "shell.execute_reply.started": "2024-02-20T01:04:24.499388Z"
    }
   },
   "outputs": [
    {
     "data": {
      "text/plain": [
       "{'Title': 'Miracle Noodle Zero Carb, Gluten Free Shirataki Pasta, Spinach Angel Hair, 7-Ounce (Pack of 24)',\n",
       " 'Brand': 'Miracle Noodle',\n",
       " 'Price': '$59.76',\n",
       " 'Categories': 'Grocery & Gourmet Food; Pasta & Noodles; Noodles; Shirataki',\n",
       " 'ProductID': 'B007JINB0W',\n",
       " 'Description': '| Nutrition Facts                  | Amount Per Serving |\\n|----------------------------------|--------------------|\\n| Serving Size: 3 oz               |                    |\\n| Servings Per Container: 2.3      |                    |\\n| Calories                         | 0                  |\\n| Calories from Fat                | 0                  |\\n| Total Fat                        | 0g (0%)            |\\n| Protein                          | 0g (0%)            |\\n| Protein                          | <1g (0%)           |\\n| Sugar                            | 0g                 |\\n| Carbohydrate                     | <1g                |\\n| Fiber                            | Zero               |\\n| Net Carbs                        | Zero               |\\n| Glycemic Index                   | Zero               |\\n\\nIngredients: Water, glucomannan (soluble fiber), calcium additive. No soy, gluten, or wheat! Kosher. Manufactured in a facility that also processes soy products. This product is labelled to United States standards and may differ from similar products sold elsewhere in its ingredients, labeling and allergen warnings. No soy, gluten or wheat. Water, glucomannan (fiber), Spinach Powder, calcium additive.\\n\\nCooking instructions: Drain the water out of the package and rinse the noodles in cool water for 10-15 seconds. Blanch in boiling water for about a minute. Place on a paper towel to dry and then add to your favorite dish. Refrigerate after opening. Do not freeze.\\n\\nStatements regarding dietary supplements have not been evaluated by the FDA and are not intended to diagnose, treat, cure, or prevent any disease or health condition.'}"
      ]
     },
     "execution_count": 115,
     "metadata": {},
     "output_type": "execute_result"
    }
   ],
   "source": [
    "# Create product info \n",
    "response = chat.invoke(f\"Convert this raw text into a formatted nutrition table:\\n\\n {product['Description']}\")\n",
    "\n",
    "product_json  ={'Title':product.loc['Title (Raw)'],\n",
    "               'Brand':product.loc['Brand'],\n",
    "               \"Price\":product.loc['Price'],\n",
    "               \"Categories\": \"; \".join(product.loc['Categories']),\n",
    "                'ProductID':product.name,\n",
    "                'Description':response.content\n",
    "               }\n",
    "product_json"
   ]
  },
  {
   "cell_type": "markdown",
   "id": "98d7f898-4e0f-4149-a660-d4303c3dcfc1",
   "metadata": {},
   "source": [
    "- Changing product_json to string.\n",
    "\n"
   ]
  },
  {
   "cell_type": "code",
   "execution_count": 116,
   "id": "54a55a8c-9d28-4fc3-a457-c3b478c35542",
   "metadata": {
    "execution": {
     "iopub.execute_input": "2024-02-20T01:04:29.164890Z",
     "iopub.status.busy": "2024-02-20T01:04:29.164570Z",
     "iopub.status.idle": "2024-02-20T01:04:29.239513Z",
     "shell.execute_reply": "2024-02-20T01:04:29.239017Z",
     "shell.execute_reply.started": "2024-02-20T01:04:29.164861Z"
    }
   },
   "outputs": [
    {
     "name": "stdout",
     "output_type": "stream",
     "text": [
      "Product Info:\n",
      "\n",
      "Title = Miracle Noodle Zero Carb, Gluten Free Shirataki Pasta, Spinach Angel Hair, 7-Ounce (Pack of 24)\n",
      "\n",
      "Brand = Miracle Noodle\n",
      "\n",
      "Price = $59.76\n",
      "\n",
      "Categories = Grocery & Gourmet Food; Pasta & Noodles; Noodles; Shirataki\n",
      "\n",
      "ProductID = B007JINB0W\n",
      "\n",
      "Description = | Nutrition Facts                  | Amount Per Serving |\n",
      "|----------------------------------|--------------------|\n",
      "| Serving Size: 3 oz               |                    |\n",
      "| Servings Per Container: 2.3      |                    |\n",
      "| Calories                         | 0                  |\n",
      "| Calories from Fat                | 0                  |\n",
      "| Total Fat                        | 0g (0%)            |\n",
      "| Protein                          | 0g (0%)            |\n",
      "| Protein                          | <1g (0%)           |\n",
      "| Sugar                            | 0g                 |\n",
      "| Carbohydrate                     | <1g                |\n",
      "| Fiber                            | Zero               |\n",
      "| Net Carbs                        | Zero               |\n",
      "| Glycemic Index                   | Zero               |\n",
      "\n",
      "Ingredients: Water, glucomannan (soluble fiber), calcium additive. No soy, gluten, or wheat! Kosher. Manufactured in a facility that also processes soy products. This product is labelled to United States standards and may differ from similar products sold elsewhere in its ingredients, labeling and allergen warnings. No soy, gluten or wheat. Water, glucomannan (fiber), Spinach Powder, calcium additive.\n",
      "\n",
      "Cooking instructions: Drain the water out of the package and rinse the noodles in cool water for 10-15 seconds. Blanch in boiling water for about a minute. Place on a paper towel to dry and then add to your favorite dish. Refrigerate after opening. Do not freeze.\n",
      "\n",
      "Statements regarding dietary supplements have not been evaluated by the FDA and are not intended to diagnose, treat, cure, or prevent any disease or health condition.\n",
      "\n"
     ]
    }
   ],
   "source": [
    "product_string = \"Product Info:\\n\"\n",
    "for k,v in product_json.items():\n",
    "    product_string+=f\"\\n{k} = {v}\\n\"\n",
    "print(product_string)"
   ]
  },
  {
   "cell_type": "code",
   "execution_count": 117,
   "id": "95cbdc0c-1baa-4cf0-9188-6be3316d2c39",
   "metadata": {
    "execution": {
     "iopub.execute_input": "2024-02-20T01:04:29.240176Z",
     "iopub.status.busy": "2024-02-20T01:04:29.240072Z",
     "iopub.status.idle": "2024-02-20T01:04:29.279251Z",
     "shell.execute_reply": "2024-02-20T01:04:29.278810Z",
     "shell.execute_reply.started": "2024-02-20T01:04:29.240167Z"
    }
   },
   "outputs": [],
   "source": [
    "import json\n",
    "with open(FPATHS['data']['app']['product-metadata-llm_json'],'w') as f:\n",
    "    json.dump(product_json, f)"
   ]
  },
  {
   "cell_type": "code",
   "execution_count": 118,
   "id": "a44c5e2c-db27-46d2-8d75-2df4e2e09a24",
   "metadata": {
    "execution": {
     "iopub.execute_input": "2024-02-20T01:04:29.279940Z",
     "iopub.status.busy": "2024-02-20T01:04:29.279801Z",
     "iopub.status.idle": "2024-02-20T01:04:29.318489Z",
     "shell.execute_reply": "2024-02-20T01:04:29.318151Z",
     "shell.execute_reply.started": "2024-02-20T01:04:29.279930Z"
    }
   },
   "outputs": [
    {
     "data": {
      "text/plain": [
       "{'Title': 'Miracle Noodle Zero Carb, Gluten Free Shirataki Pasta, Spinach Angel Hair, 7-Ounce (Pack of 24)',\n",
       " 'Brand': 'Miracle Noodle',\n",
       " 'Price': '$59.76',\n",
       " 'Categories': 'Grocery & Gourmet Food; Pasta & Noodles; Noodles; Shirataki',\n",
       " 'ProductID': 'B007JINB0W',\n",
       " 'Description': '| Nutrition Facts                  | Amount Per Serving |\\n|----------------------------------|--------------------|\\n| Serving Size: 3 oz               |                    |\\n| Servings Per Container: 2.3      |                    |\\n| Calories                         | 0                  |\\n| Calories from Fat                | 0                  |\\n| Total Fat                        | 0g (0%)            |\\n| Protein                          | 0g (0%)            |\\n| Protein                          | <1g (0%)           |\\n| Sugar                            | 0g                 |\\n| Carbohydrate                     | <1g                |\\n| Fiber                            | Zero               |\\n| Net Carbs                        | Zero               |\\n| Glycemic Index                   | Zero               |\\n\\nIngredients: Water, glucomannan (soluble fiber), calcium additive. No soy, gluten, or wheat! Kosher. Manufactured in a facility that also processes soy products. This product is labelled to United States standards and may differ from similar products sold elsewhere in its ingredients, labeling and allergen warnings. No soy, gluten or wheat. Water, glucomannan (fiber), Spinach Powder, calcium additive.\\n\\nCooking instructions: Drain the water out of the package and rinse the noodles in cool water for 10-15 seconds. Blanch in boiling water for about a minute. Place on a paper towel to dry and then add to your favorite dish. Refrigerate after opening. Do not freeze.\\n\\nStatements regarding dietary supplements have not been evaluated by the FDA and are not intended to diagnose, treat, cure, or prevent any disease or health condition.'}"
      ]
     },
     "execution_count": 118,
     "metadata": {},
     "output_type": "execute_result"
    }
   ],
   "source": [
    "with open(FPATHS['data']['app']['product-metadata-llm_json'],'r') as f:\n",
    "    loaded_prod_json = json.load(f)\n",
    "loaded_prod_json"
   ]
  },
  {
   "cell_type": "code",
   "execution_count": 119,
   "id": "7c96a357-5c19-432e-b88d-9a07c75af020",
   "metadata": {
    "execution": {
     "iopub.execute_input": "2024-02-20T01:04:29.319196Z",
     "iopub.status.busy": "2024-02-20T01:04:29.319072Z",
     "iopub.status.idle": "2024-02-20T01:04:29.358366Z",
     "shell.execute_reply": "2024-02-20T01:04:29.358024Z",
     "shell.execute_reply.started": "2024-02-20T01:04:29.319186Z"
    }
   },
   "outputs": [
    {
     "data": {
      "text/html": [
       "<div>\n",
       "<style scoped>\n",
       "    .dataframe tbody tr th:only-of-type {\n",
       "        vertical-align: middle;\n",
       "    }\n",
       "\n",
       "    .dataframe tbody tr th {\n",
       "        vertical-align: top;\n",
       "    }\n",
       "\n",
       "    .dataframe thead th {\n",
       "        text-align: right;\n",
       "    }\n",
       "</style>\n",
       "<table border=\"1\" class=\"dataframe\">\n",
       "  <thead>\n",
       "    <tr style=\"text-align: right;\">\n",
       "      <th></th>\n",
       "      <th>reviewerID</th>\n",
       "      <th>review</th>\n",
       "      <th>stars</th>\n",
       "      <th>group</th>\n",
       "    </tr>\n",
       "  </thead>\n",
       "  <tbody>\n",
       "    <tr>\n",
       "      <th>0</th>\n",
       "      <td>A3Y51NV9HU5T2</td>\n",
       "      <td>Four Stars: Great pasta taste and feel, but th...</td>\n",
       "      <td>4</td>\n",
       "      <td>NaN</td>\n",
       "    </tr>\n",
       "  </tbody>\n",
       "</table>\n",
       "</div>"
      ],
      "text/plain": [
       "      reviewerID                                             review  stars  \\\n",
       "0  A3Y51NV9HU5T2  Four Stars: Great pasta taste and feel, but th...      4   \n",
       "\n",
       "  group  \n",
       "0   NaN  "
      ]
     },
     "execution_count": 119,
     "metadata": {},
     "output_type": "execute_result"
    }
   ],
   "source": [
    "# df = df.dropna(subset='target-rating')\n",
    "df.head(1)"
   ]
  },
  {
   "cell_type": "code",
   "execution_count": 120,
   "id": "1ca3caad-8428-415f-ba2c-d670db516093",
   "metadata": {
    "execution": {
     "iopub.execute_input": "2024-02-20T01:04:29.359030Z",
     "iopub.status.busy": "2024-02-20T01:04:29.358908Z",
     "iopub.status.idle": "2024-02-20T01:04:29.396151Z",
     "shell.execute_reply": "2024-02-20T01:04:29.395817Z",
     "shell.execute_reply.started": "2024-02-20T01:04:29.359020Z"
    }
   },
   "outputs": [],
   "source": [
    "# display(meta_df)\n",
    "# df.head()"
   ]
  },
  {
   "cell_type": "code",
   "execution_count": 121,
   "id": "6c2b7135-76b6-4616-828b-09525726063a",
   "metadata": {
    "execution": {
     "iopub.execute_input": "2024-02-20T01:04:29.396874Z",
     "iopub.status.busy": "2024-02-20T01:04:29.396754Z",
     "iopub.status.idle": "2024-02-20T01:04:29.492717Z",
     "shell.execute_reply": "2024-02-20T01:04:29.492403Z",
     "shell.execute_reply.started": "2024-02-20T01:04:29.396864Z"
    }
   },
   "outputs": [],
   "source": [
    "import plotly.express as px\n",
    "import plotly.io as pio\n",
    "pio.templates.default=None"
   ]
  },
  {
   "cell_type": "markdown",
   "id": "cbe0974e-67b8-4f32-8cd1-80ea3dc0825a",
   "metadata": {},
   "source": [
    "## Summarizing Reviews Using Pretrained BART from HuggingFace"
   ]
  },
  {
   "cell_type": "markdown",
   "id": "b2ffc122-85db-4ad0-9557-eaf56a2d5fbc",
   "metadata": {},
   "source": [
    "- The summaries will be displayed for the user but also used as context for Chat-GPT Recommendations."
   ]
  },
  {
   "cell_type": "code",
   "execution_count": 122,
   "id": "b6d6d76f-b487-4bc6-9a24-cfad8b208e24",
   "metadata": {
    "execution": {
     "iopub.execute_input": "2024-02-20T01:04:29.493213Z",
     "iopub.status.busy": "2024-02-20T01:04:29.493122Z",
     "iopub.status.idle": "2024-02-20T01:04:29.532470Z",
     "shell.execute_reply": "2024-02-20T01:04:29.532136Z",
     "shell.execute_reply.started": "2024-02-20T01:04:29.493204Z"
    }
   },
   "outputs": [],
   "source": [
    "RUN_SUMMARIZATION_CODE = False"
   ]
  },
  {
   "cell_type": "code",
   "execution_count": null,
   "id": "88e6b89f-564f-4187-ab35-a861b33f09ec",
   "metadata": {},
   "outputs": [],
   "source": []
  },
  {
   "cell_type": "code",
   "execution_count": 123,
   "id": "dbcd5871-6872-4e15-b18e-092d85244ab3",
   "metadata": {
    "execution": {
     "iopub.execute_input": "2024-02-20T01:04:29.535923Z",
     "iopub.status.busy": "2024-02-20T01:04:29.535818Z",
     "iopub.status.idle": "2024-02-20T01:04:29.578392Z",
     "shell.execute_reply": "2024-02-20T01:04:29.578109Z",
     "shell.execute_reply.started": "2024-02-20T01:04:29.535914Z"
    }
   },
   "outputs": [
    {
     "data": {
      "text/plain": [
       "0"
      ]
     },
     "execution_count": 123,
     "metadata": {},
     "output_type": "execute_result"
    }
   ],
   "source": [
    "# df = df.drop_duplicates(subset=)\n",
    "df.duplicated(subset=dup_subset).sum()"
   ]
  },
  {
   "cell_type": "code",
   "execution_count": 124,
   "id": "3a4d78ef-31ed-4bc2-b98f-7b811125f5c3",
   "metadata": {
    "execution": {
     "iopub.execute_input": "2024-02-20T01:04:29.579120Z",
     "iopub.status.busy": "2024-02-20T01:04:29.578967Z",
     "iopub.status.idle": "2024-02-20T01:04:30.861629Z",
     "shell.execute_reply": "2024-02-20T01:04:30.861347Z",
     "shell.execute_reply.started": "2024-02-20T01:04:29.579110Z"
    }
   },
   "outputs": [
    {
     "ename": "ModuleNotFoundError",
     "evalue": "No module named 'torch'",
     "output_type": "error",
     "traceback": [
      "\u001b[0;31m---------------------------------------------------------------------------\u001b[0m",
      "\u001b[0;31mModuleNotFoundError\u001b[0m                       Traceback (most recent call last)",
      "File \u001b[0;32m<timed exec>:2\u001b[0m\n",
      "\u001b[0;31mModuleNotFoundError\u001b[0m: No module named 'torch'"
     ]
    }
   ],
   "source": [
    "%%time\n",
    "# Load model directly\n",
    "import torch\n",
    "\n",
    "from transformers import AutoTokenizer, AutoModelForSeq2SeqLM"
   ]
  },
  {
   "cell_type": "code",
   "execution_count": 125,
   "id": "925576a6-9803-4a84-bd1f-0a28ef585f5c",
   "metadata": {
    "execution": {
     "iopub.execute_input": "2024-02-20T01:04:30.862251Z",
     "iopub.status.busy": "2024-02-20T01:04:30.862138Z",
     "iopub.status.idle": "2024-02-20T01:04:31.489414Z",
     "shell.execute_reply": "2024-02-20T01:04:31.488477Z",
     "shell.execute_reply.started": "2024-02-20T01:04:30.862242Z"
    }
   },
   "outputs": [
    {
     "name": "stdout",
     "output_type": "stream",
     "text": [
      "/Users/codingdojo/.cache/huggingface/hub/models--kabita-choudhary--finetuned-bart-for-conversation-summary/snapshots/702abeb4d99b5255c099344410cc729892433490\n"
     ]
    }
   ],
   "source": [
    "model_name = \"kabita-choudhary/finetuned-bart-for-conversation-summary\"\n",
    "!HF_HUB_ENABLE_HF_TRANSFER=1 huggingface-cli download $model_name"
   ]
  },
  {
   "cell_type": "code",
   "execution_count": 126,
   "id": "22e5a820-2a01-4193-abc5-5422f9baa599",
   "metadata": {
    "execution": {
     "iopub.execute_input": "2024-02-20T01:04:31.495495Z",
     "iopub.status.busy": "2024-02-20T01:04:31.492027Z"
    }
   },
   "outputs": [
    {
     "name": "stdout",
     "output_type": "stream",
     "text": [
      "CPU times: user 2 μs, sys: 0 ns, total: 2 μs\n",
      "Wall time: 3.1 μs\n"
     ]
    }
   ],
   "source": [
    "%%time\n",
    "\n",
    "if RUN_SUMMARIZATION_CODE:\n",
    "    # model_name = \"kabita-choudhary/finetuned-bart-for-conversation-summary\"\n",
    "    model_fpath =\"/Users/codingdojo/.cache/huggingface/hub/models--kabita-choudhary--finetuned-bart-for-conversation-summary/snapshots/702abeb4d99b5255c099344410cc729892433490/\"\n",
    "    tokenizer_a = AutoTokenizer.from_pretrained(model_fpath)\n",
    "    model_a = AutoModelForSeq2SeqLM.from_pretrained(model_fpath)\n",
    "    print(\"Model downloaded...\")"
   ]
  },
  {
   "cell_type": "code",
   "execution_count": 127,
   "id": "f4857b6f-d39a-4cfa-865e-4ae360c61af1",
   "metadata": {},
   "outputs": [],
   "source": [
    "if RUN_SUMMARIZATION_CODE:\n",
    "\n",
    "        # Getting group texts\n",
    "    grp_idx_dict = df.groupby('group').groups\n",
    "    # high_promt_prefix = \"Summarize what customers likeed about this product:\"\n",
    "    \n",
    "    high_data  = \"\\n\".join(df.loc[grp_idx_dict['High'], 'review'])\n",
    "    \n",
    "    # low_promt_prefix = \"Summarize what customers did not like about this product:\"\n",
    "    low_data = \"\\n\".join(df.loc[grp_idx_dict['Low'], 'review'])\n",
    "\n"
   ]
  },
  {
   "cell_type": "code",
   "execution_count": 128,
   "id": "0a8c3efe-43ec-4147-99c8-c0524d3ff12a",
   "metadata": {},
   "outputs": [
    {
     "name": "stdout",
     "output_type": "stream",
     "text": [
      "CPU times: user 2 μs, sys: 0 ns, total: 2 μs\n",
      "Wall time: 3.1 μs\n"
     ]
    }
   ],
   "source": [
    "%%time\n",
    "if RUN_SUMMARIZATION_CODE:\n",
    "\n",
    "    # Tokenizing for PyTorch\n",
    "    tokenizer_params = dict(truncation=True, return_tensors='pt', max_length=1024,\n",
    "                          padding='max_length')\n",
    "    low_tokens_a = tokenizer_a(low_data,**tokenizer_params)\n",
    "    \n",
    "    high_tokens_a = tokenizer_a(high_data, **tokenizer_params)"
   ]
  },
  {
   "cell_type": "code",
   "execution_count": 129,
   "id": "ea7373db-d9d2-43e8-bacb-cb820c84081f",
   "metadata": {},
   "outputs": [
    {
     "name": "stdout",
     "output_type": "stream",
     "text": [
      "CPU times: user 1e+03 ns, sys: 1 μs, total: 2 μs\n",
      "Wall time: 1.91 μs\n"
     ]
    }
   ],
   "source": [
    "%%time\n",
    "if RUN_SUMMARIZATION_CODE:\n",
    "    \n",
    "    shared_params = dict( num_beams=6,\n",
    "        max_length=300,\n",
    "        min_length=125,\n",
    "        length_penalty=2.0,\n",
    "        early_stopping=True,\n",
    "                         no_repeat_ngram_size=3,\n",
    "        # temperature=0.1, do_sample=True,\n",
    "                        )\n",
    "    low_summary_ids_a = model_a.generate(\n",
    "        low_tokens_a[\"input_ids\"], **shared_params)\n",
    "    high_summary_ids_a = model_a.generate(\n",
    "        high_tokens_a[\"input_ids\"], **shared_params)"
   ]
  },
  {
   "cell_type": "code",
   "execution_count": 130,
   "id": "c96696fb-41b9-4fb0-885e-a40a4fa73575",
   "metadata": {},
   "outputs": [
    {
     "name": "stdout",
     "output_type": "stream",
     "text": [
      "CPU times: user 2 μs, sys: 0 ns, total: 2 μs\n",
      "Wall time: 3.1 μs\n"
     ]
    }
   ],
   "source": [
    "%%time\n",
    "if RUN_SUMMARIZATION_CODE:\n",
    "\n",
    "    summary_low_a = tokenizer_a.decode(low_summary_ids_a[0], skip_special_tokens=True)\n",
    "    print(summary_low_a)\n"
   ]
  },
  {
   "cell_type": "code",
   "execution_count": 131,
   "id": "4d7458b8-3f52-4d08-a2f7-803e899c4177",
   "metadata": {},
   "outputs": [],
   "source": [
    "if RUN_SUMMARIZATION_CODE:\n",
    "\n",
    "    summary_high_a = tokenizer_a.decode(high_summary_ids_a[0], skip_special_tokens=True)\n",
    "    print(summary_high_a)\n"
   ]
  },
  {
   "cell_type": "code",
   "execution_count": 135,
   "id": "b9faa21f-f210-4a02-8a9d-5a731a95e763",
   "metadata": {},
   "outputs": [],
   "source": [
    "# # %%time\n",
    "# if RUN_SUMMARIZATION_CODE:\n",
    "#     # model_results = {'model-info':{'model-name':model_name,\n",
    "#     #                                  'model-params':shared_params,\n",
    "#     #                                'tokenizer-params':tokenizer_params},\n",
    "                     \n",
    "#     #                   'summary-high':summary_high_a,\n",
    "#     #                   'summary-low':summary_low_a}\n",
    "#     # print(model_results)\n",
    "#     model_results = {'model-info':{'model-name':model_name,\n",
    "#                                      'model-params':shared_params,\n",
    "#                                    'tokenizer-params':tokenizer_params},\n",
    "#                      'summaries':{'high':summary_high_a,\n",
    "#                                  'low', summary_low_a}\n",
    "#                     }\n",
    "                     \n",
    "#                       # 'summary-high':summary_high_a,\n",
    "#                       # 'summary-low':summary_low_a}\n",
    "#     print(model_results)"
   ]
  },
  {
   "cell_type": "code",
   "execution_count": 137,
   "id": "2c040f43-b8b3-4cc0-9b2a-423909a10b6d",
   "metadata": {},
   "outputs": [],
   "source": [
    "# model_results"
   ]
  },
  {
   "cell_type": "code",
   "execution_count": 138,
   "id": "9ff1846f-4aa4-4d64-83b7-54855899fdfa",
   "metadata": {},
   "outputs": [],
   "source": [
    "if RUN_SUMMARIZATION_CODE:\n",
    "    \n",
    "    import json\n",
    "    fname_summaries = FPATHS['results']['review-summary-01_json']\n",
    "    print(fname_summaries)"
   ]
  },
  {
   "cell_type": "code",
   "execution_count": 139,
   "id": "93fd9013-cb81-4471-81a4-cf98117eb6b0",
   "metadata": {},
   "outputs": [],
   "source": [
    "if RUN_SUMMARIZATION_CODE:\n",
    "    \n",
    "    # answer  = input(\"Save these results?\")\n",
    "    # if answer.lower().startswith('y'):\n",
    "    with open(fname_summaries,'w') as f:\n",
    "        json.dump(model_results, f )"
   ]
  },
  {
   "cell_type": "code",
   "execution_count": null,
   "id": "b9f5ab34-dd93-407b-aa3a-735e75f95e41",
   "metadata": {},
   "outputs": [],
   "source": []
  },
  {
   "cell_type": "code",
   "execution_count": 140,
   "id": "3238ea17-0375-4c97-a0be-6a89af3e089a",
   "metadata": {},
   "outputs": [],
   "source": [
    "if RUN_SUMMARIZATION_CODE:\n",
    "    \n",
    "    # Getting entire text\n",
    "    combined_data = '\\n\\n'.join(df['review-text-full'])\n",
    "\n",
    "    \n",
    "    combined_tokens = tokenizer_a(combined_data, truncation=True, return_tensors='pt', #max_length=2056,\n",
    "                          padding='max_length')"
   ]
  },
  {
   "cell_type": "code",
   "execution_count": 141,
   "id": "7e104a32-ceff-4994-861a-7df123dce26a",
   "metadata": {},
   "outputs": [
    {
     "name": "stdout",
     "output_type": "stream",
     "text": [
      "CPU times: user 2 μs, sys: 0 ns, total: 2 μs\n",
      "Wall time: 4.05 μs\n"
     ]
    }
   ],
   "source": [
    "%%time\n",
    "if RUN_SUMMARIZATION_CODE:\n",
    "    \n",
    "    shared_params = dict( num_beams=6,\n",
    "        max_length=1000,\n",
    "        min_length=300,\n",
    "        length_penalty=2.0,\n",
    "                         no_repeat_ngram_size=3,\n",
    "    \n",
    "        # early_stopping=True,\n",
    "        # temperature=0.1, do_sample=True,\n",
    "                        )\n",
    "    combined_summary_ids = model_a.generate( combined_tokens[\"input_ids\"], **shared_params)"
   ]
  },
  {
   "cell_type": "code",
   "execution_count": 142,
   "id": "9976c552-8152-4f12-80b0-24c4ad7a958a",
   "metadata": {},
   "outputs": [],
   "source": [
    "if RUN_SUMMARIZATION_CODE:\n",
    "    \n",
    "    summary_combined = tokenizer_a.decode(combined_summary_ids[0], skip_special_tokens=True)\n",
    "    print(summary_combined)\n"
   ]
  },
  {
   "cell_type": "code",
   "execution_count": 143,
   "id": "40280fc4-6487-4a37-9396-da143fe8bab8",
   "metadata": {},
   "outputs": [],
   "source": [
    "if RUN_SUMMARIZATION_CODE:\n",
    "    \n",
    "    model_results_combined = {'model':model_name,\n",
    "                     'model-params':shared_params,\n",
    "                      'summary':summary_combined,}\n",
    "                      \n",
    "    fname_summaries = FPATHS['results']['review-summary-02_json']\n",
    "    with open(fname_summaries,'w') as f:\n",
    "        json.dump(model_results_combined, f )"
   ]
  },
  {
   "cell_type": "markdown",
   "id": "5e853b04-417f-479f-8d30-893971f81d06",
   "metadata": {},
   "source": [
    "# LLMs"
   ]
  },
  {
   "cell_type": "code",
   "execution_count": 144,
   "id": "fa1bde89-e23c-4521-8567-de024cfb7ed1",
   "metadata": {},
   "outputs": [],
   "source": [
    "from langchain.prompts.chat import (\n",
    "    ChatPromptTemplate,\n",
    "    HumanMessagePromptTemplate,\n",
    "    SystemMessagePromptTemplate,\n",
    ")\n",
    "from langchain.schema import HumanMessage, SystemMessage\n",
    "from langchain_openai import ChatOpenAI"
   ]
  },
  {
   "cell_type": "code",
   "execution_count": 145,
   "id": "7dba119e-e549-4204-9a16-3b94ee2691cd",
   "metadata": {},
   "outputs": [],
   "source": [
    "# # source: https://python.langchain.com/docs/integrations/chat/openai\n",
    "# template = (\n",
    "#     \"You are a helpful assistant that translates {input_language} to {output_language}.\"\n",
    "# )\n",
    "# system_message_prompt = SystemMessagePromptTemplate.from_template(template)\n",
    "# human_template = \"{text}\"\n",
    "# human_message_prompt = HumanMessagePromptTemplate.from_template(human_template)"
   ]
  },
  {
   "cell_type": "code",
   "execution_count": 146,
   "id": "2d2ee090-2e87-45d8-8e71-bffc7ba47346",
   "metadata": {},
   "outputs": [],
   "source": [
    "# chat_prompt = ChatPromptTemplate.from_messages(\n",
    "#     [system_message_prompt, human_message_prompt]\n",
    "# )\n",
    "\n",
    "# # get a chat completion from the formatted messages\n",
    "# chat(\n",
    "#     chat_prompt.format_prompt(\n",
    "#         input_language=\"English\", output_language=\"French\", text=\"I love programming.\"\n",
    "#     ).to_messages()\n",
    "# )"
   ]
  },
  {
   "cell_type": "code",
   "execution_count": null,
   "id": "fdc43ea6-5a14-4ae6-b7c8-6f5d9d6d4e6a",
   "metadata": {},
   "outputs": [],
   "source": []
  },
  {
   "cell_type": "code",
   "execution_count": 147,
   "id": "9b4c57a6-7035-4846-b96e-8ca5269d3ef2",
   "metadata": {},
   "outputs": [],
   "source": [
    "\n",
    "chat = ChatOpenAI(temperature=0)#,api_key=)"
   ]
  },
  {
   "cell_type": "code",
   "execution_count": 149,
   "id": "de601a18-3bef-4847-bf09-44c19931b043",
   "metadata": {},
   "outputs": [],
   "source": [
    "# model_results_combined['summary']"
   ]
  },
  {
   "cell_type": "code",
   "execution_count": 150,
   "id": "995ee1dd-0a31-486f-9ae2-943e15e2af0d",
   "metadata": {},
   "outputs": [
    {
     "data": {
      "text/plain": [
       "dict_keys(['model-info', 'summary-high', 'summary-low'])"
      ]
     },
     "execution_count": 150,
     "metadata": {},
     "output_type": "execute_result"
    }
   ],
   "source": [
    "## Importing the summaris to use as context\n",
    "\n",
    "with open(FPATHS['results']['review-summary-01_json'],'r') as f:\n",
    "    summaries = json.load(f)\n",
    "\n",
    "summaries.keys()"
   ]
  },
  {
   "cell_type": "code",
   "execution_count": null,
   "id": "ba23a6be-e207-48c3-86af-a780909fc833",
   "metadata": {},
   "outputs": [],
   "source": []
  },
  {
   "cell_type": "code",
   "execution_count": 151,
   "id": "69f9f4ce-1266-4428-b8d6-f1d5188602a2",
   "metadata": {},
   "outputs": [],
   "source": [
    "\n",
    "\n",
    "template_assistant = \"You are a helpful assistant data scientist who uses NLP analysis to {task}. {context}.\"\n",
    "\n",
    "\n",
    "star_one = summaries['summary-low']\n",
    "star_five = summaries['summary-high']\n",
    "context = f\"Here is a summary of 1-star reviews: {star_one}.\\n\\n Here is a summary of 5-star reviews{star_five}\"\n",
    "\n",
    "\n",
    "task_options = {\"summarize\":'summarize what customers did and did not like about the product.',\n",
    "               'recommend':'provide a list of 3-5 actionable business recommendations on how to improve the product.'}\n",
    "\n",
    "\n",
    "# source: https://python.langchain.com/docs/integrations/chat/openai\n",
    "system_message_prompt = SystemMessagePromptTemplate.from_template(template_assistant)\n",
    "human_template = \"{query}\"\n",
    "human_message_prompt = HumanMessagePromptTemplate.from_template(human_template)\n",
    "chat_prompt = ChatPromptTemplate.from_messages(\n",
    "    [system_message_prompt, human_message_prompt]\n",
    ")                       "
   ]
  },
  {
   "cell_type": "code",
   "execution_count": 152,
   "id": "befb5aec-70ef-47bd-a8eb-1ddaceffcdc2",
   "metadata": {},
   "outputs": [
    {
     "data": {
      "text/plain": [
       "['context', 'query', 'task']"
      ]
     },
     "execution_count": 152,
     "metadata": {},
     "output_type": "execute_result"
    }
   ],
   "source": [
    "chat_prompt.input_variables"
   ]
  },
  {
   "cell_type": "code",
   "execution_count": 153,
   "id": "1d178c6f-d1ed-4c72-baff-b2320455f83b",
   "metadata": {},
   "outputs": [],
   "source": [
    "# query = \"What are the results of your analysis?\"\n",
    "# # get a chat completion from the formatted messages\n",
    "# response= chat.invoke( chat_prompt.format_prompt(query=query, \n",
    "#                               context=context, task=task_options['summarize']).to_messages() )"
   ]
  },
  {
   "cell_type": "code",
   "execution_count": 154,
   "id": "5c9658f4-603b-4986-9c6e-3b1ce90dd38e",
   "metadata": {},
   "outputs": [],
   "source": [
    "# print(response.content)"
   ]
  },
  {
   "cell_type": "code",
   "execution_count": 155,
   "id": "7cfdb1ea-ab46-4aec-b8d7-231db75cb314",
   "metadata": {},
   "outputs": [],
   "source": [
    "# # get a chat completion from the formatted messages\n",
    "# response= chat.invoke( chat_prompt.format_prompt(query=query, \n",
    "#                               context=context, task=task_options['recommend']).to_messages() )"
   ]
  },
  {
   "cell_type": "code",
   "execution_count": 156,
   "id": "d51f08fa-ca2e-4c33-9bb2-037d3c2193e9",
   "metadata": {},
   "outputs": [],
   "source": [
    "# print(response.content)"
   ]
  },
  {
   "cell_type": "markdown",
   "id": "705f7a1e-2753-44c4-9e25-e5c5b874ebcd",
   "metadata": {},
   "source": [
    "### Functionizing It"
   ]
  },
  {
   "cell_type": "code",
   "execution_count": 157,
   "id": "a51200a2-28d3-4b9a-9732-70461aced705",
   "metadata": {},
   "outputs": [],
   "source": [
    "from langchain.prompts.chat import (\n",
    "    ChatPromptTemplate,\n",
    "    HumanMessagePromptTemplate,\n",
    "    SystemMessagePromptTemplate,\n",
    ")\n",
    "from langchain.schema import HumanMessage, SystemMessage\n",
    "from langchain_openai import ChatOpenAI\n",
    "\n",
    "\n",
    "query = \"What are the results of your analysis?\"\n",
    "def get_answer(summaries,selected_task,query):\n",
    "    \n",
    "    template_assistant = \"You are a helpful assistant data scientist who uses NLP analysis to {task}. {context}.\"\n",
    "\n",
    "    star_one = summaries['summary-low']\n",
    "    star_five = summaries['summary-high']\n",
    "    context = f\"Here is a summary of 1-star reviews: {star_one}.\\n\\n Here is a summary of 5-star reviews{star_five}\"\n",
    "    \n",
    "    \n",
    "    task_options = {\"summarize\":'summarize what customers did and did not like about the product.',\n",
    "                   'recommend':'provide a list of 3-5 actionable business recommendations on how to improve the product.'}\n",
    "    \n",
    "    \n",
    "    # source: https://python.langchain.com/docs/integrations/chat/openai\n",
    "    system_message_prompt = SystemMessagePromptTemplate.from_template(template_assistant)\n",
    "    human_template = \"{query}\"\n",
    "    human_message_prompt = HumanMessagePromptTemplate.from_template(human_template)\n",
    "    chat_prompt = ChatPromptTemplate.from_messages(\n",
    "        [system_message_prompt, human_message_prompt]\n",
    "    )                       \n",
    "#     return chat_prompt\n",
    "\n",
    "# def get_answer(chat_prompt, query)\n",
    "\n",
    "    chat = ChatOpenAI(temperature=0)\n",
    "    response = chat.invoke( chat_prompt.format_prompt(query=query, \n",
    "                                  context=context, task=task_options[selected_task]).to_messages() )\n",
    "    return response.content"
   ]
  },
  {
   "cell_type": "markdown",
   "id": "75057171-9030-4be1-a02d-458f225ee714",
   "metadata": {},
   "source": [
    "# Generation of Vector Database"
   ]
  },
  {
   "cell_type": "markdown",
   "id": "a73f34e7-ec04-4476-83e3-1ed4e6fae8d1",
   "metadata": {},
   "source": [
    "## Vector Databases (Making a Chrome dB for Reviews)"
   ]
  },
  {
   "cell_type": "code",
   "execution_count": 158,
   "id": "85bcdd73-4983-423c-baae-04933a14b9ad",
   "metadata": {},
   "outputs": [],
   "source": [
    "# !pip install chromadb"
   ]
  },
  {
   "cell_type": "code",
   "execution_count": 159,
   "id": "332bf6d0-33c0-4333-bdc3-d571e4c8ac9c",
   "metadata": {},
   "outputs": [],
   "source": [
    "from langchain.document_loaders import CSVLoader\n",
    "from langchain.text_splitter import CharacterTextSplitter\n",
    "from langchain.vectorstores import Chroma, FAISS\n",
    "from langchain_openai.chat_models import ChatOpenAI\n",
    "from langchain_openai.embeddings import OpenAIEmbeddings\n",
    "import pandas as pd"
   ]
  },
  {
   "cell_type": "code",
   "execution_count": 160,
   "id": "02d08ead-2472-42e0-96f0-7b6bd6aa8b65",
   "metadata": {},
   "outputs": [
    {
     "data": {
      "text/plain": [
       "('app-assets/reviews-for-llm.csv', './app-assets/reviews_db')"
      ]
     },
     "execution_count": 160,
     "metadata": {},
     "output_type": "execute_result"
    }
   ],
   "source": [
    "fpath_llm = FPATHS['data']['app']['reviews-with-target-for-llm_csv']\n",
    "fpath_db = FPATHS['data']['app']['vector-db_dir']\n",
    "\n",
    "fpath_llm, fpath_db"
   ]
  },
  {
   "cell_type": "markdown",
   "id": "4c002a03-7611-413c-abc7-d07a1d3a46d9",
   "metadata": {},
   "source": [
    "### Filtering and Saving Review Data for LLM"
   ]
  },
  {
   "cell_type": "code",
   "execution_count": 161,
   "id": "7319cb00-01ce-43e8-ac93-1144c0f1e666",
   "metadata": {},
   "outputs": [
    {
     "data": {
      "text/html": [
       "<div>\n",
       "<style scoped>\n",
       "    .dataframe tbody tr th:only-of-type {\n",
       "        vertical-align: middle;\n",
       "    }\n",
       "\n",
       "    .dataframe tbody tr th {\n",
       "        vertical-align: top;\n",
       "    }\n",
       "\n",
       "    .dataframe thead th {\n",
       "        text-align: right;\n",
       "    }\n",
       "</style>\n",
       "<table border=\"1\" class=\"dataframe\">\n",
       "  <thead>\n",
       "    <tr style=\"text-align: right;\">\n",
       "      <th></th>\n",
       "      <th>asin</th>\n",
       "      <th>reviewerID</th>\n",
       "      <th>reviewText</th>\n",
       "      <th>summary</th>\n",
       "      <th>overall</th>\n",
       "      <th>year</th>\n",
       "      <th>title</th>\n",
       "      <th>brand</th>\n",
       "      <th>category</th>\n",
       "      <th>review-text-full</th>\n",
       "      <th>review-text-full_raw</th>\n",
       "      <th>tokens-dirty</th>\n",
       "      <th>tokens</th>\n",
       "      <th>lemmas</th>\n",
       "      <th>tokens-dirty-joined</th>\n",
       "      <th>tokens-joined</th>\n",
       "      <th>lemmas-joined</th>\n",
       "      <th>target-rating</th>\n",
       "    </tr>\n",
       "  </thead>\n",
       "  <tbody>\n",
       "    <tr>\n",
       "      <th>0</th>\n",
       "      <td>B007JINB0W</td>\n",
       "      <td>A3Y51NV9HU5T2</td>\n",
       "      <td>Great pasta taste and feel, but the spell in t...</td>\n",
       "      <td>Four Stars</td>\n",
       "      <td>4</td>\n",
       "      <td>2018</td>\n",
       "      <td>Miracle Noodle Zero Carb, Gluten Free Shiratak...</td>\n",
       "      <td>Miracle Noodle</td>\n",
       "      <td>Grocery &amp; Gourmet Food; Pasta &amp; Noodles; Noodl...</td>\n",
       "      <td>Four Stars: Great pasta taste and feel, but th...</td>\n",
       "      <td>Four Stars: Great pasta taste and feel, but th...</td>\n",
       "      <td>[four, stars, great, pasta, taste, and, feel, ...</td>\n",
       "      <td>[stars, great, pasta, taste, feel, spell, pack...</td>\n",
       "      <td>[star, great, pasta, taste, feel, spell, packa...</td>\n",
       "      <td>four stars great pasta taste and feel but the ...</td>\n",
       "      <td>stars great pasta taste feel spell packaged sk...</td>\n",
       "      <td>star great pasta taste feel spell package skrong</td>\n",
       "      <td>None</td>\n",
       "    </tr>\n",
       "    <tr>\n",
       "      <th>1</th>\n",
       "      <td>B007JINB0W</td>\n",
       "      <td>A3D7EFSRC6Y9MP</td>\n",
       "      <td>The texture just made it a little strange to e...</td>\n",
       "      <td>Okay but don't like texture</td>\n",
       "      <td>3</td>\n",
       "      <td>2014</td>\n",
       "      <td>Miracle Noodle Zero Carb, Gluten Free Shiratak...</td>\n",
       "      <td>Miracle Noodle</td>\n",
       "      <td>Grocery &amp; Gourmet Food; Pasta &amp; Noodles; Noodl...</td>\n",
       "      <td>Okay but don't like texture: The texture just ...</td>\n",
       "      <td>Okay but don't like texture: The texture just ...</td>\n",
       "      <td>[okay, but, do, n't, like, texture, the, textu...</td>\n",
       "      <td>[okay, like, texture, texture, little, strange...</td>\n",
       "      <td>[okay, like, texture, texture, little, strange...</td>\n",
       "      <td>okay but do n't like texture the texture just ...</td>\n",
       "      <td>okay like texture texture little strange eat f...</td>\n",
       "      <td>okay like texture texture little strange eat f...</td>\n",
       "      <td>None</td>\n",
       "    </tr>\n",
       "    <tr>\n",
       "      <th>2</th>\n",
       "      <td>B007JINB0W</td>\n",
       "      <td>A4AM5KBP3I2R</td>\n",
       "      <td>The herb flavor makes the odd texture of shira...</td>\n",
       "      <td>Go for the green noodles</td>\n",
       "      <td>5</td>\n",
       "      <td>2018</td>\n",
       "      <td>Miracle Noodle Zero Carb, Gluten Free Shiratak...</td>\n",
       "      <td>Miracle Noodle</td>\n",
       "      <td>Grocery &amp; Gourmet Food; Pasta &amp; Noodles; Noodl...</td>\n",
       "      <td>Go for the green noodles: The herb flavor make...</td>\n",
       "      <td>Go for the green noodles: The herb flavor make...</td>\n",
       "      <td>[go, for, the, green, noodles, the, herb, flav...</td>\n",
       "      <td>[green, noodles, herb, flavor, makes, odd, tex...</td>\n",
       "      <td>[green, noodle, herb, flavor, make, odd, textu...</td>\n",
       "      <td>go for the green noodles the herb flavor makes...</td>\n",
       "      <td>green noodles herb flavor makes odd texture sh...</td>\n",
       "      <td>green noodle herb flavor make odd texture shir...</td>\n",
       "      <td>High</td>\n",
       "    </tr>\n",
       "    <tr>\n",
       "      <th>3</th>\n",
       "      <td>B007JINB0W</td>\n",
       "      <td>A3GHK4IL78DB7Y</td>\n",
       "      <td>I didn't have a problem at all with a half fil...</td>\n",
       "      <td>Its an awesome substitute.</td>\n",
       "      <td>5</td>\n",
       "      <td>2018</td>\n",
       "      <td>Miracle Noodle Zero Carb, Gluten Free Shiratak...</td>\n",
       "      <td>Miracle Noodle</td>\n",
       "      <td>Grocery &amp; Gourmet Food; Pasta &amp; Noodles; Noodl...</td>\n",
       "      <td>Its an awesome substitute.: I didn't have a pr...</td>\n",
       "      <td>Its an awesome substitute.: I didn't have a pr...</td>\n",
       "      <td>[its, an, awesome, substitute, i, did, n't, ha...</td>\n",
       "      <td>[awesome, substitute, problem, half, filled, b...</td>\n",
       "      <td>[awesome, substitute, problem, half, fill, bag...</td>\n",
       "      <td>its an awesome substitute i did n't have a pro...</td>\n",
       "      <td>awesome substitute problem half filled bag use...</td>\n",
       "      <td>awesome substitute problem half fill bag user ...</td>\n",
       "      <td>High</td>\n",
       "    </tr>\n",
       "    <tr>\n",
       "      <th>4</th>\n",
       "      <td>B007JINB0W</td>\n",
       "      <td>AH3B94LQOPPY6</td>\n",
       "      <td>They taste like whatever you cook them with.</td>\n",
       "      <td>Five Stars</td>\n",
       "      <td>5</td>\n",
       "      <td>2016</td>\n",
       "      <td>Miracle Noodle Zero Carb, Gluten Free Shiratak...</td>\n",
       "      <td>Miracle Noodle</td>\n",
       "      <td>Grocery &amp; Gourmet Food; Pasta &amp; Noodles; Noodl...</td>\n",
       "      <td>Five Stars: They taste like whatever you cook ...</td>\n",
       "      <td>Five Stars: They taste like whatever you cook ...</td>\n",
       "      <td>[five, stars, they, taste, like, whatever, you...</td>\n",
       "      <td>[stars, taste, like, cook]</td>\n",
       "      <td>[star, taste, like, cook]</td>\n",
       "      <td>five stars they taste like whatever you cook t...</td>\n",
       "      <td>stars taste like cook</td>\n",
       "      <td>star taste like cook</td>\n",
       "      <td>High</td>\n",
       "    </tr>\n",
       "  </tbody>\n",
       "</table>\n",
       "</div>"
      ],
      "text/plain": [
       "         asin      reviewerID  \\\n",
       "0  B007JINB0W   A3Y51NV9HU5T2   \n",
       "1  B007JINB0W  A3D7EFSRC6Y9MP   \n",
       "2  B007JINB0W    A4AM5KBP3I2R   \n",
       "3  B007JINB0W  A3GHK4IL78DB7Y   \n",
       "4  B007JINB0W   AH3B94LQOPPY6   \n",
       "\n",
       "                                          reviewText  \\\n",
       "0  Great pasta taste and feel, but the spell in t...   \n",
       "1  The texture just made it a little strange to e...   \n",
       "2  The herb flavor makes the odd texture of shira...   \n",
       "3  I didn't have a problem at all with a half fil...   \n",
       "4      They taste like whatever you cook them with.    \n",
       "\n",
       "                       summary  overall  year  \\\n",
       "0                   Four Stars        4  2018   \n",
       "1  Okay but don't like texture        3  2014   \n",
       "2     Go for the green noodles        5  2018   \n",
       "3   Its an awesome substitute.        5  2018   \n",
       "4                   Five Stars        5  2016   \n",
       "\n",
       "                                               title           brand  \\\n",
       "0  Miracle Noodle Zero Carb, Gluten Free Shiratak...  Miracle Noodle   \n",
       "1  Miracle Noodle Zero Carb, Gluten Free Shiratak...  Miracle Noodle   \n",
       "2  Miracle Noodle Zero Carb, Gluten Free Shiratak...  Miracle Noodle   \n",
       "3  Miracle Noodle Zero Carb, Gluten Free Shiratak...  Miracle Noodle   \n",
       "4  Miracle Noodle Zero Carb, Gluten Free Shiratak...  Miracle Noodle   \n",
       "\n",
       "                                            category  \\\n",
       "0  Grocery & Gourmet Food; Pasta & Noodles; Noodl...   \n",
       "1  Grocery & Gourmet Food; Pasta & Noodles; Noodl...   \n",
       "2  Grocery & Gourmet Food; Pasta & Noodles; Noodl...   \n",
       "3  Grocery & Gourmet Food; Pasta & Noodles; Noodl...   \n",
       "4  Grocery & Gourmet Food; Pasta & Noodles; Noodl...   \n",
       "\n",
       "                                    review-text-full  \\\n",
       "0  Four Stars: Great pasta taste and feel, but th...   \n",
       "1  Okay but don't like texture: The texture just ...   \n",
       "2  Go for the green noodles: The herb flavor make...   \n",
       "3  Its an awesome substitute.: I didn't have a pr...   \n",
       "4  Five Stars: They taste like whatever you cook ...   \n",
       "\n",
       "                                review-text-full_raw  \\\n",
       "0  Four Stars: Great pasta taste and feel, but th...   \n",
       "1  Okay but don't like texture: The texture just ...   \n",
       "2  Go for the green noodles: The herb flavor make...   \n",
       "3  Its an awesome substitute.: I didn't have a pr...   \n",
       "4  Five Stars: They taste like whatever you cook ...   \n",
       "\n",
       "                                        tokens-dirty  \\\n",
       "0  [four, stars, great, pasta, taste, and, feel, ...   \n",
       "1  [okay, but, do, n't, like, texture, the, textu...   \n",
       "2  [go, for, the, green, noodles, the, herb, flav...   \n",
       "3  [its, an, awesome, substitute, i, did, n't, ha...   \n",
       "4  [five, stars, they, taste, like, whatever, you...   \n",
       "\n",
       "                                              tokens  \\\n",
       "0  [stars, great, pasta, taste, feel, spell, pack...   \n",
       "1  [okay, like, texture, texture, little, strange...   \n",
       "2  [green, noodles, herb, flavor, makes, odd, tex...   \n",
       "3  [awesome, substitute, problem, half, filled, b...   \n",
       "4                         [stars, taste, like, cook]   \n",
       "\n",
       "                                              lemmas  \\\n",
       "0  [star, great, pasta, taste, feel, spell, packa...   \n",
       "1  [okay, like, texture, texture, little, strange...   \n",
       "2  [green, noodle, herb, flavor, make, odd, textu...   \n",
       "3  [awesome, substitute, problem, half, fill, bag...   \n",
       "4                          [star, taste, like, cook]   \n",
       "\n",
       "                                 tokens-dirty-joined  \\\n",
       "0  four stars great pasta taste and feel but the ...   \n",
       "1  okay but do n't like texture the texture just ...   \n",
       "2  go for the green noodles the herb flavor makes...   \n",
       "3  its an awesome substitute i did n't have a pro...   \n",
       "4  five stars they taste like whatever you cook t...   \n",
       "\n",
       "                                       tokens-joined  \\\n",
       "0  stars great pasta taste feel spell packaged sk...   \n",
       "1  okay like texture texture little strange eat f...   \n",
       "2  green noodles herb flavor makes odd texture sh...   \n",
       "3  awesome substitute problem half filled bag use...   \n",
       "4                              stars taste like cook   \n",
       "\n",
       "                                       lemmas-joined target-rating  \n",
       "0   star great pasta taste feel spell package skrong          None  \n",
       "1  okay like texture texture little strange eat f...          None  \n",
       "2  green noodle herb flavor make odd texture shir...          High  \n",
       "3  awesome substitute problem half fill bag user ...          High  \n",
       "4                               star taste like cook          High  "
      ]
     },
     "execution_count": 161,
     "metadata": {},
     "output_type": "execute_result"
    }
   ],
   "source": [
    "fpath_df = FPATHS['data']['processed-nlp']['processed-reviews-with-target_json']\n",
    "df = pd.read_json(fpath_df)\n",
    "df.head()"
   ]
  },
  {
   "cell_type": "code",
   "execution_count": 162,
   "id": "7a38889a-aebe-4b89-9a27-92e040d1a1b5",
   "metadata": {},
   "outputs": [
    {
     "data": {
      "text/plain": [
       "target-rating\n",
       "High    1868\n",
       "Low     1437\n",
       "None    1058\n",
       "Name: count, dtype: int64"
      ]
     },
     "execution_count": 162,
     "metadata": {},
     "output_type": "execute_result"
    }
   ],
   "source": [
    "df['target-rating'].value_counts(dropna=False)"
   ]
  },
  {
   "cell_type": "code",
   "execution_count": 163,
   "id": "359c4aaf-c711-4e66-922a-ef8856582c29",
   "metadata": {},
   "outputs": [],
   "source": [
    "# df['stars'] = df['overall'].copy()\n"
   ]
  },
  {
   "cell_type": "code",
   "execution_count": 164,
   "id": "5649951c-f652-46a6-b569-159d686b5054",
   "metadata": {},
   "outputs": [
    {
     "data": {
      "text/plain": [
       "Index(['asin', 'reviewerID', 'reviewText', 'summary', 'overall', 'year',\n",
       "       'title', 'brand', 'category', 'review-text-full',\n",
       "       'review-text-full_raw', 'tokens-dirty', 'tokens', 'lemmas',\n",
       "       'tokens-dirty-joined', 'tokens-joined', 'lemmas-joined',\n",
       "       'target-rating'],\n",
       "      dtype='object')"
      ]
     },
     "execution_count": 164,
     "metadata": {},
     "output_type": "execute_result"
    }
   ],
   "source": [
    "df.columns"
   ]
  },
  {
   "cell_type": "code",
   "execution_count": 165,
   "id": "970b322d-80e3-4ca2-a6c5-c1e01c95c3e9",
   "metadata": {
    "scrolled": true
   },
   "outputs": [
    {
     "data": {
      "text/html": [
       "<div>\n",
       "<style scoped>\n",
       "    .dataframe tbody tr th:only-of-type {\n",
       "        vertical-align: middle;\n",
       "    }\n",
       "\n",
       "    .dataframe tbody tr th {\n",
       "        vertical-align: top;\n",
       "    }\n",
       "\n",
       "    .dataframe thead th {\n",
       "        text-align: right;\n",
       "    }\n",
       "</style>\n",
       "<table border=\"1\" class=\"dataframe\">\n",
       "  <thead>\n",
       "    <tr style=\"text-align: right;\">\n",
       "      <th></th>\n",
       "      <th>reviewerID</th>\n",
       "      <th>review</th>\n",
       "      <th>stars</th>\n",
       "    </tr>\n",
       "  </thead>\n",
       "  <tbody>\n",
       "    <tr>\n",
       "      <th>0</th>\n",
       "      <td>A3Y51NV9HU5T2</td>\n",
       "      <td>Four Stars: Great pasta taste and feel, but th...</td>\n",
       "      <td>4</td>\n",
       "    </tr>\n",
       "    <tr>\n",
       "      <th>1</th>\n",
       "      <td>A3D7EFSRC6Y9MP</td>\n",
       "      <td>Okay but don't like texture: The texture just ...</td>\n",
       "      <td>3</td>\n",
       "    </tr>\n",
       "    <tr>\n",
       "      <th>2</th>\n",
       "      <td>A4AM5KBP3I2R</td>\n",
       "      <td>Go for the green noodles: The herb flavor make...</td>\n",
       "      <td>5</td>\n",
       "    </tr>\n",
       "    <tr>\n",
       "      <th>3</th>\n",
       "      <td>A3GHK4IL78DB7Y</td>\n",
       "      <td>Its an awesome substitute.: I didn't have a pr...</td>\n",
       "      <td>5</td>\n",
       "    </tr>\n",
       "    <tr>\n",
       "      <th>4</th>\n",
       "      <td>AH3B94LQOPPY6</td>\n",
       "      <td>Five Stars: They taste like whatever you cook ...</td>\n",
       "      <td>5</td>\n",
       "    </tr>\n",
       "    <tr>\n",
       "      <th>...</th>\n",
       "      <td>...</td>\n",
       "      <td>...</td>\n",
       "      <td>...</td>\n",
       "    </tr>\n",
       "    <tr>\n",
       "      <th>4358</th>\n",
       "      <td>A73IG1ED6S0JR</td>\n",
       "      <td>would not recomend: Product arrived with two o...</td>\n",
       "      <td>1</td>\n",
       "    </tr>\n",
       "    <tr>\n",
       "      <th>4359</th>\n",
       "      <td>A1XZ2H0MYG54M0</td>\n",
       "      <td>Five Stars: Ok.</td>\n",
       "      <td>5</td>\n",
       "    </tr>\n",
       "    <tr>\n",
       "      <th>4360</th>\n",
       "      <td>A3I2YF0MXB7P0B</td>\n",
       "      <td>Not awful, but now I know why these were on sa...</td>\n",
       "      <td>2</td>\n",
       "    </tr>\n",
       "    <tr>\n",
       "      <th>4361</th>\n",
       "      <td>A2UELLFLITPMT1</td>\n",
       "      <td>Don't even try it.: Truly horrific. Like eatin...</td>\n",
       "      <td>1</td>\n",
       "    </tr>\n",
       "    <tr>\n",
       "      <th>4362</th>\n",
       "      <td>A178M2AHNWQZB0</td>\n",
       "      <td>As good as all the other Miracle noodle produc...</td>\n",
       "      <td>5</td>\n",
       "    </tr>\n",
       "  </tbody>\n",
       "</table>\n",
       "<p>4363 rows × 3 columns</p>\n",
       "</div>"
      ],
      "text/plain": [
       "          reviewerID                                             review  stars\n",
       "0      A3Y51NV9HU5T2  Four Stars: Great pasta taste and feel, but th...      4\n",
       "1     A3D7EFSRC6Y9MP  Okay but don't like texture: The texture just ...      3\n",
       "2       A4AM5KBP3I2R  Go for the green noodles: The herb flavor make...      5\n",
       "3     A3GHK4IL78DB7Y  Its an awesome substitute.: I didn't have a pr...      5\n",
       "4      AH3B94LQOPPY6  Five Stars: They taste like whatever you cook ...      5\n",
       "...              ...                                                ...    ...\n",
       "4358   A73IG1ED6S0JR  would not recomend: Product arrived with two o...      1\n",
       "4359  A1XZ2H0MYG54M0                                    Five Stars: Ok.      5\n",
       "4360  A3I2YF0MXB7P0B  Not awful, but now I know why these were on sa...      2\n",
       "4361  A2UELLFLITPMT1  Don't even try it.: Truly horrific. Like eatin...      1\n",
       "4362  A178M2AHNWQZB0  As good as all the other Miracle noodle produc...      5\n",
       "\n",
       "[4363 rows x 3 columns]"
      ]
     },
     "execution_count": 165,
     "metadata": {},
     "output_type": "execute_result"
    }
   ],
   "source": [
    "# df_llm = df.dropna(subset=['target-rating'])\n",
    "llm_cols = ['reviewerID','review-text-full','overall']\n",
    "df_llm = df.loc[:,#df['target-rating'].notna(),\n",
    "                llm_cols]\n",
    "df_llm = df_llm.rename({'overall':'stars','review-text-full':'review'},axis=1)\n",
    "df_llm"
   ]
  },
  {
   "cell_type": "code",
   "execution_count": 166,
   "id": "7ee4c428-d201-4c47-9735-a86ac106de3a",
   "metadata": {},
   "outputs": [
    {
     "data": {
      "text/plain": [
       "42"
      ]
     },
     "execution_count": 166,
     "metadata": {},
     "output_type": "execute_result"
    }
   ],
   "source": [
    "df_llm.duplicated(subset=['review','stars']).sum()"
   ]
  },
  {
   "cell_type": "code",
   "execution_count": 167,
   "id": "df95c8f3-2225-40ff-974b-caea6b9c08fa",
   "metadata": {},
   "outputs": [],
   "source": [
    "# \n",
    "df_llm = df_llm.drop_duplicates(subset=['review','stars'])\n",
    "df_llm.to_csv(fpath_llm, index=False)"
   ]
  },
  {
   "cell_type": "code",
   "execution_count": 168,
   "id": "630de733-de95-48d8-98c4-6591e3a955af",
   "metadata": {},
   "outputs": [
    {
     "data": {
      "text/plain": [
       "stars\n",
       "5    1838\n",
       "1    1061\n",
       "4     605\n",
       "3     451\n",
       "2     366\n",
       "Name: count, dtype: int64"
      ]
     },
     "execution_count": 168,
     "metadata": {},
     "output_type": "execute_result"
    }
   ],
   "source": [
    "import pandas as pd\n",
    "df = pd.read_csv(fpath_llm)\n",
    "df['stars'].value_counts()"
   ]
  },
  {
   "cell_type": "markdown",
   "id": "38612226-3af2-45a2-aa5e-0a9f59ac6f54",
   "metadata": {},
   "source": [
    "# 👉🚥 Constructing My App (02/14/24+)"
   ]
  },
  {
   "cell_type": "code",
   "execution_count": 169,
   "id": "fe161dc3-7e42-4912-b205-fc9f5093918a",
   "metadata": {},
   "outputs": [],
   "source": [
    "## Adding caching to reduce api usage\n",
    "from langchain.cache import InMemoryCache\n",
    "from langchain.document_loaders import CSVLoader\n",
    "from langchain.globals import set_llm_cache\n",
    "from langchain.memory import ChatMessageHistory, ConversationBufferMemory\n",
    "from langchain.prompts import (\n",
    "    ChatPromptTemplate, PromptTemplate,\n",
    "    HumanMessagePromptTemplate,\n",
    "    MessagesPlaceholder,\n",
    "    SystemMessagePromptTemplate,\n",
    ")\n",
    "from langchain.text_splitter import CharacterTextSplitter#, SpacyTextSplitter\n",
    "from langchain_community.vectorstores import FAISS, Chroma\n",
    "from langchain_openai.chat_models import ChatOpenAI\n",
    "from langchain_openai.embeddings import OpenAIEmbeddings\n",
    "# from langchain_community.embeddings.spacy_embeddings import SpacyEmbeddings\n",
    "\n",
    "# set_llm_cache(InMemoryCache())\n",
    "\n",
    "from langchain import hub\n",
    "from langchain.agents import AgentExecutor, create_openai_tools_agent\n",
    "from langchain.tools.retriever import create_retriever_tool"
   ]
  },
  {
   "cell_type": "code",
   "execution_count": 170,
   "id": "62c48e7a-bca0-48e9-bda5-d7c5f5bbfc13",
   "metadata": {},
   "outputs": [],
   "source": [
    "##Load in the data\n",
    "import json\n",
    "\n",
    "with open(\"config/filepaths.json\") as f:\n",
    "    FPATHS = json.load(f)"
   ]
  },
  {
   "cell_type": "code",
   "execution_count": 171,
   "id": "7fbcca81-9ba4-4fec-bad2-83d27f0c093f",
   "metadata": {},
   "outputs": [
    {
     "data": {
      "text/plain": [
       "('app-assets/reviews-for-llm.csv', './app-assets/reviews_db')"
      ]
     },
     "execution_count": 171,
     "metadata": {},
     "output_type": "execute_result"
    }
   ],
   "source": [
    "fpath_llm = FPATHS['data']['app']['reviews-with-target-for-llm_csv']\n",
    "fpath_db = FPATHS['data']['app']['vector-db_dir']\n",
    "\n",
    "fpath_llm, fpath_db"
   ]
  },
  {
   "cell_type": "code",
   "execution_count": 172,
   "id": "ab00f9cc-e375-4082-9a39-12c5bd877abb",
   "metadata": {},
   "outputs": [],
   "source": [
    "# Load Document --> Split into chunks\n",
    "\n",
    "loader = CSVLoader(fpath_llm,metadata_columns=['reviewerID'])\n",
    "documents = loader.load()\n",
    "\n",
    "text_splitter = CharacterTextSplitter.from_tiktoken_encoder(chunk_size=500)\n",
    "docs = text_splitter.split_documents(documents)"
   ]
  },
  {
   "cell_type": "code",
   "execution_count": 173,
   "id": "9977db06-453e-4e79-bbd0-73717111e692",
   "metadata": {},
   "outputs": [
    {
     "name": "stdout",
     "output_type": "stream",
     "text": [
      "review: Four Stars: Great pasta taste and feel, but the spell in the packaged is SKRONG!\n",
      "stars: 4\n"
     ]
    }
   ],
   "source": [
    "print(docs[0].page_content)"
   ]
  },
  {
   "cell_type": "code",
   "execution_count": 174,
   "id": "a454a6f5-22e4-495a-85ee-90c00e26462b",
   "metadata": {},
   "outputs": [],
   "source": [
    "SAVE_EMBEDDINGS = True"
   ]
  },
  {
   "cell_type": "code",
   "execution_count": 175,
   "id": "0f83570e-f0f2-4544-a59b-3879f2049a12",
   "metadata": {},
   "outputs": [],
   "source": [
    "# if SAVE_EMBEDDINGS == True:\n",
    "#     # Use EMbedding --> embed chunks --> vectors\n",
    "#     embedding_func = OpenAIEmbeddings()\n",
    "#     db = Chroma.from_documents(docs, embedding_func, persist_directory= fpath_db)#'./app-assets/reviews_db')\n",
    "#     # Use persist to save to disk\n",
    "#     db.persist()\n",
    "# else:\n",
    "#     db = Chroma(persist_directory=fpath_db, \n",
    "#            embedding_function=OpenAIEmbeddings())\n",
    "    "
   ]
  },
  {
   "cell_type": "code",
   "execution_count": 176,
   "id": "d27fdc16-bdd2-40f0-844d-324cf9df705a",
   "metadata": {},
   "outputs": [],
   "source": [
    "# # Make a retreiver object\n",
    "# retriever = db.as_retriever(k=6)\n",
    "# retriever"
   ]
  },
  {
   "cell_type": "markdown",
   "id": "f9f1cbfc-6c79-4154-87b1-cf04440b79f0",
   "metadata": {},
   "source": [
    "#### def function to load vector database"
   ]
  },
  {
   "cell_type": "code",
   "execution_count": 177,
   "id": "75d93cda-2b93-4f0c-8e81-135494be082e",
   "metadata": {},
   "outputs": [],
   "source": [
    "def load_vector_database(fpath_db, fpath_csv=None, metadata_columns = ['reviewerID'],\n",
    "                         chunk_size=500, use_previous = True,\n",
    "                         delete=False, as_retriever=False, k=8, **retriever_kwargs):\n",
    "    \n",
    "     # Use EMbedding --> embed chunks --> vectors\n",
    "    embedding_func = OpenAIEmbeddings()\n",
    "    \n",
    "    if delete==True:\n",
    "        # Set use_pervious to False\n",
    "        use_previous= False\n",
    "        db = Chroma(persist_directory=fpath_db, \n",
    "           embedding_function=embedding_func)\n",
    "        db.delete_collection()\n",
    "\n",
    "    if use_previous==True:\n",
    "        db =  Chroma(persist_directory=fpath_db, \n",
    "           embedding_function=embedding_func)\n",
    "    else:\n",
    "        if fpath_csv == None:\n",
    "            raise Exception(\"Must pass fpath_csv if use_previous==False or delete==True\")\n",
    "                \n",
    "        # Load Document --> Split into chunks\n",
    "        loader = CSVLoader(fpath_csv,metadata_columns=metadata_columns)\n",
    "        documents = loader.load()\n",
    "        \n",
    "        text_splitter = CharacterTextSplitter.from_tiktoken_encoder(chunk_size=chunk_size)\n",
    "        docs = text_splitter.split_documents(documents)\n",
    "        \n",
    "        db = Chroma.from_documents(docs, embedding_func, persist_directory= fpath_db)\n",
    "        # Use persist to save to disk\n",
    "        db.persist()\n",
    "\n",
    "    if as_retriever:\n",
    "        return db.as_retriever(k=k, **retriever_kwargs)\n",
    "    else:\n",
    "        return db\n",
    "\n",
    "    \n",
    "    "
   ]
  },
  {
   "cell_type": "code",
   "execution_count": 182,
   "id": "4ef4b84f-30b4-482b-9410-f0087bbb2ad2",
   "metadata": {},
   "outputs": [
    {
     "name": "stdout",
     "output_type": "stream",
     "text": [
      "Creating embeddings/Chromadb database\n",
      "CPU times: user 4.37 s, sys: 118 ms, total: 4.49 s\n",
      "Wall time: 15.4 s\n"
     ]
    }
   ],
   "source": [
    "%%time\n",
    "# Delete previous and make new \n",
    "fpath_llm_csv = FPATHS['data']['app']['reviews-with-target-for-llm_csv']\n",
    "fpath_db = FPATHS['data']['app']['vector-db_dir']\n",
    "db = fn.load_vector_database( fpath_db,fpath_llm_csv, delete=True)#, use_previous=False)"
   ]
  },
  {
   "cell_type": "code",
   "execution_count": 183,
   "id": "8e4b70a5-cb07-42ae-b804-e91e683ff815",
   "metadata": {},
   "outputs": [
    {
     "name": "stdout",
     "output_type": "stream",
     "text": [
      "Using previous vector db...\n",
      "CPU times: user 19 ms, sys: 5.96 ms, total: 25 ms\n",
      "Wall time: 24.9 ms\n"
     ]
    },
    {
     "data": {
      "text/plain": [
       "VectorStoreRetriever(tags=['FAISS', 'OpenAIEmbeddings'], vectorstore=<langchain_community.vectorstores.faiss.FAISS object at 0x38526d060>)"
      ]
     },
     "execution_count": 183,
     "metadata": {},
     "output_type": "execute_result"
    }
   ],
   "source": [
    "%%time\n",
    "# make retriever for previous\n",
    "retriever = fn.load_vector_database(fpath_db, delete=False, use_previous=True, as_retriever=True)\n",
    "retriever"
   ]
  },
  {
   "cell_type": "code",
   "execution_count": 180,
   "id": "358aae2d-220b-4ee8-8ae4-11f8db1d22a7",
   "metadata": {},
   "outputs": [],
   "source": [
    "# dir(db)"
   ]
  },
  {
   "cell_type": "code",
   "execution_count": 188,
   "id": "cf7261d1-6c73-44af-ab54-a31a2e969af8",
   "metadata": {},
   "outputs": [],
   "source": [
    "# res = db.get()\n",
    "\n",
    "# res.keys()"
   ]
  },
  {
   "cell_type": "code",
   "execution_count": 189,
   "id": "32944c67-6474-4548-9180-b8b0f4b81006",
   "metadata": {},
   "outputs": [],
   "source": [
    "# res['documents']"
   ]
  },
  {
   "cell_type": "code",
   "execution_count": 190,
   "id": "2902b623-11b4-4f53-b8fa-e15d5adf4ec4",
   "metadata": {},
   "outputs": [],
   "source": [
    "# if len(db.get())>"
   ]
  },
  {
   "cell_type": "code",
   "execution_count": 191,
   "id": "d083db13-f156-40c0-ada8-f781435ae13a",
   "metadata": {},
   "outputs": [
    {
     "data": {
      "text/plain": [
       "[Document(page_content='review: Noodles: Great noodles!\\nstars: 5', metadata={'source': 'app-assets/reviews-for-llm.csv', 'row': 124, 'reviewerID': 'A1HNZ9R0QKFD7H'}),\n",
       " Document(page_content='review: great noodles: love these as a replacement for spagetti\\nstars: 5', metadata={'source': 'app-assets/reviews-for-llm.csv', 'row': 3824, 'reviewerID': 'A2ECE9C5DVS0OM'}),\n",
       " Document(page_content='review: Great noodles!: Very tasty; easy to cook and healthy too!\\nstars: 4', metadata={'source': 'app-assets/reviews-for-llm.csv', 'row': 4052, 'reviewerID': 'A1DMY9PQ2UYZMR'}),\n",
       " Document(page_content='review: Five Stars: Great noodle\\nstars: 5', metadata={'source': 'app-assets/reviews-for-llm.csv', 'row': 2174, 'reviewerID': 'A2HEGVMDKV7NU3'})]"
      ]
     },
     "execution_count": 191,
     "metadata": {},
     "output_type": "execute_result"
    }
   ],
   "source": [
    "db.similarity_search(\"noodles\")"
   ]
  },
  {
   "cell_type": "code",
   "execution_count": 192,
   "id": "cb703c25-c870-4178-a191-1d66178e8dd5",
   "metadata": {},
   "outputs": [
    {
     "name": "stderr",
     "output_type": "stream",
     "text": [
      "/opt/homebrew/Caskroom/miniforge/base/envs/nlp-env/lib/python3.10/site-packages/langchain_core/_api/deprecation.py:139: LangChainDeprecationWarning: The method `BaseRetriever.get_relevant_documents` was deprecated in langchain-core 0.1.46 and will be removed in 0.3.0. Use invoke instead.\n",
      "  warn_deprecated(\n"
     ]
    },
    {
     "data": {
      "text/plain": [
       "[Document(page_content='review: One Star: bad taste and smell\\nstars: 1', metadata={'source': 'app-assets/reviews-for-llm.csv', 'row': 2348, 'reviewerID': 'A2IDME40YYEVKQ'}),\n",
       " Document(page_content='review: NOT A GOOD TASTE: Taste so bad.\\nstars: 2', metadata={'source': 'app-assets/reviews-for-llm.csv', 'row': 10, 'reviewerID': 'A1GXGHMSY5OP2O'}),\n",
       " Document(page_content='review: ... and smell (Even tho they warn you) is really bad!: no taste and smell (Even tho they warn you) is really bad!\\nstars: 1', metadata={'source': 'app-assets/reviews-for-llm.csv', 'row': 210, 'reviewerID': 'AVKJ0W3DOQLIB'}),\n",
       " Document(page_content='review: Bad Smell and Bad Taste: These were a waste of money and not only do they stink they taste horrible.\\nstars: 1', metadata={'source': 'app-assets/reviews-for-llm.csv', 'row': 442, 'reviewerID': 'A2Q7YBB2CWN88V'})]"
      ]
     },
     "execution_count": 192,
     "metadata": {},
     "output_type": "execute_result"
    }
   ],
   "source": [
    "retriever.get_relevant_documents(query='bad taste')"
   ]
  },
  {
   "cell_type": "markdown",
   "id": "bf069b02-7a27-4873-bb08-ed92d94a3bcf",
   "metadata": {},
   "source": [
    "### New Agent Alternative to ConversationalREtriever\n",
    "https://python.langchain.com/docs/use_cases/question_answering/conversational_retrieval_agents?ref=blog.langchain.dev"
   ]
  },
  {
   "cell_type": "markdown",
   "id": "7a54c6b4-d280-48ec-8c06-b4bafd600057",
   "metadata": {},
   "source": []
  },
  {
   "cell_type": "code",
   "execution_count": 193,
   "id": "0520b098-d0aa-40ab-9b9a-91d3aea9f432",
   "metadata": {},
   "outputs": [],
   "source": [
    "from langchain.tools.retriever import create_retriever_tool\n",
    "from langchain import hub\n",
    "from langchain.agents import AgentExecutor, create_openai_tools_agent\n",
    "\n",
    "## Make retreieval tool\n",
    "tool = create_retriever_tool(\n",
    "     db.as_retriever(k=6),\n",
    "    name=\"search_reviews\",\n",
    "    description=\"Searches and returns excerpts from Amazon user reviews.\")\n",
    "tools = [tool]"
   ]
  },
  {
   "cell_type": "code",
   "execution_count": 194,
   "id": "2a6472b3-8de9-4abc-b3d0-2a73e7705e1e",
   "metadata": {},
   "outputs": [
    {
     "data": {
      "text/plain": [
       "Tool(name='search_reviews', description='Searches and returns excerpts from Amazon user reviews.', args_schema=<class 'langchain_core.tools.RetrieverInput'>, func=functools.partial(<function _get_relevant_documents at 0x3587580d0>, retriever=VectorStoreRetriever(tags=['FAISS', 'OpenAIEmbeddings'], vectorstore=<langchain_community.vectorstores.faiss.FAISS object at 0x385e91180>), document_prompt=PromptTemplate(input_variables=['page_content'], template='{page_content}'), document_separator='\\n\\n'), coroutine=functools.partial(<function _aget_relevant_documents at 0x358758280>, retriever=VectorStoreRetriever(tags=['FAISS', 'OpenAIEmbeddings'], vectorstore=<langchain_community.vectorstores.faiss.FAISS object at 0x385e91180>), document_prompt=PromptTemplate(input_variables=['page_content'], template='{page_content}'), document_separator='\\n\\n'))"
      ]
     },
     "execution_count": 194,
     "metadata": {},
     "output_type": "execute_result"
    }
   ],
   "source": [
    "tool"
   ]
  },
  {
   "cell_type": "code",
   "execution_count": null,
   "id": "708c1f23-2c56-4196-88a4-c318b4cc936e",
   "metadata": {},
   "outputs": [],
   "source": []
  },
  {
   "cell_type": "markdown",
   "id": "3ee84ca3-9826-4070-865e-e936008dd743",
   "metadata": {},
   "source": [
    "#### Stealing the Prompt from QA Chain"
   ]
  },
  {
   "cell_type": "code",
   "execution_count": 195,
   "id": "4d249c84-817e-4470-a889-575beab31c24",
   "metadata": {},
   "outputs": [
    {
     "data": {
      "text/plain": [
       "langchain.chains.combine_documents.stuff.StuffDocumentsChain"
      ]
     },
     "execution_count": 195,
     "metadata": {},
     "output_type": "execute_result"
    }
   ],
   "source": [
    "from langchain.chains.question_answering import load_qa_chain\n",
    "# from langchain.utils.\n",
    "llm = ChatOpenAI(temperature=0)\n",
    "temp_chain = load_qa_chain(llm,)\n",
    "temp_chain\n",
    "type(temp_chain)"
   ]
  },
  {
   "cell_type": "code",
   "execution_count": 196,
   "id": "7b1931a2-62e4-42d1-99bf-ecf2b742e3ac",
   "metadata": {},
   "outputs": [
    {
     "data": {
      "text/plain": [
       "ChatPromptTemplate(input_variables=['context', 'question'], messages=[SystemMessagePromptTemplate(prompt=PromptTemplate(input_variables=['context'], template=\"Use the following pieces of context to answer the user's question. \\nIf you don't know the answer, just say that you don't know, don't try to make up an answer.\\n----------------\\n{context}\")), HumanMessagePromptTemplate(prompt=PromptTemplate(input_variables=['question'], template='{question}'))])"
      ]
     },
     "execution_count": 196,
     "metadata": {},
     "output_type": "execute_result"
    }
   ],
   "source": [
    "temp_chain.llm_chain.prompt"
   ]
  },
  {
   "cell_type": "code",
   "execution_count": 197,
   "id": "acb14f56-9fce-4176-953a-4797c6c948be",
   "metadata": {},
   "outputs": [
    {
     "data": {
      "text/plain": [
       "[SystemMessagePromptTemplate(prompt=PromptTemplate(input_variables=[], template='You are a helpful assistant')),\n",
       " MessagesPlaceholder(variable_name='chat_history', optional=True),\n",
       " HumanMessagePromptTemplate(prompt=PromptTemplate(input_variables=['input'], template='{input}')),\n",
       " MessagesPlaceholder(variable_name='agent_scratchpad')]"
      ]
     },
     "execution_count": 197,
     "metadata": {},
     "output_type": "execute_result"
    }
   ],
   "source": [
    "# Pull starter prompt from langchainhub\n",
    "prompt = hub.pull(\"hwchase17/openai-tools-agent\")\n",
    "prompt.messages"
   ]
  },
  {
   "cell_type": "code",
   "execution_count": 198,
   "id": "0c6a3e00-61a2-4195-8572-2cecd423db57",
   "metadata": {},
   "outputs": [
    {
     "data": {
      "text/plain": [
       "PromptInput(agent_scratchpad=None, input=None)"
      ]
     },
     "execution_count": 198,
     "metadata": {},
     "output_type": "execute_result"
    }
   ],
   "source": [
    "prompt.input_schema()"
   ]
  },
  {
   "cell_type": "code",
   "execution_count": 199,
   "id": "45a8d43e-cadf-4c9b-9eb1-4e23473c8557",
   "metadata": {},
   "outputs": [
    {
     "data": {
      "text/plain": [
       "['agent_scratchpad', 'input']"
      ]
     },
     "execution_count": 199,
     "metadata": {},
     "output_type": "execute_result"
    }
   ],
   "source": [
    "prompt.input_variables"
   ]
  },
  {
   "cell_type": "markdown",
   "id": "dfced8e7-af4a-46e4-8e88-5a02ad5bb475",
   "metadata": {},
   "source": [
    "- Stealing the prompt from load_qa_chain result to prevent erroneous answers.\n",
    "\n"
   ]
  },
  {
   "cell_type": "code",
   "execution_count": null,
   "id": "e751d8f3-b95f-4c88-a41b-2cd4b76f9a8c",
   "metadata": {},
   "outputs": [],
   "source": [
    "qa_prompt_template= \"Use the following pieces of context to answer the user's question. \\nIf you don't know the answer, just say that you don't know, don't try to make up an answer.\\n----------------\\n{context}\"\n",
    "print(qa_prompt_template)"
   ]
  },
  {
   "cell_type": "code",
   "execution_count": null,
   "id": "6cf0d23b-0522-4685-9ddf-fc5e27dda3b0",
   "metadata": {},
   "outputs": [],
   "source": [
    "%load_ext autoreload\n",
    "%autoreload 2"
   ]
  },
  {
   "cell_type": "code",
   "execution_count": null,
   "id": "eecf4f90-e09f-438a-8e52-4dada32b0dac",
   "metadata": {},
   "outputs": [],
   "source": [
    "def load_product_info(fpath=FPATHS['data']['app']['product-metadata-llm_json']):\n",
    "    with open(fpath,'r') as f:\n",
    "        product_json = json.load(f)\n",
    "        \n",
    "    product_string = \"Product Info:\\n\"\n",
    "    for k,v in product_json.items():\n",
    "        if k.lower()=='description':\n",
    "            continue\n",
    "        product_string+=f\"\\n{k} = {v}\\n\"\n",
    "        \n",
    "    return product_string"
   ]
  },
  {
   "cell_type": "code",
   "execution_count": null,
   "id": "a041d6dd-dc8a-4ca2-8e7f-7632439c16aa",
   "metadata": {},
   "outputs": [],
   "source": [
    "help(fn)"
   ]
  },
  {
   "cell_type": "code",
   "execution_count": null,
   "id": "8c003360-2eb1-48ec-8695-14d19dee9f07",
   "metadata": {},
   "outputs": [],
   "source": [
    "# ## Load in product_json\n",
    "# with open(FPATHS['data']['app']['product-metadata-llm_json'],'r') as f:\n",
    "#     product_json = json.load(f)\n",
    "# product_json"
   ]
  },
  {
   "cell_type": "code",
   "execution_count": null,
   "id": "6d429a50-a788-4a79-95ab-83090968b9c4",
   "metadata": {},
   "outputs": [],
   "source": []
  },
  {
   "cell_type": "code",
   "execution_count": null,
   "id": "a7c2df1f-c2c4-4bfd-9157-f95c36d990c5",
   "metadata": {},
   "outputs": [],
   "source": [
    "product_string = fn.app_functions.load_product_info(FPATHS['data']['app']['product-metadata-llm_json'])\n",
    "product_string"
   ]
  },
  {
   "cell_type": "code",
   "execution_count": null,
   "id": "03e806ae-c603-4254-9376-b81b0c43b9d5",
   "metadata": {},
   "outputs": [],
   "source": [
    "# # Replace system prompt\n",
    "# Pull starter prompt from langchainhub\n",
    "prompt = hub.pull(\"hwchase17/openai-tools-agent\")\n",
    "\n",
    "# topic =  \"answering questions about the product\"\n",
    "# template = f\"You are a helpful assistant for {topic} based on the product reviews documents.\"\n",
    "# prompt.messages[0] = SystemMessagePromptTemplate.from_template(template)\n",
    "template = f\"\"\"\n",
    "You are a helpful data analyst for answering questions about the product using the product metadata json:\n",
    "```{product_string}```\\n\"\"\"\n",
    "qa_prompt_template= \"Use the results of the documents retreiver to answer the user's question. \\nIf you don't know the answer, just say that you don't know, don't try to make up an answer:\\n----------------\\n{agent_scratchpad}\"\n",
    "\n",
    "template+=qa_prompt_template\n",
    "# Replace system prompt\n",
    "# topic =  \"answering questions about the product\"\n",
    "# template = f\"You are a helpful assistant for {topic} based on the product reviews documents.\"\n",
    "prompt.messages[0] = SystemMessagePromptTemplate.from_template(template)\n",
    "# prompt.format(product_metadata=product_json,context=\n",
    "prompt.input_schema()"
   ]
  },
  {
   "cell_type": "code",
   "execution_count": null,
   "id": "85a0e7f5-71e6-4d59-90f2-eb2c97b757f3",
   "metadata": {},
   "outputs": [],
   "source": []
  },
  {
   "cell_type": "code",
   "execution_count": null,
   "id": "92f3432d-b3ef-4c76-b38e-f4c2ce182171",
   "metadata": {},
   "outputs": [],
   "source": [
    "new_prompt = ChatPromptTemplate.from_messages(prompt.messages)\n",
    "new_prompt.input_schema()"
   ]
  },
  {
   "cell_type": "code",
   "execution_count": null,
   "id": "3e578b82-4652-4baa-9ebf-af443855dd3f",
   "metadata": {},
   "outputs": [],
   "source": [
    "type(prompt)"
   ]
  },
  {
   "cell_type": "code",
   "execution_count": null,
   "id": "d9ae4ce5-cf9d-4789-9258-f216c938b1e6",
   "metadata": {},
   "outputs": [],
   "source": [
    "prompt.input_variables"
   ]
  },
  {
   "cell_type": "code",
   "execution_count": null,
   "id": "b8e9abb0-d549-481e-ada0-ba6b13dd78dd",
   "metadata": {},
   "outputs": [],
   "source": [
    "# sys_template = \"You are a helpful assistant for answering questions about the product from the product reviews documents.\"\n",
    "# prompt_messages = [\n",
    "#      SystemMessagePromptTemplate.from_template(sys_template),\n",
    "#     MessagesPlaceholder(variable_name='chat_history', optional=True),\n",
    "#     HumanMessagePromptTemplate(prompt=PromptTemplate.from_template(\"{input}\")),\n",
    "#     MessagesPlaceholder(variable_name='agent_scratchpad')\n",
    "# ]\n",
    "# prompt_messages"
   ]
  },
  {
   "cell_type": "code",
   "execution_count": null,
   "id": "ea5bf4df-ec01-4bfd-a420-3eebe0e32bbc",
   "metadata": {},
   "outputs": [],
   "source": [
    "# prompt_manual = ChatPromptTemplate.from_messages(prompt_messages)"
   ]
  },
  {
   "cell_type": "code",
   "execution_count": null,
   "id": "cd55d019-06be-4042-b072-ce73429cb877",
   "metadata": {},
   "outputs": [],
   "source": [
    "# type(prompt),type(prompt_manual)"
   ]
  },
  {
   "cell_type": "code",
   "execution_count": null,
   "id": "23252991-fdae-4045-af21-951df3ae604e",
   "metadata": {},
   "outputs": [],
   "source": [
    "# prompt.messages, prompt_manual.messages"
   ]
  },
  {
   "cell_type": "code",
   "execution_count": null,
   "id": "e4021f02-9e26-4885-927a-118640e5bfe8",
   "metadata": {},
   "outputs": [],
   "source": [
    "# prompt.format_prompt(topic=\"pretending to be a low-carb consumer with opinions derived from \")"
   ]
  },
  {
   "cell_type": "code",
   "execution_count": null,
   "id": "4ff608b8-add8-4448-a1f9-4c556f878c9a",
   "metadata": {},
   "outputs": [],
   "source": [
    "# prompt.input_variables, prompt_manual.input_variables"
   ]
  },
  {
   "cell_type": "code",
   "execution_count": null,
   "id": "e6d30e98-f8f5-4cde-a5d5-5a193f26b58f",
   "metadata": {},
   "outputs": [],
   "source": [
    "llm = ChatOpenAI(temperature=0)\n",
    "agent = create_openai_tools_agent(llm, tools, new_prompt,)#prompt_manual)\n",
    "agent_executor = AgentExecutor(agent=agent, tools=tools, verbose=True,\n",
    "                               memory=ConversationBufferMemory())#[],memory_key='chat_history'))\n",
    "agent_executor"
   ]
  },
  {
   "cell_type": "code",
   "execution_count": null,
   "id": "ee7854ae-be33-452c-9801-5515e644b4b0",
   "metadata": {},
   "outputs": [],
   "source": [
    "agent_executor.input_keys"
   ]
  },
  {
   "cell_type": "code",
   "execution_count": null,
   "id": "24ed352b-4957-4316-bdae-4f4d94e5c60b",
   "metadata": {},
   "outputs": [],
   "source": [
    "# agent_executor.get_lc_namespace()"
   ]
  },
  {
   "cell_type": "code",
   "execution_count": null,
   "id": "3679eab1-fec8-498d-8384-5b20a8055453",
   "metadata": {},
   "outputs": [],
   "source": [
    "## Using the agent\n",
    "q = \"Hello, there!\"\n",
    "result  = agent_executor.invoke(dict(input=q))\n",
    "result.keys()"
   ]
  },
  {
   "cell_type": "markdown",
   "id": "65c971dd-7099-4a30-8904-4a689fe8a035",
   "metadata": {},
   "source": [
    "```python\n",
    "KeyError:\"Input to ChatPromptTemplate is missing variables {'search_reviews'}.  Expected: ['agent_scratchpad', 'input', 'search_reviews'] Received: ['input', 'history', 'intermediate_steps', 'agent_scratchpad']\"\n",
    "```"
   ]
  },
  {
   "cell_type": "code",
   "execution_count": null,
   "id": "c5cb0d37-9391-4343-8dc4-488903354578",
   "metadata": {},
   "outputs": [],
   "source": [
    "result['output']"
   ]
  },
  {
   "cell_type": "code",
   "execution_count": null,
   "id": "4cd945d0-2561-4820-a82c-5b820bbbd1f7",
   "metadata": {},
   "outputs": [],
   "source": [
    "q= \"How do these noodles compare to other low-carb noodles in terms of taste?\"\n",
    "# result = agent_executor.invoke(dict(input=q))\n",
    "# print(result['output'])"
   ]
  },
  {
   "cell_type": "code",
   "execution_count": null,
   "id": "a58aec67-86d5-4442-8acf-7a1bb749fd2a",
   "metadata": {},
   "outputs": [],
   "source": [
    "q= \"What do glute-free customers think of these?\"\n",
    "# result = agent_executor.invoke(dict(input=q))\n",
    "# print(result['output'])"
   ]
  },
  {
   "cell_type": "code",
   "execution_count": null,
   "id": "04c6fdd4-382a-4cc4-8cf7-4070964b3d35",
   "metadata": {},
   "outputs": [],
   "source": [
    "q= \"How about cook time?\"\n",
    "# result = agent_executor.invoke(dict(input=q))\n",
    "# print(result['output'])"
   ]
  },
  {
   "cell_type": "code",
   "execution_count": null,
   "id": "783a8c9b-a475-4ea7-a55d-a3ca52930357",
   "metadata": {},
   "outputs": [],
   "source": [
    "# q= \"cooking time?\"\n",
    "# result = agent_executor.invoke(dict(input=q))\n",
    "# print(result['output'])"
   ]
  },
  {
   "cell_type": "code",
   "execution_count": null,
   "id": "7fe9c03d-2a64-4e48-8612-de715fc9f6bf",
   "metadata": {},
   "outputs": [],
   "source": [
    "# df_llm['review'].str.contains(\"cooking time\").sum()"
   ]
  },
  {
   "cell_type": "code",
   "execution_count": null,
   "id": "e51067dc-578a-4a90-8431-e338d2015996",
   "metadata": {},
   "outputs": [],
   "source": [
    "# db.similarity_search(query=\"cooking time\", k=8)"
   ]
  },
  {
   "cell_type": "code",
   "execution_count": null,
   "id": "5673368e-4ebb-4619-875b-b06b5f3ebfab",
   "metadata": {},
   "outputs": [],
   "source": [
    "prompt = hub.pull(\"hwchase17/openai-tools-agent\")\n",
    "prompt"
   ]
  },
  {
   "cell_type": "code",
   "execution_count": null,
   "id": "0290c861-5507-462c-9240-cfc1fca3a18c",
   "metadata": {},
   "outputs": [],
   "source": [
    "prompt.messages"
   ]
  },
  {
   "cell_type": "markdown",
   "id": "e14cd568-8fe5-4be8-9dcc-f9536e6e3533",
   "metadata": {},
   "source": [
    "> - Trying to address agent using the results in the prompt: https://github.com/langchain-ai/langchain/issues/14209#issuecomment-1851352078"
   ]
  },
  {
   "cell_type": "code",
   "execution_count": null,
   "id": "890d0a05-f683-4459-ae28-533ed82a162b",
   "metadata": {},
   "outputs": [],
   "source": [
    "import langchain\n",
    "from langchain.agents.initialize import initialize_agent\n",
    "# initialize_agent(tools=tools, llm=llm, )\n",
    "# dir(langchain.agents.initialize)"
   ]
  },
  {
   "cell_type": "code",
   "execution_count": null,
   "id": "6da71405-c297-4e19-81fc-cbdf5868f34b",
   "metadata": {},
   "outputs": [],
   "source": [
    "# db = Chroma(persist_directory=fpath_db, \n",
    "#                embedding_function=OpenAIEmbeddings())\n",
    "\n",
    "fpath_llm_csv = FPATHS['data']['app']['reviews-with-target-for-llm_csv']\n",
    "fpath_db = FPATHS['data']['app']['vector-db_dir']\n",
    "db = fn.load_vector_database( fpath_db,fpath_llm_csv, delete=True)#, use_previous=False)\n",
    "def get_agent(fpath_db, k=8, temperature=0.1,\n",
    "             return_messages=True, verbose=False):\n",
    "    \n",
    "    \n",
    "    # import custom_functions as fn\n",
    "    from custom_functions.app_functions import load_product_info\n",
    "    product_string = load_product_info(FPATHS['data']['app']['product-metadata-llm_json'])\n",
    "    ## Make retreieval tool\n",
    "    tool = create_retriever_tool(\n",
    "         db.as_retriever(k=k),\n",
    "        \"search_reviews\",\n",
    "        \"Searches and returns excerpts from Amazon user reviews.\",\n",
    "    )\n",
    "    tools = [tool]\n",
    "\n",
    "    # Pull starter prompt from langchainhub\n",
    "    prompt = hub.pull(\"hwchase17/openai-tools-agent\")\n",
    "\n",
    "    # produt_string = \n",
    "    # # Replace system prompt\n",
    "    template = f\"You are a helpful data analyst for answering questions about what customers said about a specific  Amazon product using only content from use reviews.\"\n",
    "    product_template = f\" Assume all user questions are asking about the content in the user reviews. Note the product metadata is:\\n```{product_string}```\\n\\n\"\n",
    "    template+=product_template\n",
    "    \n",
    "    # template+=\"\\n\\nUse information from the following review documents to answer questions:\"\n",
    "    # qa_prompt_template= \"\\n- Here are the review documents:\\n----------------\\n{agent_scratchpad}\\n\\n\"\n",
    "    qa_prompt_template =\"\"\"Use the following pieces of context (user reviews) to answer the user's question by summarizing the reviews. \n",
    "            If you don't know the answer, just say that you don't know, don't try to make up an answer.\\n----------------\\n{agent_scratchpad}\\n\\n\"\"\"\n",
    "    template+=qa_prompt_template\n",
    "    # template+=\"Try to infer one based on the review documents, otherwise just say that you don't know, don't try to make up an answer\"\n",
    "\n",
    "    # Replace system prompt\n",
    "    prompt.messages[0] = SystemMessagePromptTemplate.from_template(template)\n",
    "    prompt = ChatPromptTemplate.from_messages(prompt.messages)\n",
    "\n",
    "    if verbose:\n",
    "        print(prompt.messages)\n",
    "        \n",
    "    llm = ChatOpenAI(temperature=temperature)\n",
    "    agent = create_openai_tools_agent(llm, tools, prompt)\n",
    "    agent_executor = AgentExecutor(agent=agent, tools=tools, \n",
    "                                   memory=ConversationBufferMemory(return_messages=return_messages))\n",
    "    return agent_executor"
   ]
  },
  {
   "cell_type": "code",
   "execution_count": null,
   "id": "5d704ad7-8a12-462e-8097-d57dee76b95f",
   "metadata": {},
   "outputs": [],
   "source": [
    "agent_exe = get_agent(fpath_db, k=8,verbose=False)\n",
    "\n",
    "type(agent_exe.agent)"
   ]
  },
  {
   "cell_type": "code",
   "execution_count": null,
   "id": "db3bf721-91cd-451b-9695-ca40dece8491",
   "metadata": {},
   "outputs": [],
   "source": [
    "q = \"What is the cooking time of the product?\"\n",
    "response = agent_exe.invoke({\"input\":q})\n",
    "print(response['output'])"
   ]
  },
  {
   "cell_type": "code",
   "execution_count": null,
   "id": "573b8b58-f192-4821-87f8-0aad76a062ef",
   "metadata": {},
   "outputs": [],
   "source": [
    "db.similarity_search('cook time')"
   ]
  },
  {
   "cell_type": "code",
   "execution_count": null,
   "id": "5b38150f-00f2-4432-bed1-9684ac4c0d16",
   "metadata": {},
   "outputs": [],
   "source": [
    "q = \"How many reviews mentioned the cooking time?\"\n",
    "response = agent_exe.invoke({\"input\":q})\n",
    "print(response)"
   ]
  },
  {
   "cell_type": "code",
   "execution_count": null,
   "id": "da6219bd-cf1c-45ea-823b-5c3101d4d676",
   "metadata": {},
   "outputs": [],
   "source": [
    "q = \"What did customers say about cooking time?\"\n",
    "response = agent_exe.invoke({\"input\":q})\n",
    "print(response)"
   ]
  },
  {
   "cell_type": "markdown",
   "id": "fb09b863-2bc3-4da4-8777-e57142b1d1be",
   "metadata": {},
   "source": [
    "#  BOOKMARK 02/15/24: Improving detailed queries"
   ]
  },
  {
   "cell_type": "code",
   "execution_count": null,
   "id": "e671021c-f9dc-47c4-ab92-8c1cc1c989a3",
   "metadata": {},
   "outputs": [],
   "source": [
    "def get_agent_v1(fpath_db, k=8, temperature=0.1,topic =  \"answering questions about the product\",\n",
    "             return_messages=True):\n",
    "    \n",
    "    ## Make retreieval tool\n",
    "    tool = create_retriever_tool(\n",
    "         db.as_retriever(k=k),\n",
    "        \"search_reviews\",\n",
    "        \"Searches and returns excerpts from Amazon user reviews.\",\n",
    "    )\n",
    "    tools = [tool]\n",
    "    # Pull starter prompt from langchainhub\n",
    "    prompt = hub.pull(\"hwchase17/openai-tools-agent\")\n",
    "    # Update starter prompt \n",
    "    template = f\"You are a helpful assistant for {topic} based on the Amazon product review documents. Include quotes from the documents, when appropriate.\"\n",
    "    template+=f\"Here is some additional metadata about the product for your reference: ```{product.to_string()}```\"\n",
    "    # template = \"You are a helpful assistant for answering questions about the product from the product reviews documents.\"\n",
    "    prompt.messages[0] = SystemMessagePromptTemplate.from_template(template)\n",
    "    prompt = ChatPromptTemplate.from_messages(prompt.messages)\n",
    "    # prompt.messages[0] = prompt.messages[0].format_messages(topic=topic)\n",
    "\n",
    "    llm = ChatOpenAI(temperature=0)\n",
    "    agent = create_openai_tools_agent(llm, tools, prompt)\n",
    "    agent_executor = AgentExecutor(agent=agent, tools=tools, \n",
    "                               memory=ConversationBufferMemory(return_messages=return_messages))\n",
    "    return agent_executor\n",
    "\n",
    "\n",
    "# def get_agent_v1(fpath_db, k=6, temperature=0.1,topic =  \"answering questions about the product\",\n",
    "#              return_messages=True):\n",
    "    \n",
    "#     db = Chroma(persist_directory=fpath_db, \n",
    "#            embedding_function=OpenAIEmbeddings())\n",
    "    \n",
    "#     ## Make retreieval tool\n",
    "#     tool = create_retriever_tool(\n",
    "#          db.as_retriever(k=k),\n",
    "#         \"search_reviews\",\n",
    "#         \"Searches and returns excerpts from Amazon user reviews.\",\n",
    "#     )\n",
    "#     tools = [tool]\n",
    "#     # Pull starter prompt from langchainhub\n",
    "#     prompt = hub.pull(\"hwchase17/openai-tools-agent\")\n",
    "#     # Update starter prompt \n",
    "#     template = f\"You are a helpful assistant for {topic} based on the Amazon product review documents.\"\n",
    "#     # template = \"You are a helpful assistant for answering questions about the product from the product reviews documents.\"\n",
    "#     prompt.messages[0] = SystemMessagePromptTemplate.from_template(template)\n",
    "#     # prompt.messages[0] = prompt.messages[0].format_messages(topic=topic)\n",
    "\n",
    "#     llm = ChatOpenAI(temperature=0)\n",
    "#     agent = create_openai_tools_agent(llm, tools, prompt)\n",
    "#     agent_executor = AgentExecutor(agent=agent, tools=tools, \n",
    "#                                memory=ConversationBufferMemory(return_messages=return_messages))\n",
    "#     return agent_executor\n",
    "\n",
    "\n",
    "agent_exe = get_agent_v1(fpath_db,k=8)"
   ]
  },
  {
   "cell_type": "code",
   "execution_count": null,
   "id": "f2ee50cf-a087-4940-83f4-785ca0421c0c",
   "metadata": {},
   "outputs": [],
   "source": [
    "agent_exe"
   ]
  },
  {
   "cell_type": "code",
   "execution_count": null,
   "id": "8a801309-7a9f-46ca-9ebe-c26f55538c10",
   "metadata": {},
   "outputs": [],
   "source": [
    "q = \"How is the cooking time?\"\n",
    "response = agent_exe.invoke({\"input\":q})\n",
    "print(response['output'])"
   ]
  },
  {
   "cell_type": "code",
   "execution_count": null,
   "id": "4122c11d-d743-4cf7-bcc4-f3d658d01cf2",
   "metadata": {},
   "outputs": [],
   "source": [
    "q = \"Provide a summary list of what customers who rated the product as 1 or 2 stars did not like vs what the customers who gave it 5 stars did like\"\n",
    "response = agent_exe.invoke({'input':q})\n",
    "print(response['output'])"
   ]
  },
  {
   "cell_type": "code",
   "execution_count": null,
   "id": "47552803-028b-4e7d-b0a6-75d8f9312ce0",
   "metadata": {},
   "outputs": [],
   "source": [
    "response['history'][:-1]"
   ]
  },
  {
   "cell_type": "code",
   "execution_count": null,
   "id": "45b6c85f-b28d-4294-a571-858ec227fe59",
   "metadata": {},
   "outputs": [],
   "source": [
    "response = agent_exe.invoke({'input':'What do you recommend the company address to make customers happier?'})\n",
    "print(response['output'])"
   ]
  },
  {
   "cell_type": "code",
   "execution_count": null,
   "id": "1661e350-91be-4957-8300-891016e102e3",
   "metadata": {},
   "outputs": [],
   "source": [
    "# response = agent_exe.invoke({'input':'What do you recommend the company address to make customers happier?'})"
   ]
  },
  {
   "cell_type": "code",
   "execution_count": null,
   "id": "090c3882-18ab-4ae9-8fd0-9d178c359caa",
   "metadata": {},
   "outputs": [],
   "source": []
  },
  {
   "cell_type": "code",
   "execution_count": null,
   "id": "fd8e29a1-c4a1-4ed2-9419-f64d197972f2",
   "metadata": {},
   "outputs": [],
   "source": [
    "agent_exe = get_agent(fpath_db)\n",
    "q = \"Please summarize what consumers who gave it a Low rating did not like about the product\"\n",
    "response = agent_exe.invoke({'input':q})\n",
    "print(response['output'])"
   ]
  },
  {
   "cell_type": "code",
   "execution_count": null,
   "id": "82b65ef8-a40d-4623-84ec-75f425bc4065",
   "metadata": {},
   "outputs": [],
   "source": [
    "response['history']"
   ]
  },
  {
   "cell_type": "code",
   "execution_count": null,
   "id": "d5d45599-e605-418f-8d45-0d9cdd2c914c",
   "metadata": {},
   "outputs": [],
   "source": [
    "\n",
    "# agent_cust_no_carb = get_agent(fpath_db, \n",
    "#                                # topic = \"act as if you were a strict low-carb consumer with base your opinions and word choices\")\n",
    "# response = agent_cust_no_carb.invoke({'input':'What was the?'})\n",
    "# print(response['output'])"
   ]
  },
  {
   "cell_type": "code",
   "execution_count": null,
   "id": "5fe4895c-d8de-49e2-a17a-8f799639fd80",
   "metadata": {},
   "outputs": [],
   "source": [
    "flavors = "
   ]
  },
  {
   "cell_type": "code",
   "execution_count": null,
   "id": "07ce28d7-dd04-4c7e-9cb0-13d4f3f97471",
   "metadata": {},
   "outputs": [],
   "source": [
    "# # Chain 1 \n",
    "# # take query from user --> generate multi queries \n",
    "# llm  = ChatOpenAI(temperature=0)\n",
    "\n",
    "# chain1  = load_qa_chain(llm, chain_type='stuff', verbose=True)\n",
    "# chain1.input_keys"
   ]
  },
  {
   "cell_type": "code",
   "execution_count": null,
   "id": "bc700d50-5d1b-43dd-825d-99f9d79f98f3",
   "metadata": {},
   "outputs": [],
   "source": [
    "# question= \"I've tried so many other low carb noodles how does this one compare?\"\n",
    "# # relevant_docs = db_connection.as_retriever().get_relevant_documents(question)\n",
    "# # len(relevant_docs)\n",
    "\n",
    "# # Chain 2 \n",
    "# # take multi queries --> get relevant documents\n",
    "\n",
    "\n",
    "# # Chain 3\n",
    "# # take relevant documents --> Summarize relevant documents\n",
    "\n",
    "# # Chain 4\n",
    "# # summary --> recommendations"
   ]
  },
  {
   "cell_type": "code",
   "execution_count": null,
   "id": "a4d58775-a201-44f9-9ae1-1a4a78c5321d",
   "metadata": {},
   "outputs": [],
   "source": []
  },
  {
   "cell_type": "markdown",
   "id": "6e3aeffa-031f-49e2-a653-e21da5083cd8",
   "metadata": {},
   "source": [
    "# 📝 NOTES BELOW: LangChain Course"
   ]
  },
  {
   "cell_type": "code",
   "execution_count": null,
   "id": "c4518dd6-764d-4627-a839-de4f7b740ab7",
   "metadata": {},
   "outputs": [],
   "source": [
    "# Load Document --> Split into chunks\n",
    "loader = CSVLoader(fpath_llm, metadata_columns=['reviewerID'])\n",
    "documents = loader.load()\n",
    "\n",
    "text_splitter = CharacterTextSplitter.from_tiktoken_encoder(chunk_size=500)\n",
    "docs = text_splitter.split_documents(documents)"
   ]
  },
  {
   "cell_type": "code",
   "execution_count": null,
   "id": "05f34b16-3cc1-4be9-b2cf-2dbbb162942a",
   "metadata": {
    "scrolled": true
   },
   "outputs": [],
   "source": [
    "docs[0]"
   ]
  },
  {
   "cell_type": "code",
   "execution_count": null,
   "id": "8a39002b-25a9-41df-9d0c-47c3d6da9fa2",
   "metadata": {},
   "outputs": [],
   "source": [
    "SAVE_EMBEDDINGS = True\n",
    "\n",
    "# Use EMbedding --> embed chunks --> vectors\n",
    "embedding_func = OpenAIEmbeddings()\n",
    "# Vector-chuinks -> save chromadb\n",
    "if SAVE_EMBEDDINGS:\n",
    "    db = Chroma.from_documents(docs, embedding_func, persist_directory= fpath_db)#'./app-assets/reviews_db')\n",
    "    \n",
    "    # Use persist to save to disk\n",
    "    db.persist()"
   ]
  },
  {
   "cell_type": "code",
   "execution_count": null,
   "id": "416f310c-6201-4eb2-adef-5e00dd95610d",
   "metadata": {},
   "outputs": [],
   "source": [
    "# Load from disk\n",
    "db_connection = Chroma(persist_directory=fpath_db,\n",
    "                      embedding_function=OpenAIEmbeddings())\n",
    "db_connection"
   ]
  },
  {
   "cell_type": "code",
   "execution_count": null,
   "id": "a22726dc-4e61-4898-a182-d9ced6644808",
   "metadata": {},
   "outputs": [],
   "source": [
    "# query = \"I've tried so many other low carb noodles how does this one compare?\"\n",
    "query = 'How long do they take to cook?'"
   ]
  },
  {
   "cell_type": "code",
   "execution_count": null,
   "id": "e084aca2-f09b-4d1f-9273-a8bf2839ec23",
   "metadata": {},
   "outputs": [],
   "source": [
    "similar_docs = db_connection.similarity_search(query)\n",
    "len(similar_docs)"
   ]
  },
  {
   "cell_type": "code",
   "execution_count": null,
   "id": "9eff9ffa-5e65-44ff-a059-f4b6d731b663",
   "metadata": {
    "scrolled": true
   },
   "outputs": [],
   "source": [
    "# relelvant content\n",
    "doc_content = [doc.page_content for doc in similar_docs]\n",
    "doc_content"
   ]
  },
  {
   "cell_type": "markdown",
   "id": "93da199a-4044-4856-b807-189706c266c4",
   "metadata": {},
   "source": [
    "### Document Retreivers"
   ]
  },
  {
   "cell_type": "markdown",
   "id": "9ebef07d-9495-4236-a6f0-d6620457670a",
   "metadata": {},
   "source": [
    "> Made from vector dbs. Adds new methods (used internally)"
   ]
  },
  {
   "cell_type": "code",
   "execution_count": null,
   "id": "b3b6c858-dd9c-4127-9941-51e08924e1ab",
   "metadata": {},
   "outputs": [],
   "source": [
    "retriever = db_connection.as_retriever()\n",
    "retriever"
   ]
  },
  {
   "cell_type": "code",
   "execution_count": null,
   "id": "827ede14-b947-4afd-a681-fd5635e15fa0",
   "metadata": {},
   "outputs": [],
   "source": [
    "relevant_docs = retriever.get_relevant_documents(query)\n",
    "len(relevant_docs)"
   ]
  },
  {
   "cell_type": "code",
   "execution_count": null,
   "id": "b8250f95-46ff-41c5-8e87-31ae8a8811a4",
   "metadata": {},
   "outputs": [],
   "source": [
    "## Can use MultiQueryRetreiver to make variants of initial query\n",
    "from langchain.retrievers.multi_query import MultiQueryRetriever\n",
    "from langchain_openai.chat_models import ChatOpenAI"
   ]
  },
  {
   "cell_type": "code",
   "execution_count": null,
   "id": "d097243a-48c1-4d8b-9066-2abaccc3aef9",
   "metadata": {},
   "outputs": [],
   "source": [
    "## Adding a new document\n",
    "query = \"I've tried so many other low carb noodles how does this one compare?\"\n",
    "query"
   ]
  },
  {
   "cell_type": "code",
   "execution_count": null,
   "id": "8c3aa872-218a-46a2-bd41-5ee6317dab11",
   "metadata": {},
   "outputs": [],
   "source": [
    "chat = ChatOpenAI()\n",
    "retreiever_from_llm = MultiQueryRetriever.from_llm(retriever=db_connection.as_retriever(),\n",
    "                                                  llm=chat)\n",
    "print(retreiever_from_llm)"
   ]
  },
  {
   "cell_type": "code",
   "execution_count": null,
   "id": "c235ed76-c4e9-40cc-839a-95b7520ad5f8",
   "metadata": {},
   "outputs": [],
   "source": [
    "docs_multi_query = retreiever_from_llm.get_relevant_documents(query=query)\n",
    "len(docs_multi_query)"
   ]
  },
  {
   "cell_type": "code",
   "execution_count": null,
   "id": "e6af6d0c-d78c-49b0-9fdc-b4107c2a17ab",
   "metadata": {},
   "outputs": [],
   "source": [
    "# docs_multi_query."
   ]
  },
  {
   "cell_type": "code",
   "execution_count": null,
   "id": "89d503eb-f17f-4da9-9f5d-2bad56d642ae",
   "metadata": {},
   "outputs": [],
   "source": [
    "# relelvant content\n",
    "doc_content_multi = [doc.page_content for doc in docs_multi_query]\n",
    "doc_content_multi"
   ]
  },
  {
   "cell_type": "markdown",
   "id": "2a4123a7-cc82-4330-a3f2-058cc573464c",
   "metadata": {},
   "source": [
    "### Chains"
   ]
  },
  {
   "cell_type": "code",
   "execution_count": null,
   "id": "8f6f819f-1b7b-46ec-bef6-973748f08831",
   "metadata": {},
   "outputs": [],
   "source": [
    "## Adding caching to reduce api usage\n",
    "from langchain.cache import InMemoryCache\n",
    "from langchain.globals import set_llm_cache\n",
    "# set_llm_cache(InMemoryCache())"
   ]
  },
  {
   "cell_type": "code",
   "execution_count": null,
   "id": "7fa777cf-4fb4-4b0b-a86f-b936eca8e6e4",
   "metadata": {},
   "outputs": [],
   "source": [
    "from langchain.chains.question_answering import load_qa_chain\n",
    "# from langchain.chains.qa_with_sources import load_qa_with_sources_chain"
   ]
  },
  {
   "cell_type": "code",
   "execution_count": null,
   "id": "2fb8ba61-da6a-43bb-a761-72b8248c2d21",
   "metadata": {},
   "outputs": [],
   "source": [
    "query"
   ]
  },
  {
   "cell_type": "code",
   "execution_count": null,
   "id": "5fd5311b-4667-4528-b734-5bac80e8a32c",
   "metadata": {},
   "outputs": [],
   "source": [
    "llm  = ChatOpenAI(temperature=0)\n",
    "chain  = load_qa_chain(llm, chain_type='stuff')\n",
    "question= \"I've tried so many other low carb noodles how does this one compare?\"\n",
    "relevant_docs = db_connection.as_retriever().get_relevant_documents(question)\n",
    "len(relevant_docs)"
   ]
  },
  {
   "cell_type": "code",
   "execution_count": null,
   "id": "27f9065a-76aa-47ae-aa34-0623f8aa62af",
   "metadata": {},
   "outputs": [],
   "source": [
    "answer = chain.run(input_documents=relevant_docs, question=question)\n",
    "answer"
   ]
  },
  {
   "cell_type": "code",
   "execution_count": null,
   "id": "0667e177-c3dd-4c32-b0e7-808e552dbec9",
   "metadata": {},
   "outputs": [],
   "source": [
    "# chain  = load_qa_with_sources_chain(llm, chain_type='stuff')\n",
    "# answer = chain.run(input_documents=relevant_docs, question=question)\n",
    "# answer"
   ]
  },
  {
   "cell_type": "markdown",
   "id": "df9e9d01-425d-491a-a33b-809a48ac8650",
   "metadata": {},
   "source": [
    "#### Memories"
   ]
  },
  {
   "cell_type": "code",
   "execution_count": null,
   "id": "ebc7c2fb-bf93-4ca5-9956-7fb30c106e69",
   "metadata": {},
   "outputs": [],
   "source": [
    "from langchain.memory import ChatMessageHistory"
   ]
  },
  {
   "cell_type": "code",
   "execution_count": null,
   "id": "8b937943-2f6b-4d37-8fb1-ff32d6bcafbb",
   "metadata": {},
   "outputs": [],
   "source": [
    "from langchain_openai.chat_models import ChatOpenAI\n",
    "from langchain_openai.llms import OpenAI\n",
    "from langchain.schema import HumanMessage, SystemMessage, AIMessage\n",
    "import os"
   ]
  },
  {
   "cell_type": "markdown",
   "id": "265d6f05-e742-411b-9f0d-28fd9d308295",
   "metadata": {},
   "source": [
    "## LLM Completions"
   ]
  },
  {
   "cell_type": "code",
   "execution_count": null,
   "id": "1c495386-7ea6-47d7-b2cb-7cdd9ee67a96",
   "metadata": {},
   "outputs": [],
   "source": [
    "llm = OpenAI(api_key=os.environ['OPENAI_API_KEY'])\n",
    "llm"
   ]
  },
  {
   "cell_type": "code",
   "execution_count": null,
   "id": "bbe99185-d535-4ae3-9d5f-30b2ba1e95e5",
   "metadata": {},
   "outputs": [],
   "source": [
    "starter = \"The reason that I loved these Miracle Noodles spinach-based noodles was \"\n",
    "# llm.invoke(starter)"
   ]
  },
  {
   "cell_type": "markdown",
   "id": "2ac2f3a6-bbd5-48fb-b6f8-49a56de83d7b",
   "metadata": {},
   "source": [
    "## PromptTemplates"
   ]
  },
  {
   "cell_type": "code",
   "execution_count": null,
   "id": "386de17b-dffe-4810-aa97-64929d745f60",
   "metadata": {},
   "outputs": [],
   "source": [
    "from langchain import PromptTemplate"
   ]
  },
  {
   "cell_type": "code",
   "execution_count": null,
   "id": "6e5b82ff-ea54-47c6-97cc-4be1289dee0b",
   "metadata": {},
   "outputs": [],
   "source": [
    "# General Template with no inputs\n",
    "no_input_prompt = PromptTemplate(input_variables=[],\n",
    "                                template=\"Tell me a fact:\")\n",
    "no_input_prompt.format()"
   ]
  },
  {
   "cell_type": "code",
   "execution_count": null,
   "id": "eb021595-1f43-4734-ba9e-fb4a430e7d51",
   "metadata": {},
   "outputs": [],
   "source": [
    "# llm.invoke(no_input_prompt.format())"
   ]
  },
  {
   "cell_type": "code",
   "execution_count": null,
   "id": "64bc6ffe-634a-49c9-b216-2aac98b2566c",
   "metadata": {},
   "outputs": [],
   "source": [
    "single_input_prompt = PromptTemplate(input_variables=['topic'],\n",
    "                                template=\"Tell me a fact about {topic}\")\n",
    "single_input_prompt.format(topic='Mars')"
   ]
  },
  {
   "cell_type": "code",
   "execution_count": null,
   "id": "d8691da4-5212-49ca-be1a-cd4dc5cc084d",
   "metadata": {},
   "outputs": [],
   "source": [
    "# llm.invoke(single_input_prompt.format(topic='Mars'))"
   ]
  },
  {
   "cell_type": "code",
   "execution_count": null,
   "id": "0b3a2c1a-dff3-4953-9f56-eb5909603e80",
   "metadata": {},
   "outputs": [],
   "source": [
    "multi_input_prompt = PromptTemplate(input_variables=['topic','level','person'],\n",
    "                                template=\"Tell me a fact about {topic} for a {level} {person}\")\n",
    "# llm.invoke(multi_input_prompt.format(topic='Mars', level='PhD', person='advisor'))"
   ]
  },
  {
   "cell_type": "markdown",
   "id": "8d93ce5a-16b6-4d39-a34c-ae29856545a8",
   "metadata": {},
   "source": [
    "### Chat Models"
   ]
  },
  {
   "cell_type": "code",
   "execution_count": null,
   "id": "0f593b88-b8ea-479e-9d71-fa7a15c4e419",
   "metadata": {},
   "outputs": [],
   "source": [
    "from langchain.prompts import ChatPromptTemplate, SystemMessagePromptTemplate, AIMessagePromptTemplate, HumanMessagePromptTemplate"
   ]
  },
  {
   "cell_type": "code",
   "execution_count": null,
   "id": "d8bea923-c4ed-4dba-8068-8703de3509db",
   "metadata": {},
   "outputs": [],
   "source": [
    "chat =  ChatOpenAI(api_key=os.environ['OPENAI_API_KEY'])\n",
    "# chat.invoke(starter)"
   ]
  },
  {
   "cell_type": "code",
   "execution_count": null,
   "id": "f99a51e4-418d-4e7e-93b8-f365dc057d89",
   "metadata": {},
   "outputs": [],
   "source": [
    "# Flexible starting template\n",
    "system_template = \"You are an AI recipe assistant that specializes in {dietary_preference} dishes that can be prepared in {cook_time}\"\n",
    "system_message_prompt = SystemMessagePromptTemplate.from_template(system_template)\n",
    "system_message_prompt.input_variables"
   ]
  },
  {
   "cell_type": "code",
   "execution_count": null,
   "id": "92d8ae32-b317-4861-88da-50a66424c960",
   "metadata": {},
   "outputs": [],
   "source": [
    "human_template=  \"{recipe_request}\"\n",
    "human_message_prompt = HumanMessagePromptTemplate.from_template(human_template)"
   ]
  },
  {
   "cell_type": "code",
   "execution_count": null,
   "id": "c5f29139-90ae-47b7-a65b-1b0af56eff33",
   "metadata": {},
   "outputs": [],
   "source": [
    "human_message_prompt.input_variables"
   ]
  },
  {
   "cell_type": "code",
   "execution_count": null,
   "id": "bd831fb8-35c0-4e1c-921e-e4adfe4dfb61",
   "metadata": {},
   "outputs": [],
   "source": [
    "chat_prompt  = ChatPromptTemplate.from_messages([system_message_prompt, human_message_prompt])\n",
    "chat_prompt.input_variables"
   ]
  },
  {
   "cell_type": "code",
   "execution_count": null,
   "id": "748c5942-b2de-4dc6-ae43-e4bd76844afd",
   "metadata": {},
   "outputs": [],
   "source": [
    "# Run format_prompt to pass in all inputs\n",
    "prompt= chat_prompt.format_prompt(cook_time='60 min',\n",
    "                                  dietary_preference='gluten free', \n",
    "                                  recipe_request=\"Quick Snack\").to_messages()\n",
    "prompt"
   ]
  },
  {
   "cell_type": "code",
   "execution_count": null,
   "id": "a419774d-f4a3-42b0-8fe0-e331890ced6c",
   "metadata": {},
   "outputs": [],
   "source": [
    "# # result =  chat.invoke(prompt)\n",
    "# print(result.content)"
   ]
  },
  {
   "cell_type": "markdown",
   "id": "61b1ea0f-cb66-45ff-9199-b45985fec8bb",
   "metadata": {},
   "source": [
    "### ~~FewShotPrompt templates~~"
   ]
  },
  {
   "cell_type": "code",
   "execution_count": null,
   "id": "efde3f76-d72f-49f3-b289-b5d9170c81c9",
   "metadata": {},
   "outputs": [],
   "source": [
    "# from langchain.prompts.chat import AIMessagePromptTemplate"
   ]
  },
  {
   "cell_type": "markdown",
   "id": "b896806d-e279-43b7-8799-e6a17bb7ee8c",
   "metadata": {},
   "source": [
    "### ~~Serialization of Prompts~~ "
   ]
  },
  {
   "cell_type": "code",
   "execution_count": null,
   "id": "bb4f644c-9898-41dc-a75f-dd2163264e0b",
   "metadata": {},
   "outputs": [],
   "source": [
    "# chat_prompt.save('example.json')"
   ]
  },
  {
   "cell_type": "markdown",
   "id": "0e45b1f7-6471-409a-ac45-48940765651c",
   "metadata": {},
   "source": [
    "### LangChain Document Loaders"
   ]
  },
  {
   "cell_type": "code",
   "execution_count": null,
   "id": "5ffe469a-077a-4366-9f0a-740d9bb63a21",
   "metadata": {},
   "outputs": [],
   "source": [
    "from langchain.document_loaders import CSVLoader"
   ]
  },
  {
   "cell_type": "code",
   "execution_count": null,
   "id": "6479d860-b382-4c9d-a225-086e257ba9aa",
   "metadata": {},
   "outputs": [],
   "source": [
    "# ADMIN PREP\n",
    "# FPATHS['data']['processed-nlp']['processed-reviews-with-target_json']\n",
    "fpath_llm = FPATHS['data']['app']['reviews-with-target-for-llm_csv']"
   ]
  },
  {
   "cell_type": "code",
   "execution_count": null,
   "id": "92743672-3375-43b7-b7b4-a6de3e17340f",
   "metadata": {},
   "outputs": [],
   "source": [
    "# df = pd.read_json(FPATHS['data']['processed-nlp']['processed-reviews-with-target_json'])\n",
    "df = pd.read_csv(FPATHS['data']['app']['reviews-with-target-for-llm_csv']) \n",
    "df"
   ]
  },
  {
   "cell_type": "code",
   "execution_count": null,
   "id": "85126f38-f0b5-4acd-b7e3-6ce27f56bcd8",
   "metadata": {},
   "outputs": [],
   "source": [
    "loader = CSVLoader(fpath_llm)\n",
    "\n",
    "data = loader.load()\n",
    "type(data)\n",
    "                   "
   ]
  },
  {
   "cell_type": "code",
   "execution_count": null,
   "id": "b64c1dd2-747f-499b-a759-4bfebcd682ee",
   "metadata": {},
   "outputs": [],
   "source": [
    "len(data)"
   ]
  },
  {
   "cell_type": "code",
   "execution_count": null,
   "id": "6b791758-bdd2-42cb-9764-c8c9047e4896",
   "metadata": {},
   "outputs": [],
   "source": [
    "type(data[0])"
   ]
  },
  {
   "cell_type": "code",
   "execution_count": null,
   "id": "9a25f375-d1e8-4280-a64c-4facb8b1d48e",
   "metadata": {},
   "outputs": [],
   "source": [
    "print(data[0].page_content)"
   ]
  },
  {
   "cell_type": "code",
   "execution_count": null,
   "id": "4fc08130-1c57-4263-9bbd-36fb8d84deb2",
   "metadata": {},
   "outputs": [],
   "source": [
    "print(data[0].metadata)"
   ]
  },
  {
   "cell_type": "markdown",
   "id": "5913fb96-7bf9-4a49-a86c-8e10ae502e3b",
   "metadata": {},
   "source": [
    "### Document Transformers"
   ]
  },
  {
   "cell_type": "markdown",
   "id": "aa0803d3-c384-480f-92da-f93a1e2f7141",
   "metadata": {},
   "source": [
    "> Vectorize text for documents"
   ]
  },
  {
   "cell_type": "code",
   "execution_count": null,
   "id": "3b34cc0a-56cf-4711-a873-43e82b075cb5",
   "metadata": {},
   "outputs": [],
   "source": [
    "df"
   ]
  },
  {
   "cell_type": "code",
   "execution_count": null,
   "id": "3301b718-4bf0-4ec6-a2f8-2875676b7b36",
   "metadata": {},
   "outputs": [],
   "source": [
    "import seaborn as sns"
   ]
  },
  {
   "cell_type": "code",
   "execution_count": null,
   "id": "9580b34b-adcb-433e-9ed9-cf0e6fa677c0",
   "metadata": {},
   "outputs": [],
   "source": [
    "char_count = df['review-text-full'].map(lambda x: len(x))\n",
    "sns.histplot(char_count)"
   ]
  },
  {
   "cell_type": "code",
   "execution_count": null,
   "id": "84e61c52-fe59-4822-9f4a-ba116c1e2695",
   "metadata": {},
   "outputs": [],
   "source": [
    "token_lengths = df['review-text-full'].map(lambda x: len(x.split(\" \")))\n",
    "sns.histplot(token_lengths)"
   ]
  },
  {
   "cell_type": "code",
   "execution_count": null,
   "id": "cafd4bbf-53d9-453a-bdc6-ca0fa060797d",
   "metadata": {},
   "outputs": [],
   "source": [
    "example_text = df.loc[token_lengths.idxmax(),'review-text-full']\n",
    "print(len(example_text.split(\" \")))\n",
    "example_text[:1000]"
   ]
  },
  {
   "cell_type": "code",
   "execution_count": null,
   "id": "e3b155c2-6fa7-4368-b198-4a0ce5880f35",
   "metadata": {},
   "outputs": [],
   "source": [
    "from langchain.text_splitter import CharacterTextSplitter"
   ]
  },
  {
   "cell_type": "code",
   "execution_count": null,
   "id": "a53da6ff-f7be-467e-8061-dbc739b2c3e4",
   "metadata": {},
   "outputs": [],
   "source": [
    "text_splitter = CharacterTextSplitter(separator=\"\\n\\n\",chunk_size=1000)\n",
    "text_splitter"
   ]
  },
  {
   "cell_type": "code",
   "execution_count": null,
   "id": "c12257de-3b14-4b4c-a9ae-170e8a54df30",
   "metadata": {},
   "outputs": [],
   "source": [
    "# Create documents\n",
    "texts = text_splitter.create_documents([example_text])\n",
    "type(texts)"
   ]
  },
  {
   "cell_type": "code",
   "execution_count": null,
   "id": "dc39dd78-1b9c-4615-957c-b49f4001c56c",
   "metadata": {},
   "outputs": [],
   "source": [
    "len(texts)"
   ]
  },
  {
   "cell_type": "code",
   "execution_count": null,
   "id": "25139f40-a7a1-4356-96a1-282b5819ffe1",
   "metadata": {},
   "outputs": [],
   "source": [
    "texts[0]"
   ]
  },
  {
   "cell_type": "code",
   "execution_count": null,
   "id": "a932e021-03ba-404e-bf7e-81d10e4a3ef9",
   "metadata": {},
   "outputs": [],
   "source": [
    "# OpenAI's package for tokenization (offline)\n",
    "# !pip install tiktoken"
   ]
  },
  {
   "cell_type": "code",
   "execution_count": null,
   "id": "c394e844-ff9a-4b7f-877a-48fe0205b4cc",
   "metadata": {},
   "outputs": [],
   "source": [
    "# Use split_text instead of create_documents\n",
    "text_splitter = CharacterTextSplitter.from_tiktoken_encoder(chunk_size=500)\n",
    "texts = text_splitter.split_text(example_text)\n",
    "len(texts)"
   ]
  },
  {
   "cell_type": "code",
   "execution_count": null,
   "id": "36859c4f-b06b-432e-89f1-b6357707c462",
   "metadata": {},
   "outputs": [],
   "source": [
    "texts[0]"
   ]
  },
  {
   "cell_type": "markdown",
   "id": "f027d2ed-2dcb-4b63-be6c-585a4c997ca0",
   "metadata": {},
   "source": [
    "### Creating Embeddings for Vectorized Database"
   ]
  },
  {
   "cell_type": "code",
   "execution_count": null,
   "id": "ce4d230d-c754-49aa-b0b8-a0abd89858ca",
   "metadata": {},
   "outputs": [],
   "source": [
    "from langchain_openai.embeddings import OpenAIEmbeddings"
   ]
  },
  {
   "cell_type": "code",
   "execution_count": null,
   "id": "0e66a794-47f3-46ef-91fa-492ace81a4f1",
   "metadata": {},
   "outputs": [],
   "source": [
    "embeddings =  OpenAIEmbeddings(model='text-embedding-ada-002') #default\n",
    "embeddings"
   ]
  },
  {
   "cell_type": "code",
   "execution_count": null,
   "id": "97b68515-a7d0-486f-aba9-2b1685c13f7d",
   "metadata": {},
   "outputs": [],
   "source": [
    "embedded_text = embeddings.embed_query(example_text)\n",
    "len(embedded_text)"
   ]
  },
  {
   "cell_type": "code",
   "execution_count": null,
   "id": "736a22fa-9311-419e-86e4-ba792666bc26",
   "metadata": {},
   "outputs": [],
   "source": [
    "embedded_text[:5]"
   ]
  },
  {
   "cell_type": "markdown",
   "id": "e69acaf5-e4a5-48ef-bf88-e9e6d3858564",
   "metadata": {},
   "source": [
    "## Vector Databases (Making a Chrome dB for Reviews)"
   ]
  },
  {
   "cell_type": "code",
   "execution_count": null,
   "id": "59c728c8-a26a-46b4-890e-fff2ffcfcd8c",
   "metadata": {},
   "outputs": [],
   "source": [
    "# !pip install chromadb"
   ]
  },
  {
   "cell_type": "code",
   "execution_count": null,
   "id": "84b1254d-70a6-4ea2-aa5a-09a8e43c5b3f",
   "metadata": {},
   "outputs": [],
   "source": [
    "\n",
    "from langchain.text_splitter import CharacterTextSplitter\n",
    "from langchain.vectorstores import Chroma, FAISS"
   ]
  },
  {
   "cell_type": "code",
   "execution_count": null,
   "id": "d7b849c7-018c-4ca0-b325-f1397c2ded6b",
   "metadata": {},
   "outputs": [],
   "source": [
    "# # Load Document --> Split into chunks\n",
    "# loader = CSVLoader(fpath_llm)\n",
    "# documents = loader.load()\n",
    "\n",
    "# text_splitter = CharacterTextSplitter.from_tiktoken_encoder(chunk_size=500)\n",
    "# docs = text_splitter.split_documents(documents)"
   ]
  },
  {
   "cell_type": "code",
   "execution_count": null,
   "id": "94078b84-1fb3-4031-bb1b-57d1f918c835",
   "metadata": {},
   "outputs": [],
   "source": [
    "# docs[0]"
   ]
  },
  {
   "cell_type": "code",
   "execution_count": null,
   "id": "26d9403b-0107-4517-bdcb-6a721aa93d0b",
   "metadata": {},
   "outputs": [],
   "source": [
    "fpath_db = FPATHS['data']['app']['vector-db_dir']\n",
    "fpath_db"
   ]
  },
  {
   "cell_type": "code",
   "execution_count": null,
   "id": "0b048b77-728a-4b32-96aa-184de5f7c2ce",
   "metadata": {},
   "outputs": [],
   "source": [
    "# os.makedirs(\"./app-assets/reviews-db/\", exist_ok=True)"
   ]
  },
  {
   "cell_type": "code",
   "execution_count": null,
   "id": "36eea590-b89d-4bdd-9905-52d91f760a55",
   "metadata": {},
   "outputs": [],
   "source": [
    "\n",
    "# # Use EMbedding --> embed chunks --> vectors\n",
    "# embedding_func = OpenAIEmbeddings()\n",
    "# # Vector-chuinks -> save chromadb\n",
    "\n",
    "# db = Chroma.from_documents(docs, embedding_func, persist_directory= fpath_db)#'./app-assets/reviews_db')\n",
    "# db.persist()\n",
    "\n",
    "\n",
    "# # query --> similarity search chromadb"
   ]
  },
  {
   "cell_type": "code",
   "execution_count": null,
   "id": "63b6945a-8d2e-4275-ab04-45604d17c1c9",
   "metadata": {},
   "outputs": [],
   "source": [
    "# Load from disk\n",
    "db_connection = Chroma(persist_directory=fpath_db,\n",
    "                      embedding_function=OpenAIEmbeddings())\n",
    "db_connection"
   ]
  },
  {
   "cell_type": "code",
   "execution_count": null,
   "id": "e1c7c15f-9406-4c44-8172-b363de004bbb",
   "metadata": {},
   "outputs": [],
   "source": [
    "query = \"I've tried so many other low carb noodles how does this one compare?\""
   ]
  },
  {
   "cell_type": "code",
   "execution_count": null,
   "id": "be3542f3-c345-4d24-a79d-6662899c97fa",
   "metadata": {},
   "outputs": [],
   "source": [
    "similar_docs = db_connection.similarity_search(query)\n",
    "len(similar_docs)"
   ]
  },
  {
   "cell_type": "code",
   "execution_count": null,
   "id": "6f5d638d-6b51-4946-9617-46ebb2ee4643",
   "metadata": {},
   "outputs": [],
   "source": [
    "# relelvant content\n",
    "doc_content = [doc.page_content for doc in similar_docs]\n",
    "doc_content"
   ]
  },
  {
   "cell_type": "markdown",
   "id": "7d602c99-945d-456d-a564-3f87f56b8ed0",
   "metadata": {},
   "source": [
    "### Document Retreivers"
   ]
  },
  {
   "cell_type": "markdown",
   "id": "d7dcabd3-d469-402c-b111-b8fcd8b9b488",
   "metadata": {},
   "source": [
    "> Made from vector dbs. Adds new methods (used internally)"
   ]
  },
  {
   "cell_type": "code",
   "execution_count": null,
   "id": "5bc6666c-4bf8-42e0-9f8e-6554af3bfe89",
   "metadata": {},
   "outputs": [],
   "source": [
    "retriever = db_connection.as_retriever()\n",
    "retriever"
   ]
  },
  {
   "cell_type": "code",
   "execution_count": null,
   "id": "4a04e04b-e2d0-43aa-a66d-ceec1fa2dc4a",
   "metadata": {},
   "outputs": [],
   "source": [
    "relevant_docs = retriever.get_relevant_documents(query)\n",
    "len(relevant_docs)"
   ]
  },
  {
   "cell_type": "code",
   "execution_count": null,
   "id": "0220f5c6-0ee3-495e-a15e-cfa15fbfc720",
   "metadata": {},
   "outputs": [],
   "source": [
    "## Can use MultiQueryRetreiver to make variants of initial query\n",
    "from langchain.retrievers.multi_query import MultiQueryRetriever\n",
    "from langchain_openai.chat_models import ChatOpenAI"
   ]
  },
  {
   "cell_type": "code",
   "execution_count": null,
   "id": "912bec20-560b-43cf-8b1e-87ed59a78cc7",
   "metadata": {},
   "outputs": [],
   "source": [
    "## Adding a new document\n",
    "query = \"I've tried so many other low carb noodles how does this one compare?\"\n",
    "query"
   ]
  },
  {
   "cell_type": "code",
   "execution_count": null,
   "id": "81f0fd8d-1e75-40fa-9dd1-a9ddca01d55b",
   "metadata": {},
   "outputs": [],
   "source": [
    "chat = ChatOpenAI()\n",
    "retreiever_from_llm = MultiQueryRetriever.from_llm(retriever=db_connection.as_retriever(),\n",
    "                                                  llm=chat)\n",
    "print(retreiever_from_llm)"
   ]
  },
  {
   "cell_type": "code",
   "execution_count": null,
   "id": "eb5e3000-619e-4809-9cbd-db4638899cef",
   "metadata": {},
   "outputs": [],
   "source": [
    "docs_multi_query = retreiever_from_llm.get_relevant_documents(query=query)\n",
    "len(docs_multi_query)"
   ]
  },
  {
   "cell_type": "code",
   "execution_count": null,
   "id": "4889dba2-2a45-4244-953d-a0323d610fc0",
   "metadata": {},
   "outputs": [],
   "source": [
    "docs_multi_query"
   ]
  },
  {
   "cell_type": "code",
   "execution_count": null,
   "id": "12d6bacc-7693-49e0-9c5f-5ee998c28361",
   "metadata": {},
   "outputs": [],
   "source": [
    "# relelvant content\n",
    "doc_content_multi = [doc.page_content for doc in docs_multi_query]\n",
    "doc_content_multi"
   ]
  },
  {
   "cell_type": "markdown",
   "id": "918d67ff-b9f1-40eb-8d4c-ffafed83312d",
   "metadata": {},
   "source": [
    "### Answer Compression"
   ]
  },
  {
   "cell_type": "code",
   "execution_count": null,
   "id": "1ff156da-a3f4-4824-8ea0-43c75d97fb6d",
   "metadata": {},
   "outputs": [],
   "source": [
    "from langchain.retrievers import ContextualCompressionRetriever\n",
    "from langchain.retrievers.document_compressors import LLMChainExtractor"
   ]
  },
  {
   "cell_type": "code",
   "execution_count": null,
   "id": "0880593d-52d6-4151-ba61-77940e8a84c0",
   "metadata": {},
   "outputs": [],
   "source": [
    "## Define llm \n",
    "llm = ChatOpenAI(temperature=0)\n",
    "# insert llm into an llm chain extractor\n",
    "compressor = LLMChainExtractor.from_llm(llm)\n",
    "\n",
    "# use chain extractor inside context compression extractor\n",
    "compression_retriever = ContextualCompressionRetriever(base_compressor=compressor, \n",
    "                                                      base_retriever=db_connection.as_retriever())\n",
    "compression_retriever"
   ]
  },
  {
   "cell_type": "code",
   "execution_count": null,
   "id": "8570f556-fba7-4d2f-8846-5054c5075d79",
   "metadata": {},
   "outputs": [],
   "source": [
    "query"
   ]
  },
  {
   "cell_type": "code",
   "execution_count": null,
   "id": "69c1e591-275d-429f-b567-a9c3c2174aeb",
   "metadata": {},
   "outputs": [],
   "source": [
    "normal_retriever = db_connection.as_retriever()\n",
    "normal_docs = normal_retriever.get_relevant_documents(query)\n",
    "len(normal_docs)"
   ]
  },
  {
   "cell_type": "code",
   "execution_count": null,
   "id": "b61674ad-f293-484d-a41c-90ad64494efa",
   "metadata": {},
   "outputs": [],
   "source": [
    "normal_docs[0]"
   ]
  },
  {
   "cell_type": "code",
   "execution_count": null,
   "id": "24796786-868c-4914-baf8-fd99192bfeb8",
   "metadata": {},
   "outputs": [],
   "source": [
    "compressed_docs = compression_retriever.get_relevant_documents(query)\n",
    "len(compressed_docs)"
   ]
  },
  {
   "cell_type": "code",
   "execution_count": null,
   "id": "3d2e0522-ff48-4e7d-a5b9-fac0567a3760",
   "metadata": {},
   "outputs": [],
   "source": [
    "normal_docs[0]"
   ]
  },
  {
   "cell_type": "code",
   "execution_count": null,
   "id": "37304087-1fc9-4925-9151-eceba3033831",
   "metadata": {},
   "outputs": [],
   "source": [
    "compressed_docs[0]"
   ]
  },
  {
   "cell_type": "code",
   "execution_count": null,
   "id": "1d077770-555a-43e2-aab8-cfe805ce8eba",
   "metadata": {},
   "outputs": [],
   "source": [
    "compressed_docs[0].metadata#['summary']"
   ]
  },
  {
   "cell_type": "markdown",
   "id": "42955795-77d8-4f31-ac79-528ae28cd1cb",
   "metadata": {},
   "source": [
    "### Chains"
   ]
  },
  {
   "cell_type": "code",
   "execution_count": null,
   "id": "ff8a9f0e-e307-4244-bb0c-fcd3a19bad4b",
   "metadata": {},
   "outputs": [],
   "source": [
    "from langchain.chains.question_answering import load_qa_chain\n",
    "from langchain.chains.qa_with_sources import load_qa_with_sources_chain"
   ]
  },
  {
   "cell_type": "code",
   "execution_count": null,
   "id": "d6709443-9f10-4926-a8bd-e2aed6ff7c61",
   "metadata": {},
   "outputs": [],
   "source": [
    "query"
   ]
  },
  {
   "cell_type": "code",
   "execution_count": null,
   "id": "0a50151a-3514-487d-a342-eafbd713ece6",
   "metadata": {},
   "outputs": [],
   "source": [
    "llm  = ChatOpenAI(temperature=0)\n",
    "chain  = load_qa_chain(llm, chain_type='stuff')\n",
    "question= \"I've tried so many other low carb noodles how does this one compare?\"\n",
    "relevant_docs = db_connection.as_retriever().get_relevant_documents(question)\n",
    "len(relevant_docs)"
   ]
  },
  {
   "cell_type": "code",
   "execution_count": null,
   "id": "6ef748eb-5310-49a0-a419-81d0ea5cb03f",
   "metadata": {},
   "outputs": [],
   "source": [
    "answer = chain.run(input_documents=relevant_docs, question=question)\n",
    "answer"
   ]
  },
  {
   "cell_type": "code",
   "execution_count": null,
   "id": "11ed3b6a-b35e-46ae-96b1-731ffd7263c6",
   "metadata": {},
   "outputs": [],
   "source": [
    "chain  = load_qa_with_sources_chain(llm, chain_type='stuff')\n",
    "answer = chain.run(input_documents=relevant_docs, question=question)\n",
    "answer"
   ]
  },
  {
   "cell_type": "markdown",
   "id": "a3925cd6-a449-41bd-b298-924406482b22",
   "metadata": {},
   "source": [
    "#### Memories"
   ]
  },
  {
   "cell_type": "code",
   "execution_count": null,
   "id": "2fe4e0ea-9163-4e07-a6e9-b5f616eb0b99",
   "metadata": {},
   "outputs": [],
   "source": [
    "from langchain.memory import ChatMessageHistory"
   ]
  },
  {
   "cell_type": "markdown",
   "id": "58ec8ccd-d53d-45e2-8926-0a6404c6ce6f",
   "metadata": {},
   "source": [
    "### LLMChain Object (02/24/24)\n"
   ]
  },
  {
   "cell_type": "code",
   "execution_count": null,
   "id": "ac0c37a9-59b6-44ba-8c69-84e2b468259a",
   "metadata": {},
   "outputs": [],
   "source": [
    "from langchain_openai.chat_models import ChatOpenAI\n",
    "from langchain.prompts.chat import ChatPromptTemplate, HumanMessagePromptTemplate"
   ]
  },
  {
   "cell_type": "code",
   "execution_count": null,
   "id": "1837b51e-32e4-4357-bc02-ead426e896c0",
   "metadata": {},
   "outputs": [],
   "source": [
    "human_template = \"Make up a funny name for a company that makes {product}\"\n",
    "human_prompt = HumanMessagePromptTemplate.from_template(human_template)"
   ]
  },
  {
   "cell_type": "code",
   "execution_count": null,
   "id": "15c47541-936c-4605-ae50-a14d1fdb2765",
   "metadata": {},
   "outputs": [],
   "source": [
    "chat = ChatOpenAI(temperature=0)"
   ]
  },
  {
   "cell_type": "code",
   "execution_count": null,
   "id": "89717d46-a3cd-46e6-8b88-2ec4ed5b36b4",
   "metadata": {},
   "outputs": [],
   "source": [
    "chat_prompt_template = ChatPromptTemplate.from_messages([human_prompt])"
   ]
  },
  {
   "cell_type": "code",
   "execution_count": null,
   "id": "552a584e-948e-436a-94af-ebac39ee22d6",
   "metadata": {},
   "outputs": [],
   "source": [
    "from langchain.chains import LLMChain\n",
    "# LLM Chain takes 2 args\n",
    "# llm to connect to\n",
    "# prompts for that model\n",
    "chain = LLMChain(llm=chat, prompt=chat_prompt_template)\n",
    "chain.input_keys"
   ]
  },
  {
   "cell_type": "markdown",
   "id": "df79a9e0-bb81-455a-bc93-d14a29e2f7a0",
   "metadata": {},
   "source": [
    "- Chains return  just a string"
   ]
  },
  {
   "cell_type": "code",
   "execution_count": null,
   "id": "0c093114-a8b0-4a7b-851d-b91c8d1c82e3",
   "metadata": {},
   "outputs": [],
   "source": [
    "# Use chain.invoke and pass in args for template\n",
    "result = chain.invoke(input=dict(product=\"Computers\"))\n",
    "result"
   ]
  },
  {
   "cell_type": "markdown",
   "id": "643f88b3-1e37-49b4-a85a-0c1e6f140361",
   "metadata": {},
   "source": [
    "### SimpleSequentialChain"
   ]
  },
  {
   "cell_type": "markdown",
   "id": "7c13a44e-9c3c-431c-8d2a-f8bcfe1b169b",
   "metadata": {},
   "source": [
    "- SimpleSequentialChain can only do 1 input/output"
   ]
  },
  {
   "cell_type": "code",
   "execution_count": null,
   "id": "1baa18bd-ad87-414b-b49a-214d6f95987f",
   "metadata": {},
   "outputs": [],
   "source": [
    "from langchain.chains import SimpleSequentialChain"
   ]
  },
  {
   "cell_type": "code",
   "execution_count": null,
   "id": "b8131746-8546-414b-85b0-c7a3d90e6d6a",
   "metadata": {},
   "outputs": [],
   "source": []
  },
  {
   "cell_type": "code",
   "execution_count": null,
   "id": "35d52a27-8658-4da1-bbf9-e377e390993d",
   "metadata": {},
   "outputs": [],
   "source": [
    "llm = ChatOpenAI(temperature=0)\n",
    "\n",
    "# Chain 1 - blog post outline\n",
    "template1 = \"Give me a simple bullet point outline for a blog post on {topic}\"\n",
    "first_prompt = ChatPromptTemplate.from_template(template1)\n",
    "chain_1 = LLMChain(llm=llm, prompt = first_prompt)\n",
    "\n",
    "# chain 2 -  write blog post\n",
    "template2 = \"Write a full blog post using this outline: {outline}\"\n",
    "second_prompt = ChatPromptTemplate.from_template(template2)\n",
    "chain_2 =  LLMChain(llm=llm, prompt=second_prompt)"
   ]
  },
  {
   "cell_type": "code",
   "execution_count": null,
   "id": "7c1588e4-794b-4865-89f7-1ec099dc5b2a",
   "metadata": {},
   "outputs": [],
   "source": [
    "## Create full chain\n",
    "\n",
    "full_chain = SimpleSequentialChain(chains=[chain_1, chain_2], verbose=True)\n",
    "full_chain"
   ]
  },
  {
   "cell_type": "code",
   "execution_count": null,
   "id": "6190b3cd-e798-4165-9d4d-b5a0e871cceb",
   "metadata": {},
   "outputs": [],
   "source": [
    "result = full_chain.invoke(input=\"Large Language Models\")\n",
    "result"
   ]
  },
  {
   "cell_type": "code",
   "execution_count": null,
   "id": "4759821f-db8c-420b-838a-7c9e2660670a",
   "metadata": {},
   "outputs": [],
   "source": [
    "print(result['output'])"
   ]
  },
  {
   "cell_type": "markdown",
   "id": "688ba62f-d9bd-4d7e-8745-73cde35962a7",
   "metadata": {},
   "source": [
    "### SequentialChain"
   ]
  },
  {
   "cell_type": "markdown",
   "id": "c274b713-7c80-4771-9735-fbe8f84a1a9a",
   "metadata": {},
   "source": [
    "- more than 1 input/output"
   ]
  },
  {
   "cell_type": "code",
   "execution_count": null,
   "id": "b1ffc2d1-47ec-4345-9fde-b166b1dbdba8",
   "metadata": {},
   "outputs": [],
   "source": [
    "from langchain.chains import SequentialChain, LLMChain,SimpleSequentialChain\n",
    "llm = ChatOpenAI(temperature=0)\n",
    "\n",
    "## Employee Performance Review  INPUT TEXT\n",
    "\n",
    "## review_text --> LLMCHAIN --> Summary \n",
    "template1 = \"Give a summary of this employee's performance review:\\n {review} \"\n",
    "prompt1 = ChatPromptTemplate.from_template(template1)\n",
    "chain1 = LLMChain(llm=llm, prompt=prompt1, \n",
    "                  output_key='review_summary' # Name for output saved in dict\n",
    "                                              # (MUST MATCH THE INPUT NAME FOR NEXT CHAIN!)\n",
    "                 )\n",
    "\n",
    "\n",
    "## Summary --> LLMChain --> weaknesses\n",
    "template2 = \"Identify a list of key employee weaknesses in this review summary: {review_summary}\"\n",
    "prompt2 = ChatPromptTemplate.from_template(template2)\n",
    "chain2 = LLMChain(llm=llm, prompt=prompt2,  output_key='weaknesses')\n",
    "\n",
    "\n",
    "# weaknesses --> LLMCain --> improvement plan\n",
    "template3 = \"Create a personalized plan to help address and fix these weaknesses: {weaknesses}\"\n",
    "prompt3 = ChatPromptTemplate.from_template(template3)\n",
    "chain3 = LLMChain(llm=llm, prompt=prompt3,  output_key='final_plan')"
   ]
  },
  {
   "cell_type": "code",
   "execution_count": null,
   "id": "9861e4f9-86bd-47fd-90f6-06588b4c10a1",
   "metadata": {},
   "outputs": [],
   "source": [
    "full_chain  = SequentialChain(chains=[chain1, chain2, chain3], \n",
    "                              input_variables=['review'], # very first input\n",
    "                              output_variables=['review_summary', # should match the outputs of each chain\n",
    "                                                'weaknesses', # best practice is to include all outputs\n",
    "                                                'final_plan'\n",
    "                                               ],                                               \n",
    "                              verbose=True )"
   ]
  },
  {
   "cell_type": "code",
   "execution_count": null,
   "id": "a4522a0a-ac70-444a-98b9-04d11ea5e7da",
   "metadata": {},
   "outputs": [],
   "source": [
    "from pathlib import Path\n",
    "review = Path('data/raw/fake-employee-review.md').read_text()\n",
    "review[:1000]"
   ]
  },
  {
   "cell_type": "code",
   "execution_count": null,
   "id": "39dee162-1a32-40c1-b47a-c8046ebde0e9",
   "metadata": {},
   "outputs": [],
   "source": [
    "result = full_chain.invoke(review)\n",
    "result.keys()"
   ]
  },
  {
   "cell_type": "code",
   "execution_count": null,
   "id": "1947012f-b4a1-4cef-9302-9253fa54a246",
   "metadata": {},
   "outputs": [],
   "source": [
    "# result.keys()"
   ]
  },
  {
   "cell_type": "code",
   "execution_count": null,
   "id": "c4800536-1d4e-40b6-a2d5-f74c703fd96f",
   "metadata": {},
   "outputs": [],
   "source": [
    "print(result['weaknesses'])"
   ]
  },
  {
   "cell_type": "code",
   "execution_count": null,
   "id": "9a269f70-5de0-4e46-95e5-22574b21f2a9",
   "metadata": {},
   "outputs": [],
   "source": [
    "print(result['final_plan'])"
   ]
  },
  {
   "cell_type": "code",
   "execution_count": null,
   "id": "0167daac-d50a-49ca-bcf0-9fe2b10f07dc",
   "metadata": {},
   "outputs": [],
   "source": []
  },
  {
   "cell_type": "markdown",
   "id": "95b54cee-cb69-4a17-af5a-f7024199138e",
   "metadata": {},
   "source": [
    "# Adding My Apps Usage"
   ]
  },
  {
   "cell_type": "markdown",
   "id": "2ec42375-b789-44cf-a996-cbc2afdc781a",
   "metadata": {},
   "source": [
    "- Construct message histories with my prompts?"
   ]
  },
  {
   "cell_type": "markdown",
   "id": "7c50af8e-1499-4b15-b5b1-6704b4c66e8f",
   "metadata": {},
   "source": [
    "- flavor:\n",
    "    - summary, customer\n",
    "- type (summary):\n",
    "    - What they did/didn't like\n",
    "    - recommendations for improving product\n",
    "    - recommendations for marketing\n",
    "- type (customer):\n",
    "    - low-carb, general"
   ]
  },
  {
   "cell_type": "code",
   "execution_count": null,
   "id": "9c55bf17-eaa4-468b-a263-82a3d898b161",
   "metadata": {},
   "outputs": [],
   "source": [
    "from langchain_openai.chat_models import ChatOpenAI\n",
    "from langchain_openai.embeddings import OpenAIEmbeddings\n",
    "from langchain.text_splitter import CharacterTextSplitter\n",
    "from langchain.vectorstores import Chroma#, FAISS\n",
    "from langchain.memory import ChatMessageHistory, ConversationSummaryBufferMemory, ConversationBufferMemory\n",
    "from langchain.chains import ConversationChain\n",
    "from langchain.schema import HumanMessage, AIMessage, SystemMessage\n",
    "from langchain.prompts import PromptTemplate, ChatPromptTemplate, SystemMessagePromptTemplate, AIMessagePromptTemplate, HumanMessagePromptTemplate"
   ]
  },
  {
   "cell_type": "code",
   "execution_count": null,
   "id": "e3c07117-4fd1-4ca9-9cc4-23a76f0b9c2d",
   "metadata": {},
   "outputs": [],
   "source": [
    "# chat_history = ChatMessageHistory(messages=[])\n",
    "# chat_history"
   ]
  },
  {
   "cell_type": "code",
   "execution_count": null,
   "id": "af5030a7-27ac-4f75-8f58-07c1118b3020",
   "metadata": {},
   "outputs": [],
   "source": [
    "## Set up conversation chain with memory\n",
    "\n",
    "llm = OpenAI()\n",
    "memory = ConversationBufferMemory()\n",
    "conversation = ConversationChain(llm=llm, \n",
    "                                 memory=memory,\n",
    "                                 verbose=True)"
   ]
  },
  {
   "cell_type": "code",
   "execution_count": null,
   "id": "57cf5742-d331-423c-84de-e6c778b986ac",
   "metadata": {},
   "outputs": [],
   "source": [
    "from langchain.schema import AIMessage, HumanMessage, SystemMessage\n"
   ]
  },
  {
   "cell_type": "code",
   "execution_count": null,
   "id": "d01ae97b-c985-432a-a365-418e9cfc62c5",
   "metadata": {},
   "outputs": [],
   "source": [
    "# PromptTemplate()"
   ]
  },
  {
   "cell_type": "code",
   "execution_count": null,
   "id": "2f6d6eac-6da6-4a2e-b990-870df1c15ae9",
   "metadata": {},
   "outputs": [],
   "source": [
    "# ChatPromptTemplate()"
   ]
  },
  {
   "cell_type": "code",
   "execution_count": null,
   "id": "9ba0030d-bbeb-414f-a5d0-f019c60ba5e7",
   "metadata": {},
   "outputs": [],
   "source": [
    "flavor_options = {\n",
    "    \"Summary(General)\": \"You are a helpful data scientist presenting your findings to a non-technical CEO to summarize what customers do and do not like.\",\n",
    "    # \"Summary(Bartender)\": \"You are a charming and emotionally intelligent bartender who gives great advice. You annotate your physical actions with new lines and asterisks as you answer. Act as helpful assistant who uses ngrams from product reviews to summarize that customers do and do not like.\",\n",
    "    \"Customer (Low Carb/Gluten Free)\": \"You are an average American low-carb-diet or gluten-free consumer. You're used to how different non-traidtional grains and pastas can be.\",\n",
    "    \"Customer (General)\":  \"You are an average American consumer who does not follow a special diet. You are used to traditional grains and pastas.\"\n",
    "}\n",
    "\n",
    "selected_flavor = \"Summary(General)\"\n",
    "assistant_type = flavor_options[selected_flavor]\n",
    "assistant_type\n",
    "\n",
    "# flavor_messages  = {}\n",
    "# for name, prompt in flavor_options.items():\n",
    "#     flavor_messages[name] = [SystemMessage(prompt)]\n",
    "# ]"
   ]
  },
  {
   "cell_type": "code",
   "execution_count": null,
   "id": "177855ae-5eb6-4ebb-91e2-f278e667555c",
   "metadata": {},
   "outputs": [],
   "source": [
    "\n",
    "def create_conversation(assistant_type,):\n",
    "    # Add the rest of the prompt\n",
    "    template_starter = assistant_type\n",
    "    template = template_starter + \"\"\"\n",
    "    Current conversation:\n",
    "    {history}\n",
    "    Human: {input}\n",
    "    AI Assistant:\"\"\"\n",
    "    llm = ChatOpenAI(temperature=0)\n",
    "    PROMPT = PromptTemplate(input_variables=[\"history\", \"input\"], template=template)\n",
    "    conversation = ConversationChain(\n",
    "        prompt=PROMPT,\n",
    "        llm=llm,\n",
    "        verbose=True,\n",
    "        memory=ConversationBufferMemory(ai_prefix=\"AI Assistant\"), #SummaryMemory?\n",
    "    )\n",
    "\n",
    "    return conversation\n",
    "\n",
    "conversation = create_conversation(flavor_options['Summary(General)'])\n",
    "conversation"
   ]
  },
  {
   "cell_type": "code",
   "execution_count": null,
   "id": "fcd86185-3366-4ea2-8a3a-13f02d4d513c",
   "metadata": {},
   "outputs": [],
   "source": [
    "conversation.memory.buffer_as_messages"
   ]
  },
  {
   "cell_type": "code",
   "execution_count": null,
   "id": "94ed5f94-6aef-4c2e-bd51-87ff567e8eb3",
   "metadata": {},
   "outputs": [],
   "source": [
    "# question = \"Based \""
   ]
  },
  {
   "cell_type": "code",
   "execution_count": null,
   "id": "89a61d80-6d99-4c04-9f57-00b4bcc90cba",
   "metadata": {},
   "outputs": [],
   "source": [
    "# response=st.session_state['conversation'].predict(input=query)\n"
   ]
  },
  {
   "cell_type": "code",
   "execution_count": null,
   "id": "1061bf2d-3e13-4fa7-819e-46e862d997dc",
   "metadata": {},
   "outputs": [],
   "source": [
    "\n",
    "# def set_conversation_flavor(llm,flavor_name):\n",
    "#     # Select the correct prompt from the dictionary of options\n",
    "#     flavor= flavor_options[flavor_name]\n",
    " \n",
    "#     # Use an f-string to constuct the new start of prompt\n",
    "#     flavor_text = f\"{assistant_type}\"\n",
    "#     # Add the rest of the prompt\n",
    "#     template = flavor_text + \"\"\"\n",
    "#     Current conversation:\n",
    "#     {history}\n",
    "#     Human: {input}\n",
    "#     AI Assistant:\"\"\"\n",
    "#     PROMPT = PromptTemplate(input_variables=[\"assistant_type\",\"history\", \"input\"], template=template)\n",
    "#     conversation = ConversationChain(\n",
    "#         prompt=PROMPT,\n",
    "#         llm=llm,\n",
    "#         verbose=True,\n",
    "#         memory=ConversationBufferMemory(ai_prefix=\"AI Assistant\"), #SummaryMemory?\n",
    "#     )\n",
    "#     return conversation\n"
   ]
  },
  {
   "cell_type": "code",
   "execution_count": null,
   "id": "222e0727-3395-4be4-9924-337e495307e9",
   "metadata": {},
   "outputs": [],
   "source": [
    "messages  = [\n",
    "    SystemMessage(content=\"You are a data scientist presenting your findings to a non-technical CEO.\"),\n",
    "    # HumanMessage()\n",
    "]\n",
    "result = chat.generate()"
   ]
  },
  {
   "cell_type": "code",
   "execution_count": null,
   "id": "263be1f4-8143-4765-a54d-e8205cc77a11",
   "metadata": {},
   "outputs": [],
   "source": [
    "# ngrams_df = "
   ]
  },
  {
   "cell_type": "markdown",
   "id": "51558fd3-0d27-49a8-a3df-f2a5dbdfa293",
   "metadata": {},
   "source": [
    "## Models App"
   ]
  },
  {
   "cell_type": "markdown",
   "id": "3ffd274b-2a8f-4d33-96a1-10d4e7197618",
   "metadata": {},
   "source": [
    "# PREVIOUS WORK"
   ]
  },
  {
   "cell_type": "markdown",
   "id": "3c641ec8-fa43-4add-a7a7-d0798d943f52",
   "metadata": {},
   "source": [
    "## ChatGPT Interpretation - Using ngrams"
   ]
  },
  {
   "cell_type": "code",
   "execution_count": null,
   "id": "df5acb91-8c7b-428f-9522-88487af1b7d8",
   "metadata": {},
   "outputs": [],
   "source": [
    "# import time,os\n",
    "# # from streamlit_chat\n",
    "\n",
    "# ## LLM Classes \n",
    "# from langchain_openai import OpenAI\n",
    "# # from langchain_openai.chat_models import ChatOpenAI\n",
    "# from langchain.chains import ConversationChain\n",
    "# from langchain.schema import HumanMessage, SystemMessage, AIMessage\n",
    "\n",
    "\n",
    "# ## Memory Modules\n",
    "# from langchain.chains.conversation.memory import (ConversationBufferMemory, \n",
    "#                                                   ConversationSummaryBufferMemory,\n",
    "#                                                   ConversationBufferWindowMemory,\n",
    "#                                                   ConversationSummaryMemory)\n",
    "# # Template for changing conversation chain's \"flavor\"\n",
    "# from langchain.prompts.prompt import PromptTemplate\n"
   ]
  },
  {
   "cell_type": "code",
   "execution_count": null,
   "id": "0bceb7dc-6922-4e38-a10c-8c26b825d0bb",
   "metadata": {},
   "outputs": [],
   "source": [
    "# from PIL import Image\n",
    "# # img = Image.open('images/OpenAI_Logo.svg')\n",
    "# img"
   ]
  },
  {
   "cell_type": "code",
   "execution_count": null,
   "id": "cc91edec-b3cd-4b85-a7f0-3153043bf8ff",
   "metadata": {},
   "outputs": [],
   "source": [
    "# # Create required session_state containers\n",
    "# if 'messages' not in st.session_state:\n",
    "#     st.session_state.messages=[]\n",
    "    \n",
    "# if 'API_KEY' not in st.session_state:\n",
    "#     st.session_state['API_KEY'] = os.environ['OPENAI_API_KEY'] # Could have user paste in via sidebar\n",
    "\n",
    "# if 'conversation' not in st.session_state:\n",
    "#     st.session_state['conversation'] = None\n"
   ]
  },
  {
   "cell_type": "code",
   "execution_count": null,
   "id": "1dee288c-0455-49d6-a92f-74fb36c1d5ca",
   "metadata": {},
   "outputs": [],
   "source": [
    "# def reset():\n",
    "#     if 'messages' in st.session_state:\n",
    "#         st.session_state.messages=[]\n",
    "\n",
    "#     if 'conversation' in st.session_state:\n",
    "#         st.session_state['conversation'] = None\n"
   ]
  },
  {
   "cell_type": "code",
   "execution_count": null,
   "id": "5117e1c8-30e0-4604-9762-289376fd4040",
   "metadata": {},
   "outputs": [],
   "source": [
    "def get_response(query):\n",
    "    \n",
    "    if st.session_state['conversation'] is None:\n",
    "        llm = OpenAI(max_tokens=500,\n",
    "            openai_api_key=st.session_state['API_KEY'],\n",
    "               temperature=float(temp),\n",
    "            model_name='gpt-3.5-turbo-instruct'  # 'text-davinci-003' model is depreciated now, so we are using the openai's recommended model\n",
    "        )\n",
    "  \n",
    "    \n",
    "    if st.session_state['conversation'] is None:\n",
    "        st.session_state['conversation'] = set_conversation_flavor(llm,flavor_name=flavor)\n",
    "\n",
    "    response=st.session_state['conversation'].predict(input=query)\n",
    "    # st.session_state['messages'].append()\n",
    "    print(st.session_state['conversation'].memory.buffer)\n",
    "\n",
    "    return response\n",
    "    # return show_history()\n",
    "\n",
    "\n",
    "\n",
    "def set_conversation_flavor(llm,flavor_name):\n",
    "    # Select the correct prompt from the dictionary of options\n",
    "    flavor= flavor_options[flavor_name]\n",
    " \n",
    "    # Use an f-string to constuct the new start of prompt\n",
    "    flavor_text = f\"The following is a conversation between a human and an assistant. The assistant is {flavor}.\"\n",
    "    # Add the rest of the prompt\n",
    "    template = flavor_text + \"\"\"\n",
    "    Current conversation:\n",
    "    {history}\n",
    "    Human: {input}\n",
    "    AI {flavor}:\"\"\"\n",
    "    PROMPT = PromptTemplate(input_variables=[\"flavor\",\"history\", \"input\"], template=template)\n",
    "    conversation = ConversationChain(\n",
    "        prompt=PROMPT,\n",
    "        llm=llm,\n",
    "        verbose=True,\n",
    "        memory=ConversationBufferMemory(ai_prefix=\"AI Assistant\"), #SummaryMemory?\n",
    "    )\n",
    "    return conversation"
   ]
  },
  {
   "cell_type": "code",
   "execution_count": null,
   "id": "0fe3ad5f-b85c-4233-b413-a8cf0f58a914",
   "metadata": {},
   "outputs": [],
   "source": [
    "flavor_options = {\n",
    "    \"Summary(General)\": \"a helpful data analyst who uses ngrams from product reviews to summarize that customers do and do not like.\",\n",
    "    \"Summary(Bartender)\": \" a charming and emotionally intelligent bartender who gives great advice. You annotate your physical actions with new lines and asterisks as you answer. Act as helpful assistant who uses ngrams from product reviews to summarize that customers do and do not like.\",\n",
    "    \"Customer (Low Carb/Gluten Free)\": \"a typical consumer who follows a low carb diet and has gluten sensitivity. You know what things you like in your food products.\",\n",
    "    \"Customer (Genercal)\":  \"a typical consumer who does not follow a special diet and enjoys eating gluten-containing foods. You know what things you like in your food products.\",\n",
    "}"
   ]
  },
  {
   "cell_type": "code",
   "execution_count": null,
   "id": "8325d8a8-a48d-4563-b1bd-176e5f4b78ba",
   "metadata": {},
   "outputs": [],
   "source": [
    "flavor_name = st.sidebar.selectbox(\"Which type of chatbot?\", key='no_reset',options=list(flavor_options.keys()), index=0,)\n",
    "temp=st.sidebar.slider(\"model temperature:\",min_value=0.0, max_value=2.0, value=0.7, step=.1)\n",
    "\n",
    "llm = OpenAI(max_tokens=1000,\n",
    "        openai_api_key=os.environ['OPENAI_API_KEY'],\n",
    "           temperature=float(temp),\n",
    "        model_name='gpt-3.5-turbo-instruct'\n",
    "    )\n",
    "\n",
    "# Select the correct prompt from the dictionary of options\n",
    "flavor= flavor_options[flavor_name]\n",
    "\n",
    "# Use an f-string to constuct the new start of prompt\n",
    "flavor_text = f\"The following is a conversation between a human and an assistant. The assistant is {flavor}.\"\n",
    "# Add the rest of the prompt\n",
    "template = flavor_text + \"\"\"\n",
    "Current conversation:\n",
    "{history}\n",
    "Human: {input}\n",
    "ChatGPT:\"\"\"\n",
    "PROMPT = PromptTemplate(input_variables=[\"flavor\",\"history\", \"input\"], template=template)\n",
    "conversation = ConversationChain(\n",
    "    prompt=PROMPT,\n",
    "    llm=llm,\n",
    "    verbose=True,\n",
    "    memory=ConversationBufferMemory(ai_prefix=\"ChatGPT\"), #SummaryMemory?\n",
    ")\n",
    "\n"
   ]
  },
  {
   "cell_type": "code",
   "execution_count": null,
   "id": "ee3ceb49-eb61-49db-a90e-1fc73a5d376f",
   "metadata": {},
   "outputs": [],
   "source": [
    "def format_ngrams_for_chat(top_n_group_ngrams):\n",
    "        \n",
    "    string_table = []\n",
    "    \n",
    "    for group_name in top_n_group_ngrams.columns.get_level_values(0).unique():\n",
    "        print(group_name)\n",
    "        group_df = top_n_group_ngrams[group_name].copy()\n",
    "        group_df['Rating Group'] = group_name \n",
    "        group_df = group_df.set_index(\"Rating Group\")\n",
    "        string_table.append(group_df)\n",
    "        # string_table.append((group_df.values))\n",
    "    return pd.concat(string_table)"
   ]
  },
  {
   "cell_type": "code",
   "execution_count": null,
   "id": "59ed4848-38fc-412e-8c24-5809032e1491",
   "metadata": {},
   "outputs": [],
   "source": [
    "## Special form of ngrams for chatgpt\n",
    "chatgpt_stopwords = [*stopwords_list, 'angel','hair','miracle','noodle','shirataki','pasta']\n",
    "top_n_group_ngrams = fn.show_ngrams(df, top_n=25,ngrams=4, text_col_selection='review-text-full',\n",
    "                                     stopwords_list=chatgpt_stopwords)\n",
    "md_table = format_ngrams_for_chat(top_n_group_ngrams)\n",
    "table_message = f\"Heres a table of the most common ngrams from Low Rating reviews and high rating reviews. ```{md_table}```\" # Please give me a summary list of what customers liked  and did not like about the product.\"\n"
   ]
  },
  {
   "cell_type": "code",
   "execution_count": null,
   "id": "0de3e37d-4b05-4d83-b1ec-40ec67b7f442",
   "metadata": {},
   "outputs": [],
   "source": [
    "# top_n_group_ngrams = fn.show_ngrams(df, top_n=25,ngrams=4, text_col_selection='review-text-full',\n",
    "#                                      stopwords_list=chatgpt_stopwords)\n",
    "# md_table = format_ngrams_for_chat(top_n_group_ngrams)"
   ]
  },
  {
   "cell_type": "markdown",
   "id": "7afe5e6b-4309-4fd4-82d7-7cf4bee51f90",
   "metadata": {},
   "source": [
    "- Make this message below (wtihout the question). one of the pre-filled in human messages."
   ]
  },
  {
   "cell_type": "code",
   "execution_count": null,
   "id": "8e0c0ff1-47dd-4256-9632-708f5e533f8c",
   "metadata": {},
   "outputs": [],
   "source": [
    "conversation.memory.buffer"
   ]
  },
  {
   "cell_type": "code",
   "execution_count": null,
   "id": "299c2583-94b9-4caf-a47d-4ab5dcd66b47",
   "metadata": {},
   "outputs": [],
   "source": [
    "conversation.input_keys"
   ]
  },
  {
   "cell_type": "code",
   "execution_count": null,
   "id": "8eac90ef-4feb-4ab4-9ca0-db5ad64d7bc7",
   "metadata": {},
   "outputs": [],
   "source": [
    "table_message = f\"Heres a table of the most common ngrams from Low Rating reviews and high rating reviews. ```{md_table}```\"\n",
    "conversation.prep_inputs(table_message)"
   ]
  },
  {
   "cell_type": "code",
   "execution_count": null,
   "id": "0f189c9d-b57f-44e3-8f1d-39bdffb73c2c",
   "metadata": {},
   "outputs": [],
   "source": [
    "question = \"Please give me a summary list of what customers liked  and did not like.\"\n",
    "# resp = conversation.invoke(question)\n",
    "# resp = conversation.predict(input=question)\n",
    "\n",
    "# print(resp['response'])"
   ]
  },
  {
   "cell_type": "code",
   "execution_count": null,
   "id": "eabba697-e63f-4c73-a5d7-001ed57da69f",
   "metadata": {},
   "outputs": [],
   "source": [
    "# resp"
   ]
  },
  {
   "cell_type": "code",
   "execution_count": null,
   "id": "4f812eea-05d4-454a-b6e7-1dd35ac96b96",
   "metadata": {},
   "outputs": [],
   "source": [
    "# question = f\"Heres a table of the most common ngrams from Low Rating reviews and high rating reviews. ```{md_table}``` Please give me a summary list of what customers liked  and did not like about the product.\"\n",
    "# resp = conversation.invoke(question)\n",
    "\n",
    "# print(resp['response'])"
   ]
  },
  {
   "cell_type": "code",
   "execution_count": null,
   "id": "f610e20e-6a9d-4731-9270-6af692da7c85",
   "metadata": {},
   "outputs": [],
   "source": [
    "# list(conversation.memory"
   ]
  },
  {
   "cell_type": "code",
   "execution_count": null,
   "id": "bbe3c29a-a9ee-4efc-9c20-01724189db5f",
   "metadata": {},
   "outputs": [],
   "source": [
    "# print(resp['response'])"
   ]
  },
  {
   "cell_type": "code",
   "execution_count": null,
   "id": "2f172647-8396-4917-965a-b80c65e012c6",
   "metadata": {},
   "outputs": [],
   "source": [
    "# \"\\n\".join(string_table)"
   ]
  },
  {
   "cell_type": "code",
   "execution_count": null,
   "id": "fa68da44-f565-4f9b-b51d-1401c5522cce",
   "metadata": {},
   "outputs": [],
   "source": [
    "# csv_vals_Low = top_100_group_ngrams['Low'].to_csv()"
   ]
  },
  {
   "cell_type": "code",
   "execution_count": null,
   "id": "d0d1ba6a-0745-4eea-af5e-8b0c5e19e032",
   "metadata": {
    "scrolled": true
   },
   "outputs": [],
   "source": [
    "# conversation.predict?"
   ]
  },
  {
   "cell_type": "code",
   "execution_count": null,
   "id": "ed75f3ec-b46a-46d4-92b8-f77546b76fcd",
   "metadata": {},
   "outputs": [],
   "source": []
  }
 ],
 "metadata": {
  "kernelspec": {
   "display_name": "Python 3 (ipykernel)",
   "language": "python",
   "name": "python3"
  },
  "language_info": {
   "codemirror_mode": {
    "name": "ipython",
    "version": 3
   },
   "file_extension": ".py",
   "mimetype": "text/x-python",
   "name": "python",
   "nbconvert_exporter": "python",
   "pygments_lexer": "ipython3",
   "version": "3.11.9"
  }
 },
 "nbformat": 4,
 "nbformat_minor": 5
}
