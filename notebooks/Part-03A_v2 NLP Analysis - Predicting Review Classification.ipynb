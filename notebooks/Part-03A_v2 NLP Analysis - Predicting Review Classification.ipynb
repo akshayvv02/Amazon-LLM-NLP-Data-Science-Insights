{
 "cells": [
  {
   "cell_type": "markdown",
   "id": "872cec8d-8ea5-4231-808b-79dfab5a2e4f",
   "metadata": {},
   "source": [
    "# DEPRECATED - Code was combined with Part-04A \n"
   ]
  },
  {
   "cell_type": "markdown",
   "id": "19d2b7bf-17d9-43d5-bb17-b6ff81ca6108",
   "metadata": {},
   "source": [
    "# Part 6 - Predicting Review Classifications"
   ]
  },
  {
   "attachments": {},
   "cell_type": "markdown",
   "id": "1be9f244-9a66-4989-b256-f04c9c6c41e7",
   "metadata": {},
   "source": [
    "## Tasks\n",
    "For this part of the project, you will using machine learning and deep NLP to classify the reviews.\n",
    "### Repo Prep\n",
    "\n",
    "\n",
    "- Create a `\"Models/\"` folder in your project repository, with the following sub-folders: \n",
    "    - `\"Models/ml/\"`. You will save your sklearn model pipelines here for later use in deployment.\n",
    "    - `\"Models/nn/\"`. You will save your tensorflow models here for later use in deployment.\n",
    "- Add new subfolders to your \"Data-NLP/\"\" folder.\n",
    "    - Specifically, create:\n",
    "        - `\"Data-NLP/ml/\"` folder. We will save your training and test data (X_train,y_train) for later use in deployment.\n",
    "        - `\"Data-NLP/nn/\"` folder.  We will save your training and test Tensorflow datasets for later use in deployment.\n",
    "     \n",
    "\n",
    "    \n",
    "- Create a new notebook for Part 6 - Review Classification for this part of the project. \n",
    "\n",
    "### Load the Data\n",
    "\n",
    "- Load the joblib containing the dataframe from Part 5 of the project.\n",
    "- Use the original review column as X and the classiifcation target (High/Low Rating Reviews) as y.\n",
    "\n",
    "___\n",
    "\n",
    "## Machine Learning\n",
    "For this project, you will use modeling pipelines with the text vectorizer and model in the same pipeline. This will make it very easy to use save and load the models to use in a deployed application.\n",
    "\n",
    "\n",
    "### Create a Text Vectorizer\n",
    "- Select an sklearn vectorizer to for your task.\n",
    "    - Remember to consider your preprocessing choices like using stopwords, using ngrams, etc.\n",
    "\n",
    "### Build a Machine Learning Model\n",
    "\n",
    "- Build an sklearn modeling pipeline with a text vectorizer and a classification model.\n",
    "    - Suggested Models: MultinomialNB, LogisticRegression, RandomForestClassifier \n",
    "\n",
    "- Fit and evaluate the model using the machine learning classification models from sklearn.\n",
    "    - In a Markdown cell, document your observations from your results. (e.g. how good is the model overall? Is it particularly good/bad at predicting one class?)\n",
    "\n",
    "\n",
    "### GridSearch Text Vectorization \n",
    "Attempt to improve on yourm model by tuning the text preprocessing steps. \n",
    "\n",
    "- Construct a grid of parameters for the text vectorization step. Consider trying:\n",
    "    - CountVectorizer/TfidfVectorizer\n",
    "    - stopwords\n",
    "    - ngram_range\n",
    "    - min_df/max_df\n",
    "\n",
    "- Fit and evaluate the gridsearch results:\n",
    "    - What were the best parameters?\n",
    "    - How does the best estimator perform when evaluated on the training and test data?\n",
    " \n",
    "\n",
    "### Save the Best Model and Train/Test Data  as Joblibs\n",
    "\n",
    "- Save your overall best model pipeline as the only variable in a .joblib file in your new Models/ folder. (e.g. \"Models/ml/best-clf-logreg.joblib\")\n",
    "\n",
    "- Save a list containing `[X_train, y_train]` as `\"Data-NLP/ml/train-data.joblib\"`\n",
    "- Save a list containing `[X_test,y_test]`  as `\"Data-NLP/ml/test-data.joblib\"`\n",
    "\n",
    "\n",
    "____\n",
    "\n",
    "## Deep NLP (RNNs)\n",
    "For this part of the project, you will use a Keras TextVectorization layer as part of your RNN model. This serves the same purpose as using the sklearn pipeline: it bundles text preparation into the model itself, making it deployment-ready.\n",
    "\n",
    " \n",
    "###  Create train/test/val datasets\n",
    "- Convert the target categories to integers (e.g. Using sklearn's LabelEncoder) \n",
    "- Create a tensorflow dataset using the X and  (integer version) of y.\n",
    "- Split the dataset into a training, test, and validation datasets.\n",
    "\n",
    "### Create a Keras Text Vectorization layer\n",
    "- Create a keras text vectorization layer to use in an RNN (sequence) model.\n",
    "- Fit/Adapt the text vectorization layer on the training texts.\n",
    "- Save the vocabulary size from layer to use in your models' Embedding layer.\n",
    "\n",
    "\n",
    "### Build an RNN with the TextVectorization Layer\n",
    "- Build and fit at least 1 sequence model (LSTM, GRU, Bidirectional, etc)\n",
    "- Evalaute the model on the training and trest data.\n",
    "    - In a Markdown cell, document your observations from your results. (e.g. How did the RNN compare to your ML model? Was it superior to your ML model in some way (e.g. accuracy, recall, etc.)\n",
    "\n",
    "\n",
    "### Save your best RNN model and Tensforflow Datasets\n",
    "\n",
    "- Save your best neural network in a subfolder inside your `\"Models/nn/` folder. (e.g. \"Models/nn/lstm/\")\n",
    "    - Reminder: use safe_format='tf' to save the model in a folder of repo-friendly files. \n",
    "\n",
    "- Save your training and test Tensorflow dataset objects in \"Data/nn/\":\n",
    "    - Save your training dataset object as `\"Data-NLP/nn/train/\"`\n",
    "    - Save your test dataset object  as `\"Data-NLP/nn/test/\"`\"\n",
    "\n",
    "\n",
    "\n",
    "\n"
   ]
  },
  {
   "cell_type": "code",
   "execution_count": null,
   "id": "05a031f3-07ca-46ff-8de3-6ce9ea210c33",
   "metadata": {},
   "outputs": [],
   "source": []
  },
  {
   "cell_type": "markdown",
   "id": "1d3ab03b-8216-4041-a7bf-f54cfa92dcfc",
   "metadata": {},
   "source": [
    "# Code"
   ]
  },
  {
   "cell_type": "code",
   "execution_count": 1,
   "id": "ea12c615-236c-4bbb-9119-82ee21d84338",
   "metadata": {
    "execution": {
     "iopub.execute_input": "2024-02-09T02:41:02.502892Z",
     "iopub.status.busy": "2024-02-09T02:41:02.502790Z",
     "iopub.status.idle": "2024-02-09T02:41:05.383836Z",
     "shell.execute_reply": "2024-02-09T02:41:05.383518Z",
     "shell.execute_reply.started": "2024-02-09T02:41:02.502882Z"
    }
   },
   "outputs": [],
   "source": [
    "## Run code to get reproducible results BEFORE anything else\n",
    "import tensorflow as tf\n",
    "import numpy as np\n",
    "\n",
    "# Then Set Random Seeds\n",
    "tf.keras.utils.set_random_seed(42)\n",
    "tf.random.set_seed(42)\n",
    "np.random.seed(42)\n",
    "\n",
    "# Then run the Enable Deterministic Operations Function\n",
    "tf.config.experimental.enable_op_determinism()\n",
    "\n",
    "# Source: https://discuss.tensorflow.org/t/upgrading-os-to-sonoma-on-my-mac-causing-tensorflow-errors/19846/5\n",
    "tf.config.set_visible_devices([], 'GPU')"
   ]
  },
  {
   "cell_type": "code",
   "execution_count": 2,
   "id": "787eb7c0-3882-4a7a-af8b-9e5359690c98",
   "metadata": {
    "execution": {
     "iopub.execute_input": "2024-02-09T02:41:05.385151Z",
     "iopub.status.busy": "2024-02-09T02:41:05.384945Z",
     "iopub.status.idle": "2024-02-09T02:41:05.389913Z",
     "shell.execute_reply": "2024-02-09T02:41:05.389608Z",
     "shell.execute_reply.started": "2024-02-09T02:41:05.385141Z"
    }
   },
   "outputs": [
    {
     "data": {
      "text/plain": [
       "{'raw': {'large-metadata': 'data/raw/meta_Grocery_and_Gourmet_Food.json.gz',\n",
       "  'large-reviews': 'data/raw/Grocery_and_Gourmet_Food.json.gz',\n",
       "  'split-metadata_dict': {'dir': 'data/raw-split/',\n",
       "   'glob': 'data/raw-split/*meta*part*'},\n",
       "  'split-reviews_dict': {'dir': 'data/raw-split/',\n",
       "   'glob': 'data/raw-split/*review*part*'}},\n",
       " 'cleaned': {'reviews-by-years_dict': {'dir': 'data/reviews-by-year/',\n",
       "   'glob': 'data/reviews-by-year/*.*'},\n",
       "  'metadata_csv-gz': 'data/metadata/amazon-metadata-groceries-combined.csv.gz',\n",
       "  'asin-id-title-dict_json': 'data/metadata/amazon-groceries-asin-titles-lookup.json'},\n",
       " 'subset': {'reviews-subset_most-commonly-reviewed_csv': 'data/subset/amazon-reviews-subset-grocery-most-common-products.csv.gz',\n",
       "  'reviews-subset_selected-brand_csv': 'data/subset/amazon-reviews-subset-brand-Miracle Noodle.csv',\n",
       "  'metadata_csv': 'data/subset/amazon-metadata-subset-grocery-most-common-products.csv.gz'},\n",
       " 'processed-nlp': {'processed-reviews-spacy_json': 'data/processed/processed-reviews.json',\n",
       "  'processed-reviews-spacy_joblib': 'data/processed/processed-reviews.joblib',\n",
       "  'processed-reviews-with-target_json': 'data/processed/processed-reviews-witht-target.json'},\n",
       " 'app': {},\n",
       " 'ml-nlp': {'train_joblib': 'data/modeling/training-data.joblib',\n",
       "  'test_joblib': 'data/modeling/testing-data.joblib'},\n",
       " 'nn': {'train_dir': 'data/modeling/training-data-tf/',\n",
       "  'test_dir': 'data/modeling/testing-data-tf/'}}"
      ]
     },
     "execution_count": 2,
     "metadata": {},
     "output_type": "execute_result"
    }
   ],
   "source": [
    "import json\n",
    "with open(\"config/filepaths.json\") as f:\n",
    "    FPATHS = json.load(f)\n",
    "FPATHS['data']"
   ]
  },
  {
   "cell_type": "code",
   "execution_count": 3,
   "id": "0b3851b2-a17a-4c11-a7f7-bb6a53b4bdcb",
   "metadata": {
    "execution": {
     "iopub.execute_input": "2024-02-09T02:41:05.390528Z",
     "iopub.status.busy": "2024-02-09T02:41:05.390424Z",
     "iopub.status.idle": "2024-02-09T02:41:05.423238Z",
     "shell.execute_reply": "2024-02-09T02:41:05.422899Z",
     "shell.execute_reply.started": "2024-02-09T02:41:05.390519Z"
    }
   },
   "outputs": [],
   "source": [
    "%load_ext autoreload\n",
    "%autoreload 2\n",
    "\n",
    "# import project_functions as fn\n",
    "# import custom_functions as fn"
   ]
  },
  {
   "cell_type": "code",
   "execution_count": 4,
   "id": "4cf7c3b8-c5a5-4083-a30d-b3613351b374",
   "metadata": {
    "execution": {
     "iopub.execute_input": "2024-02-09T02:41:05.423832Z",
     "iopub.status.busy": "2024-02-09T02:41:05.423735Z",
     "iopub.status.idle": "2024-02-09T02:41:09.419830Z",
     "shell.execute_reply": "2024-02-09T02:41:09.419465Z",
     "shell.execute_reply.started": "2024-02-09T02:41:05.423824Z"
    }
   },
   "outputs": [
    {
     "data": {
      "text/plain": [
       "'1.0.9'"
      ]
     },
     "execution_count": 4,
     "metadata": {},
     "output_type": "execute_result"
    }
   ],
   "source": [
    "!pip install -U dojo_ds -q\n",
    "import dojo_ds as ds\n",
    "ds.__version__"
   ]
  },
  {
   "cell_type": "code",
   "execution_count": 5,
   "id": "26d88c34-b7e5-4991-9268-e6352dc0f0fa",
   "metadata": {
    "execution": {
     "iopub.execute_input": "2024-02-09T02:41:09.420624Z",
     "iopub.status.busy": "2024-02-09T02:41:09.420516Z",
     "iopub.status.idle": "2024-02-09T02:41:09.496426Z",
     "shell.execute_reply": "2024-02-09T02:41:09.496108Z",
     "shell.execute_reply.started": "2024-02-09T02:41:09.420615Z"
    }
   },
   "outputs": [],
   "source": [
    "import os\n",
    "import matplotlib.pyplot as plt\n",
    "import missingno\n",
    "import matplotlib as mpl\n",
    "import seaborn as sns\n",
    "import numpy as np\n",
    "import pandas as pd\n",
    "import joblib\n",
    "\n",
    "# fav_style = ('ggplot','fivethirtyeight')\n",
    "# plt.style.use(fav_style)\n",
    "fav_context  ={'context':'notebook', 'font_scale':1.1}\n",
    "\n",
    "sns.set_context(**fav_context)\n",
    "plt.rcParams['savefig.transparent'] = False\n",
    "plt.rcParams['savefig.bbox'] = 'tight'\n",
    "\n",
    "\n",
    "\n",
    "\n",
    "\n",
    "## Making New Folders \n",
    "# dirs = [\"Data/\",'Data/ml/',\"Models/\",\"Models/keras/\"]\n",
    "# for folder in dirs:\n",
    "#     os.makedirs(folder, exist_ok=True)"
   ]
  },
  {
   "cell_type": "code",
   "execution_count": 6,
   "id": "87841ef8-7d64-480d-8ffc-7fbfa40bb910",
   "metadata": {
    "execution": {
     "iopub.execute_input": "2024-02-09T02:41:09.497032Z",
     "iopub.status.busy": "2024-02-09T02:41:09.496931Z",
     "iopub.status.idle": "2024-02-09T02:41:09.973930Z",
     "shell.execute_reply": "2024-02-09T02:41:09.973617Z",
     "shell.execute_reply.started": "2024-02-09T02:41:09.497023Z"
    }
   },
   "outputs": [],
   "source": [
    "from sklearn.model_selection import train_test_split\n",
    "from sklearn.pipeline import make_pipeline, Pipeline\n",
    "from sklearn.naive_bayes import MultinomialNB\n",
    "from sklearn.model_selection import GridSearchCV\n",
    "# from imblearn.under_sampling import RandomUnderSampler\n",
    "from sklearn.preprocessing import LabelEncoder\n",
    "from pprint import pprint\n",
    "from sklearn import set_config\n",
    "set_config(transform_output='pandas')\n",
    "\n",
    "\n",
    "from sklearn.model_selection import train_test_split,GridSearchCV\n",
    "from sklearn.feature_extraction.text import (CountVectorizer,TfidfTransformer, \n",
    "                                             TfidfVectorizer,ENGLISH_STOP_WORDS)\n",
    "from sklearn.pipeline import Pipeline\n",
    "from sklearn.compose import ColumnTransformer\n",
    "\n",
    "import nltk \n",
    "from nltk import TweetTokenizer, word_tokenize,wordpunct_tokenize\n",
    "import string\n",
    "from wordcloud import WordCloud\n",
    "\n",
    "\n",
    "\n",
    "from sklearn.linear_model import LogisticRegression,LogisticRegressionCV\n",
    "from sklearn.ensemble import RandomForestClassifier\n",
    "from sklearn import metrics\n",
    "\n",
    "from sklearn.metrics import classification_report, ConfusionMatrixDisplay\n",
    "pd.set_option('display.max_columns', 150)\n",
    "pd.set_option('display.max_colwidth',250)"
   ]
  },
  {
   "cell_type": "markdown",
   "id": "979c47e8-a78c-4766-9744-24f68e242223",
   "metadata": {},
   "source": [
    "## Load Data (Options)"
   ]
  },
  {
   "cell_type": "markdown",
   "id": "a4033aea-442c-4229-859d-9fe57987580b",
   "metadata": {},
   "source": [
    "### Opt A) ~~CSV~~ JSON (From Part 6B)"
   ]
  },
  {
   "cell_type": "code",
   "execution_count": 7,
   "id": "c86a7889-cfce-4518-a335-a2f5f7ea00a9",
   "metadata": {
    "execution": {
     "iopub.execute_input": "2024-02-09T02:41:09.975758Z",
     "iopub.status.busy": "2024-02-09T02:41:09.975642Z",
     "iopub.status.idle": "2024-02-09T02:41:10.491406Z",
     "shell.execute_reply": "2024-02-09T02:41:10.486798Z",
     "shell.execute_reply.started": "2024-02-09T02:41:09.975750Z"
    }
   },
   "outputs": [
    {
     "ename": "KeyError",
     "evalue": "'reviews-with-target_json'",
     "output_type": "error",
     "traceback": [
      "\u001b[0;31m---------------------------------------------------------------------------\u001b[0m",
      "\u001b[0;31mKeyError\u001b[0m                                  Traceback (most recent call last)",
      "Cell \u001b[0;32mIn[7], line 1\u001b[0m\n\u001b[0;32m----> 1\u001b[0m fpath_data \u001b[38;5;241m=\u001b[39m \u001b[43mFPATHS\u001b[49m\u001b[43m[\u001b[49m\u001b[38;5;124;43m'\u001b[39;49m\u001b[38;5;124;43mdata\u001b[39;49m\u001b[38;5;124;43m'\u001b[39;49m\u001b[43m]\u001b[49m\u001b[43m[\u001b[49m\u001b[38;5;124;43m'\u001b[39;49m\u001b[38;5;124;43mprocessed-nlp\u001b[39;49m\u001b[38;5;124;43m'\u001b[39;49m\u001b[43m]\u001b[49m\u001b[43m[\u001b[49m\u001b[38;5;124;43m'\u001b[39;49m\u001b[38;5;124;43mreviews-with-target_json\u001b[39;49m\u001b[38;5;124;43m'\u001b[39;49m\u001b[43m]\u001b[49m\n\u001b[1;32m      2\u001b[0m fpath_data\n",
      "\u001b[0;31mKeyError\u001b[0m: 'reviews-with-target_json'"
     ]
    }
   ],
   "source": [
    "fpath_data = FPATHS['data']['processed-nlp']['reviews-with-target_json']\n",
    "fpath_data"
   ]
  },
  {
   "cell_type": "code",
   "execution_count": null,
   "id": "b26f0419-3975-4634-a9f4-e19883c3bf93",
   "metadata": {
    "execution": {
     "iopub.status.busy": "2024-02-09T02:41:10.491679Z",
     "iopub.status.idle": "2024-02-09T02:41:10.491815Z",
     "shell.execute_reply": "2024-02-09T02:41:10.491746Z",
     "shell.execute_reply.started": "2024-02-09T02:41:10.491741Z"
    }
   },
   "outputs": [],
   "source": [
    "# df =  pd.read_csv('Data-NLP/combined-tmdb-movie-reviews.csv.gz')\n",
    "df = pd.read_json(fpath_data)\n",
    "df"
   ]
  },
  {
   "cell_type": "markdown",
   "id": "5075e976-b064-44a5-9f33-69d1ebd8c63d",
   "metadata": {},
   "source": [
    "### Opt B) Previously Processed Joblib"
   ]
  },
  {
   "cell_type": "code",
   "execution_count": null,
   "id": "ca501a8b-12d9-4d5d-9bb7-ce46635fd231",
   "metadata": {
    "execution": {
     "iopub.status.busy": "2024-02-09T02:41:10.492657Z",
     "iopub.status.idle": "2024-02-09T02:41:10.492804Z",
     "shell.execute_reply": "2024-02-09T02:41:10.492736Z",
     "shell.execute_reply.started": "2024-02-09T02:41:10.492730Z"
    }
   },
   "outputs": [],
   "source": [
    "import joblib\n",
    "# # fname_data_joblib = \"Data/processed-nlp-data.joblib\"\n",
    "# fname_data_joblib = FPATHS['data']['raw']['processed-joblib']\n",
    "# df = joblib.load(fname_data_joblib)\n",
    "# df"
   ]
  },
  {
   "cell_type": "markdown",
   "id": "ae67603c-b02c-458a-9733-e512fc73d139",
   "metadata": {},
   "source": [
    "## Define df_ml"
   ]
  },
  {
   "cell_type": "code",
   "execution_count": null,
   "id": "0d133847-2e35-483c-b253-983f92be5fcb",
   "metadata": {
    "execution": {
     "iopub.status.busy": "2024-02-09T02:41:10.493131Z",
     "iopub.status.idle": "2024-02-09T02:41:10.493256Z",
     "shell.execute_reply": "2024-02-09T02:41:10.493193Z",
     "shell.execute_reply.started": "2024-02-09T02:41:10.493188Z"
    }
   },
   "outputs": [],
   "source": [
    "df.columns"
   ]
  },
  {
   "cell_type": "code",
   "execution_count": null,
   "id": "5a925e76-75b0-417c-8274-66a313398b63",
   "metadata": {
    "execution": {
     "iopub.status.busy": "2024-02-09T02:41:10.493671Z",
     "iopub.status.idle": "2024-02-09T02:41:10.493792Z",
     "shell.execute_reply": "2024-02-09T02:41:10.493731Z",
     "shell.execute_reply.started": "2024-02-09T02:41:10.493725Z"
    }
   },
   "outputs": [],
   "source": [
    "# Saving text column as var\n",
    "text_col = 'review_text'\n",
    "\n",
    "# Set target column\n",
    "# possible_targets =  ['target-rating','target-profit','profit',]\n",
    "# target_col = 'target-profit'\n",
    "target_col = 'target-ROI'\n",
    "df[target_col].value_counts(dropna=False, normalize=True)"
   ]
  },
  {
   "cell_type": "code",
   "execution_count": null,
   "id": "cf45e59b-feed-466c-a78c-fd5cc63d9c7b",
   "metadata": {},
   "outputs": [],
   "source": []
  },
  {
   "cell_type": "markdown",
   "id": "908e42dd-b832-4e4c-9ecc-dc1280d87243",
   "metadata": {},
   "source": [
    "#### Re-Definng target"
   ]
  },
  {
   "cell_type": "code",
   "execution_count": null,
   "id": "1f089898-c6e9-4982-8e9e-956625217a9b",
   "metadata": {
    "execution": {
     "iopub.status.busy": "2024-02-09T02:41:10.494499Z",
     "iopub.status.idle": "2024-02-09T02:41:10.494790Z",
     "shell.execute_reply": "2024-02-09T02:41:10.494654Z",
     "shell.execute_reply.started": "2024-02-09T02:41:10.494640Z"
    }
   },
   "outputs": [],
   "source": [
    "# Function to categorize movies\n",
    "def categorize_movie_success(roi):\n",
    "    if roi < 1:\n",
    "        return '0_Unsuccessful'\n",
    "    # elif roi < 3:\n",
    "    else:\n",
    "        return '1_Successful'\n",
    "    # else:\n",
    "    #     return '2_Blockbuster'\n",
    "\n",
    "df['target-ROI'] = df['ROI'].map(categorize_movie_success)\n",
    "df['target-ROI'].value_counts(dropna=False, normalize=True)"
   ]
  },
  {
   "cell_type": "code",
   "execution_count": null,
   "id": "7f263bb8-7ec2-409a-9ca4-dfce08ff12b9",
   "metadata": {
    "execution": {
     "iopub.status.busy": "2024-02-09T02:41:10.495294Z",
     "iopub.status.idle": "2024-02-09T02:41:10.495427Z",
     "shell.execute_reply": "2024-02-09T02:41:10.495364Z",
     "shell.execute_reply.started": "2024-02-09T02:41:10.495359Z"
    }
   },
   "outputs": [],
   "source": [
    "# ax = sns.histplot(data=df, x=target_col, hue)\n",
    "\n",
    "\n",
    "fig, (ax1,ax2) =  plt.subplots(ncols=2, figsize=(10,5))\n",
    "sns.histplot(data=df, x='ROI', hue='target-ROI', ax=ax1)#, kde=True)\n",
    "sns.histplot(data=df, x='target-ROI', hue='target-ROI', ax=ax2, legend=False, stat='percent')\n",
    "# Zoom in on hisgtogram\n",
    "ax1.set_xlim(left=-10, right=30)\n",
    "ax2.tick_params(labelrotation=45)\n",
    "fig.align_xlabels()\n",
    "fig.tight_layout()\n"
   ]
  },
  {
   "cell_type": "code",
   "execution_count": null,
   "id": "0da1f6e5-f519-481e-832c-a9e247042755",
   "metadata": {
    "execution": {
     "iopub.status.busy": "2024-02-09T02:41:10.495765Z",
     "iopub.status.idle": "2024-02-09T02:41:10.495894Z",
     "shell.execute_reply": "2024-02-09T02:41:10.495828Z",
     "shell.execute_reply.started": "2024-02-09T02:41:10.495822Z"
    }
   },
   "outputs": [],
   "source": [
    "# # Function to categorize movies\n",
    "# def categorize_movie_success(roi):\n",
    "#     if roi < 1:\n",
    "#         return '1_Unsuccessful'\n",
    "#     elif roi < 3:\n",
    "#         return '2_Successful'\n",
    "#     else:\n",
    "#         return '3_Blockbuster'\n",
    "\n",
    "# df['target-ROI'] = df['ROI'].map(categorize_movie_success)\n",
    "# df['target-ROI'].value_counts(dropna=False, normalize=True)"
   ]
  },
  {
   "cell_type": "code",
   "execution_count": null,
   "id": "271ea344-f443-43f8-9e17-fc52ccac2eab",
   "metadata": {
    "execution": {
     "iopub.status.busy": "2024-02-09T02:41:10.496766Z",
     "iopub.status.idle": "2024-02-09T02:41:10.496907Z",
     "shell.execute_reply": "2024-02-09T02:41:10.496839Z",
     "shell.execute_reply.started": "2024-02-09T02:41:10.496833Z"
    }
   },
   "outputs": [],
   "source": [
    "df[target_col].value_counts(dropna=False, normalize=True)"
   ]
  },
  {
   "cell_type": "code",
   "execution_count": null,
   "id": "5dfd4845-26d6-4bb8-a551-bfa78295a359",
   "metadata": {
    "execution": {
     "iopub.status.busy": "2024-02-09T02:41:10.497401Z",
     "iopub.status.idle": "2024-02-09T02:41:10.497577Z",
     "shell.execute_reply": "2024-02-09T02:41:10.497491Z",
     "shell.execute_reply.started": "2024-02-09T02:41:10.497485Z"
    }
   },
   "outputs": [],
   "source": [
    "sorted(df[target_col].unique())"
   ]
  },
  {
   "cell_type": "code",
   "execution_count": null,
   "id": "539c5d6a-9220-46d5-8217-352f85e7a82e",
   "metadata": {
    "execution": {
     "iopub.status.busy": "2024-02-09T02:41:10.498403Z",
     "iopub.status.idle": "2024-02-09T02:41:10.498590Z",
     "shell.execute_reply": "2024-02-09T02:41:10.498472Z",
     "shell.execute_reply.started": "2024-02-09T02:41:10.498467Z"
    }
   },
   "outputs": [],
   "source": [
    "# # ## Combining Target Groups\n",
    "# # target_map = {'0_Flop':\"Low (ROI<1)\", \n",
    "# #               '1_Moderate Success':\"\", '2_Success', '3_Blockbuster'\n",
    "\n",
    "# # Function to categorize movies\n",
    "# def categorize_movie_binary(roi):\n",
    "#     if roi < 0:\n",
    "#         return '0_Flop'\n",
    "#     elif roi < 1:\n",
    "#         return '1_Moderate Success'\n",
    "#     elif roi < 3:\n",
    "#         return '2_Success'\n",
    "#     else:\n",
    "#         return '3_Blockbuster'\n",
    "\n",
    "# df['target-ROI'] = df['ROI'].map(categorize_movie)\n",
    "# df['target-ROI'].value_counts(dropna=False, normalize=True)\n"
   ]
  },
  {
   "cell_type": "code",
   "execution_count": null,
   "id": "a6a18e73-7859-4da0-980f-07153104a880",
   "metadata": {
    "execution": {
     "iopub.status.busy": "2024-02-09T02:41:10.499140Z",
     "iopub.status.idle": "2024-02-09T02:41:10.499291Z",
     "shell.execute_reply": "2024-02-09T02:41:10.499220Z",
     "shell.execute_reply.started": "2024-02-09T02:41:10.499214Z"
    }
   },
   "outputs": [],
   "source": [
    "# Creating df-ml by selecting final target (dropna or filter out group)\n",
    "df_ml = df.dropna(subset=[target_col])\n",
    "# df_ml = df.loc[ df[target_col]!=\"Mid\"]\n",
    "df_ml = df_ml.set_index('review_id')\n",
    "print(df_ml[target_col].value_counts(dropna=False, normalize=True))\n",
    "df_ml.head(2)"
   ]
  },
  {
   "cell_type": "code",
   "execution_count": null,
   "id": "2bca75c5-9ed8-4466-a7d1-c8f56b8baa5b",
   "metadata": {
    "execution": {
     "iopub.status.busy": "2024-02-09T02:41:10.500004Z",
     "iopub.status.idle": "2024-02-09T02:41:10.500187Z",
     "shell.execute_reply": "2024-02-09T02:41:10.500070Z",
     "shell.execute_reply.started": "2024-02-09T02:41:10.500065Z"
    }
   },
   "outputs": [],
   "source": [
    "df_ml[target_col].value_counts(1)"
   ]
  },
  {
   "cell_type": "code",
   "execution_count": null,
   "id": "c1f919ab-084d-4a01-8aee-20877313c60b",
   "metadata": {
    "execution": {
     "iopub.status.busy": "2024-02-09T02:41:10.501009Z",
     "iopub.status.idle": "2024-02-09T02:41:10.501325Z",
     "shell.execute_reply": "2024-02-09T02:41:10.501200Z",
     "shell.execute_reply.started": "2024-02-09T02:41:10.501178Z"
    }
   },
   "outputs": [],
   "source": [
    "X = df_ml[text_col]\n",
    "y = df_ml[target_col]\n",
    "X.head()"
   ]
  },
  {
   "cell_type": "code",
   "execution_count": null,
   "id": "e6e6e6c3-73c5-4ea0-bf30-71fdc1fb61c7",
   "metadata": {
    "execution": {
     "iopub.status.busy": "2024-02-09T02:41:10.502182Z",
     "iopub.status.idle": "2024-02-09T02:41:10.502389Z",
     "shell.execute_reply": "2024-02-09T02:41:10.502284Z",
     "shell.execute_reply.started": "2024-02-09T02:41:10.502273Z"
    }
   },
   "outputs": [],
   "source": [
    "# Disable parser and ner\n",
    "# nlp_light = spacy.load(\"en_core_web_sm\", disable=['parser','ner'])"
   ]
  },
  {
   "cell_type": "code",
   "execution_count": null,
   "id": "931f31a7-414a-444f-a4bf-0412e06a49af",
   "metadata": {
    "execution": {
     "iopub.status.busy": "2024-02-09T02:41:10.504407Z",
     "iopub.status.idle": "2024-02-09T02:41:10.504766Z",
     "shell.execute_reply": "2024-02-09T02:41:10.504624Z",
     "shell.execute_reply.started": "2024-02-09T02:41:10.504611Z"
    }
   },
   "outputs": [],
   "source": [
    "## Train test split\n",
    "X_train_full, X_test, y_train_names_full, y_test_names = train_test_split(X,y,test_size=0.25,\n",
    "                                                    random_state=321)\n",
    "X_train_full.head()"
   ]
  },
  {
   "cell_type": "markdown",
   "id": "236a195b-8277-46a6-92c1-cdd75d2b7fc3",
   "metadata": {
    "execution": {
     "iopub.execute_input": "2024-01-25T21:51:11.762177Z",
     "iopub.status.busy": "2024-01-25T21:51:11.761612Z",
     "iopub.status.idle": "2024-01-25T21:51:11.842570Z",
     "shell.execute_reply": "2024-01-25T21:51:11.842041Z",
     "shell.execute_reply.started": "2024-01-25T21:51:11.762146Z"
    }
   },
   "source": [
    "### Label Encoding"
   ]
  },
  {
   "cell_type": "code",
   "execution_count": null,
   "id": "825ee58f-38f1-420f-bcda-dc4e22dee3a3",
   "metadata": {
    "execution": {
     "iopub.status.busy": "2024-02-09T02:41:10.505554Z",
     "iopub.status.idle": "2024-02-09T02:41:10.505747Z",
     "shell.execute_reply": "2024-02-09T02:41:10.505640Z",
     "shell.execute_reply.started": "2024-02-09T02:41:10.505631Z"
    }
   },
   "outputs": [],
   "source": [
    "from sklearn.preprocessing import LabelEncoder\n",
    "\n",
    "# Instansiate label encoder\n",
    "encoder = LabelEncoder()\n",
    "\n",
    "# Fit and transform the training target\n",
    "y_train_full = pd.Series(encoder.fit_transform(y_train_names_full), \n",
    "                    index=y_train_names_full.index, \n",
    "                    name=y_train_names_full.name)\n",
    "\n",
    "# Fit and tranform the test target\n",
    "y_test = pd.Series(encoder.transform(y_test_names), index=y_test_names.index, \n",
    "                    name=y_test_names.name)\n",
    "\n",
    "y_train_names_full[:10]"
   ]
  },
  {
   "cell_type": "markdown",
   "id": "b1df72fa-2a40-4ca5-b647-cce41ff70069",
   "metadata": {},
   "source": [
    "### Addressing Class Balance"
   ]
  },
  {
   "cell_type": "code",
   "execution_count": null,
   "id": "8be5d6af-e7d5-4a58-88d9-c5f47fe70364",
   "metadata": {
    "execution": {
     "iopub.status.busy": "2024-02-09T02:41:10.506561Z",
     "iopub.status.idle": "2024-02-09T02:41:10.506728Z",
     "shell.execute_reply": "2024-02-09T02:41:10.506637Z",
     "shell.execute_reply.started": "2024-02-09T02:41:10.506632Z"
    }
   },
   "outputs": [],
   "source": [
    "from imblearn.under_sampling import RandomUnderSampler\n",
    "\n",
    "# Instantiate a RandomUnderSampler\n",
    "sampler = RandomUnderSampler(random_state=42)\n",
    "\n",
    "# Fit_resample on the reshaped X_train data and y-train data\n",
    "X_train, y_train = sampler.fit_resample(X_train_full.values.reshape(-1,1),\n",
    "                                        y_train_full)\n",
    "X_train.shape"
   ]
  },
  {
   "cell_type": "code",
   "execution_count": null,
   "id": "337b7769-05da-40d2-9a6d-44f2ed371104",
   "metadata": {
    "execution": {
     "iopub.status.busy": "2024-02-09T02:41:10.507564Z",
     "iopub.status.idle": "2024-02-09T02:41:10.507801Z",
     "shell.execute_reply": "2024-02-09T02:41:10.507722Z",
     "shell.execute_reply.started": "2024-02-09T02:41:10.507715Z"
    }
   },
   "outputs": [],
   "source": [
    "# Flatten the reshaped X_train data back to 1D\n",
    "X_train = X_train.flatten()\n",
    "X_train.shape"
   ]
  },
  {
   "cell_type": "code",
   "execution_count": null,
   "id": "428e0403-dcc0-4f74-86b4-9437c6473b90",
   "metadata": {
    "execution": {
     "iopub.status.busy": "2024-02-09T02:41:10.508895Z",
     "iopub.status.idle": "2024-02-09T02:41:10.509082Z",
     "shell.execute_reply": "2024-02-09T02:41:10.508971Z",
     "shell.execute_reply.started": "2024-02-09T02:41:10.508965Z"
    }
   },
   "outputs": [],
   "source": [
    "y_train.value_counts()"
   ]
  },
  {
   "cell_type": "code",
   "execution_count": null,
   "id": "02545632-e01b-4a26-a791-91779bdc38ae",
   "metadata": {},
   "outputs": [],
   "source": []
  },
  {
   "cell_type": "markdown",
   "id": "75559c5f-2621-4c28-94d0-b00f97b5d227",
   "metadata": {},
   "source": [
    "## Modeling"
   ]
  },
  {
   "cell_type": "code",
   "execution_count": null,
   "id": "625f1102-e82c-47f2-b14e-55d2304f9c21",
   "metadata": {
    "execution": {
     "iopub.status.busy": "2024-02-09T02:41:10.510043Z",
     "iopub.status.idle": "2024-02-09T02:41:10.510193Z",
     "shell.execute_reply": "2024-02-09T02:41:10.510125Z",
     "shell.execute_reply.started": "2024-02-09T02:41:10.510119Z"
    }
   },
   "outputs": [],
   "source": [
    "vectorizer = CountVectorizer(stop_words=None,\n",
    "    ngram_range=(1,1))\n",
    "vectorizer.fit(X_train)"
   ]
  },
  {
   "cell_type": "code",
   "execution_count": null,
   "id": "48a08e55-4dd2-42b7-90b4-27bf489f70a2",
   "metadata": {
    "execution": {
     "iopub.status.busy": "2024-02-09T02:41:10.511225Z",
     "iopub.status.idle": "2024-02-09T02:41:10.511517Z",
     "shell.execute_reply": "2024-02-09T02:41:10.511393Z",
     "shell.execute_reply.started": "2024-02-09T02:41:10.511378Z"
    }
   },
   "outputs": [],
   "source": [
    "# Saves vocab - matches number of columns above\n",
    "vocab_dict = vectorizer.vocabulary_\n",
    "len(vocab_dict)"
   ]
  },
  {
   "cell_type": "code",
   "execution_count": null,
   "id": "c6d4928b-a25c-47bb-94f0-cbc083a5a806",
   "metadata": {
    "execution": {
     "iopub.status.busy": "2024-02-09T02:41:10.512182Z",
     "iopub.status.idle": "2024-02-09T02:41:10.512370Z",
     "shell.execute_reply": "2024-02-09T02:41:10.512269Z",
     "shell.execute_reply.started": "2024-02-09T02:41:10.512263Z"
    }
   },
   "outputs": [],
   "source": [
    "# Words are now the feature_names\n",
    "feature_names = vectorizer.get_feature_names_out()\n",
    "len(feature_names)"
   ]
  },
  {
   "cell_type": "code",
   "execution_count": null,
   "id": "b8dd02c5-8b98-4afd-8a6d-7889a4ddf4e8",
   "metadata": {
    "execution": {
     "iopub.status.busy": "2024-02-09T02:41:10.512804Z",
     "iopub.status.idle": "2024-02-09T02:41:10.512961Z",
     "shell.execute_reply": "2024-02-09T02:41:10.512876Z",
     "shell.execute_reply.started": "2024-02-09T02:41:10.512870Z"
    }
   },
   "outputs": [],
   "source": [
    "# FPATHS"
   ]
  },
  {
   "cell_type": "markdown",
   "id": "df939215-0083-4ea8-b51a-ff78835a4abc",
   "metadata": {},
   "source": [
    "### DummyClassifier"
   ]
  },
  {
   "cell_type": "code",
   "execution_count": null,
   "id": "57941d46-ed2b-4358-9218-c38d085e376c",
   "metadata": {
    "execution": {
     "iopub.status.busy": "2024-02-09T02:41:10.513400Z",
     "iopub.status.idle": "2024-02-09T02:41:10.513556Z",
     "shell.execute_reply": "2024-02-09T02:41:10.513459Z",
     "shell.execute_reply.started": "2024-02-09T02:41:10.513454Z"
    }
   },
   "outputs": [],
   "source": [
    "from sklearn.dummy import DummyClassifier\n",
    "vectorizer = CountVectorizer(stop_words=None,\n",
    "    ngram_range=(1,1))\n",
    "\n",
    "clf_pipe = Pipeline([\n",
    "    ('vectorizer',vectorizer),\n",
    "    ('clf',DummyClassifier(strategy='stratified'))\n",
    "])\n",
    "\n",
    "## Fit an evaluate a Logistic Regression\n",
    "clf_pipe.fit(X_train, y_train)\n",
    "ds.evaluate.evaluate_classification(clf_pipe, X_train,y_train, X_test, y_test,figsize=(8,12),values_format=\".2g\")\n",
    "# joblib.dump(clf_pipe, FPATHS['models']['ml']['logreg'])"
   ]
  },
  {
   "cell_type": "markdown",
   "id": "91e0b15b-0071-426a-a5ee-e15abf4d9b8a",
   "metadata": {},
   "source": [
    "### Bayes"
   ]
  },
  {
   "cell_type": "code",
   "execution_count": null,
   "id": "cff223fb-8890-4736-9319-c79f6c50abe4",
   "metadata": {
    "execution": {
     "iopub.status.busy": "2024-02-09T02:41:10.514536Z",
     "iopub.status.idle": "2024-02-09T02:41:10.514715Z",
     "shell.execute_reply": "2024-02-09T02:41:10.514649Z",
     "shell.execute_reply.started": "2024-02-09T02:41:10.514643Z"
    }
   },
   "outputs": [],
   "source": [
    " FPATHS['models']['ml']#['bayes']"
   ]
  },
  {
   "cell_type": "code",
   "execution_count": null,
   "id": "19bde110-867e-4b67-93a3-28bfa6e8f1b8",
   "metadata": {
    "execution": {
     "iopub.status.busy": "2024-02-09T02:41:10.515051Z",
     "iopub.status.idle": "2024-02-09T02:41:10.515200Z",
     "shell.execute_reply": "2024-02-09T02:41:10.515101Z",
     "shell.execute_reply.started": "2024-02-09T02:41:10.515097Z"
    }
   },
   "outputs": [],
   "source": [
    "vectorizer = CountVectorizer(stop_words='english',\n",
    "    ngram_range=(1,2)\n",
    "                            )\n",
    "\n",
    "clf_bayes = Pipeline([\n",
    "    ('vectorizer',vectorizer),\n",
    "    ('clf',MultinomialNB())\n",
    "])\n",
    "\n",
    "## Fit an evaluate a Bayesian Model\n",
    "clf_bayes.fit(X_train, y_train)\n",
    "ds.evaluate.evaluate_classification(clf_bayes, X_train,y_train, X_test, y_test)\n",
    "joblib.dump(clf_bayes, FPATHS['models']['ml']['bayes_joblib'])"
   ]
  },
  {
   "cell_type": "markdown",
   "id": "00e48ed7-c472-401c-873a-37b1b6f20941",
   "metadata": {},
   "source": [
    "### LogisticRegression"
   ]
  },
  {
   "cell_type": "code",
   "execution_count": null,
   "id": "54476e32-b29f-4815-96c9-6b84b97d2a3a",
   "metadata": {
    "execution": {
     "iopub.status.busy": "2024-02-09T02:41:10.515928Z",
     "iopub.status.idle": "2024-02-09T02:41:10.516078Z",
     "shell.execute_reply": "2024-02-09T02:41:10.516008Z",
     "shell.execute_reply.started": "2024-02-09T02:41:10.516001Z"
    }
   },
   "outputs": [],
   "source": [
    "vectorizer = CountVectorizer(stop_words=None,\n",
    "    ngram_range=(1,1))\n",
    "\n",
    "clf_logreg = Pipeline([\n",
    "    ('vectorizer',vectorizer),\n",
    "    ('clf',LogisticRegression(max_iter=500,C=1e12))\n",
    "])\n",
    "\n",
    "## Fit an evaluate a Logistic Regression\n",
    "clf_logreg.fit(X_train, y_train)\n",
    "ds.evaluate.evaluate_classification(clf_logreg, X_train,y_train, X_test, y_test)\n",
    "joblib.dump(clf_logreg, FPATHS['models']['ml']['logreg_joblib'])"
   ]
  },
  {
   "cell_type": "code",
   "execution_count": null,
   "id": "d6c41a2e-42a3-418c-8483-43a07410ed90",
   "metadata": {
    "execution": {
     "iopub.status.busy": "2024-02-09T02:41:10.516435Z",
     "iopub.status.idle": "2024-02-09T02:41:10.516570Z",
     "shell.execute_reply": "2024-02-09T02:41:10.516503Z",
     "shell.execute_reply.started": "2024-02-09T02:41:10.516498Z"
    }
   },
   "outputs": [],
   "source": [
    "# Logreg-tfidf\n",
    "\n",
    "vectorizer = TfidfVectorizer(stop_words=None,\n",
    "    ngram_range=(1,2))\n",
    "\n",
    "clf_logreg = Pipeline([\n",
    "    ('vectorizer',vectorizer),\n",
    "    ('clf',LogisticRegression(max_iter=500,C=1e12))\n",
    "])\n",
    "\n",
    "## Fit an evaluate a Logistic Regression\n",
    "clf_logreg.fit(X_train, y_train)\n",
    "ds.evaluate.evaluate_classification(clf_logreg, X_train,y_train, X_test, y_test)\n",
    "joblib.dump(clf_logreg, FPATHS['models']['ml']['logreg_joblib'])"
   ]
  },
  {
   "cell_type": "code",
   "execution_count": null,
   "id": "2e8aa038-3a2a-46e6-8b7e-0d514aaeee08",
   "metadata": {
    "execution": {
     "iopub.status.busy": "2024-02-09T02:41:10.517102Z",
     "iopub.status.idle": "2024-02-09T02:41:10.517296Z",
     "shell.execute_reply": "2024-02-09T02:41:10.517175Z",
     "shell.execute_reply.started": "2024-02-09T02:41:10.517169Z"
    }
   },
   "outputs": [],
   "source": [
    "## TEMP COMMENTED OUT\n",
    "# # LogregCV-tfidf \n",
    "\n",
    "# vectorizer = TfidfVectorizer(stop_words=None,\n",
    "#     ngram_range=(1,2))\n",
    "\n",
    "# clf_logreg = Pipeline([\n",
    "#     ('vectorizer',vectorizer),\n",
    "#     ('clf',LogisticRegressionCV(max_iter=200))\n",
    "# ])\n",
    "\n",
    "# ## Fit an evaluate a Logistic Regression\n",
    "# clf_logreg.fit(X_train, y_train)\n",
    "# ds.evaluate.evaluate_classification(clf_logreg, X_train,y_train, X_test, y_test)\n",
    "# joblib.dump(clf_logreg, FPATHS['models']['ml']['logreg'])"
   ]
  },
  {
   "cell_type": "code",
   "execution_count": null,
   "id": "c97cd60d-5beb-454a-b257-4196d2c63e5a",
   "metadata": {
    "execution": {
     "iopub.status.busy": "2024-02-09T02:41:10.517965Z",
     "iopub.status.idle": "2024-02-09T02:41:10.518160Z",
     "shell.execute_reply": "2024-02-09T02:41:10.518080Z",
     "shell.execute_reply.started": "2024-02-09T02:41:10.518072Z"
    }
   },
   "outputs": [],
   "source": [
    "# ## Fit an evaluate a Naive Bayes Classifier\n",
    "# clf_bayes.fit(X_train, y_train)\n",
    "# ds.evaluate.evaluate_classification(clf_bayes, X_train,y_train, X_test, y_test)\n",
    "# joblib.dump(clf_bayes, FPATHS['models']['ml']['bayes'])"
   ]
  },
  {
   "cell_type": "markdown",
   "id": "f4069c12-f3ab-434b-8ca9-d51ec570652d",
   "metadata": {},
   "source": [
    "### RandomForest"
   ]
  },
  {
   "cell_type": "code",
   "execution_count": null,
   "id": "1fb64822-f5b1-490c-bae0-659ed7aae5f1",
   "metadata": {
    "execution": {
     "iopub.status.busy": "2024-02-09T02:41:10.518664Z",
     "iopub.status.idle": "2024-02-09T02:41:10.518814Z",
     "shell.execute_reply": "2024-02-09T02:41:10.518731Z",
     "shell.execute_reply.started": "2024-02-09T02:41:10.518726Z"
    }
   },
   "outputs": [],
   "source": [
    "# FPATHS['models']['ml']['random_forest']"
   ]
  },
  {
   "cell_type": "code",
   "execution_count": null,
   "id": "c7269684-0b3c-4fc9-9f87-e3418a4a614e",
   "metadata": {
    "execution": {
     "iopub.status.busy": "2024-02-09T02:41:10.519277Z",
     "iopub.status.idle": "2024-02-09T02:41:10.519462Z",
     "shell.execute_reply": "2024-02-09T02:41:10.519335Z",
     "shell.execute_reply.started": "2024-02-09T02:41:10.519330Z"
    }
   },
   "outputs": [],
   "source": [
    "vectorizer = CountVectorizer(stop_words=None,\n",
    "    ngram_range=(1,1))\n",
    "\n",
    "clf_rf = Pipeline([\n",
    "    ('vectorizer',vectorizer),\n",
    "    ('clf',RandomForestClassifier(class_weight='balanced'))\n",
    "])\n",
    "\n",
    "## Fit an evaluate a Logistic Regression\n",
    "clf_rf.fit(X_train, y_train)\n",
    "ds.evaluate.evaluate_classification(clf_rf, X_train,y_train, X_test, y_test)\n",
    "# joblib.dump(clf_rf, FPATHS['models']['ml']['random_forest_joblib'])"
   ]
  },
  {
   "cell_type": "code",
   "execution_count": null,
   "id": "4d0b6dc3-f754-464b-9cf7-34092c98ece4",
   "metadata": {
    "execution": {
     "iopub.status.busy": "2024-02-09T02:41:10.519832Z",
     "iopub.status.idle": "2024-02-09T02:41:10.519970Z",
     "shell.execute_reply": "2024-02-09T02:41:10.519905Z",
     "shell.execute_reply.started": "2024-02-09T02:41:10.519900Z"
    }
   },
   "outputs": [],
   "source": [
    "vectorizer = TfidfVectorizer(stop_words='english',\n",
    "    ngram_range=(1,2))\n",
    "\n",
    "clf_rf = Pipeline([\n",
    "    ('vectorizer',vectorizer),\n",
    "    ('clf',RandomForestClassifier(class_weight='balanced'))\n",
    "])\n",
    "\n",
    "## Fit an evaluate a Logistic Regression\n",
    "clf_rf.fit(X_train, y_train)\n",
    "ds.evaluate.evaluate_classification(clf_rf, X_train,y_train, X_test, y_test)\n",
    "# joblib.dump(clf_rf, FPATHS['models']['ml']['random_forest_joblib'])"
   ]
  },
  {
   "cell_type": "markdown",
   "id": "d0a2e911-8db5-4a7b-8703-85cb3c85c791",
   "metadata": {},
   "source": [
    "### SVC"
   ]
  },
  {
   "cell_type": "code",
   "execution_count": null,
   "id": "144f54ce-8e3d-4cc3-927b-fdf9613b1da8",
   "metadata": {
    "execution": {
     "iopub.status.busy": "2024-02-09T02:41:10.520373Z",
     "iopub.status.idle": "2024-02-09T02:41:10.520498Z",
     "shell.execute_reply": "2024-02-09T02:41:10.520434Z",
     "shell.execute_reply.started": "2024-02-09T02:41:10.520429Z"
    }
   },
   "outputs": [],
   "source": [
    "encoder.classes_"
   ]
  },
  {
   "cell_type": "code",
   "execution_count": null,
   "id": "bff75d29-d17c-4c15-b12d-6e5110c64f68",
   "metadata": {
    "execution": {
     "iopub.status.busy": "2024-02-09T02:41:10.521055Z",
     "iopub.status.idle": "2024-02-09T02:41:10.521236Z",
     "shell.execute_reply": "2024-02-09T02:41:10.521161Z",
     "shell.execute_reply.started": "2024-02-09T02:41:10.521155Z"
    }
   },
   "outputs": [],
   "source": [
    "from sklearn.svm import SVC, LinearSVC\n",
    "\n",
    "vectorizer = TfidfVectorizer(stop_words=None,\n",
    "    ngram_range=(1,1))\n",
    "\n",
    "clf_pipe = Pipeline([\n",
    "    ('vectorizer',vectorizer),\n",
    "    ('clf',LinearSVC(class_weight='balanced'))\n",
    "])\n",
    "\n",
    "## Fit an evaluate a Logistic Regression\n",
    "clf_pipe.fit(X_train, y_train)\n",
    "ds.evaluate.evaluate_classification(clf_pipe, X_train,y_train, X_test, y_test,\n",
    "                                    # target_names=encoder.classes_,\n",
    "                                    figsize=(8,10))\n",
    "# joblib.dump(clf_rf, FPATHS['models']['ml']['random_forest'])"
   ]
  },
  {
   "cell_type": "code",
   "execution_count": null,
   "id": "c75333b0-2b2d-42db-b24a-9ac82044d434",
   "metadata": {},
   "outputs": [],
   "source": []
  },
  {
   "cell_type": "markdown",
   "id": "730a635f-370e-442b-a0b0-c98f4478ecce",
   "metadata": {},
   "source": [
    "## GridSearching ML Models/Prep"
   ]
  },
  {
   "cell_type": "code",
   "execution_count": null,
   "id": "2b829e53-7e5a-4d10-964f-046a433ff0d0",
   "metadata": {
    "execution": {
     "iopub.status.busy": "2024-02-09T02:41:10.521965Z",
     "iopub.status.idle": "2024-02-09T02:41:10.522107Z",
     "shell.execute_reply": "2024-02-09T02:41:10.522037Z",
     "shell.execute_reply.started": "2024-02-09T02:41:10.522031Z"
    }
   },
   "outputs": [],
   "source": [
    "# Define params to try for both vectorizers\n",
    "param_grid_shared = {\n",
    "    \"vectorizer__max_df\": [ 0.9,1],\n",
    "    'vectorizer__min_df': [ 1,2, 3], \n",
    "    # \"vectorizer__max_features\": [None, 1000, 2000],\n",
    "    \"vectorizer__stop_words\": [None,'english'],\n",
    "    'vectorizer__ngram_range':[(1,1),(1,2)],\n",
    "\n",
    "}\n",
    "\n",
    "# Setting params for the count vectorizer\n",
    "param_grid_count = {\n",
    "    'vectorizer':[CountVectorizer()],\n",
    "    **param_grid_shared\n",
    "}\n",
    "\n",
    "\n",
    "# Setting params for tfidf vectorizer \n",
    "param_grid_tfidf = {\n",
    "    'vectorizer': [TfidfVectorizer()],\n",
    "    \"vectorizer__norm\": [\"l1\", \"l2\"],\n",
    "    # \"vectorizer__use_idf\": [True, False],\n",
    "    \"vectorizer__smooth_idf\": [True, False],\n",
    "    **param_grid_shared\n",
    "}\n",
    "\n",
    "# combine into list of params\n",
    "params_vectorizters_combined = [param_grid_count, param_grid_tfidf]\n",
    "params_vectorizters_combined"
   ]
  },
  {
   "cell_type": "markdown",
   "id": "36d15392-0b20-4497-a2f8-6192283821fb",
   "metadata": {},
   "source": [
    "### RandomForest"
   ]
  },
  {
   "cell_type": "code",
   "execution_count": null,
   "id": "7f755a6d-c7f1-4f03-a51e-6d2b5951dd73",
   "metadata": {
    "execution": {
     "iopub.status.busy": "2024-02-09T02:41:10.522822Z",
     "iopub.status.idle": "2024-02-09T02:41:10.522959Z",
     "shell.execute_reply": "2024-02-09T02:41:10.522894Z",
     "shell.execute_reply.started": "2024-02-09T02:41:10.522888Z"
    }
   },
   "outputs": [],
   "source": [
    "sns.histplot([t.get_depth() for t in clf_rf[-1].estimators_])"
   ]
  },
  {
   "cell_type": "code",
   "execution_count": null,
   "id": "833db001-56fa-43a7-88ee-25a67364797e",
   "metadata": {
    "execution": {
     "iopub.status.busy": "2024-02-09T02:41:10.523298Z",
     "iopub.status.idle": "2024-02-09T02:41:10.523421Z",
     "shell.execute_reply": "2024-02-09T02:41:10.523359Z",
     "shell.execute_reply.started": "2024-02-09T02:41:10.523353Z"
    }
   },
   "outputs": [],
   "source": [
    "import copy"
   ]
  },
  {
   "cell_type": "code",
   "execution_count": null,
   "id": "fb86fe05-0182-47ff-9260-13fd6f0aec3c",
   "metadata": {
    "execution": {
     "iopub.status.busy": "2024-02-09T02:41:10.524099Z",
     "iopub.status.idle": "2024-02-09T02:41:10.524261Z",
     "shell.execute_reply": "2024-02-09T02:41:10.524199Z",
     "shell.execute_reply.started": "2024-02-09T02:41:10.524193Z"
    }
   },
   "outputs": [],
   "source": [
    "params_rf = {'clf__max_depth':[None, 500, 600],\n",
    "            \"clf__min_samples_leaf\":[1,2],\n",
    "            \"clf__criterion\":['gini','entropy']}\n",
    "\n",
    "## Add rf params to each dict in params_vectorizters_combined list \n",
    "params_grid_rf_final = copy.deepcopy(params_vectorizters_combined)#.copy()\n",
    "for params in params_grid_rf_final:\n",
    "    params.update(params_rf)"
   ]
  },
  {
   "cell_type": "code",
   "execution_count": null,
   "id": "a73e9c47-94db-46e9-868c-450bbf24ea36",
   "metadata": {
    "execution": {
     "iopub.status.busy": "2024-02-09T02:41:10.524923Z",
     "iopub.status.idle": "2024-02-09T02:41:10.525060Z",
     "shell.execute_reply": "2024-02-09T02:41:10.524985Z",
     "shell.execute_reply.started": "2024-02-09T02:41:10.524979Z"
    }
   },
   "outputs": [],
   "source": [
    "params_grid_rf_final"
   ]
  },
  {
   "cell_type": "code",
   "execution_count": null,
   "id": "275cb01c-26a6-475c-8091-27519167ca13",
   "metadata": {
    "execution": {
     "iopub.status.busy": "2024-02-09T02:41:10.525882Z",
     "iopub.status.idle": "2024-02-09T02:41:10.526043Z",
     "shell.execute_reply": "2024-02-09T02:41:10.525960Z",
     "shell.execute_reply.started": "2024-02-09T02:41:10.525954Z"
    }
   },
   "outputs": [],
   "source": [
    "# %%time\n",
    "\n",
    "# # Create pipeline\n",
    "# # model = make_pipeline(TfidfVectorizer(), RandomForestClassifier(random_state=42))\n",
    "# gs_pipe_rf = Pipeline([('vectorizer',CountVectorizer()), \n",
    "#                 ('clf',RandomForestClassifier(random_state=42))\n",
    "#                       ])#\n",
    "\n",
    "# # Create gridsearch\n",
    "# grid_search_rf = GridSearchCV(gs_pipe_rf, params_grid_rf_final, \n",
    "#                               scoring='recall_macro',\n",
    "#                               cv=3, verbose=1, n_jobs=-1)\n",
    "\n",
    "# # Fit the model\n",
    "# grid_search_rf.fit(X_train, y_train)\n",
    "\n",
    "# # Clearning gs. verbose messages\n",
    "# clear_output()\n",
    "\n",
    "# # Get the best parameters and score\n",
    "# best_params = grid_search_rf.best_params_\n",
    "# best_score = grid_search_rf.best_score_\n",
    "\n",
    "# best_params, best_score"
   ]
  },
  {
   "cell_type": "code",
   "execution_count": null,
   "id": "d9a773eb-ca51-4ff5-a317-91615087d868",
   "metadata": {
    "execution": {
     "iopub.status.busy": "2024-02-09T02:41:10.526575Z",
     "iopub.status.idle": "2024-02-09T02:41:10.526700Z",
     "shell.execute_reply": "2024-02-09T02:41:10.526633Z",
     "shell.execute_reply.started": "2024-02-09T02:41:10.526628Z"
    }
   },
   "outputs": [],
   "source": [
    "# # Now define the best version of the model\n",
    "# best_model = grid_search_rf.best_estimator_\n",
    "\n",
    "# # Predict and Evaluate with the custom function\n",
    "# ds.evaluate_classification(best_model, X_train, y_train, X_test, y_test)\n"
   ]
  },
  {
   "cell_type": "markdown",
   "id": "80db2067-83a3-4c47-b41c-37c7585a5c34",
   "metadata": {},
   "source": [
    "### LogisticRegression"
   ]
  },
  {
   "cell_type": "code",
   "execution_count": null,
   "id": "e6f8a4e4-b9af-4aa6-b045-215328e083c1",
   "metadata": {
    "execution": {
     "iopub.status.busy": "2024-02-09T02:41:10.527203Z",
     "iopub.status.idle": "2024-02-09T02:41:10.527448Z",
     "shell.execute_reply": "2024-02-09T02:41:10.527332Z",
     "shell.execute_reply.started": "2024-02-09T02:41:10.527324Z"
    }
   },
   "outputs": [],
   "source": [
    "# Params compatible with penality='elasticnet'\n",
    "\n",
    "elasticnet_params = {'clf__solver' : ['saga'],\n",
    "               'clf__penalty' : ['elasticnet'],\n",
    "                'clf__l1_ratio': [0, 0.1, 0.2, 0.3, 0.4,\n",
    "                                                 0.5, 0.6, 0.7, 0.8, 0.9, 1]}\n",
    "# # Params compatible with penality='l2'\n",
    "# l2_params = {'clf__solver': ['lbfgs', 'liblinear', 'newton-cg',\n",
    "#                                             'newton-cholesky', 'sag', 'saga'],\n",
    "#                   'clf__penalty' : ['l2'],\n",
    "#                   'clf__C': [0.0001, 0.001, 0.01, 0.1,\n",
    "#                                             1, 10, 100, 1000] }\n",
    "# # Params compatible with penality='l1'\n",
    "# l1_params = {'clf__solver' : ['liblinear', 'saga'],\n",
    "#                'clf__penalty' : ['l1'],\n",
    "#                 'clf__C': [0.0001, 0.001, 0.01, 0.1, 1,\n",
    "#                                           10, 100, 1000]}\n",
    "# # Params with no penality\n",
    "# none_params = {'clf__solver' : ['lbfgs', 'newton-cg',\n",
    "#                                                'newton-cholesky', 'sag', 'saga'],\n",
    "#                'clf__penalty' : [None]}\n",
    "\n",
    "#####\n",
    "# Now make a list of the param dictionaries\n",
    "logreg_param_grids = [\n",
    "    # l2_params, l1_params,\n",
    "    elasticnet_params, \n",
    "    # none_params\n",
    "]\n",
    "logreg_param_grids"
   ]
  },
  {
   "cell_type": "code",
   "execution_count": null,
   "id": "42885344-0fa8-4adb-b7f0-94791bbaa786",
   "metadata": {
    "execution": {
     "iopub.status.busy": "2024-02-09T02:41:10.528190Z",
     "iopub.status.idle": "2024-02-09T02:41:10.528349Z",
     "shell.execute_reply": "2024-02-09T02:41:10.528266Z",
     "shell.execute_reply.started": "2024-02-09T02:41:10.528260Z"
    }
   },
   "outputs": [],
   "source": [
    "params_vectorizters_combined"
   ]
  },
  {
   "cell_type": "code",
   "execution_count": null,
   "id": "83a20663-ce85-4f68-b6e5-18a3b3b2933a",
   "metadata": {
    "execution": {
     "iopub.status.busy": "2024-02-09T02:41:10.528950Z",
     "iopub.status.idle": "2024-02-09T02:41:10.529097Z",
     "shell.execute_reply": "2024-02-09T02:41:10.529030Z",
     "shell.execute_reply.started": "2024-02-09T02:41:10.529024Z"
    }
   },
   "outputs": [],
   "source": [
    "import itertools\n",
    "\n",
    "paired_param_grids = list(itertools.product(params_vectorizters_combined, logreg_param_grids))\n",
    "paired_param_grids[0]"
   ]
  },
  {
   "cell_type": "code",
   "execution_count": null,
   "id": "32e146c7-b794-495d-981b-2ca176958728",
   "metadata": {
    "execution": {
     "iopub.status.busy": "2024-02-09T02:41:10.529742Z",
     "iopub.status.idle": "2024-02-09T02:41:10.529925Z",
     "shell.execute_reply": "2024-02-09T02:41:10.529810Z",
     "shell.execute_reply.started": "2024-02-09T02:41:10.529804Z"
    }
   },
   "outputs": [],
   "source": [
    "# Loop through the product list of paired dictionaries to combine\n",
    "final_params = []\n",
    "for (vector_params, model_params) in  paired_param_grids:\n",
    "    combined = {**vector_params, **model_params}\n",
    "    final_params.append(combined)\n",
    "len(final_params)"
   ]
  },
  {
   "cell_type": "code",
   "execution_count": null,
   "id": "db676bb8-863c-4507-8ddb-c5ebba552c0c",
   "metadata": {
    "execution": {
     "iopub.status.busy": "2024-02-09T02:41:10.530613Z",
     "iopub.status.idle": "2024-02-09T02:41:10.530821Z",
     "shell.execute_reply": "2024-02-09T02:41:10.530724Z",
     "shell.execute_reply.started": "2024-02-09T02:41:10.530718Z"
    }
   },
   "outputs": [],
   "source": [
    "final_params[0]"
   ]
  },
  {
   "cell_type": "code",
   "execution_count": null,
   "id": "ac6ed972-91aa-43fd-a3d0-89f77becb1ac",
   "metadata": {},
   "outputs": [],
   "source": []
  },
  {
   "cell_type": "code",
   "execution_count": null,
   "id": "6c98ede5-77be-4100-be1e-f264dc71e24c",
   "metadata": {
    "execution": {
     "iopub.status.busy": "2024-02-09T02:41:10.531412Z",
     "iopub.status.idle": "2024-02-09T02:41:10.531556Z",
     "shell.execute_reply": "2024-02-09T02:41:10.531495Z",
     "shell.execute_reply.started": "2024-02-09T02:41:10.531489Z"
    }
   },
   "outputs": [],
   "source": [
    "# Determine # of cpus\n",
    "import os\n",
    "n_cpus = os.cpu_count()\n",
    "n_cpus"
   ]
  },
  {
   "cell_type": "code",
   "execution_count": null,
   "id": "4418b18f-1864-4234-987b-5353577b9ff8",
   "metadata": {
    "execution": {
     "iopub.status.busy": "2024-02-09T02:41:10.532034Z",
     "iopub.status.idle": "2024-02-09T02:41:10.532188Z",
     "shell.execute_reply": "2024-02-09T02:41:10.532098Z",
     "shell.execute_reply.started": "2024-02-09T02:41:10.532092Z"
    }
   },
   "outputs": [],
   "source": [
    "# %%time\n",
    "# logreg_pipe = Pipeline([\n",
    "#     ('vectorizer',TfidfVectorizer()),\n",
    "#     ('clf',LogisticRegression(max_iter=500))\n",
    "# ])\n",
    "# # Create grid search\n",
    "# grid_search = GridSearchCV(logreg_pipe, final_params, scoring='recall_macro',cv=3, verbose=1, n_jobs= n_cpus-2)\n",
    "    \n",
    "    \n",
    "# # Fit the model\n",
    "# grid_search.fit(X_train, y_train)\n"
   ]
  },
  {
   "cell_type": "code",
   "execution_count": null,
   "id": "806df0dc-311b-49ff-87cd-e120fb04b8f3",
   "metadata": {
    "execution": {
     "iopub.status.busy": "2024-02-09T02:41:10.532690Z",
     "iopub.status.idle": "2024-02-09T02:41:10.532837Z",
     "shell.execute_reply": "2024-02-09T02:41:10.532768Z",
     "shell.execute_reply.started": "2024-02-09T02:41:10.532762Z"
    }
   },
   "outputs": [],
   "source": [
    "# grid_search.best_params_"
   ]
  },
  {
   "cell_type": "code",
   "execution_count": null,
   "id": "2f32dcbc-d28d-4c97-a98e-0f374b5f4b75",
   "metadata": {
    "execution": {
     "iopub.status.busy": "2024-02-09T02:41:10.533197Z",
     "iopub.status.idle": "2024-02-09T02:41:10.533362Z",
     "shell.execute_reply": "2024-02-09T02:41:10.533267Z",
     "shell.execute_reply.started": "2024-02-09T02:41:10.533262Z"
    }
   },
   "outputs": [],
   "source": [
    "# # Now define the best version of the model\n",
    "# best_model = grid_search.best_estimator_\n",
    "\n",
    "# # Predict and Evaluate with the custom function\n",
    "# ds.evaluate_classification(best_model, X_train, y_train, X_test, y_test)\n"
   ]
  },
  {
   "cell_type": "code",
   "execution_count": null,
   "id": "2f9dc337-dfcf-4508-a243-d053c74e1c13",
   "metadata": {},
   "outputs": [],
   "source": []
  },
  {
   "cell_type": "markdown",
   "id": "04c34593-d6ff-4248-b456-852f617da4a3",
   "metadata": {},
   "source": [
    "## 🚧Previous"
   ]
  },
  {
   "cell_type": "code",
   "execution_count": null,
   "id": "e6f90005-4ff1-4168-b7c3-80b4901d7b67",
   "metadata": {
    "execution": {
     "iopub.status.busy": "2024-02-09T02:41:10.534145Z",
     "iopub.status.idle": "2024-02-09T02:41:10.534436Z",
     "shell.execute_reply": "2024-02-09T02:41:10.534349Z",
     "shell.execute_reply.started": "2024-02-09T02:41:10.534339Z"
    }
   },
   "outputs": [],
   "source": [
    "# raise Exception(\"must update code below\")"
   ]
  },
  {
   "cell_type": "markdown",
   "id": "557ecb56-f6ff-4a25-ab53-953151ad7743",
   "metadata": {},
   "source": [
    "## GS from LP"
   ]
  },
  {
   "cell_type": "code",
   "execution_count": null,
   "id": "922afa6d-f663-427b-957f-2919d4c5c0cf",
   "metadata": {
    "execution": {
     "iopub.status.busy": "2024-02-09T02:41:10.534885Z",
     "iopub.status.idle": "2024-02-09T02:41:10.535061Z",
     "shell.execute_reply": "2024-02-09T02:41:10.534952Z",
     "shell.execute_reply.started": "2024-02-09T02:41:10.534947Z"
    }
   },
   "outputs": [],
   "source": [
    "# %%time\n",
    "## TEMP: COMPARE TIMING IF n_jobs is NOT -1\n",
    "# # Create grid search\n",
    "# grid_search = GridSearchCV(vect_pipe, final_params, cv=3, scoring = 'accuracy', verbose=1)#, n_jobs=-1)\n",
    "    \n",
    "    \n",
    "# # Fit the model\n",
    "# grid_search.fit(X_train, y_train)\n",
    "# grid_search.best_params_"
   ]
  },
  {
   "cell_type": "code",
   "execution_count": null,
   "id": "dbb682d0-fff7-40d0-be31-d03ed6fcec95",
   "metadata": {
    "execution": {
     "iopub.status.busy": "2024-02-09T02:41:10.535544Z",
     "iopub.status.idle": "2024-02-09T02:41:10.535694Z",
     "shell.execute_reply": "2024-02-09T02:41:10.535623Z",
     "shell.execute_reply.started": "2024-02-09T02:41:10.535617Z"
    }
   },
   "outputs": [],
   "source": [
    "%%time\n",
    "SKIP = True\n",
    "\n",
    "if not SKIP:\n",
    "    # Create grid search\n",
    "    grid_search = GridSearchCV(vect_pipe, final_params, cv=3, scoring = 'recall_macro', verbose=2, n_jobs=-1)\n",
    "        \n",
    "        \n",
    "    # Fit the model\n",
    "    grid_search.fit(X_train, y_train)\n",
    "    print(grid_search.best_params_)"
   ]
  },
  {
   "cell_type": "code",
   "execution_count": null,
   "id": "4133a68a-0dfa-479d-81c3-95821f520f46",
   "metadata": {
    "execution": {
     "iopub.status.busy": "2024-02-09T02:41:10.536175Z",
     "iopub.status.idle": "2024-02-09T02:41:10.536311Z",
     "shell.execute_reply": "2024-02-09T02:41:10.536239Z",
     "shell.execute_reply.started": "2024-02-09T02:41:10.536233Z"
    }
   },
   "outputs": [],
   "source": [
    "if not SKIP:\n",
    "    \n",
    "    # Now define the best version of the model\n",
    "    best_model = grid_search.best_estimator_\n",
    "    \n",
    "    # Predict and Evaluate with the custom function\n",
    "    ds.evaluate.evaluate_classification(best_model, X_train, y_train, X_test, y_test)"
   ]
  },
  {
   "cell_type": "markdown",
   "id": "a8be2356-ea7c-4c62-bcad-6a37bd5eaed8",
   "metadata": {},
   "source": [
    "### Saving ML Model & Data"
   ]
  },
  {
   "cell_type": "code",
   "execution_count": null,
   "id": "a40a4c98-b56d-42de-8548-430db3b9f5b8",
   "metadata": {
    "execution": {
     "iopub.status.busy": "2024-02-09T02:41:10.537018Z",
     "iopub.status.idle": "2024-02-09T02:41:10.537166Z",
     "shell.execute_reply": "2024-02-09T02:41:10.537087Z",
     "shell.execute_reply.started": "2024-02-09T02:41:10.537081Z"
    }
   },
   "outputs": [],
   "source": [
    "\n",
    "# Save training data\n",
    "fpath_train_joblib = FPATHS['data']['ml-nlp']['train_joblib']\n",
    "joblib.dump([X_train, y_train],fpath_train_joblib)\n",
    "\n",
    "# Save test data\n",
    "fpath_test_joblib = FPATHS['data']['ml-nlp']['test_joblib']\n",
    "joblib.dump([X_test, y_test],fpath_test_joblib)\n",
    "\n",
    "# if not SKIP:\n",
    "#     # Saving the best model \n",
    "#     fpath_best_ml_model  = \"Models/best-ml-model.joblib\"\n",
    "#     joblib.dump(best_model, fpath_best_ml_model)"
   ]
  },
  {
   "cell_type": "markdown",
   "id": "e217af29-ce88-4f9c-bb8b-4660dd9c53b9",
   "metadata": {},
   "source": [
    "### Ngrams"
   ]
  },
  {
   "cell_type": "code",
   "execution_count": null,
   "id": "b6c3aa71-0432-4cba-97f6-1ab2a7249698",
   "metadata": {
    "execution": {
     "iopub.status.busy": "2024-02-09T02:41:10.537729Z",
     "iopub.status.idle": "2024-02-09T02:41:10.537857Z",
     "shell.execute_reply": "2024-02-09T02:41:10.537793Z",
     "shell.execute_reply.started": "2024-02-09T02:41:10.537788Z"
    }
   },
   "outputs": [],
   "source": [
    "# #our pre-exting ngram df function https://login.codingdojo.com/m/692/16501/124388\n",
    "\n",
    "# import pandas as pd\n",
    "# def get_ngram_measures_finder(tokens, ngrams=2, get_scores_df=False, measure='raw_freq', top_n=None, min_freq = 1,\n",
    "#                              words_colname='Words'):\n",
    "#     import nltk\n",
    "#     if ngrams == 4:\n",
    "#         MeasuresClass = nltk.collocations.QuadgramAssocMeasures\n",
    "#         FinderClass = nltk.collocations.QuadgramCollocationFinder\n",
    "        \n",
    "#     elif ngrams == 3: \n",
    "#         MeasuresClass = nltk.collocations.TrigramAssocMeasures\n",
    "#         FinderClass = nltk.collocations.TrigramCollocationFinder\n",
    "#     else:\n",
    "#         MeasuresClass = nltk.collocations.BigramAssocMeasures\n",
    "#         FinderClass = nltk.collocations.BigramCollocationFinder\n",
    "\n",
    "#     measures = MeasuresClass()\n",
    "    \n",
    "   \n",
    "#     finder = FinderClass.from_words(tokens)\n",
    "#     finder.apply_freq_filter(min_freq)\n",
    "#     if measure=='pmi':\n",
    "#         scored_ngrams = finder.score_ngrams(measures.pmi)\n",
    "#     else:\n",
    "#         measure='raw_freq'\n",
    "#         scored_ngrams = finder.score_ngrams(measures.raw_freq)\n",
    "\n",
    "#     df_ngrams = pd.DataFrame(scored_ngrams, columns=[words_colname, measure.replace(\"_\",' ').title()])\n",
    "#     if top_n is not None:\n",
    "#         return df_ngrams.head(top_n)\n",
    "#     else:\n",
    "#         return df_ngrams"
   ]
  },
  {
   "cell_type": "markdown",
   "id": "3d5404b4-4a94-4f91-aa38-481ba6484c2f",
   "metadata": {},
   "source": [
    "### Text Explainer"
   ]
  },
  {
   "cell_type": "code",
   "execution_count": null,
   "id": "3e4e9e3c-6bc8-42dd-adf9-94f4a5845895",
   "metadata": {
    "execution": {
     "iopub.status.busy": "2024-02-09T02:41:10.538321Z",
     "iopub.status.idle": "2024-02-09T02:41:10.538449Z",
     "shell.execute_reply": "2024-02-09T02:41:10.538381Z",
     "shell.execute_reply.started": "2024-02-09T02:41:10.538376Z"
    }
   },
   "outputs": [],
   "source": [
    "X_to_pred = 'It was the best move i had ever seen until the last 30 mins, which ruined the whole thing.'"
   ]
  },
  {
   "cell_type": "code",
   "execution_count": null,
   "id": "249c9913-ae89-4894-91e0-92336720ff06",
   "metadata": {
    "execution": {
     "iopub.status.busy": "2024-02-09T02:41:10.539155Z",
     "iopub.status.idle": "2024-02-09T02:41:10.539345Z",
     "shell.execute_reply": "2024-02-09T02:41:10.539236Z",
     "shell.execute_reply.started": "2024-02-09T02:41:10.539230Z"
    }
   },
   "outputs": [],
   "source": [
    "y"
   ]
  },
  {
   "cell_type": "code",
   "execution_count": null,
   "id": "b7bb4a10-4408-476a-8f4c-4e0aaed7f369",
   "metadata": {
    "execution": {
     "iopub.status.busy": "2024-02-09T02:41:10.539854Z",
     "iopub.status.idle": "2024-02-09T02:41:10.539994Z",
     "shell.execute_reply": "2024-02-09T02:41:10.539920Z",
     "shell.execute_reply.started": "2024-02-09T02:41:10.539914Z"
    }
   },
   "outputs": [],
   "source": [
    "clf_bayes.predict([X_to_pred])"
   ]
  },
  {
   "cell_type": "code",
   "execution_count": null,
   "id": "800db7d9-1bd2-4898-b592-a8718c2afc9c",
   "metadata": {
    "execution": {
     "iopub.status.busy": "2024-02-09T02:41:10.540641Z",
     "iopub.status.idle": "2024-02-09T02:41:10.541260Z",
     "shell.execute_reply": "2024-02-09T02:41:10.541154Z",
     "shell.execute_reply.started": "2024-02-09T02:41:10.541145Z"
    }
   },
   "outputs": [],
   "source": [
    "y.unique()"
   ]
  },
  {
   "cell_type": "code",
   "execution_count": null,
   "id": "d4c3bfd7-5fda-4705-8b23-7a6e72e9e423",
   "metadata": {
    "execution": {
     "iopub.status.busy": "2024-02-09T02:41:10.542079Z",
     "iopub.status.idle": "2024-02-09T02:41:10.542246Z",
     "shell.execute_reply": "2024-02-09T02:41:10.542149Z",
     "shell.execute_reply.started": "2024-02-09T02:41:10.542143Z"
    }
   },
   "outputs": [],
   "source": [
    "from lime.lime_text import LimeTextExplainer\n",
    "explainer = LimeTextExplainer(class_names=y.unique())\n",
    "explanation = explainer.explain_instance(X_to_pred, clf_bayes.predict_proba)\n",
    "explanation.show_in_notebook()"
   ]
  },
  {
   "cell_type": "markdown",
   "id": "e101f3a3-c86e-4677-8fb2-b6c2ebc65361",
   "metadata": {},
   "source": [
    "# Neural Networks"
   ]
  },
  {
   "cell_type": "markdown",
   "id": "8f04a020-d4ff-4940-9628-337e0e6f34d4",
   "metadata": {},
   "source": [
    "Since we already have train/test X and y vars, we will make 2 dataset objects using tf.data.Dataset.from_tensor_slices.\n",
    "\n",
    "1. The training dataset using X_train, y_train (that we resampled/balanced)\n",
    "2. The val/test dataset using X_test, y-test.\n",
    "\n",
    "We will then split the val/test dataset into a val/test split.\n"
   ]
  },
  {
   "cell_type": "code",
   "execution_count": null,
   "id": "f53033e1-4f3e-4056-a9f5-402214188f9a",
   "metadata": {
    "execution": {
     "iopub.status.busy": "2024-02-09T02:41:10.542982Z",
     "iopub.status.idle": "2024-02-09T02:41:10.543132Z",
     "shell.execute_reply": "2024-02-09T02:41:10.543059Z",
     "shell.execute_reply.started": "2024-02-09T02:41:10.543054Z"
    }
   },
   "outputs": [],
   "source": [
    "# Convert training data to Dataset Object\n",
    "train_ds = tf.data.Dataset.from_tensor_slices((X_train, y_train))\n",
    "# Shuffle dataset once\n",
    "train_ds = train_ds.shuffle(buffer_size=len(train_ds), seed=321,\n",
    "                            reshuffle_each_iteration=False)"
   ]
  },
  {
   "cell_type": "code",
   "execution_count": null,
   "id": "868ba87a-3926-4523-ba1d-ed4b7fb80306",
   "metadata": {
    "execution": {
     "iopub.status.busy": "2024-02-09T02:41:10.543762Z",
     "iopub.status.idle": "2024-02-09T02:41:10.544020Z",
     "shell.execute_reply": "2024-02-09T02:41:10.543887Z",
     "shell.execute_reply.started": "2024-02-09T02:41:10.543873Z"
    }
   },
   "outputs": [],
   "source": [
    "# Convert test to dataset object and split\n",
    "val_test_split_ds = tf.data.Dataset.from_tensor_slices((X_test, y_test))\n",
    "val_test_split_ds"
   ]
  },
  {
   "cell_type": "code",
   "execution_count": null,
   "id": "70bb513c-5473-4e62-a2b0-29425bc5a421",
   "metadata": {
    "execution": {
     "iopub.status.busy": "2024-02-09T02:41:10.544451Z",
     "iopub.status.idle": "2024-02-09T02:41:10.544616Z",
     "shell.execute_reply": "2024-02-09T02:41:10.544511Z",
     "shell.execute_reply.started": "2024-02-09T02:41:10.544506Z"
    }
   },
   "outputs": [],
   "source": [
    "# Calculate # of samples for 50/50 val/test split\n",
    "n_val_samples =  int(len(val_test_split_ds) * .5)\n",
    "n_val_samples"
   ]
  },
  {
   "cell_type": "code",
   "execution_count": null,
   "id": "48d9e9c2-30cc-4018-bd0a-8ab69d9acf72",
   "metadata": {
    "execution": {
     "iopub.status.busy": "2024-02-09T02:41:10.545438Z",
     "iopub.status.idle": "2024-02-09T02:41:10.545651Z",
     "shell.execute_reply": "2024-02-09T02:41:10.545518Z",
     "shell.execute_reply.started": "2024-02-09T02:41:10.545512Z"
    }
   },
   "outputs": [],
   "source": [
    "## Perform the val/test split\n",
    "## Create the validation dataset\n",
    "val_ds = val_test_split_ds.take(n_val_samples)\n",
    "\n",
    "## Create the test dataset\n",
    "test_ds = val_test_split_ds.skip(n_val_samples)\n",
    "# Comparing the len gths of all 3 splits\n",
    "len(train_ds), len(val_ds), len(test_ds)"
   ]
  },
  {
   "cell_type": "code",
   "execution_count": null,
   "id": "b0e9b621-5f3f-44be-94f8-ceda0d2aebec",
   "metadata": {
    "execution": {
     "iopub.status.busy": "2024-02-09T02:41:10.546558Z",
     "iopub.status.idle": "2024-02-09T02:41:10.546762Z",
     "shell.execute_reply": "2024-02-09T02:41:10.546636Z",
     "shell.execute_reply.started": "2024-02-09T02:41:10.546630Z"
    }
   },
   "outputs": [],
   "source": [
    "# Shuffle only the training data every epoch\n",
    "train_ds = train_ds.shuffle(len(train_ds), seed=321)\n",
    "\n",
    "\n",
    "#  Setting the batch_size for all datasets\n",
    "BATCH_SIZE = 32\n",
    "\n",
    "# use .batch to add batching to all 3 datasets\n",
    "train_ds = train_ds.batch(BATCH_SIZE)\n",
    "val_ds = val_ds.batch(BATCH_SIZE)\n",
    "test_ds = test_ds.batch(BATCH_SIZE)\n",
    "\n",
    "\n",
    "# Confirm the number of batches in each\n",
    "print (f' There are {len(train_ds)} training batches.')\n",
    "print (f' There are {len(val_ds)} validation batches.')\n",
    "print (f' There are {len(test_ds)} testing batches.')"
   ]
  },
  {
   "cell_type": "code",
   "execution_count": null,
   "id": "a4002093-d64e-4e6f-a17f-bb9386cd400f",
   "metadata": {
    "execution": {
     "iopub.status.busy": "2024-02-09T02:41:10.547842Z",
     "iopub.status.idle": "2024-02-09T02:41:10.547996Z",
     "shell.execute_reply": "2024-02-09T02:41:10.547918Z",
     "shell.execute_reply.started": "2024-02-09T02:41:10.547912Z"
    }
   },
   "outputs": [],
   "source": [
    "# # taking a sample \n",
    "# example_X, example_y= train_ds.take(1).get_single_element()\n",
    "# print(example_X)\n",
    "# print(example_y)"
   ]
  },
  {
   "cell_type": "code",
   "execution_count": null,
   "id": "ec14d958-3208-43e9-8c65-ea21d1b20295",
   "metadata": {
    "execution": {
     "iopub.status.busy": "2024-02-09T02:41:10.548788Z",
     "iopub.status.idle": "2024-02-09T02:41:10.548929Z",
     "shell.execute_reply": "2024-02-09T02:41:10.548858Z",
     "shell.execute_reply.started": "2024-02-09T02:41:10.548852Z"
    }
   },
   "outputs": [],
   "source": [
    "## Saving Train and test dataset\n",
    "fname_train_ds = FPATHS['data']['nn']['train_dir']\n",
    "train_ds.save(path=fname_train_ds,)\n",
    "\n",
    "fname_test_ds = FPATHS['data']['nn']['test_dir']\n",
    "test_ds.save(path=fname_test_ds,)"
   ]
  },
  {
   "cell_type": "code",
   "execution_count": null,
   "id": "71dc9c81-1a97-494d-8eab-f27927d47b55",
   "metadata": {
    "execution": {
     "iopub.status.busy": "2024-02-09T02:41:10.549607Z",
     "iopub.status.idle": "2024-02-09T02:41:10.549752Z",
     "shell.execute_reply": "2024-02-09T02:41:10.549675Z",
     "shell.execute_reply.started": "2024-02-09T02:41:10.549666Z"
    }
   },
   "outputs": [],
   "source": [
    "# df_ml = df_ml.copy()\n",
    "df_ml['sequence_length'] = df_ml['review_text'].map( lambda x: len(x.split(\" \")))\n",
    "ax = sns.histplot(df_ml['sequence_length'])"
   ]
  },
  {
   "cell_type": "code",
   "execution_count": null,
   "id": "9fd8f1d9-6f19-4617-b78a-e1a738cc98d6",
   "metadata": {
    "execution": {
     "iopub.status.busy": "2024-02-09T02:41:10.550502Z",
     "iopub.status.idle": "2024-02-09T02:41:10.550920Z",
     "shell.execute_reply": "2024-02-09T02:41:10.550840Z",
     "shell.execute_reply.started": "2024-02-09T02:41:10.550833Z"
    }
   },
   "outputs": [],
   "source": [
    "ax = sns.boxplot(data=df_ml, x='sequence_length')"
   ]
  },
  {
   "cell_type": "code",
   "execution_count": null,
   "id": "d42632e6-9600-443c-ac17-20031c801014",
   "metadata": {
    "execution": {
     "iopub.status.busy": "2024-02-09T02:41:10.551556Z",
     "iopub.status.idle": "2024-02-09T02:41:10.551710Z",
     "shell.execute_reply": "2024-02-09T02:41:10.551623Z",
     "shell.execute_reply.started": "2024-02-09T02:41:10.551617Z"
    }
   },
   "outputs": [],
   "source": [
    "# Get just the text from ds_train\n",
    "ds_texts = train_ds.map(lambda x, y: x)\n",
    "\n",
    "# Preview the text\n",
    "# ds_texts.take(1).get_single_element()"
   ]
  },
  {
   "cell_type": "code",
   "execution_count": null,
   "id": "ffa04b95-b93f-4b18-95e5-48541d09065b",
   "metadata": {
    "execution": {
     "iopub.status.busy": "2024-02-09T02:41:10.552470Z",
     "iopub.status.idle": "2024-02-09T02:41:10.552614Z",
     "shell.execute_reply": "2024-02-09T02:41:10.552543Z",
     "shell.execute_reply.started": "2024-02-09T02:41:10.552537Z"
    }
   },
   "outputs": [],
   "source": [
    "SEQUENCE_LENGTH = 300\n",
    "# Create text Vectorization layer\n",
    "sequence_vectorizer = tf.keras.layers.TextVectorization(\n",
    "    standardize=\"lower_and_strip_punctuation\",\n",
    "    output_mode=\"int\",\n",
    "    output_sequence_length=SEQUENCE_LENGTH,\n",
    "    # max_tokens=50_000\n",
    ")\n",
    "sequence_vectorizer.adapt(ds_texts)\n",
    "VOCAB_SIZE = sequence_vectorizer.vocabulary_size()\n",
    "VOCAB_SIZE\n"
   ]
  },
  {
   "cell_type": "markdown",
   "id": "71bdfc41-bdb8-45df-b34c-fcf5d4d21859",
   "metadata": {},
   "source": [
    "#### LSTM"
   ]
  },
  {
   "cell_type": "code",
   "execution_count": null,
   "id": "87fa9e26-a1a5-447f-84ad-0decccec57df",
   "metadata": {
    "execution": {
     "iopub.status.busy": "2024-02-09T02:41:10.553362Z",
     "iopub.status.idle": "2024-02-09T02:41:10.553536Z",
     "shell.execute_reply": "2024-02-09T02:41:10.553436Z",
     "shell.execute_reply.started": "2024-02-09T02:41:10.553430Z"
    }
   },
   "outputs": [],
   "source": [
    "# # Code below is from CNN Week\n",
    "# def get_callbacks(patience=3, monitor='val_accuracy'):\n",
    "#     early_stop = tf.keras.callbacks.EarlyStopping(patience=patience, monitor=monitor, verbose=True)\n",
    "#     return [early_stop]\n",
    "\n",
    "\n",
    "### Call backs\n",
    "# @tf.function\n",
    "def get_callbacks(monitor='val_accuracy',patience=3, restore_best_weights=False,\n",
    "                  start_from_epoch=0,baseline_value=None,\n",
    "                  verbose_early_stopping=1,  \n",
    "                  tensborboard=False, logdir=\"/tmp/tb_logs\",\n",
    "                 tb_embed_freq=0, tb_write_images = False, tb_hist_freq = 0):\n",
    "\n",
    "    early_stopping = tf.keras.callbacks.EarlyStopping(monitor=monitor, patience=patience, #mode=mode, \n",
    "                                                      restore_best_weights=restore_best_weights,\n",
    "                                                      baseline=baseline_value,\n",
    "                                                      start_from_epoch=start_from_epoch,\n",
    "                                                      verbose=verbose_early_stopping)\n",
    "\n",
    "    if tensborboard:\n",
    "        tboard = tf.keras.callbacks.TensorBoard(log_dir=logdir, histogram_freq=tb_hist_freq,write_images=tb_write_images,\n",
    "                                                embeddings_freq=tb_embed_freq,)\n",
    "        return [ early_stopping, tboard]\n",
    "    else:\n",
    "        return [early_stopping]"
   ]
  },
  {
   "cell_type": "code",
   "execution_count": null,
   "id": "2d0c60de-4e8d-4787-982d-8c25e0ea8440",
   "metadata": {
    "execution": {
     "iopub.status.busy": "2024-02-09T02:41:10.554856Z",
     "iopub.status.idle": "2024-02-09T02:41:10.555034Z",
     "shell.execute_reply": "2024-02-09T02:41:10.554935Z",
     "shell.execute_reply.started": "2024-02-09T02:41:10.554929Z"
    }
   },
   "outputs": [],
   "source": [
    "# Define a function for building an LSTM model\n",
    "from tensorflow.keras import layers, optimizers, regularizers\n",
    "from tensorflow.keras.models import Sequential\n",
    "\n",
    "\n",
    "# @tf.function\n",
    "def build_lstm_model(text_vectorization_layer, binary_task=True):\n",
    "    VOCAB_SIZE = text_vectorization_layer.vocabulary_size()\n",
    "\n",
    "    if binary_task == True:\n",
    "        final_activation = \"sigmoid\"  # ?\n",
    "        loss_func = \"binary_crossentropy\"\n",
    "        nunits_output = 1\n",
    "    else:\n",
    "        final_activation = \"softmax\"  # ?\n",
    "        loss_func = \"sparse_categorical_crossentropy\"\n",
    "        nunits_output = len(classes)\n",
    "\n",
    "    # Define sequential model with pre-trained vectorization layer and *new* embedding layer\n",
    "    lstm_model = Sequential(\n",
    "        [\n",
    "            text_vectorization_layer,\n",
    "            layers.Embedding(\n",
    "                input_dim=VOCAB_SIZE, output_dim=EMBED_DIM, input_length=SEQUENCE_LENGTH\n",
    "            ),\n",
    "        ]\n",
    "    )\n",
    "\n",
    "    # Add *new* LSTM layer\n",
    "    lstm_model.add(layers.LSTM(64, recurrent_dropout=0.1, return_sequences=True))\n",
    "    lstm_model.add(layers.Dropout(0.5))\n",
    "    lstm_model.add(layers.LSTM(64, return_sequences=True))\n",
    "    lstm_model.add(layers.GlobalMaxPooling1D())\n",
    "\n",
    "    # Add output layer\n",
    "    lstm_model.add(layers.Dense(nunits_output, activation=final_activation))\n",
    "\n",
    "    # Compile the model\n",
    "    lr_schedule = optimizers.schedules.ExponentialDecay(\n",
    "        initial_learning_rate=0.01, decay_steps=10000, decay_rate=0.95\n",
    "    )  # 0.9)\n",
    "    optimizer = optimizers.legacy.Adam(learning_rate=lr_schedule)\n",
    "    lstm_model.compile(\n",
    "        optimizer=optimizer,  #'adam',\n",
    "        loss=loss_func,  # \"sparse_categorical_crossentropy\",\n",
    "        metrics=[  # tf.metrics.Accuracy(name='accuracy'),\n",
    "            \"accuracy\",\n",
    "            tf.metrics.Recall(name=\"recall\")\n",
    "            # tf.keras.metrics.Recall(class_id=0, name=\"recall_class_0\"),\n",
    "            # tf.keras.metrics.Recall(class_id=1, name=\"recall_class_1\"),\n",
    "        ],\n",
    "    )\n",
    "\n",
    "    lstm_model.summary()\n",
    "    return lstm_model"
   ]
  },
  {
   "cell_type": "code",
   "execution_count": null,
   "id": "d72cb870-de20-41b2-bc6b-f7e2e06fb2f9",
   "metadata": {
    "execution": {
     "iopub.status.busy": "2024-02-09T02:41:10.556079Z",
     "iopub.status.idle": "2024-02-09T02:41:10.556217Z",
     "shell.execute_reply": "2024-02-09T02:41:10.556149Z",
     "shell.execute_reply.started": "2024-02-09T02:41:10.556144Z"
    }
   },
   "outputs": [],
   "source": [
    "EMBED_DIM = 50\n",
    "classes = y_train.unique()\n",
    "# Build the lstm model and specify the vectorizer\n",
    "lstm_model = build_lstm_model(sequence_vectorizer)\n",
    "\n",
    "# Defien number of epocs\n",
    "EPOCHS = 30\n",
    "\n",
    "# Fit the model\n",
    "history = lstm_model.fit(\n",
    "    train_ds,\n",
    "    epochs=EPOCHS,\n",
    "    validation_data=val_ds,\n",
    "    callbacks=get_callbacks(),\n",
    ")\n",
    "\n",
    "ds.evaluate.plot_history(history)"
   ]
  },
  {
   "cell_type": "code",
   "execution_count": null,
   "id": "565d4d59-399d-4538-ae08-56d4129db1f7",
   "metadata": {
    "execution": {
     "iopub.status.busy": "2024-02-09T02:41:10.557377Z",
     "iopub.status.idle": "2024-02-09T02:41:10.557675Z",
     "shell.execute_reply": "2024-02-09T02:41:10.557579Z",
     "shell.execute_reply.started": "2024-02-09T02:41:10.557570Z"
    }
   },
   "outputs": [],
   "source": [
    "# Obtain the results\n",
    "results = ds.evaluate.evaluate_classification_network(\n",
    "    lstm_model, X_train=train_ds, \n",
    "    X_test=test_ds,# history=history\n",
    ");"
   ]
  },
  {
   "cell_type": "code",
   "execution_count": null,
   "id": "6e2d5b09-36d4-4b92-b870-42ff7486f3c4",
   "metadata": {
    "execution": {
     "iopub.status.busy": "2024-02-09T02:41:10.558612Z",
     "iopub.status.idle": "2024-02-09T02:41:10.558807Z",
     "shell.execute_reply": "2024-02-09T02:41:10.558690Z",
     "shell.execute_reply.started": "2024-02-09T02:41:10.558684Z"
    }
   },
   "outputs": [],
   "source": [
    "# raise Exception(\"Add model fpaths to filepaths.json first and then use those below:\")"
   ]
  },
  {
   "cell_type": "markdown",
   "id": "5422b35e-a8d2-4144-a22f-36ab95f960dd",
   "metadata": {},
   "source": [
    "#### Saving Model 1"
   ]
  },
  {
   "cell_type": "code",
   "execution_count": null,
   "id": "d8ee70dc-f4f5-4a05-80f8-18c22dd014c0",
   "metadata": {
    "execution": {
     "iopub.status.busy": "2024-02-09T02:41:10.560057Z",
     "iopub.status.idle": "2024-02-09T02:41:10.560246Z",
     "shell.execute_reply": "2024-02-09T02:41:10.560152Z",
     "shell.execute_reply.started": "2024-02-09T02:41:10.560145Z"
    }
   },
   "outputs": [],
   "source": [
    "FPATHS['models']"
   ]
  },
  {
   "cell_type": "code",
   "execution_count": null,
   "id": "82dfcc3f-c360-46a7-bee0-ef9de722fef6",
   "metadata": {
    "execution": {
     "iopub.status.busy": "2024-02-09T02:41:10.561077Z",
     "iopub.status.idle": "2024-02-09T02:41:10.561658Z",
     "shell.execute_reply": "2024-02-09T02:41:10.561494Z",
     "shell.execute_reply.started": "2024-02-09T02:41:10.561484Z"
    }
   },
   "outputs": [],
   "source": [
    "# Saving model in tf format \n",
    "fname_model_lstm = FPATHS['models']['nn']['LSTM_dir']# \"Models/keras/lstm/\" # Filename is a folder for save_format='tf'\n",
    "lstm_model.save(fname_model_lstm, save_format='tf')"
   ]
  },
  {
   "cell_type": "code",
   "execution_count": null,
   "id": "7260ae74-1f22-4a87-9aa2-33371e947016",
   "metadata": {
    "execution": {
     "iopub.status.busy": "2024-02-09T02:41:10.562392Z",
     "iopub.status.idle": "2024-02-09T02:41:10.562603Z",
     "shell.execute_reply": "2024-02-09T02:41:10.562490Z",
     "shell.execute_reply.started": "2024-02-09T02:41:10.562484Z"
    }
   },
   "outputs": [],
   "source": [
    "## Loading the Model\n",
    "loaded_network = tf.keras.models.load_model(fname_model_lstm)\n",
    "loaded_network.summary()"
   ]
  },
  {
   "cell_type": "code",
   "execution_count": null,
   "id": "3226a956-522c-4c1e-9e33-eb042cf65e0c",
   "metadata": {
    "execution": {
     "iopub.status.busy": "2024-02-09T02:41:10.563680Z",
     "iopub.status.idle": "2024-02-09T02:41:10.563850Z",
     "shell.execute_reply": "2024-02-09T02:41:10.563769Z",
     "shell.execute_reply.started": "2024-02-09T02:41:10.563763Z"
    }
   },
   "outputs": [],
   "source": [
    "# # Obtain the results\n",
    "# results = ds.evaluate.evaluate_classification_network(\n",
    "#     loaded_network, X_train=train_ds, \n",
    "#     X_test=test_ds, history=history\n",
    "# );"
   ]
  },
  {
   "cell_type": "markdown",
   "id": "08fd08ca-bcbd-4174-a4f4-88f306327666",
   "metadata": {},
   "source": [
    "## Testing Saving/Loading Dataset Objects"
   ]
  },
  {
   "cell_type": "code",
   "execution_count": null,
   "id": "29c1c4c1-3c46-45ea-83e4-b79126be9fed",
   "metadata": {},
   "outputs": [],
   "source": []
  },
  {
   "cell_type": "code",
   "execution_count": null,
   "id": "f17bea62-3338-40bd-b08c-bec71f305219",
   "metadata": {},
   "outputs": [],
   "source": []
  },
  {
   "cell_type": "markdown",
   "id": "248e9e43-9df5-4aef-bad9-209c231d0ec1",
   "metadata": {},
   "source": [
    "### RNN Model 2"
   ]
  },
  {
   "cell_type": "code",
   "execution_count": null,
   "id": "28127f4f-5e3b-4bee-bd1d-6e5e8134a299",
   "metadata": {
    "execution": {
     "iopub.status.busy": "2024-02-09T02:41:10.564286Z",
     "iopub.status.idle": "2024-02-09T02:41:10.564757Z",
     "shell.execute_reply": "2024-02-09T02:41:10.564637Z",
     "shell.execute_reply.started": "2024-02-09T02:41:10.564624Z"
    }
   },
   "outputs": [],
   "source": [
    "def build_gru_model_bi_pool(text_vectorization_layer, binary_task=True):\n",
    "    VOCAB_SIZE = text_vectorization_layer.vocabulary_size()\n",
    "    \n",
    "    if binary_task == True:\n",
    "        final_activation = \"sigmoid\"  # ?\n",
    "        loss_func = \"binary_crossentropy\"\n",
    "        nunits_output = 1\n",
    "    else:\n",
    "        final_activation = \"softmax\"  # ?\n",
    "        loss_func = \"sparse_categorical_crossentropy\"\n",
    "        nunits_output = len(classes)\n",
    "    \n",
    "    # Define sequential model with pre-trained vectorization layer and *new* embedding layer\n",
    "    model = Sequential(\n",
    "        [\n",
    "            text_vectorization_layer,\n",
    "            layers.Embedding(\n",
    "                input_dim=VOCAB_SIZE, output_dim=EMBED_DIM, input_length=SEQUENCE_LENGTH\n",
    "            ),\n",
    "        ]\n",
    "    )\n",
    "    model = Sequential([\n",
    "        text_vectorization_layer,\n",
    "        layers.Embedding(input_dim=VOCAB_SIZE,\n",
    "                      output_dim=EMBED_DIM,\n",
    "                      input_length=SEQUENCE_LENGTH)])\n",
    "        \n",
    "    # Add bidirectional component to GRU layer \n",
    "    model.add(layers.Bidirectional(layers.GRU(128, return_sequences = True)))\n",
    "    \n",
    "    # Add a pooling layer *new\n",
    "    model.add(layers.GlobalMaxPooling1D())\n",
    "    \n",
    "    # Output layer\n",
    "    model.add(layers.Dense(nunits_output, activation=final_activation))\n",
    "                     \n",
    "    # optimizer = optimizers.legacy.Adam()\n",
    "    # Compile the model\n",
    "    lr_schedule = optimizers.schedules.ExponentialDecay(\n",
    "        initial_learning_rate=0.01, decay_steps=10000, decay_rate=0.95\n",
    "    )  # 0.9)\n",
    "    optimizer = optimizers.legacy.Adam(learning_rate=lr_schedule)\n",
    "    model.compile(optimizer=optimizer, \n",
    "                  loss=loss_func,\n",
    "                              metrics=[  # tf.metrics.Accuracy(name='accuracy'),\n",
    "            \"accuracy\",\n",
    "            tf.metrics.Recall(name=\"recall\")\n",
    "                              ])\n",
    "    model.summary()\n",
    "    return model"
   ]
  },
  {
   "cell_type": "code",
   "execution_count": null,
   "id": "cf2ff95d-8e54-45ac-9dec-52cb43baa4c9",
   "metadata": {},
   "outputs": [],
   "source": []
  },
  {
   "cell_type": "code",
   "execution_count": null,
   "id": "a8f1793c-0c81-4e62-9d29-e28c86884575",
   "metadata": {
    "execution": {
     "iopub.status.busy": "2024-02-09T02:41:10.565468Z",
     "iopub.status.idle": "2024-02-09T02:41:10.565646Z",
     "shell.execute_reply": "2024-02-09T02:41:10.565557Z",
     "shell.execute_reply.started": "2024-02-09T02:41:10.565551Z"
    },
    "scrolled": true
   },
   "outputs": [],
   "source": [
    "# EMBED_DIM = 50\n",
    "# classes = y_train.unique()\n",
    "# MAX_TOKENS = sequence_vectorizer.vocabulary_size()\n",
    "# Build the lstm model and specify the vectorizer\n",
    "bidirection_model = build_gru_model_bi_pool(sequence_vectorizer)\n",
    "\n",
    "# Defien number of epocs\n",
    "EPOCHS = 30\n",
    "\n",
    "# Fit the model\n",
    "history = bidirection_model.fit(\n",
    "    train_ds,\n",
    "    epochs=EPOCHS,\n",
    "    validation_data=val_ds,\n",
    "    callbacks=get_callbacks(),\n",
    ")\n",
    "ds.evaluate.plot_history(history)"
   ]
  },
  {
   "cell_type": "code",
   "execution_count": null,
   "id": "febd7eaf-e884-4356-95f8-46a97cd3bf28",
   "metadata": {
    "execution": {
     "iopub.status.busy": "2024-02-09T02:41:10.566508Z",
     "iopub.status.idle": "2024-02-09T02:41:10.566673Z",
     "shell.execute_reply": "2024-02-09T02:41:10.566585Z",
     "shell.execute_reply.started": "2024-02-09T02:41:10.566579Z"
    }
   },
   "outputs": [],
   "source": [
    "# Obtain the results\n",
    "results = ds.evaluate.evaluate_classification_network(\n",
    "    bidirection_model, X_train=train_ds, \n",
    "    X_test=test_ds,# history=history\n",
    ");"
   ]
  },
  {
   "cell_type": "code",
   "execution_count": null,
   "id": "6de713dd-b69c-43a7-8690-42cd251d3227",
   "metadata": {
    "execution": {
     "iopub.status.busy": "2024-02-09T02:41:10.567335Z",
     "iopub.status.idle": "2024-02-09T02:41:10.567589Z",
     "shell.execute_reply": "2024-02-09T02:41:10.567501Z",
     "shell.execute_reply.started": "2024-02-09T02:41:10.567493Z"
    }
   },
   "outputs": [],
   "source": [
    "# Saving model in tf format \n",
    "fname_model_gru = FPATHS['models']['nn']['GRU_dir']# \"Models/keras/lstm/\" # Filename is a folder for save_format='tf'\n",
    "bidirection_model.save(fname_model_gru, save_format='tf')"
   ]
  },
  {
   "cell_type": "markdown",
   "id": "ab7860d9-b861-4eb4-bd2b-63c84a4d7ac2",
   "metadata": {},
   "source": [
    "## Attention model"
   ]
  },
  {
   "cell_type": "code",
   "execution_count": null,
   "id": "2a92fd77-7c4f-442c-b7b2-a74908bc453d",
   "metadata": {
    "execution": {
     "iopub.status.busy": "2024-02-09T02:41:10.568413Z",
     "iopub.status.idle": "2024-02-09T02:41:10.568755Z",
     "shell.execute_reply": "2024-02-09T02:41:10.568648Z",
     "shell.execute_reply.started": "2024-02-09T02:41:10.568640Z"
    }
   },
   "outputs": [],
   "source": [
    "from tensorflow.keras.layers import MultiHeadAttention\n",
    "from tensorflow.keras import models\n",
    "\n",
    "def build_attention_model(text_vectorization_layer, binary_task=True):\n",
    "    VOCAB_SIZE = text_vectorization_layer.vocabulary_size()\n",
    "    \n",
    "    if binary_task == True:\n",
    "        final_activation = \"sigmoid\"  # ?\n",
    "        loss_func = \"binary_crossentropy\"\n",
    "        nunits_output = 1\n",
    "    else:\n",
    "        final_activation = \"softmax\"  # ?\n",
    "        loss_func = \"sparse_categorical_crossentropy\"\n",
    "        nunits_output = len(classes)\n",
    "\n",
    "    # Input layer\n",
    "    input_layer = layers.Input(shape=(SEQUENCE_LENGTH,), dtype=tf.string) \n",
    "    flattened_input = tf.reshape(input_layer, (-1,))\n",
    "    \n",
    "\n",
    "    # Vectorization and embedding\n",
    "    x = text_vectorization_layer(flattened_input)\n",
    "    x = layers.Embedding(input_dim=VOCAB_SIZE, output_dim=EMBED_DIM, input_length=SEQUENCE_LENGTH)(x)\n",
    "\n",
    "    # MultiHeadAttention\n",
    "    # In this case, using the same tensor for query, key, and value\n",
    "    attention_output = layers.MultiHeadAttention(num_heads=4, key_dim=200, value_dim=EMBED_DIM)(x, x, x)\n",
    "    x = layers.Flatten()(attention_output)\n",
    "\n",
    "    # Further layers\n",
    "    x = layers.Dense(128, activation='relu')(x)\n",
    "    outputs = layers.Dense(nunits_output, activation=final_activation)(x)\n",
    "\n",
    "    # Model creation\n",
    "    model = models.Model(inputs=input_layer, outputs=outputs)\n",
    "\n",
    "    # optimizer = optimizers.legacy.Adam()\n",
    "    # Compile the model\n",
    "    lr_schedule = optimizers.schedules.ExponentialDecay(\n",
    "        initial_learning_rate=0.01, decay_steps=10000, decay_rate=0.95\n",
    "    )  # 0.9)\n",
    "    optimizer = optimizers.legacy.Adam(learning_rate=lr_schedule)\n",
    "    \n",
    "    model.compile(optimizer=optimizer, \n",
    "                  loss=loss_func,\n",
    "                              metrics=[  # tf.metrics.Accuracy(name='accuracy'),\n",
    "            \"accuracy\",\n",
    "            tf.metrics.Recall(name=\"recall\")\n",
    "                              ])\n",
    "    model.summary()\n",
    "    return model\n"
   ]
  },
  {
   "cell_type": "code",
   "execution_count": null,
   "id": "a7e78b32-9f54-4d88-9b88-86b53f2d1718",
   "metadata": {
    "execution": {
     "iopub.status.busy": "2024-02-09T02:41:10.569487Z",
     "iopub.status.idle": "2024-02-09T02:41:10.569642Z",
     "shell.execute_reply": "2024-02-09T02:41:10.569562Z",
     "shell.execute_reply.started": "2024-02-09T02:41:10.569556Z"
    }
   },
   "outputs": [],
   "source": [
    "SEQUENCE_LENGTH"
   ]
  },
  {
   "cell_type": "code",
   "execution_count": null,
   "id": "a03d86cd-ff34-4c58-8d4c-7d508100279b",
   "metadata": {
    "execution": {
     "iopub.status.busy": "2024-02-09T02:41:10.570322Z",
     "iopub.status.idle": "2024-02-09T02:41:10.570489Z",
     "shell.execute_reply": "2024-02-09T02:41:10.570383Z",
     "shell.execute_reply.started": "2024-02-09T02:41:10.570378Z"
    }
   },
   "outputs": [],
   "source": [
    "# EMBED_DIM = 50\n",
    "# classes = y_train.unique()\n",
    "# MAX_TOKENS = sequence_vectorizer.vocabulary_size()\n",
    "# Build the lstm model and specify the vectorizer\n",
    "attention_model = build_attention_model(sequence_vectorizer, binary_task=True)\n",
    "\n",
    "# Defien number of epocs\n",
    "EPOCHS = 30\n",
    "\n",
    "# Fit the model\n",
    "history = attention_model.fit(\n",
    "    train_ds,\n",
    "    epochs=EPOCHS,\n",
    "    validation_data=val_ds,\n",
    "    callbacks=get_callbacks(),\n",
    ")\n",
    "ds.evaluate.plot_history(history)"
   ]
  },
  {
   "cell_type": "code",
   "execution_count": null,
   "id": "af85a515-b3b9-4123-8f72-687d73ae422a",
   "metadata": {
    "execution": {
     "iopub.status.busy": "2024-02-09T02:41:10.570971Z",
     "iopub.status.idle": "2024-02-09T02:41:10.571112Z",
     "shell.execute_reply": "2024-02-09T02:41:10.571035Z",
     "shell.execute_reply.started": "2024-02-09T02:41:10.571029Z"
    }
   },
   "outputs": [],
   "source": [
    "# Obtain the results\n",
    "results = ds.evaluate.evaluate_classification_network(\n",
    "    attention_model, X_train=train_ds, \n",
    "    X_test=test_ds,# history=history\n",
    ");"
   ]
  },
  {
   "cell_type": "markdown",
   "id": "24ae7f00-1c41-4d75-8df2-fc15071fc403",
   "metadata": {},
   "source": [
    "### Saving Tensorflow Datasets and Best Model"
   ]
  },
  {
   "cell_type": "code",
   "execution_count": null,
   "id": "0d36a773-5cfb-4830-8aef-44fcd85a16ef",
   "metadata": {},
   "outputs": [],
   "source": []
  }
 ],
 "metadata": {
  "kernelspec": {
   "display_name": "Python (dojo-env)",
   "language": "python",
   "name": "dojo-env"
  },
  "language_info": {
   "codemirror_mode": {
    "name": "ipython",
    "version": 3
   },
   "file_extension": ".py",
   "mimetype": "text/x-python",
   "name": "python",
   "nbconvert_exporter": "python",
   "pygments_lexer": "ipython3",
   "version": "3.10.10"
  }
 },
 "nbformat": 4,
 "nbformat_minor": 5
}
