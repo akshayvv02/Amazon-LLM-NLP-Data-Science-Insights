{
 "cells": [
  {
   "cell_type": "markdown",
   "id": "fbc1ae31-d891-446e-a2f5-f99252269668",
   "metadata": {},
   "source": [
    "# Part 01 - NLP Preprocessing of Amazon Reviews"
   ]
  },
  {
   "cell_type": "markdown",
   "id": "63cfe0a8-a48c-4c2d-8b55-37958e1c522a",
   "metadata": {},
   "source": [
    "## `DEPRECATED` Switch code over to version B"
   ]
  },
  {
   "cell_type": "markdown",
   "id": "6a22af81-227d-4a7e-b7dd-4a92ab8ca958",
   "metadata": {},
   "source": [
    "### Amazon Data Intro"
   ]
  },
  {
   "cell_type": "code",
   "execution_count": 1,
   "id": "7d43a156-1d6d-4d70-856a-22daa3d93271",
   "metadata": {
    "execution": {
     "iopub.execute_input": "2024-02-08T03:09:28.359921Z",
     "iopub.status.busy": "2024-02-08T03:09:28.359845Z",
     "iopub.status.idle": "2024-02-08T03:09:28.367158Z",
     "shell.execute_reply": "2024-02-08T03:09:28.366639Z",
     "shell.execute_reply.started": "2024-02-08T03:09:28.359913Z"
    }
   },
   "outputs": [
    {
     "data": {
      "text/markdown": [
       "# Amazon Product Reviews\n",
       "\n",
       "- URL: https://cseweb.ucsd.edu/~jmcauley/datasets.html#amazon_reviews \n",
       "\n",
       "## Description\n",
       "\n",
       "This is a large crawl of product reviews from Amazon. This dataset contains 82.83 million unique reviews, from around 20 million users.\n",
       "\n",
       "## Basic statistics\n",
       "\n",
       "| Ratings:  | 82.83 million        |\n",
       "| --------- | -------------------- |\n",
       "| Users:    | 20.98 million        |\n",
       "| Items:    | 9.35 million         |\n",
       "| Timespan: | May 1996 - July 2014 |\n",
       "\n",
       "## Metadata\n",
       "\n",
       "- reviews and ratings\n",
       "- item-to-item relationships (e.g. \"people who bought X also bought Y\")\n",
       "- timestamps\n",
       "- helpfulness votes\n",
       "- product image (and CNN features)\n",
       "- price\n",
       "- category\n",
       "- salesRank\n",
       "\n",
       "## Example\n",
       "\n",
       "```\n",
       "{  \"reviewerID\": \"A2SUAM1J3GNN3B\",  \"asin\": \"0000013714\",  \"reviewerName\": \"J. McDonald\",  \"helpful\": [2, 3],  \"reviewText\": \"I bought this for my husband who plays the piano.  He is having a wonderful time playing these old hymns.  The music  is at times hard to read because we think the book was published for singing from more than playing from.  Great purchase though!\",  \"overall\": 5.0,  \"summary\": \"Heavenly Highway Hymns\",  \"unixReviewTime\": 1252800000,  \"reviewTime\": \"09 13, 2009\" }\n",
       "```\n",
       "\n",
       "## Download link\n",
       "\n",
       "See the [Amazon Dataset Page](https://cseweb.ucsd.edu/~jmcauley/datasets/amazon_v2/) for download information.\n",
       "\n",
       "The 2014 version of this dataset is [also available](https://cseweb.ucsd.edu/~jmcauley/datasets/amazon/links.html).\n",
       "\n",
       "## Citation\n",
       "\n",
       "Please cite the following if you use the data:\n",
       "\n",
       "**Ups and downs: Modeling the visual evolution of fashion trends with one-class collaborative filtering**\n",
       "\n",
       "R. He, J. McAuley\n",
       "\n",
       "*WWW*, 2016\n",
       "[pdf](https://cseweb.ucsd.edu/~jmcauley/pdfs/www16a.pdf)\n",
       "\n",
       "**Image-based recommendations on styles and substitutes**\n",
       "\n",
       "J. McAuley, C. Targett, J. Shi, A. van den Hengel\n",
       "\n",
       "*SIGIR*, 2015\n",
       "[pdf](https://cseweb.ucsd.edu/~jmcauley/pdfs/sigir15.pdf)"
      ],
      "text/plain": [
       "<IPython.core.display.Markdown object>"
      ]
     },
     "metadata": {},
     "output_type": "display_data"
    }
   ],
   "source": [
    "from IPython.display import display, Markdown\n",
    "with open(\"data/Amazon Product Reviews.md\") as f:\n",
    "    info = f.read()\n",
    "\n",
    "display(Markdown(info))"
   ]
  },
  {
   "cell_type": "markdown",
   "id": "9973bac9-f64b-4c1b-ab7d-c0e761f86d9c",
   "metadata": {},
   "source": [
    "<!-- In this notebook we will be preparing Twitter (X) Tweets for sentiment analysis.  Sentiment analysis is a common text classification challenge to determine whether a text is positive or negative.  \n",
    "\n",
    "This is useful for companies that want to analyze large numbers of documents, tweets, reviews, etc., to determine public sentiment about a product or service.\n",
    "\n",
    "The data was originally gathered from Twitter (now X) and hand-labeled.  Of course there will be some human bias in the labeling.  It was downloaded from Kaggle at this site: [Kaggle Twitter Tweets Sentiment Dataset](https://www.kaggle.com/datasets/yasserh/twitter-tweets-sentiment-dataset/)\n",
    "\n",
    "There are 3 classes: positive, negative, and neutral. -->"
   ]
  },
  {
   "cell_type": "code",
   "execution_count": 2,
   "id": "1a6c695c-5cfd-4069-aacf-dacd0457e3d2",
   "metadata": {
    "execution": {
     "iopub.execute_input": "2024-02-08T03:09:28.369468Z",
     "iopub.status.busy": "2024-02-08T03:09:28.369355Z",
     "iopub.status.idle": "2024-02-08T03:09:29.929889Z",
     "shell.execute_reply": "2024-02-08T03:09:29.929565Z",
     "shell.execute_reply.started": "2024-02-08T03:09:28.369459Z"
    }
   },
   "outputs": [],
   "source": [
    "## Import necessary packages\n",
    "import pandas as pd\n",
    "import nltk"
   ]
  },
  {
   "cell_type": "markdown",
   "id": "e8c0645a-3d8a-41f9-a678-23b5862ac8a2",
   "metadata": {},
   "source": [
    "# Load the Data\n",
    "\n",
    "We will load our **corpus** of Amazon Reviews for Hoover products."
   ]
  },
  {
   "cell_type": "code",
   "execution_count": 3,
   "id": "9bdf2423-787a-4089-b601-85edee02ca6c",
   "metadata": {
    "execution": {
     "iopub.execute_input": "2024-02-08T03:09:29.930465Z",
     "iopub.status.busy": "2024-02-08T03:09:29.930320Z",
     "iopub.status.idle": "2024-02-08T03:09:29.958834Z",
     "shell.execute_reply": "2024-02-08T03:09:29.958521Z",
     "shell.execute_reply.started": "2024-02-08T03:09:29.930455Z"
    }
   },
   "outputs": [
    {
     "data": {
      "text/html": [
       "<div>\n",
       "<style scoped>\n",
       "    .dataframe tbody tr th:only-of-type {\n",
       "        vertical-align: middle;\n",
       "    }\n",
       "\n",
       "    .dataframe tbody tr th {\n",
       "        vertical-align: top;\n",
       "    }\n",
       "\n",
       "    .dataframe thead th {\n",
       "        text-align: right;\n",
       "    }\n",
       "</style>\n",
       "<table border=\"1\" class=\"dataframe\">\n",
       "  <thead>\n",
       "    <tr style=\"text-align: right;\">\n",
       "      <th></th>\n",
       "      <th>asin</th>\n",
       "      <th>reviewerID</th>\n",
       "      <th>reviewText</th>\n",
       "      <th>summary</th>\n",
       "      <th>overall</th>\n",
       "      <th>year</th>\n",
       "      <th>title</th>\n",
       "      <th>brand</th>\n",
       "      <th>category</th>\n",
       "    </tr>\n",
       "  </thead>\n",
       "  <tbody>\n",
       "    <tr>\n",
       "      <th>0</th>\n",
       "      <td>B007JINB0W</td>\n",
       "      <td>A1P9BVW2JB1OVL</td>\n",
       "      <td>This has a odd chewy texture and not much flav...</td>\n",
       "      <td>Odd chewy texture</td>\n",
       "      <td>3.0</td>\n",
       "      <td>2014</td>\n",
       "      <td>Miracle Noodle Zero Carb, Gluten Free Shiratak...</td>\n",
       "      <td>Miracle Noodle</td>\n",
       "      <td>Grocery &amp; Gourmet Food; Pasta &amp; Noodles; Noodl...</td>\n",
       "    </tr>\n",
       "    <tr>\n",
       "      <th>1</th>\n",
       "      <td>B007JINB0W</td>\n",
       "      <td>A5JZ2DBS9H3F6</td>\n",
       "      <td>They smell of fish and have a rubbery hard to ...</td>\n",
       "      <td>Fishy gross</td>\n",
       "      <td>1.0</td>\n",
       "      <td>2016</td>\n",
       "      <td>Miracle Noodle Zero Carb, Gluten Free Shiratak...</td>\n",
       "      <td>Miracle Noodle</td>\n",
       "      <td>Grocery &amp; Gourmet Food; Pasta &amp; Noodles; Noodl...</td>\n",
       "    </tr>\n",
       "    <tr>\n",
       "      <th>2</th>\n",
       "      <td>B007JINB0W</td>\n",
       "      <td>A3VYMBAX7IFV3B</td>\n",
       "      <td>MOM DID NOT LIKE THESE</td>\n",
       "      <td>One Star</td>\n",
       "      <td>1.0</td>\n",
       "      <td>2014</td>\n",
       "      <td>Miracle Noodle Zero Carb, Gluten Free Shiratak...</td>\n",
       "      <td>Miracle Noodle</td>\n",
       "      <td>Grocery &amp; Gourmet Food; Pasta &amp; Noodles; Noodl...</td>\n",
       "    </tr>\n",
       "    <tr>\n",
       "      <th>3</th>\n",
       "      <td>B007JINB0W</td>\n",
       "      <td>A25MLB8QXVM2LS</td>\n",
       "      <td>The noodles themselves are fine. The Amazon la...</td>\n",
       "      <td>The noodles themselves are fine. The Amazon la...</td>\n",
       "      <td>2.0</td>\n",
       "      <td>2018</td>\n",
       "      <td>Miracle Noodle Zero Carb, Gluten Free Shiratak...</td>\n",
       "      <td>Miracle Noodle</td>\n",
       "      <td>Grocery &amp; Gourmet Food; Pasta &amp; Noodles; Noodl...</td>\n",
       "    </tr>\n",
       "    <tr>\n",
       "      <th>4</th>\n",
       "      <td>B007JINB0W</td>\n",
       "      <td>A2DZN9RBFVVY7L</td>\n",
       "      <td>So how bad do you want to restrict your calori...</td>\n",
       "      <td>What's important to you?</td>\n",
       "      <td>4.0</td>\n",
       "      <td>2014</td>\n",
       "      <td>Miracle Noodle Zero Carb, Gluten Free Shiratak...</td>\n",
       "      <td>Miracle Noodle</td>\n",
       "      <td>Grocery &amp; Gourmet Food; Pasta &amp; Noodles; Noodl...</td>\n",
       "    </tr>\n",
       "  </tbody>\n",
       "</table>\n",
       "</div>"
      ],
      "text/plain": [
       "         asin      reviewerID  \\\n",
       "0  B007JINB0W  A1P9BVW2JB1OVL   \n",
       "1  B007JINB0W   A5JZ2DBS9H3F6   \n",
       "2  B007JINB0W  A3VYMBAX7IFV3B   \n",
       "3  B007JINB0W  A25MLB8QXVM2LS   \n",
       "4  B007JINB0W  A2DZN9RBFVVY7L   \n",
       "\n",
       "                                          reviewText  \\\n",
       "0  This has a odd chewy texture and not much flav...   \n",
       "1  They smell of fish and have a rubbery hard to ...   \n",
       "2                             MOM DID NOT LIKE THESE   \n",
       "3  The noodles themselves are fine. The Amazon la...   \n",
       "4  So how bad do you want to restrict your calori...   \n",
       "\n",
       "                                             summary  overall  year  \\\n",
       "0                                  Odd chewy texture      3.0  2014   \n",
       "1                                        Fishy gross      1.0  2016   \n",
       "2                                           One Star      1.0  2014   \n",
       "3  The noodles themselves are fine. The Amazon la...      2.0  2018   \n",
       "4                           What's important to you?      4.0  2014   \n",
       "\n",
       "                                               title           brand  \\\n",
       "0  Miracle Noodle Zero Carb, Gluten Free Shiratak...  Miracle Noodle   \n",
       "1  Miracle Noodle Zero Carb, Gluten Free Shiratak...  Miracle Noodle   \n",
       "2  Miracle Noodle Zero Carb, Gluten Free Shiratak...  Miracle Noodle   \n",
       "3  Miracle Noodle Zero Carb, Gluten Free Shiratak...  Miracle Noodle   \n",
       "4  Miracle Noodle Zero Carb, Gluten Free Shiratak...  Miracle Noodle   \n",
       "\n",
       "                                            category  \n",
       "0  Grocery & Gourmet Food; Pasta & Noodles; Noodl...  \n",
       "1  Grocery & Gourmet Food; Pasta & Noodles; Noodl...  \n",
       "2  Grocery & Gourmet Food; Pasta & Noodles; Noodl...  \n",
       "3  Grocery & Gourmet Food; Pasta & Noodles; Noodl...  \n",
       "4  Grocery & Gourmet Food; Pasta & Noodles; Noodl...  "
      ]
     },
     "execution_count": 3,
     "metadata": {},
     "output_type": "execute_result"
    }
   ],
   "source": [
    "df = pd.read_csv('data/subset/amazon-reviews-subset-brand-Miracle Noodle.csv.gz')\n",
    "df.head()"
   ]
  },
  {
   "cell_type": "markdown",
   "id": "15206203-a97b-448d-b5e9-a95c511ec56a",
   "metadata": {},
   "source": [
    "# Some light EDA"
   ]
  },
  {
   "cell_type": "code",
   "execution_count": 4,
   "id": "12e60c31-28a8-48a2-a150-cc2eb9ed3f24",
   "metadata": {
    "execution": {
     "iopub.execute_input": "2024-02-08T03:09:29.959537Z",
     "iopub.status.busy": "2024-02-08T03:09:29.959404Z",
     "iopub.status.idle": "2024-02-08T03:09:29.966679Z",
     "shell.execute_reply": "2024-02-08T03:09:29.966339Z",
     "shell.execute_reply.started": "2024-02-08T03:09:29.959527Z"
    }
   },
   "outputs": [
    {
     "name": "stdout",
     "output_type": "stream",
     "text": [
      "<class 'pandas.core.frame.DataFrame'>\n",
      "RangeIndex: 4363 entries, 0 to 4362\n",
      "Data columns (total 9 columns):\n",
      " #   Column      Non-Null Count  Dtype  \n",
      "---  ------      --------------  -----  \n",
      " 0   asin        4363 non-null   object \n",
      " 1   reviewerID  4363 non-null   object \n",
      " 2   reviewText  4363 non-null   object \n",
      " 3   summary     4363 non-null   object \n",
      " 4   overall     4363 non-null   float64\n",
      " 5   year        4363 non-null   int64  \n",
      " 6   title       4363 non-null   object \n",
      " 7   brand       4363 non-null   object \n",
      " 8   category    4363 non-null   object \n",
      "dtypes: float64(1), int64(1), object(7)\n",
      "memory usage: 306.9+ KB\n"
     ]
    }
   ],
   "source": [
    "df.info()"
   ]
  },
  {
   "cell_type": "code",
   "execution_count": 5,
   "id": "c869dc5e-8f79-4634-a3af-226522d4c641",
   "metadata": {
    "execution": {
     "iopub.execute_input": "2024-02-08T03:09:29.967438Z",
     "iopub.status.busy": "2024-02-08T03:09:29.967326Z",
     "iopub.status.idle": "2024-02-08T03:09:29.973027Z",
     "shell.execute_reply": "2024-02-08T03:09:29.972690Z",
     "shell.execute_reply.started": "2024-02-08T03:09:29.967429Z"
    }
   },
   "outputs": [
    {
     "data": {
      "text/plain": [
       "asin          0\n",
       "reviewerID    0\n",
       "reviewText    0\n",
       "summary       0\n",
       "overall       0\n",
       "year          0\n",
       "title         0\n",
       "brand         0\n",
       "category      0\n",
       "dtype: int64"
      ]
     },
     "execution_count": 5,
     "metadata": {},
     "output_type": "execute_result"
    }
   ],
   "source": [
    "# New\n",
    "df.isna().sum()"
   ]
  },
  {
   "cell_type": "code",
   "execution_count": 6,
   "id": "c7dd5c31-8f5e-4170-b941-57bdeb9459c1",
   "metadata": {
    "execution": {
     "iopub.execute_input": "2024-02-08T03:09:29.973881Z",
     "iopub.status.busy": "2024-02-08T03:09:29.973680Z",
     "iopub.status.idle": "2024-02-08T03:09:29.981191Z",
     "shell.execute_reply": "2024-02-08T03:09:29.980873Z",
     "shell.execute_reply.started": "2024-02-08T03:09:29.973869Z"
    }
   },
   "outputs": [
    {
     "data": {
      "text/plain": [
       "asin          0\n",
       "reviewerID    0\n",
       "reviewText    0\n",
       "summary       0\n",
       "overall       0\n",
       "year          0\n",
       "title         0\n",
       "brand         0\n",
       "category      0\n",
       "dtype: int64"
      ]
     },
     "execution_count": 6,
     "metadata": {},
     "output_type": "execute_result"
    }
   ],
   "source": [
    "df = df.dropna(subset=['reviewText','summary'])\n",
    "df.isna().sum()"
   ]
  },
  {
   "cell_type": "code",
   "execution_count": 7,
   "id": "dc3e96d1-975b-493b-9551-9e242871df7c",
   "metadata": {
    "execution": {
     "iopub.execute_input": "2024-02-08T03:09:29.983388Z",
     "iopub.status.busy": "2024-02-08T03:09:29.983149Z",
     "iopub.status.idle": "2024-02-08T03:09:29.991274Z",
     "shell.execute_reply": "2024-02-08T03:09:29.990936Z",
     "shell.execute_reply.started": "2024-02-08T03:09:29.983375Z"
    }
   },
   "outputs": [
    {
     "data": {
      "text/plain": [
       "0"
      ]
     },
     "execution_count": 7,
     "metadata": {},
     "output_type": "execute_result"
    }
   ],
   "source": [
    "df.duplicated().sum()"
   ]
  },
  {
   "cell_type": "code",
   "execution_count": 8,
   "id": "30895698-db7d-49a2-b920-a083f81f9921",
   "metadata": {
    "execution": {
     "iopub.execute_input": "2024-02-08T03:09:29.992021Z",
     "iopub.status.busy": "2024-02-08T03:09:29.991875Z",
     "iopub.status.idle": "2024-02-08T03:09:30.005282Z",
     "shell.execute_reply": "2024-02-08T03:09:30.004936Z",
     "shell.execute_reply.started": "2024-02-08T03:09:29.992011Z"
    }
   },
   "outputs": [
    {
     "data": {
      "text/plain": [
       "0"
      ]
     },
     "execution_count": 8,
     "metadata": {},
     "output_type": "execute_result"
    }
   ],
   "source": [
    "# New\n",
    "df = df.drop_duplicates()\n",
    "df.duplicated().sum()"
   ]
  },
  {
   "cell_type": "markdown",
   "id": "4fac6618-26a8-4fcf-a8ef-5aaebcd42901",
   "metadata": {},
   "source": [
    "# Some Light Data Cleaning"
   ]
  },
  {
   "cell_type": "markdown",
   "id": "44b37a53-6852-4e0e-93ae-4827ef8a0020",
   "metadata": {},
   "source": [
    "~~We see that our **corpus** has 27481 **documents**, each with an ID, the full text, a shortened version, and the labeled sentiment.~~\n",
    "\n",
    "~~Interestingly, one of the tweets has no text!  We definitely want to get rid of that.  We will also drop the `textID` and `selected_text` columns.  We are going to use the entire text of each tweet, not just a subset.~~\n",
    "\n",
    "~~We will keep the label, `sentiment` for later classification and analysis tasks.~~"
   ]
  },
  {
   "cell_type": "markdown",
   "id": "498ca912-8eb6-44f2-af0c-d5f7da11198d",
   "metadata": {},
   "source": [
    "### ✨ New Cleaning for Amazon:\n",
    "\n",
    "- The reviews are split into 2 parts. The reviewText, which is the majority of the review, and the summary, which is a 1-line summary of the review (that often includes the actual rating: e.g., \"Fours stars- best vacuum)"
   ]
  },
  {
   "cell_type": "code",
   "execution_count": 9,
   "id": "8d4fc876-76fb-43e5-9af6-9c8ad03b9238",
   "metadata": {
    "execution": {
     "iopub.execute_input": "2024-02-08T03:09:30.006085Z",
     "iopub.status.busy": "2024-02-08T03:09:30.005882Z",
     "iopub.status.idle": "2024-02-08T03:09:30.012967Z",
     "shell.execute_reply": "2024-02-08T03:09:30.012609Z",
     "shell.execute_reply.started": "2024-02-08T03:09:30.006068Z"
    }
   },
   "outputs": [
    {
     "data": {
      "text/html": [
       "<div>\n",
       "<style scoped>\n",
       "    .dataframe tbody tr th:only-of-type {\n",
       "        vertical-align: middle;\n",
       "    }\n",
       "\n",
       "    .dataframe tbody tr th {\n",
       "        vertical-align: top;\n",
       "    }\n",
       "\n",
       "    .dataframe thead th {\n",
       "        text-align: right;\n",
       "    }\n",
       "</style>\n",
       "<table border=\"1\" class=\"dataframe\">\n",
       "  <thead>\n",
       "    <tr style=\"text-align: right;\">\n",
       "      <th></th>\n",
       "      <th>asin</th>\n",
       "      <th>reviewerID</th>\n",
       "      <th>reviewText</th>\n",
       "      <th>summary</th>\n",
       "      <th>overall</th>\n",
       "      <th>year</th>\n",
       "      <th>title</th>\n",
       "      <th>brand</th>\n",
       "      <th>category</th>\n",
       "      <th>text-raw</th>\n",
       "    </tr>\n",
       "  </thead>\n",
       "  <tbody>\n",
       "    <tr>\n",
       "      <th>0</th>\n",
       "      <td>B007JINB0W</td>\n",
       "      <td>A1P9BVW2JB1OVL</td>\n",
       "      <td>This has a odd chewy texture and not much flav...</td>\n",
       "      <td>Odd chewy texture</td>\n",
       "      <td>3.0</td>\n",
       "      <td>2014</td>\n",
       "      <td>Miracle Noodle Zero Carb, Gluten Free Shiratak...</td>\n",
       "      <td>Miracle Noodle</td>\n",
       "      <td>Grocery &amp; Gourmet Food; Pasta &amp; Noodles; Noodl...</td>\n",
       "      <td>Odd chewy texture: This has a odd chewy textur...</td>\n",
       "    </tr>\n",
       "    <tr>\n",
       "      <th>1</th>\n",
       "      <td>B007JINB0W</td>\n",
       "      <td>A5JZ2DBS9H3F6</td>\n",
       "      <td>They smell of fish and have a rubbery hard to ...</td>\n",
       "      <td>Fishy gross</td>\n",
       "      <td>1.0</td>\n",
       "      <td>2016</td>\n",
       "      <td>Miracle Noodle Zero Carb, Gluten Free Shiratak...</td>\n",
       "      <td>Miracle Noodle</td>\n",
       "      <td>Grocery &amp; Gourmet Food; Pasta &amp; Noodles; Noodl...</td>\n",
       "      <td>Fishy gross: They smell of fish and have a rub...</td>\n",
       "    </tr>\n",
       "    <tr>\n",
       "      <th>2</th>\n",
       "      <td>B007JINB0W</td>\n",
       "      <td>A3VYMBAX7IFV3B</td>\n",
       "      <td>MOM DID NOT LIKE THESE</td>\n",
       "      <td>One Star</td>\n",
       "      <td>1.0</td>\n",
       "      <td>2014</td>\n",
       "      <td>Miracle Noodle Zero Carb, Gluten Free Shiratak...</td>\n",
       "      <td>Miracle Noodle</td>\n",
       "      <td>Grocery &amp; Gourmet Food; Pasta &amp; Noodles; Noodl...</td>\n",
       "      <td>One Star: MOM DID NOT LIKE THESE</td>\n",
       "    </tr>\n",
       "    <tr>\n",
       "      <th>3</th>\n",
       "      <td>B007JINB0W</td>\n",
       "      <td>A25MLB8QXVM2LS</td>\n",
       "      <td>The noodles themselves are fine. The Amazon la...</td>\n",
       "      <td>The noodles themselves are fine. The Amazon la...</td>\n",
       "      <td>2.0</td>\n",
       "      <td>2018</td>\n",
       "      <td>Miracle Noodle Zero Carb, Gluten Free Shiratak...</td>\n",
       "      <td>Miracle Noodle</td>\n",
       "      <td>Grocery &amp; Gourmet Food; Pasta &amp; Noodles; Noodl...</td>\n",
       "      <td>The noodles themselves are fine. The Amazon la...</td>\n",
       "    </tr>\n",
       "    <tr>\n",
       "      <th>4</th>\n",
       "      <td>B007JINB0W</td>\n",
       "      <td>A2DZN9RBFVVY7L</td>\n",
       "      <td>So how bad do you want to restrict your calori...</td>\n",
       "      <td>What's important to you?</td>\n",
       "      <td>4.0</td>\n",
       "      <td>2014</td>\n",
       "      <td>Miracle Noodle Zero Carb, Gluten Free Shiratak...</td>\n",
       "      <td>Miracle Noodle</td>\n",
       "      <td>Grocery &amp; Gourmet Food; Pasta &amp; Noodles; Noodl...</td>\n",
       "      <td>What's important to you?: So how bad do you wa...</td>\n",
       "    </tr>\n",
       "  </tbody>\n",
       "</table>\n",
       "</div>"
      ],
      "text/plain": [
       "         asin      reviewerID  \\\n",
       "0  B007JINB0W  A1P9BVW2JB1OVL   \n",
       "1  B007JINB0W   A5JZ2DBS9H3F6   \n",
       "2  B007JINB0W  A3VYMBAX7IFV3B   \n",
       "3  B007JINB0W  A25MLB8QXVM2LS   \n",
       "4  B007JINB0W  A2DZN9RBFVVY7L   \n",
       "\n",
       "                                          reviewText  \\\n",
       "0  This has a odd chewy texture and not much flav...   \n",
       "1  They smell of fish and have a rubbery hard to ...   \n",
       "2                             MOM DID NOT LIKE THESE   \n",
       "3  The noodles themselves are fine. The Amazon la...   \n",
       "4  So how bad do you want to restrict your calori...   \n",
       "\n",
       "                                             summary  overall  year  \\\n",
       "0                                  Odd chewy texture      3.0  2014   \n",
       "1                                        Fishy gross      1.0  2016   \n",
       "2                                           One Star      1.0  2014   \n",
       "3  The noodles themselves are fine. The Amazon la...      2.0  2018   \n",
       "4                           What's important to you?      4.0  2014   \n",
       "\n",
       "                                               title           brand  \\\n",
       "0  Miracle Noodle Zero Carb, Gluten Free Shiratak...  Miracle Noodle   \n",
       "1  Miracle Noodle Zero Carb, Gluten Free Shiratak...  Miracle Noodle   \n",
       "2  Miracle Noodle Zero Carb, Gluten Free Shiratak...  Miracle Noodle   \n",
       "3  Miracle Noodle Zero Carb, Gluten Free Shiratak...  Miracle Noodle   \n",
       "4  Miracle Noodle Zero Carb, Gluten Free Shiratak...  Miracle Noodle   \n",
       "\n",
       "                                            category  \\\n",
       "0  Grocery & Gourmet Food; Pasta & Noodles; Noodl...   \n",
       "1  Grocery & Gourmet Food; Pasta & Noodles; Noodl...   \n",
       "2  Grocery & Gourmet Food; Pasta & Noodles; Noodl...   \n",
       "3  Grocery & Gourmet Food; Pasta & Noodles; Noodl...   \n",
       "4  Grocery & Gourmet Food; Pasta & Noodles; Noodl...   \n",
       "\n",
       "                                            text-raw  \n",
       "0  Odd chewy texture: This has a odd chewy textur...  \n",
       "1  Fishy gross: They smell of fish and have a rub...  \n",
       "2                   One Star: MOM DID NOT LIKE THESE  \n",
       "3  The noodles themselves are fine. The Amazon la...  \n",
       "4  What's important to you?: So how bad do you wa...  "
      ]
     },
     "execution_count": 9,
     "metadata": {},
     "output_type": "execute_result"
    }
   ],
   "source": [
    "df['text-raw'] = df['summary'] + \": \" + df['reviewText']\n",
    "df.head()"
   ]
  },
  {
   "cell_type": "code",
   "execution_count": null,
   "id": "c55bfece-7c3e-43df-be09-7ccc75e87817",
   "metadata": {},
   "outputs": [],
   "source": []
  },
  {
   "cell_type": "markdown",
   "id": "67444f09-6f17-4b1c-9304-f39735be5177",
   "metadata": {},
   "source": [
    "#### Confirming Which Columns to Drop"
   ]
  },
  {
   "cell_type": "code",
   "execution_count": 10,
   "id": "28b0e2e0-50fa-4446-9eef-38a50ae5d96c",
   "metadata": {
    "execution": {
     "iopub.execute_input": "2024-02-08T03:09:30.013578Z",
     "iopub.status.busy": "2024-02-08T03:09:30.013474Z",
     "iopub.status.idle": "2024-02-08T03:09:30.016715Z",
     "shell.execute_reply": "2024-02-08T03:09:30.016418Z",
     "shell.execute_reply.started": "2024-02-08T03:09:30.013568Z"
    }
   },
   "outputs": [
    {
     "data": {
      "text/plain": [
       "array(['Miracle Noodle'], dtype=object)"
      ]
     },
     "execution_count": 10,
     "metadata": {},
     "output_type": "execute_result"
    }
   ],
   "source": [
    "# new\n",
    "df['brand'].unique()"
   ]
  },
  {
   "cell_type": "code",
   "execution_count": 11,
   "id": "47231a2f-4b1e-494f-bec1-537823800db0",
   "metadata": {
    "execution": {
     "iopub.execute_input": "2024-02-08T03:09:30.017168Z",
     "iopub.status.busy": "2024-02-08T03:09:30.017085Z",
     "iopub.status.idle": "2024-02-08T03:09:30.020246Z",
     "shell.execute_reply": "2024-02-08T03:09:30.019944Z",
     "shell.execute_reply.started": "2024-02-08T03:09:30.017160Z"
    }
   },
   "outputs": [
    {
     "data": {
      "text/plain": [
       "array(['Miracle Noodle Zero Carb, Gluten Free Shirataki Pasta, Spinach Angel Hair, 7-Ounce (Pack of 24)'],\n",
       "      dtype=object)"
      ]
     },
     "execution_count": 11,
     "metadata": {},
     "output_type": "execute_result"
    }
   ],
   "source": [
    "# new\n",
    "df['title'].unique()"
   ]
  },
  {
   "cell_type": "code",
   "execution_count": 12,
   "id": "64be5747-3e29-4745-ab38-c25e09255dd8",
   "metadata": {
    "execution": {
     "iopub.execute_input": "2024-02-08T03:09:30.021089Z",
     "iopub.status.busy": "2024-02-08T03:09:30.020910Z",
     "iopub.status.idle": "2024-02-08T03:09:30.026415Z",
     "shell.execute_reply": "2024-02-08T03:09:30.025974Z",
     "shell.execute_reply.started": "2024-02-08T03:09:30.021074Z"
    }
   },
   "outputs": [],
   "source": [
    "df = df.drop(columns=['brand', 'reviewText','summary','title'])\n",
    "df = df.dropna()"
   ]
  },
  {
   "cell_type": "code",
   "execution_count": 13,
   "id": "bbbbcd7d-1e2f-4d44-bb98-43ece33d3ef7",
   "metadata": {
    "execution": {
     "iopub.execute_input": "2024-02-08T03:09:30.027169Z",
     "iopub.status.busy": "2024-02-08T03:09:30.027063Z",
     "iopub.status.idle": "2024-02-08T03:09:30.034954Z",
     "shell.execute_reply": "2024-02-08T03:09:30.034500Z",
     "shell.execute_reply.started": "2024-02-08T03:09:30.027160Z"
    }
   },
   "outputs": [
    {
     "name": "stdout",
     "output_type": "stream",
     "text": [
      "<class 'pandas.core.frame.DataFrame'>\n",
      "Int64Index: 4363 entries, 0 to 4362\n",
      "Data columns (total 6 columns):\n",
      " #   Column      Non-Null Count  Dtype  \n",
      "---  ------      --------------  -----  \n",
      " 0   asin        4363 non-null   object \n",
      " 1   reviewerID  4363 non-null   object \n",
      " 2   overall     4363 non-null   float64\n",
      " 3   year        4363 non-null   int64  \n",
      " 4   category    4363 non-null   object \n",
      " 5   text-raw    4363 non-null   object \n",
      "dtypes: float64(1), int64(1), object(4)\n",
      "memory usage: 238.6+ KB\n"
     ]
    },
    {
     "data": {
      "text/html": [
       "<div>\n",
       "<style scoped>\n",
       "    .dataframe tbody tr th:only-of-type {\n",
       "        vertical-align: middle;\n",
       "    }\n",
       "\n",
       "    .dataframe tbody tr th {\n",
       "        vertical-align: top;\n",
       "    }\n",
       "\n",
       "    .dataframe thead th {\n",
       "        text-align: right;\n",
       "    }\n",
       "</style>\n",
       "<table border=\"1\" class=\"dataframe\">\n",
       "  <thead>\n",
       "    <tr style=\"text-align: right;\">\n",
       "      <th></th>\n",
       "      <th>asin</th>\n",
       "      <th>reviewerID</th>\n",
       "      <th>overall</th>\n",
       "      <th>year</th>\n",
       "      <th>category</th>\n",
       "      <th>text-raw</th>\n",
       "    </tr>\n",
       "  </thead>\n",
       "  <tbody>\n",
       "    <tr>\n",
       "      <th>0</th>\n",
       "      <td>B007JINB0W</td>\n",
       "      <td>A1P9BVW2JB1OVL</td>\n",
       "      <td>3.0</td>\n",
       "      <td>2014</td>\n",
       "      <td>Grocery &amp; Gourmet Food; Pasta &amp; Noodles; Noodl...</td>\n",
       "      <td>Odd chewy texture: This has a odd chewy textur...</td>\n",
       "    </tr>\n",
       "    <tr>\n",
       "      <th>1</th>\n",
       "      <td>B007JINB0W</td>\n",
       "      <td>A5JZ2DBS9H3F6</td>\n",
       "      <td>1.0</td>\n",
       "      <td>2016</td>\n",
       "      <td>Grocery &amp; Gourmet Food; Pasta &amp; Noodles; Noodl...</td>\n",
       "      <td>Fishy gross: They smell of fish and have a rub...</td>\n",
       "    </tr>\n",
       "    <tr>\n",
       "      <th>2</th>\n",
       "      <td>B007JINB0W</td>\n",
       "      <td>A3VYMBAX7IFV3B</td>\n",
       "      <td>1.0</td>\n",
       "      <td>2014</td>\n",
       "      <td>Grocery &amp; Gourmet Food; Pasta &amp; Noodles; Noodl...</td>\n",
       "      <td>One Star: MOM DID NOT LIKE THESE</td>\n",
       "    </tr>\n",
       "    <tr>\n",
       "      <th>3</th>\n",
       "      <td>B007JINB0W</td>\n",
       "      <td>A25MLB8QXVM2LS</td>\n",
       "      <td>2.0</td>\n",
       "      <td>2018</td>\n",
       "      <td>Grocery &amp; Gourmet Food; Pasta &amp; Noodles; Noodl...</td>\n",
       "      <td>The noodles themselves are fine. The Amazon la...</td>\n",
       "    </tr>\n",
       "    <tr>\n",
       "      <th>4</th>\n",
       "      <td>B007JINB0W</td>\n",
       "      <td>A2DZN9RBFVVY7L</td>\n",
       "      <td>4.0</td>\n",
       "      <td>2014</td>\n",
       "      <td>Grocery &amp; Gourmet Food; Pasta &amp; Noodles; Noodl...</td>\n",
       "      <td>What's important to you?: So how bad do you wa...</td>\n",
       "    </tr>\n",
       "  </tbody>\n",
       "</table>\n",
       "</div>"
      ],
      "text/plain": [
       "         asin      reviewerID  overall  year  \\\n",
       "0  B007JINB0W  A1P9BVW2JB1OVL      3.0  2014   \n",
       "1  B007JINB0W   A5JZ2DBS9H3F6      1.0  2016   \n",
       "2  B007JINB0W  A3VYMBAX7IFV3B      1.0  2014   \n",
       "3  B007JINB0W  A25MLB8QXVM2LS      2.0  2018   \n",
       "4  B007JINB0W  A2DZN9RBFVVY7L      4.0  2014   \n",
       "\n",
       "                                            category  \\\n",
       "0  Grocery & Gourmet Food; Pasta & Noodles; Noodl...   \n",
       "1  Grocery & Gourmet Food; Pasta & Noodles; Noodl...   \n",
       "2  Grocery & Gourmet Food; Pasta & Noodles; Noodl...   \n",
       "3  Grocery & Gourmet Food; Pasta & Noodles; Noodl...   \n",
       "4  Grocery & Gourmet Food; Pasta & Noodles; Noodl...   \n",
       "\n",
       "                                            text-raw  \n",
       "0  Odd chewy texture: This has a odd chewy textur...  \n",
       "1  Fishy gross: They smell of fish and have a rub...  \n",
       "2                   One Star: MOM DID NOT LIKE THESE  \n",
       "3  The noodles themselves are fine. The Amazon la...  \n",
       "4  What's important to you?: So how bad do you wa...  "
      ]
     },
     "execution_count": 13,
     "metadata": {},
     "output_type": "execute_result"
    }
   ],
   "source": [
    "df.info()\n",
    "df.head()"
   ]
  },
  {
   "cell_type": "markdown",
   "id": "922b390c-c90c-46d4-be9f-061e8a66f2f2",
   "metadata": {},
   "source": [
    "# Some More EDA\n",
    "Let's look at some aspects of this text.\n",
    "* What do the **documents** look like?\n",
    "* How long do the tend to be?"
   ]
  },
  {
   "cell_type": "markdown",
   "id": "0656c034-5ce8-4214-8147-a18f1150699f",
   "metadata": {},
   "source": [
    "## View some sample tweets"
   ]
  },
  {
   "cell_type": "code",
   "execution_count": 14,
   "id": "7f2e8add-e130-49ac-8ffa-9dcb7d59568d",
   "metadata": {
    "execution": {
     "iopub.execute_input": "2024-02-08T03:09:30.035720Z",
     "iopub.status.busy": "2024-02-08T03:09:30.035602Z",
     "iopub.status.idle": "2024-02-08T03:09:30.039219Z",
     "shell.execute_reply": "2024-02-08T03:09:30.038960Z",
     "shell.execute_reply.started": "2024-02-08T03:09:30.035711Z"
    }
   },
   "outputs": [
    {
     "data": {
      "text/html": [
       "<div>\n",
       "<style scoped>\n",
       "    .dataframe tbody tr th:only-of-type {\n",
       "        vertical-align: middle;\n",
       "    }\n",
       "\n",
       "    .dataframe tbody tr th {\n",
       "        vertical-align: top;\n",
       "    }\n",
       "\n",
       "    .dataframe thead th {\n",
       "        text-align: right;\n",
       "    }\n",
       "</style>\n",
       "<table border=\"1\" class=\"dataframe\">\n",
       "  <thead>\n",
       "    <tr style=\"text-align: right;\">\n",
       "      <th></th>\n",
       "      <th>text-raw</th>\n",
       "    </tr>\n",
       "  </thead>\n",
       "  <tbody>\n",
       "    <tr>\n",
       "      <th>0</th>\n",
       "      <td>Odd chewy texture: This has a odd chewy texture and not much flavor, but used as a substitute for pasta, it helps cut calories and carbs. I can tolerate it, but it isn't really tasty. Surprisingly, my husband enjoyed it more than I did. I just couldn't get past the texture (rubber noodles).</td>\n",
       "    </tr>\n",
       "    <tr>\n",
       "      <th>1</th>\n",
       "      <td>Fishy gross: They smell of fish and have a rubbery hard to chew texture. Yuck</td>\n",
       "    </tr>\n",
       "    <tr>\n",
       "      <th>2</th>\n",
       "      <td>One Star: MOM DID NOT LIKE THESE</td>\n",
       "    </tr>\n",
       "    <tr>\n",
       "      <th>3</th>\n",
       "      <td>The noodles themselves are fine. The Amazon label description claims they are certified ...: The noodles themselves are fine. The Amazon label description claims they are certified non GMO and Vegan but the actual package contains no such symbol or claim that the online description shows.</td>\n",
       "    </tr>\n",
       "    <tr>\n",
       "      <th>4</th>\n",
       "      <td>What's important to you?: So how bad do you want to restrict your calories? I gain weight easily, so I'm obsessive about counting my calories, but many times I am left not feeling very full. I read about these noodles and decided to give them a try. Out of the bag, they do smell like fish, but that goes away after rinsing them. And yes, the texture is like chewing rubber bands. I have tried all the tricks (boiling for 30 minutes, frying them until they are completely dry), and nothing changes the texture. But the good thing is that they do take on whatever flavor you cook them with, so I try to make them as flavorful as possible! In the end they leave me feeling very full, and more importantly, guilt free. To me, that is worth it, so I am willing to tolerate the texture. If texture is very important to you, then don't bother trying these or they will just gross you out.</td>\n",
       "    </tr>\n",
       "  </tbody>\n",
       "</table>\n",
       "</div>"
      ],
      "text/plain": [
       "                                                                                                                                                                                                                                                                                                                                                                                                                                                                                                                                                                                                                                                                                                                                                                                                                                                                                                             text-raw\n",
       "0                                                                                                                                                                                                                                                                                                                                                                                                                                                                                                                                                                                                                 Odd chewy texture: This has a odd chewy texture and not much flavor, but used as a substitute for pasta, it helps cut calories and carbs. I can tolerate it, but it isn't really tasty. Surprisingly, my husband enjoyed it more than I did. I just couldn't get past the texture (rubber noodles).\n",
       "1                                                                                                                                                                                                                                                                                                                                                                                                                                                                                                                                                                                                                                                                                                                                                                                                                                       Fishy gross: They smell of fish and have a rubbery hard to chew texture. Yuck\n",
       "2                                                                                                                                                                                                                                                                                                                                                                                                                                                                                                                                                                                                                                                                                                                                                                                                                                                                                    One Star: MOM DID NOT LIKE THESE\n",
       "3                                                                                                                                                                                                                                                                                                                                                                                                                                                                                                                                                                                                                   The noodles themselves are fine. The Amazon label description claims they are certified ...: The noodles themselves are fine. The Amazon label description claims they are certified non GMO and Vegan but the actual package contains no such symbol or claim that the online description shows.\n",
       "4  What's important to you?: So how bad do you want to restrict your calories? I gain weight easily, so I'm obsessive about counting my calories, but many times I am left not feeling very full. I read about these noodles and decided to give them a try. Out of the bag, they do smell like fish, but that goes away after rinsing them. And yes, the texture is like chewing rubber bands. I have tried all the tricks (boiling for 30 minutes, frying them until they are completely dry), and nothing changes the texture. But the good thing is that they do take on whatever flavor you cook them with, so I try to make them as flavorful as possible! In the end they leave me feeling very full, and more importantly, guilt free. To me, that is worth it, so I am willing to tolerate the texture. If texture is very important to you, then don't bother trying these or they will just gross you out."
      ]
     },
     "execution_count": 14,
     "metadata": {},
     "output_type": "execute_result"
    }
   ],
   "source": [
    "## Expand how many characters pandas will show\n",
    "pd.set_option('display.max_colwidth', None)\n",
    "\n",
    "## Display some of the documents (tweets)\n",
    "df[['text-raw']].head()"
   ]
  },
  {
   "cell_type": "code",
   "execution_count": 15,
   "id": "a104993b-4913-49ba-a9d5-c15177e181ce",
   "metadata": {
    "execution": {
     "iopub.execute_input": "2024-02-08T03:09:30.039776Z",
     "iopub.status.busy": "2024-02-08T03:09:30.039671Z",
     "iopub.status.idle": "2024-02-08T03:09:30.041419Z",
     "shell.execute_reply": "2024-02-08T03:09:30.041142Z",
     "shell.execute_reply.started": "2024-02-08T03:09:30.039767Z"
    }
   },
   "outputs": [],
   "source": [
    "# df.loc[df['text'].str.contains('http://')]"
   ]
  },
  {
   "cell_type": "markdown",
   "id": "935409bd-a7fb-4100-b043-59846d065328",
   "metadata": {},
   "source": [
    "We can see here that there are some URLs in the text.  This will be a problem for normalization.  We will remove those."
   ]
  },
  {
   "cell_type": "markdown",
   "id": "930cd2bd-5fbf-4d38-b932-05ae2de1e25e",
   "metadata": {},
   "source": [
    "## Get some statistics on the length of **documents**\n",
    "\n",
    "Let's see how long each tweet is and determine the average length of tweets"
   ]
  },
  {
   "cell_type": "code",
   "execution_count": 16,
   "id": "9e65b4f6-78ec-4344-aca0-83c43a78336b",
   "metadata": {
    "execution": {
     "iopub.execute_input": "2024-02-08T03:09:30.042093Z",
     "iopub.status.busy": "2024-02-08T03:09:30.041965Z",
     "iopub.status.idle": "2024-02-08T03:09:30.044862Z",
     "shell.execute_reply": "2024-02-08T03:09:30.044549Z",
     "shell.execute_reply.started": "2024-02-08T03:09:30.042084Z"
    }
   },
   "outputs": [],
   "source": [
    "## Determine the length of each tweet\n",
    "## Create a new column of the lengths of each tweet\n",
    "df['length']= df['text-raw'].map(len)"
   ]
  },
  {
   "cell_type": "code",
   "execution_count": 17,
   "id": "62170df2-9dda-479d-b003-37a401889bc9",
   "metadata": {
    "execution": {
     "iopub.execute_input": "2024-02-08T03:09:30.045314Z",
     "iopub.status.busy": "2024-02-08T03:09:30.045225Z",
     "iopub.status.idle": "2024-02-08T03:09:30.049976Z",
     "shell.execute_reply": "2024-02-08T03:09:30.049552Z",
     "shell.execute_reply.started": "2024-02-08T03:09:30.045306Z"
    }
   },
   "outputs": [
    {
     "data": {
      "text/plain": [
       "count    4363.000000\n",
       "mean      282.781802\n",
       "std       360.049042\n",
       "min         7.000000\n",
       "25%        77.000000\n",
       "50%       184.000000\n",
       "75%       347.000000\n",
       "max      8135.000000\n",
       "Name: length, dtype: float64"
      ]
     },
     "execution_count": 17,
     "metadata": {},
     "output_type": "execute_result"
    }
   ],
   "source": [
    "## Analyze the statistics of the lengths\n",
    "df['length'].describe()"
   ]
  },
  {
   "cell_type": "code",
   "execution_count": 18,
   "id": "0a5dc423-860b-44ec-925d-cccb156e1cb0",
   "metadata": {
    "execution": {
     "iopub.execute_input": "2024-02-08T03:09:30.050820Z",
     "iopub.status.busy": "2024-02-08T03:09:30.050668Z",
     "iopub.status.idle": "2024-02-08T03:09:30.684458Z",
     "shell.execute_reply": "2024-02-08T03:09:30.683997Z",
     "shell.execute_reply.started": "2024-02-08T03:09:30.050810Z"
    }
   },
   "outputs": [
    {
     "data": {
      "image/png": "[encoded data removed]",
      "text/plain": [
       "<Figure size 640x480 with 1 Axes>"
      ]
     },
     "metadata": {},
     "output_type": "display_data"
    }
   ],
   "source": [
    "# New \n",
    "import seaborn as sns\n",
    "ax = sns.histplot(data=df, x='length')\n",
    "# ax.axvline(df['length'].mean(),color='k',ls=':')"
   ]
  },
  {
   "cell_type": "markdown",
   "id": "fb8ea71b-5350-41f3-906b-505413c0c5a9",
   "metadata": {},
   "source": [
    "<a name='regex'></a>\n",
    "## ✨ Removing HTML From Reviews with Regex"
   ]
  },
  {
   "cell_type": "code",
   "execution_count": 19,
   "id": "0d2a8c4a-460a-4df2-ab3c-50e076ab94c0",
   "metadata": {
    "execution": {
     "iopub.execute_input": "2024-02-08T03:09:30.685683Z",
     "iopub.status.busy": "2024-02-08T03:09:30.685199Z",
     "iopub.status.idle": "2024-02-08T03:09:30.693637Z",
     "shell.execute_reply": "2024-02-08T03:09:30.693182Z",
     "shell.execute_reply.started": "2024-02-08T03:09:30.685667Z"
    }
   },
   "outputs": [
    {
     "data": {
      "text/html": [
       "<div>\n",
       "<style scoped>\n",
       "    .dataframe tbody tr th:only-of-type {\n",
       "        vertical-align: middle;\n",
       "    }\n",
       "\n",
       "    .dataframe tbody tr th {\n",
       "        vertical-align: top;\n",
       "    }\n",
       "\n",
       "    .dataframe thead th {\n",
       "        text-align: right;\n",
       "    }\n",
       "</style>\n",
       "<table border=\"1\" class=\"dataframe\">\n",
       "  <thead>\n",
       "    <tr style=\"text-align: right;\">\n",
       "      <th></th>\n",
       "      <th>asin</th>\n",
       "      <th>reviewerID</th>\n",
       "      <th>overall</th>\n",
       "      <th>year</th>\n",
       "      <th>category</th>\n",
       "      <th>text-raw</th>\n",
       "      <th>length</th>\n",
       "    </tr>\n",
       "  </thead>\n",
       "  <tbody>\n",
       "    <tr>\n",
       "      <th>75</th>\n",
       "      <td>B007JINB0W</td>\n",
       "      <td>A1VDTM4ITCSHQ8</td>\n",
       "      <td>5.0</td>\n",
       "      <td>2016</td>\n",
       "      <td>Grocery &amp; Gourmet Food; Pasta &amp; Noodles; Noodles; Shirataki</td>\n",
       "      <td>Great alternative to heavy strarches!: We have eaten shirataki noodles for many years because of my husbands diabetes, but this was our first time trying the shirataki Miracle Rice, and it was fantastic! (I actually like it more than the noodles.) Yes it does have a ocean smell when you first open them, but that is easily taken care of with a good rinse, and a quick boil in fresh water. It is not really a suitable product to eat on its own, but add some pasta sauce, pesto, or ? and you really cant taste the shirataki at all. In my home we use it as a substitute for any recipe we would use noodles or rice. Tonight we tried the Miracle Rice with the orange chicken recipe from Skinnytaste and it was excellent ( http://www.skinnytaste.com/2014/03/orange-chicken-makeover.html )</td>\n",
       "      <td>783</td>\n",
       "    </tr>\n",
       "    <tr>\n",
       "      <th>1473</th>\n",
       "      <td>B007JINB0W</td>\n",
       "      <td>A3J6ABN4ZOG502</td>\n",
       "      <td>5.0</td>\n",
       "      <td>2015</td>\n",
       "      <td>Grocery &amp; Gourmet Food; Pasta &amp; Noodles; Noodles; Shirataki</td>\n",
       "      <td>http: //www. amazon. com/gp/product/B007JINB0W?: http://www.amazon.com/gp/product/B007JINB0W?redirect=true&amp;ref_=cm_cr_ryp_prd_ttl_sol_37</td>\n",
       "      <td>136</td>\n",
       "    </tr>\n",
       "    <tr>\n",
       "      <th>3816</th>\n",
       "      <td>B007JINB0W</td>\n",
       "      <td>A2PIOAUQSBG074</td>\n",
       "      <td>2.0</td>\n",
       "      <td>2014</td>\n",
       "      <td>Grocery &amp; Gourmet Food; Pasta &amp; Noodles; Noodles; Shirataki</td>\n",
       "      <td>Hard to chew....: I used to buy yam noodles in the local asian market. I love them and wanted to find them on Amazon, and they are (http://www.amazon.com/JFC-Brown-Shirataki-Yam-Noodles/dp/B002FDW6H0/ref=sr_1_cc_3?s=aps&amp;ie=UTF8&amp;qid=1395427420&amp;sr=1-3-catcorr&amp;keywords=yam+noodle?tag=smzdm0c01-20), but the shipping fee stops me from purchasing them. So I switch to this product. It is not at all comparable to my favourite one, which only requires one-min boil. I rinsed this product and boiled for more than 20 mins. Nothing changes, still taste like rubber and very hard to chew. Do not recommend. I should have one star. The additional one is for the good packaging.</td>\n",
       "      <td>668</td>\n",
       "    </tr>\n",
       "  </tbody>\n",
       "</table>\n",
       "</div>"
      ],
      "text/plain": [
       "            asin      reviewerID  overall  year  \\\n",
       "75    B007JINB0W  A1VDTM4ITCSHQ8      5.0  2016   \n",
       "1473  B007JINB0W  A3J6ABN4ZOG502      5.0  2015   \n",
       "3816  B007JINB0W  A2PIOAUQSBG074      2.0  2014   \n",
       "\n",
       "                                                         category  \\\n",
       "75    Grocery & Gourmet Food; Pasta & Noodles; Noodles; Shirataki   \n",
       "1473  Grocery & Gourmet Food; Pasta & Noodles; Noodles; Shirataki   \n",
       "3816  Grocery & Gourmet Food; Pasta & Noodles; Noodles; Shirataki   \n",
       "\n",
       "                                                                                                                                                                                                                                                                                                                                                                                                                                                                                                                                                                                                                                                                                                                                                                                                             text-raw  \\\n",
       "75    Great alternative to heavy strarches!: We have eaten shirataki noodles for many years because of my husbands diabetes, but this was our first time trying the shirataki Miracle Rice, and it was fantastic! (I actually like it more than the noodles.) Yes it does have a ocean smell when you first open them, but that is easily taken care of with a good rinse, and a quick boil in fresh water. It is not really a suitable product to eat on its own, but add some pasta sauce, pesto, or ? and you really cant taste the shirataki at all. In my home we use it as a substitute for any recipe we would use noodles or rice. Tonight we tried the Miracle Rice with the orange chicken recipe from Skinnytaste and it was excellent ( http://www.skinnytaste.com/2014/03/orange-chicken-makeover.html )   \n",
       "1473                                                                                                                                                                                                                                                                                                                                                                                                                                                                                                                                                                                                                                                                         http: //www. amazon. com/gp/product/B007JINB0W?: http://www.amazon.com/gp/product/B007JINB0W?redirect=true&ref_=cm_cr_ryp_prd_ttl_sol_37   \n",
       "3816                                                                                                                     Hard to chew....: I used to buy yam noodles in the local asian market. I love them and wanted to find them on Amazon, and they are (http://www.amazon.com/JFC-Brown-Shirataki-Yam-Noodles/dp/B002FDW6H0/ref=sr_1_cc_3?s=aps&ie=UTF8&qid=1395427420&sr=1-3-catcorr&keywords=yam+noodle?tag=smzdm0c01-20), but the shipping fee stops me from purchasing them. So I switch to this product. It is not at all comparable to my favourite one, which only requires one-min boil. I rinsed this product and boiled for more than 20 mins. Nothing changes, still taste like rubber and very hard to chew. Do not recommend. I should have one star. The additional one is for the good packaging.   \n",
       "\n",
       "      length  \n",
       "75       783  \n",
       "1473     136  \n",
       "3816     668  "
      ]
     },
     "execution_count": 19,
     "metadata": {},
     "output_type": "execute_result"
    }
   ],
   "source": [
    "df.loc[df['text-raw'].str.contains('http://')]"
   ]
  },
  {
   "cell_type": "markdown",
   "id": "e198d1ec-b4b6-44c3-a74d-55b98cabba99",
   "metadata": {},
   "source": [
    "- Regular expression figured out with Google Bard: https://g.co/bard/share/1db36656cbf3\n",
    "\n",
    "- Tested out in this saved regex101 pattern: - https://regex101.com/r/01bd7q/3  with the values from below:\n",
    "\n"
   ]
  },
  {
   "cell_type": "code",
   "execution_count": 20,
   "id": "8cc0073a-9345-4c50-a746-12d22c75adce",
   "metadata": {
    "execution": {
     "iopub.execute_input": "2024-02-08T03:09:30.694442Z",
     "iopub.status.busy": "2024-02-08T03:09:30.694337Z",
     "iopub.status.idle": "2024-02-08T03:09:30.704036Z",
     "shell.execute_reply": "2024-02-08T03:09:30.703548Z",
     "shell.execute_reply.started": "2024-02-08T03:09:30.694432Z"
    }
   },
   "outputs": [
    {
     "data": {
      "text/html": [
       "<div>\n",
       "<style scoped>\n",
       "    .dataframe tbody tr th:only-of-type {\n",
       "        vertical-align: middle;\n",
       "    }\n",
       "\n",
       "    .dataframe tbody tr th {\n",
       "        vertical-align: top;\n",
       "    }\n",
       "\n",
       "    .dataframe thead th {\n",
       "        text-align: right;\n",
       "    }\n",
       "</style>\n",
       "<table border=\"1\" class=\"dataframe\">\n",
       "  <thead>\n",
       "    <tr style=\"text-align: right;\">\n",
       "      <th></th>\n",
       "      <th>asin</th>\n",
       "      <th>reviewerID</th>\n",
       "      <th>overall</th>\n",
       "      <th>year</th>\n",
       "      <th>category</th>\n",
       "      <th>text-raw</th>\n",
       "      <th>length</th>\n",
       "    </tr>\n",
       "  </thead>\n",
       "  <tbody>\n",
       "    <tr>\n",
       "      <th>164</th>\n",
       "      <td>B007JINB0W</td>\n",
       "      <td>A2M9IS41H1HJAI</td>\n",
       "      <td>5.0</td>\n",
       "      <td>2014</td>\n",
       "      <td>Grocery &amp; Gourmet Food; Pasta &amp; Noodles; Noodles; Shirataki</td>\n",
       "      <td>Follow the directions, and these will be really really good.: Quick update on 11/21/14\\n\\nJust started putting Old Bay Seasoning in the water that I boil these in. Seems to add some flavor to them but it also changes the color. Looks very close to the color of pasta!\\n\\n---------------\\n\\nIt's kind of sad to see so many have given these 1 star. Being someone who believes strongly in 'Low Carbs' are healthy, I worked at learning how these should be cooked. Maybe many of the 1 star people didn't care that much?\\n\\nAlmost forgot to mention, the exp date on the ones I received today are Jul 2015.\\n\\nRinse them in a colander (cold water) for a minute or two, there should be no smell now. Boil them in a pot for 3 mins, then rinse again (pat dry with paper towels and try to squeeze out as much liquid as possible). Now put them in your already heated non stick skillet. I do this on a setting of 3 on the glass top stove.\\n\\nAt this point, because I've never read where someone has said how much time to do this for, I've been kind of guessing or listening for 'squeakiness'. I just now made these and decided to extend the time for this part. Not sure if it was the extended time or that simply these noodles are better than the ones I've gotten at walmart, but these were really really good. The texture was really just like spaghetti.\\n\\nI top off these noodles with Bella vita low carb pasta sauce... wow, it's really awesome to be having spaghetti again!&amp;nbsp;&lt;a data-hook=\"product-link-linked\" class=\"a-link-normal\" href=\"/Bella-Vita-Low-Carb-Pasta-Sauce-Spicy-Tomato/dp/B0079OQEAA/ref=cm_cr_arp_d_rvw_txt?ie=UTF8\"&gt;Bella Vita Low Carb Pasta Sauce Spicy Tomato&lt;/a&gt;</td>\n",
       "      <td>1659</td>\n",
       "    </tr>\n",
       "    <tr>\n",
       "      <th>266</th>\n",
       "      <td>B007JINB0W</td>\n",
       "      <td>A2AZR0HQEOAT8J</td>\n",
       "      <td>1.0</td>\n",
       "      <td>2013</td>\n",
       "      <td>Grocery &amp; Gourmet Food; Pasta &amp; Noodles; Noodles; Shirataki</td>\n",
       "      <td>They're great, if you like eating rubber: Because they look and feel like exactly that: noodles made of transparent rubber. If you don't care or are planning in burying them in enough sauce you can't see them, go for it. Personally, I'm not that desperate to lose the calories and carbs from my diet.\\n\\nEdit: I've since found&amp;nbsp;&lt;a data-hook=\"product-link-linked\" class=\"a-link-normal\" href=\"/FiberGourmet-Light-Spaghetti/dp/B003S1TNIS/ref=cm_cr_arp_d_rvw_txt?ie=UTF8\"&gt;FiberGourmet Light Spaghetti&lt;/a&gt;, which while it's not calorie free, is lower in calories and much higher in fiber than any other pasta I've ever seen. It also tastes like regular noodles. I love it, and anyone that isn't happy with these should try it. Their crackers are also pretty good.</td>\n",
       "      <td>760</td>\n",
       "    </tr>\n",
       "    <tr>\n",
       "      <th>895</th>\n",
       "      <td>B007JINB0W</td>\n",
       "      <td>AN79B2EUCG5O</td>\n",
       "      <td>3.0</td>\n",
       "      <td>2015</td>\n",
       "      <td>Grocery &amp; Gourmet Food; Pasta &amp; Noodles; Noodles; Shirataki</td>\n",
       "      <td>Be prepaired to experement to find the best way to eat them.: bought the variety pack... the rice and the angle hair are ok.  I think for me they are thin/small enough to not be a substantial part of a bite, so less contribution to the mouth feel of the bite of food. The Fettuchini on the other hand, I couldn't handle it, felt like I was having a bowl of night crawlers &gt;.&lt; .  I had hoped you could crisp them up some, but all you do is reduce the water making them more chewy lol.  I drain them and then rinse them in a sieve thouroughly.</td>\n",
       "      <td>541</td>\n",
       "    </tr>\n",
       "    <tr>\n",
       "      <th>1172</th>\n",
       "      <td>B007JINB0W</td>\n",
       "      <td>A25Y0KLV7I19FA</td>\n",
       "      <td>5.0</td>\n",
       "      <td>2018</td>\n",
       "      <td>Grocery &amp; Gourmet Food; Pasta &amp; Noodles; Noodles; Shirataki</td>\n",
       "      <td>Family love it !!!: &lt;div id=\"video-block-R2QVYQA389CT7S\" class=\"a-section a-spacing-small a-spacing-top-mini video-block\"&gt;&lt;/div&gt;&lt;input type=\"hidden\" name=\"\" value=\"https://images-na.ssl-images-amazon.com/images/I/91E2G7ukhBS.mp4\" class=\"video-url\"&gt;&lt;input type=\"hidden\" name=\"\" value=\"https://images-na.ssl-images-amazon.com/images/I/81T6z-AkzTS.png\" class=\"video-slate-img-url\"&gt;&amp;nbsp;Love this stuff !!!! Guilt Free perfect if your in a weight loss journey like I am!!! Easy to cook !!!! Will order more</td>\n",
       "      <td>503</td>\n",
       "    </tr>\n",
       "    <tr>\n",
       "      <th>1350</th>\n",
       "      <td>B007JINB0W</td>\n",
       "      <td>A3UEE22RNGQ2L8</td>\n",
       "      <td>5.0</td>\n",
       "      <td>2017</td>\n",
       "      <td>Grocery &amp; Gourmet Food; Pasta &amp; Noodles; Noodles; Shirataki</td>\n",
       "      <td>ZERO CALORIES, ZERO CARBS and EXACTLY like spaghetti. Miracle noodles, indeed. Changed my life!: This product has seriously changed my LIFE. I fight every day to keep my weight at its current level, and I simply must avoid carbs. The conflict is that my favorite food, since I was a child is spaghetti with meat sauce. Until I learned about this nearly unbelievable product, I  had to eat spaghetti sauce on bean sprouts (ugh!) or green beans (yuck) or spaghetti squash (wahhhh!) and people say they can pretend they are eating spaghetti but those substitutes are nothing like real noodles. AND THEN I FOUND MIRACLE NOODLES AND MIRACULOUS THEY ARE, INDEED! iMAGINE HOW this could exist: noodles that are EXACTLY like normal noodles, except they have ZERO CALORIES AND ZERO CARBS. It's almost like dreaming, to try to grasp that this product could even exist. I was once warned AGAINST this product by someone who said it tastes awful. It turns out that she did NOT follow the instructions on how to prepare them. When they come out of the bag, they smell like fish! You will worry and think there is no hope. But just go forward following the directions exactly. A lot of rinsing, 2 minutes of boiling, then a little while of cooking them in a dry pan. Is ANY kind of spaghetti so fast to prepare? And then you couldn't tell them from real spaghetti in a million years.  I will be very disappointed in you if you say there is anything imperfect about these, because if you say that, then I know you didn't follow the instructions carefully. I love them so much, I gave them as Christmas gifts. No one could believe it! ALL YOU CAN EAT spaghetti with no calories or carbs!!! Now I have subscribed to have them delivered monthly. I have to say you are simply out of your mind if you don't try these. You can eat ALL THE SPAGHETTI YOU WANT NOW. How did anyone create these? I don't know. But they are a MIRACLE and really changed my life.\\n\\n&lt;a data-hook=\"product-link-linked\" class=\"a-link-normal\" href=\"/Miracle-Noodle-Zero-Carb-Gluten-Free-Shirataki-Pasta-Fettuccini-7-Ounce-Pack-of-6/dp/B00BP36RW6/ref=cm_cr_arp_d_rvw_txt?ie=UTF8\"&gt;Miracle Noodle Zero Carb, Gluten Free Shirataki Pasta, Fettuccini, 7-Ounce (Pack of 6)&lt;/a&gt;</td>\n",
       "      <td>2220</td>\n",
       "    </tr>\n",
       "    <tr>\n",
       "      <th>1498</th>\n",
       "      <td>B007JINB0W</td>\n",
       "      <td>A237SW9SPH1DAD</td>\n",
       "      <td>5.0</td>\n",
       "      <td>2018</td>\n",
       "      <td>Grocery &amp; Gourmet Food; Pasta &amp; Noodles; Noodles; Shirataki</td>\n",
       "      <td>These make your plate \"full\" and plenty.: Holly guacamole, I love these things! Follow instructions and get creative with spices and sauces. The \"funky\" smell so many have mentioned is no big deal and goes away. Texture is good, specially if you like ramen or asian food.\\n If you are like me and \"eat with your eyes\", more than with your stomach (talking about quantity here), these will make your plate look and feel full without the added calories. Get the assorted pack and give them a chance &lt;3.</td>\n",
       "      <td>499</td>\n",
       "    </tr>\n",
       "    <tr>\n",
       "      <th>1514</th>\n",
       "      <td>B007JINB0W</td>\n",
       "      <td>A14A4YYKPLYY26</td>\n",
       "      <td>2.0</td>\n",
       "      <td>2013</td>\n",
       "      <td>Grocery &amp; Gourmet Food; Pasta &amp; Noodles; Noodles; Shirataki</td>\n",
       "      <td>Meh! Disappointing..............Tastes NOTHING Like Real Rice!!!: When I decided to buy this&amp;nbsp;&lt;a data-hook=\"product-link-linked\" class=\"a-link-normal\" href=\"/Miracle-Noodle-Rice/dp/B00BP36S7U/ref=cm_cr_arp_d_rvw_txt?ie=UTF8\"&gt;Miracle Noodle Rice&lt;/a&gt;&amp;nbsp;I did so, after having bought the&amp;nbsp;&lt;a data-hook=\"product-link-linked\" class=\"a-link-normal\" href=\"/Miracle-Noodle-Angel-Hair-Pasta/dp/B00BP36RTY/ref=cm_cr_arp_d_rvw_txt?ie=UTF8\"&gt;Miracle Noodle Angel Hair Pasta&lt;/a&gt;&amp;nbsp;and ABSOLUTELY LOVING it. Because I am on a&amp;nbsp;&lt;a data-hook=\"product-link-linked\" class=\"a-link-normal\" href=\"/Wheat-Belly/dp/1609611543/ref=cm_cr_arp_d_rvw_txt?ie=UTF8\"&gt;Wheat Belly&lt;/a&gt;&amp;nbsp;diet, which prohibits the consumption of wheat &amp; any product made with wheat (pasta, bread, crackers, etc.) and I LOVE pasta &amp; noodles, which are my favorite food after sushi, steak &amp; shellfish, I was so glad to find the Miracle Noodle angel hair and fettucine pasta.\\n\\nHowever, even though&amp;nbsp;&lt;a data-hook=\"product-link-linked\" class=\"a-link-normal\" href=\"/Wheat-Belly/dp/1609611543/ref=cm_cr_arp_d_rvw_txt?ie=UTF8\"&gt;Wheat Belly&lt;/a&gt;&amp;nbsp;is primarily a wheat-free diet, because its also supposed to be low-carb &amp; grain-free, other non-wheat grains &amp; starchy carbs like rice, potatoes and corn are discouraged (or at least advised to only consume in very limited amounts as rarely as possible)\\n\\nUnfortunately I LOVE basmati rice -- especially when having it with the \"Morey's Seafood\" brand of \"Seasoned Grill Wild-Caught Alaskan Salmon\" which I get from the frozen food section at Costco (and prior to that, at Sam's Club) and ever since I started the&amp;nbsp;&lt;a data-hook=\"product-link-linked\" class=\"a-link-normal\" href=\"/Wheat-Belly/dp/1609611543/ref=cm_cr_arp_d_rvw_txt?ie=UTF8\"&gt;Wheat Belly&lt;/a&gt;&amp;nbsp;diet, I was missing having rice so much that I mostly stopped eating the Morey's Seafood Seasoned Grill Salmon, because it just wasn't the same without the fluffy &amp; buttery basmati rice to enjoy it with.\\n\\nThen I happened to see a listing for this Miracle Noodle Rice while ordering the&amp;nbsp;&lt;a data-hook=\"product-link-linked\" class=\"a-link-normal\" href=\"/Miracle-Noodle-Angel-Hair-Pasta/dp/B00BP36RTY/ref=cm_cr_arp_d_rvw_txt?ie=UTF8\"&gt;Miracle Noodle Angel Hair Pasta&lt;/a&gt;&amp;nbsp;and I knew I just HAD to try it.\\n\\nNow before going any further, I just wanted to clarify that when I ordered this&amp;nbsp;&lt;a data-hook=\"product-link-linked\" class=\"a-link-normal\" href=\"/Miracle-Noodle-Rice/dp/B00BP36S7U/ref=cm_cr_arp_d_rvw_txt?ie=UTF8\"&gt;Miracle Noodle Rice&lt;/a&gt;&amp;nbsp;I had NO illusions whatsoever that this would taste like basmati rice, in any way! Even before I ordered this, I knew it would be difficult if not impossible to replicate the taste &amp; texture of basmati rice into a no-carb calorie free version. So despite the name of the brand, I was NOT expecting a miracle. However, while I knew that it would probably not taste like basmati rice -- I was hoping that it would at least taste like SOME kind of rice.\\n\\nUnfortunately, I was wrong! Not only does it not LOOK like rice but it also does NOT taste like ANY kind of rice either!\\n\\nThis so-called \"rice\" is a bunch of tiny white little balls, that kind of look like caviar (though I've never had caviar, this looks like a white version of it!) or tapioca. In fact, when I made this for a close friend, one of the first things she said, when she saw it was that it looked and tasted like \"sabudana\" (which is what tapioca is called in many of the languages in India).\\n\\nAs for the taste,&amp;nbsp;&lt;a data-hook=\"product-link-linked\" class=\"a-link-normal\" href=\"/Miracle-Noodle-Rice/dp/B00BP36S7U/ref=cm_cr_arp_d_rvw_txt?ie=UTF8\"&gt;Miracle Noodle Rice&lt;/a&gt;&amp;nbsp;does NOT taste even remotely like rice! Not only that but this \"rice\" doesn't even taste much different than any of the other varieties of Miracle Noodle pastas -- and as a matter of fact, it tastes more like an orzo pasta than rice, and I don't know on what planet this could in any way be considered \"rice\"!\\n\\nEven though I followed all the directions, and experimented with these in many different kinds of recipes, NOTHING I tried made it taste even REMOTELY like rice -- and it would have been better if they had just labeled this as an orzo pasta or something instead. At least then, that would be more accurate and honest. Becasue calling this item \"rice\" is VERY misleading and a HUGE disappointment!\\n\\nWhich is why, although I LOVE the&amp;nbsp;&lt;a data-hook=\"product-link-linked\" class=\"a-link-normal\" href=\"/Miracle-Noodle-Pasta-Angel-Hair/dp/B00BP36RTY/ref=cm_cr_arp_d_rvw_txt?ie=UTF8\"&gt;Miracle Noodle Pasta, Angel Hair&lt;/a&gt;&amp;nbsp;and the&amp;nbsp;&lt;a data-hook=\"product-link-linked\" class=\"a-link-normal\" href=\"/Miracle-Noodle-Pasta-Fetuccine/dp/B00BP36RW6/ref=cm_cr_arp_d_rvw_txt?ie=UTF8\"&gt;Miracle Noodle Pasta, Fetuccine&lt;/a&gt;, I will probably never be buying this so-called \"rice\" again!</td>\n",
       "      <td>4858</td>\n",
       "    </tr>\n",
       "    <tr>\n",
       "      <th>2288</th>\n",
       "      <td>B007JINB0W</td>\n",
       "      <td>A1NF7CRBZD2AF8</td>\n",
       "      <td>5.0</td>\n",
       "      <td>2017</td>\n",
       "      <td>Grocery &amp; Gourmet Food; Pasta &amp; Noodles; Noodles; Shirataki</td>\n",
       "      <td>Great product.: Great product.&lt;a data-hook=\"product-link-linked\" class=\"a-link-normal\" href=\"/Miracle-Noodle-Zero-Carb-Gluten-Free-Shirataki-Pasta-and-Rice-6-bag-Variety-Pack-44-ounces-Includes-2-Shirataki-Angel-Hair-2-Shirataki-Rice-and-2-Shirataki-Fettuccini/dp/B00BTMDALO/ref=cm_cr_arp_d_rvw_txt?ie=UTF8\"&gt;Miracle Noodle Zero Carb, Gluten Free Shirataki Pasta and Rice, 6 bag Variety Pack, 44 ounces (Includes: 2 Shirataki Angel Hair, 2 Shirataki Rice and 2 Shirataki Fettuccini)&lt;/a&gt;</td>\n",
       "      <td>485</td>\n",
       "    </tr>\n",
       "    <tr>\n",
       "      <th>2378</th>\n",
       "      <td>B007JINB0W</td>\n",
       "      <td>A14A4YYKPLYY26</td>\n",
       "      <td>5.0</td>\n",
       "      <td>2013</td>\n",
       "      <td>Grocery &amp; Gourmet Food; Pasta &amp; Noodles; Noodles; Shirataki</td>\n",
       "      <td>I Can Have Noodles Again! Now, If Only There Could Be a Similar Zero-Carb or Low-Carb Equivalent for Bagels &amp; Crusty Baguettes!: Earlier this year, I started a wheat-free and low-carb, mostly grain-free&amp;nbsp;&lt;a data-hook=\"product-link-linked\" class=\"a-link-normal\" href=\"/Wheat-Belly/dp/1609611543/ref=cm_cr_arp_d_rvw_txt?ie=UTF8\"&gt;Wheat Belly&lt;/a&gt;&amp;nbsp;diet, and among the many the things I've been missing, one of the things that I've been craving the most is noodles/pasta, since its my favorite food after sushi, steak &amp; shellfish\\n\\nWhich is why I was SO glad to find Miracle Noodles -- and out of all the varieties I've tried so far (&lt;a data-hook=\"product-link-linked\" class=\"a-link-normal\" href=\"/Angel-Hair/dp/B00BP36RTY/ref=cm_cr_arp_d_rvw_txt?ie=UTF8\"&gt;Angel Hair&lt;/a&gt;,&lt;a data-hook=\"product-link-linked\" class=\"a-link-normal\" href=\"/Fetuccine/dp/B00BP36RW6/ref=cm_cr_arp_d_rvw_txt?ie=UTF8\"&gt;Fetuccine&lt;/a&gt;,&lt;a data-hook=\"product-link-linked\" class=\"a-link-normal\" href=\"/Rice/dp/B00BP36S7U/ref=cm_cr_arp_d_rvw_txt?ie=UTF8\"&gt;Rice&lt;/a&gt;, etc.) I have to say that&amp;nbsp;&lt;a data-hook=\"product-link-linked\" class=\"a-link-normal\" href=\"/Miracle-Noodle-Angel-Hair/dp/B00BP36RTY/ref=cm_cr_arp_d_rvw_txt?ie=UTF8\"&gt;Miracle Noodle Angel Hair&lt;/a&gt;&amp;nbsp;is my ABSOLUTE FAVORITE!!\\n\\nIt is so wonderful to be able to have noodles &amp; pasta in at least some form again -- even if it doesn't taste *exactly* like the conventional wheat-based versions. Especially since with these noodles, I never have to worry about carb content or even calories!\\n\\nMiracle Noodles are really a MIRACLE for those of us pasta &amp; noodle lovers on low-carb &amp; grain-free diets. Its so versatile, so far I've used it in soups, stir-frys, and salads, and its been DELICIOUS!!\\n\\nIn response to other reviewers on this page who have complained that these noodles have a fishy smell.......they are only right, in that when you first open the noodle package, there IS a bit of a smell. However, as soon as I've emptied the noodles into a sieve or colander and rinsed it in water (I usually use warm-ish water) for a few minutes, any &amp; all of the \"fishy\" smell immediately disappears.\\n\\nAlso to all those people who have complained about the \"rubbery\" texture of these noodles........if you buy these noodles, and go into the experience expecting to get an EXACT REPLICA of the conventional wheat-based and carb-filled starchy noodles/pasta, then you are going to be SORELY disappointed. Because these noodles are NOT made with wheat or any other high-carb grain. Miracle Noodles are made of a healthy natural water soluble fiber (that has NO fat, sugar, or starch) called Glucomannan, and konnyaku flour, which is made from the Konjac plant which has been used in Asia for thousands of years, and is wheat-free, gluten-free, kosher, and has ZERO net carbs and ZERO calories!\\n\\nAs such, because Miracle Noodles are not made with wheat (or any grain) they are NOT going to have the same starchy texture as conventional pasta. Instead, in my opinion, the texture of these noodles are more like that of ramen noodles, and as long as they are made the right way, they taste DELICIOUS!\\n\\nIf you make these expecting it to be just like regular spaghetti, where you just toss it in boiling water to cook it, and then drain out the water and mix it with tomato sauce and eat it, then not only will these noodles be a disappointment, but also you are missing out on the best potential of these noodles!\\n\\nBecause&amp;nbsp;&lt;a data-hook=\"product-link-linked\" class=\"a-link-normal\" href=\"/Miracle-Noodles/dp/B00BP36RTY/ref=cm_cr_arp_d_rvw_txt?ie=UTF8\"&gt;Miracle Noodles&lt;/a&gt;&amp;nbsp;are so unique and unlike any conventional and usually wheat-based version, they cannot be made and consumed in the same way as regular pasta, and expected to taste the exact same. However, if these are cooked according to the package directions (rinse thoroughly in clean water, boil in salted water for a few minutes, and fry it in a skillet long enough to remove any remaining water &amp; moisture) and then used in appropriate recipes (in my opinion &amp; experience, these kinds of noodles work best in soups, and Asian stir-fry dishes) they still taste pretty good.\\n\\nWhat I usually do with these noodles is this. First I cut open the package and empty the noodles into a sieve or colander, and rinse them in water for a few minutes under the kitchen tap, lightly shaking the sieve/colander all the while to make sure that all of the noodles have been thoroughly rinsed, and are free of the \"fishy-smelling\" water it was packaged in. Once the noodles have been rinsed, I shake out all the remaining water from the sieve/colander, fill a small pot or saucepan with moderately salted water, and add the noodles and bring it all to a boil.\\n\\nAfter it has boiled for about 2-3 minutes, I take the pot off the burner, pour the noodles back into a sieve/colander to drain the water, and then put a little oil (I usually use olive oil -- but only regular olive oil, and NOT the \"extra-virgin olive oil\" which is not designed for the high temperatures of cooking) in a skillet and saute the noodles to get rid of any remaining water/excess moisture.\\n\\nThen in another (or the same) skillet, or a wok, I heat up some aromatic &amp; flavorful oil (preferably those used in Asian cooking like sesame oil) and add some fresh minced garlic, ginger and diced onions (at this point, mostly white or yellow onions with a smaller amount of green onions) as well as a little organic, wheat-free soy sauce. After a minute or two, I pour the noodles into that pan and stir-fry it with the ginger/garlic/onion/soy sauce mixture for a few minutes before adding various vegetables (mushrooms, green onions, matchstick carrots, etc.) and meats and/or seafood (shrimp, chicken, pork, etc.).\\n\\nNext, I add whatever Asian seasoning sauce I'm in the mood for at the time (whether a teriyaki sauce, or a Hoisin sauce, or if I'm making these noodles for people who like spicy food, then a \"Hot &amp; Spicy Szechuan sauce\" or whatever) stir it in, and let it all simmer together for a few minutes. Then I add some salt (I usually use Himalayan pink salt) and pepper to taste and mix it in well before finally turning off the heat, and letting it sit in the pan for a few minutes for the sauce to thicken a bit before serving -- and even though its not exactly like regular noodles, it is still GREAT nevertheless!\\n\\nAs someone who is currently on the&amp;nbsp;&lt;a data-hook=\"product-link-linked\" class=\"a-link-normal\" href=\"/Wheat-Belly/dp/1609611543/ref=cm_cr_arp_d_rvw_txt?ie=UTF8\"&gt;Wheat Belly&lt;/a&gt;&amp;nbsp;diet and unable to enjoy my 2nd favorite food (after sushi, steak and shellfish which all tie for the first place of my most favorite food!) of pasta &amp; noodles, I rhink that&amp;nbsp;&lt;a data-hook=\"product-link-linked\" class=\"a-link-normal\" href=\"/Miracle-Noodles/dp/B00BP36RTY/ref=cm_cr_arp_d_rvw_txt?ie=UTF8\"&gt;Miracle Noodles&lt;/a&gt;&amp;nbsp;are a wonderful substitute!\\n\\nAlthough I admit &amp; agree that even when prepared properly,&amp;nbsp;&lt;a data-hook=\"product-link-linked\" class=\"a-link-normal\" href=\"/Miracle-Noodles/dp/B00BP36RTY/ref=cm_cr_arp_d_rvw_txt?ie=UTF8\"&gt;Miracle Noodles&lt;/a&gt;&amp;nbsp;still do not taste *exactly* like regular pasta, given that it has ZERO carbs and ZERO calories, in my opinion its close enough and it is a GREAT alternative for those of us who LOVE pasta/noodles but for whatever reason (being gluten-free, wheat-free [or even grain-free!] or on low-carb diets) are unable to eat regular pasta, to be able to enjoy noodles again!\\n\\nI just wish there were an equivalent alternative for bagels and baguettes because then, instead of just staying on the&amp;nbsp;&lt;a data-hook=\"product-link-linked\" class=\"a-link-normal\" href=\"/Wheat-Belly/dp/1609611543/ref=cm_cr_arp_d_rvw_txt?ie=UTF8\"&gt;Wheat Belly&lt;/a&gt;&amp;nbsp;diet only long enough to meet specific goals (like weight-loss) like I'm going to be doing, I'd be a lot more willing stay on this diet permanently the way its developer, Dr. William Davis recommends making it a complete lifestyle change!\\n\\nNow if only Miracle Noodle could just come out with as great an alternative for chewy bagels and crusty baguettes, I'd be ALL SET!!</td>\n",
       "      <td>8135</td>\n",
       "    </tr>\n",
       "    <tr>\n",
       "      <th>2404</th>\n",
       "      <td>B007JINB0W</td>\n",
       "      <td>A1FFJRP833Y1MH</td>\n",
       "      <td>5.0</td>\n",
       "      <td>2017</td>\n",
       "      <td>Grocery &amp; Gourmet Food; Pasta &amp; Noodles; Noodles; Shirataki</td>\n",
       "      <td>Delicious!!: We love all the Miracle noodles but the&amp;nbsp;&lt;a data-hook=\"product-link-linked\" class=\"a-link-normal\" href=\"/Miracle-Noodle-Shirataki-Zero-Carb-Gluten-Free-Pasta-Garlic-and-Herb-Fettuccini-7-Ounce/dp/B01N91YE5A/ref=cm_cr_arp_d_rvw_txt?ie=UTF8\"&gt;Miracle Noodle Shirataki Zero Carb Gluten Free Pasta, Garlic and Herb Fettuccini, 7 Ounce&lt;/a&gt;&amp;nbsp;is especially great.  Marry it to some canned clams and basil and herbs fettuccine sauce and you've got a quick and delicious meal!  My personal hot tip on using ShIrataki noodles is to heat them separately from you sauces in a non-stick pan and get them dryer.  When they look a little opaque and dull, not so wet and shiny then serve them to put your sauce over or mix them in with the clams and sauce.  Enjoy</td>\n",
       "      <td>767</td>\n",
       "    </tr>\n",
       "    <tr>\n",
       "      <th>3056</th>\n",
       "      <td>B007JINB0W</td>\n",
       "      <td>A14A4YYKPLYY26</td>\n",
       "      <td>4.0</td>\n",
       "      <td>2013</td>\n",
       "      <td>Grocery &amp; Gourmet Food; Pasta &amp; Noodles; Noodles; Shirataki</td>\n",
       "      <td>I Can Have Noodles Again! Now, If Only There Could Be a Similar Zero-Carb or Low-Carb Equivalent for Bagels &amp; Crusty Baguettes!: Earlier this year, I started a wheat-free and low-carb, mostly grain-free&amp;nbsp;&lt;a data-hook=\"product-link-linked\" class=\"a-link-normal\" href=\"/Wheat-Belly/dp/1609611543/ref=cm_cr_arp_d_rvw_txt?ie=UTF8\"&gt;Wheat Belly&lt;/a&gt;&amp;nbsp;diet, and among the many the things I've been missing, one of the things that I've been craving the most is noodles/pasta, since its my favorite food after sushi, steak &amp; shellfish\\n\\nWhich is why I was SO glad to find&amp;nbsp;&lt;a data-hook=\"product-link-linked\" class=\"a-link-normal\" href=\"/Miracle-Noodles/dp/B00BP36RW6/ref=cm_cr_arp_d_rvw_txt?ie=UTF8\"&gt;Miracle Noodles&lt;/a&gt;!\\n\\nMiracle Noodles are really a MIRACLE for those of us on low-carb &amp; grain-free diets who love pasta.\\n\\nIt is so wonderful to be able to have noodles again in at least some form -- even if it doesn't taste *exactly* like the conventional wheat-based versions. Especially since with this pasta, I never have to worry about the carb content or even the number of calories and yet its still DELICIOUS!!\\n\\nIn response to other reviewers on this page who have complained that these noodles have a fishy smell.......they are only right, in that when you first open the noodle package, there IS a bit of a smell. However, as soon as I've emptied the noodles into a sieve or colander and rinsed it in water (I usually use warm-ish water) for a few minutes, any &amp; all of the \"fishy\" smell immediately disappears.\\n\\nAlso to all those people who have complained about the \"rubbery\" texture of these noodles........if you buy these noodles, and go into the experience expecting to get an EXACT REPLICA of the conventional wheat-based and carb-filled starchy noodles/pasta, then you are going to be SORELY disappointed!\\n\\nBecause these noodles are NOT made with wheat or any other high-carb grain, they are NOT going to have the same starchy texture as conventional pasta. But that does NOT mean that they cannot be just as YUMMY in their own right!\\n\\nMiracle Noodles are made of a healthy natural water soluble fiber (that has NO fat, sugar, or starch) called Glucomannan, and konnyaku flour, which is made from the Konjac plant which has been used in Asia for thousands of years, and is wheat-free, gluten-free, kosher, and has ZERO net carbs and ZERO calories! However, Miracle Noodles are unique and UNLIKE the conventional (and usually wheat-based) versions of pasta, and as such, they cannot be made and consumed in the same way as regular pasta, and expected to taste the exact same.\\n\\nSo, if you make these noodles expecting it to be just like regular spaghetti, where you just toss it in boiling water to cook it, and then drain out the water and mix it with tomato sauce and eat it, then not only will these noodles be a disappointment, but also you are missing out on the best potential of these noodles!\\n\\nHowever, if these are cooked according to the package directions (rinse thoroughly in clean water, boil in salted water for a few minutes, and fry it in a skillet long enough to remove any remaining water &amp; moisture) and then used in appropriate recipes (although I've only used these noodles in soups and Asian stir-fry so far, I've heard that the&amp;nbsp;&lt;a data-hook=\"product-link-linked\" class=\"a-link-normal\" href=\"/fettucine-noodles/dp/B00BP36RW6/ref=cm_cr_arp_d_rvw_txt?ie=UTF8\"&gt;fettucine noodles&lt;/a&gt;&amp;nbsp;are really good in recipes of Alfredo sauce made with REAL butter, cream and parmesan cheese!)\\n\\nAs someone who is currently on the&amp;nbsp;&lt;a data-hook=\"product-link-linked\" class=\"a-link-normal\" href=\"/Wheat-Belly/dp/1609611543/ref=cm_cr_arp_d_rvw_txt?ie=UTF8\"&gt;Wheat Belly&lt;/a&gt;&amp;nbsp;diet and unable to enjoy my 2nd favorite food (after sushi, steak and shellfish which all tie for the first place of my most favorite food!) of pasta &amp; noodles, I think that&amp;nbsp;&lt;a data-hook=\"product-link-linked\" class=\"a-link-normal\" href=\"/Miracle-Noodles/dp/B00BP36RW6/ref=cm_cr_arp_d_rvw_txt?ie=UTF8\"&gt;Miracle Noodles&lt;/a&gt;&amp;nbsp;are a wonderful substitute!\\n\\nAlthough I admit &amp; agree that even when prepared properly,&amp;nbsp;&lt;a data-hook=\"product-link-linked\" class=\"a-link-normal\" href=\"/Miracle-Noodles/dp/B00BP36RW6/ref=cm_cr_arp_d_rvw_txt?ie=UTF8\"&gt;Miracle Noodles&lt;/a&gt;&amp;nbsp;still do not taste *exactly* like regular pasta, given that it has ZERO carbs and ZERO calories, in my opinion its close enough and it is a GREAT alternative for those of us who LOVE pasta/noodles but for whatever reason (being gluten-free, wheat-free [or even grain-free!] or on low-carb diets) are unable to eat regular pasta, to be able to enjoy noodles again!\\n\\nI just wish there were an equivalent alternative for bagels and baguettes because then, instead of just staying on the&amp;nbsp;&lt;a data-hook=\"product-link-linked\" class=\"a-link-normal\" href=\"/Wheat-Belly/dp/1609611543/ref=cm_cr_arp_d_rvw_txt?ie=UTF8\"&gt;Wheat Belly&lt;/a&gt;&amp;nbsp;diet only long enough to meet specific goals (like weight-loss) like I'm going to be doing, I'd be a lot more willing stay on this diet permanently the way its developer, Dr. William Davis recommends making it a complete lifestyle change!\\n\\nNow if only Miracle Noodle could just come out with as great an alternative for chewy bagels and crusty baguettes, I'd be ALL SET!!</td>\n",
       "      <td>5289</td>\n",
       "    </tr>\n",
       "    <tr>\n",
       "      <th>3577</th>\n",
       "      <td>B007JINB0W</td>\n",
       "      <td>AD4TI3BYQ6U7I</td>\n",
       "      <td>5.0</td>\n",
       "      <td>2016</td>\n",
       "      <td>Grocery &amp; Gourmet Food; Pasta &amp; Noodles; Noodles; Shirataki</td>\n",
       "      <td>Noodles on a low carb diet?  Yes !!!: My daughter swears by this product.  She's on a (very) low carb diet and there are not many noodle like products which she can eat and keep her carbs to a minimum.  Yes, these noodles smell fishy upon opening.  BUT they do rinse up nicely and serve as an accompaniment for sauteed veggies and as a decent side for London Broil, baked chicken and the like.  The different varieties are nice for eye appeal and texture.\\n\\n&lt;a data-hook=\"product-link-linked\" class=\"a-link-normal\" href=\"/Miracle-Noodle-Shirataki-Pasta-6-bag-Variety-Pack-44-ounces-Includes-2-Shirataki-Angel-Hair-2-Shirataki-Rice-and-2-Shirataki-Fettuccini/dp/B00BTMDALO/ref=cm_cr_arp_d_rvw_txt?ie=UTF8\"&gt;Miracle Noodle Shirataki Pasta, 6 bag Variety Pack, 44 ounces (Includes: 2 Shirataki Angel Hair, 2 Shirataki Rice and 2 Shirataki Fettuccini)&lt;/a&gt;</td>\n",
       "      <td>849</td>\n",
       "    </tr>\n",
       "  </tbody>\n",
       "</table>\n",
       "</div>"
      ],
      "text/plain": [
       "            asin      reviewerID  overall  year  \\\n",
       "164   B007JINB0W  A2M9IS41H1HJAI      5.0  2014   \n",
       "266   B007JINB0W  A2AZR0HQEOAT8J      1.0  2013   \n",
       "895   B007JINB0W    AN79B2EUCG5O      3.0  2015   \n",
       "1172  B007JINB0W  A25Y0KLV7I19FA      5.0  2018   \n",
       "1350  B007JINB0W  A3UEE22RNGQ2L8      5.0  2017   \n",
       "1498  B007JINB0W  A237SW9SPH1DAD      5.0  2018   \n",
       "1514  B007JINB0W  A14A4YYKPLYY26      2.0  2013   \n",
       "2288  B007JINB0W  A1NF7CRBZD2AF8      5.0  2017   \n",
       "2378  B007JINB0W  A14A4YYKPLYY26      5.0  2013   \n",
       "2404  B007JINB0W  A1FFJRP833Y1MH      5.0  2017   \n",
       "3056  B007JINB0W  A14A4YYKPLYY26      4.0  2013   \n",
       "3577  B007JINB0W   AD4TI3BYQ6U7I      5.0  2016   \n",
       "\n",
       "                                                         category  \\\n",
       "164   Grocery & Gourmet Food; Pasta & Noodles; Noodles; Shirataki   \n",
       "266   Grocery & Gourmet Food; Pasta & Noodles; Noodles; Shirataki   \n",
       "895   Grocery & Gourmet Food; Pasta & Noodles; Noodles; Shirataki   \n",
       "1172  Grocery & Gourmet Food; Pasta & Noodles; Noodles; Shirataki   \n",
       "1350  Grocery & Gourmet Food; Pasta & Noodles; Noodles; Shirataki   \n",
       "1498  Grocery & Gourmet Food; Pasta & Noodles; Noodles; Shirataki   \n",
       "1514  Grocery & Gourmet Food; Pasta & Noodles; Noodles; Shirataki   \n",
       "2288  Grocery & Gourmet Food; Pasta & Noodles; Noodles; Shirataki   \n",
       "2378  Grocery & Gourmet Food; Pasta & Noodles; Noodles; Shirataki   \n",
       "2404  Grocery & Gourmet Food; Pasta & Noodles; Noodles; Shirataki   \n",
       "3056  Grocery & Gourmet Food; Pasta & Noodles; Noodles; Shirataki   \n",
       "3577  Grocery & Gourmet Food; Pasta & Noodles; Noodles; Shirataki   \n",
       "\n",
       "                                                                                                                                                                                                                                                                                                                                                                                                                                                                                                                                                                                                                                                                                                                                                                                                                                                                                                                                                                                                                                                                                                                                                                                                                                                                                                                                                                                                                                                                                                                                                                                                                                                                                                                                                                                                                                                                                                                                                                                                                                                                                                                                                                                                                                                                                                                                                                                                                                                                                                                                                                                                                                                                                                                                                                                                                                                                                                                                                                                                                                                                                                                                                                                                                                                                                                                                                                                                                                                                                                                                                                                                                                                                                                                                                                                                                                                                                                                                                                                                                                                                                                                                                                                                                                                                                                                                                                                                                                                                                                                                                                                                                                                                                                                                                                                                                                                                                                                                                                                                                                                                                                                                                                                                                                                                                                                                                                                                                                                                                                                                                                                                                                                                                                                                                                                                                                                                                                                                                                                                                                                                                                                                                                                                                                                                                                                                                                                                                                                                                                                                                                                                                                                                                                                                                                                                                                                                                                                                                                                                                                                                                                                                                                                                                                                                                                                                                                                                                                                                                                                                                                                                                                                                                                                                                                                                                                                                                                                                                                                                                                                                                                                                                                                                                                                                                                                                                                                                                                                                                                     text-raw  \\\n",
       "164                                                                                                                                                                                                                                                                                                                                                                                                                                                                                                                                                                                                                                                                                                                                                                                                                                                                                                                                                                                                                                                                                                                                                                                                                                                                                                                                                                                                                                                                                                                                                                                                                                                                                                                                                                                                                                                                                                                                                                                                                                                                                                                                                                                                                                                                                                                                                                                                                                                                                                                                                                                                                                                                                                                                                                                                                                                                                                                                                                                                                                                                                                                                                                                                                                                                                                                                                                                                                                                                                                                                                                                                                                                                                                                                                                                                                                                                                                                                                                                                                                                                                                                                                                                                                                                                                                                                                                                                                                                                                                                                                                                                                                                                                                                                                                                                                                                                                                                                                                                                                                                                                                                                                                                                                                                                                                                                                                                                                                                                                                                                                                                                                                                                                                                                                                                                                                                                                                                                                                                                                                                                                                                                                                                                                                                                                                                                                                                                                                                                                                                                                                                                                                                                                                                                                                 Follow the directions, and these will be really really good.: Quick update on 11/21/14\\n\\nJust started putting Old Bay Seasoning in the water that I boil these in. Seems to add some flavor to them but it also changes the color. Looks very close to the color of pasta!\\n\\n---------------\\n\\nIt's kind of sad to see so many have given these 1 star. Being someone who believes strongly in 'Low Carbs' are healthy, I worked at learning how these should be cooked. Maybe many of the 1 star people didn't care that much?\\n\\nAlmost forgot to mention, the exp date on the ones I received today are Jul 2015.\\n\\nRinse them in a colander (cold water) for a minute or two, there should be no smell now. Boil them in a pot for 3 mins, then rinse again (pat dry with paper towels and try to squeeze out as much liquid as possible). Now put them in your already heated non stick skillet. I do this on a setting of 3 on the glass top stove.\\n\\nAt this point, because I've never read where someone has said how much time to do this for, I've been kind of guessing or listening for 'squeakiness'. I just now made these and decided to extend the time for this part. Not sure if it was the extended time or that simply these noodles are better than the ones I've gotten at walmart, but these were really really good. The texture was really just like spaghetti.\\n\\nI top off these noodles with Bella vita low carb pasta sauce... wow, it's really awesome to be having spaghetti again!&nbsp;<a data-hook=\"product-link-linked\" class=\"a-link-normal\" href=\"/Bella-Vita-Low-Carb-Pasta-Sauce-Spicy-Tomato/dp/B0079OQEAA/ref=cm_cr_arp_d_rvw_txt?ie=UTF8\">Bella Vita Low Carb Pasta Sauce Spicy Tomato</a>   \n",
       "266                                                                                                                                                                                                                                                                                                                                                                                                                                                                                                                                                                                                                                                                                                                                                                                                                                                                                                                                                                                                                                                                                                                                                                                                                                                                                                                                                                                                                                                                                                                                                                                                                                                                                                                                                                                                                                                                                                                                                                                                                                                                                                                                                                                                                                                                                                                                                                                                                                                                                                                                                                                                                                                                                                                                                                                                                                                                                                                                                                                                                                                                                                                                                                                                                                                                                                                                                                                                                                                                                                                                                                                                                                                                                                                                                                                                                                                                                                                                                                                                                                                                                                                                                                                                                                                                                                                                                                                                                                                                                                                                                                                                                                                                                                                                                                                                                                                                                                                                                                                                                                                                                                                                                                                                                                                                                                                                                                                                                                                                                                                                                                                                                                                                                                                                                                                                                                                                                                                                                                                                                                                                                                                                                                                                                                                                                                                                                                                                                                                                                                                                                                                                                                                                                                                                                                                                                                                                                                                                                                                                                                                                                                                                                                                                                                                                                                                                                                                                                                                                                                                                                                                                                                                                                                                They're great, if you like eating rubber: Because they look and feel like exactly that: noodles made of transparent rubber. If you don't care or are planning in burying them in enough sauce you can't see them, go for it. Personally, I'm not that desperate to lose the calories and carbs from my diet.\\n\\nEdit: I've since found&nbsp;<a data-hook=\"product-link-linked\" class=\"a-link-normal\" href=\"/FiberGourmet-Light-Spaghetti/dp/B003S1TNIS/ref=cm_cr_arp_d_rvw_txt?ie=UTF8\">FiberGourmet Light Spaghetti</a>, which while it's not calorie free, is lower in calories and much higher in fiber than any other pasta I've ever seen. It also tastes like regular noodles. I love it, and anyone that isn't happy with these should try it. Their crackers are also pretty good.   \n",
       "895                                                                                                                                                                                                                                                                                                                                                                                                                                                                                                                                                                                                                                                                                                                                                                                                                                                                                                                                                                                                                                                                                                                                                                                                                                                                                                                                                                                                                                                                                                                                                                                                                                                                                                                                                                                                                                                                                                                                                                                                                                                                                                                                                                                                                                                                                                                                                                                                                                                                                                                                                                                                                                                                                                                                                                                                                                                                                                                                                                                                                                                                                                                                                                                                                                                                                                                                                                                                                                                                                                                                                                                                                                                                                                                                                                                                                                                                                                                                                                                                                                                                                                                                                                                                                                                                                                                                                                                                                                                                                                                                                                                                                                                                                                                                                                                                                                                                                                                                                                                                                                                                                                                                                                                                                                                                                                                                                                                                                                                                                                                                                                                                                                                                                                                                                                                                                                                                                                                                                                                                                                                                                                                                                                                                                                                                                                                                                                                                                                                                                                                                                                                                                                                                                                                                                                                                                                                                                                                                                                                                                                                                                                                                                                                                                                                                                                                                                                                                                                                                                                                                                                                                                                                                                                                                                                                                                                                                                                                                             Be prepaired to experement to find the best way to eat them.: bought the variety pack... the rice and the angle hair are ok.  I think for me they are thin/small enough to not be a substantial part of a bite, so less contribution to the mouth feel of the bite of food. The Fettuchini on the other hand, I couldn't handle it, felt like I was having a bowl of night crawlers >.< .  I had hoped you could crisp them up some, but all you do is reduce the water making them more chewy lol.  I drain them and then rinse them in a sieve thouroughly.   \n",
       "1172                                                                                                                                                                                                                                                                                                                                                                                                                                                                                                                                                                                                                                                                                                                                                                                                                                                                                                                                                                                                                                                                                                                                                                                                                                                                                                                                                                                                                                                                                                                                                                                                                                                                                                                                                                                                                                                                                                                                                                                                                                                                                                                                                                                                                                                                                                                                                                                                                                                                                                                                                                                                                                                                                                                                                                                                                                                                                                                                                                                                                                                                                                                                                                                                                                                                                                                                                                                                                                                                                                                                                                                                                                                                                                                                                                                                                                                                                                                                                                                                                                                                                                                                                                                                                                                                                                                                                                                                                                                                                                                                                                                                                                                                                                                                                                                                                                                                                                                                                                                                                                                                                                                                                                                                                                                                                                                                                                                                                                                                                                                                                                                                                                                                                                                                                                                                                                                                                                                                                                                                                                                                                                                                                                                                                                                                                                                                                                                                                                                                                                                                                                                                                                                                                                                                                                                                                                                                                                                                                                                                                                                                                                                                                                                                                                                                                                                                                                                                                                                                                                                                                                                                                                                                                                                                                                                                                                                                                                                                                                                  Family love it !!!: <div id=\"video-block-R2QVYQA389CT7S\" class=\"a-section a-spacing-small a-spacing-top-mini video-block\"></div><input type=\"hidden\" name=\"\" value=\"https://images-na.ssl-images-amazon.com/images/I/91E2G7ukhBS.mp4\" class=\"video-url\"><input type=\"hidden\" name=\"\" value=\"https://images-na.ssl-images-amazon.com/images/I/81T6z-AkzTS.png\" class=\"video-slate-img-url\">&nbsp;Love this stuff !!!! Guilt Free perfect if your in a weight loss journey like I am!!! Easy to cook !!!! Will order more   \n",
       "1350                                                                                                                                                                                                                                                                                                                                                                                                                                                                                                                                                                                                                                                                                                                                                                                                                                                                                                                                                                                                                                                                                                                                                                                                                                                                                                                                                                                                                                                                                                                                                                                                                                                                                                                                                                                                                                                                                                                                                                                                                                                                                                                                                                                                                                                                                                                                                                                                                                                                                                                                                                                                                                                                                                                                                                                                                                                                                                                                                                                                                                                                                                                                                                                                                                                                                                                                                                                                                                                                                                                                                                                                                                                                                                                                                                                                                                                                                                                                                                                                                                                                                                                                                                                                                                                                                                                                                                                                                                                                                                                                                                                                                                                                                                                                                                                                                                                                                                                                                                                                                                                                                                                                                                                                                                                                                                                                                                                                                                                                                                                                                                                                                                                                                                                                                                                                                                                                                                                                                                                                                                                                                                                                                                                           ZERO CALORIES, ZERO CARBS and EXACTLY like spaghetti. Miracle noodles, indeed. Changed my life!: This product has seriously changed my LIFE. I fight every day to keep my weight at its current level, and I simply must avoid carbs. The conflict is that my favorite food, since I was a child is spaghetti with meat sauce. Until I learned about this nearly unbelievable product, I  had to eat spaghetti sauce on bean sprouts (ugh!) or green beans (yuck) or spaghetti squash (wahhhh!) and people say they can pretend they are eating spaghetti but those substitutes are nothing like real noodles. AND THEN I FOUND MIRACLE NOODLES AND MIRACULOUS THEY ARE, INDEED! iMAGINE HOW this could exist: noodles that are EXACTLY like normal noodles, except they have ZERO CALORIES AND ZERO CARBS. It's almost like dreaming, to try to grasp that this product could even exist. I was once warned AGAINST this product by someone who said it tastes awful. It turns out that she did NOT follow the instructions on how to prepare them. When they come out of the bag, they smell like fish! You will worry and think there is no hope. But just go forward following the directions exactly. A lot of rinsing, 2 minutes of boiling, then a little while of cooking them in a dry pan. Is ANY kind of spaghetti so fast to prepare? And then you couldn't tell them from real spaghetti in a million years.  I will be very disappointed in you if you say there is anything imperfect about these, because if you say that, then I know you didn't follow the instructions carefully. I love them so much, I gave them as Christmas gifts. No one could believe it! ALL YOU CAN EAT spaghetti with no calories or carbs!!! Now I have subscribed to have them delivered monthly. I have to say you are simply out of your mind if you don't try these. You can eat ALL THE SPAGHETTI YOU WANT NOW. How did anyone create these? I don't know. But they are a MIRACLE and really changed my life.\\n\\n<a data-hook=\"product-link-linked\" class=\"a-link-normal\" href=\"/Miracle-Noodle-Zero-Carb-Gluten-Free-Shirataki-Pasta-Fettuccini-7-Ounce-Pack-of-6/dp/B00BP36RW6/ref=cm_cr_arp_d_rvw_txt?ie=UTF8\">Miracle Noodle Zero Carb, Gluten Free Shirataki Pasta, Fettuccini, 7-Ounce (Pack of 6)</a>   \n",
       "1498                                                                                                                                                                                                                                                                                                                                                                                                                                                                                                                                                                                                                                                                                                                                                                                                                                                                                                                                                                                                                                                                                                                                                                                                                                                                                                                                                                                                                                                                                                                                                                                                                                                                                                                                                                                                                                                                                                                                                                                                                                                                                                                                                                                                                                                                                                                                                                                                                                                                                                                                                                                                                                                                                                                                                                                                                                                                                                                                                                                                                                                                                                                                                                                                                                                                                                                                                                                                                                                                                                                                                                                                                                                                                                                                                                                                                                                                                                                                                                                                                                                                                                                                                                                                                                                                                                                                                                                                                                                                                                                                                                                                                                                                                                                                                                                                                                                                                                                                                                                                                                                                                                                                                                                                                                                                                                                                                                                                                                                                                                                                                                                                                                                                                                                                                                                                                                                                                                                                                                                                                                                                                                                                                                                                                                                                                                                                                                                                                                                                                                                                                                                                                                                                                                                                                                                                                                                                                                                                                                                                                                                                                                                                                                                                                                                                                                                                                                                                                                                                                                                                                                                                                                                                                                                                                                                                                                                                                                                                                                                     These make your plate \"full\" and plenty.: Holly guacamole, I love these things! Follow instructions and get creative with spices and sauces. The \"funky\" smell so many have mentioned is no big deal and goes away. Texture is good, specially if you like ramen or asian food.\\n If you are like me and \"eat with your eyes\", more than with your stomach (talking about quantity here), these will make your plate look and feel full without the added calories. Get the assorted pack and give them a chance <3.   \n",
       "1514                                                                                                                                                                                                                                                                                                                                                                                                                                                                                                                                                                                                                                                                                                                                                                                                                                                                                                                                                                                                                                                                                                                                                                                                                                                                                                                                                                                                                                                                                                                                                                                                                                                                                                                                                                                                                                                                                                                                                                                                                                                                                                                                                                                                                                                                                                                                                                                                                                                                                                                                                                                                                                                                                                                                                                                                                                                                                                                                                                                                                                                                                                                                                                                                                                                                                                                                                                                                                             Meh! Disappointing..............Tastes NOTHING Like Real Rice!!!: When I decided to buy this&nbsp;<a data-hook=\"product-link-linked\" class=\"a-link-normal\" href=\"/Miracle-Noodle-Rice/dp/B00BP36S7U/ref=cm_cr_arp_d_rvw_txt?ie=UTF8\">Miracle Noodle Rice</a>&nbsp;I did so, after having bought the&nbsp;<a data-hook=\"product-link-linked\" class=\"a-link-normal\" href=\"/Miracle-Noodle-Angel-Hair-Pasta/dp/B00BP36RTY/ref=cm_cr_arp_d_rvw_txt?ie=UTF8\">Miracle Noodle Angel Hair Pasta</a>&nbsp;and ABSOLUTELY LOVING it. Because I am on a&nbsp;<a data-hook=\"product-link-linked\" class=\"a-link-normal\" href=\"/Wheat-Belly/dp/1609611543/ref=cm_cr_arp_d_rvw_txt?ie=UTF8\">Wheat Belly</a>&nbsp;diet, which prohibits the consumption of wheat & any product made with wheat (pasta, bread, crackers, etc.) and I LOVE pasta & noodles, which are my favorite food after sushi, steak & shellfish, I was so glad to find the Miracle Noodle angel hair and fettucine pasta.\\n\\nHowever, even though&nbsp;<a data-hook=\"product-link-linked\" class=\"a-link-normal\" href=\"/Wheat-Belly/dp/1609611543/ref=cm_cr_arp_d_rvw_txt?ie=UTF8\">Wheat Belly</a>&nbsp;is primarily a wheat-free diet, because its also supposed to be low-carb & grain-free, other non-wheat grains & starchy carbs like rice, potatoes and corn are discouraged (or at least advised to only consume in very limited amounts as rarely as possible)\\n\\nUnfortunately I LOVE basmati rice -- especially when having it with the \"Morey's Seafood\" brand of \"Seasoned Grill Wild-Caught Alaskan Salmon\" which I get from the frozen food section at Costco (and prior to that, at Sam's Club) and ever since I started the&nbsp;<a data-hook=\"product-link-linked\" class=\"a-link-normal\" href=\"/Wheat-Belly/dp/1609611543/ref=cm_cr_arp_d_rvw_txt?ie=UTF8\">Wheat Belly</a>&nbsp;diet, I was missing having rice so much that I mostly stopped eating the Morey's Seafood Seasoned Grill Salmon, because it just wasn't the same without the fluffy & buttery basmati rice to enjoy it with.\\n\\nThen I happened to see a listing for this Miracle Noodle Rice while ordering the&nbsp;<a data-hook=\"product-link-linked\" class=\"a-link-normal\" href=\"/Miracle-Noodle-Angel-Hair-Pasta/dp/B00BP36RTY/ref=cm_cr_arp_d_rvw_txt?ie=UTF8\">Miracle Noodle Angel Hair Pasta</a>&nbsp;and I knew I just HAD to try it.\\n\\nNow before going any further, I just wanted to clarify that when I ordered this&nbsp;<a data-hook=\"product-link-linked\" class=\"a-link-normal\" href=\"/Miracle-Noodle-Rice/dp/B00BP36S7U/ref=cm_cr_arp_d_rvw_txt?ie=UTF8\">Miracle Noodle Rice</a>&nbsp;I had NO illusions whatsoever that this would taste like basmati rice, in any way! Even before I ordered this, I knew it would be difficult if not impossible to replicate the taste & texture of basmati rice into a no-carb calorie free version. So despite the name of the brand, I was NOT expecting a miracle. However, while I knew that it would probably not taste like basmati rice -- I was hoping that it would at least taste like SOME kind of rice.\\n\\nUnfortunately, I was wrong! Not only does it not LOOK like rice but it also does NOT taste like ANY kind of rice either!\\n\\nThis so-called \"rice\" is a bunch of tiny white little balls, that kind of look like caviar (though I've never had caviar, this looks like a white version of it!) or tapioca. In fact, when I made this for a close friend, one of the first things she said, when she saw it was that it looked and tasted like \"sabudana\" (which is what tapioca is called in many of the languages in India).\\n\\nAs for the taste,&nbsp;<a data-hook=\"product-link-linked\" class=\"a-link-normal\" href=\"/Miracle-Noodle-Rice/dp/B00BP36S7U/ref=cm_cr_arp_d_rvw_txt?ie=UTF8\">Miracle Noodle Rice</a>&nbsp;does NOT taste even remotely like rice! Not only that but this \"rice\" doesn't even taste much different than any of the other varieties of Miracle Noodle pastas -- and as a matter of fact, it tastes more like an orzo pasta than rice, and I don't know on what planet this could in any way be considered \"rice\"!\\n\\nEven though I followed all the directions, and experimented with these in many different kinds of recipes, NOTHING I tried made it taste even REMOTELY like rice -- and it would have been better if they had just labeled this as an orzo pasta or something instead. At least then, that would be more accurate and honest. Becasue calling this item \"rice\" is VERY misleading and a HUGE disappointment!\\n\\nWhich is why, although I LOVE the&nbsp;<a data-hook=\"product-link-linked\" class=\"a-link-normal\" href=\"/Miracle-Noodle-Pasta-Angel-Hair/dp/B00BP36RTY/ref=cm_cr_arp_d_rvw_txt?ie=UTF8\">Miracle Noodle Pasta, Angel Hair</a>&nbsp;and the&nbsp;<a data-hook=\"product-link-linked\" class=\"a-link-normal\" href=\"/Miracle-Noodle-Pasta-Fetuccine/dp/B00BP36RW6/ref=cm_cr_arp_d_rvw_txt?ie=UTF8\">Miracle Noodle Pasta, Fetuccine</a>, I will probably never be buying this so-called \"rice\" again!   \n",
       "2288                                                                                                                                                                                                                                                                                                                                                                                                                                                                                                                                                                                                                                                                                                                                                                                                                                                                                                                                                                                                                                                                                                                                                                                                                                                                                                                                                                                                                                                                                                                                                                                                                                                                                                                                                                                                                                                                                                                                                                                                                                                                                                                                                                                                                                                                                                                                                                                                                                                                                                                                                                                                                                                                                                                                                                                                                                                                                                                                                                                                                                                                                                                                                                                                                                                                                                                                                                                                                                                                                                                                                                                                                                                                                                                                                                                                                                                                                                                                                                                                                                                                                                                                                                                                                                                                                                                                                                                                                                                                                                                                                                                                                                                                                                                                                                                                                                                                                                                                                                                                                                                                                                                                                                                                                                                                                                                                                                                                                                                                                                                                                                                                                                                                                                                                                                                                                                                                                                                                                                                                                                                                                                                                                                                                                                                                                                                                                                                                                                                                                                                                                                                                                                                                                                                                                                                                                                                                                                                                                                                                                                                                                                                                                                                                                                                                                                                                                                                                                                                                                                                                                                                                                                                                                                                                                                                                                                                                                                                                                                                                    Great product.: Great product.<a data-hook=\"product-link-linked\" class=\"a-link-normal\" href=\"/Miracle-Noodle-Zero-Carb-Gluten-Free-Shirataki-Pasta-and-Rice-6-bag-Variety-Pack-44-ounces-Includes-2-Shirataki-Angel-Hair-2-Shirataki-Rice-and-2-Shirataki-Fettuccini/dp/B00BTMDALO/ref=cm_cr_arp_d_rvw_txt?ie=UTF8\">Miracle Noodle Zero Carb, Gluten Free Shirataki Pasta and Rice, 6 bag Variety Pack, 44 ounces (Includes: 2 Shirataki Angel Hair, 2 Shirataki Rice and 2 Shirataki Fettuccini)</a>   \n",
       "2378  I Can Have Noodles Again! Now, If Only There Could Be a Similar Zero-Carb or Low-Carb Equivalent for Bagels & Crusty Baguettes!: Earlier this year, I started a wheat-free and low-carb, mostly grain-free&nbsp;<a data-hook=\"product-link-linked\" class=\"a-link-normal\" href=\"/Wheat-Belly/dp/1609611543/ref=cm_cr_arp_d_rvw_txt?ie=UTF8\">Wheat Belly</a>&nbsp;diet, and among the many the things I've been missing, one of the things that I've been craving the most is noodles/pasta, since its my favorite food after sushi, steak & shellfish\\n\\nWhich is why I was SO glad to find Miracle Noodles -- and out of all the varieties I've tried so far (<a data-hook=\"product-link-linked\" class=\"a-link-normal\" href=\"/Angel-Hair/dp/B00BP36RTY/ref=cm_cr_arp_d_rvw_txt?ie=UTF8\">Angel Hair</a>,<a data-hook=\"product-link-linked\" class=\"a-link-normal\" href=\"/Fetuccine/dp/B00BP36RW6/ref=cm_cr_arp_d_rvw_txt?ie=UTF8\">Fetuccine</a>,<a data-hook=\"product-link-linked\" class=\"a-link-normal\" href=\"/Rice/dp/B00BP36S7U/ref=cm_cr_arp_d_rvw_txt?ie=UTF8\">Rice</a>, etc.) I have to say that&nbsp;<a data-hook=\"product-link-linked\" class=\"a-link-normal\" href=\"/Miracle-Noodle-Angel-Hair/dp/B00BP36RTY/ref=cm_cr_arp_d_rvw_txt?ie=UTF8\">Miracle Noodle Angel Hair</a>&nbsp;is my ABSOLUTE FAVORITE!!\\n\\nIt is so wonderful to be able to have noodles & pasta in at least some form again -- even if it doesn't taste *exactly* like the conventional wheat-based versions. Especially since with these noodles, I never have to worry about carb content or even calories!\\n\\nMiracle Noodles are really a MIRACLE for those of us pasta & noodle lovers on low-carb & grain-free diets. Its so versatile, so far I've used it in soups, stir-frys, and salads, and its been DELICIOUS!!\\n\\nIn response to other reviewers on this page who have complained that these noodles have a fishy smell.......they are only right, in that when you first open the noodle package, there IS a bit of a smell. However, as soon as I've emptied the noodles into a sieve or colander and rinsed it in water (I usually use warm-ish water) for a few minutes, any & all of the \"fishy\" smell immediately disappears.\\n\\nAlso to all those people who have complained about the \"rubbery\" texture of these noodles........if you buy these noodles, and go into the experience expecting to get an EXACT REPLICA of the conventional wheat-based and carb-filled starchy noodles/pasta, then you are going to be SORELY disappointed. Because these noodles are NOT made with wheat or any other high-carb grain. Miracle Noodles are made of a healthy natural water soluble fiber (that has NO fat, sugar, or starch) called Glucomannan, and konnyaku flour, which is made from the Konjac plant which has been used in Asia for thousands of years, and is wheat-free, gluten-free, kosher, and has ZERO net carbs and ZERO calories!\\n\\nAs such, because Miracle Noodles are not made with wheat (or any grain) they are NOT going to have the same starchy texture as conventional pasta. Instead, in my opinion, the texture of these noodles are more like that of ramen noodles, and as long as they are made the right way, they taste DELICIOUS!\\n\\nIf you make these expecting it to be just like regular spaghetti, where you just toss it in boiling water to cook it, and then drain out the water and mix it with tomato sauce and eat it, then not only will these noodles be a disappointment, but also you are missing out on the best potential of these noodles!\\n\\nBecause&nbsp;<a data-hook=\"product-link-linked\" class=\"a-link-normal\" href=\"/Miracle-Noodles/dp/B00BP36RTY/ref=cm_cr_arp_d_rvw_txt?ie=UTF8\">Miracle Noodles</a>&nbsp;are so unique and unlike any conventional and usually wheat-based version, they cannot be made and consumed in the same way as regular pasta, and expected to taste the exact same. However, if these are cooked according to the package directions (rinse thoroughly in clean water, boil in salted water for a few minutes, and fry it in a skillet long enough to remove any remaining water & moisture) and then used in appropriate recipes (in my opinion & experience, these kinds of noodles work best in soups, and Asian stir-fry dishes) they still taste pretty good.\\n\\nWhat I usually do with these noodles is this. First I cut open the package and empty the noodles into a sieve or colander, and rinse them in water for a few minutes under the kitchen tap, lightly shaking the sieve/colander all the while to make sure that all of the noodles have been thoroughly rinsed, and are free of the \"fishy-smelling\" water it was packaged in. Once the noodles have been rinsed, I shake out all the remaining water from the sieve/colander, fill a small pot or saucepan with moderately salted water, and add the noodles and bring it all to a boil.\\n\\nAfter it has boiled for about 2-3 minutes, I take the pot off the burner, pour the noodles back into a sieve/colander to drain the water, and then put a little oil (I usually use olive oil -- but only regular olive oil, and NOT the \"extra-virgin olive oil\" which is not designed for the high temperatures of cooking) in a skillet and saute the noodles to get rid of any remaining water/excess moisture.\\n\\nThen in another (or the same) skillet, or a wok, I heat up some aromatic & flavorful oil (preferably those used in Asian cooking like sesame oil) and add some fresh minced garlic, ginger and diced onions (at this point, mostly white or yellow onions with a smaller amount of green onions) as well as a little organic, wheat-free soy sauce. After a minute or two, I pour the noodles into that pan and stir-fry it with the ginger/garlic/onion/soy sauce mixture for a few minutes before adding various vegetables (mushrooms, green onions, matchstick carrots, etc.) and meats and/or seafood (shrimp, chicken, pork, etc.).\\n\\nNext, I add whatever Asian seasoning sauce I'm in the mood for at the time (whether a teriyaki sauce, or a Hoisin sauce, or if I'm making these noodles for people who like spicy food, then a \"Hot & Spicy Szechuan sauce\" or whatever) stir it in, and let it all simmer together for a few minutes. Then I add some salt (I usually use Himalayan pink salt) and pepper to taste and mix it in well before finally turning off the heat, and letting it sit in the pan for a few minutes for the sauce to thicken a bit before serving -- and even though its not exactly like regular noodles, it is still GREAT nevertheless!\\n\\nAs someone who is currently on the&nbsp;<a data-hook=\"product-link-linked\" class=\"a-link-normal\" href=\"/Wheat-Belly/dp/1609611543/ref=cm_cr_arp_d_rvw_txt?ie=UTF8\">Wheat Belly</a>&nbsp;diet and unable to enjoy my 2nd favorite food (after sushi, steak and shellfish which all tie for the first place of my most favorite food!) of pasta & noodles, I rhink that&nbsp;<a data-hook=\"product-link-linked\" class=\"a-link-normal\" href=\"/Miracle-Noodles/dp/B00BP36RTY/ref=cm_cr_arp_d_rvw_txt?ie=UTF8\">Miracle Noodles</a>&nbsp;are a wonderful substitute!\\n\\nAlthough I admit & agree that even when prepared properly,&nbsp;<a data-hook=\"product-link-linked\" class=\"a-link-normal\" href=\"/Miracle-Noodles/dp/B00BP36RTY/ref=cm_cr_arp_d_rvw_txt?ie=UTF8\">Miracle Noodles</a>&nbsp;still do not taste *exactly* like regular pasta, given that it has ZERO carbs and ZERO calories, in my opinion its close enough and it is a GREAT alternative for those of us who LOVE pasta/noodles but for whatever reason (being gluten-free, wheat-free [or even grain-free!] or on low-carb diets) are unable to eat regular pasta, to be able to enjoy noodles again!\\n\\nI just wish there were an equivalent alternative for bagels and baguettes because then, instead of just staying on the&nbsp;<a data-hook=\"product-link-linked\" class=\"a-link-normal\" href=\"/Wheat-Belly/dp/1609611543/ref=cm_cr_arp_d_rvw_txt?ie=UTF8\">Wheat Belly</a>&nbsp;diet only long enough to meet specific goals (like weight-loss) like I'm going to be doing, I'd be a lot more willing stay on this diet permanently the way its developer, Dr. William Davis recommends making it a complete lifestyle change!\\n\\nNow if only Miracle Noodle could just come out with as great an alternative for chewy bagels and crusty baguettes, I'd be ALL SET!!   \n",
       "2404                                                                                                                                                                                                                                                                                                                                                                                                                                                                                                                                                                                                                                                                                                                                                                                                                                                                                                                                                                                                                                                                                                                                                                                                                                                                                                                                                                                                                                                                                                                                                                                                                                                                                                                                                                                                                                                                                                                                                                                                                                                                                                                                                                                                                                                                                                                                                                                                                                                                                                                                                                                                                                                                                                                                                                                                                                                                                                                                                                                                                                                                                                                                                                                                                                                                                                                                                                                                                                                                                                                                                                                                                                                                                                                                                                                                                                                                                                                                                                                                                                                                                                                                                                                                                                                                                                                                                                                                                                                                                                                                                                                                                                                                                                                                                                                                                                                                                                                                                                                                                                                                                                                                                                                                                                                                                                                                                                                                                                                                                                                                                                                                                                                                                                                                                                                                                                                                                                                                                                                                                                                                                                                                                                                                                                                                                                                                                                                                                                                                                                                                                                                                                                                                                                                                                                                                                                                                                                                                                                                                                                                                                                                                                                                                                                                                                                                                                                                                                                                                                                                                                                                                                                                                                                          Delicious!!: We love all the Miracle noodles but the&nbsp;<a data-hook=\"product-link-linked\" class=\"a-link-normal\" href=\"/Miracle-Noodle-Shirataki-Zero-Carb-Gluten-Free-Pasta-Garlic-and-Herb-Fettuccini-7-Ounce/dp/B01N91YE5A/ref=cm_cr_arp_d_rvw_txt?ie=UTF8\">Miracle Noodle Shirataki Zero Carb Gluten Free Pasta, Garlic and Herb Fettuccini, 7 Ounce</a>&nbsp;is especially great.  Marry it to some canned clams and basil and herbs fettuccine sauce and you've got a quick and delicious meal!  My personal hot tip on using ShIrataki noodles is to heat them separately from you sauces in a non-stick pan and get them dryer.  When they look a little opaque and dull, not so wet and shiny then serve them to put your sauce over or mix them in with the clams and sauce.  Enjoy   \n",
       "3056                                                                                                                                                                                                                                                                                                                                                                                                                                                                                                                                                                                                                                                                                                                                                                                                                                                                                                                                                                                                                                                                                                                                                                                                                                                                                                                                                                                                                                                                                                                                                                                                                                                                                                                                                                                                                                                                                                                                                                                                                                                                                                                                                                                                                                                                                                                                                                                                                                                                                                                                                                                                                                                                                                                                                                                                                                                                                                                                                                      I Can Have Noodles Again! Now, If Only There Could Be a Similar Zero-Carb or Low-Carb Equivalent for Bagels & Crusty Baguettes!: Earlier this year, I started a wheat-free and low-carb, mostly grain-free&nbsp;<a data-hook=\"product-link-linked\" class=\"a-link-normal\" href=\"/Wheat-Belly/dp/1609611543/ref=cm_cr_arp_d_rvw_txt?ie=UTF8\">Wheat Belly</a>&nbsp;diet, and among the many the things I've been missing, one of the things that I've been craving the most is noodles/pasta, since its my favorite food after sushi, steak & shellfish\\n\\nWhich is why I was SO glad to find&nbsp;<a data-hook=\"product-link-linked\" class=\"a-link-normal\" href=\"/Miracle-Noodles/dp/B00BP36RW6/ref=cm_cr_arp_d_rvw_txt?ie=UTF8\">Miracle Noodles</a>!\\n\\nMiracle Noodles are really a MIRACLE for those of us on low-carb & grain-free diets who love pasta.\\n\\nIt is so wonderful to be able to have noodles again in at least some form -- even if it doesn't taste *exactly* like the conventional wheat-based versions. Especially since with this pasta, I never have to worry about the carb content or even the number of calories and yet its still DELICIOUS!!\\n\\nIn response to other reviewers on this page who have complained that these noodles have a fishy smell.......they are only right, in that when you first open the noodle package, there IS a bit of a smell. However, as soon as I've emptied the noodles into a sieve or colander and rinsed it in water (I usually use warm-ish water) for a few minutes, any & all of the \"fishy\" smell immediately disappears.\\n\\nAlso to all those people who have complained about the \"rubbery\" texture of these noodles........if you buy these noodles, and go into the experience expecting to get an EXACT REPLICA of the conventional wheat-based and carb-filled starchy noodles/pasta, then you are going to be SORELY disappointed!\\n\\nBecause these noodles are NOT made with wheat or any other high-carb grain, they are NOT going to have the same starchy texture as conventional pasta. But that does NOT mean that they cannot be just as YUMMY in their own right!\\n\\nMiracle Noodles are made of a healthy natural water soluble fiber (that has NO fat, sugar, or starch) called Glucomannan, and konnyaku flour, which is made from the Konjac plant which has been used in Asia for thousands of years, and is wheat-free, gluten-free, kosher, and has ZERO net carbs and ZERO calories! However, Miracle Noodles are unique and UNLIKE the conventional (and usually wheat-based) versions of pasta, and as such, they cannot be made and consumed in the same way as regular pasta, and expected to taste the exact same.\\n\\nSo, if you make these noodles expecting it to be just like regular spaghetti, where you just toss it in boiling water to cook it, and then drain out the water and mix it with tomato sauce and eat it, then not only will these noodles be a disappointment, but also you are missing out on the best potential of these noodles!\\n\\nHowever, if these are cooked according to the package directions (rinse thoroughly in clean water, boil in salted water for a few minutes, and fry it in a skillet long enough to remove any remaining water & moisture) and then used in appropriate recipes (although I've only used these noodles in soups and Asian stir-fry so far, I've heard that the&nbsp;<a data-hook=\"product-link-linked\" class=\"a-link-normal\" href=\"/fettucine-noodles/dp/B00BP36RW6/ref=cm_cr_arp_d_rvw_txt?ie=UTF8\">fettucine noodles</a>&nbsp;are really good in recipes of Alfredo sauce made with REAL butter, cream and parmesan cheese!)\\n\\nAs someone who is currently on the&nbsp;<a data-hook=\"product-link-linked\" class=\"a-link-normal\" href=\"/Wheat-Belly/dp/1609611543/ref=cm_cr_arp_d_rvw_txt?ie=UTF8\">Wheat Belly</a>&nbsp;diet and unable to enjoy my 2nd favorite food (after sushi, steak and shellfish which all tie for the first place of my most favorite food!) of pasta & noodles, I think that&nbsp;<a data-hook=\"product-link-linked\" class=\"a-link-normal\" href=\"/Miracle-Noodles/dp/B00BP36RW6/ref=cm_cr_arp_d_rvw_txt?ie=UTF8\">Miracle Noodles</a>&nbsp;are a wonderful substitute!\\n\\nAlthough I admit & agree that even when prepared properly,&nbsp;<a data-hook=\"product-link-linked\" class=\"a-link-normal\" href=\"/Miracle-Noodles/dp/B00BP36RW6/ref=cm_cr_arp_d_rvw_txt?ie=UTF8\">Miracle Noodles</a>&nbsp;still do not taste *exactly* like regular pasta, given that it has ZERO carbs and ZERO calories, in my opinion its close enough and it is a GREAT alternative for those of us who LOVE pasta/noodles but for whatever reason (being gluten-free, wheat-free [or even grain-free!] or on low-carb diets) are unable to eat regular pasta, to be able to enjoy noodles again!\\n\\nI just wish there were an equivalent alternative for bagels and baguettes because then, instead of just staying on the&nbsp;<a data-hook=\"product-link-linked\" class=\"a-link-normal\" href=\"/Wheat-Belly/dp/1609611543/ref=cm_cr_arp_d_rvw_txt?ie=UTF8\">Wheat Belly</a>&nbsp;diet only long enough to meet specific goals (like weight-loss) like I'm going to be doing, I'd be a lot more willing stay on this diet permanently the way its developer, Dr. William Davis recommends making it a complete lifestyle change!\\n\\nNow if only Miracle Noodle could just come out with as great an alternative for chewy bagels and crusty baguettes, I'd be ALL SET!!   \n",
       "3577                                                                                                                                                                                                                                                                                                                                                                                                                                                                                                                                                                                                                                                                                                                                                                                                                                                                                                                                                                                                                                                                                                                                                                                                                                                                                                                                                                                                                                                                                                                                                                                                                                                                                                                                                                                                                                                                                                                                                                                                                                                                                                                                                                                                                                                                                                                                                                                                                                                                                                                                                                                                                                                                                                                                                                                                                                                                                                                                                                                                                                                                                                                                                                                                                                                                                                                                                                                                                                                                                                                                                                                                                                                                                                                                                                                                                                                                                                                                                                                                                                                                                                                                                                                                                                                                                                                                                                                                                                                                                                                                                                                                                                                                                                                                                                                                                                                                                                                                                                                                                                                                                                                                                                                                                                                                                                                                                                                                                                                                                                                                                                                                                                                                                                                                                                                                                                                                                                                                                                                                                                                                                                                                                                                                                                                                                                                                                                                                                                                                                                                                                                                                                                                                                                                                                                                                                                                                                                                                                                                                                                                                                                                                                                                                                                                                                                                                                                                                                                                                                                                                                                                                                      Noodles on a low carb diet?  Yes !!!: My daughter swears by this product.  She's on a (very) low carb diet and there are not many noodle like products which she can eat and keep her carbs to a minimum.  Yes, these noodles smell fishy upon opening.  BUT they do rinse up nicely and serve as an accompaniment for sauteed veggies and as a decent side for London Broil, baked chicken and the like.  The different varieties are nice for eye appeal and texture.\\n\\n<a data-hook=\"product-link-linked\" class=\"a-link-normal\" href=\"/Miracle-Noodle-Shirataki-Pasta-6-bag-Variety-Pack-44-ounces-Includes-2-Shirataki-Angel-Hair-2-Shirataki-Rice-and-2-Shirataki-Fettuccini/dp/B00BTMDALO/ref=cm_cr_arp_d_rvw_txt?ie=UTF8\">Miracle Noodle Shirataki Pasta, 6 bag Variety Pack, 44 ounces (Includes: 2 Shirataki Angel Hair, 2 Shirataki Rice and 2 Shirataki Fettuccini)</a>   \n",
       "\n",
       "      length  \n",
       "164     1659  \n",
       "266      760  \n",
       "895      541  \n",
       "1172     503  \n",
       "1350    2220  \n",
       "1498     499  \n",
       "1514    4858  \n",
       "2288     485  \n",
       "2378    8135  \n",
       "2404     767  \n",
       "3056    5289  \n",
       "3577     849  "
      ]
     },
     "execution_count": 20,
     "metadata": {},
     "output_type": "execute_result"
    }
   ],
   "source": [
    "# Checking for raw html\n",
    "df.loc[df['text-raw'].str.contains('<')]"
   ]
  },
  {
   "cell_type": "code",
   "execution_count": 21,
   "id": "768fff2e-2218-4c8b-9f9a-6d4399d8d26f",
   "metadata": {
    "execution": {
     "iopub.execute_input": "2024-02-08T03:09:30.704788Z",
     "iopub.status.busy": "2024-02-08T03:09:30.704678Z",
     "iopub.status.idle": "2024-02-08T03:09:30.709811Z",
     "shell.execute_reply": "2024-02-08T03:09:30.709489Z",
     "shell.execute_reply.started": "2024-02-08T03:09:30.704778Z"
    }
   },
   "outputs": [
    {
     "data": {
      "text/plain": [
       "array(['Follow the directions, and these will be really really good.: Quick update on 11/21/14\\n\\nJust started putting Old Bay Seasoning in the water that I boil these in. Seems to add some flavor to them but it also changes the color. Looks very close to the color of pasta!\\n\\n---------------\\n\\nIt\\'s kind of sad to see so many have given these 1 star. Being someone who believes strongly in \\'Low Carbs\\' are healthy, I worked at learning how these should be cooked. Maybe many of the 1 star people didn\\'t care that much?\\n\\nAlmost forgot to mention, the exp date on the ones I received today are Jul 2015.\\n\\nRinse them in a colander (cold water) for a minute or two, there should be no smell now. Boil them in a pot for 3 mins, then rinse again (pat dry with paper towels and try to squeeze out as much liquid as possible). Now put them in your already heated non stick skillet. I do this on a setting of 3 on the glass top stove.\\n\\nAt this point, because I\\'ve never read where someone has said how much time to do this for, I\\'ve been kind of guessing or listening for \\'squeakiness\\'. I just now made these and decided to extend the time for this part. Not sure if it was the extended time or that simply these noodles are better than the ones I\\'ve gotten at walmart, but these were really really good. The texture was really just like spaghetti.\\n\\nI top off these noodles with Bella vita low carb pasta sauce... wow, it\\'s really awesome to be having spaghetti again!&nbsp;<a data-hook=\"product-link-linked\" class=\"a-link-normal\" href=\"/Bella-Vita-Low-Carb-Pasta-Sauce-Spicy-Tomato/dp/B0079OQEAA/ref=cm_cr_arp_d_rvw_txt?ie=UTF8\">Bella Vita Low Carb Pasta Sauce Spicy Tomato</a>',\n",
       "       'They\\'re great, if you like eating rubber: Because they look and feel like exactly that: noodles made of transparent rubber. If you don\\'t care or are planning in burying them in enough sauce you can\\'t see them, go for it. Personally, I\\'m not that desperate to lose the calories and carbs from my diet.\\n\\nEdit: I\\'ve since found&nbsp;<a data-hook=\"product-link-linked\" class=\"a-link-normal\" href=\"/FiberGourmet-Light-Spaghetti/dp/B003S1TNIS/ref=cm_cr_arp_d_rvw_txt?ie=UTF8\">FiberGourmet Light Spaghetti</a>, which while it\\'s not calorie free, is lower in calories and much higher in fiber than any other pasta I\\'ve ever seen. It also tastes like regular noodles. I love it, and anyone that isn\\'t happy with these should try it. Their crackers are also pretty good.',\n",
       "       \"Be prepaired to experement to find the best way to eat them.: bought the variety pack... the rice and the angle hair are ok.  I think for me they are thin/small enough to not be a substantial part of a bite, so less contribution to the mouth feel of the bite of food. The Fettuchini on the other hand, I couldn't handle it, felt like I was having a bowl of night crawlers >.< .  I had hoped you could crisp them up some, but all you do is reduce the water making them more chewy lol.  I drain them and then rinse them in a sieve thouroughly.\",\n",
       "       'Family love it !!!: <div id=\"video-block-R2QVYQA389CT7S\" class=\"a-section a-spacing-small a-spacing-top-mini video-block\"></div><input type=\"hidden\" name=\"\" value=\"https://images-na.ssl-images-amazon.com/images/I/91E2G7ukhBS.mp4\" class=\"video-url\"><input type=\"hidden\" name=\"\" value=\"https://images-na.ssl-images-amazon.com/images/I/81T6z-AkzTS.png\" class=\"video-slate-img-url\">&nbsp;Love this stuff !!!! Guilt Free perfect if your in a weight loss journey like I am!!! Easy to cook !!!! Will order more',\n",
       "       'ZERO CALORIES, ZERO CARBS and EXACTLY like spaghetti. Miracle noodles, indeed. Changed my life!: This product has seriously changed my LIFE. I fight every day to keep my weight at its current level, and I simply must avoid carbs. The conflict is that my favorite food, since I was a child is spaghetti with meat sauce. Until I learned about this nearly unbelievable product, I  had to eat spaghetti sauce on bean sprouts (ugh!) or green beans (yuck) or spaghetti squash (wahhhh!) and people say they can pretend they are eating spaghetti but those substitutes are nothing like real noodles. AND THEN I FOUND MIRACLE NOODLES AND MIRACULOUS THEY ARE, INDEED! iMAGINE HOW this could exist: noodles that are EXACTLY like normal noodles, except they have ZERO CALORIES AND ZERO CARBS. It\\'s almost like dreaming, to try to grasp that this product could even exist. I was once warned AGAINST this product by someone who said it tastes awful. It turns out that she did NOT follow the instructions on how to prepare them. When they come out of the bag, they smell like fish! You will worry and think there is no hope. But just go forward following the directions exactly. A lot of rinsing, 2 minutes of boiling, then a little while of cooking them in a dry pan. Is ANY kind of spaghetti so fast to prepare? And then you couldn\\'t tell them from real spaghetti in a million years.  I will be very disappointed in you if you say there is anything imperfect about these, because if you say that, then I know you didn\\'t follow the instructions carefully. I love them so much, I gave them as Christmas gifts. No one could believe it! ALL YOU CAN EAT spaghetti with no calories or carbs!!! Now I have subscribed to have them delivered monthly. I have to say you are simply out of your mind if you don\\'t try these. You can eat ALL THE SPAGHETTI YOU WANT NOW. How did anyone create these? I don\\'t know. But they are a MIRACLE and really changed my life.\\n\\n<a data-hook=\"product-link-linked\" class=\"a-link-normal\" href=\"/Miracle-Noodle-Zero-Carb-Gluten-Free-Shirataki-Pasta-Fettuccini-7-Ounce-Pack-of-6/dp/B00BP36RW6/ref=cm_cr_arp_d_rvw_txt?ie=UTF8\">Miracle Noodle Zero Carb, Gluten Free Shirataki Pasta, Fettuccini, 7-Ounce (Pack of 6)</a>',\n",
       "       'These make your plate \"full\" and plenty.: Holly guacamole, I love these things! Follow instructions and get creative with spices and sauces. The \"funky\" smell so many have mentioned is no big deal and goes away. Texture is good, specially if you like ramen or asian food.\\n If you are like me and \"eat with your eyes\", more than with your stomach (talking about quantity here), these will make your plate look and feel full without the added calories. Get the assorted pack and give them a chance <3.',\n",
       "       'Meh! Disappointing..............Tastes NOTHING Like Real Rice!!!: When I decided to buy this&nbsp;<a data-hook=\"product-link-linked\" class=\"a-link-normal\" href=\"/Miracle-Noodle-Rice/dp/B00BP36S7U/ref=cm_cr_arp_d_rvw_txt?ie=UTF8\">Miracle Noodle Rice</a>&nbsp;I did so, after having bought the&nbsp;<a data-hook=\"product-link-linked\" class=\"a-link-normal\" href=\"/Miracle-Noodle-Angel-Hair-Pasta/dp/B00BP36RTY/ref=cm_cr_arp_d_rvw_txt?ie=UTF8\">Miracle Noodle Angel Hair Pasta</a>&nbsp;and ABSOLUTELY LOVING it. Because I am on a&nbsp;<a data-hook=\"product-link-linked\" class=\"a-link-normal\" href=\"/Wheat-Belly/dp/1609611543/ref=cm_cr_arp_d_rvw_txt?ie=UTF8\">Wheat Belly</a>&nbsp;diet, which prohibits the consumption of wheat & any product made with wheat (pasta, bread, crackers, etc.) and I LOVE pasta & noodles, which are my favorite food after sushi, steak & shellfish, I was so glad to find the Miracle Noodle angel hair and fettucine pasta.\\n\\nHowever, even though&nbsp;<a data-hook=\"product-link-linked\" class=\"a-link-normal\" href=\"/Wheat-Belly/dp/1609611543/ref=cm_cr_arp_d_rvw_txt?ie=UTF8\">Wheat Belly</a>&nbsp;is primarily a wheat-free diet, because its also supposed to be low-carb & grain-free, other non-wheat grains & starchy carbs like rice, potatoes and corn are discouraged (or at least advised to only consume in very limited amounts as rarely as possible)\\n\\nUnfortunately I LOVE basmati rice -- especially when having it with the \"Morey\\'s Seafood\" brand of \"Seasoned Grill Wild-Caught Alaskan Salmon\" which I get from the frozen food section at Costco (and prior to that, at Sam\\'s Club) and ever since I started the&nbsp;<a data-hook=\"product-link-linked\" class=\"a-link-normal\" href=\"/Wheat-Belly/dp/1609611543/ref=cm_cr_arp_d_rvw_txt?ie=UTF8\">Wheat Belly</a>&nbsp;diet, I was missing having rice so much that I mostly stopped eating the Morey\\'s Seafood Seasoned Grill Salmon, because it just wasn\\'t the same without the fluffy & buttery basmati rice to enjoy it with.\\n\\nThen I happened to see a listing for this Miracle Noodle Rice while ordering the&nbsp;<a data-hook=\"product-link-linked\" class=\"a-link-normal\" href=\"/Miracle-Noodle-Angel-Hair-Pasta/dp/B00BP36RTY/ref=cm_cr_arp_d_rvw_txt?ie=UTF8\">Miracle Noodle Angel Hair Pasta</a>&nbsp;and I knew I just HAD to try it.\\n\\nNow before going any further, I just wanted to clarify that when I ordered this&nbsp;<a data-hook=\"product-link-linked\" class=\"a-link-normal\" href=\"/Miracle-Noodle-Rice/dp/B00BP36S7U/ref=cm_cr_arp_d_rvw_txt?ie=UTF8\">Miracle Noodle Rice</a>&nbsp;I had NO illusions whatsoever that this would taste like basmati rice, in any way! Even before I ordered this, I knew it would be difficult if not impossible to replicate the taste & texture of basmati rice into a no-carb calorie free version. So despite the name of the brand, I was NOT expecting a miracle. However, while I knew that it would probably not taste like basmati rice -- I was hoping that it would at least taste like SOME kind of rice.\\n\\nUnfortunately, I was wrong! Not only does it not LOOK like rice but it also does NOT taste like ANY kind of rice either!\\n\\nThis so-called \"rice\" is a bunch of tiny white little balls, that kind of look like caviar (though I\\'ve never had caviar, this looks like a white version of it!) or tapioca. In fact, when I made this for a close friend, one of the first things she said, when she saw it was that it looked and tasted like \"sabudana\" (which is what tapioca is called in many of the languages in India).\\n\\nAs for the taste,&nbsp;<a data-hook=\"product-link-linked\" class=\"a-link-normal\" href=\"/Miracle-Noodle-Rice/dp/B00BP36S7U/ref=cm_cr_arp_d_rvw_txt?ie=UTF8\">Miracle Noodle Rice</a>&nbsp;does NOT taste even remotely like rice! Not only that but this \"rice\" doesn\\'t even taste much different than any of the other varieties of Miracle Noodle pastas -- and as a matter of fact, it tastes more like an orzo pasta than rice, and I don\\'t know on what planet this could in any way be considered \"rice\"!\\n\\nEven though I followed all the directions, and experimented with these in many different kinds of recipes, NOTHING I tried made it taste even REMOTELY like rice -- and it would have been better if they had just labeled this as an orzo pasta or something instead. At least then, that would be more accurate and honest. Becasue calling this item \"rice\" is VERY misleading and a HUGE disappointment!\\n\\nWhich is why, although I LOVE the&nbsp;<a data-hook=\"product-link-linked\" class=\"a-link-normal\" href=\"/Miracle-Noodle-Pasta-Angel-Hair/dp/B00BP36RTY/ref=cm_cr_arp_d_rvw_txt?ie=UTF8\">Miracle Noodle Pasta, Angel Hair</a>&nbsp;and the&nbsp;<a data-hook=\"product-link-linked\" class=\"a-link-normal\" href=\"/Miracle-Noodle-Pasta-Fetuccine/dp/B00BP36RW6/ref=cm_cr_arp_d_rvw_txt?ie=UTF8\">Miracle Noodle Pasta, Fetuccine</a>, I will probably never be buying this so-called \"rice\" again!',\n",
       "       'Great product.: Great product.<a data-hook=\"product-link-linked\" class=\"a-link-normal\" href=\"/Miracle-Noodle-Zero-Carb-Gluten-Free-Shirataki-Pasta-and-Rice-6-bag-Variety-Pack-44-ounces-Includes-2-Shirataki-Angel-Hair-2-Shirataki-Rice-and-2-Shirataki-Fettuccini/dp/B00BTMDALO/ref=cm_cr_arp_d_rvw_txt?ie=UTF8\">Miracle Noodle Zero Carb, Gluten Free Shirataki Pasta and Rice, 6 bag Variety Pack, 44 ounces (Includes: 2 Shirataki Angel Hair, 2 Shirataki Rice and 2 Shirataki Fettuccini)</a>',\n",
       "       'I Can Have Noodles Again! Now, If Only There Could Be a Similar Zero-Carb or Low-Carb Equivalent for Bagels & Crusty Baguettes!: Earlier this year, I started a wheat-free and low-carb, mostly grain-free&nbsp;<a data-hook=\"product-link-linked\" class=\"a-link-normal\" href=\"/Wheat-Belly/dp/1609611543/ref=cm_cr_arp_d_rvw_txt?ie=UTF8\">Wheat Belly</a>&nbsp;diet, and among the many the things I\\'ve been missing, one of the things that I\\'ve been craving the most is noodles/pasta, since its my favorite food after sushi, steak & shellfish\\n\\nWhich is why I was SO glad to find Miracle Noodles -- and out of all the varieties I\\'ve tried so far (<a data-hook=\"product-link-linked\" class=\"a-link-normal\" href=\"/Angel-Hair/dp/B00BP36RTY/ref=cm_cr_arp_d_rvw_txt?ie=UTF8\">Angel Hair</a>,<a data-hook=\"product-link-linked\" class=\"a-link-normal\" href=\"/Fetuccine/dp/B00BP36RW6/ref=cm_cr_arp_d_rvw_txt?ie=UTF8\">Fetuccine</a>,<a data-hook=\"product-link-linked\" class=\"a-link-normal\" href=\"/Rice/dp/B00BP36S7U/ref=cm_cr_arp_d_rvw_txt?ie=UTF8\">Rice</a>, etc.) I have to say that&nbsp;<a data-hook=\"product-link-linked\" class=\"a-link-normal\" href=\"/Miracle-Noodle-Angel-Hair/dp/B00BP36RTY/ref=cm_cr_arp_d_rvw_txt?ie=UTF8\">Miracle Noodle Angel Hair</a>&nbsp;is my ABSOLUTE FAVORITE!!\\n\\nIt is so wonderful to be able to have noodles & pasta in at least some form again -- even if it doesn\\'t taste *exactly* like the conventional wheat-based versions. Especially since with these noodles, I never have to worry about carb content or even calories!\\n\\nMiracle Noodles are really a MIRACLE for those of us pasta & noodle lovers on low-carb & grain-free diets. Its so versatile, so far I\\'ve used it in soups, stir-frys, and salads, and its been DELICIOUS!!\\n\\nIn response to other reviewers on this page who have complained that these noodles have a fishy smell.......they are only right, in that when you first open the noodle package, there IS a bit of a smell. However, as soon as I\\'ve emptied the noodles into a sieve or colander and rinsed it in water (I usually use warm-ish water) for a few minutes, any & all of the \"fishy\" smell immediately disappears.\\n\\nAlso to all those people who have complained about the \"rubbery\" texture of these noodles........if you buy these noodles, and go into the experience expecting to get an EXACT REPLICA of the conventional wheat-based and carb-filled starchy noodles/pasta, then you are going to be SORELY disappointed. Because these noodles are NOT made with wheat or any other high-carb grain. Miracle Noodles are made of a healthy natural water soluble fiber (that has NO fat, sugar, or starch) called Glucomannan, and konnyaku flour, which is made from the Konjac plant which has been used in Asia for thousands of years, and is wheat-free, gluten-free, kosher, and has ZERO net carbs and ZERO calories!\\n\\nAs such, because Miracle Noodles are not made with wheat (or any grain) they are NOT going to have the same starchy texture as conventional pasta. Instead, in my opinion, the texture of these noodles are more like that of ramen noodles, and as long as they are made the right way, they taste DELICIOUS!\\n\\nIf you make these expecting it to be just like regular spaghetti, where you just toss it in boiling water to cook it, and then drain out the water and mix it with tomato sauce and eat it, then not only will these noodles be a disappointment, but also you are missing out on the best potential of these noodles!\\n\\nBecause&nbsp;<a data-hook=\"product-link-linked\" class=\"a-link-normal\" href=\"/Miracle-Noodles/dp/B00BP36RTY/ref=cm_cr_arp_d_rvw_txt?ie=UTF8\">Miracle Noodles</a>&nbsp;are so unique and unlike any conventional and usually wheat-based version, they cannot be made and consumed in the same way as regular pasta, and expected to taste the exact same. However, if these are cooked according to the package directions (rinse thoroughly in clean water, boil in salted water for a few minutes, and fry it in a skillet long enough to remove any remaining water & moisture) and then used in appropriate recipes (in my opinion & experience, these kinds of noodles work best in soups, and Asian stir-fry dishes) they still taste pretty good.\\n\\nWhat I usually do with these noodles is this. First I cut open the package and empty the noodles into a sieve or colander, and rinse them in water for a few minutes under the kitchen tap, lightly shaking the sieve/colander all the while to make sure that all of the noodles have been thoroughly rinsed, and are free of the \"fishy-smelling\" water it was packaged in. Once the noodles have been rinsed, I shake out all the remaining water from the sieve/colander, fill a small pot or saucepan with moderately salted water, and add the noodles and bring it all to a boil.\\n\\nAfter it has boiled for about 2-3 minutes, I take the pot off the burner, pour the noodles back into a sieve/colander to drain the water, and then put a little oil (I usually use olive oil -- but only regular olive oil, and NOT the \"extra-virgin olive oil\" which is not designed for the high temperatures of cooking) in a skillet and saute the noodles to get rid of any remaining water/excess moisture.\\n\\nThen in another (or the same) skillet, or a wok, I heat up some aromatic & flavorful oil (preferably those used in Asian cooking like sesame oil) and add some fresh minced garlic, ginger and diced onions (at this point, mostly white or yellow onions with a smaller amount of green onions) as well as a little organic, wheat-free soy sauce. After a minute or two, I pour the noodles into that pan and stir-fry it with the ginger/garlic/onion/soy sauce mixture for a few minutes before adding various vegetables (mushrooms, green onions, matchstick carrots, etc.) and meats and/or seafood (shrimp, chicken, pork, etc.).\\n\\nNext, I add whatever Asian seasoning sauce I\\'m in the mood for at the time (whether a teriyaki sauce, or a Hoisin sauce, or if I\\'m making these noodles for people who like spicy food, then a \"Hot & Spicy Szechuan sauce\" or whatever) stir it in, and let it all simmer together for a few minutes. Then I add some salt (I usually use Himalayan pink salt) and pepper to taste and mix it in well before finally turning off the heat, and letting it sit in the pan for a few minutes for the sauce to thicken a bit before serving -- and even though its not exactly like regular noodles, it is still GREAT nevertheless!\\n\\nAs someone who is currently on the&nbsp;<a data-hook=\"product-link-linked\" class=\"a-link-normal\" href=\"/Wheat-Belly/dp/1609611543/ref=cm_cr_arp_d_rvw_txt?ie=UTF8\">Wheat Belly</a>&nbsp;diet and unable to enjoy my 2nd favorite food (after sushi, steak and shellfish which all tie for the first place of my most favorite food!) of pasta & noodles, I rhink that&nbsp;<a data-hook=\"product-link-linked\" class=\"a-link-normal\" href=\"/Miracle-Noodles/dp/B00BP36RTY/ref=cm_cr_arp_d_rvw_txt?ie=UTF8\">Miracle Noodles</a>&nbsp;are a wonderful substitute!\\n\\nAlthough I admit & agree that even when prepared properly,&nbsp;<a data-hook=\"product-link-linked\" class=\"a-link-normal\" href=\"/Miracle-Noodles/dp/B00BP36RTY/ref=cm_cr_arp_d_rvw_txt?ie=UTF8\">Miracle Noodles</a>&nbsp;still do not taste *exactly* like regular pasta, given that it has ZERO carbs and ZERO calories, in my opinion its close enough and it is a GREAT alternative for those of us who LOVE pasta/noodles but for whatever reason (being gluten-free, wheat-free [or even grain-free!] or on low-carb diets) are unable to eat regular pasta, to be able to enjoy noodles again!\\n\\nI just wish there were an equivalent alternative for bagels and baguettes because then, instead of just staying on the&nbsp;<a data-hook=\"product-link-linked\" class=\"a-link-normal\" href=\"/Wheat-Belly/dp/1609611543/ref=cm_cr_arp_d_rvw_txt?ie=UTF8\">Wheat Belly</a>&nbsp;diet only long enough to meet specific goals (like weight-loss) like I\\'m going to be doing, I\\'d be a lot more willing stay on this diet permanently the way its developer, Dr. William Davis recommends making it a complete lifestyle change!\\n\\nNow if only Miracle Noodle could just come out with as great an alternative for chewy bagels and crusty baguettes, I\\'d be ALL SET!!',\n",
       "       'Delicious!!: We love all the Miracle noodles but the&nbsp;<a data-hook=\"product-link-linked\" class=\"a-link-normal\" href=\"/Miracle-Noodle-Shirataki-Zero-Carb-Gluten-Free-Pasta-Garlic-and-Herb-Fettuccini-7-Ounce/dp/B01N91YE5A/ref=cm_cr_arp_d_rvw_txt?ie=UTF8\">Miracle Noodle Shirataki Zero Carb Gluten Free Pasta, Garlic and Herb Fettuccini, 7 Ounce</a>&nbsp;is especially great.  Marry it to some canned clams and basil and herbs fettuccine sauce and you\\'ve got a quick and delicious meal!  My personal hot tip on using ShIrataki noodles is to heat them separately from you sauces in a non-stick pan and get them dryer.  When they look a little opaque and dull, not so wet and shiny then serve them to put your sauce over or mix them in with the clams and sauce.  Enjoy',\n",
       "       'I Can Have Noodles Again! Now, If Only There Could Be a Similar Zero-Carb or Low-Carb Equivalent for Bagels & Crusty Baguettes!: Earlier this year, I started a wheat-free and low-carb, mostly grain-free&nbsp;<a data-hook=\"product-link-linked\" class=\"a-link-normal\" href=\"/Wheat-Belly/dp/1609611543/ref=cm_cr_arp_d_rvw_txt?ie=UTF8\">Wheat Belly</a>&nbsp;diet, and among the many the things I\\'ve been missing, one of the things that I\\'ve been craving the most is noodles/pasta, since its my favorite food after sushi, steak & shellfish\\n\\nWhich is why I was SO glad to find&nbsp;<a data-hook=\"product-link-linked\" class=\"a-link-normal\" href=\"/Miracle-Noodles/dp/B00BP36RW6/ref=cm_cr_arp_d_rvw_txt?ie=UTF8\">Miracle Noodles</a>!\\n\\nMiracle Noodles are really a MIRACLE for those of us on low-carb & grain-free diets who love pasta.\\n\\nIt is so wonderful to be able to have noodles again in at least some form -- even if it doesn\\'t taste *exactly* like the conventional wheat-based versions. Especially since with this pasta, I never have to worry about the carb content or even the number of calories and yet its still DELICIOUS!!\\n\\nIn response to other reviewers on this page who have complained that these noodles have a fishy smell.......they are only right, in that when you first open the noodle package, there IS a bit of a smell. However, as soon as I\\'ve emptied the noodles into a sieve or colander and rinsed it in water (I usually use warm-ish water) for a few minutes, any & all of the \"fishy\" smell immediately disappears.\\n\\nAlso to all those people who have complained about the \"rubbery\" texture of these noodles........if you buy these noodles, and go into the experience expecting to get an EXACT REPLICA of the conventional wheat-based and carb-filled starchy noodles/pasta, then you are going to be SORELY disappointed!\\n\\nBecause these noodles are NOT made with wheat or any other high-carb grain, they are NOT going to have the same starchy texture as conventional pasta. But that does NOT mean that they cannot be just as YUMMY in their own right!\\n\\nMiracle Noodles are made of a healthy natural water soluble fiber (that has NO fat, sugar, or starch) called Glucomannan, and konnyaku flour, which is made from the Konjac plant which has been used in Asia for thousands of years, and is wheat-free, gluten-free, kosher, and has ZERO net carbs and ZERO calories! However, Miracle Noodles are unique and UNLIKE the conventional (and usually wheat-based) versions of pasta, and as such, they cannot be made and consumed in the same way as regular pasta, and expected to taste the exact same.\\n\\nSo, if you make these noodles expecting it to be just like regular spaghetti, where you just toss it in boiling water to cook it, and then drain out the water and mix it with tomato sauce and eat it, then not only will these noodles be a disappointment, but also you are missing out on the best potential of these noodles!\\n\\nHowever, if these are cooked according to the package directions (rinse thoroughly in clean water, boil in salted water for a few minutes, and fry it in a skillet long enough to remove any remaining water & moisture) and then used in appropriate recipes (although I\\'ve only used these noodles in soups and Asian stir-fry so far, I\\'ve heard that the&nbsp;<a data-hook=\"product-link-linked\" class=\"a-link-normal\" href=\"/fettucine-noodles/dp/B00BP36RW6/ref=cm_cr_arp_d_rvw_txt?ie=UTF8\">fettucine noodles</a>&nbsp;are really good in recipes of Alfredo sauce made with REAL butter, cream and parmesan cheese!)\\n\\nAs someone who is currently on the&nbsp;<a data-hook=\"product-link-linked\" class=\"a-link-normal\" href=\"/Wheat-Belly/dp/1609611543/ref=cm_cr_arp_d_rvw_txt?ie=UTF8\">Wheat Belly</a>&nbsp;diet and unable to enjoy my 2nd favorite food (after sushi, steak and shellfish which all tie for the first place of my most favorite food!) of pasta & noodles, I think that&nbsp;<a data-hook=\"product-link-linked\" class=\"a-link-normal\" href=\"/Miracle-Noodles/dp/B00BP36RW6/ref=cm_cr_arp_d_rvw_txt?ie=UTF8\">Miracle Noodles</a>&nbsp;are a wonderful substitute!\\n\\nAlthough I admit & agree that even when prepared properly,&nbsp;<a data-hook=\"product-link-linked\" class=\"a-link-normal\" href=\"/Miracle-Noodles/dp/B00BP36RW6/ref=cm_cr_arp_d_rvw_txt?ie=UTF8\">Miracle Noodles</a>&nbsp;still do not taste *exactly* like regular pasta, given that it has ZERO carbs and ZERO calories, in my opinion its close enough and it is a GREAT alternative for those of us who LOVE pasta/noodles but for whatever reason (being gluten-free, wheat-free [or even grain-free!] or on low-carb diets) are unable to eat regular pasta, to be able to enjoy noodles again!\\n\\nI just wish there were an equivalent alternative for bagels and baguettes because then, instead of just staying on the&nbsp;<a data-hook=\"product-link-linked\" class=\"a-link-normal\" href=\"/Wheat-Belly/dp/1609611543/ref=cm_cr_arp_d_rvw_txt?ie=UTF8\">Wheat Belly</a>&nbsp;diet only long enough to meet specific goals (like weight-loss) like I\\'m going to be doing, I\\'d be a lot more willing stay on this diet permanently the way its developer, Dr. William Davis recommends making it a complete lifestyle change!\\n\\nNow if only Miracle Noodle could just come out with as great an alternative for chewy bagels and crusty baguettes, I\\'d be ALL SET!!',\n",
       "       'Noodles on a low carb diet?  Yes !!!: My daughter swears by this product.  She\\'s on a (very) low carb diet and there are not many noodle like products which she can eat and keep her carbs to a minimum.  Yes, these noodles smell fishy upon opening.  BUT they do rinse up nicely and serve as an accompaniment for sauteed veggies and as a decent side for London Broil, baked chicken and the like.  The different varieties are nice for eye appeal and texture.\\n\\n<a data-hook=\"product-link-linked\" class=\"a-link-normal\" href=\"/Miracle-Noodle-Shirataki-Pasta-6-bag-Variety-Pack-44-ounces-Includes-2-Shirataki-Angel-Hair-2-Shirataki-Rice-and-2-Shirataki-Fettuccini/dp/B00BTMDALO/ref=cm_cr_arp_d_rvw_txt?ie=UTF8\">Miracle Noodle Shirataki Pasta, 6 bag Variety Pack, 44 ounces (Includes: 2 Shirataki Angel Hair, 2 Shirataki Rice and 2 Shirataki Fettuccini)</a>'],\n",
       "      dtype=object)"
      ]
     },
     "execution_count": 21,
     "metadata": {},
     "output_type": "execute_result"
    }
   ],
   "source": [
    "# Copy/pasted these values into regex 101\n",
    "df.loc[df['text-raw'].str.contains('<')]['text-raw'].values"
   ]
  },
  {
   "cell_type": "code",
   "execution_count": 22,
   "id": "19a0ab3f-b1d3-4dca-9235-011255b82137",
   "metadata": {
    "execution": {
     "iopub.execute_input": "2024-02-08T03:09:30.714466Z",
     "iopub.status.busy": "2024-02-08T03:09:30.714317Z",
     "iopub.status.idle": "2024-02-08T03:09:30.719256Z",
     "shell.execute_reply": "2024-02-08T03:09:30.718759Z",
     "shell.execute_reply.started": "2024-02-08T03:09:30.714455Z"
    }
   },
   "outputs": [],
   "source": [
    "import re\n",
    "\n",
    "# Regular expression to match HTML tags\n",
    "regex = r\"<[^>]*>\"\n",
    "\n",
    "# Apply the regex to the DataFrame column using str.replace\n",
    "df['text'] = df['text-raw'].str.replace(regex, '', regex=True)"
   ]
  },
  {
   "cell_type": "code",
   "execution_count": 23,
   "id": "1505f289-68ca-4fd0-9756-0bbfa6f099ca",
   "metadata": {
    "execution": {
     "iopub.execute_input": "2024-02-08T03:09:30.720140Z",
     "iopub.status.busy": "2024-02-08T03:09:30.719931Z",
     "iopub.status.idle": "2024-02-08T03:09:30.722045Z",
     "shell.execute_reply": "2024-02-08T03:09:30.721693Z",
     "shell.execute_reply.started": "2024-02-08T03:09:30.720122Z"
    }
   },
   "outputs": [],
   "source": [
    "pd.set_option('display.max_colwidth',250)"
   ]
  },
  {
   "cell_type": "code",
   "execution_count": 24,
   "id": "1c2701ac-dc9e-4692-bb21-7c1fedf85f8c",
   "metadata": {
    "execution": {
     "iopub.execute_input": "2024-02-08T03:09:30.722662Z",
     "iopub.status.busy": "2024-02-08T03:09:30.722569Z",
     "iopub.status.idle": "2024-02-08T03:09:30.730329Z",
     "shell.execute_reply": "2024-02-08T03:09:30.729447Z",
     "shell.execute_reply.started": "2024-02-08T03:09:30.722653Z"
    }
   },
   "outputs": [
    {
     "data": {
      "text/html": [
       "<div>\n",
       "<style scoped>\n",
       "    .dataframe tbody tr th:only-of-type {\n",
       "        vertical-align: middle;\n",
       "    }\n",
       "\n",
       "    .dataframe tbody tr th {\n",
       "        vertical-align: top;\n",
       "    }\n",
       "\n",
       "    .dataframe thead th {\n",
       "        text-align: right;\n",
       "    }\n",
       "</style>\n",
       "<table border=\"1\" class=\"dataframe\">\n",
       "  <thead>\n",
       "    <tr style=\"text-align: right;\">\n",
       "      <th></th>\n",
       "      <th>text-raw</th>\n",
       "      <th>text</th>\n",
       "    </tr>\n",
       "  </thead>\n",
       "  <tbody>\n",
       "    <tr>\n",
       "      <th>164</th>\n",
       "      <td>Follow the directions, and these will be really really good.: Quick update on 11/21/14\\n\\nJust started putting Old Bay Seasoning in the water that I boil these in. Seems to add some flavor to them but it also changes the color. Looks very close t...</td>\n",
       "      <td>Follow the directions, and these will be really really good.: Quick update on 11/21/14\\n\\nJust started putting Old Bay Seasoning in the water that I boil these in. Seems to add some flavor to them but it also changes the color. Looks very close t...</td>\n",
       "    </tr>\n",
       "    <tr>\n",
       "      <th>266</th>\n",
       "      <td>They're great, if you like eating rubber: Because they look and feel like exactly that: noodles made of transparent rubber. If you don't care or are planning in burying them in enough sauce you can't see them, go for it. Personally, I'm not that ...</td>\n",
       "      <td>They're great, if you like eating rubber: Because they look and feel like exactly that: noodles made of transparent rubber. If you don't care or are planning in burying them in enough sauce you can't see them, go for it. Personally, I'm not that ...</td>\n",
       "    </tr>\n",
       "    <tr>\n",
       "      <th>895</th>\n",
       "      <td>Be prepaired to experement to find the best way to eat them.: bought the variety pack... the rice and the angle hair are ok.  I think for me they are thin/small enough to not be a substantial part of a bite, so less contribution to the mouth feel...</td>\n",
       "      <td>Be prepaired to experement to find the best way to eat them.: bought the variety pack... the rice and the angle hair are ok.  I think for me they are thin/small enough to not be a substantial part of a bite, so less contribution to the mouth feel...</td>\n",
       "    </tr>\n",
       "    <tr>\n",
       "      <th>1172</th>\n",
       "      <td>Family love it !!!: &lt;div id=\"video-block-R2QVYQA389CT7S\" class=\"a-section a-spacing-small a-spacing-top-mini video-block\"&gt;&lt;/div&gt;&lt;input type=\"hidden\" name=\"\" value=\"https://images-na.ssl-images-amazon.com/images/I/91E2G7ukhBS.mp4\" class=\"video-url...</td>\n",
       "      <td>Family love it !!!: &amp;nbsp;Love this stuff !!!! Guilt Free perfect if your in a weight loss journey like I am!!! Easy to cook !!!! Will order more</td>\n",
       "    </tr>\n",
       "    <tr>\n",
       "      <th>1350</th>\n",
       "      <td>ZERO CALORIES, ZERO CARBS and EXACTLY like spaghetti. Miracle noodles, indeed. Changed my life!: This product has seriously changed my LIFE. I fight every day to keep my weight at its current level, and I simply must avoid carbs. The conflict is ...</td>\n",
       "      <td>ZERO CALORIES, ZERO CARBS and EXACTLY like spaghetti. Miracle noodles, indeed. Changed my life!: This product has seriously changed my LIFE. I fight every day to keep my weight at its current level, and I simply must avoid carbs. The conflict is ...</td>\n",
       "    </tr>\n",
       "    <tr>\n",
       "      <th>1498</th>\n",
       "      <td>These make your plate \"full\" and plenty.: Holly guacamole, I love these things! Follow instructions and get creative with spices and sauces. The \"funky\" smell so many have mentioned is no big deal and goes away. Texture is good, specially if you ...</td>\n",
       "      <td>These make your plate \"full\" and plenty.: Holly guacamole, I love these things! Follow instructions and get creative with spices and sauces. The \"funky\" smell so many have mentioned is no big deal and goes away. Texture is good, specially if you ...</td>\n",
       "    </tr>\n",
       "    <tr>\n",
       "      <th>1514</th>\n",
       "      <td>Meh! Disappointing..............Tastes NOTHING Like Real Rice!!!: When I decided to buy this&amp;nbsp;&lt;a data-hook=\"product-link-linked\" class=\"a-link-normal\" href=\"/Miracle-Noodle-Rice/dp/B00BP36S7U/ref=cm_cr_arp_d_rvw_txt?ie=UTF8\"&gt;Miracle Noodle Ri...</td>\n",
       "      <td>Meh! Disappointing..............Tastes NOTHING Like Real Rice!!!: When I decided to buy this&amp;nbsp;Miracle Noodle Rice&amp;nbsp;I did so, after having bought the&amp;nbsp;Miracle Noodle Angel Hair Pasta&amp;nbsp;and ABSOLUTELY LOVING it. Because I am on a&amp;nbs...</td>\n",
       "    </tr>\n",
       "    <tr>\n",
       "      <th>2288</th>\n",
       "      <td>Great product.: Great product.&lt;a data-hook=\"product-link-linked\" class=\"a-link-normal\" href=\"/Miracle-Noodle-Zero-Carb-Gluten-Free-Shirataki-Pasta-and-Rice-6-bag-Variety-Pack-44-ounces-Includes-2-Shirataki-Angel-Hair-2-Shirataki-Rice-and-2-Shirat...</td>\n",
       "      <td>Great product.: Great product.Miracle Noodle Zero Carb, Gluten Free Shirataki Pasta and Rice, 6 bag Variety Pack, 44 ounces (Includes: 2 Shirataki Angel Hair, 2 Shirataki Rice and 2 Shirataki Fettuccini)</td>\n",
       "    </tr>\n",
       "    <tr>\n",
       "      <th>2378</th>\n",
       "      <td>I Can Have Noodles Again! Now, If Only There Could Be a Similar Zero-Carb or Low-Carb Equivalent for Bagels &amp; Crusty Baguettes!: Earlier this year, I started a wheat-free and low-carb, mostly grain-free&amp;nbsp;&lt;a data-hook=\"product-link-linked\" cla...</td>\n",
       "      <td>I Can Have Noodles Again! Now, If Only There Could Be a Similar Zero-Carb or Low-Carb Equivalent for Bagels &amp; Crusty Baguettes!: Earlier this year, I started a wheat-free and low-carb, mostly grain-free&amp;nbsp;Wheat Belly&amp;nbsp;diet, and among the m...</td>\n",
       "    </tr>\n",
       "    <tr>\n",
       "      <th>2404</th>\n",
       "      <td>Delicious!!: We love all the Miracle noodles but the&amp;nbsp;&lt;a data-hook=\"product-link-linked\" class=\"a-link-normal\" href=\"/Miracle-Noodle-Shirataki-Zero-Carb-Gluten-Free-Pasta-Garlic-and-Herb-Fettuccini-7-Ounce/dp/B01N91YE5A/ref=cm_cr_arp_d_rvw_tx...</td>\n",
       "      <td>Delicious!!: We love all the Miracle noodles but the&amp;nbsp;Miracle Noodle Shirataki Zero Carb Gluten Free Pasta, Garlic and Herb Fettuccini, 7 Ounce&amp;nbsp;is especially great.  Marry it to some canned clams and basil and herbs fettuccine sauce and ...</td>\n",
       "    </tr>\n",
       "    <tr>\n",
       "      <th>3056</th>\n",
       "      <td>I Can Have Noodles Again! Now, If Only There Could Be a Similar Zero-Carb or Low-Carb Equivalent for Bagels &amp; Crusty Baguettes!: Earlier this year, I started a wheat-free and low-carb, mostly grain-free&amp;nbsp;&lt;a data-hook=\"product-link-linked\" cla...</td>\n",
       "      <td>I Can Have Noodles Again! Now, If Only There Could Be a Similar Zero-Carb or Low-Carb Equivalent for Bagels &amp; Crusty Baguettes!: Earlier this year, I started a wheat-free and low-carb, mostly grain-free&amp;nbsp;Wheat Belly&amp;nbsp;diet, and among the m...</td>\n",
       "    </tr>\n",
       "    <tr>\n",
       "      <th>3577</th>\n",
       "      <td>Noodles on a low carb diet?  Yes !!!: My daughter swears by this product.  She's on a (very) low carb diet and there are not many noodle like products which she can eat and keep her carbs to a minimum.  Yes, these noodles smell fishy upon opening...</td>\n",
       "      <td>Noodles on a low carb diet?  Yes !!!: My daughter swears by this product.  She's on a (very) low carb diet and there are not many noodle like products which she can eat and keep her carbs to a minimum.  Yes, these noodles smell fishy upon opening...</td>\n",
       "    </tr>\n",
       "  </tbody>\n",
       "</table>\n",
       "</div>"
      ],
      "text/plain": [
       "                                                                                                                                                                                                                                                       text-raw  \\\n",
       "164   Follow the directions, and these will be really really good.: Quick update on 11/21/14\\n\\nJust started putting Old Bay Seasoning in the water that I boil these in. Seems to add some flavor to them but it also changes the color. Looks very close t...   \n",
       "266   They're great, if you like eating rubber: Because they look and feel like exactly that: noodles made of transparent rubber. If you don't care or are planning in burying them in enough sauce you can't see them, go for it. Personally, I'm not that ...   \n",
       "895   Be prepaired to experement to find the best way to eat them.: bought the variety pack... the rice and the angle hair are ok.  I think for me they are thin/small enough to not be a substantial part of a bite, so less contribution to the mouth feel...   \n",
       "1172  Family love it !!!: <div id=\"video-block-R2QVYQA389CT7S\" class=\"a-section a-spacing-small a-spacing-top-mini video-block\"></div><input type=\"hidden\" name=\"\" value=\"https://images-na.ssl-images-amazon.com/images/I/91E2G7ukhBS.mp4\" class=\"video-url...   \n",
       "1350  ZERO CALORIES, ZERO CARBS and EXACTLY like spaghetti. Miracle noodles, indeed. Changed my life!: This product has seriously changed my LIFE. I fight every day to keep my weight at its current level, and I simply must avoid carbs. The conflict is ...   \n",
       "1498  These make your plate \"full\" and plenty.: Holly guacamole, I love these things! Follow instructions and get creative with spices and sauces. The \"funky\" smell so many have mentioned is no big deal and goes away. Texture is good, specially if you ...   \n",
       "1514  Meh! Disappointing..............Tastes NOTHING Like Real Rice!!!: When I decided to buy this&nbsp;<a data-hook=\"product-link-linked\" class=\"a-link-normal\" href=\"/Miracle-Noodle-Rice/dp/B00BP36S7U/ref=cm_cr_arp_d_rvw_txt?ie=UTF8\">Miracle Noodle Ri...   \n",
       "2288  Great product.: Great product.<a data-hook=\"product-link-linked\" class=\"a-link-normal\" href=\"/Miracle-Noodle-Zero-Carb-Gluten-Free-Shirataki-Pasta-and-Rice-6-bag-Variety-Pack-44-ounces-Includes-2-Shirataki-Angel-Hair-2-Shirataki-Rice-and-2-Shirat...   \n",
       "2378  I Can Have Noodles Again! Now, If Only There Could Be a Similar Zero-Carb or Low-Carb Equivalent for Bagels & Crusty Baguettes!: Earlier this year, I started a wheat-free and low-carb, mostly grain-free&nbsp;<a data-hook=\"product-link-linked\" cla...   \n",
       "2404  Delicious!!: We love all the Miracle noodles but the&nbsp;<a data-hook=\"product-link-linked\" class=\"a-link-normal\" href=\"/Miracle-Noodle-Shirataki-Zero-Carb-Gluten-Free-Pasta-Garlic-and-Herb-Fettuccini-7-Ounce/dp/B01N91YE5A/ref=cm_cr_arp_d_rvw_tx...   \n",
       "3056  I Can Have Noodles Again! Now, If Only There Could Be a Similar Zero-Carb or Low-Carb Equivalent for Bagels & Crusty Baguettes!: Earlier this year, I started a wheat-free and low-carb, mostly grain-free&nbsp;<a data-hook=\"product-link-linked\" cla...   \n",
       "3577  Noodles on a low carb diet?  Yes !!!: My daughter swears by this product.  She's on a (very) low carb diet and there are not many noodle like products which she can eat and keep her carbs to a minimum.  Yes, these noodles smell fishy upon opening...   \n",
       "\n",
       "                                                                                                                                                                                                                                                           text  \n",
       "164   Follow the directions, and these will be really really good.: Quick update on 11/21/14\\n\\nJust started putting Old Bay Seasoning in the water that I boil these in. Seems to add some flavor to them but it also changes the color. Looks very close t...  \n",
       "266   They're great, if you like eating rubber: Because they look and feel like exactly that: noodles made of transparent rubber. If you don't care or are planning in burying them in enough sauce you can't see them, go for it. Personally, I'm not that ...  \n",
       "895   Be prepaired to experement to find the best way to eat them.: bought the variety pack... the rice and the angle hair are ok.  I think for me they are thin/small enough to not be a substantial part of a bite, so less contribution to the mouth feel...  \n",
       "1172                                                                                                          Family love it !!!: &nbsp;Love this stuff !!!! Guilt Free perfect if your in a weight loss journey like I am!!! Easy to cook !!!! Will order more  \n",
       "1350  ZERO CALORIES, ZERO CARBS and EXACTLY like spaghetti. Miracle noodles, indeed. Changed my life!: This product has seriously changed my LIFE. I fight every day to keep my weight at its current level, and I simply must avoid carbs. The conflict is ...  \n",
       "1498  These make your plate \"full\" and plenty.: Holly guacamole, I love these things! Follow instructions and get creative with spices and sauces. The \"funky\" smell so many have mentioned is no big deal and goes away. Texture is good, specially if you ...  \n",
       "1514  Meh! Disappointing..............Tastes NOTHING Like Real Rice!!!: When I decided to buy this&nbsp;Miracle Noodle Rice&nbsp;I did so, after having bought the&nbsp;Miracle Noodle Angel Hair Pasta&nbsp;and ABSOLUTELY LOVING it. Because I am on a&nbs...  \n",
       "2288                                                Great product.: Great product.Miracle Noodle Zero Carb, Gluten Free Shirataki Pasta and Rice, 6 bag Variety Pack, 44 ounces (Includes: 2 Shirataki Angel Hair, 2 Shirataki Rice and 2 Shirataki Fettuccini)  \n",
       "2378  I Can Have Noodles Again! Now, If Only There Could Be a Similar Zero-Carb or Low-Carb Equivalent for Bagels & Crusty Baguettes!: Earlier this year, I started a wheat-free and low-carb, mostly grain-free&nbsp;Wheat Belly&nbsp;diet, and among the m...  \n",
       "2404  Delicious!!: We love all the Miracle noodles but the&nbsp;Miracle Noodle Shirataki Zero Carb Gluten Free Pasta, Garlic and Herb Fettuccini, 7 Ounce&nbsp;is especially great.  Marry it to some canned clams and basil and herbs fettuccine sauce and ...  \n",
       "3056  I Can Have Noodles Again! Now, If Only There Could Be a Similar Zero-Carb or Low-Carb Equivalent for Bagels & Crusty Baguettes!: Earlier this year, I started a wheat-free and low-carb, mostly grain-free&nbsp;Wheat Belly&nbsp;diet, and among the m...  \n",
       "3577  Noodles on a low carb diet?  Yes !!!: My daughter swears by this product.  She's on a (very) low carb diet and there are not many noodle like products which she can eat and keep her carbs to a minimum.  Yes, these noodles smell fishy upon opening...  "
      ]
     },
     "execution_count": 24,
     "metadata": {},
     "output_type": "execute_result"
    }
   ],
   "source": [
    "\n",
    "df.loc[df['text-raw'].str.contains('<'),['text-raw', 'text']]"
   ]
  },
  {
   "cell_type": "code",
   "execution_count": null,
   "id": "4a353e83-1ad9-4c84-a785-c14feef29029",
   "metadata": {},
   "outputs": [],
   "source": []
  },
  {
   "cell_type": "markdown",
   "id": "1f8f7818-5a2e-48f2-87bf-29678b7f9be6",
   "metadata": {},
   "source": [
    "# Text Normalization with NLTK"
   ]
  },
  {
   "cell_type": "markdown",
   "id": "d1a869f6-073e-4281-b21a-33aba2fdd553",
   "metadata": {},
   "source": [
    "## Normalizing Casing\n",
    "\n",
    "It's common practice to lower the casing of the text in our documents to contribut to normalizing."
   ]
  },
  {
   "cell_type": "code",
   "execution_count": 25,
   "id": "550db04b-32a7-4270-9420-e6da4eaadb1f",
   "metadata": {
    "execution": {
     "iopub.execute_input": "2024-02-08T03:09:30.731205Z",
     "iopub.status.busy": "2024-02-08T03:09:30.730944Z",
     "iopub.status.idle": "2024-02-08T03:09:30.738524Z",
     "shell.execute_reply": "2024-02-08T03:09:30.738001Z",
     "shell.execute_reply.started": "2024-02-08T03:09:30.731189Z"
    }
   },
   "outputs": [
    {
     "data": {
      "text/html": [
       "<div>\n",
       "<style scoped>\n",
       "    .dataframe tbody tr th:only-of-type {\n",
       "        vertical-align: middle;\n",
       "    }\n",
       "\n",
       "    .dataframe tbody tr th {\n",
       "        vertical-align: top;\n",
       "    }\n",
       "\n",
       "    .dataframe thead th {\n",
       "        text-align: right;\n",
       "    }\n",
       "</style>\n",
       "<table border=\"1\" class=\"dataframe\">\n",
       "  <thead>\n",
       "    <tr style=\"text-align: right;\">\n",
       "      <th></th>\n",
       "      <th>asin</th>\n",
       "      <th>reviewerID</th>\n",
       "      <th>overall</th>\n",
       "      <th>year</th>\n",
       "      <th>category</th>\n",
       "      <th>text-raw</th>\n",
       "      <th>length</th>\n",
       "      <th>text</th>\n",
       "      <th>lower_text</th>\n",
       "    </tr>\n",
       "  </thead>\n",
       "  <tbody>\n",
       "    <tr>\n",
       "      <th>0</th>\n",
       "      <td>B007JINB0W</td>\n",
       "      <td>A1P9BVW2JB1OVL</td>\n",
       "      <td>3.0</td>\n",
       "      <td>2014</td>\n",
       "      <td>Grocery &amp; Gourmet Food; Pasta &amp; Noodles; Noodles; Shirataki</td>\n",
       "      <td>Odd chewy texture: This has a odd chewy texture and not much flavor, but used as a substitute for pasta, it helps cut calories and carbs. I can tolerate it, but it isn't really tasty. Surprisingly, my husband enjoyed it more than I did. I just co...</td>\n",
       "      <td>291</td>\n",
       "      <td>Odd chewy texture: This has a odd chewy texture and not much flavor, but used as a substitute for pasta, it helps cut calories and carbs. I can tolerate it, but it isn't really tasty. Surprisingly, my husband enjoyed it more than I did. I just co...</td>\n",
       "      <td>odd chewy texture: this has a odd chewy texture and not much flavor, but used as a substitute for pasta, it helps cut calories and carbs. i can tolerate it, but it isn't really tasty. surprisingly, my husband enjoyed it more than i did. i just co...</td>\n",
       "    </tr>\n",
       "    <tr>\n",
       "      <th>1</th>\n",
       "      <td>B007JINB0W</td>\n",
       "      <td>A5JZ2DBS9H3F6</td>\n",
       "      <td>1.0</td>\n",
       "      <td>2016</td>\n",
       "      <td>Grocery &amp; Gourmet Food; Pasta &amp; Noodles; Noodles; Shirataki</td>\n",
       "      <td>Fishy gross: They smell of fish and have a rubbery hard to chew texture. Yuck</td>\n",
       "      <td>77</td>\n",
       "      <td>Fishy gross: They smell of fish and have a rubbery hard to chew texture. Yuck</td>\n",
       "      <td>fishy gross: they smell of fish and have a rubbery hard to chew texture. yuck</td>\n",
       "    </tr>\n",
       "    <tr>\n",
       "      <th>2</th>\n",
       "      <td>B007JINB0W</td>\n",
       "      <td>A3VYMBAX7IFV3B</td>\n",
       "      <td>1.0</td>\n",
       "      <td>2014</td>\n",
       "      <td>Grocery &amp; Gourmet Food; Pasta &amp; Noodles; Noodles; Shirataki</td>\n",
       "      <td>One Star: MOM DID NOT LIKE THESE</td>\n",
       "      <td>32</td>\n",
       "      <td>One Star: MOM DID NOT LIKE THESE</td>\n",
       "      <td>one star: mom did not like these</td>\n",
       "    </tr>\n",
       "    <tr>\n",
       "      <th>3</th>\n",
       "      <td>B007JINB0W</td>\n",
       "      <td>A25MLB8QXVM2LS</td>\n",
       "      <td>2.0</td>\n",
       "      <td>2018</td>\n",
       "      <td>Grocery &amp; Gourmet Food; Pasta &amp; Noodles; Noodles; Shirataki</td>\n",
       "      <td>The noodles themselves are fine. The Amazon label description claims they are certified ...: The noodles themselves are fine. The Amazon label description claims they are certified non GMO and Vegan but the actual package contains no such symbol ...</td>\n",
       "      <td>289</td>\n",
       "      <td>The noodles themselves are fine. The Amazon label description claims they are certified ...: The noodles themselves are fine. The Amazon label description claims they are certified non GMO and Vegan but the actual package contains no such symbol ...</td>\n",
       "      <td>the noodles themselves are fine. the amazon label description claims they are certified ...: the noodles themselves are fine. the amazon label description claims they are certified non gmo and vegan but the actual package contains no such symbol ...</td>\n",
       "    </tr>\n",
       "    <tr>\n",
       "      <th>4</th>\n",
       "      <td>B007JINB0W</td>\n",
       "      <td>A2DZN9RBFVVY7L</td>\n",
       "      <td>4.0</td>\n",
       "      <td>2014</td>\n",
       "      <td>Grocery &amp; Gourmet Food; Pasta &amp; Noodles; Noodles; Shirataki</td>\n",
       "      <td>What's important to you?: So how bad do you want to restrict your calories? I gain weight easily, so I'm obsessive about counting my calories, but many times I am left not feeling very full. I read about these noodles and decided to give them a t...</td>\n",
       "      <td>882</td>\n",
       "      <td>What's important to you?: So how bad do you want to restrict your calories? I gain weight easily, so I'm obsessive about counting my calories, but many times I am left not feeling very full. I read about these noodles and decided to give them a t...</td>\n",
       "      <td>what's important to you?: so how bad do you want to restrict your calories? i gain weight easily, so i'm obsessive about counting my calories, but many times i am left not feeling very full. i read about these noodles and decided to give them a t...</td>\n",
       "    </tr>\n",
       "  </tbody>\n",
       "</table>\n",
       "</div>"
      ],
      "text/plain": [
       "         asin      reviewerID  overall  year  \\\n",
       "0  B007JINB0W  A1P9BVW2JB1OVL      3.0  2014   \n",
       "1  B007JINB0W   A5JZ2DBS9H3F6      1.0  2016   \n",
       "2  B007JINB0W  A3VYMBAX7IFV3B      1.0  2014   \n",
       "3  B007JINB0W  A25MLB8QXVM2LS      2.0  2018   \n",
       "4  B007JINB0W  A2DZN9RBFVVY7L      4.0  2014   \n",
       "\n",
       "                                                      category  \\\n",
       "0  Grocery & Gourmet Food; Pasta & Noodles; Noodles; Shirataki   \n",
       "1  Grocery & Gourmet Food; Pasta & Noodles; Noodles; Shirataki   \n",
       "2  Grocery & Gourmet Food; Pasta & Noodles; Noodles; Shirataki   \n",
       "3  Grocery & Gourmet Food; Pasta & Noodles; Noodles; Shirataki   \n",
       "4  Grocery & Gourmet Food; Pasta & Noodles; Noodles; Shirataki   \n",
       "\n",
       "                                                                                                                                                                                                                                                    text-raw  \\\n",
       "0  Odd chewy texture: This has a odd chewy texture and not much flavor, but used as a substitute for pasta, it helps cut calories and carbs. I can tolerate it, but it isn't really tasty. Surprisingly, my husband enjoyed it more than I did. I just co...   \n",
       "1                                                                                                                                                                              Fishy gross: They smell of fish and have a rubbery hard to chew texture. Yuck   \n",
       "2                                                                                                                                                                                                                           One Star: MOM DID NOT LIKE THESE   \n",
       "3  The noodles themselves are fine. The Amazon label description claims they are certified ...: The noodles themselves are fine. The Amazon label description claims they are certified non GMO and Vegan but the actual package contains no such symbol ...   \n",
       "4  What's important to you?: So how bad do you want to restrict your calories? I gain weight easily, so I'm obsessive about counting my calories, but many times I am left not feeling very full. I read about these noodles and decided to give them a t...   \n",
       "\n",
       "   length  \\\n",
       "0     291   \n",
       "1      77   \n",
       "2      32   \n",
       "3     289   \n",
       "4     882   \n",
       "\n",
       "                                                                                                                                                                                                                                                        text  \\\n",
       "0  Odd chewy texture: This has a odd chewy texture and not much flavor, but used as a substitute for pasta, it helps cut calories and carbs. I can tolerate it, but it isn't really tasty. Surprisingly, my husband enjoyed it more than I did. I just co...   \n",
       "1                                                                                                                                                                              Fishy gross: They smell of fish and have a rubbery hard to chew texture. Yuck   \n",
       "2                                                                                                                                                                                                                           One Star: MOM DID NOT LIKE THESE   \n",
       "3  The noodles themselves are fine. The Amazon label description claims they are certified ...: The noodles themselves are fine. The Amazon label description claims they are certified non GMO and Vegan but the actual package contains no such symbol ...   \n",
       "4  What's important to you?: So how bad do you want to restrict your calories? I gain weight easily, so I'm obsessive about counting my calories, but many times I am left not feeling very full. I read about these noodles and decided to give them a t...   \n",
       "\n",
       "                                                                                                                                                                                                                                                  lower_text  \n",
       "0  odd chewy texture: this has a odd chewy texture and not much flavor, but used as a substitute for pasta, it helps cut calories and carbs. i can tolerate it, but it isn't really tasty. surprisingly, my husband enjoyed it more than i did. i just co...  \n",
       "1                                                                                                                                                                              fishy gross: they smell of fish and have a rubbery hard to chew texture. yuck  \n",
       "2                                                                                                                                                                                                                           one star: mom did not like these  \n",
       "3  the noodles themselves are fine. the amazon label description claims they are certified ...: the noodles themselves are fine. the amazon label description claims they are certified non gmo and vegan but the actual package contains no such symbol ...  \n",
       "4  what's important to you?: so how bad do you want to restrict your calories? i gain weight easily, so i'm obsessive about counting my calories, but many times i am left not feeling very full. i read about these noodles and decided to give them a t...  "
      ]
     },
     "execution_count": 25,
     "metadata": {},
     "output_type": "execute_result"
    }
   ],
   "source": [
    "## Lower the casing of each document\n",
    "df['lower_text'] = df['text'].str.lower()\n",
    "df.head()"
   ]
  },
  {
   "cell_type": "markdown",
   "id": "b174777b-b52a-4260-b486-b75ec1a2ba0f",
   "metadata": {},
   "source": [
    "## Tokenizing\n",
    "\n",
    "Tokenizing text into single word tokens is simple in Python.  We can just use `str.split()`.  The default separator for `.split()` is one space, so `' '`.\n",
    "\n",
    "We can access Pandas' string accessor with `df.str.<method>`.  This allows us to apply string methods to all rows in a column.\n",
    "\n",
    "When processing text, if memory allows, it can be useful to keep many versions of your text: tokenize, lemmatized, no stop words, etc.  Some analysis or modeling packages expect tokenized data and others do not.  We often want to use different versions for different kinds of analysis, too."
   ]
  },
  {
   "cell_type": "code",
   "execution_count": 26,
   "id": "4b244d34-3f00-4b0a-af13-d9f0ee324398",
   "metadata": {
    "execution": {
     "iopub.execute_input": "2024-02-08T03:09:30.739452Z",
     "iopub.status.busy": "2024-02-08T03:09:30.739277Z",
     "iopub.status.idle": "2024-02-08T03:09:30.757459Z",
     "shell.execute_reply": "2024-02-08T03:09:30.757085Z",
     "shell.execute_reply.started": "2024-02-08T03:09:30.739440Z"
    }
   },
   "outputs": [
    {
     "data": {
      "text/html": [
       "<div>\n",
       "<style scoped>\n",
       "    .dataframe tbody tr th:only-of-type {\n",
       "        vertical-align: middle;\n",
       "    }\n",
       "\n",
       "    .dataframe tbody tr th {\n",
       "        vertical-align: top;\n",
       "    }\n",
       "\n",
       "    .dataframe thead th {\n",
       "        text-align: right;\n",
       "    }\n",
       "</style>\n",
       "<table border=\"1\" class=\"dataframe\">\n",
       "  <thead>\n",
       "    <tr style=\"text-align: right;\">\n",
       "      <th></th>\n",
       "      <th>asin</th>\n",
       "      <th>reviewerID</th>\n",
       "      <th>overall</th>\n",
       "      <th>year</th>\n",
       "      <th>category</th>\n",
       "      <th>text-raw</th>\n",
       "      <th>length</th>\n",
       "      <th>text</th>\n",
       "      <th>lower_text</th>\n",
       "      <th>tokens</th>\n",
       "    </tr>\n",
       "  </thead>\n",
       "  <tbody>\n",
       "    <tr>\n",
       "      <th>0</th>\n",
       "      <td>B007JINB0W</td>\n",
       "      <td>A1P9BVW2JB1OVL</td>\n",
       "      <td>3.0</td>\n",
       "      <td>2014</td>\n",
       "      <td>Grocery &amp; Gourmet Food; Pasta &amp; Noodles; Noodles; Shirataki</td>\n",
       "      <td>Odd chewy texture: This has a odd chewy texture and not much flavor, but used as a substitute for pasta, it helps cut calories and carbs. I can tolerate it, but it isn't really tasty. Surprisingly, my husband enjoyed it more than I did. I just co...</td>\n",
       "      <td>291</td>\n",
       "      <td>Odd chewy texture: This has a odd chewy texture and not much flavor, but used as a substitute for pasta, it helps cut calories and carbs. I can tolerate it, but it isn't really tasty. Surprisingly, my husband enjoyed it more than I did. I just co...</td>\n",
       "      <td>odd chewy texture: this has a odd chewy texture and not much flavor, but used as a substitute for pasta, it helps cut calories and carbs. i can tolerate it, but it isn't really tasty. surprisingly, my husband enjoyed it more than i did. i just co...</td>\n",
       "      <td>[odd, chewy, texture:, this, has, a, odd, chewy, texture, and, not, much, flavor,, but, used, as, a, substitute, for, pasta,, it, helps, cut, calories, and, carbs., i, can, tolerate, it,, but, it, isn't, really, tasty., surprisingly,, my, husband...</td>\n",
       "    </tr>\n",
       "    <tr>\n",
       "      <th>1</th>\n",
       "      <td>B007JINB0W</td>\n",
       "      <td>A5JZ2DBS9H3F6</td>\n",
       "      <td>1.0</td>\n",
       "      <td>2016</td>\n",
       "      <td>Grocery &amp; Gourmet Food; Pasta &amp; Noodles; Noodles; Shirataki</td>\n",
       "      <td>Fishy gross: They smell of fish and have a rubbery hard to chew texture. Yuck</td>\n",
       "      <td>77</td>\n",
       "      <td>Fishy gross: They smell of fish and have a rubbery hard to chew texture. Yuck</td>\n",
       "      <td>fishy gross: they smell of fish and have a rubbery hard to chew texture. yuck</td>\n",
       "      <td>[fishy, gross:, they, smell, of, fish, and, have, a, rubbery, hard, to, chew, texture., yuck]</td>\n",
       "    </tr>\n",
       "    <tr>\n",
       "      <th>2</th>\n",
       "      <td>B007JINB0W</td>\n",
       "      <td>A3VYMBAX7IFV3B</td>\n",
       "      <td>1.0</td>\n",
       "      <td>2014</td>\n",
       "      <td>Grocery &amp; Gourmet Food; Pasta &amp; Noodles; Noodles; Shirataki</td>\n",
       "      <td>One Star: MOM DID NOT LIKE THESE</td>\n",
       "      <td>32</td>\n",
       "      <td>One Star: MOM DID NOT LIKE THESE</td>\n",
       "      <td>one star: mom did not like these</td>\n",
       "      <td>[one, star:, mom, did, not, like, these]</td>\n",
       "    </tr>\n",
       "    <tr>\n",
       "      <th>3</th>\n",
       "      <td>B007JINB0W</td>\n",
       "      <td>A25MLB8QXVM2LS</td>\n",
       "      <td>2.0</td>\n",
       "      <td>2018</td>\n",
       "      <td>Grocery &amp; Gourmet Food; Pasta &amp; Noodles; Noodles; Shirataki</td>\n",
       "      <td>The noodles themselves are fine. The Amazon label description claims they are certified ...: The noodles themselves are fine. The Amazon label description claims they are certified non GMO and Vegan but the actual package contains no such symbol ...</td>\n",
       "      <td>289</td>\n",
       "      <td>The noodles themselves are fine. The Amazon label description claims they are certified ...: The noodles themselves are fine. The Amazon label description claims they are certified non GMO and Vegan but the actual package contains no such symbol ...</td>\n",
       "      <td>the noodles themselves are fine. the amazon label description claims they are certified ...: the noodles themselves are fine. the amazon label description claims they are certified non gmo and vegan but the actual package contains no such symbol ...</td>\n",
       "      <td>[the, noodles, themselves, are, fine., the, amazon, label, description, claims, they, are, certified, ...:, the, noodles, themselves, are, fine., the, amazon, label, description, claims, they, are, certified, non, gmo, and, vegan, but, the, actua...</td>\n",
       "    </tr>\n",
       "    <tr>\n",
       "      <th>4</th>\n",
       "      <td>B007JINB0W</td>\n",
       "      <td>A2DZN9RBFVVY7L</td>\n",
       "      <td>4.0</td>\n",
       "      <td>2014</td>\n",
       "      <td>Grocery &amp; Gourmet Food; Pasta &amp; Noodles; Noodles; Shirataki</td>\n",
       "      <td>What's important to you?: So how bad do you want to restrict your calories? I gain weight easily, so I'm obsessive about counting my calories, but many times I am left not feeling very full. I read about these noodles and decided to give them a t...</td>\n",
       "      <td>882</td>\n",
       "      <td>What's important to you?: So how bad do you want to restrict your calories? I gain weight easily, so I'm obsessive about counting my calories, but many times I am left not feeling very full. I read about these noodles and decided to give them a t...</td>\n",
       "      <td>what's important to you?: so how bad do you want to restrict your calories? i gain weight easily, so i'm obsessive about counting my calories, but many times i am left not feeling very full. i read about these noodles and decided to give them a t...</td>\n",
       "      <td>[what's, important, to, you?:, so, how, bad, do, you, want, to, restrict, your, calories?, i, gain, weight, easily,, so, i'm, obsessive, about, counting, my, calories,, but, many, times, i, am, left, not, feeling, very, full., i, read, about, the...</td>\n",
       "    </tr>\n",
       "  </tbody>\n",
       "</table>\n",
       "</div>"
      ],
      "text/plain": [
       "         asin      reviewerID  overall  year  \\\n",
       "0  B007JINB0W  A1P9BVW2JB1OVL      3.0  2014   \n",
       "1  B007JINB0W   A5JZ2DBS9H3F6      1.0  2016   \n",
       "2  B007JINB0W  A3VYMBAX7IFV3B      1.0  2014   \n",
       "3  B007JINB0W  A25MLB8QXVM2LS      2.0  2018   \n",
       "4  B007JINB0W  A2DZN9RBFVVY7L      4.0  2014   \n",
       "\n",
       "                                                      category  \\\n",
       "0  Grocery & Gourmet Food; Pasta & Noodles; Noodles; Shirataki   \n",
       "1  Grocery & Gourmet Food; Pasta & Noodles; Noodles; Shirataki   \n",
       "2  Grocery & Gourmet Food; Pasta & Noodles; Noodles; Shirataki   \n",
       "3  Grocery & Gourmet Food; Pasta & Noodles; Noodles; Shirataki   \n",
       "4  Grocery & Gourmet Food; Pasta & Noodles; Noodles; Shirataki   \n",
       "\n",
       "                                                                                                                                                                                                                                                    text-raw  \\\n",
       "0  Odd chewy texture: This has a odd chewy texture and not much flavor, but used as a substitute for pasta, it helps cut calories and carbs. I can tolerate it, but it isn't really tasty. Surprisingly, my husband enjoyed it more than I did. I just co...   \n",
       "1                                                                                                                                                                              Fishy gross: They smell of fish and have a rubbery hard to chew texture. Yuck   \n",
       "2                                                                                                                                                                                                                           One Star: MOM DID NOT LIKE THESE   \n",
       "3  The noodles themselves are fine. The Amazon label description claims they are certified ...: The noodles themselves are fine. The Amazon label description claims they are certified non GMO and Vegan but the actual package contains no such symbol ...   \n",
       "4  What's important to you?: So how bad do you want to restrict your calories? I gain weight easily, so I'm obsessive about counting my calories, but many times I am left not feeling very full. I read about these noodles and decided to give them a t...   \n",
       "\n",
       "   length  \\\n",
       "0     291   \n",
       "1      77   \n",
       "2      32   \n",
       "3     289   \n",
       "4     882   \n",
       "\n",
       "                                                                                                                                                                                                                                                        text  \\\n",
       "0  Odd chewy texture: This has a odd chewy texture and not much flavor, but used as a substitute for pasta, it helps cut calories and carbs. I can tolerate it, but it isn't really tasty. Surprisingly, my husband enjoyed it more than I did. I just co...   \n",
       "1                                                                                                                                                                              Fishy gross: They smell of fish and have a rubbery hard to chew texture. Yuck   \n",
       "2                                                                                                                                                                                                                           One Star: MOM DID NOT LIKE THESE   \n",
       "3  The noodles themselves are fine. The Amazon label description claims they are certified ...: The noodles themselves are fine. The Amazon label description claims they are certified non GMO and Vegan but the actual package contains no such symbol ...   \n",
       "4  What's important to you?: So how bad do you want to restrict your calories? I gain weight easily, so I'm obsessive about counting my calories, but many times I am left not feeling very full. I read about these noodles and decided to give them a t...   \n",
       "\n",
       "                                                                                                                                                                                                                                                  lower_text  \\\n",
       "0  odd chewy texture: this has a odd chewy texture and not much flavor, but used as a substitute for pasta, it helps cut calories and carbs. i can tolerate it, but it isn't really tasty. surprisingly, my husband enjoyed it more than i did. i just co...   \n",
       "1                                                                                                                                                                              fishy gross: they smell of fish and have a rubbery hard to chew texture. yuck   \n",
       "2                                                                                                                                                                                                                           one star: mom did not like these   \n",
       "3  the noodles themselves are fine. the amazon label description claims they are certified ...: the noodles themselves are fine. the amazon label description claims they are certified non gmo and vegan but the actual package contains no such symbol ...   \n",
       "4  what's important to you?: so how bad do you want to restrict your calories? i gain weight easily, so i'm obsessive about counting my calories, but many times i am left not feeling very full. i read about these noodles and decided to give them a t...   \n",
       "\n",
       "                                                                                                                                                                                                                                                      tokens  \n",
       "0  [odd, chewy, texture:, this, has, a, odd, chewy, texture, and, not, much, flavor,, but, used, as, a, substitute, for, pasta,, it, helps, cut, calories, and, carbs., i, can, tolerate, it,, but, it, isn't, really, tasty., surprisingly,, my, husband...  \n",
       "1                                                                                                                                                              [fishy, gross:, they, smell, of, fish, and, have, a, rubbery, hard, to, chew, texture., yuck]  \n",
       "2                                                                                                                                                                                                                   [one, star:, mom, did, not, like, these]  \n",
       "3  [the, noodles, themselves, are, fine., the, amazon, label, description, claims, they, are, certified, ...:, the, noodles, themselves, are, fine., the, amazon, label, description, claims, they, are, certified, non, gmo, and, vegan, but, the, actua...  \n",
       "4  [what's, important, to, you?:, so, how, bad, do, you, want, to, restrict, your, calories?, i, gain, weight, easily,, so, i'm, obsessive, about, counting, my, calories,, but, many, times, i, am, left, not, feeling, very, full., i, read, about, the...  "
      ]
     },
     "execution_count": 26,
     "metadata": {},
     "output_type": "execute_result"
    }
   ],
   "source": [
    "## Split the documents into tokens\n",
    "\n",
    "df['tokens'] = df['lower_text'].str.split()\n",
    "df.head()"
   ]
  },
  {
   "cell_type": "markdown",
   "id": "68391d27-b08b-469a-b5cc-c2571b849b14",
   "metadata": {},
   "source": [
    "### Better way to tokenize data\n",
    "\n",
    "NLTK has a more sophisticated tokenization function that will isolate things like punctuation as well.  This way 'hooray' and 'hooray!!!' will be the same token.\n",
    "\n",
    "In order for NLTK to recognize the punctuation, we will need to download the 'punkt' data."
   ]
  },
  {
   "cell_type": "code",
   "execution_count": 27,
   "id": "99cb8036-ffbe-4365-aacc-3ee5cc5e05e9",
   "metadata": {
    "execution": {
     "iopub.execute_input": "2024-02-08T03:09:30.758470Z",
     "iopub.status.busy": "2024-02-08T03:09:30.758265Z",
     "iopub.status.idle": "2024-02-08T03:09:31.761998Z",
     "shell.execute_reply": "2024-02-08T03:09:31.761721Z",
     "shell.execute_reply.started": "2024-02-08T03:09:30.758453Z"
    }
   },
   "outputs": [
    {
     "name": "stderr",
     "output_type": "stream",
     "text": [
      "[nltk_data] Downloading package punkt to\n",
      "[nltk_data]     /Users/codingdojo/nltk_data...\n",
      "[nltk_data]   Package punkt is already up-to-date!\n"
     ]
    },
    {
     "data": {
      "text/html": [
       "<div>\n",
       "<style scoped>\n",
       "    .dataframe tbody tr th:only-of-type {\n",
       "        vertical-align: middle;\n",
       "    }\n",
       "\n",
       "    .dataframe tbody tr th {\n",
       "        vertical-align: top;\n",
       "    }\n",
       "\n",
       "    .dataframe thead th {\n",
       "        text-align: right;\n",
       "    }\n",
       "</style>\n",
       "<table border=\"1\" class=\"dataframe\">\n",
       "  <thead>\n",
       "    <tr style=\"text-align: right;\">\n",
       "      <th></th>\n",
       "      <th>asin</th>\n",
       "      <th>reviewerID</th>\n",
       "      <th>overall</th>\n",
       "      <th>year</th>\n",
       "      <th>category</th>\n",
       "      <th>text-raw</th>\n",
       "      <th>length</th>\n",
       "      <th>text</th>\n",
       "      <th>lower_text</th>\n",
       "      <th>tokens</th>\n",
       "    </tr>\n",
       "  </thead>\n",
       "  <tbody>\n",
       "    <tr>\n",
       "      <th>0</th>\n",
       "      <td>B007JINB0W</td>\n",
       "      <td>A1P9BVW2JB1OVL</td>\n",
       "      <td>3.0</td>\n",
       "      <td>2014</td>\n",
       "      <td>Grocery &amp; Gourmet Food; Pasta &amp; Noodles; Noodles; Shirataki</td>\n",
       "      <td>Odd chewy texture: This has a odd chewy texture and not much flavor, but used as a substitute for pasta, it helps cut calories and carbs. I can tolerate it, but it isn't really tasty. Surprisingly, my husband enjoyed it more than I did. I just co...</td>\n",
       "      <td>291</td>\n",
       "      <td>Odd chewy texture: This has a odd chewy texture and not much flavor, but used as a substitute for pasta, it helps cut calories and carbs. I can tolerate it, but it isn't really tasty. Surprisingly, my husband enjoyed it more than I did. I just co...</td>\n",
       "      <td>odd chewy texture: this has a odd chewy texture and not much flavor, but used as a substitute for pasta, it helps cut calories and carbs. i can tolerate it, but it isn't really tasty. surprisingly, my husband enjoyed it more than i did. i just co...</td>\n",
       "      <td>[odd, chewy, texture, :, this, has, a, odd, chewy, texture, and, not, much, flavor, ,, but, used, as, a, substitute, for, pasta, ,, it, helps, cut, calories, and, carbs, ., i, can, tolerate, it, ,, but, it, is, n't, really, tasty, ., surprisingly...</td>\n",
       "    </tr>\n",
       "    <tr>\n",
       "      <th>1</th>\n",
       "      <td>B007JINB0W</td>\n",
       "      <td>A5JZ2DBS9H3F6</td>\n",
       "      <td>1.0</td>\n",
       "      <td>2016</td>\n",
       "      <td>Grocery &amp; Gourmet Food; Pasta &amp; Noodles; Noodles; Shirataki</td>\n",
       "      <td>Fishy gross: They smell of fish and have a rubbery hard to chew texture. Yuck</td>\n",
       "      <td>77</td>\n",
       "      <td>Fishy gross: They smell of fish and have a rubbery hard to chew texture. Yuck</td>\n",
       "      <td>fishy gross: they smell of fish and have a rubbery hard to chew texture. yuck</td>\n",
       "      <td>[fishy, gross, :, they, smell, of, fish, and, have, a, rubbery, hard, to, chew, texture, ., yuck]</td>\n",
       "    </tr>\n",
       "    <tr>\n",
       "      <th>2</th>\n",
       "      <td>B007JINB0W</td>\n",
       "      <td>A3VYMBAX7IFV3B</td>\n",
       "      <td>1.0</td>\n",
       "      <td>2014</td>\n",
       "      <td>Grocery &amp; Gourmet Food; Pasta &amp; Noodles; Noodles; Shirataki</td>\n",
       "      <td>One Star: MOM DID NOT LIKE THESE</td>\n",
       "      <td>32</td>\n",
       "      <td>One Star: MOM DID NOT LIKE THESE</td>\n",
       "      <td>one star: mom did not like these</td>\n",
       "      <td>[one, star, :, mom, did, not, like, these]</td>\n",
       "    </tr>\n",
       "    <tr>\n",
       "      <th>3</th>\n",
       "      <td>B007JINB0W</td>\n",
       "      <td>A25MLB8QXVM2LS</td>\n",
       "      <td>2.0</td>\n",
       "      <td>2018</td>\n",
       "      <td>Grocery &amp; Gourmet Food; Pasta &amp; Noodles; Noodles; Shirataki</td>\n",
       "      <td>The noodles themselves are fine. The Amazon label description claims they are certified ...: The noodles themselves are fine. The Amazon label description claims they are certified non GMO and Vegan but the actual package contains no such symbol ...</td>\n",
       "      <td>289</td>\n",
       "      <td>The noodles themselves are fine. The Amazon label description claims they are certified ...: The noodles themselves are fine. The Amazon label description claims they are certified non GMO and Vegan but the actual package contains no such symbol ...</td>\n",
       "      <td>the noodles themselves are fine. the amazon label description claims they are certified ...: the noodles themselves are fine. the amazon label description claims they are certified non gmo and vegan but the actual package contains no such symbol ...</td>\n",
       "      <td>[the, noodles, themselves, are, fine, ., the, amazon, label, description, claims, they, are, certified, ..., :, the, noodles, themselves, are, fine, ., the, amazon, label, description, claims, they, are, certified, non, gmo, and, vegan, but, the,...</td>\n",
       "    </tr>\n",
       "    <tr>\n",
       "      <th>4</th>\n",
       "      <td>B007JINB0W</td>\n",
       "      <td>A2DZN9RBFVVY7L</td>\n",
       "      <td>4.0</td>\n",
       "      <td>2014</td>\n",
       "      <td>Grocery &amp; Gourmet Food; Pasta &amp; Noodles; Noodles; Shirataki</td>\n",
       "      <td>What's important to you?: So how bad do you want to restrict your calories? I gain weight easily, so I'm obsessive about counting my calories, but many times I am left not feeling very full. I read about these noodles and decided to give them a t...</td>\n",
       "      <td>882</td>\n",
       "      <td>What's important to you?: So how bad do you want to restrict your calories? I gain weight easily, so I'm obsessive about counting my calories, but many times I am left not feeling very full. I read about these noodles and decided to give them a t...</td>\n",
       "      <td>what's important to you?: so how bad do you want to restrict your calories? i gain weight easily, so i'm obsessive about counting my calories, but many times i am left not feeling very full. i read about these noodles and decided to give them a t...</td>\n",
       "      <td>[what, 's, important, to, you, ?, :, so, how, bad, do, you, want, to, restrict, your, calories, ?, i, gain, weight, easily, ,, so, i, 'm, obsessive, about, counting, my, calories, ,, but, many, times, i, am, left, not, feeling, very, full, ., i, ...</td>\n",
       "    </tr>\n",
       "  </tbody>\n",
       "</table>\n",
       "</div>"
      ],
      "text/plain": [
       "         asin      reviewerID  overall  year  \\\n",
       "0  B007JINB0W  A1P9BVW2JB1OVL      3.0  2014   \n",
       "1  B007JINB0W   A5JZ2DBS9H3F6      1.0  2016   \n",
       "2  B007JINB0W  A3VYMBAX7IFV3B      1.0  2014   \n",
       "3  B007JINB0W  A25MLB8QXVM2LS      2.0  2018   \n",
       "4  B007JINB0W  A2DZN9RBFVVY7L      4.0  2014   \n",
       "\n",
       "                                                      category  \\\n",
       "0  Grocery & Gourmet Food; Pasta & Noodles; Noodles; Shirataki   \n",
       "1  Grocery & Gourmet Food; Pasta & Noodles; Noodles; Shirataki   \n",
       "2  Grocery & Gourmet Food; Pasta & Noodles; Noodles; Shirataki   \n",
       "3  Grocery & Gourmet Food; Pasta & Noodles; Noodles; Shirataki   \n",
       "4  Grocery & Gourmet Food; Pasta & Noodles; Noodles; Shirataki   \n",
       "\n",
       "                                                                                                                                                                                                                                                    text-raw  \\\n",
       "0  Odd chewy texture: This has a odd chewy texture and not much flavor, but used as a substitute for pasta, it helps cut calories and carbs. I can tolerate it, but it isn't really tasty. Surprisingly, my husband enjoyed it more than I did. I just co...   \n",
       "1                                                                                                                                                                              Fishy gross: They smell of fish and have a rubbery hard to chew texture. Yuck   \n",
       "2                                                                                                                                                                                                                           One Star: MOM DID NOT LIKE THESE   \n",
       "3  The noodles themselves are fine. The Amazon label description claims they are certified ...: The noodles themselves are fine. The Amazon label description claims they are certified non GMO and Vegan but the actual package contains no such symbol ...   \n",
       "4  What's important to you?: So how bad do you want to restrict your calories? I gain weight easily, so I'm obsessive about counting my calories, but many times I am left not feeling very full. I read about these noodles and decided to give them a t...   \n",
       "\n",
       "   length  \\\n",
       "0     291   \n",
       "1      77   \n",
       "2      32   \n",
       "3     289   \n",
       "4     882   \n",
       "\n",
       "                                                                                                                                                                                                                                                        text  \\\n",
       "0  Odd chewy texture: This has a odd chewy texture and not much flavor, but used as a substitute for pasta, it helps cut calories and carbs. I can tolerate it, but it isn't really tasty. Surprisingly, my husband enjoyed it more than I did. I just co...   \n",
       "1                                                                                                                                                                              Fishy gross: They smell of fish and have a rubbery hard to chew texture. Yuck   \n",
       "2                                                                                                                                                                                                                           One Star: MOM DID NOT LIKE THESE   \n",
       "3  The noodles themselves are fine. The Amazon label description claims they are certified ...: The noodles themselves are fine. The Amazon label description claims they are certified non GMO and Vegan but the actual package contains no such symbol ...   \n",
       "4  What's important to you?: So how bad do you want to restrict your calories? I gain weight easily, so I'm obsessive about counting my calories, but many times I am left not feeling very full. I read about these noodles and decided to give them a t...   \n",
       "\n",
       "                                                                                                                                                                                                                                                  lower_text  \\\n",
       "0  odd chewy texture: this has a odd chewy texture and not much flavor, but used as a substitute for pasta, it helps cut calories and carbs. i can tolerate it, but it isn't really tasty. surprisingly, my husband enjoyed it more than i did. i just co...   \n",
       "1                                                                                                                                                                              fishy gross: they smell of fish and have a rubbery hard to chew texture. yuck   \n",
       "2                                                                                                                                                                                                                           one star: mom did not like these   \n",
       "3  the noodles themselves are fine. the amazon label description claims they are certified ...: the noodles themselves are fine. the amazon label description claims they are certified non gmo and vegan but the actual package contains no such symbol ...   \n",
       "4  what's important to you?: so how bad do you want to restrict your calories? i gain weight easily, so i'm obsessive about counting my calories, but many times i am left not feeling very full. i read about these noodles and decided to give them a t...   \n",
       "\n",
       "                                                                                                                                                                                                                                                      tokens  \n",
       "0  [odd, chewy, texture, :, this, has, a, odd, chewy, texture, and, not, much, flavor, ,, but, used, as, a, substitute, for, pasta, ,, it, helps, cut, calories, and, carbs, ., i, can, tolerate, it, ,, but, it, is, n't, really, tasty, ., surprisingly...  \n",
       "1                                                                                                                                                          [fishy, gross, :, they, smell, of, fish, and, have, a, rubbery, hard, to, chew, texture, ., yuck]  \n",
       "2                                                                                                                                                                                                                 [one, star, :, mom, did, not, like, these]  \n",
       "3  [the, noodles, themselves, are, fine, ., the, amazon, label, description, claims, they, are, certified, ..., :, the, noodles, themselves, are, fine, ., the, amazon, label, description, claims, they, are, certified, non, gmo, and, vegan, but, the,...  \n",
       "4  [what, 's, important, to, you, ?, :, so, how, bad, do, you, want, to, restrict, your, calories, ?, i, gain, weight, easily, ,, so, i, 'm, obsessive, about, counting, my, calories, ,, but, many, times, i, am, left, not, feeling, very, full, ., i, ...  "
      ]
     },
     "execution_count": 27,
     "metadata": {},
     "output_type": "execute_result"
    }
   ],
   "source": [
    "## Download punkt\n",
    "nltk.download('punkt')\n",
    "\n",
    "## Tokenize with nltk.word_tokenize instead\n",
    "\n",
    "df['tokens'] = df['lower_text'].apply(nltk.word_tokenize)\n",
    "df.head()"
   ]
  },
  {
   "cell_type": "markdown",
   "id": "a92f435f-e144-4b72-8c07-3249dae5b164",
   "metadata": {},
   "source": [
    "## Remove Stop Words"
   ]
  },
  {
   "cell_type": "code",
   "execution_count": 28,
   "id": "32e91158-047d-4ba7-9a6b-67ae623a33b1",
   "metadata": {
    "execution": {
     "iopub.execute_input": "2024-02-08T03:09:31.762545Z",
     "iopub.status.busy": "2024-02-08T03:09:31.762450Z",
     "iopub.status.idle": "2024-02-08T03:09:31.767653Z",
     "shell.execute_reply": "2024-02-08T03:09:31.767368Z",
     "shell.execute_reply.started": "2024-02-08T03:09:31.762536Z"
    }
   },
   "outputs": [
    {
     "name": "stderr",
     "output_type": "stream",
     "text": [
      "[nltk_data] Downloading package stopwords to\n",
      "[nltk_data]     /Users/codingdojo/nltk_data...\n",
      "[nltk_data]   Package stopwords is already up-to-date!\n"
     ]
    },
    {
     "data": {
      "text/plain": [
       "['i', 'me', 'my', 'myself', 'we', 'our', 'ours', 'ourselves', 'you', \"you're\"]"
      ]
     },
     "execution_count": 28,
     "metadata": {},
     "output_type": "execute_result"
    }
   ],
   "source": [
    "## Download NLTK stopword list\n",
    "nltk.download('stopwords')\n",
    "\n",
    "## Load the English stop words.\n",
    "\n",
    "stop_words = nltk.corpus.stopwords.words('english')\n",
    "stop_words[:10]"
   ]
  },
  {
   "cell_type": "markdown",
   "id": "7b32bd5a-fe7d-4766-baec-55ceb0f2f78c",
   "metadata": {},
   "source": [
    "<font color=red> NOTICE </font> that all of the stop words are lower case.  It's necessary to ensure that your tokens are all lower case before using this list to remove stop words.\n",
    "\n",
    "To remove the stop words from each document, we will apply a function that will check each word in the list of tokens against the list of stopwords and remove them if they are in the list.  More specifically, it will only save them if they are NOT in the list."
   ]
  },
  {
   "cell_type": "code",
   "execution_count": 29,
   "id": "8b7cd190-07ee-40ee-b6c2-4c8639ff4cf9",
   "metadata": {
    "execution": {
     "iopub.execute_input": "2024-02-08T03:09:31.768250Z",
     "iopub.status.busy": "2024-02-08T03:09:31.768139Z",
     "iopub.status.idle": "2024-02-08T03:09:32.062791Z",
     "shell.execute_reply": "2024-02-08T03:09:32.062426Z",
     "shell.execute_reply.started": "2024-02-08T03:09:31.768241Z"
    }
   },
   "outputs": [
    {
     "data": {
      "text/html": [
       "<div>\n",
       "<style scoped>\n",
       "    .dataframe tbody tr th:only-of-type {\n",
       "        vertical-align: middle;\n",
       "    }\n",
       "\n",
       "    .dataframe tbody tr th {\n",
       "        vertical-align: top;\n",
       "    }\n",
       "\n",
       "    .dataframe thead th {\n",
       "        text-align: right;\n",
       "    }\n",
       "</style>\n",
       "<table border=\"1\" class=\"dataframe\">\n",
       "  <thead>\n",
       "    <tr style=\"text-align: right;\">\n",
       "      <th></th>\n",
       "      <th>asin</th>\n",
       "      <th>reviewerID</th>\n",
       "      <th>overall</th>\n",
       "      <th>year</th>\n",
       "      <th>category</th>\n",
       "      <th>text-raw</th>\n",
       "      <th>length</th>\n",
       "      <th>text</th>\n",
       "      <th>lower_text</th>\n",
       "      <th>tokens</th>\n",
       "      <th>no_stops</th>\n",
       "    </tr>\n",
       "  </thead>\n",
       "  <tbody>\n",
       "    <tr>\n",
       "      <th>0</th>\n",
       "      <td>B007JINB0W</td>\n",
       "      <td>A1P9BVW2JB1OVL</td>\n",
       "      <td>3.0</td>\n",
       "      <td>2014</td>\n",
       "      <td>Grocery &amp; Gourmet Food; Pasta &amp; Noodles; Noodles; Shirataki</td>\n",
       "      <td>Odd chewy texture: This has a odd chewy texture and not much flavor, but used as a substitute for pasta, it helps cut calories and carbs. I can tolerate it, but it isn't really tasty. Surprisingly, my husband enjoyed it more than I did. I just co...</td>\n",
       "      <td>291</td>\n",
       "      <td>Odd chewy texture: This has a odd chewy texture and not much flavor, but used as a substitute for pasta, it helps cut calories and carbs. I can tolerate it, but it isn't really tasty. Surprisingly, my husband enjoyed it more than I did. I just co...</td>\n",
       "      <td>odd chewy texture: this has a odd chewy texture and not much flavor, but used as a substitute for pasta, it helps cut calories and carbs. i can tolerate it, but it isn't really tasty. surprisingly, my husband enjoyed it more than i did. i just co...</td>\n",
       "      <td>[odd, chewy, texture, :, this, has, a, odd, chewy, texture, and, not, much, flavor, ,, but, used, as, a, substitute, for, pasta, ,, it, helps, cut, calories, and, carbs, ., i, can, tolerate, it, ,, but, it, is, n't, really, tasty, ., surprisingly...</td>\n",
       "      <td>[odd, chewy, texture, :, odd, chewy, texture, much, flavor, ,, used, substitute, pasta, ,, helps, cut, calories, carbs, ., tolerate, ,, n't, really, tasty, ., surprisingly, ,, husband, enjoyed, ., could, n't, get, past, texture, (, rubber, noodle...</td>\n",
       "    </tr>\n",
       "    <tr>\n",
       "      <th>1</th>\n",
       "      <td>B007JINB0W</td>\n",
       "      <td>A5JZ2DBS9H3F6</td>\n",
       "      <td>1.0</td>\n",
       "      <td>2016</td>\n",
       "      <td>Grocery &amp; Gourmet Food; Pasta &amp; Noodles; Noodles; Shirataki</td>\n",
       "      <td>Fishy gross: They smell of fish and have a rubbery hard to chew texture. Yuck</td>\n",
       "      <td>77</td>\n",
       "      <td>Fishy gross: They smell of fish and have a rubbery hard to chew texture. Yuck</td>\n",
       "      <td>fishy gross: they smell of fish and have a rubbery hard to chew texture. yuck</td>\n",
       "      <td>[fishy, gross, :, they, smell, of, fish, and, have, a, rubbery, hard, to, chew, texture, ., yuck]</td>\n",
       "      <td>[fishy, gross, :, smell, fish, rubbery, hard, chew, texture, ., yuck]</td>\n",
       "    </tr>\n",
       "    <tr>\n",
       "      <th>2</th>\n",
       "      <td>B007JINB0W</td>\n",
       "      <td>A3VYMBAX7IFV3B</td>\n",
       "      <td>1.0</td>\n",
       "      <td>2014</td>\n",
       "      <td>Grocery &amp; Gourmet Food; Pasta &amp; Noodles; Noodles; Shirataki</td>\n",
       "      <td>One Star: MOM DID NOT LIKE THESE</td>\n",
       "      <td>32</td>\n",
       "      <td>One Star: MOM DID NOT LIKE THESE</td>\n",
       "      <td>one star: mom did not like these</td>\n",
       "      <td>[one, star, :, mom, did, not, like, these]</td>\n",
       "      <td>[one, star, :, mom, like]</td>\n",
       "    </tr>\n",
       "    <tr>\n",
       "      <th>3</th>\n",
       "      <td>B007JINB0W</td>\n",
       "      <td>A25MLB8QXVM2LS</td>\n",
       "      <td>2.0</td>\n",
       "      <td>2018</td>\n",
       "      <td>Grocery &amp; Gourmet Food; Pasta &amp; Noodles; Noodles; Shirataki</td>\n",
       "      <td>The noodles themselves are fine. The Amazon label description claims they are certified ...: The noodles themselves are fine. The Amazon label description claims they are certified non GMO and Vegan but the actual package contains no such symbol ...</td>\n",
       "      <td>289</td>\n",
       "      <td>The noodles themselves are fine. The Amazon label description claims they are certified ...: The noodles themselves are fine. The Amazon label description claims they are certified non GMO and Vegan but the actual package contains no such symbol ...</td>\n",
       "      <td>the noodles themselves are fine. the amazon label description claims they are certified ...: the noodles themselves are fine. the amazon label description claims they are certified non gmo and vegan but the actual package contains no such symbol ...</td>\n",
       "      <td>[the, noodles, themselves, are, fine, ., the, amazon, label, description, claims, they, are, certified, ..., :, the, noodles, themselves, are, fine, ., the, amazon, label, description, claims, they, are, certified, non, gmo, and, vegan, but, the,...</td>\n",
       "      <td>[noodles, fine, ., amazon, label, description, claims, certified, ..., :, noodles, fine, ., amazon, label, description, claims, certified, non, gmo, vegan, actual, package, contains, symbol, claim, online, description, shows, .]</td>\n",
       "    </tr>\n",
       "    <tr>\n",
       "      <th>4</th>\n",
       "      <td>B007JINB0W</td>\n",
       "      <td>A2DZN9RBFVVY7L</td>\n",
       "      <td>4.0</td>\n",
       "      <td>2014</td>\n",
       "      <td>Grocery &amp; Gourmet Food; Pasta &amp; Noodles; Noodles; Shirataki</td>\n",
       "      <td>What's important to you?: So how bad do you want to restrict your calories? I gain weight easily, so I'm obsessive about counting my calories, but many times I am left not feeling very full. I read about these noodles and decided to give them a t...</td>\n",
       "      <td>882</td>\n",
       "      <td>What's important to you?: So how bad do you want to restrict your calories? I gain weight easily, so I'm obsessive about counting my calories, but many times I am left not feeling very full. I read about these noodles and decided to give them a t...</td>\n",
       "      <td>what's important to you?: so how bad do you want to restrict your calories? i gain weight easily, so i'm obsessive about counting my calories, but many times i am left not feeling very full. i read about these noodles and decided to give them a t...</td>\n",
       "      <td>[what, 's, important, to, you, ?, :, so, how, bad, do, you, want, to, restrict, your, calories, ?, i, gain, weight, easily, ,, so, i, 'm, obsessive, about, counting, my, calories, ,, but, many, times, i, am, left, not, feeling, very, full, ., i, ...</td>\n",
       "      <td>['s, important, ?, :, bad, want, restrict, calories, ?, gain, weight, easily, ,, 'm, obsessive, counting, calories, ,, many, times, left, feeling, full, ., read, noodles, decided, give, try, ., bag, ,, smell, like, fish, ,, goes, away, rinsing, ....</td>\n",
       "    </tr>\n",
       "    <tr>\n",
       "      <th>5</th>\n",
       "      <td>B007JINB0W</td>\n",
       "      <td>A26RU99Z7SCFP3</td>\n",
       "      <td>2.0</td>\n",
       "      <td>2018</td>\n",
       "      <td>Grocery &amp; Gourmet Food; Pasta &amp; Noodles; Noodles; Shirataki</td>\n",
       "      <td>Two Stars: Not good lol. Like not god at all.</td>\n",
       "      <td>45</td>\n",
       "      <td>Two Stars: Not good lol. Like not god at all.</td>\n",
       "      <td>two stars: not good lol. like not god at all.</td>\n",
       "      <td>[two, stars, :, not, good, lol, ., like, not, god, at, all, .]</td>\n",
       "      <td>[two, stars, :, good, lol, ., like, god, .]</td>\n",
       "    </tr>\n",
       "    <tr>\n",
       "      <th>6</th>\n",
       "      <td>B007JINB0W</td>\n",
       "      <td>A1GBV7MGIPNZUO</td>\n",
       "      <td>1.0</td>\n",
       "      <td>2014</td>\n",
       "      <td>Grocery &amp; Gourmet Food; Pasta &amp; Noodles; Noodles; Shirataki</td>\n",
       "      <td>AWFUL!: Inedible! Awful!  Putrid!  I would never waste a dime on this product.  I would rather starve than eat this food.</td>\n",
       "      <td>121</td>\n",
       "      <td>AWFUL!: Inedible! Awful!  Putrid!  I would never waste a dime on this product.  I would rather starve than eat this food.</td>\n",
       "      <td>awful!: inedible! awful!  putrid!  i would never waste a dime on this product.  i would rather starve than eat this food.</td>\n",
       "      <td>[awful, !, :, inedible, !, awful, !, putrid, !, i, would, never, waste, a, dime, on, this, product, ., i, would, rather, starve, than, eat, this, food, .]</td>\n",
       "      <td>[awful, !, :, inedible, !, awful, !, putrid, !, would, never, waste, dime, product, ., would, rather, starve, eat, food, .]</td>\n",
       "    </tr>\n",
       "    <tr>\n",
       "      <th>7</th>\n",
       "      <td>B007JINB0W</td>\n",
       "      <td>A1KN12F4BTXYAF</td>\n",
       "      <td>5.0</td>\n",
       "      <td>2017</td>\n",
       "      <td>Grocery &amp; Gourmet Food; Pasta &amp; Noodles; Noodles; Shirataki</td>\n",
       "      <td>Great rice alternative for me: Absolutely love it! I first bought the variety pack and the rice is my favorite. The texture of the rice is really good, it absorbs flavor so well, and is super easy and fast to prepare. Excellent option for those s...</td>\n",
       "      <td>418</td>\n",
       "      <td>Great rice alternative for me: Absolutely love it! I first bought the variety pack and the rice is my favorite. The texture of the rice is really good, it absorbs flavor so well, and is super easy and fast to prepare. Excellent option for those s...</td>\n",
       "      <td>great rice alternative for me: absolutely love it! i first bought the variety pack and the rice is my favorite. the texture of the rice is really good, it absorbs flavor so well, and is super easy and fast to prepare. excellent option for those s...</td>\n",
       "      <td>[great, rice, alternative, for, me, :, absolutely, love, it, !, i, first, bought, the, variety, pack, and, the, rice, is, my, favorite, ., the, texture, of, the, rice, is, really, good, ,, it, absorbs, flavor, so, well, ,, and, is, super, easy, a...</td>\n",
       "      <td>[great, rice, alternative, :, absolutely, love, !, first, bought, variety, pack, rice, favorite, ., texture, rice, really, good, ,, absorbs, flavor, well, ,, super, easy, fast, prepare, ., excellent, option, sensitive, carbs, ,, looking, add, hea...</td>\n",
       "    </tr>\n",
       "    <tr>\n",
       "      <th>8</th>\n",
       "      <td>B007JINB0W</td>\n",
       "      <td>A1YPLBCML4A67J</td>\n",
       "      <td>2.0</td>\n",
       "      <td>2017</td>\n",
       "      <td>Grocery &amp; Gourmet Food; Pasta &amp; Noodles; Noodles; Shirataki</td>\n",
       "      <td>Digestive issues...: Has anyone else had problems with... um... diarrhea? A wasted batch of turkey soup I can not eat without running to the biffy. So sad...</td>\n",
       "      <td>157</td>\n",
       "      <td>Digestive issues...: Has anyone else had problems with... um... diarrhea? A wasted batch of turkey soup I can not eat without running to the biffy. So sad...</td>\n",
       "      <td>digestive issues...: has anyone else had problems with... um... diarrhea? a wasted batch of turkey soup i can not eat without running to the biffy. so sad...</td>\n",
       "      <td>[digestive, issues, ..., :, has, anyone, else, had, problems, with, ..., um, ..., diarrhea, ?, a, wasted, batch, of, turkey, soup, i, can, not, eat, without, running, to, the, biffy, ., so, sad, ...]</td>\n",
       "      <td>[digestive, issues, ..., :, anyone, else, problems, ..., um, ..., diarrhea, ?, wasted, batch, turkey, soup, eat, without, running, biffy, ., sad, ...]</td>\n",
       "    </tr>\n",
       "    <tr>\n",
       "      <th>9</th>\n",
       "      <td>B007JINB0W</td>\n",
       "      <td>AQZSBXE2QA9C4</td>\n",
       "      <td>5.0</td>\n",
       "      <td>2016</td>\n",
       "      <td>Grocery &amp; Gourmet Food; Pasta &amp; Noodles; Noodles; Shirataki</td>\n",
       "      <td>I love these noodles-my diabetic husband can eat them and not ...: I love these noodles-my diabetic husband can eat them and not have them raise his blood sugar. I like them because I do not eat wheat. They have a great chewy texture.</td>\n",
       "      <td>234</td>\n",
       "      <td>I love these noodles-my diabetic husband can eat them and not ...: I love these noodles-my diabetic husband can eat them and not have them raise his blood sugar. I like them because I do not eat wheat. They have a great chewy texture.</td>\n",
       "      <td>i love these noodles-my diabetic husband can eat them and not ...: i love these noodles-my diabetic husband can eat them and not have them raise his blood sugar. i like them because i do not eat wheat. they have a great chewy texture.</td>\n",
       "      <td>[i, love, these, noodles-my, diabetic, husband, can, eat, them, and, not, ..., :, i, love, these, noodles-my, diabetic, husband, can, eat, them, and, not, have, them, raise, his, blood, sugar, ., i, like, them, because, i, do, not, eat, wheat, .,...</td>\n",
       "      <td>[love, noodles-my, diabetic, husband, eat, ..., :, love, noodles-my, diabetic, husband, eat, raise, blood, sugar, ., like, eat, wheat, ., great, chewy, texture, .]</td>\n",
       "    </tr>\n",
       "  </tbody>\n",
       "</table>\n",
       "</div>"
      ],
      "text/plain": [
       "         asin      reviewerID  overall  year  \\\n",
       "0  B007JINB0W  A1P9BVW2JB1OVL      3.0  2014   \n",
       "1  B007JINB0W   A5JZ2DBS9H3F6      1.0  2016   \n",
       "2  B007JINB0W  A3VYMBAX7IFV3B      1.0  2014   \n",
       "3  B007JINB0W  A25MLB8QXVM2LS      2.0  2018   \n",
       "4  B007JINB0W  A2DZN9RBFVVY7L      4.0  2014   \n",
       "5  B007JINB0W  A26RU99Z7SCFP3      2.0  2018   \n",
       "6  B007JINB0W  A1GBV7MGIPNZUO      1.0  2014   \n",
       "7  B007JINB0W  A1KN12F4BTXYAF      5.0  2017   \n",
       "8  B007JINB0W  A1YPLBCML4A67J      2.0  2017   \n",
       "9  B007JINB0W   AQZSBXE2QA9C4      5.0  2016   \n",
       "\n",
       "                                                      category  \\\n",
       "0  Grocery & Gourmet Food; Pasta & Noodles; Noodles; Shirataki   \n",
       "1  Grocery & Gourmet Food; Pasta & Noodles; Noodles; Shirataki   \n",
       "2  Grocery & Gourmet Food; Pasta & Noodles; Noodles; Shirataki   \n",
       "3  Grocery & Gourmet Food; Pasta & Noodles; Noodles; Shirataki   \n",
       "4  Grocery & Gourmet Food; Pasta & Noodles; Noodles; Shirataki   \n",
       "5  Grocery & Gourmet Food; Pasta & Noodles; Noodles; Shirataki   \n",
       "6  Grocery & Gourmet Food; Pasta & Noodles; Noodles; Shirataki   \n",
       "7  Grocery & Gourmet Food; Pasta & Noodles; Noodles; Shirataki   \n",
       "8  Grocery & Gourmet Food; Pasta & Noodles; Noodles; Shirataki   \n",
       "9  Grocery & Gourmet Food; Pasta & Noodles; Noodles; Shirataki   \n",
       "\n",
       "                                                                                                                                                                                                                                                    text-raw  \\\n",
       "0  Odd chewy texture: This has a odd chewy texture and not much flavor, but used as a substitute for pasta, it helps cut calories and carbs. I can tolerate it, but it isn't really tasty. Surprisingly, my husband enjoyed it more than I did. I just co...   \n",
       "1                                                                                                                                                                              Fishy gross: They smell of fish and have a rubbery hard to chew texture. Yuck   \n",
       "2                                                                                                                                                                                                                           One Star: MOM DID NOT LIKE THESE   \n",
       "3  The noodles themselves are fine. The Amazon label description claims they are certified ...: The noodles themselves are fine. The Amazon label description claims they are certified non GMO and Vegan but the actual package contains no such symbol ...   \n",
       "4  What's important to you?: So how bad do you want to restrict your calories? I gain weight easily, so I'm obsessive about counting my calories, but many times I am left not feeling very full. I read about these noodles and decided to give them a t...   \n",
       "5                                                                                                                                                                                                              Two Stars: Not good lol. Like not god at all.   \n",
       "6                                                                                                                                  AWFUL!: Inedible! Awful!  Putrid!  I would never waste a dime on this product.  I would rather starve than eat this food.   \n",
       "7  Great rice alternative for me: Absolutely love it! I first bought the variety pack and the rice is my favorite. The texture of the rice is really good, it absorbs flavor so well, and is super easy and fast to prepare. Excellent option for those s...   \n",
       "8                                                                                              Digestive issues...: Has anyone else had problems with... um... diarrhea? A wasted batch of turkey soup I can not eat without running to the biffy. So sad...   \n",
       "9                 I love these noodles-my diabetic husband can eat them and not ...: I love these noodles-my diabetic husband can eat them and not have them raise his blood sugar. I like them because I do not eat wheat. They have a great chewy texture.   \n",
       "\n",
       "   length  \\\n",
       "0     291   \n",
       "1      77   \n",
       "2      32   \n",
       "3     289   \n",
       "4     882   \n",
       "5      45   \n",
       "6     121   \n",
       "7     418   \n",
       "8     157   \n",
       "9     234   \n",
       "\n",
       "                                                                                                                                                                                                                                                        text  \\\n",
       "0  Odd chewy texture: This has a odd chewy texture and not much flavor, but used as a substitute for pasta, it helps cut calories and carbs. I can tolerate it, but it isn't really tasty. Surprisingly, my husband enjoyed it more than I did. I just co...   \n",
       "1                                                                                                                                                                              Fishy gross: They smell of fish and have a rubbery hard to chew texture. Yuck   \n",
       "2                                                                                                                                                                                                                           One Star: MOM DID NOT LIKE THESE   \n",
       "3  The noodles themselves are fine. The Amazon label description claims they are certified ...: The noodles themselves are fine. The Amazon label description claims they are certified non GMO and Vegan but the actual package contains no such symbol ...   \n",
       "4  What's important to you?: So how bad do you want to restrict your calories? I gain weight easily, so I'm obsessive about counting my calories, but many times I am left not feeling very full. I read about these noodles and decided to give them a t...   \n",
       "5                                                                                                                                                                                                              Two Stars: Not good lol. Like not god at all.   \n",
       "6                                                                                                                                  AWFUL!: Inedible! Awful!  Putrid!  I would never waste a dime on this product.  I would rather starve than eat this food.   \n",
       "7  Great rice alternative for me: Absolutely love it! I first bought the variety pack and the rice is my favorite. The texture of the rice is really good, it absorbs flavor so well, and is super easy and fast to prepare. Excellent option for those s...   \n",
       "8                                                                                              Digestive issues...: Has anyone else had problems with... um... diarrhea? A wasted batch of turkey soup I can not eat without running to the biffy. So sad...   \n",
       "9                 I love these noodles-my diabetic husband can eat them and not ...: I love these noodles-my diabetic husband can eat them and not have them raise his blood sugar. I like them because I do not eat wheat. They have a great chewy texture.   \n",
       "\n",
       "                                                                                                                                                                                                                                                  lower_text  \\\n",
       "0  odd chewy texture: this has a odd chewy texture and not much flavor, but used as a substitute for pasta, it helps cut calories and carbs. i can tolerate it, but it isn't really tasty. surprisingly, my husband enjoyed it more than i did. i just co...   \n",
       "1                                                                                                                                                                              fishy gross: they smell of fish and have a rubbery hard to chew texture. yuck   \n",
       "2                                                                                                                                                                                                                           one star: mom did not like these   \n",
       "3  the noodles themselves are fine. the amazon label description claims they are certified ...: the noodles themselves are fine. the amazon label description claims they are certified non gmo and vegan but the actual package contains no such symbol ...   \n",
       "4  what's important to you?: so how bad do you want to restrict your calories? i gain weight easily, so i'm obsessive about counting my calories, but many times i am left not feeling very full. i read about these noodles and decided to give them a t...   \n",
       "5                                                                                                                                                                                                              two stars: not good lol. like not god at all.   \n",
       "6                                                                                                                                  awful!: inedible! awful!  putrid!  i would never waste a dime on this product.  i would rather starve than eat this food.   \n",
       "7  great rice alternative for me: absolutely love it! i first bought the variety pack and the rice is my favorite. the texture of the rice is really good, it absorbs flavor so well, and is super easy and fast to prepare. excellent option for those s...   \n",
       "8                                                                                              digestive issues...: has anyone else had problems with... um... diarrhea? a wasted batch of turkey soup i can not eat without running to the biffy. so sad...   \n",
       "9                 i love these noodles-my diabetic husband can eat them and not ...: i love these noodles-my diabetic husband can eat them and not have them raise his blood sugar. i like them because i do not eat wheat. they have a great chewy texture.   \n",
       "\n",
       "                                                                                                                                                                                                                                                      tokens  \\\n",
       "0  [odd, chewy, texture, :, this, has, a, odd, chewy, texture, and, not, much, flavor, ,, but, used, as, a, substitute, for, pasta, ,, it, helps, cut, calories, and, carbs, ., i, can, tolerate, it, ,, but, it, is, n't, really, tasty, ., surprisingly...   \n",
       "1                                                                                                                                                          [fishy, gross, :, they, smell, of, fish, and, have, a, rubbery, hard, to, chew, texture, ., yuck]   \n",
       "2                                                                                                                                                                                                                 [one, star, :, mom, did, not, like, these]   \n",
       "3  [the, noodles, themselves, are, fine, ., the, amazon, label, description, claims, they, are, certified, ..., :, the, noodles, themselves, are, fine, ., the, amazon, label, description, claims, they, are, certified, non, gmo, and, vegan, but, the,...   \n",
       "4  [what, 's, important, to, you, ?, :, so, how, bad, do, you, want, to, restrict, your, calories, ?, i, gain, weight, easily, ,, so, i, 'm, obsessive, about, counting, my, calories, ,, but, many, times, i, am, left, not, feeling, very, full, ., i, ...   \n",
       "5                                                                                                                                                                                             [two, stars, :, not, good, lol, ., like, not, god, at, all, .]   \n",
       "6                                                                                                 [awful, !, :, inedible, !, awful, !, putrid, !, i, would, never, waste, a, dime, on, this, product, ., i, would, rather, starve, than, eat, this, food, .]   \n",
       "7  [great, rice, alternative, for, me, :, absolutely, love, it, !, i, first, bought, the, variety, pack, and, the, rice, is, my, favorite, ., the, texture, of, the, rice, is, really, good, ,, it, absorbs, flavor, so, well, ,, and, is, super, easy, a...   \n",
       "8                                                    [digestive, issues, ..., :, has, anyone, else, had, problems, with, ..., um, ..., diarrhea, ?, a, wasted, batch, of, turkey, soup, i, can, not, eat, without, running, to, the, biffy, ., so, sad, ...]   \n",
       "9  [i, love, these, noodles-my, diabetic, husband, can, eat, them, and, not, ..., :, i, love, these, noodles-my, diabetic, husband, can, eat, them, and, not, have, them, raise, his, blood, sugar, ., i, like, them, because, i, do, not, eat, wheat, .,...   \n",
       "\n",
       "                                                                                                                                                                                                                                                    no_stops  \n",
       "0  [odd, chewy, texture, :, odd, chewy, texture, much, flavor, ,, used, substitute, pasta, ,, helps, cut, calories, carbs, ., tolerate, ,, n't, really, tasty, ., surprisingly, ,, husband, enjoyed, ., could, n't, get, past, texture, (, rubber, noodle...  \n",
       "1                                                                                                                                                                                      [fishy, gross, :, smell, fish, rubbery, hard, chew, texture, ., yuck]  \n",
       "2                                                                                                                                                                                                                                  [one, star, :, mom, like]  \n",
       "3                       [noodles, fine, ., amazon, label, description, claims, certified, ..., :, noodles, fine, ., amazon, label, description, claims, certified, non, gmo, vegan, actual, package, contains, symbol, claim, online, description, shows, .]  \n",
       "4  ['s, important, ?, :, bad, want, restrict, calories, ?, gain, weight, easily, ,, 'm, obsessive, counting, calories, ,, many, times, left, feeling, full, ., read, noodles, decided, give, try, ., bag, ,, smell, like, fish, ,, goes, away, rinsing, ....  \n",
       "5                                                                                                                                                                                                                [two, stars, :, good, lol, ., like, god, .]  \n",
       "6                                                                                                                                [awful, !, :, inedible, !, awful, !, putrid, !, would, never, waste, dime, product, ., would, rather, starve, eat, food, .]  \n",
       "7  [great, rice, alternative, :, absolutely, love, !, first, bought, variety, pack, rice, favorite, ., texture, rice, really, good, ,, absorbs, flavor, well, ,, super, easy, fast, prepare, ., excellent, option, sensitive, carbs, ,, looking, add, hea...  \n",
       "8                                                                                                     [digestive, issues, ..., :, anyone, else, problems, ..., um, ..., diarrhea, ?, wasted, batch, turkey, soup, eat, without, running, biffy, ., sad, ...]  \n",
       "9                                                                                        [love, noodles-my, diabetic, husband, eat, ..., :, love, noodles-my, diabetic, husband, eat, raise, blood, sugar, ., like, eat, wheat, ., great, chewy, texture, .]  "
      ]
     },
     "execution_count": 29,
     "metadata": {},
     "output_type": "execute_result"
    }
   ],
   "source": [
    "## Create function to remove stop words\n",
    "def remove_stopwords(tokens):\n",
    "    # no_stops = []\n",
    "    # for token in tokens:\n",
    "    #     if token not in stop_words:\n",
    "    #         no_stops.append(token)\n",
    "\n",
    "    no_stops = [token for token in tokens if token not in stop_words]\n",
    "    \n",
    "    return no_stops\n",
    "    \n",
    "## Apply the function to the tokenized data\n",
    "\n",
    "df['no_stops'] = df['tokens'].map(remove_stopwords)\n",
    "df.head(10)\n",
    "\n",
    "\n"
   ]
  },
  {
   "cell_type": "markdown",
   "id": "a29e8234-98a9-4e5b-8994-71be25afc15d",
   "metadata": {},
   "source": [
    "## Remove Punctuation\n",
    "\n",
    "We can remove punctuation in a similar that we removed stop words.  However, we will get our list of punctuation from the built in Python string library."
   ]
  },
  {
   "cell_type": "code",
   "execution_count": 30,
   "id": "81cb2857-8b5f-4c61-99f0-3a4151f0c0b5",
   "metadata": {
    "execution": {
     "iopub.execute_input": "2024-02-08T03:09:32.063472Z",
     "iopub.status.busy": "2024-02-08T03:09:32.063370Z",
     "iopub.status.idle": "2024-02-08T03:09:32.065580Z",
     "shell.execute_reply": "2024-02-08T03:09:32.065244Z",
     "shell.execute_reply.started": "2024-02-08T03:09:32.063463Z"
    }
   },
   "outputs": [
    {
     "name": "stdout",
     "output_type": "stream",
     "text": [
      "!\"#$%&'()*+,-./:;<=>?@[\\]^_`{|}~\n"
     ]
    }
   ],
   "source": [
    "## Import built-in String Libary\n",
    "from string import punctuation\n",
    "print(punctuation)"
   ]
  },
  {
   "cell_type": "code",
   "execution_count": 31,
   "id": "2c02a29f-39f3-4671-93f8-0452c223fe61",
   "metadata": {
    "execution": {
     "iopub.execute_input": "2024-02-08T03:09:32.065987Z",
     "iopub.status.busy": "2024-02-08T03:09:32.065898Z",
     "iopub.status.idle": "2024-02-08T03:09:32.090036Z",
     "shell.execute_reply": "2024-02-08T03:09:32.089497Z",
     "shell.execute_reply.started": "2024-02-08T03:09:32.065979Z"
    }
   },
   "outputs": [
    {
     "data": {
      "text/html": [
       "<div>\n",
       "<style scoped>\n",
       "    .dataframe tbody tr th:only-of-type {\n",
       "        vertical-align: middle;\n",
       "    }\n",
       "\n",
       "    .dataframe tbody tr th {\n",
       "        vertical-align: top;\n",
       "    }\n",
       "\n",
       "    .dataframe thead th {\n",
       "        text-align: right;\n",
       "    }\n",
       "</style>\n",
       "<table border=\"1\" class=\"dataframe\">\n",
       "  <thead>\n",
       "    <tr style=\"text-align: right;\">\n",
       "      <th></th>\n",
       "      <th>asin</th>\n",
       "      <th>reviewerID</th>\n",
       "      <th>overall</th>\n",
       "      <th>year</th>\n",
       "      <th>category</th>\n",
       "      <th>text-raw</th>\n",
       "      <th>length</th>\n",
       "      <th>text</th>\n",
       "      <th>lower_text</th>\n",
       "      <th>tokens</th>\n",
       "      <th>no_stops</th>\n",
       "      <th>no_stops_no_punct</th>\n",
       "    </tr>\n",
       "  </thead>\n",
       "  <tbody>\n",
       "    <tr>\n",
       "      <th>0</th>\n",
       "      <td>B007JINB0W</td>\n",
       "      <td>A1P9BVW2JB1OVL</td>\n",
       "      <td>3.0</td>\n",
       "      <td>2014</td>\n",
       "      <td>Grocery &amp; Gourmet Food; Pasta &amp; Noodles; Noodles; Shirataki</td>\n",
       "      <td>Odd chewy texture: This has a odd chewy texture and not much flavor, but used as a substitute for pasta, it helps cut calories and carbs. I can tolerate it, but it isn't really tasty. Surprisingly, my husband enjoyed it more than I did. I just co...</td>\n",
       "      <td>291</td>\n",
       "      <td>Odd chewy texture: This has a odd chewy texture and not much flavor, but used as a substitute for pasta, it helps cut calories and carbs. I can tolerate it, but it isn't really tasty. Surprisingly, my husband enjoyed it more than I did. I just co...</td>\n",
       "      <td>odd chewy texture: this has a odd chewy texture and not much flavor, but used as a substitute for pasta, it helps cut calories and carbs. i can tolerate it, but it isn't really tasty. surprisingly, my husband enjoyed it more than i did. i just co...</td>\n",
       "      <td>[odd, chewy, texture, :, this, has, a, odd, chewy, texture, and, not, much, flavor, ,, but, used, as, a, substitute, for, pasta, ,, it, helps, cut, calories, and, carbs, ., i, can, tolerate, it, ,, but, it, is, n't, really, tasty, ., surprisingly...</td>\n",
       "      <td>[odd, chewy, texture, :, odd, chewy, texture, much, flavor, ,, used, substitute, pasta, ,, helps, cut, calories, carbs, ., tolerate, ,, n't, really, tasty, ., surprisingly, ,, husband, enjoyed, ., could, n't, get, past, texture, (, rubber, noodle...</td>\n",
       "      <td>[odd, chewy, texture, odd, chewy, texture, much, flavor, used, substitute, pasta, helps, cut, calories, carbs, tolerate, n't, really, tasty, surprisingly, husband, enjoyed, could, n't, get, past, texture, rubber, noodles]</td>\n",
       "    </tr>\n",
       "    <tr>\n",
       "      <th>1</th>\n",
       "      <td>B007JINB0W</td>\n",
       "      <td>A5JZ2DBS9H3F6</td>\n",
       "      <td>1.0</td>\n",
       "      <td>2016</td>\n",
       "      <td>Grocery &amp; Gourmet Food; Pasta &amp; Noodles; Noodles; Shirataki</td>\n",
       "      <td>Fishy gross: They smell of fish and have a rubbery hard to chew texture. Yuck</td>\n",
       "      <td>77</td>\n",
       "      <td>Fishy gross: They smell of fish and have a rubbery hard to chew texture. Yuck</td>\n",
       "      <td>fishy gross: they smell of fish and have a rubbery hard to chew texture. yuck</td>\n",
       "      <td>[fishy, gross, :, they, smell, of, fish, and, have, a, rubbery, hard, to, chew, texture, ., yuck]</td>\n",
       "      <td>[fishy, gross, :, smell, fish, rubbery, hard, chew, texture, ., yuck]</td>\n",
       "      <td>[fishy, gross, smell, fish, rubbery, hard, chew, texture, yuck]</td>\n",
       "    </tr>\n",
       "    <tr>\n",
       "      <th>2</th>\n",
       "      <td>B007JINB0W</td>\n",
       "      <td>A3VYMBAX7IFV3B</td>\n",
       "      <td>1.0</td>\n",
       "      <td>2014</td>\n",
       "      <td>Grocery &amp; Gourmet Food; Pasta &amp; Noodles; Noodles; Shirataki</td>\n",
       "      <td>One Star: MOM DID NOT LIKE THESE</td>\n",
       "      <td>32</td>\n",
       "      <td>One Star: MOM DID NOT LIKE THESE</td>\n",
       "      <td>one star: mom did not like these</td>\n",
       "      <td>[one, star, :, mom, did, not, like, these]</td>\n",
       "      <td>[one, star, :, mom, like]</td>\n",
       "      <td>[one, star, mom, like]</td>\n",
       "    </tr>\n",
       "    <tr>\n",
       "      <th>3</th>\n",
       "      <td>B007JINB0W</td>\n",
       "      <td>A25MLB8QXVM2LS</td>\n",
       "      <td>2.0</td>\n",
       "      <td>2018</td>\n",
       "      <td>Grocery &amp; Gourmet Food; Pasta &amp; Noodles; Noodles; Shirataki</td>\n",
       "      <td>The noodles themselves are fine. The Amazon label description claims they are certified ...: The noodles themselves are fine. The Amazon label description claims they are certified non GMO and Vegan but the actual package contains no such symbol ...</td>\n",
       "      <td>289</td>\n",
       "      <td>The noodles themselves are fine. The Amazon label description claims they are certified ...: The noodles themselves are fine. The Amazon label description claims they are certified non GMO and Vegan but the actual package contains no such symbol ...</td>\n",
       "      <td>the noodles themselves are fine. the amazon label description claims they are certified ...: the noodles themselves are fine. the amazon label description claims they are certified non gmo and vegan but the actual package contains no such symbol ...</td>\n",
       "      <td>[the, noodles, themselves, are, fine, ., the, amazon, label, description, claims, they, are, certified, ..., :, the, noodles, themselves, are, fine, ., the, amazon, label, description, claims, they, are, certified, non, gmo, and, vegan, but, the,...</td>\n",
       "      <td>[noodles, fine, ., amazon, label, description, claims, certified, ..., :, noodles, fine, ., amazon, label, description, claims, certified, non, gmo, vegan, actual, package, contains, symbol, claim, online, description, shows, .]</td>\n",
       "      <td>[noodles, fine, amazon, label, description, claims, certified, ..., noodles, fine, amazon, label, description, claims, certified, non, gmo, vegan, actual, package, contains, symbol, claim, online, description, shows]</td>\n",
       "    </tr>\n",
       "    <tr>\n",
       "      <th>4</th>\n",
       "      <td>B007JINB0W</td>\n",
       "      <td>A2DZN9RBFVVY7L</td>\n",
       "      <td>4.0</td>\n",
       "      <td>2014</td>\n",
       "      <td>Grocery &amp; Gourmet Food; Pasta &amp; Noodles; Noodles; Shirataki</td>\n",
       "      <td>What's important to you?: So how bad do you want to restrict your calories? I gain weight easily, so I'm obsessive about counting my calories, but many times I am left not feeling very full. I read about these noodles and decided to give them a t...</td>\n",
       "      <td>882</td>\n",
       "      <td>What's important to you?: So how bad do you want to restrict your calories? I gain weight easily, so I'm obsessive about counting my calories, but many times I am left not feeling very full. I read about these noodles and decided to give them a t...</td>\n",
       "      <td>what's important to you?: so how bad do you want to restrict your calories? i gain weight easily, so i'm obsessive about counting my calories, but many times i am left not feeling very full. i read about these noodles and decided to give them a t...</td>\n",
       "      <td>[what, 's, important, to, you, ?, :, so, how, bad, do, you, want, to, restrict, your, calories, ?, i, gain, weight, easily, ,, so, i, 'm, obsessive, about, counting, my, calories, ,, but, many, times, i, am, left, not, feeling, very, full, ., i, ...</td>\n",
       "      <td>['s, important, ?, :, bad, want, restrict, calories, ?, gain, weight, easily, ,, 'm, obsessive, counting, calories, ,, many, times, left, feeling, full, ., read, noodles, decided, give, try, ., bag, ,, smell, like, fish, ,, goes, away, rinsing, ....</td>\n",
       "      <td>['s, important, bad, want, restrict, calories, gain, weight, easily, 'm, obsessive, counting, calories, many, times, left, feeling, full, read, noodles, decided, give, try, bag, smell, like, fish, goes, away, rinsing, yes, texture, like, chewing,...</td>\n",
       "    </tr>\n",
       "    <tr>\n",
       "      <th>5</th>\n",
       "      <td>B007JINB0W</td>\n",
       "      <td>A26RU99Z7SCFP3</td>\n",
       "      <td>2.0</td>\n",
       "      <td>2018</td>\n",
       "      <td>Grocery &amp; Gourmet Food; Pasta &amp; Noodles; Noodles; Shirataki</td>\n",
       "      <td>Two Stars: Not good lol. Like not god at all.</td>\n",
       "      <td>45</td>\n",
       "      <td>Two Stars: Not good lol. Like not god at all.</td>\n",
       "      <td>two stars: not good lol. like not god at all.</td>\n",
       "      <td>[two, stars, :, not, good, lol, ., like, not, god, at, all, .]</td>\n",
       "      <td>[two, stars, :, good, lol, ., like, god, .]</td>\n",
       "      <td>[two, stars, good, lol, like, god]</td>\n",
       "    </tr>\n",
       "    <tr>\n",
       "      <th>6</th>\n",
       "      <td>B007JINB0W</td>\n",
       "      <td>A1GBV7MGIPNZUO</td>\n",
       "      <td>1.0</td>\n",
       "      <td>2014</td>\n",
       "      <td>Grocery &amp; Gourmet Food; Pasta &amp; Noodles; Noodles; Shirataki</td>\n",
       "      <td>AWFUL!: Inedible! Awful!  Putrid!  I would never waste a dime on this product.  I would rather starve than eat this food.</td>\n",
       "      <td>121</td>\n",
       "      <td>AWFUL!: Inedible! Awful!  Putrid!  I would never waste a dime on this product.  I would rather starve than eat this food.</td>\n",
       "      <td>awful!: inedible! awful!  putrid!  i would never waste a dime on this product.  i would rather starve than eat this food.</td>\n",
       "      <td>[awful, !, :, inedible, !, awful, !, putrid, !, i, would, never, waste, a, dime, on, this, product, ., i, would, rather, starve, than, eat, this, food, .]</td>\n",
       "      <td>[awful, !, :, inedible, !, awful, !, putrid, !, would, never, waste, dime, product, ., would, rather, starve, eat, food, .]</td>\n",
       "      <td>[awful, inedible, awful, putrid, would, never, waste, dime, product, would, rather, starve, eat, food]</td>\n",
       "    </tr>\n",
       "    <tr>\n",
       "      <th>7</th>\n",
       "      <td>B007JINB0W</td>\n",
       "      <td>A1KN12F4BTXYAF</td>\n",
       "      <td>5.0</td>\n",
       "      <td>2017</td>\n",
       "      <td>Grocery &amp; Gourmet Food; Pasta &amp; Noodles; Noodles; Shirataki</td>\n",
       "      <td>Great rice alternative for me: Absolutely love it! I first bought the variety pack and the rice is my favorite. The texture of the rice is really good, it absorbs flavor so well, and is super easy and fast to prepare. Excellent option for those s...</td>\n",
       "      <td>418</td>\n",
       "      <td>Great rice alternative for me: Absolutely love it! I first bought the variety pack and the rice is my favorite. The texture of the rice is really good, it absorbs flavor so well, and is super easy and fast to prepare. Excellent option for those s...</td>\n",
       "      <td>great rice alternative for me: absolutely love it! i first bought the variety pack and the rice is my favorite. the texture of the rice is really good, it absorbs flavor so well, and is super easy and fast to prepare. excellent option for those s...</td>\n",
       "      <td>[great, rice, alternative, for, me, :, absolutely, love, it, !, i, first, bought, the, variety, pack, and, the, rice, is, my, favorite, ., the, texture, of, the, rice, is, really, good, ,, it, absorbs, flavor, so, well, ,, and, is, super, easy, a...</td>\n",
       "      <td>[great, rice, alternative, :, absolutely, love, !, first, bought, variety, pack, rice, favorite, ., texture, rice, really, good, ,, absorbs, flavor, well, ,, super, easy, fast, prepare, ., excellent, option, sensitive, carbs, ,, looking, add, hea...</td>\n",
       "      <td>[great, rice, alternative, absolutely, love, first, bought, variety, pack, rice, favorite, texture, rice, really, good, absorbs, flavor, well, super, easy, fast, prepare, excellent, option, sensitive, carbs, looking, add, health, family, meals, t...</td>\n",
       "    </tr>\n",
       "    <tr>\n",
       "      <th>8</th>\n",
       "      <td>B007JINB0W</td>\n",
       "      <td>A1YPLBCML4A67J</td>\n",
       "      <td>2.0</td>\n",
       "      <td>2017</td>\n",
       "      <td>Grocery &amp; Gourmet Food; Pasta &amp; Noodles; Noodles; Shirataki</td>\n",
       "      <td>Digestive issues...: Has anyone else had problems with... um... diarrhea? A wasted batch of turkey soup I can not eat without running to the biffy. So sad...</td>\n",
       "      <td>157</td>\n",
       "      <td>Digestive issues...: Has anyone else had problems with... um... diarrhea? A wasted batch of turkey soup I can not eat without running to the biffy. So sad...</td>\n",
       "      <td>digestive issues...: has anyone else had problems with... um... diarrhea? a wasted batch of turkey soup i can not eat without running to the biffy. so sad...</td>\n",
       "      <td>[digestive, issues, ..., :, has, anyone, else, had, problems, with, ..., um, ..., diarrhea, ?, a, wasted, batch, of, turkey, soup, i, can, not, eat, without, running, to, the, biffy, ., so, sad, ...]</td>\n",
       "      <td>[digestive, issues, ..., :, anyone, else, problems, ..., um, ..., diarrhea, ?, wasted, batch, turkey, soup, eat, without, running, biffy, ., sad, ...]</td>\n",
       "      <td>[digestive, issues, ..., anyone, else, problems, ..., um, ..., diarrhea, wasted, batch, turkey, soup, eat, without, running, biffy, sad, ...]</td>\n",
       "    </tr>\n",
       "    <tr>\n",
       "      <th>9</th>\n",
       "      <td>B007JINB0W</td>\n",
       "      <td>AQZSBXE2QA9C4</td>\n",
       "      <td>5.0</td>\n",
       "      <td>2016</td>\n",
       "      <td>Grocery &amp; Gourmet Food; Pasta &amp; Noodles; Noodles; Shirataki</td>\n",
       "      <td>I love these noodles-my diabetic husband can eat them and not ...: I love these noodles-my diabetic husband can eat them and not have them raise his blood sugar. I like them because I do not eat wheat. They have a great chewy texture.</td>\n",
       "      <td>234</td>\n",
       "      <td>I love these noodles-my diabetic husband can eat them and not ...: I love these noodles-my diabetic husband can eat them and not have them raise his blood sugar. I like them because I do not eat wheat. They have a great chewy texture.</td>\n",
       "      <td>i love these noodles-my diabetic husband can eat them and not ...: i love these noodles-my diabetic husband can eat them and not have them raise his blood sugar. i like them because i do not eat wheat. they have a great chewy texture.</td>\n",
       "      <td>[i, love, these, noodles-my, diabetic, husband, can, eat, them, and, not, ..., :, i, love, these, noodles-my, diabetic, husband, can, eat, them, and, not, have, them, raise, his, blood, sugar, ., i, like, them, because, i, do, not, eat, wheat, .,...</td>\n",
       "      <td>[love, noodles-my, diabetic, husband, eat, ..., :, love, noodles-my, diabetic, husband, eat, raise, blood, sugar, ., like, eat, wheat, ., great, chewy, texture, .]</td>\n",
       "      <td>[love, noodles-my, diabetic, husband, eat, ..., love, noodles-my, diabetic, husband, eat, raise, blood, sugar, like, eat, wheat, great, chewy, texture]</td>\n",
       "    </tr>\n",
       "  </tbody>\n",
       "</table>\n",
       "</div>"
      ],
      "text/plain": [
       "         asin      reviewerID  overall  year  \\\n",
       "0  B007JINB0W  A1P9BVW2JB1OVL      3.0  2014   \n",
       "1  B007JINB0W   A5JZ2DBS9H3F6      1.0  2016   \n",
       "2  B007JINB0W  A3VYMBAX7IFV3B      1.0  2014   \n",
       "3  B007JINB0W  A25MLB8QXVM2LS      2.0  2018   \n",
       "4  B007JINB0W  A2DZN9RBFVVY7L      4.0  2014   \n",
       "5  B007JINB0W  A26RU99Z7SCFP3      2.0  2018   \n",
       "6  B007JINB0W  A1GBV7MGIPNZUO      1.0  2014   \n",
       "7  B007JINB0W  A1KN12F4BTXYAF      5.0  2017   \n",
       "8  B007JINB0W  A1YPLBCML4A67J      2.0  2017   \n",
       "9  B007JINB0W   AQZSBXE2QA9C4      5.0  2016   \n",
       "\n",
       "                                                      category  \\\n",
       "0  Grocery & Gourmet Food; Pasta & Noodles; Noodles; Shirataki   \n",
       "1  Grocery & Gourmet Food; Pasta & Noodles; Noodles; Shirataki   \n",
       "2  Grocery & Gourmet Food; Pasta & Noodles; Noodles; Shirataki   \n",
       "3  Grocery & Gourmet Food; Pasta & Noodles; Noodles; Shirataki   \n",
       "4  Grocery & Gourmet Food; Pasta & Noodles; Noodles; Shirataki   \n",
       "5  Grocery & Gourmet Food; Pasta & Noodles; Noodles; Shirataki   \n",
       "6  Grocery & Gourmet Food; Pasta & Noodles; Noodles; Shirataki   \n",
       "7  Grocery & Gourmet Food; Pasta & Noodles; Noodles; Shirataki   \n",
       "8  Grocery & Gourmet Food; Pasta & Noodles; Noodles; Shirataki   \n",
       "9  Grocery & Gourmet Food; Pasta & Noodles; Noodles; Shirataki   \n",
       "\n",
       "                                                                                                                                                                                                                                                    text-raw  \\\n",
       "0  Odd chewy texture: This has a odd chewy texture and not much flavor, but used as a substitute for pasta, it helps cut calories and carbs. I can tolerate it, but it isn't really tasty. Surprisingly, my husband enjoyed it more than I did. I just co...   \n",
       "1                                                                                                                                                                              Fishy gross: They smell of fish and have a rubbery hard to chew texture. Yuck   \n",
       "2                                                                                                                                                                                                                           One Star: MOM DID NOT LIKE THESE   \n",
       "3  The noodles themselves are fine. The Amazon label description claims they are certified ...: The noodles themselves are fine. The Amazon label description claims they are certified non GMO and Vegan but the actual package contains no such symbol ...   \n",
       "4  What's important to you?: So how bad do you want to restrict your calories? I gain weight easily, so I'm obsessive about counting my calories, but many times I am left not feeling very full. I read about these noodles and decided to give them a t...   \n",
       "5                                                                                                                                                                                                              Two Stars: Not good lol. Like not god at all.   \n",
       "6                                                                                                                                  AWFUL!: Inedible! Awful!  Putrid!  I would never waste a dime on this product.  I would rather starve than eat this food.   \n",
       "7  Great rice alternative for me: Absolutely love it! I first bought the variety pack and the rice is my favorite. The texture of the rice is really good, it absorbs flavor so well, and is super easy and fast to prepare. Excellent option for those s...   \n",
       "8                                                                                              Digestive issues...: Has anyone else had problems with... um... diarrhea? A wasted batch of turkey soup I can not eat without running to the biffy. So sad...   \n",
       "9                 I love these noodles-my diabetic husband can eat them and not ...: I love these noodles-my diabetic husband can eat them and not have them raise his blood sugar. I like them because I do not eat wheat. They have a great chewy texture.   \n",
       "\n",
       "   length  \\\n",
       "0     291   \n",
       "1      77   \n",
       "2      32   \n",
       "3     289   \n",
       "4     882   \n",
       "5      45   \n",
       "6     121   \n",
       "7     418   \n",
       "8     157   \n",
       "9     234   \n",
       "\n",
       "                                                                                                                                                                                                                                                        text  \\\n",
       "0  Odd chewy texture: This has a odd chewy texture and not much flavor, but used as a substitute for pasta, it helps cut calories and carbs. I can tolerate it, but it isn't really tasty. Surprisingly, my husband enjoyed it more than I did. I just co...   \n",
       "1                                                                                                                                                                              Fishy gross: They smell of fish and have a rubbery hard to chew texture. Yuck   \n",
       "2                                                                                                                                                                                                                           One Star: MOM DID NOT LIKE THESE   \n",
       "3  The noodles themselves are fine. The Amazon label description claims they are certified ...: The noodles themselves are fine. The Amazon label description claims they are certified non GMO and Vegan but the actual package contains no such symbol ...   \n",
       "4  What's important to you?: So how bad do you want to restrict your calories? I gain weight easily, so I'm obsessive about counting my calories, but many times I am left not feeling very full. I read about these noodles and decided to give them a t...   \n",
       "5                                                                                                                                                                                                              Two Stars: Not good lol. Like not god at all.   \n",
       "6                                                                                                                                  AWFUL!: Inedible! Awful!  Putrid!  I would never waste a dime on this product.  I would rather starve than eat this food.   \n",
       "7  Great rice alternative for me: Absolutely love it! I first bought the variety pack and the rice is my favorite. The texture of the rice is really good, it absorbs flavor so well, and is super easy and fast to prepare. Excellent option for those s...   \n",
       "8                                                                                              Digestive issues...: Has anyone else had problems with... um... diarrhea? A wasted batch of turkey soup I can not eat without running to the biffy. So sad...   \n",
       "9                 I love these noodles-my diabetic husband can eat them and not ...: I love these noodles-my diabetic husband can eat them and not have them raise his blood sugar. I like them because I do not eat wheat. They have a great chewy texture.   \n",
       "\n",
       "                                                                                                                                                                                                                                                  lower_text  \\\n",
       "0  odd chewy texture: this has a odd chewy texture and not much flavor, but used as a substitute for pasta, it helps cut calories and carbs. i can tolerate it, but it isn't really tasty. surprisingly, my husband enjoyed it more than i did. i just co...   \n",
       "1                                                                                                                                                                              fishy gross: they smell of fish and have a rubbery hard to chew texture. yuck   \n",
       "2                                                                                                                                                                                                                           one star: mom did not like these   \n",
       "3  the noodles themselves are fine. the amazon label description claims they are certified ...: the noodles themselves are fine. the amazon label description claims they are certified non gmo and vegan but the actual package contains no such symbol ...   \n",
       "4  what's important to you?: so how bad do you want to restrict your calories? i gain weight easily, so i'm obsessive about counting my calories, but many times i am left not feeling very full. i read about these noodles and decided to give them a t...   \n",
       "5                                                                                                                                                                                                              two stars: not good lol. like not god at all.   \n",
       "6                                                                                                                                  awful!: inedible! awful!  putrid!  i would never waste a dime on this product.  i would rather starve than eat this food.   \n",
       "7  great rice alternative for me: absolutely love it! i first bought the variety pack and the rice is my favorite. the texture of the rice is really good, it absorbs flavor so well, and is super easy and fast to prepare. excellent option for those s...   \n",
       "8                                                                                              digestive issues...: has anyone else had problems with... um... diarrhea? a wasted batch of turkey soup i can not eat without running to the biffy. so sad...   \n",
       "9                 i love these noodles-my diabetic husband can eat them and not ...: i love these noodles-my diabetic husband can eat them and not have them raise his blood sugar. i like them because i do not eat wheat. they have a great chewy texture.   \n",
       "\n",
       "                                                                                                                                                                                                                                                      tokens  \\\n",
       "0  [odd, chewy, texture, :, this, has, a, odd, chewy, texture, and, not, much, flavor, ,, but, used, as, a, substitute, for, pasta, ,, it, helps, cut, calories, and, carbs, ., i, can, tolerate, it, ,, but, it, is, n't, really, tasty, ., surprisingly...   \n",
       "1                                                                                                                                                          [fishy, gross, :, they, smell, of, fish, and, have, a, rubbery, hard, to, chew, texture, ., yuck]   \n",
       "2                                                                                                                                                                                                                 [one, star, :, mom, did, not, like, these]   \n",
       "3  [the, noodles, themselves, are, fine, ., the, amazon, label, description, claims, they, are, certified, ..., :, the, noodles, themselves, are, fine, ., the, amazon, label, description, claims, they, are, certified, non, gmo, and, vegan, but, the,...   \n",
       "4  [what, 's, important, to, you, ?, :, so, how, bad, do, you, want, to, restrict, your, calories, ?, i, gain, weight, easily, ,, so, i, 'm, obsessive, about, counting, my, calories, ,, but, many, times, i, am, left, not, feeling, very, full, ., i, ...   \n",
       "5                                                                                                                                                                                             [two, stars, :, not, good, lol, ., like, not, god, at, all, .]   \n",
       "6                                                                                                 [awful, !, :, inedible, !, awful, !, putrid, !, i, would, never, waste, a, dime, on, this, product, ., i, would, rather, starve, than, eat, this, food, .]   \n",
       "7  [great, rice, alternative, for, me, :, absolutely, love, it, !, i, first, bought, the, variety, pack, and, the, rice, is, my, favorite, ., the, texture, of, the, rice, is, really, good, ,, it, absorbs, flavor, so, well, ,, and, is, super, easy, a...   \n",
       "8                                                    [digestive, issues, ..., :, has, anyone, else, had, problems, with, ..., um, ..., diarrhea, ?, a, wasted, batch, of, turkey, soup, i, can, not, eat, without, running, to, the, biffy, ., so, sad, ...]   \n",
       "9  [i, love, these, noodles-my, diabetic, husband, can, eat, them, and, not, ..., :, i, love, these, noodles-my, diabetic, husband, can, eat, them, and, not, have, them, raise, his, blood, sugar, ., i, like, them, because, i, do, not, eat, wheat, .,...   \n",
       "\n",
       "                                                                                                                                                                                                                                                    no_stops  \\\n",
       "0  [odd, chewy, texture, :, odd, chewy, texture, much, flavor, ,, used, substitute, pasta, ,, helps, cut, calories, carbs, ., tolerate, ,, n't, really, tasty, ., surprisingly, ,, husband, enjoyed, ., could, n't, get, past, texture, (, rubber, noodle...   \n",
       "1                                                                                                                                                                                      [fishy, gross, :, smell, fish, rubbery, hard, chew, texture, ., yuck]   \n",
       "2                                                                                                                                                                                                                                  [one, star, :, mom, like]   \n",
       "3                       [noodles, fine, ., amazon, label, description, claims, certified, ..., :, noodles, fine, ., amazon, label, description, claims, certified, non, gmo, vegan, actual, package, contains, symbol, claim, online, description, shows, .]   \n",
       "4  ['s, important, ?, :, bad, want, restrict, calories, ?, gain, weight, easily, ,, 'm, obsessive, counting, calories, ,, many, times, left, feeling, full, ., read, noodles, decided, give, try, ., bag, ,, smell, like, fish, ,, goes, away, rinsing, ....   \n",
       "5                                                                                                                                                                                                                [two, stars, :, good, lol, ., like, god, .]   \n",
       "6                                                                                                                                [awful, !, :, inedible, !, awful, !, putrid, !, would, never, waste, dime, product, ., would, rather, starve, eat, food, .]   \n",
       "7  [great, rice, alternative, :, absolutely, love, !, first, bought, variety, pack, rice, favorite, ., texture, rice, really, good, ,, absorbs, flavor, well, ,, super, easy, fast, prepare, ., excellent, option, sensitive, carbs, ,, looking, add, hea...   \n",
       "8                                                                                                     [digestive, issues, ..., :, anyone, else, problems, ..., um, ..., diarrhea, ?, wasted, batch, turkey, soup, eat, without, running, biffy, ., sad, ...]   \n",
       "9                                                                                        [love, noodles-my, diabetic, husband, eat, ..., :, love, noodles-my, diabetic, husband, eat, raise, blood, sugar, ., like, eat, wheat, ., great, chewy, texture, .]   \n",
       "\n",
       "                                                                                                                                                                                                                                           no_stops_no_punct  \n",
       "0                              [odd, chewy, texture, odd, chewy, texture, much, flavor, used, substitute, pasta, helps, cut, calories, carbs, tolerate, n't, really, tasty, surprisingly, husband, enjoyed, could, n't, get, past, texture, rubber, noodles]  \n",
       "1                                                                                                                                                                                            [fishy, gross, smell, fish, rubbery, hard, chew, texture, yuck]  \n",
       "2                                                                                                                                                                                                                                     [one, star, mom, like]  \n",
       "3                                   [noodles, fine, amazon, label, description, claims, certified, ..., noodles, fine, amazon, label, description, claims, certified, non, gmo, vegan, actual, package, contains, symbol, claim, online, description, shows]  \n",
       "4  ['s, important, bad, want, restrict, calories, gain, weight, easily, 'm, obsessive, counting, calories, many, times, left, feeling, full, read, noodles, decided, give, try, bag, smell, like, fish, goes, away, rinsing, yes, texture, like, chewing,...  \n",
       "5                                                                                                                                                                                                                         [two, stars, good, lol, like, god]  \n",
       "6                                                                                                                                                     [awful, inedible, awful, putrid, would, never, waste, dime, product, would, rather, starve, eat, food]  \n",
       "7  [great, rice, alternative, absolutely, love, first, bought, variety, pack, rice, favorite, texture, rice, really, good, absorbs, flavor, well, super, easy, fast, prepare, excellent, option, sensitive, carbs, looking, add, health, family, meals, t...  \n",
       "8                                                                                                              [digestive, issues, ..., anyone, else, problems, ..., um, ..., diarrhea, wasted, batch, turkey, soup, eat, without, running, biffy, sad, ...]  \n",
       "9                                                                                                    [love, noodles-my, diabetic, husband, eat, ..., love, noodles-my, diabetic, husband, eat, raise, blood, sugar, like, eat, wheat, great, chewy, texture]  "
      ]
     },
     "execution_count": 31,
     "metadata": {},
     "output_type": "execute_result"
    }
   ],
   "source": [
    "## Create function to remove punctuation tokens\n",
    "\n",
    "def remove_punct(tokens):\n",
    "    no_punct = []\n",
    "    for token in tokens:\n",
    "        if token not in punctuation:\n",
    "            no_punct.append(token)\n",
    "    return no_punct\n",
    "\n",
    "## Apply the function to the tokens without punctuation\n",
    "\n",
    "df['no_stops_no_punct'] = df['no_stops'].apply(remove_punct)\n",
    "df.head(10)"
   ]
  },
  {
   "cell_type": "markdown",
   "id": "0de4d7d9-b014-493c-90f3-26af7bbbc93a",
   "metadata": {},
   "source": [
    "## Remove URLs"
   ]
  },
  {
   "cell_type": "code",
   "execution_count": 32,
   "id": "ba8f40a1-9c75-4aca-be8e-b14d370a302b",
   "metadata": {
    "execution": {
     "iopub.execute_input": "2024-02-08T03:09:32.090954Z",
     "iopub.status.busy": "2024-02-08T03:09:32.090757Z",
     "iopub.status.idle": "2024-02-08T03:09:32.118321Z",
     "shell.execute_reply": "2024-02-08T03:09:32.117189Z",
     "shell.execute_reply.started": "2024-02-08T03:09:32.090936Z"
    }
   },
   "outputs": [
    {
     "data": {
      "text/html": [
       "<div>\n",
       "<style scoped>\n",
       "    .dataframe tbody tr th:only-of-type {\n",
       "        vertical-align: middle;\n",
       "    }\n",
       "\n",
       "    .dataframe tbody tr th {\n",
       "        vertical-align: top;\n",
       "    }\n",
       "\n",
       "    .dataframe thead th {\n",
       "        text-align: right;\n",
       "    }\n",
       "</style>\n",
       "<table border=\"1\" class=\"dataframe\">\n",
       "  <thead>\n",
       "    <tr style=\"text-align: right;\">\n",
       "      <th></th>\n",
       "      <th>asin</th>\n",
       "      <th>reviewerID</th>\n",
       "      <th>overall</th>\n",
       "      <th>year</th>\n",
       "      <th>category</th>\n",
       "      <th>text-raw</th>\n",
       "      <th>length</th>\n",
       "      <th>text</th>\n",
       "      <th>lower_text</th>\n",
       "      <th>tokens</th>\n",
       "      <th>no_stops</th>\n",
       "      <th>no_stops_no_punct</th>\n",
       "    </tr>\n",
       "  </thead>\n",
       "  <tbody>\n",
       "    <tr>\n",
       "      <th>0</th>\n",
       "      <td>B007JINB0W</td>\n",
       "      <td>A1P9BVW2JB1OVL</td>\n",
       "      <td>3.0</td>\n",
       "      <td>2014</td>\n",
       "      <td>Grocery &amp; Gourmet Food; Pasta &amp; Noodles; Noodles; Shirataki</td>\n",
       "      <td>Odd chewy texture: This has a odd chewy texture and not much flavor, but used as a substitute for pasta, it helps cut calories and carbs. I can tolerate it, but it isn't really tasty. Surprisingly, my husband enjoyed it more than I did. I just co...</td>\n",
       "      <td>291</td>\n",
       "      <td>Odd chewy texture: This has a odd chewy texture and not much flavor, but used as a substitute for pasta, it helps cut calories and carbs. I can tolerate it, but it isn't really tasty. Surprisingly, my husband enjoyed it more than I did. I just co...</td>\n",
       "      <td>odd chewy texture: this has a odd chewy texture and not much flavor, but used as a substitute for pasta, it helps cut calories and carbs. i can tolerate it, but it isn't really tasty. surprisingly, my husband enjoyed it more than i did. i just co...</td>\n",
       "      <td>[odd, chewy, texture, :, this, has, a, odd, chewy, texture, and, not, much, flavor, ,, but, used, as, a, substitute, for, pasta, ,, it, helps, cut, calories, and, carbs, ., i, can, tolerate, it, ,, but, it, is, n't, really, tasty, ., surprisingly...</td>\n",
       "      <td>[odd, chewy, texture, :, odd, chewy, texture, much, flavor, ,, used, substitute, pasta, ,, helps, cut, calories, carbs, ., tolerate, ,, n't, really, tasty, ., surprisingly, ,, husband, enjoyed, ., could, n't, get, past, texture, (, rubber, noodle...</td>\n",
       "      <td>[odd, chewy, texture, odd, chewy, texture, much, flavor, used, substitute, pasta, helps, cut, calories, carbs, tolerate, n't, really, tasty, surprisingly, husband, enjoyed, could, n't, get, past, texture, rubber, noodles]</td>\n",
       "    </tr>\n",
       "    <tr>\n",
       "      <th>1</th>\n",
       "      <td>B007JINB0W</td>\n",
       "      <td>A5JZ2DBS9H3F6</td>\n",
       "      <td>1.0</td>\n",
       "      <td>2016</td>\n",
       "      <td>Grocery &amp; Gourmet Food; Pasta &amp; Noodles; Noodles; Shirataki</td>\n",
       "      <td>Fishy gross: They smell of fish and have a rubbery hard to chew texture. Yuck</td>\n",
       "      <td>77</td>\n",
       "      <td>Fishy gross: They smell of fish and have a rubbery hard to chew texture. Yuck</td>\n",
       "      <td>fishy gross: they smell of fish and have a rubbery hard to chew texture. yuck</td>\n",
       "      <td>[fishy, gross, :, they, smell, of, fish, and, have, a, rubbery, hard, to, chew, texture, ., yuck]</td>\n",
       "      <td>[fishy, gross, :, smell, fish, rubbery, hard, chew, texture, ., yuck]</td>\n",
       "      <td>[fishy, gross, smell, fish, rubbery, hard, chew, texture, yuck]</td>\n",
       "    </tr>\n",
       "    <tr>\n",
       "      <th>2</th>\n",
       "      <td>B007JINB0W</td>\n",
       "      <td>A3VYMBAX7IFV3B</td>\n",
       "      <td>1.0</td>\n",
       "      <td>2014</td>\n",
       "      <td>Grocery &amp; Gourmet Food; Pasta &amp; Noodles; Noodles; Shirataki</td>\n",
       "      <td>One Star: MOM DID NOT LIKE THESE</td>\n",
       "      <td>32</td>\n",
       "      <td>One Star: MOM DID NOT LIKE THESE</td>\n",
       "      <td>one star: mom did not like these</td>\n",
       "      <td>[one, star, :, mom, did, not, like, these]</td>\n",
       "      <td>[one, star, :, mom, like]</td>\n",
       "      <td>[one, star, mom, like]</td>\n",
       "    </tr>\n",
       "    <tr>\n",
       "      <th>3</th>\n",
       "      <td>B007JINB0W</td>\n",
       "      <td>A25MLB8QXVM2LS</td>\n",
       "      <td>2.0</td>\n",
       "      <td>2018</td>\n",
       "      <td>Grocery &amp; Gourmet Food; Pasta &amp; Noodles; Noodles; Shirataki</td>\n",
       "      <td>The noodles themselves are fine. The Amazon label description claims they are certified ...: The noodles themselves are fine. The Amazon label description claims they are certified non GMO and Vegan but the actual package contains no such symbol ...</td>\n",
       "      <td>289</td>\n",
       "      <td>The noodles themselves are fine. The Amazon label description claims they are certified ...: The noodles themselves are fine. The Amazon label description claims they are certified non GMO and Vegan but the actual package contains no such symbol ...</td>\n",
       "      <td>the noodles themselves are fine. the amazon label description claims they are certified ...: the noodles themselves are fine. the amazon label description claims they are certified non gmo and vegan but the actual package contains no such symbol ...</td>\n",
       "      <td>[the, noodles, themselves, are, fine, ., the, amazon, label, description, claims, they, are, certified, ..., :, the, noodles, themselves, are, fine, ., the, amazon, label, description, claims, they, are, certified, non, gmo, and, vegan, but, the,...</td>\n",
       "      <td>[noodles, fine, ., amazon, label, description, claims, certified, ..., :, noodles, fine, ., amazon, label, description, claims, certified, non, gmo, vegan, actual, package, contains, symbol, claim, online, description, shows, .]</td>\n",
       "      <td>[noodles, fine, amazon, label, description, claims, certified, ..., noodles, fine, amazon, label, description, claims, certified, non, gmo, vegan, actual, package, contains, symbol, claim, online, description, shows]</td>\n",
       "    </tr>\n",
       "    <tr>\n",
       "      <th>4</th>\n",
       "      <td>B007JINB0W</td>\n",
       "      <td>A2DZN9RBFVVY7L</td>\n",
       "      <td>4.0</td>\n",
       "      <td>2014</td>\n",
       "      <td>Grocery &amp; Gourmet Food; Pasta &amp; Noodles; Noodles; Shirataki</td>\n",
       "      <td>What's important to you?: So how bad do you want to restrict your calories? I gain weight easily, so I'm obsessive about counting my calories, but many times I am left not feeling very full. I read about these noodles and decided to give them a t...</td>\n",
       "      <td>882</td>\n",
       "      <td>What's important to you?: So how bad do you want to restrict your calories? I gain weight easily, so I'm obsessive about counting my calories, but many times I am left not feeling very full. I read about these noodles and decided to give them a t...</td>\n",
       "      <td>what's important to you?: so how bad do you want to restrict your calories? i gain weight easily, so i'm obsessive about counting my calories, but many times i am left not feeling very full. i read about these noodles and decided to give them a t...</td>\n",
       "      <td>[what, 's, important, to, you, ?, :, so, how, bad, do, you, want, to, restrict, your, calories, ?, i, gain, weight, easily, ,, so, i, 'm, obsessive, about, counting, my, calories, ,, but, many, times, i, am, left, not, feeling, very, full, ., i, ...</td>\n",
       "      <td>['s, important, ?, :, bad, want, restrict, calories, ?, gain, weight, easily, ,, 'm, obsessive, counting, calories, ,, many, times, left, feeling, full, ., read, noodles, decided, give, try, ., bag, ,, smell, like, fish, ,, goes, away, rinsing, ....</td>\n",
       "      <td>['s, important, bad, want, restrict, calories, gain, weight, easily, 'm, obsessive, counting, calories, many, times, left, feeling, full, read, noodles, decided, give, try, bag, smell, like, fish, goes, away, rinsing, yes, texture, like, chewing,...</td>\n",
       "    </tr>\n",
       "    <tr>\n",
       "      <th>5</th>\n",
       "      <td>B007JINB0W</td>\n",
       "      <td>A26RU99Z7SCFP3</td>\n",
       "      <td>2.0</td>\n",
       "      <td>2018</td>\n",
       "      <td>Grocery &amp; Gourmet Food; Pasta &amp; Noodles; Noodles; Shirataki</td>\n",
       "      <td>Two Stars: Not good lol. Like not god at all.</td>\n",
       "      <td>45</td>\n",
       "      <td>Two Stars: Not good lol. Like not god at all.</td>\n",
       "      <td>two stars: not good lol. like not god at all.</td>\n",
       "      <td>[two, stars, :, not, good, lol, ., like, not, god, at, all, .]</td>\n",
       "      <td>[two, stars, :, good, lol, ., like, god, .]</td>\n",
       "      <td>[two, stars, good, lol, like, god]</td>\n",
       "    </tr>\n",
       "    <tr>\n",
       "      <th>6</th>\n",
       "      <td>B007JINB0W</td>\n",
       "      <td>A1GBV7MGIPNZUO</td>\n",
       "      <td>1.0</td>\n",
       "      <td>2014</td>\n",
       "      <td>Grocery &amp; Gourmet Food; Pasta &amp; Noodles; Noodles; Shirataki</td>\n",
       "      <td>AWFUL!: Inedible! Awful!  Putrid!  I would never waste a dime on this product.  I would rather starve than eat this food.</td>\n",
       "      <td>121</td>\n",
       "      <td>AWFUL!: Inedible! Awful!  Putrid!  I would never waste a dime on this product.  I would rather starve than eat this food.</td>\n",
       "      <td>awful!: inedible! awful!  putrid!  i would never waste a dime on this product.  i would rather starve than eat this food.</td>\n",
       "      <td>[awful, !, :, inedible, !, awful, !, putrid, !, i, would, never, waste, a, dime, on, this, product, ., i, would, rather, starve, than, eat, this, food, .]</td>\n",
       "      <td>[awful, !, :, inedible, !, awful, !, putrid, !, would, never, waste, dime, product, ., would, rather, starve, eat, food, .]</td>\n",
       "      <td>[awful, inedible, awful, putrid, would, never, waste, dime, product, would, rather, starve, eat, food]</td>\n",
       "    </tr>\n",
       "    <tr>\n",
       "      <th>7</th>\n",
       "      <td>B007JINB0W</td>\n",
       "      <td>A1KN12F4BTXYAF</td>\n",
       "      <td>5.0</td>\n",
       "      <td>2017</td>\n",
       "      <td>Grocery &amp; Gourmet Food; Pasta &amp; Noodles; Noodles; Shirataki</td>\n",
       "      <td>Great rice alternative for me: Absolutely love it! I first bought the variety pack and the rice is my favorite. The texture of the rice is really good, it absorbs flavor so well, and is super easy and fast to prepare. Excellent option for those s...</td>\n",
       "      <td>418</td>\n",
       "      <td>Great rice alternative for me: Absolutely love it! I first bought the variety pack and the rice is my favorite. The texture of the rice is really good, it absorbs flavor so well, and is super easy and fast to prepare. Excellent option for those s...</td>\n",
       "      <td>great rice alternative for me: absolutely love it! i first bought the variety pack and the rice is my favorite. the texture of the rice is really good, it absorbs flavor so well, and is super easy and fast to prepare. excellent option for those s...</td>\n",
       "      <td>[great, rice, alternative, for, me, :, absolutely, love, it, !, i, first, bought, the, variety, pack, and, the, rice, is, my, favorite, ., the, texture, of, the, rice, is, really, good, ,, it, absorbs, flavor, so, well, ,, and, is, super, easy, a...</td>\n",
       "      <td>[great, rice, alternative, :, absolutely, love, !, first, bought, variety, pack, rice, favorite, ., texture, rice, really, good, ,, absorbs, flavor, well, ,, super, easy, fast, prepare, ., excellent, option, sensitive, carbs, ,, looking, add, hea...</td>\n",
       "      <td>[great, rice, alternative, absolutely, love, first, bought, variety, pack, rice, favorite, texture, rice, really, good, absorbs, flavor, well, super, easy, fast, prepare, excellent, option, sensitive, carbs, looking, add, health, family, meals, t...</td>\n",
       "    </tr>\n",
       "    <tr>\n",
       "      <th>8</th>\n",
       "      <td>B007JINB0W</td>\n",
       "      <td>A1YPLBCML4A67J</td>\n",
       "      <td>2.0</td>\n",
       "      <td>2017</td>\n",
       "      <td>Grocery &amp; Gourmet Food; Pasta &amp; Noodles; Noodles; Shirataki</td>\n",
       "      <td>Digestive issues...: Has anyone else had problems with... um... diarrhea? A wasted batch of turkey soup I can not eat without running to the biffy. So sad...</td>\n",
       "      <td>157</td>\n",
       "      <td>Digestive issues...: Has anyone else had problems with... um... diarrhea? A wasted batch of turkey soup I can not eat without running to the biffy. So sad...</td>\n",
       "      <td>digestive issues...: has anyone else had problems with... um... diarrhea? a wasted batch of turkey soup i can not eat without running to the biffy. so sad...</td>\n",
       "      <td>[digestive, issues, ..., :, has, anyone, else, had, problems, with, ..., um, ..., diarrhea, ?, a, wasted, batch, of, turkey, soup, i, can, not, eat, without, running, to, the, biffy, ., so, sad, ...]</td>\n",
       "      <td>[digestive, issues, ..., :, anyone, else, problems, ..., um, ..., diarrhea, ?, wasted, batch, turkey, soup, eat, without, running, biffy, ., sad, ...]</td>\n",
       "      <td>[digestive, issues, ..., anyone, else, problems, ..., um, ..., diarrhea, wasted, batch, turkey, soup, eat, without, running, biffy, sad, ...]</td>\n",
       "    </tr>\n",
       "    <tr>\n",
       "      <th>9</th>\n",
       "      <td>B007JINB0W</td>\n",
       "      <td>AQZSBXE2QA9C4</td>\n",
       "      <td>5.0</td>\n",
       "      <td>2016</td>\n",
       "      <td>Grocery &amp; Gourmet Food; Pasta &amp; Noodles; Noodles; Shirataki</td>\n",
       "      <td>I love these noodles-my diabetic husband can eat them and not ...: I love these noodles-my diabetic husband can eat them and not have them raise his blood sugar. I like them because I do not eat wheat. They have a great chewy texture.</td>\n",
       "      <td>234</td>\n",
       "      <td>I love these noodles-my diabetic husband can eat them and not ...: I love these noodles-my diabetic husband can eat them and not have them raise his blood sugar. I like them because I do not eat wheat. They have a great chewy texture.</td>\n",
       "      <td>i love these noodles-my diabetic husband can eat them and not ...: i love these noodles-my diabetic husband can eat them and not have them raise his blood sugar. i like them because i do not eat wheat. they have a great chewy texture.</td>\n",
       "      <td>[i, love, these, noodles-my, diabetic, husband, can, eat, them, and, not, ..., :, i, love, these, noodles-my, diabetic, husband, can, eat, them, and, not, have, them, raise, his, blood, sugar, ., i, like, them, because, i, do, not, eat, wheat, .,...</td>\n",
       "      <td>[love, noodles-my, diabetic, husband, eat, ..., :, love, noodles-my, diabetic, husband, eat, raise, blood, sugar, ., like, eat, wheat, ., great, chewy, texture, .]</td>\n",
       "      <td>[love, noodles-my, diabetic, husband, eat, ..., love, noodles-my, diabetic, husband, eat, raise, blood, sugar, like, eat, wheat, great, chewy, texture]</td>\n",
       "    </tr>\n",
       "  </tbody>\n",
       "</table>\n",
       "</div>"
      ],
      "text/plain": [
       "         asin      reviewerID  overall  year  \\\n",
       "0  B007JINB0W  A1P9BVW2JB1OVL      3.0  2014   \n",
       "1  B007JINB0W   A5JZ2DBS9H3F6      1.0  2016   \n",
       "2  B007JINB0W  A3VYMBAX7IFV3B      1.0  2014   \n",
       "3  B007JINB0W  A25MLB8QXVM2LS      2.0  2018   \n",
       "4  B007JINB0W  A2DZN9RBFVVY7L      4.0  2014   \n",
       "5  B007JINB0W  A26RU99Z7SCFP3      2.0  2018   \n",
       "6  B007JINB0W  A1GBV7MGIPNZUO      1.0  2014   \n",
       "7  B007JINB0W  A1KN12F4BTXYAF      5.0  2017   \n",
       "8  B007JINB0W  A1YPLBCML4A67J      2.0  2017   \n",
       "9  B007JINB0W   AQZSBXE2QA9C4      5.0  2016   \n",
       "\n",
       "                                                      category  \\\n",
       "0  Grocery & Gourmet Food; Pasta & Noodles; Noodles; Shirataki   \n",
       "1  Grocery & Gourmet Food; Pasta & Noodles; Noodles; Shirataki   \n",
       "2  Grocery & Gourmet Food; Pasta & Noodles; Noodles; Shirataki   \n",
       "3  Grocery & Gourmet Food; Pasta & Noodles; Noodles; Shirataki   \n",
       "4  Grocery & Gourmet Food; Pasta & Noodles; Noodles; Shirataki   \n",
       "5  Grocery & Gourmet Food; Pasta & Noodles; Noodles; Shirataki   \n",
       "6  Grocery & Gourmet Food; Pasta & Noodles; Noodles; Shirataki   \n",
       "7  Grocery & Gourmet Food; Pasta & Noodles; Noodles; Shirataki   \n",
       "8  Grocery & Gourmet Food; Pasta & Noodles; Noodles; Shirataki   \n",
       "9  Grocery & Gourmet Food; Pasta & Noodles; Noodles; Shirataki   \n",
       "\n",
       "                                                                                                                                                                                                                                                    text-raw  \\\n",
       "0  Odd chewy texture: This has a odd chewy texture and not much flavor, but used as a substitute for pasta, it helps cut calories and carbs. I can tolerate it, but it isn't really tasty. Surprisingly, my husband enjoyed it more than I did. I just co...   \n",
       "1                                                                                                                                                                              Fishy gross: They smell of fish and have a rubbery hard to chew texture. Yuck   \n",
       "2                                                                                                                                                                                                                           One Star: MOM DID NOT LIKE THESE   \n",
       "3  The noodles themselves are fine. The Amazon label description claims they are certified ...: The noodles themselves are fine. The Amazon label description claims they are certified non GMO and Vegan but the actual package contains no such symbol ...   \n",
       "4  What's important to you?: So how bad do you want to restrict your calories? I gain weight easily, so I'm obsessive about counting my calories, but many times I am left not feeling very full. I read about these noodles and decided to give them a t...   \n",
       "5                                                                                                                                                                                                              Two Stars: Not good lol. Like not god at all.   \n",
       "6                                                                                                                                  AWFUL!: Inedible! Awful!  Putrid!  I would never waste a dime on this product.  I would rather starve than eat this food.   \n",
       "7  Great rice alternative for me: Absolutely love it! I first bought the variety pack and the rice is my favorite. The texture of the rice is really good, it absorbs flavor so well, and is super easy and fast to prepare. Excellent option for those s...   \n",
       "8                                                                                              Digestive issues...: Has anyone else had problems with... um... diarrhea? A wasted batch of turkey soup I can not eat without running to the biffy. So sad...   \n",
       "9                 I love these noodles-my diabetic husband can eat them and not ...: I love these noodles-my diabetic husband can eat them and not have them raise his blood sugar. I like them because I do not eat wheat. They have a great chewy texture.   \n",
       "\n",
       "   length  \\\n",
       "0     291   \n",
       "1      77   \n",
       "2      32   \n",
       "3     289   \n",
       "4     882   \n",
       "5      45   \n",
       "6     121   \n",
       "7     418   \n",
       "8     157   \n",
       "9     234   \n",
       "\n",
       "                                                                                                                                                                                                                                                        text  \\\n",
       "0  Odd chewy texture: This has a odd chewy texture and not much flavor, but used as a substitute for pasta, it helps cut calories and carbs. I can tolerate it, but it isn't really tasty. Surprisingly, my husband enjoyed it more than I did. I just co...   \n",
       "1                                                                                                                                                                              Fishy gross: They smell of fish and have a rubbery hard to chew texture. Yuck   \n",
       "2                                                                                                                                                                                                                           One Star: MOM DID NOT LIKE THESE   \n",
       "3  The noodles themselves are fine. The Amazon label description claims they are certified ...: The noodles themselves are fine. The Amazon label description claims they are certified non GMO and Vegan but the actual package contains no such symbol ...   \n",
       "4  What's important to you?: So how bad do you want to restrict your calories? I gain weight easily, so I'm obsessive about counting my calories, but many times I am left not feeling very full. I read about these noodles and decided to give them a t...   \n",
       "5                                                                                                                                                                                                              Two Stars: Not good lol. Like not god at all.   \n",
       "6                                                                                                                                  AWFUL!: Inedible! Awful!  Putrid!  I would never waste a dime on this product.  I would rather starve than eat this food.   \n",
       "7  Great rice alternative for me: Absolutely love it! I first bought the variety pack and the rice is my favorite. The texture of the rice is really good, it absorbs flavor so well, and is super easy and fast to prepare. Excellent option for those s...   \n",
       "8                                                                                              Digestive issues...: Has anyone else had problems with... um... diarrhea? A wasted batch of turkey soup I can not eat without running to the biffy. So sad...   \n",
       "9                 I love these noodles-my diabetic husband can eat them and not ...: I love these noodles-my diabetic husband can eat them and not have them raise his blood sugar. I like them because I do not eat wheat. They have a great chewy texture.   \n",
       "\n",
       "                                                                                                                                                                                                                                                  lower_text  \\\n",
       "0  odd chewy texture: this has a odd chewy texture and not much flavor, but used as a substitute for pasta, it helps cut calories and carbs. i can tolerate it, but it isn't really tasty. surprisingly, my husband enjoyed it more than i did. i just co...   \n",
       "1                                                                                                                                                                              fishy gross: they smell of fish and have a rubbery hard to chew texture. yuck   \n",
       "2                                                                                                                                                                                                                           one star: mom did not like these   \n",
       "3  the noodles themselves are fine. the amazon label description claims they are certified ...: the noodles themselves are fine. the amazon label description claims they are certified non gmo and vegan but the actual package contains no such symbol ...   \n",
       "4  what's important to you?: so how bad do you want to restrict your calories? i gain weight easily, so i'm obsessive about counting my calories, but many times i am left not feeling very full. i read about these noodles and decided to give them a t...   \n",
       "5                                                                                                                                                                                                              two stars: not good lol. like not god at all.   \n",
       "6                                                                                                                                  awful!: inedible! awful!  putrid!  i would never waste a dime on this product.  i would rather starve than eat this food.   \n",
       "7  great rice alternative for me: absolutely love it! i first bought the variety pack and the rice is my favorite. the texture of the rice is really good, it absorbs flavor so well, and is super easy and fast to prepare. excellent option for those s...   \n",
       "8                                                                                              digestive issues...: has anyone else had problems with... um... diarrhea? a wasted batch of turkey soup i can not eat without running to the biffy. so sad...   \n",
       "9                 i love these noodles-my diabetic husband can eat them and not ...: i love these noodles-my diabetic husband can eat them and not have them raise his blood sugar. i like them because i do not eat wheat. they have a great chewy texture.   \n",
       "\n",
       "                                                                                                                                                                                                                                                      tokens  \\\n",
       "0  [odd, chewy, texture, :, this, has, a, odd, chewy, texture, and, not, much, flavor, ,, but, used, as, a, substitute, for, pasta, ,, it, helps, cut, calories, and, carbs, ., i, can, tolerate, it, ,, but, it, is, n't, really, tasty, ., surprisingly...   \n",
       "1                                                                                                                                                          [fishy, gross, :, they, smell, of, fish, and, have, a, rubbery, hard, to, chew, texture, ., yuck]   \n",
       "2                                                                                                                                                                                                                 [one, star, :, mom, did, not, like, these]   \n",
       "3  [the, noodles, themselves, are, fine, ., the, amazon, label, description, claims, they, are, certified, ..., :, the, noodles, themselves, are, fine, ., the, amazon, label, description, claims, they, are, certified, non, gmo, and, vegan, but, the,...   \n",
       "4  [what, 's, important, to, you, ?, :, so, how, bad, do, you, want, to, restrict, your, calories, ?, i, gain, weight, easily, ,, so, i, 'm, obsessive, about, counting, my, calories, ,, but, many, times, i, am, left, not, feeling, very, full, ., i, ...   \n",
       "5                                                                                                                                                                                             [two, stars, :, not, good, lol, ., like, not, god, at, all, .]   \n",
       "6                                                                                                 [awful, !, :, inedible, !, awful, !, putrid, !, i, would, never, waste, a, dime, on, this, product, ., i, would, rather, starve, than, eat, this, food, .]   \n",
       "7  [great, rice, alternative, for, me, :, absolutely, love, it, !, i, first, bought, the, variety, pack, and, the, rice, is, my, favorite, ., the, texture, of, the, rice, is, really, good, ,, it, absorbs, flavor, so, well, ,, and, is, super, easy, a...   \n",
       "8                                                    [digestive, issues, ..., :, has, anyone, else, had, problems, with, ..., um, ..., diarrhea, ?, a, wasted, batch, of, turkey, soup, i, can, not, eat, without, running, to, the, biffy, ., so, sad, ...]   \n",
       "9  [i, love, these, noodles-my, diabetic, husband, can, eat, them, and, not, ..., :, i, love, these, noodles-my, diabetic, husband, can, eat, them, and, not, have, them, raise, his, blood, sugar, ., i, like, them, because, i, do, not, eat, wheat, .,...   \n",
       "\n",
       "                                                                                                                                                                                                                                                    no_stops  \\\n",
       "0  [odd, chewy, texture, :, odd, chewy, texture, much, flavor, ,, used, substitute, pasta, ,, helps, cut, calories, carbs, ., tolerate, ,, n't, really, tasty, ., surprisingly, ,, husband, enjoyed, ., could, n't, get, past, texture, (, rubber, noodle...   \n",
       "1                                                                                                                                                                                      [fishy, gross, :, smell, fish, rubbery, hard, chew, texture, ., yuck]   \n",
       "2                                                                                                                                                                                                                                  [one, star, :, mom, like]   \n",
       "3                       [noodles, fine, ., amazon, label, description, claims, certified, ..., :, noodles, fine, ., amazon, label, description, claims, certified, non, gmo, vegan, actual, package, contains, symbol, claim, online, description, shows, .]   \n",
       "4  ['s, important, ?, :, bad, want, restrict, calories, ?, gain, weight, easily, ,, 'm, obsessive, counting, calories, ,, many, times, left, feeling, full, ., read, noodles, decided, give, try, ., bag, ,, smell, like, fish, ,, goes, away, rinsing, ....   \n",
       "5                                                                                                                                                                                                                [two, stars, :, good, lol, ., like, god, .]   \n",
       "6                                                                                                                                [awful, !, :, inedible, !, awful, !, putrid, !, would, never, waste, dime, product, ., would, rather, starve, eat, food, .]   \n",
       "7  [great, rice, alternative, :, absolutely, love, !, first, bought, variety, pack, rice, favorite, ., texture, rice, really, good, ,, absorbs, flavor, well, ,, super, easy, fast, prepare, ., excellent, option, sensitive, carbs, ,, looking, add, hea...   \n",
       "8                                                                                                     [digestive, issues, ..., :, anyone, else, problems, ..., um, ..., diarrhea, ?, wasted, batch, turkey, soup, eat, without, running, biffy, ., sad, ...]   \n",
       "9                                                                                        [love, noodles-my, diabetic, husband, eat, ..., :, love, noodles-my, diabetic, husband, eat, raise, blood, sugar, ., like, eat, wheat, ., great, chewy, texture, .]   \n",
       "\n",
       "                                                                                                                                                                                                                                           no_stops_no_punct  \n",
       "0                              [odd, chewy, texture, odd, chewy, texture, much, flavor, used, substitute, pasta, helps, cut, calories, carbs, tolerate, n't, really, tasty, surprisingly, husband, enjoyed, could, n't, get, past, texture, rubber, noodles]  \n",
       "1                                                                                                                                                                                            [fishy, gross, smell, fish, rubbery, hard, chew, texture, yuck]  \n",
       "2                                                                                                                                                                                                                                     [one, star, mom, like]  \n",
       "3                                   [noodles, fine, amazon, label, description, claims, certified, ..., noodles, fine, amazon, label, description, claims, certified, non, gmo, vegan, actual, package, contains, symbol, claim, online, description, shows]  \n",
       "4  ['s, important, bad, want, restrict, calories, gain, weight, easily, 'm, obsessive, counting, calories, many, times, left, feeling, full, read, noodles, decided, give, try, bag, smell, like, fish, goes, away, rinsing, yes, texture, like, chewing,...  \n",
       "5                                                                                                                                                                                                                         [two, stars, good, lol, like, god]  \n",
       "6                                                                                                                                                     [awful, inedible, awful, putrid, would, never, waste, dime, product, would, rather, starve, eat, food]  \n",
       "7  [great, rice, alternative, absolutely, love, first, bought, variety, pack, rice, favorite, texture, rice, really, good, absorbs, flavor, well, super, easy, fast, prepare, excellent, option, sensitive, carbs, looking, add, health, family, meals, t...  \n",
       "8                                                                                                              [digestive, issues, ..., anyone, else, problems, ..., um, ..., diarrhea, wasted, batch, turkey, soup, eat, without, running, biffy, sad, ...]  \n",
       "9                                                                                                    [love, noodles-my, diabetic, husband, eat, ..., love, noodles-my, diabetic, husband, eat, raise, blood, sugar, like, eat, wheat, great, chewy, texture]  "
      ]
     },
     "execution_count": 32,
     "metadata": {},
     "output_type": "execute_result"
    }
   ],
   "source": [
    "## [v3 For Loop - Continue] Define function to remove URLs\n",
    "def remove_urls(token_list):\n",
    "    no_urls = []\n",
    "    for token in token_list:\n",
    "        if ('http' in token) | ('www' in token):\n",
    "            continue\n",
    "        no_urls.append(token)\n",
    "    return no_urls\n",
    "\n",
    "## Remove URLs from no_stops_no_punct\n",
    "df['no_stops_no_punct'] = df['no_stops_no_punct'].apply(remove_urls)\n",
    "df.head(10)\n"
   ]
  },
  {
   "cell_type": "markdown",
   "id": "beac0458-1764-4f82-ba99-0dd7ee47a16e",
   "metadata": {},
   "source": [
    "## Results\n",
    "\n",
    "Note how many fewer tokens we have in our `no_stops_no_punct` tokens than in our original.  However, some information was lost, but a lot was also retained.  \n",
    "\n",
    "Normalization is a huge part of the NLP process and is always a balance between reducing the size of our vocabulary and therefor simplifying our models, and retaining enough information for the model to extract some meaningful patterns in the texts.  \n",
    "\n",
    "There are a lot of choices here to make."
   ]
  },
  {
   "cell_type": "markdown",
   "id": "a3ed88e6-d9b1-4a54-943c-76d26209f01b",
   "metadata": {},
   "source": [
    "# Normalizing Text with spaCy\n",
    "\n",
    "The spaCy Python package provides text processing pipelines that can do many of these operations, plus much more complicated processing, very fast and in many fewer steps.  For this reason it is a very popular tool.  \n",
    "\n",
    "It utilizes pretrained language models that can recognize things like parts of speech and named entities (people, specific places, currency, etc.)\n",
    "\n",
    "spaCy was not included in your original dojo_env, so you will need to install if if you have not already.\n",
    "\n",
    "We will also download the pretrained english language model trained on millions of web documents.  We will use the small sized one for efficiency."
   ]
  },
  {
   "cell_type": "code",
   "execution_count": 33,
   "id": "9a3e87dc-befc-4cc1-b970-75fcac2026fc",
   "metadata": {
    "execution": {
     "iopub.execute_input": "2024-02-08T03:09:32.119202Z",
     "iopub.status.busy": "2024-02-08T03:09:32.119084Z",
     "iopub.status.idle": "2024-02-08T03:09:38.505973Z",
     "shell.execute_reply": "2024-02-08T03:09:38.505631Z",
     "shell.execute_reply.started": "2024-02-08T03:09:32.119192Z"
    }
   },
   "outputs": [],
   "source": [
    "## Install spacy if necessary\n",
    "#!pip install spacy\n",
    "\n",
    "import spacy\n",
    "\n",
    "## Download the English small-sized model trained on web documents if necessary\n",
    "# spacy.cli.download('en_core_web_sm')"
   ]
  },
  {
   "cell_type": "markdown",
   "id": "5b5a50f2",
   "metadata": {},
   "source": [
    "## The spaCy model"
   ]
  },
  {
   "cell_type": "code",
   "execution_count": 34,
   "id": "416eaea3-add2-481f-b77e-79c67901f2ae",
   "metadata": {
    "execution": {
     "iopub.execute_input": "2024-02-08T03:09:38.506670Z",
     "iopub.status.busy": "2024-02-08T03:09:38.506493Z",
     "iopub.status.idle": "2024-02-08T03:09:38.825584Z",
     "shell.execute_reply": "2024-02-08T03:09:38.825270Z",
     "shell.execute_reply.started": "2024-02-08T03:09:38.506660Z"
    }
   },
   "outputs": [
    {
     "data": {
      "text/plain": [
       "['tok2vec', 'tagger', 'parser', 'attribute_ruler', 'lemmatizer']"
      ]
     },
     "execution_count": 34,
     "metadata": {},
     "output_type": "execute_result"
    }
   ],
   "source": [
    "## Load the model.  Disable Named Entity Recognizer (too slow)\n",
    "nlp_model = spacy.load('en_core_web_sm', disable='ner')\n",
    "\n",
    "## Display the names of each tranformer pipe\n",
    "nlp_model.pipe_names"
   ]
  },
  {
   "cell_type": "markdown",
   "id": "3ec96eaf",
   "metadata": {},
   "source": [
    "We have our model, and we can apply it like a function.  It expects a string of text as the input."
   ]
  },
  {
   "cell_type": "code",
   "execution_count": 35,
   "id": "2547ee99-d535-46ba-88a6-ea83fa764199",
   "metadata": {
    "execution": {
     "iopub.execute_input": "2024-02-08T03:09:38.826256Z",
     "iopub.status.busy": "2024-02-08T03:09:38.826148Z",
     "iopub.status.idle": "2024-02-08T03:09:38.834794Z",
     "shell.execute_reply": "2024-02-08T03:09:38.834303Z",
     "shell.execute_reply.started": "2024-02-08T03:09:38.826246Z"
    }
   },
   "outputs": [
    {
     "data": {
      "text/html": [
       "<div>\n",
       "<style scoped>\n",
       "    .dataframe tbody tr th:only-of-type {\n",
       "        vertical-align: middle;\n",
       "    }\n",
       "\n",
       "    .dataframe tbody tr th {\n",
       "        vertical-align: top;\n",
       "    }\n",
       "\n",
       "    .dataframe thead th {\n",
       "        text-align: right;\n",
       "    }\n",
       "</style>\n",
       "<table border=\"1\" class=\"dataframe\">\n",
       "  <thead>\n",
       "    <tr style=\"text-align: right;\">\n",
       "      <th></th>\n",
       "      <th>asin</th>\n",
       "      <th>reviewerID</th>\n",
       "      <th>overall</th>\n",
       "      <th>year</th>\n",
       "      <th>category</th>\n",
       "      <th>text-raw</th>\n",
       "      <th>length</th>\n",
       "      <th>text</th>\n",
       "      <th>lower_text</th>\n",
       "      <th>tokens</th>\n",
       "      <th>no_stops</th>\n",
       "      <th>no_stops_no_punct</th>\n",
       "    </tr>\n",
       "  </thead>\n",
       "  <tbody>\n",
       "    <tr>\n",
       "      <th>0</th>\n",
       "      <td>B007JINB0W</td>\n",
       "      <td>A1P9BVW2JB1OVL</td>\n",
       "      <td>3.0</td>\n",
       "      <td>2014</td>\n",
       "      <td>Grocery &amp; Gourmet Food; Pasta &amp; Noodles; Noodles; Shirataki</td>\n",
       "      <td>Odd chewy texture: This has a odd chewy texture and not much flavor, but used as a substitute for pasta, it helps cut calories and carbs. I can tolerate it, but it isn't really tasty. Surprisingly, my husband enjoyed it more than I did. I just co...</td>\n",
       "      <td>291</td>\n",
       "      <td>Odd chewy texture: This has a odd chewy texture and not much flavor, but used as a substitute for pasta, it helps cut calories and carbs. I can tolerate it, but it isn't really tasty. Surprisingly, my husband enjoyed it more than I did. I just co...</td>\n",
       "      <td>odd chewy texture: this has a odd chewy texture and not much flavor, but used as a substitute for pasta, it helps cut calories and carbs. i can tolerate it, but it isn't really tasty. surprisingly, my husband enjoyed it more than i did. i just co...</td>\n",
       "      <td>[odd, chewy, texture, :, this, has, a, odd, chewy, texture, and, not, much, flavor, ,, but, used, as, a, substitute, for, pasta, ,, it, helps, cut, calories, and, carbs, ., i, can, tolerate, it, ,, but, it, is, n't, really, tasty, ., surprisingly...</td>\n",
       "      <td>[odd, chewy, texture, :, odd, chewy, texture, much, flavor, ,, used, substitute, pasta, ,, helps, cut, calories, carbs, ., tolerate, ,, n't, really, tasty, ., surprisingly, ,, husband, enjoyed, ., could, n't, get, past, texture, (, rubber, noodle...</td>\n",
       "      <td>[odd, chewy, texture, odd, chewy, texture, much, flavor, used, substitute, pasta, helps, cut, calories, carbs, tolerate, n't, really, tasty, surprisingly, husband, enjoyed, could, n't, get, past, texture, rubber, noodles]</td>\n",
       "    </tr>\n",
       "    <tr>\n",
       "      <th>1</th>\n",
       "      <td>B007JINB0W</td>\n",
       "      <td>A5JZ2DBS9H3F6</td>\n",
       "      <td>1.0</td>\n",
       "      <td>2016</td>\n",
       "      <td>Grocery &amp; Gourmet Food; Pasta &amp; Noodles; Noodles; Shirataki</td>\n",
       "      <td>Fishy gross: They smell of fish and have a rubbery hard to chew texture. Yuck</td>\n",
       "      <td>77</td>\n",
       "      <td>Fishy gross: They smell of fish and have a rubbery hard to chew texture. Yuck</td>\n",
       "      <td>fishy gross: they smell of fish and have a rubbery hard to chew texture. yuck</td>\n",
       "      <td>[fishy, gross, :, they, smell, of, fish, and, have, a, rubbery, hard, to, chew, texture, ., yuck]</td>\n",
       "      <td>[fishy, gross, :, smell, fish, rubbery, hard, chew, texture, ., yuck]</td>\n",
       "      <td>[fishy, gross, smell, fish, rubbery, hard, chew, texture, yuck]</td>\n",
       "    </tr>\n",
       "    <tr>\n",
       "      <th>2</th>\n",
       "      <td>B007JINB0W</td>\n",
       "      <td>A3VYMBAX7IFV3B</td>\n",
       "      <td>1.0</td>\n",
       "      <td>2014</td>\n",
       "      <td>Grocery &amp; Gourmet Food; Pasta &amp; Noodles; Noodles; Shirataki</td>\n",
       "      <td>One Star: MOM DID NOT LIKE THESE</td>\n",
       "      <td>32</td>\n",
       "      <td>One Star: MOM DID NOT LIKE THESE</td>\n",
       "      <td>one star: mom did not like these</td>\n",
       "      <td>[one, star, :, mom, did, not, like, these]</td>\n",
       "      <td>[one, star, :, mom, like]</td>\n",
       "      <td>[one, star, mom, like]</td>\n",
       "    </tr>\n",
       "    <tr>\n",
       "      <th>3</th>\n",
       "      <td>B007JINB0W</td>\n",
       "      <td>A25MLB8QXVM2LS</td>\n",
       "      <td>2.0</td>\n",
       "      <td>2018</td>\n",
       "      <td>Grocery &amp; Gourmet Food; Pasta &amp; Noodles; Noodles; Shirataki</td>\n",
       "      <td>The noodles themselves are fine. The Amazon label description claims they are certified ...: The noodles themselves are fine. The Amazon label description claims they are certified non GMO and Vegan but the actual package contains no such symbol ...</td>\n",
       "      <td>289</td>\n",
       "      <td>The noodles themselves are fine. The Amazon label description claims they are certified ...: The noodles themselves are fine. The Amazon label description claims they are certified non GMO and Vegan but the actual package contains no such symbol ...</td>\n",
       "      <td>the noodles themselves are fine. the amazon label description claims they are certified ...: the noodles themselves are fine. the amazon label description claims they are certified non gmo and vegan but the actual package contains no such symbol ...</td>\n",
       "      <td>[the, noodles, themselves, are, fine, ., the, amazon, label, description, claims, they, are, certified, ..., :, the, noodles, themselves, are, fine, ., the, amazon, label, description, claims, they, are, certified, non, gmo, and, vegan, but, the,...</td>\n",
       "      <td>[noodles, fine, ., amazon, label, description, claims, certified, ..., :, noodles, fine, ., amazon, label, description, claims, certified, non, gmo, vegan, actual, package, contains, symbol, claim, online, description, shows, .]</td>\n",
       "      <td>[noodles, fine, amazon, label, description, claims, certified, ..., noodles, fine, amazon, label, description, claims, certified, non, gmo, vegan, actual, package, contains, symbol, claim, online, description, shows]</td>\n",
       "    </tr>\n",
       "    <tr>\n",
       "      <th>4</th>\n",
       "      <td>B007JINB0W</td>\n",
       "      <td>A2DZN9RBFVVY7L</td>\n",
       "      <td>4.0</td>\n",
       "      <td>2014</td>\n",
       "      <td>Grocery &amp; Gourmet Food; Pasta &amp; Noodles; Noodles; Shirataki</td>\n",
       "      <td>What's important to you?: So how bad do you want to restrict your calories? I gain weight easily, so I'm obsessive about counting my calories, but many times I am left not feeling very full. I read about these noodles and decided to give them a t...</td>\n",
       "      <td>882</td>\n",
       "      <td>What's important to you?: So how bad do you want to restrict your calories? I gain weight easily, so I'm obsessive about counting my calories, but many times I am left not feeling very full. I read about these noodles and decided to give them a t...</td>\n",
       "      <td>what's important to you?: so how bad do you want to restrict your calories? i gain weight easily, so i'm obsessive about counting my calories, but many times i am left not feeling very full. i read about these noodles and decided to give them a t...</td>\n",
       "      <td>[what, 's, important, to, you, ?, :, so, how, bad, do, you, want, to, restrict, your, calories, ?, i, gain, weight, easily, ,, so, i, 'm, obsessive, about, counting, my, calories, ,, but, many, times, i, am, left, not, feeling, very, full, ., i, ...</td>\n",
       "      <td>['s, important, ?, :, bad, want, restrict, calories, ?, gain, weight, easily, ,, 'm, obsessive, counting, calories, ,, many, times, left, feeling, full, ., read, noodles, decided, give, try, ., bag, ,, smell, like, fish, ,, goes, away, rinsing, ....</td>\n",
       "      <td>['s, important, bad, want, restrict, calories, gain, weight, easily, 'm, obsessive, counting, calories, many, times, left, feeling, full, read, noodles, decided, give, try, bag, smell, like, fish, goes, away, rinsing, yes, texture, like, chewing,...</td>\n",
       "    </tr>\n",
       "  </tbody>\n",
       "</table>\n",
       "</div>"
      ],
      "text/plain": [
       "         asin      reviewerID  overall  year  \\\n",
       "0  B007JINB0W  A1P9BVW2JB1OVL      3.0  2014   \n",
       "1  B007JINB0W   A5JZ2DBS9H3F6      1.0  2016   \n",
       "2  B007JINB0W  A3VYMBAX7IFV3B      1.0  2014   \n",
       "3  B007JINB0W  A25MLB8QXVM2LS      2.0  2018   \n",
       "4  B007JINB0W  A2DZN9RBFVVY7L      4.0  2014   \n",
       "\n",
       "                                                      category  \\\n",
       "0  Grocery & Gourmet Food; Pasta & Noodles; Noodles; Shirataki   \n",
       "1  Grocery & Gourmet Food; Pasta & Noodles; Noodles; Shirataki   \n",
       "2  Grocery & Gourmet Food; Pasta & Noodles; Noodles; Shirataki   \n",
       "3  Grocery & Gourmet Food; Pasta & Noodles; Noodles; Shirataki   \n",
       "4  Grocery & Gourmet Food; Pasta & Noodles; Noodles; Shirataki   \n",
       "\n",
       "                                                                                                                                                                                                                                                    text-raw  \\\n",
       "0  Odd chewy texture: This has a odd chewy texture and not much flavor, but used as a substitute for pasta, it helps cut calories and carbs. I can tolerate it, but it isn't really tasty. Surprisingly, my husband enjoyed it more than I did. I just co...   \n",
       "1                                                                                                                                                                              Fishy gross: They smell of fish and have a rubbery hard to chew texture. Yuck   \n",
       "2                                                                                                                                                                                                                           One Star: MOM DID NOT LIKE THESE   \n",
       "3  The noodles themselves are fine. The Amazon label description claims they are certified ...: The noodles themselves are fine. The Amazon label description claims they are certified non GMO and Vegan but the actual package contains no such symbol ...   \n",
       "4  What's important to you?: So how bad do you want to restrict your calories? I gain weight easily, so I'm obsessive about counting my calories, but many times I am left not feeling very full. I read about these noodles and decided to give them a t...   \n",
       "\n",
       "   length  \\\n",
       "0     291   \n",
       "1      77   \n",
       "2      32   \n",
       "3     289   \n",
       "4     882   \n",
       "\n",
       "                                                                                                                                                                                                                                                        text  \\\n",
       "0  Odd chewy texture: This has a odd chewy texture and not much flavor, but used as a substitute for pasta, it helps cut calories and carbs. I can tolerate it, but it isn't really tasty. Surprisingly, my husband enjoyed it more than I did. I just co...   \n",
       "1                                                                                                                                                                              Fishy gross: They smell of fish and have a rubbery hard to chew texture. Yuck   \n",
       "2                                                                                                                                                                                                                           One Star: MOM DID NOT LIKE THESE   \n",
       "3  The noodles themselves are fine. The Amazon label description claims they are certified ...: The noodles themselves are fine. The Amazon label description claims they are certified non GMO and Vegan but the actual package contains no such symbol ...   \n",
       "4  What's important to you?: So how bad do you want to restrict your calories? I gain weight easily, so I'm obsessive about counting my calories, but many times I am left not feeling very full. I read about these noodles and decided to give them a t...   \n",
       "\n",
       "                                                                                                                                                                                                                                                  lower_text  \\\n",
       "0  odd chewy texture: this has a odd chewy texture and not much flavor, but used as a substitute for pasta, it helps cut calories and carbs. i can tolerate it, but it isn't really tasty. surprisingly, my husband enjoyed it more than i did. i just co...   \n",
       "1                                                                                                                                                                              fishy gross: they smell of fish and have a rubbery hard to chew texture. yuck   \n",
       "2                                                                                                                                                                                                                           one star: mom did not like these   \n",
       "3  the noodles themselves are fine. the amazon label description claims they are certified ...: the noodles themselves are fine. the amazon label description claims they are certified non gmo and vegan but the actual package contains no such symbol ...   \n",
       "4  what's important to you?: so how bad do you want to restrict your calories? i gain weight easily, so i'm obsessive about counting my calories, but many times i am left not feeling very full. i read about these noodles and decided to give them a t...   \n",
       "\n",
       "                                                                                                                                                                                                                                                      tokens  \\\n",
       "0  [odd, chewy, texture, :, this, has, a, odd, chewy, texture, and, not, much, flavor, ,, but, used, as, a, substitute, for, pasta, ,, it, helps, cut, calories, and, carbs, ., i, can, tolerate, it, ,, but, it, is, n't, really, tasty, ., surprisingly...   \n",
       "1                                                                                                                                                          [fishy, gross, :, they, smell, of, fish, and, have, a, rubbery, hard, to, chew, texture, ., yuck]   \n",
       "2                                                                                                                                                                                                                 [one, star, :, mom, did, not, like, these]   \n",
       "3  [the, noodles, themselves, are, fine, ., the, amazon, label, description, claims, they, are, certified, ..., :, the, noodles, themselves, are, fine, ., the, amazon, label, description, claims, they, are, certified, non, gmo, and, vegan, but, the,...   \n",
       "4  [what, 's, important, to, you, ?, :, so, how, bad, do, you, want, to, restrict, your, calories, ?, i, gain, weight, easily, ,, so, i, 'm, obsessive, about, counting, my, calories, ,, but, many, times, i, am, left, not, feeling, very, full, ., i, ...   \n",
       "\n",
       "                                                                                                                                                                                                                                                    no_stops  \\\n",
       "0  [odd, chewy, texture, :, odd, chewy, texture, much, flavor, ,, used, substitute, pasta, ,, helps, cut, calories, carbs, ., tolerate, ,, n't, really, tasty, ., surprisingly, ,, husband, enjoyed, ., could, n't, get, past, texture, (, rubber, noodle...   \n",
       "1                                                                                                                                                                                      [fishy, gross, :, smell, fish, rubbery, hard, chew, texture, ., yuck]   \n",
       "2                                                                                                                                                                                                                                  [one, star, :, mom, like]   \n",
       "3                       [noodles, fine, ., amazon, label, description, claims, certified, ..., :, noodles, fine, ., amazon, label, description, claims, certified, non, gmo, vegan, actual, package, contains, symbol, claim, online, description, shows, .]   \n",
       "4  ['s, important, ?, :, bad, want, restrict, calories, ?, gain, weight, easily, ,, 'm, obsessive, counting, calories, ,, many, times, left, feeling, full, ., read, noodles, decided, give, try, ., bag, ,, smell, like, fish, ,, goes, away, rinsing, ....   \n",
       "\n",
       "                                                                                                                                                                                                                                           no_stops_no_punct  \n",
       "0                              [odd, chewy, texture, odd, chewy, texture, much, flavor, used, substitute, pasta, helps, cut, calories, carbs, tolerate, n't, really, tasty, surprisingly, husband, enjoyed, could, n't, get, past, texture, rubber, noodles]  \n",
       "1                                                                                                                                                                                            [fishy, gross, smell, fish, rubbery, hard, chew, texture, yuck]  \n",
       "2                                                                                                                                                                                                                                     [one, star, mom, like]  \n",
       "3                                   [noodles, fine, amazon, label, description, claims, certified, ..., noodles, fine, amazon, label, description, claims, certified, non, gmo, vegan, actual, package, contains, symbol, claim, online, description, shows]  \n",
       "4  ['s, important, bad, want, restrict, calories, gain, weight, easily, 'm, obsessive, counting, calories, many, times, left, feeling, full, read, noodles, decided, give, try, bag, smell, like, fish, goes, away, rinsing, yes, texture, like, chewing,...  "
      ]
     },
     "execution_count": 35,
     "metadata": {},
     "output_type": "execute_result"
    }
   ],
   "source": [
    "df.head()"
   ]
  },
  {
   "cell_type": "code",
   "execution_count": 36,
   "id": "b7c6de9a-f702-48cb-9f19-369b07473ca1",
   "metadata": {
    "execution": {
     "iopub.execute_input": "2024-02-08T03:09:38.835535Z",
     "iopub.status.busy": "2024-02-08T03:09:38.835364Z",
     "iopub.status.idle": "2024-02-08T03:09:38.837984Z",
     "shell.execute_reply": "2024-02-08T03:09:38.837721Z",
     "shell.execute_reply.started": "2024-02-08T03:09:38.835524Z"
    }
   },
   "outputs": [
    {
     "data": {
      "text/plain": [
       "'Two Stars: Just cant get used to the texture or flavor.'"
      ]
     },
     "execution_count": 36,
     "metadata": {},
     "output_type": "execute_result"
    }
   ],
   "source": [
    "# New\n",
    "idx_example = 286#2873\n",
    "raw_text = df.loc[idx_example,'text']\n",
    "raw_text"
   ]
  },
  {
   "cell_type": "code",
   "execution_count": 37,
   "id": "cc0f4536",
   "metadata": {
    "execution": {
     "iopub.execute_input": "2024-02-08T03:09:38.838583Z",
     "iopub.status.busy": "2024-02-08T03:09:38.838447Z",
     "iopub.status.idle": "2024-02-08T03:09:38.851050Z",
     "shell.execute_reply": "2024-02-08T03:09:38.850728Z",
     "shell.execute_reply.started": "2024-02-08T03:09:38.838574Z"
    }
   },
   "outputs": [
    {
     "data": {
      "text/plain": [
       "Two Stars: Just cant get used to the texture or flavor."
      ]
     },
     "execution_count": 37,
     "metadata": {},
     "output_type": "execute_result"
    }
   ],
   "source": [
    "## Process a document with the model\n",
    "doc = nlp_model(raw_text)\n",
    "doc"
   ]
  },
  {
   "cell_type": "markdown",
   "id": "856a8134",
   "metadata": {},
   "source": [
    "The document is a collection of tokens we can iterate over"
   ]
  },
  {
   "cell_type": "markdown",
   "id": "eca267ae",
   "metadata": {},
   "source": [
    "## Documents and Tokens"
   ]
  },
  {
   "cell_type": "code",
   "execution_count": 38,
   "id": "2c7e5a8d",
   "metadata": {
    "execution": {
     "iopub.execute_input": "2024-02-08T03:09:38.851664Z",
     "iopub.status.busy": "2024-02-08T03:09:38.851559Z",
     "iopub.status.idle": "2024-02-08T03:09:38.854646Z",
     "shell.execute_reply": "2024-02-08T03:09:38.854228Z",
     "shell.execute_reply.started": "2024-02-08T03:09:38.851654Z"
    }
   },
   "outputs": [
    {
     "data": {
      "text/plain": [
       "[Two, Stars, :, Just, ca, nt, get, used, to, the, texture, or, flavor, .]"
      ]
     },
     "execution_count": 38,
     "metadata": {},
     "output_type": "execute_result"
    }
   ],
   "source": [
    "## Display the tokens in the document\n",
    "\n",
    "[token for token in doc]"
   ]
  },
  {
   "cell_type": "markdown",
   "id": "1e69343c",
   "metadata": {},
   "source": [
    "Each token is much more than a string.  It"
   ]
  },
  {
   "cell_type": "code",
   "execution_count": 39,
   "id": "d4b189b2",
   "metadata": {
    "execution": {
     "iopub.execute_input": "2024-02-08T03:09:38.855425Z",
     "iopub.status.busy": "2024-02-08T03:09:38.855317Z",
     "iopub.status.idle": "2024-02-08T03:09:38.863128Z",
     "shell.execute_reply": "2024-02-08T03:09:38.862837Z",
     "shell.execute_reply.started": "2024-02-08T03:09:38.855416Z"
    }
   },
   "outputs": [
    {
     "name": "stdout",
     "output_type": "stream",
     "text": [
      "did\n"
     ]
    },
    {
     "data": {
      "text/plain": [
       "spacy.tokens.token.Token"
      ]
     },
     "execution_count": 39,
     "metadata": {},
     "output_type": "execute_result"
    }
   ],
   "source": [
    "## Isolate the last token in the document\n",
    "doc = nlp_model(\"I thought I did my homework but I forgot I was running late and didn't finish.\")\n",
    "word = doc[-4]\n",
    "\n",
    "## Display the text and type of the token\n",
    "print(word)\n",
    "type(word)"
   ]
  },
  {
   "cell_type": "markdown",
   "id": "ccad5b18",
   "metadata": {},
   "source": [
    "Each has many attributes that we can take advantage of, such as the lemma form and whether it is punctuation or space, and whether it is a stop word"
   ]
  },
  {
   "cell_type": "code",
   "execution_count": 40,
   "id": "9552bd2f",
   "metadata": {
    "execution": {
     "iopub.execute_input": "2024-02-08T03:09:38.863904Z",
     "iopub.status.busy": "2024-02-08T03:09:38.863706Z",
     "iopub.status.idle": "2024-02-08T03:09:38.866446Z",
     "shell.execute_reply": "2024-02-08T03:09:38.866131Z",
     "shell.execute_reply.started": "2024-02-08T03:09:38.863884Z"
    }
   },
   "outputs": [
    {
     "data": {
      "text/plain": [
       "'do'"
      ]
     },
     "execution_count": 40,
     "metadata": {},
     "output_type": "execute_result"
    }
   ],
   "source": [
    "## Display the lemmatized form of the token\n",
    "\n",
    "word.lemma_"
   ]
  },
  {
   "cell_type": "code",
   "execution_count": 41,
   "id": "e2938ae4",
   "metadata": {
    "execution": {
     "iopub.execute_input": "2024-02-08T03:09:38.867150Z",
     "iopub.status.busy": "2024-02-08T03:09:38.867048Z",
     "iopub.status.idle": "2024-02-08T03:09:38.869860Z",
     "shell.execute_reply": "2024-02-08T03:09:38.869505Z",
     "shell.execute_reply.started": "2024-02-08T03:09:38.867141Z"
    }
   },
   "outputs": [
    {
     "data": {
      "text/plain": [
       "False"
      ]
     },
     "execution_count": 41,
     "metadata": {},
     "output_type": "execute_result"
    }
   ],
   "source": [
    "## Check whether the token is punctuation\n",
    "word.is_punct\n"
   ]
  },
  {
   "cell_type": "code",
   "execution_count": 42,
   "id": "e30913fd",
   "metadata": {
    "execution": {
     "iopub.execute_input": "2024-02-08T03:09:38.870512Z",
     "iopub.status.busy": "2024-02-08T03:09:38.870408Z",
     "iopub.status.idle": "2024-02-08T03:09:38.873116Z",
     "shell.execute_reply": "2024-02-08T03:09:38.872755Z",
     "shell.execute_reply.started": "2024-02-08T03:09:38.870503Z"
    }
   },
   "outputs": [
    {
     "data": {
      "text/plain": [
       "False"
      ]
     },
     "execution_count": 42,
     "metadata": {},
     "output_type": "execute_result"
    }
   ],
   "source": [
    "## Check whether the token is a space\n",
    "word.is_space"
   ]
  },
  {
   "cell_type": "markdown",
   "id": "cd5ab785",
   "metadata": {},
   "source": [
    "Spacy can even determine the part of speech that the token is!"
   ]
  },
  {
   "cell_type": "code",
   "execution_count": 43,
   "id": "24c38600",
   "metadata": {
    "execution": {
     "iopub.execute_input": "2024-02-08T03:09:38.874155Z",
     "iopub.status.busy": "2024-02-08T03:09:38.873794Z",
     "iopub.status.idle": "2024-02-08T03:09:38.876730Z",
     "shell.execute_reply": "2024-02-08T03:09:38.876267Z",
     "shell.execute_reply.started": "2024-02-08T03:09:38.874134Z"
    }
   },
   "outputs": [
    {
     "data": {
      "text/plain": [
       "'AUX'"
      ]
     },
     "execution_count": 43,
     "metadata": {},
     "output_type": "execute_result"
    }
   ],
   "source": [
    "## Check the part of speech of the token\n",
    "word.pos_"
   ]
  },
  {
   "cell_type": "code",
   "execution_count": 44,
   "id": "0a81063d",
   "metadata": {
    "execution": {
     "iopub.execute_input": "2024-02-08T03:09:38.877421Z",
     "iopub.status.busy": "2024-02-08T03:09:38.877276Z",
     "iopub.status.idle": "2024-02-08T03:09:38.880145Z",
     "shell.execute_reply": "2024-02-08T03:09:38.879773Z",
     "shell.execute_reply.started": "2024-02-08T03:09:38.877411Z"
    }
   },
   "outputs": [
    {
     "data": {
      "text/plain": [
       "['PRON',\n",
       " 'VERB',\n",
       " 'PRON',\n",
       " 'VERB',\n",
       " 'PRON',\n",
       " 'NOUN',\n",
       " 'CCONJ',\n",
       " 'PRON',\n",
       " 'VERB',\n",
       " 'PRON',\n",
       " 'AUX',\n",
       " 'VERB',\n",
       " 'ADV',\n",
       " 'CCONJ',\n",
       " 'AUX',\n",
       " 'PART',\n",
       " 'VERB',\n",
       " 'PUNCT']"
      ]
     },
     "execution_count": 44,
     "metadata": {},
     "output_type": "execute_result"
    }
   ],
   "source": [
    "## Show the parts of speech for each token in the document\n",
    "\n",
    "[token.pos_ for token in doc]"
   ]
  },
  {
   "cell_type": "code",
   "execution_count": 45,
   "id": "875e6dd5",
   "metadata": {
    "execution": {
     "iopub.execute_input": "2024-02-08T03:09:38.880932Z",
     "iopub.status.busy": "2024-02-08T03:09:38.880735Z",
     "iopub.status.idle": "2024-02-08T03:09:38.883714Z",
     "shell.execute_reply": "2024-02-08T03:09:38.883361Z",
     "shell.execute_reply.started": "2024-02-08T03:09:38.880917Z"
    }
   },
   "outputs": [
    {
     "data": {
      "text/plain": [
       "['I',\n",
       " 'think',\n",
       " 'I',\n",
       " 'do',\n",
       " 'my',\n",
       " 'homework',\n",
       " 'but',\n",
       " 'I',\n",
       " 'forget',\n",
       " 'I',\n",
       " 'be',\n",
       " 'run',\n",
       " 'late',\n",
       " 'and',\n",
       " 'do',\n",
       " 'not',\n",
       " 'finish',\n",
       " '.']"
      ]
     },
     "execution_count": 45,
     "metadata": {},
     "output_type": "execute_result"
    }
   ],
   "source": [
    "## Show a list of the lemmas for each token in the document\n",
    "\n",
    "[token.lemma_ for token in doc]"
   ]
  },
  {
   "cell_type": "markdown",
   "id": "06915d48",
   "metadata": {},
   "source": [
    "Notice that spaCy does not lower the case of lemmas.  Let's make sure we do that, too."
   ]
  },
  {
   "cell_type": "code",
   "execution_count": 46,
   "id": "fa373c73",
   "metadata": {
    "execution": {
     "iopub.execute_input": "2024-02-08T03:09:38.884566Z",
     "iopub.status.busy": "2024-02-08T03:09:38.884391Z",
     "iopub.status.idle": "2024-02-08T03:09:38.887765Z",
     "shell.execute_reply": "2024-02-08T03:09:38.887231Z",
     "shell.execute_reply.started": "2024-02-08T03:09:38.884555Z"
    }
   },
   "outputs": [
    {
     "data": {
      "text/plain": [
       "['think', 'homework', 'forget', 'run', 'late', 'finish']"
      ]
     },
     "execution_count": 46,
     "metadata": {},
     "output_type": "execute_result"
    }
   ],
   "source": [
    "## Show a list of only the tokens in the document that are not punctuation or spaces or URLs\n",
    "lemmas_list = []\n",
    "for token in doc:\n",
    "    if token.is_punct:\n",
    "        continue\n",
    "    if token.is_space:\n",
    "        continue\n",
    "    if token.is_stop:\n",
    "        continue\n",
    "\n",
    "    lemmas_list.append(token.lemma_.lower())\n",
    "\n",
    "lemmas_list\n"
   ]
  },
  {
   "cell_type": "code",
   "execution_count": 47,
   "id": "69c578e6",
   "metadata": {
    "execution": {
     "iopub.execute_input": "2024-02-08T03:09:38.888413Z",
     "iopub.status.busy": "2024-02-08T03:09:38.888292Z",
     "iopub.status.idle": "2024-02-08T03:09:38.891538Z",
     "shell.execute_reply": "2024-02-08T03:09:38.891106Z",
     "shell.execute_reply.started": "2024-02-08T03:09:38.888404Z"
    }
   },
   "outputs": [
    {
     "data": {
      "text/plain": [
       "['think', 'homework', 'forget', 'run', 'late', 'finish']"
      ]
     },
     "execution_count": 47,
     "metadata": {},
     "output_type": "execute_result"
    }
   ],
   "source": [
    "## Show a list of all the tokens in the document that are not punctuation, spaces, or stop words\n",
    "[token.lemma_.lower() for token in doc if \n",
    " not token.is_punct and \n",
    " not token.is_space and \n",
    " not token.is_stop]"
   ]
  },
  {
   "cell_type": "markdown",
   "id": "95d5eaac",
   "metadata": {},
   "source": [
    "In order to use spaCy to process our entire dataframe, we will need to make a function and apply it to our text column."
   ]
  },
  {
   "cell_type": "code",
   "execution_count": 48,
   "id": "42e8936b-44b5-4b5b-a332-1fc90ba7c7df",
   "metadata": {
    "execution": {
     "iopub.execute_input": "2024-02-08T03:09:38.892465Z",
     "iopub.status.busy": "2024-02-08T03:09:38.892276Z",
     "iopub.status.idle": "2024-02-08T03:09:38.895694Z",
     "shell.execute_reply": "2024-02-08T03:09:38.895273Z",
     "shell.execute_reply.started": "2024-02-08T03:09:38.892445Z"
    }
   },
   "outputs": [
    {
     "data": {
      "text/plain": [
       "['think', 'homework', 'forget', 'run', 'late', 'finish']"
      ]
     },
     "execution_count": 48,
     "metadata": {},
     "output_type": "execute_result"
    }
   ],
   "source": [
    "## Let's also remove URLs\n",
    "## Let's also remove the url\n",
    "[token.lemma_.lower() for token in doc if \n",
    " not token.is_punct and \n",
    " not token.is_space and \n",
    " not token.is_stop and \n",
    " not 'http' in token.lemma_.lower() and\n",
    " not 'www' in token.lemma_.lower()]"
   ]
  },
  {
   "cell_type": "markdown",
   "id": "437115ec",
   "metadata": {},
   "source": [
    "## Preprocessing with spaCy"
   ]
  },
  {
   "cell_type": "code",
   "execution_count": 49,
   "id": "626c06aa",
   "metadata": {
    "execution": {
     "iopub.execute_input": "2024-02-08T03:09:38.896525Z",
     "iopub.status.busy": "2024-02-08T03:09:38.896396Z",
     "iopub.status.idle": "2024-02-08T03:10:03.324097Z",
     "shell.execute_reply": "2024-02-08T03:10:03.323771Z",
     "shell.execute_reply.started": "2024-02-08T03:09:38.896515Z"
    }
   },
   "outputs": [
    {
     "data": {
      "text/html": [
       "<div>\n",
       "<style scoped>\n",
       "    .dataframe tbody tr th:only-of-type {\n",
       "        vertical-align: middle;\n",
       "    }\n",
       "\n",
       "    .dataframe tbody tr th {\n",
       "        vertical-align: top;\n",
       "    }\n",
       "\n",
       "    .dataframe thead th {\n",
       "        text-align: right;\n",
       "    }\n",
       "</style>\n",
       "<table border=\"1\" class=\"dataframe\">\n",
       "  <thead>\n",
       "    <tr style=\"text-align: right;\">\n",
       "      <th></th>\n",
       "      <th>asin</th>\n",
       "      <th>reviewerID</th>\n",
       "      <th>overall</th>\n",
       "      <th>year</th>\n",
       "      <th>category</th>\n",
       "      <th>text-raw</th>\n",
       "      <th>length</th>\n",
       "      <th>text</th>\n",
       "      <th>lower_text</th>\n",
       "      <th>tokens</th>\n",
       "      <th>no_stops</th>\n",
       "      <th>no_stops_no_punct</th>\n",
       "      <th>spacy_lemmas</th>\n",
       "    </tr>\n",
       "  </thead>\n",
       "  <tbody>\n",
       "    <tr>\n",
       "      <th>0</th>\n",
       "      <td>B007JINB0W</td>\n",
       "      <td>A1P9BVW2JB1OVL</td>\n",
       "      <td>3.0</td>\n",
       "      <td>2014</td>\n",
       "      <td>Grocery &amp; Gourmet Food; Pasta &amp; Noodles; Noodles; Shirataki</td>\n",
       "      <td>Odd chewy texture: This has a odd chewy texture and not much flavor, but used as a substitute for pasta, it helps cut calories and carbs. I can tolerate it, but it isn't really tasty. Surprisingly, my husband enjoyed it more than I did. I just co...</td>\n",
       "      <td>291</td>\n",
       "      <td>Odd chewy texture: This has a odd chewy texture and not much flavor, but used as a substitute for pasta, it helps cut calories and carbs. I can tolerate it, but it isn't really tasty. Surprisingly, my husband enjoyed it more than I did. I just co...</td>\n",
       "      <td>odd chewy texture: this has a odd chewy texture and not much flavor, but used as a substitute for pasta, it helps cut calories and carbs. i can tolerate it, but it isn't really tasty. surprisingly, my husband enjoyed it more than i did. i just co...</td>\n",
       "      <td>[odd, chewy, texture, :, this, has, a, odd, chewy, texture, and, not, much, flavor, ,, but, used, as, a, substitute, for, pasta, ,, it, helps, cut, calories, and, carbs, ., i, can, tolerate, it, ,, but, it, is, n't, really, tasty, ., surprisingly...</td>\n",
       "      <td>[odd, chewy, texture, :, odd, chewy, texture, much, flavor, ,, used, substitute, pasta, ,, helps, cut, calories, carbs, ., tolerate, ,, n't, really, tasty, ., surprisingly, ,, husband, enjoyed, ., could, n't, get, past, texture, (, rubber, noodle...</td>\n",
       "      <td>[odd, chewy, texture, odd, chewy, texture, much, flavor, used, substitute, pasta, helps, cut, calories, carbs, tolerate, n't, really, tasty, surprisingly, husband, enjoyed, could, n't, get, past, texture, rubber, noodles]</td>\n",
       "      <td>[odd, chewy, texture, odd, chewy, texture, flavor, substitute, pasta, help, cut, calorie, carb, tolerate, tasty, surprisingly, husband, enjoy, past, texture, rubber, noodle]</td>\n",
       "    </tr>\n",
       "    <tr>\n",
       "      <th>1</th>\n",
       "      <td>B007JINB0W</td>\n",
       "      <td>A5JZ2DBS9H3F6</td>\n",
       "      <td>1.0</td>\n",
       "      <td>2016</td>\n",
       "      <td>Grocery &amp; Gourmet Food; Pasta &amp; Noodles; Noodles; Shirataki</td>\n",
       "      <td>Fishy gross: They smell of fish and have a rubbery hard to chew texture. Yuck</td>\n",
       "      <td>77</td>\n",
       "      <td>Fishy gross: They smell of fish and have a rubbery hard to chew texture. Yuck</td>\n",
       "      <td>fishy gross: they smell of fish and have a rubbery hard to chew texture. yuck</td>\n",
       "      <td>[fishy, gross, :, they, smell, of, fish, and, have, a, rubbery, hard, to, chew, texture, ., yuck]</td>\n",
       "      <td>[fishy, gross, :, smell, fish, rubbery, hard, chew, texture, ., yuck]</td>\n",
       "      <td>[fishy, gross, smell, fish, rubbery, hard, chew, texture, yuck]</td>\n",
       "      <td>[fishy, gross, smell, fish, rubbery, hard, chew, texture, yuck]</td>\n",
       "    </tr>\n",
       "    <tr>\n",
       "      <th>2</th>\n",
       "      <td>B007JINB0W</td>\n",
       "      <td>A3VYMBAX7IFV3B</td>\n",
       "      <td>1.0</td>\n",
       "      <td>2014</td>\n",
       "      <td>Grocery &amp; Gourmet Food; Pasta &amp; Noodles; Noodles; Shirataki</td>\n",
       "      <td>One Star: MOM DID NOT LIKE THESE</td>\n",
       "      <td>32</td>\n",
       "      <td>One Star: MOM DID NOT LIKE THESE</td>\n",
       "      <td>one star: mom did not like these</td>\n",
       "      <td>[one, star, :, mom, did, not, like, these]</td>\n",
       "      <td>[one, star, :, mom, like]</td>\n",
       "      <td>[one, star, mom, like]</td>\n",
       "      <td>[star, mom, like]</td>\n",
       "    </tr>\n",
       "    <tr>\n",
       "      <th>3</th>\n",
       "      <td>B007JINB0W</td>\n",
       "      <td>A25MLB8QXVM2LS</td>\n",
       "      <td>2.0</td>\n",
       "      <td>2018</td>\n",
       "      <td>Grocery &amp; Gourmet Food; Pasta &amp; Noodles; Noodles; Shirataki</td>\n",
       "      <td>The noodles themselves are fine. The Amazon label description claims they are certified ...: The noodles themselves are fine. The Amazon label description claims they are certified non GMO and Vegan but the actual package contains no such symbol ...</td>\n",
       "      <td>289</td>\n",
       "      <td>The noodles themselves are fine. The Amazon label description claims they are certified ...: The noodles themselves are fine. The Amazon label description claims they are certified non GMO and Vegan but the actual package contains no such symbol ...</td>\n",
       "      <td>the noodles themselves are fine. the amazon label description claims they are certified ...: the noodles themselves are fine. the amazon label description claims they are certified non gmo and vegan but the actual package contains no such symbol ...</td>\n",
       "      <td>[the, noodles, themselves, are, fine, ., the, amazon, label, description, claims, they, are, certified, ..., :, the, noodles, themselves, are, fine, ., the, amazon, label, description, claims, they, are, certified, non, gmo, and, vegan, but, the,...</td>\n",
       "      <td>[noodles, fine, ., amazon, label, description, claims, certified, ..., :, noodles, fine, ., amazon, label, description, claims, certified, non, gmo, vegan, actual, package, contains, symbol, claim, online, description, shows, .]</td>\n",
       "      <td>[noodles, fine, amazon, label, description, claims, certified, ..., noodles, fine, amazon, label, description, claims, certified, non, gmo, vegan, actual, package, contains, symbol, claim, online, description, shows]</td>\n",
       "      <td>[noodle, fine, amazon, label, description, claim, certify, noodle, fine, amazon, label, description, claim, certify, non, gmo, vegan, actual, package, contain, symbol, claim, online, description, show]</td>\n",
       "    </tr>\n",
       "    <tr>\n",
       "      <th>4</th>\n",
       "      <td>B007JINB0W</td>\n",
       "      <td>A2DZN9RBFVVY7L</td>\n",
       "      <td>4.0</td>\n",
       "      <td>2014</td>\n",
       "      <td>Grocery &amp; Gourmet Food; Pasta &amp; Noodles; Noodles; Shirataki</td>\n",
       "      <td>What's important to you?: So how bad do you want to restrict your calories? I gain weight easily, so I'm obsessive about counting my calories, but many times I am left not feeling very full. I read about these noodles and decided to give them a t...</td>\n",
       "      <td>882</td>\n",
       "      <td>What's important to you?: So how bad do you want to restrict your calories? I gain weight easily, so I'm obsessive about counting my calories, but many times I am left not feeling very full. I read about these noodles and decided to give them a t...</td>\n",
       "      <td>what's important to you?: so how bad do you want to restrict your calories? i gain weight easily, so i'm obsessive about counting my calories, but many times i am left not feeling very full. i read about these noodles and decided to give them a t...</td>\n",
       "      <td>[what, 's, important, to, you, ?, :, so, how, bad, do, you, want, to, restrict, your, calories, ?, i, gain, weight, easily, ,, so, i, 'm, obsessive, about, counting, my, calories, ,, but, many, times, i, am, left, not, feeling, very, full, ., i, ...</td>\n",
       "      <td>['s, important, ?, :, bad, want, restrict, calories, ?, gain, weight, easily, ,, 'm, obsessive, counting, calories, ,, many, times, left, feeling, full, ., read, noodles, decided, give, try, ., bag, ,, smell, like, fish, ,, goes, away, rinsing, ....</td>\n",
       "      <td>['s, important, bad, want, restrict, calories, gain, weight, easily, 'm, obsessive, counting, calories, many, times, left, feeling, full, read, noodles, decided, give, try, bag, smell, like, fish, goes, away, rinsing, yes, texture, like, chewing,...</td>\n",
       "      <td>[important, bad, want, restrict, calorie, gain, weight, easily, obsessive, count, calorie, time, leave, feel, read, noodle, decide, try, bag, smell, like, fish, go, away, rinse, yes, texture, like, chew, rubber, band, try, trick, boil, 30, minute...</td>\n",
       "    </tr>\n",
       "  </tbody>\n",
       "</table>\n",
       "</div>"
      ],
      "text/plain": [
       "         asin      reviewerID  overall  year  \\\n",
       "0  B007JINB0W  A1P9BVW2JB1OVL      3.0  2014   \n",
       "1  B007JINB0W   A5JZ2DBS9H3F6      1.0  2016   \n",
       "2  B007JINB0W  A3VYMBAX7IFV3B      1.0  2014   \n",
       "3  B007JINB0W  A25MLB8QXVM2LS      2.0  2018   \n",
       "4  B007JINB0W  A2DZN9RBFVVY7L      4.0  2014   \n",
       "\n",
       "                                                      category  \\\n",
       "0  Grocery & Gourmet Food; Pasta & Noodles; Noodles; Shirataki   \n",
       "1  Grocery & Gourmet Food; Pasta & Noodles; Noodles; Shirataki   \n",
       "2  Grocery & Gourmet Food; Pasta & Noodles; Noodles; Shirataki   \n",
       "3  Grocery & Gourmet Food; Pasta & Noodles; Noodles; Shirataki   \n",
       "4  Grocery & Gourmet Food; Pasta & Noodles; Noodles; Shirataki   \n",
       "\n",
       "                                                                                                                                                                                                                                                    text-raw  \\\n",
       "0  Odd chewy texture: This has a odd chewy texture and not much flavor, but used as a substitute for pasta, it helps cut calories and carbs. I can tolerate it, but it isn't really tasty. Surprisingly, my husband enjoyed it more than I did. I just co...   \n",
       "1                                                                                                                                                                              Fishy gross: They smell of fish and have a rubbery hard to chew texture. Yuck   \n",
       "2                                                                                                                                                                                                                           One Star: MOM DID NOT LIKE THESE   \n",
       "3  The noodles themselves are fine. The Amazon label description claims they are certified ...: The noodles themselves are fine. The Amazon label description claims they are certified non GMO and Vegan but the actual package contains no such symbol ...   \n",
       "4  What's important to you?: So how bad do you want to restrict your calories? I gain weight easily, so I'm obsessive about counting my calories, but many times I am left not feeling very full. I read about these noodles and decided to give them a t...   \n",
       "\n",
       "   length  \\\n",
       "0     291   \n",
       "1      77   \n",
       "2      32   \n",
       "3     289   \n",
       "4     882   \n",
       "\n",
       "                                                                                                                                                                                                                                                        text  \\\n",
       "0  Odd chewy texture: This has a odd chewy texture and not much flavor, but used as a substitute for pasta, it helps cut calories and carbs. I can tolerate it, but it isn't really tasty. Surprisingly, my husband enjoyed it more than I did. I just co...   \n",
       "1                                                                                                                                                                              Fishy gross: They smell of fish and have a rubbery hard to chew texture. Yuck   \n",
       "2                                                                                                                                                                                                                           One Star: MOM DID NOT LIKE THESE   \n",
       "3  The noodles themselves are fine. The Amazon label description claims they are certified ...: The noodles themselves are fine. The Amazon label description claims they are certified non GMO and Vegan but the actual package contains no such symbol ...   \n",
       "4  What's important to you?: So how bad do you want to restrict your calories? I gain weight easily, so I'm obsessive about counting my calories, but many times I am left not feeling very full. I read about these noodles and decided to give them a t...   \n",
       "\n",
       "                                                                                                                                                                                                                                                  lower_text  \\\n",
       "0  odd chewy texture: this has a odd chewy texture and not much flavor, but used as a substitute for pasta, it helps cut calories and carbs. i can tolerate it, but it isn't really tasty. surprisingly, my husband enjoyed it more than i did. i just co...   \n",
       "1                                                                                                                                                                              fishy gross: they smell of fish and have a rubbery hard to chew texture. yuck   \n",
       "2                                                                                                                                                                                                                           one star: mom did not like these   \n",
       "3  the noodles themselves are fine. the amazon label description claims they are certified ...: the noodles themselves are fine. the amazon label description claims they are certified non gmo and vegan but the actual package contains no such symbol ...   \n",
       "4  what's important to you?: so how bad do you want to restrict your calories? i gain weight easily, so i'm obsessive about counting my calories, but many times i am left not feeling very full. i read about these noodles and decided to give them a t...   \n",
       "\n",
       "                                                                                                                                                                                                                                                      tokens  \\\n",
       "0  [odd, chewy, texture, :, this, has, a, odd, chewy, texture, and, not, much, flavor, ,, but, used, as, a, substitute, for, pasta, ,, it, helps, cut, calories, and, carbs, ., i, can, tolerate, it, ,, but, it, is, n't, really, tasty, ., surprisingly...   \n",
       "1                                                                                                                                                          [fishy, gross, :, they, smell, of, fish, and, have, a, rubbery, hard, to, chew, texture, ., yuck]   \n",
       "2                                                                                                                                                                                                                 [one, star, :, mom, did, not, like, these]   \n",
       "3  [the, noodles, themselves, are, fine, ., the, amazon, label, description, claims, they, are, certified, ..., :, the, noodles, themselves, are, fine, ., the, amazon, label, description, claims, they, are, certified, non, gmo, and, vegan, but, the,...   \n",
       "4  [what, 's, important, to, you, ?, :, so, how, bad, do, you, want, to, restrict, your, calories, ?, i, gain, weight, easily, ,, so, i, 'm, obsessive, about, counting, my, calories, ,, but, many, times, i, am, left, not, feeling, very, full, ., i, ...   \n",
       "\n",
       "                                                                                                                                                                                                                                                    no_stops  \\\n",
       "0  [odd, chewy, texture, :, odd, chewy, texture, much, flavor, ,, used, substitute, pasta, ,, helps, cut, calories, carbs, ., tolerate, ,, n't, really, tasty, ., surprisingly, ,, husband, enjoyed, ., could, n't, get, past, texture, (, rubber, noodle...   \n",
       "1                                                                                                                                                                                      [fishy, gross, :, smell, fish, rubbery, hard, chew, texture, ., yuck]   \n",
       "2                                                                                                                                                                                                                                  [one, star, :, mom, like]   \n",
       "3                       [noodles, fine, ., amazon, label, description, claims, certified, ..., :, noodles, fine, ., amazon, label, description, claims, certified, non, gmo, vegan, actual, package, contains, symbol, claim, online, description, shows, .]   \n",
       "4  ['s, important, ?, :, bad, want, restrict, calories, ?, gain, weight, easily, ,, 'm, obsessive, counting, calories, ,, many, times, left, feeling, full, ., read, noodles, decided, give, try, ., bag, ,, smell, like, fish, ,, goes, away, rinsing, ....   \n",
       "\n",
       "                                                                                                                                                                                                                                           no_stops_no_punct  \\\n",
       "0                              [odd, chewy, texture, odd, chewy, texture, much, flavor, used, substitute, pasta, helps, cut, calories, carbs, tolerate, n't, really, tasty, surprisingly, husband, enjoyed, could, n't, get, past, texture, rubber, noodles]   \n",
       "1                                                                                                                                                                                            [fishy, gross, smell, fish, rubbery, hard, chew, texture, yuck]   \n",
       "2                                                                                                                                                                                                                                     [one, star, mom, like]   \n",
       "3                                   [noodles, fine, amazon, label, description, claims, certified, ..., noodles, fine, amazon, label, description, claims, certified, non, gmo, vegan, actual, package, contains, symbol, claim, online, description, shows]   \n",
       "4  ['s, important, bad, want, restrict, calories, gain, weight, easily, 'm, obsessive, counting, calories, many, times, left, feeling, full, read, noodles, decided, give, try, bag, smell, like, fish, goes, away, rinsing, yes, texture, like, chewing,...   \n",
       "\n",
       "                                                                                                                                                                                                                                                spacy_lemmas  \n",
       "0                                                                              [odd, chewy, texture, odd, chewy, texture, flavor, substitute, pasta, help, cut, calorie, carb, tolerate, tasty, surprisingly, husband, enjoy, past, texture, rubber, noodle]  \n",
       "1                                                                                                                                                                                            [fishy, gross, smell, fish, rubbery, hard, chew, texture, yuck]  \n",
       "2                                                                                                                                                                                                                                          [star, mom, like]  \n",
       "3                                                  [noodle, fine, amazon, label, description, claim, certify, noodle, fine, amazon, label, description, claim, certify, non, gmo, vegan, actual, package, contain, symbol, claim, online, description, show]  \n",
       "4  [important, bad, want, restrict, calorie, gain, weight, easily, obsessive, count, calorie, time, leave, feel, read, noodle, decide, try, bag, smell, like, fish, go, away, rinse, yes, texture, like, chew, rubber, band, try, trick, boil, 30, minute...  "
      ]
     },
     "execution_count": 49,
     "metadata": {},
     "output_type": "execute_result"
    }
   ],
   "source": [
    "## Define a function to use spacy to process our text\n",
    "def spacy_process(text):\n",
    "        \"\"\"Lemmatize tokens, lower case, remove punctuation, spaces, and stop words\"\"\"\n",
    "        doc = nlp_model(text)\n",
    "        processed_doc = [token.lemma_.lower() \n",
    "                         for token in doc if not token.is_punct and \n",
    "                         not token.is_space and not token.is_stop and \n",
    "                         not 'http' in token.lemma_.lower() and 'www' not in token.lemma_.lower()]\n",
    "        return processed_doc\n",
    "\n",
    "## process the tweets using the spacy function\n",
    "df['spacy_lemmas'] = df['text'].apply(spacy_process)\n",
    "df.head()"
   ]
  },
  {
   "cell_type": "markdown",
   "id": "bb8ce1f3",
   "metadata": {},
   "source": [
    "We used spaCy to tokenize, lemmatize, and remove punctuation and stopwords from our text in one step!"
   ]
  },
  {
   "cell_type": "markdown",
   "id": "086f35e6",
   "metadata": {},
   "source": [
    "Notice that the spaCy processed data is a little different than our previously processed data.  The text has been lemmatized and spaCy has a different list of stop words than NLTK.\n",
    "\n",
    "The learn platform has directions for how you can customize your spaCy stopword list and a function with more flexibility in how spaCy will process your data."
   ]
  },
  {
   "cell_type": "markdown",
   "id": "ccc6f5c2",
   "metadata": {},
   "source": [
    "# ngrams\n",
    "combine multiple words into tokens"
   ]
  },
  {
   "cell_type": "code",
   "execution_count": 50,
   "id": "a0413ec2",
   "metadata": {
    "execution": {
     "iopub.execute_input": "2024-02-08T03:10:03.324792Z",
     "iopub.status.busy": "2024-02-08T03:10:03.324691Z",
     "iopub.status.idle": "2024-02-08T03:10:03.326692Z",
     "shell.execute_reply": "2024-02-08T03:10:03.326397Z",
     "shell.execute_reply.started": "2024-02-08T03:10:03.324783Z"
    }
   },
   "outputs": [],
   "source": [
    "## Import the ngrams function\n",
    "from nltk import ngrams"
   ]
  },
  {
   "cell_type": "code",
   "execution_count": 51,
   "id": "7064b8da",
   "metadata": {
    "execution": {
     "iopub.execute_input": "2024-02-08T03:10:03.327096Z",
     "iopub.status.busy": "2024-02-08T03:10:03.327009Z",
     "iopub.status.idle": "2024-02-08T03:10:03.329306Z",
     "shell.execute_reply": "2024-02-08T03:10:03.328910Z",
     "shell.execute_reply.started": "2024-02-08T03:10:03.327088Z"
    }
   },
   "outputs": [],
   "source": [
    "\n",
    "## Isolate the 6th lemmatized document\n"
   ]
  },
  {
   "cell_type": "code",
   "execution_count": 52,
   "id": "b2f77bfe",
   "metadata": {
    "execution": {
     "iopub.execute_input": "2024-02-08T03:10:03.330095Z",
     "iopub.status.busy": "2024-02-08T03:10:03.329970Z",
     "iopub.status.idle": "2024-02-08T03:10:03.331942Z",
     "shell.execute_reply": "2024-02-08T03:10:03.331523Z",
     "shell.execute_reply.started": "2024-02-08T03:10:03.330086Z"
    }
   },
   "outputs": [],
   "source": [
    "\n",
    "# Create list of bigrams\n"
   ]
  },
  {
   "cell_type": "code",
   "execution_count": 53,
   "id": "3a5764e5",
   "metadata": {
    "execution": {
     "iopub.execute_input": "2024-02-08T03:10:03.332825Z",
     "iopub.status.busy": "2024-02-08T03:10:03.332509Z",
     "iopub.status.idle": "2024-02-08T03:10:03.334751Z",
     "shell.execute_reply": "2024-02-08T03:10:03.334365Z",
     "shell.execute_reply.started": "2024-02-08T03:10:03.332812Z"
    }
   },
   "outputs": [],
   "source": [
    "\n",
    "# Create list of trigrams\n"
   ]
  },
  {
   "cell_type": "markdown",
   "id": "6cddca69",
   "metadata": {},
   "source": [
    "\n",
    "## Applying `ngrams` to make a new column\n"
   ]
  },
  {
   "cell_type": "markdown",
   "id": "715de044",
   "metadata": {},
   "source": [
    "\n",
    "We need to make a function that returns a list of bigrams.  It won't work to just pass the ngrams function to `.apply()`\n"
   ]
  },
  {
   "cell_type": "code",
   "execution_count": 54,
   "id": "d4604ff2",
   "metadata": {
    "execution": {
     "iopub.execute_input": "2024-02-08T03:10:03.335330Z",
     "iopub.status.busy": "2024-02-08T03:10:03.335196Z",
     "iopub.status.idle": "2024-02-08T03:10:03.338304Z",
     "shell.execute_reply": "2024-02-08T03:10:03.337769Z",
     "shell.execute_reply.started": "2024-02-08T03:10:03.335320Z"
    }
   },
   "outputs": [],
   "source": [
    "## Create a function to create bigrams\n",
    "def make_bigrams(doc):\n",
    "    bigrams = ngrams(doc, 2)\n",
    "    bigrams = list(bigrams)\n",
    "    return bigrams"
   ]
  },
  {
   "cell_type": "code",
   "execution_count": 55,
   "id": "9f23807b",
   "metadata": {
    "execution": {
     "iopub.execute_input": "2024-02-08T03:10:03.338959Z",
     "iopub.status.busy": "2024-02-08T03:10:03.338823Z",
     "iopub.status.idle": "2024-02-08T03:10:03.383180Z",
     "shell.execute_reply": "2024-02-08T03:10:03.381912Z",
     "shell.execute_reply.started": "2024-02-08T03:10:03.338948Z"
    }
   },
   "outputs": [
    {
     "data": {
      "text/html": [
       "<div>\n",
       "<style scoped>\n",
       "    .dataframe tbody tr th:only-of-type {\n",
       "        vertical-align: middle;\n",
       "    }\n",
       "\n",
       "    .dataframe tbody tr th {\n",
       "        vertical-align: top;\n",
       "    }\n",
       "\n",
       "    .dataframe thead th {\n",
       "        text-align: right;\n",
       "    }\n",
       "</style>\n",
       "<table border=\"1\" class=\"dataframe\">\n",
       "  <thead>\n",
       "    <tr style=\"text-align: right;\">\n",
       "      <th></th>\n",
       "      <th>asin</th>\n",
       "      <th>reviewerID</th>\n",
       "      <th>overall</th>\n",
       "      <th>year</th>\n",
       "      <th>category</th>\n",
       "      <th>text-raw</th>\n",
       "      <th>length</th>\n",
       "      <th>text</th>\n",
       "      <th>lower_text</th>\n",
       "      <th>tokens</th>\n",
       "      <th>no_stops</th>\n",
       "      <th>no_stops_no_punct</th>\n",
       "      <th>spacy_lemmas</th>\n",
       "      <th>bigrams</th>\n",
       "    </tr>\n",
       "  </thead>\n",
       "  <tbody>\n",
       "    <tr>\n",
       "      <th>0</th>\n",
       "      <td>B007JINB0W</td>\n",
       "      <td>A1P9BVW2JB1OVL</td>\n",
       "      <td>3.0</td>\n",
       "      <td>2014</td>\n",
       "      <td>Grocery &amp; Gourmet Food; Pasta &amp; Noodles; Noodles; Shirataki</td>\n",
       "      <td>Odd chewy texture: This has a odd chewy texture and not much flavor, but used as a substitute for pasta, it helps cut calories and carbs. I can tolerate it, but it isn't really tasty. Surprisingly, my husband enjoyed it more than I did. I just co...</td>\n",
       "      <td>291</td>\n",
       "      <td>Odd chewy texture: This has a odd chewy texture and not much flavor, but used as a substitute for pasta, it helps cut calories and carbs. I can tolerate it, but it isn't really tasty. Surprisingly, my husband enjoyed it more than I did. I just co...</td>\n",
       "      <td>odd chewy texture: this has a odd chewy texture and not much flavor, but used as a substitute for pasta, it helps cut calories and carbs. i can tolerate it, but it isn't really tasty. surprisingly, my husband enjoyed it more than i did. i just co...</td>\n",
       "      <td>[odd, chewy, texture, :, this, has, a, odd, chewy, texture, and, not, much, flavor, ,, but, used, as, a, substitute, for, pasta, ,, it, helps, cut, calories, and, carbs, ., i, can, tolerate, it, ,, but, it, is, n't, really, tasty, ., surprisingly...</td>\n",
       "      <td>[odd, chewy, texture, :, odd, chewy, texture, much, flavor, ,, used, substitute, pasta, ,, helps, cut, calories, carbs, ., tolerate, ,, n't, really, tasty, ., surprisingly, ,, husband, enjoyed, ., could, n't, get, past, texture, (, rubber, noodle...</td>\n",
       "      <td>[odd, chewy, texture, odd, chewy, texture, much, flavor, used, substitute, pasta, helps, cut, calories, carbs, tolerate, n't, really, tasty, surprisingly, husband, enjoyed, could, n't, get, past, texture, rubber, noodles]</td>\n",
       "      <td>[odd, chewy, texture, odd, chewy, texture, flavor, substitute, pasta, help, cut, calorie, carb, tolerate, tasty, surprisingly, husband, enjoy, past, texture, rubber, noodle]</td>\n",
       "      <td>[(odd, chewy), (chewy, texture), (texture, odd), (odd, chewy), (chewy, texture), (texture, flavor), (flavor, substitute), (substitute, pasta), (pasta, help), (help, cut), (cut, calorie), (calorie, carb), (carb, tolerate), (tolerate, tasty), (tast...</td>\n",
       "    </tr>\n",
       "    <tr>\n",
       "      <th>1</th>\n",
       "      <td>B007JINB0W</td>\n",
       "      <td>A5JZ2DBS9H3F6</td>\n",
       "      <td>1.0</td>\n",
       "      <td>2016</td>\n",
       "      <td>Grocery &amp; Gourmet Food; Pasta &amp; Noodles; Noodles; Shirataki</td>\n",
       "      <td>Fishy gross: They smell of fish and have a rubbery hard to chew texture. Yuck</td>\n",
       "      <td>77</td>\n",
       "      <td>Fishy gross: They smell of fish and have a rubbery hard to chew texture. Yuck</td>\n",
       "      <td>fishy gross: they smell of fish and have a rubbery hard to chew texture. yuck</td>\n",
       "      <td>[fishy, gross, :, they, smell, of, fish, and, have, a, rubbery, hard, to, chew, texture, ., yuck]</td>\n",
       "      <td>[fishy, gross, :, smell, fish, rubbery, hard, chew, texture, ., yuck]</td>\n",
       "      <td>[fishy, gross, smell, fish, rubbery, hard, chew, texture, yuck]</td>\n",
       "      <td>[fishy, gross, smell, fish, rubbery, hard, chew, texture, yuck]</td>\n",
       "      <td>[(fishy, gross), (gross, smell), (smell, fish), (fish, rubbery), (rubbery, hard), (hard, chew), (chew, texture), (texture, yuck)]</td>\n",
       "    </tr>\n",
       "    <tr>\n",
       "      <th>2</th>\n",
       "      <td>B007JINB0W</td>\n",
       "      <td>A3VYMBAX7IFV3B</td>\n",
       "      <td>1.0</td>\n",
       "      <td>2014</td>\n",
       "      <td>Grocery &amp; Gourmet Food; Pasta &amp; Noodles; Noodles; Shirataki</td>\n",
       "      <td>One Star: MOM DID NOT LIKE THESE</td>\n",
       "      <td>32</td>\n",
       "      <td>One Star: MOM DID NOT LIKE THESE</td>\n",
       "      <td>one star: mom did not like these</td>\n",
       "      <td>[one, star, :, mom, did, not, like, these]</td>\n",
       "      <td>[one, star, :, mom, like]</td>\n",
       "      <td>[one, star, mom, like]</td>\n",
       "      <td>[star, mom, like]</td>\n",
       "      <td>[(star, mom), (mom, like)]</td>\n",
       "    </tr>\n",
       "    <tr>\n",
       "      <th>3</th>\n",
       "      <td>B007JINB0W</td>\n",
       "      <td>A25MLB8QXVM2LS</td>\n",
       "      <td>2.0</td>\n",
       "      <td>2018</td>\n",
       "      <td>Grocery &amp; Gourmet Food; Pasta &amp; Noodles; Noodles; Shirataki</td>\n",
       "      <td>The noodles themselves are fine. The Amazon label description claims they are certified ...: The noodles themselves are fine. The Amazon label description claims they are certified non GMO and Vegan but the actual package contains no such symbol ...</td>\n",
       "      <td>289</td>\n",
       "      <td>The noodles themselves are fine. The Amazon label description claims they are certified ...: The noodles themselves are fine. The Amazon label description claims they are certified non GMO and Vegan but the actual package contains no such symbol ...</td>\n",
       "      <td>the noodles themselves are fine. the amazon label description claims they are certified ...: the noodles themselves are fine. the amazon label description claims they are certified non gmo and vegan but the actual package contains no such symbol ...</td>\n",
       "      <td>[the, noodles, themselves, are, fine, ., the, amazon, label, description, claims, they, are, certified, ..., :, the, noodles, themselves, are, fine, ., the, amazon, label, description, claims, they, are, certified, non, gmo, and, vegan, but, the,...</td>\n",
       "      <td>[noodles, fine, ., amazon, label, description, claims, certified, ..., :, noodles, fine, ., amazon, label, description, claims, certified, non, gmo, vegan, actual, package, contains, symbol, claim, online, description, shows, .]</td>\n",
       "      <td>[noodles, fine, amazon, label, description, claims, certified, ..., noodles, fine, amazon, label, description, claims, certified, non, gmo, vegan, actual, package, contains, symbol, claim, online, description, shows]</td>\n",
       "      <td>[noodle, fine, amazon, label, description, claim, certify, noodle, fine, amazon, label, description, claim, certify, non, gmo, vegan, actual, package, contain, symbol, claim, online, description, show]</td>\n",
       "      <td>[(noodle, fine), (fine, amazon), (amazon, label), (label, description), (description, claim), (claim, certify), (certify, noodle), (noodle, fine), (fine, amazon), (amazon, label), (label, description), (description, claim), (claim, certify), (cer...</td>\n",
       "    </tr>\n",
       "    <tr>\n",
       "      <th>4</th>\n",
       "      <td>B007JINB0W</td>\n",
       "      <td>A2DZN9RBFVVY7L</td>\n",
       "      <td>4.0</td>\n",
       "      <td>2014</td>\n",
       "      <td>Grocery &amp; Gourmet Food; Pasta &amp; Noodles; Noodles; Shirataki</td>\n",
       "      <td>What's important to you?: So how bad do you want to restrict your calories? I gain weight easily, so I'm obsessive about counting my calories, but many times I am left not feeling very full. I read about these noodles and decided to give them a t...</td>\n",
       "      <td>882</td>\n",
       "      <td>What's important to you?: So how bad do you want to restrict your calories? I gain weight easily, so I'm obsessive about counting my calories, but many times I am left not feeling very full. I read about these noodles and decided to give them a t...</td>\n",
       "      <td>what's important to you?: so how bad do you want to restrict your calories? i gain weight easily, so i'm obsessive about counting my calories, but many times i am left not feeling very full. i read about these noodles and decided to give them a t...</td>\n",
       "      <td>[what, 's, important, to, you, ?, :, so, how, bad, do, you, want, to, restrict, your, calories, ?, i, gain, weight, easily, ,, so, i, 'm, obsessive, about, counting, my, calories, ,, but, many, times, i, am, left, not, feeling, very, full, ., i, ...</td>\n",
       "      <td>['s, important, ?, :, bad, want, restrict, calories, ?, gain, weight, easily, ,, 'm, obsessive, counting, calories, ,, many, times, left, feeling, full, ., read, noodles, decided, give, try, ., bag, ,, smell, like, fish, ,, goes, away, rinsing, ....</td>\n",
       "      <td>['s, important, bad, want, restrict, calories, gain, weight, easily, 'm, obsessive, counting, calories, many, times, left, feeling, full, read, noodles, decided, give, try, bag, smell, like, fish, goes, away, rinsing, yes, texture, like, chewing,...</td>\n",
       "      <td>[important, bad, want, restrict, calorie, gain, weight, easily, obsessive, count, calorie, time, leave, feel, read, noodle, decide, try, bag, smell, like, fish, go, away, rinse, yes, texture, like, chew, rubber, band, try, trick, boil, 30, minute...</td>\n",
       "      <td>[(important, bad), (bad, want), (want, restrict), (restrict, calorie), (calorie, gain), (gain, weight), (weight, easily), (easily, obsessive), (obsessive, count), (count, calorie), (calorie, time), (time, leave), (leave, feel), (feel, read), (rea...</td>\n",
       "    </tr>\n",
       "  </tbody>\n",
       "</table>\n",
       "</div>"
      ],
      "text/plain": [
       "         asin      reviewerID  overall  year  \\\n",
       "0  B007JINB0W  A1P9BVW2JB1OVL      3.0  2014   \n",
       "1  B007JINB0W   A5JZ2DBS9H3F6      1.0  2016   \n",
       "2  B007JINB0W  A3VYMBAX7IFV3B      1.0  2014   \n",
       "3  B007JINB0W  A25MLB8QXVM2LS      2.0  2018   \n",
       "4  B007JINB0W  A2DZN9RBFVVY7L      4.0  2014   \n",
       "\n",
       "                                                      category  \\\n",
       "0  Grocery & Gourmet Food; Pasta & Noodles; Noodles; Shirataki   \n",
       "1  Grocery & Gourmet Food; Pasta & Noodles; Noodles; Shirataki   \n",
       "2  Grocery & Gourmet Food; Pasta & Noodles; Noodles; Shirataki   \n",
       "3  Grocery & Gourmet Food; Pasta & Noodles; Noodles; Shirataki   \n",
       "4  Grocery & Gourmet Food; Pasta & Noodles; Noodles; Shirataki   \n",
       "\n",
       "                                                                                                                                                                                                                                                    text-raw  \\\n",
       "0  Odd chewy texture: This has a odd chewy texture and not much flavor, but used as a substitute for pasta, it helps cut calories and carbs. I can tolerate it, but it isn't really tasty. Surprisingly, my husband enjoyed it more than I did. I just co...   \n",
       "1                                                                                                                                                                              Fishy gross: They smell of fish and have a rubbery hard to chew texture. Yuck   \n",
       "2                                                                                                                                                                                                                           One Star: MOM DID NOT LIKE THESE   \n",
       "3  The noodles themselves are fine. The Amazon label description claims they are certified ...: The noodles themselves are fine. The Amazon label description claims they are certified non GMO and Vegan but the actual package contains no such symbol ...   \n",
       "4  What's important to you?: So how bad do you want to restrict your calories? I gain weight easily, so I'm obsessive about counting my calories, but many times I am left not feeling very full. I read about these noodles and decided to give them a t...   \n",
       "\n",
       "   length  \\\n",
       "0     291   \n",
       "1      77   \n",
       "2      32   \n",
       "3     289   \n",
       "4     882   \n",
       "\n",
       "                                                                                                                                                                                                                                                        text  \\\n",
       "0  Odd chewy texture: This has a odd chewy texture and not much flavor, but used as a substitute for pasta, it helps cut calories and carbs. I can tolerate it, but it isn't really tasty. Surprisingly, my husband enjoyed it more than I did. I just co...   \n",
       "1                                                                                                                                                                              Fishy gross: They smell of fish and have a rubbery hard to chew texture. Yuck   \n",
       "2                                                                                                                                                                                                                           One Star: MOM DID NOT LIKE THESE   \n",
       "3  The noodles themselves are fine. The Amazon label description claims they are certified ...: The noodles themselves are fine. The Amazon label description claims they are certified non GMO and Vegan but the actual package contains no such symbol ...   \n",
       "4  What's important to you?: So how bad do you want to restrict your calories? I gain weight easily, so I'm obsessive about counting my calories, but many times I am left not feeling very full. I read about these noodles and decided to give them a t...   \n",
       "\n",
       "                                                                                                                                                                                                                                                  lower_text  \\\n",
       "0  odd chewy texture: this has a odd chewy texture and not much flavor, but used as a substitute for pasta, it helps cut calories and carbs. i can tolerate it, but it isn't really tasty. surprisingly, my husband enjoyed it more than i did. i just co...   \n",
       "1                                                                                                                                                                              fishy gross: they smell of fish and have a rubbery hard to chew texture. yuck   \n",
       "2                                                                                                                                                                                                                           one star: mom did not like these   \n",
       "3  the noodles themselves are fine. the amazon label description claims they are certified ...: the noodles themselves are fine. the amazon label description claims they are certified non gmo and vegan but the actual package contains no such symbol ...   \n",
       "4  what's important to you?: so how bad do you want to restrict your calories? i gain weight easily, so i'm obsessive about counting my calories, but many times i am left not feeling very full. i read about these noodles and decided to give them a t...   \n",
       "\n",
       "                                                                                                                                                                                                                                                      tokens  \\\n",
       "0  [odd, chewy, texture, :, this, has, a, odd, chewy, texture, and, not, much, flavor, ,, but, used, as, a, substitute, for, pasta, ,, it, helps, cut, calories, and, carbs, ., i, can, tolerate, it, ,, but, it, is, n't, really, tasty, ., surprisingly...   \n",
       "1                                                                                                                                                          [fishy, gross, :, they, smell, of, fish, and, have, a, rubbery, hard, to, chew, texture, ., yuck]   \n",
       "2                                                                                                                                                                                                                 [one, star, :, mom, did, not, like, these]   \n",
       "3  [the, noodles, themselves, are, fine, ., the, amazon, label, description, claims, they, are, certified, ..., :, the, noodles, themselves, are, fine, ., the, amazon, label, description, claims, they, are, certified, non, gmo, and, vegan, but, the,...   \n",
       "4  [what, 's, important, to, you, ?, :, so, how, bad, do, you, want, to, restrict, your, calories, ?, i, gain, weight, easily, ,, so, i, 'm, obsessive, about, counting, my, calories, ,, but, many, times, i, am, left, not, feeling, very, full, ., i, ...   \n",
       "\n",
       "                                                                                                                                                                                                                                                    no_stops  \\\n",
       "0  [odd, chewy, texture, :, odd, chewy, texture, much, flavor, ,, used, substitute, pasta, ,, helps, cut, calories, carbs, ., tolerate, ,, n't, really, tasty, ., surprisingly, ,, husband, enjoyed, ., could, n't, get, past, texture, (, rubber, noodle...   \n",
       "1                                                                                                                                                                                      [fishy, gross, :, smell, fish, rubbery, hard, chew, texture, ., yuck]   \n",
       "2                                                                                                                                                                                                                                  [one, star, :, mom, like]   \n",
       "3                       [noodles, fine, ., amazon, label, description, claims, certified, ..., :, noodles, fine, ., amazon, label, description, claims, certified, non, gmo, vegan, actual, package, contains, symbol, claim, online, description, shows, .]   \n",
       "4  ['s, important, ?, :, bad, want, restrict, calories, ?, gain, weight, easily, ,, 'm, obsessive, counting, calories, ,, many, times, left, feeling, full, ., read, noodles, decided, give, try, ., bag, ,, smell, like, fish, ,, goes, away, rinsing, ....   \n",
       "\n",
       "                                                                                                                                                                                                                                           no_stops_no_punct  \\\n",
       "0                              [odd, chewy, texture, odd, chewy, texture, much, flavor, used, substitute, pasta, helps, cut, calories, carbs, tolerate, n't, really, tasty, surprisingly, husband, enjoyed, could, n't, get, past, texture, rubber, noodles]   \n",
       "1                                                                                                                                                                                            [fishy, gross, smell, fish, rubbery, hard, chew, texture, yuck]   \n",
       "2                                                                                                                                                                                                                                     [one, star, mom, like]   \n",
       "3                                   [noodles, fine, amazon, label, description, claims, certified, ..., noodles, fine, amazon, label, description, claims, certified, non, gmo, vegan, actual, package, contains, symbol, claim, online, description, shows]   \n",
       "4  ['s, important, bad, want, restrict, calories, gain, weight, easily, 'm, obsessive, counting, calories, many, times, left, feeling, full, read, noodles, decided, give, try, bag, smell, like, fish, goes, away, rinsing, yes, texture, like, chewing,...   \n",
       "\n",
       "                                                                                                                                                                                                                                                spacy_lemmas  \\\n",
       "0                                                                              [odd, chewy, texture, odd, chewy, texture, flavor, substitute, pasta, help, cut, calorie, carb, tolerate, tasty, surprisingly, husband, enjoy, past, texture, rubber, noodle]   \n",
       "1                                                                                                                                                                                            [fishy, gross, smell, fish, rubbery, hard, chew, texture, yuck]   \n",
       "2                                                                                                                                                                                                                                          [star, mom, like]   \n",
       "3                                                  [noodle, fine, amazon, label, description, claim, certify, noodle, fine, amazon, label, description, claim, certify, non, gmo, vegan, actual, package, contain, symbol, claim, online, description, show]   \n",
       "4  [important, bad, want, restrict, calorie, gain, weight, easily, obsessive, count, calorie, time, leave, feel, read, noodle, decide, try, bag, smell, like, fish, go, away, rinse, yes, texture, like, chew, rubber, band, try, trick, boil, 30, minute...   \n",
       "\n",
       "                                                                                                                                                                                                                                                     bigrams  \n",
       "0  [(odd, chewy), (chewy, texture), (texture, odd), (odd, chewy), (chewy, texture), (texture, flavor), (flavor, substitute), (substitute, pasta), (pasta, help), (help, cut), (cut, calorie), (calorie, carb), (carb, tolerate), (tolerate, tasty), (tast...  \n",
       "1                                                                                                                          [(fishy, gross), (gross, smell), (smell, fish), (fish, rubbery), (rubbery, hard), (hard, chew), (chew, texture), (texture, yuck)]  \n",
       "2                                                                                                                                                                                                                                 [(star, mom), (mom, like)]  \n",
       "3  [(noodle, fine), (fine, amazon), (amazon, label), (label, description), (description, claim), (claim, certify), (certify, noodle), (noodle, fine), (fine, amazon), (amazon, label), (label, description), (description, claim), (claim, certify), (cer...  \n",
       "4  [(important, bad), (bad, want), (want, restrict), (restrict, calorie), (calorie, gain), (gain, weight), (weight, easily), (easily, obsessive), (obsessive, count), (count, calorie), (calorie, time), (time, leave), (leave, feel), (feel, read), (rea...  "
      ]
     },
     "execution_count": 55,
     "metadata": {},
     "output_type": "execute_result"
    }
   ],
   "source": [
    "# add bigrams to the df with .apply()\n",
    "df['bigrams'] = df['spacy_lemmas'].apply(make_bigrams)\n",
    "df.head()"
   ]
  },
  {
   "cell_type": "markdown",
   "id": "2b5e8efd",
   "metadata": {},
   "source": [
    "\n",
    "# Save the final data version for modeling\n"
   ]
  },
  {
   "cell_type": "code",
   "execution_count": 56,
   "id": "5bdea059-de02-4f2e-a40d-ad5370e3f9a0",
   "metadata": {
    "execution": {
     "iopub.execute_input": "2024-02-08T03:10:03.384161Z",
     "iopub.status.busy": "2024-02-08T03:10:03.384033Z",
     "iopub.status.idle": "2024-02-08T03:10:03.408549Z",
     "shell.execute_reply": "2024-02-08T03:10:03.408168Z",
     "shell.execute_reply.started": "2024-02-08T03:10:03.384151Z"
    }
   },
   "outputs": [
    {
     "data": {
      "text/html": [
       "<div>\n",
       "<style scoped>\n",
       "    .dataframe tbody tr th:only-of-type {\n",
       "        vertical-align: middle;\n",
       "    }\n",
       "\n",
       "    .dataframe tbody tr th {\n",
       "        vertical-align: top;\n",
       "    }\n",
       "\n",
       "    .dataframe thead th {\n",
       "        text-align: right;\n",
       "    }\n",
       "</style>\n",
       "<table border=\"1\" class=\"dataframe\">\n",
       "  <thead>\n",
       "    <tr style=\"text-align: right;\">\n",
       "      <th></th>\n",
       "      <th>asin</th>\n",
       "      <th>reviewerID</th>\n",
       "      <th>overall</th>\n",
       "      <th>year</th>\n",
       "      <th>category</th>\n",
       "      <th>text-raw</th>\n",
       "      <th>length</th>\n",
       "      <th>text</th>\n",
       "      <th>lower_text</th>\n",
       "      <th>tokens</th>\n",
       "      <th>no_stops</th>\n",
       "      <th>no_stops_no_punct</th>\n",
       "      <th>spacy_lemmas</th>\n",
       "      <th>bigrams</th>\n",
       "    </tr>\n",
       "  </thead>\n",
       "  <tbody>\n",
       "    <tr>\n",
       "      <th>0</th>\n",
       "      <td>B007JINB0W</td>\n",
       "      <td>A1P9BVW2JB1OVL</td>\n",
       "      <td>3.0</td>\n",
       "      <td>2014</td>\n",
       "      <td>Grocery &amp; Gourmet Food; Pasta &amp; Noodles; Noodles; Shirataki</td>\n",
       "      <td>Odd chewy texture: This has a odd chewy texture and not much flavor, but used as a substitute for pasta, it helps cut calories and carbs. I can tolerate it, but it isn't really tasty. Surprisingly, my husband enjoyed it more than I did. I just co...</td>\n",
       "      <td>291</td>\n",
       "      <td>Odd chewy texture: This has a odd chewy texture and not much flavor, but used as a substitute for pasta, it helps cut calories and carbs. I can tolerate it, but it isn't really tasty. Surprisingly, my husband enjoyed it more than I did. I just co...</td>\n",
       "      <td>odd chewy texture: this has a odd chewy texture and not much flavor, but used as a substitute for pasta, it helps cut calories and carbs. i can tolerate it, but it isn't really tasty. surprisingly, my husband enjoyed it more than i did. i just co...</td>\n",
       "      <td>[odd, chewy, texture, :, this, has, a, odd, chewy, texture, and, not, much, flavor, ,, but, used, as, a, substitute, for, pasta, ,, it, helps, cut, calories, and, carbs, ., i, can, tolerate, it, ,, but, it, is, n't, really, tasty, ., surprisingly...</td>\n",
       "      <td>[odd, chewy, texture, :, odd, chewy, texture, much, flavor, ,, used, substitute, pasta, ,, helps, cut, calories, carbs, ., tolerate, ,, n't, really, tasty, ., surprisingly, ,, husband, enjoyed, ., could, n't, get, past, texture, (, rubber, noodle...</td>\n",
       "      <td>[odd, chewy, texture, odd, chewy, texture, much, flavor, used, substitute, pasta, helps, cut, calories, carbs, tolerate, n't, really, tasty, surprisingly, husband, enjoyed, could, n't, get, past, texture, rubber, noodles]</td>\n",
       "      <td>[odd, chewy, texture, odd, chewy, texture, flavor, substitute, pasta, help, cut, calorie, carb, tolerate, tasty, surprisingly, husband, enjoy, past, texture, rubber, noodle]</td>\n",
       "      <td>[(odd, chewy), (chewy, texture), (texture, odd), (odd, chewy), (chewy, texture), (texture, flavor), (flavor, substitute), (substitute, pasta), (pasta, help), (help, cut), (cut, calorie), (calorie, carb), (carb, tolerate), (tolerate, tasty), (tast...</td>\n",
       "    </tr>\n",
       "    <tr>\n",
       "      <th>1</th>\n",
       "      <td>B007JINB0W</td>\n",
       "      <td>A5JZ2DBS9H3F6</td>\n",
       "      <td>1.0</td>\n",
       "      <td>2016</td>\n",
       "      <td>Grocery &amp; Gourmet Food; Pasta &amp; Noodles; Noodles; Shirataki</td>\n",
       "      <td>Fishy gross: They smell of fish and have a rubbery hard to chew texture. Yuck</td>\n",
       "      <td>77</td>\n",
       "      <td>Fishy gross: They smell of fish and have a rubbery hard to chew texture. Yuck</td>\n",
       "      <td>fishy gross: they smell of fish and have a rubbery hard to chew texture. yuck</td>\n",
       "      <td>[fishy, gross, :, they, smell, of, fish, and, have, a, rubbery, hard, to, chew, texture, ., yuck]</td>\n",
       "      <td>[fishy, gross, :, smell, fish, rubbery, hard, chew, texture, ., yuck]</td>\n",
       "      <td>[fishy, gross, smell, fish, rubbery, hard, chew, texture, yuck]</td>\n",
       "      <td>[fishy, gross, smell, fish, rubbery, hard, chew, texture, yuck]</td>\n",
       "      <td>[(fishy, gross), (gross, smell), (smell, fish), (fish, rubbery), (rubbery, hard), (hard, chew), (chew, texture), (texture, yuck)]</td>\n",
       "    </tr>\n",
       "    <tr>\n",
       "      <th>2</th>\n",
       "      <td>B007JINB0W</td>\n",
       "      <td>A3VYMBAX7IFV3B</td>\n",
       "      <td>1.0</td>\n",
       "      <td>2014</td>\n",
       "      <td>Grocery &amp; Gourmet Food; Pasta &amp; Noodles; Noodles; Shirataki</td>\n",
       "      <td>One Star: MOM DID NOT LIKE THESE</td>\n",
       "      <td>32</td>\n",
       "      <td>One Star: MOM DID NOT LIKE THESE</td>\n",
       "      <td>one star: mom did not like these</td>\n",
       "      <td>[one, star, :, mom, did, not, like, these]</td>\n",
       "      <td>[one, star, :, mom, like]</td>\n",
       "      <td>[one, star, mom, like]</td>\n",
       "      <td>[star, mom, like]</td>\n",
       "      <td>[(star, mom), (mom, like)]</td>\n",
       "    </tr>\n",
       "    <tr>\n",
       "      <th>3</th>\n",
       "      <td>B007JINB0W</td>\n",
       "      <td>A25MLB8QXVM2LS</td>\n",
       "      <td>2.0</td>\n",
       "      <td>2018</td>\n",
       "      <td>Grocery &amp; Gourmet Food; Pasta &amp; Noodles; Noodles; Shirataki</td>\n",
       "      <td>The noodles themselves are fine. The Amazon label description claims they are certified ...: The noodles themselves are fine. The Amazon label description claims they are certified non GMO and Vegan but the actual package contains no such symbol ...</td>\n",
       "      <td>289</td>\n",
       "      <td>The noodles themselves are fine. The Amazon label description claims they are certified ...: The noodles themselves are fine. The Amazon label description claims they are certified non GMO and Vegan but the actual package contains no such symbol ...</td>\n",
       "      <td>the noodles themselves are fine. the amazon label description claims they are certified ...: the noodles themselves are fine. the amazon label description claims they are certified non gmo and vegan but the actual package contains no such symbol ...</td>\n",
       "      <td>[the, noodles, themselves, are, fine, ., the, amazon, label, description, claims, they, are, certified, ..., :, the, noodles, themselves, are, fine, ., the, amazon, label, description, claims, they, are, certified, non, gmo, and, vegan, but, the,...</td>\n",
       "      <td>[noodles, fine, ., amazon, label, description, claims, certified, ..., :, noodles, fine, ., amazon, label, description, claims, certified, non, gmo, vegan, actual, package, contains, symbol, claim, online, description, shows, .]</td>\n",
       "      <td>[noodles, fine, amazon, label, description, claims, certified, ..., noodles, fine, amazon, label, description, claims, certified, non, gmo, vegan, actual, package, contains, symbol, claim, online, description, shows]</td>\n",
       "      <td>[noodle, fine, amazon, label, description, claim, certify, noodle, fine, amazon, label, description, claim, certify, non, gmo, vegan, actual, package, contain, symbol, claim, online, description, show]</td>\n",
       "      <td>[(noodle, fine), (fine, amazon), (amazon, label), (label, description), (description, claim), (claim, certify), (certify, noodle), (noodle, fine), (fine, amazon), (amazon, label), (label, description), (description, claim), (claim, certify), (cer...</td>\n",
       "    </tr>\n",
       "    <tr>\n",
       "      <th>4</th>\n",
       "      <td>B007JINB0W</td>\n",
       "      <td>A2DZN9RBFVVY7L</td>\n",
       "      <td>4.0</td>\n",
       "      <td>2014</td>\n",
       "      <td>Grocery &amp; Gourmet Food; Pasta &amp; Noodles; Noodles; Shirataki</td>\n",
       "      <td>What's important to you?: So how bad do you want to restrict your calories? I gain weight easily, so I'm obsessive about counting my calories, but many times I am left not feeling very full. I read about these noodles and decided to give them a t...</td>\n",
       "      <td>882</td>\n",
       "      <td>What's important to you?: So how bad do you want to restrict your calories? I gain weight easily, so I'm obsessive about counting my calories, but many times I am left not feeling very full. I read about these noodles and decided to give them a t...</td>\n",
       "      <td>what's important to you?: so how bad do you want to restrict your calories? i gain weight easily, so i'm obsessive about counting my calories, but many times i am left not feeling very full. i read about these noodles and decided to give them a t...</td>\n",
       "      <td>[what, 's, important, to, you, ?, :, so, how, bad, do, you, want, to, restrict, your, calories, ?, i, gain, weight, easily, ,, so, i, 'm, obsessive, about, counting, my, calories, ,, but, many, times, i, am, left, not, feeling, very, full, ., i, ...</td>\n",
       "      <td>['s, important, ?, :, bad, want, restrict, calories, ?, gain, weight, easily, ,, 'm, obsessive, counting, calories, ,, many, times, left, feeling, full, ., read, noodles, decided, give, try, ., bag, ,, smell, like, fish, ,, goes, away, rinsing, ....</td>\n",
       "      <td>['s, important, bad, want, restrict, calories, gain, weight, easily, 'm, obsessive, counting, calories, many, times, left, feeling, full, read, noodles, decided, give, try, bag, smell, like, fish, goes, away, rinsing, yes, texture, like, chewing,...</td>\n",
       "      <td>[important, bad, want, restrict, calorie, gain, weight, easily, obsessive, count, calorie, time, leave, feel, read, noodle, decide, try, bag, smell, like, fish, go, away, rinse, yes, texture, like, chew, rubber, band, try, trick, boil, 30, minute...</td>\n",
       "      <td>[(important, bad), (bad, want), (want, restrict), (restrict, calorie), (calorie, gain), (gain, weight), (weight, easily), (easily, obsessive), (obsessive, count), (count, calorie), (calorie, time), (time, leave), (leave, feel), (feel, read), (rea...</td>\n",
       "    </tr>\n",
       "  </tbody>\n",
       "</table>\n",
       "</div>"
      ],
      "text/plain": [
       "         asin      reviewerID  overall  year  \\\n",
       "0  B007JINB0W  A1P9BVW2JB1OVL      3.0  2014   \n",
       "1  B007JINB0W   A5JZ2DBS9H3F6      1.0  2016   \n",
       "2  B007JINB0W  A3VYMBAX7IFV3B      1.0  2014   \n",
       "3  B007JINB0W  A25MLB8QXVM2LS      2.0  2018   \n",
       "4  B007JINB0W  A2DZN9RBFVVY7L      4.0  2014   \n",
       "\n",
       "                                                      category  \\\n",
       "0  Grocery & Gourmet Food; Pasta & Noodles; Noodles; Shirataki   \n",
       "1  Grocery & Gourmet Food; Pasta & Noodles; Noodles; Shirataki   \n",
       "2  Grocery & Gourmet Food; Pasta & Noodles; Noodles; Shirataki   \n",
       "3  Grocery & Gourmet Food; Pasta & Noodles; Noodles; Shirataki   \n",
       "4  Grocery & Gourmet Food; Pasta & Noodles; Noodles; Shirataki   \n",
       "\n",
       "                                                                                                                                                                                                                                                    text-raw  \\\n",
       "0  Odd chewy texture: This has a odd chewy texture and not much flavor, but used as a substitute for pasta, it helps cut calories and carbs. I can tolerate it, but it isn't really tasty. Surprisingly, my husband enjoyed it more than I did. I just co...   \n",
       "1                                                                                                                                                                              Fishy gross: They smell of fish and have a rubbery hard to chew texture. Yuck   \n",
       "2                                                                                                                                                                                                                           One Star: MOM DID NOT LIKE THESE   \n",
       "3  The noodles themselves are fine. The Amazon label description claims they are certified ...: The noodles themselves are fine. The Amazon label description claims they are certified non GMO and Vegan but the actual package contains no such symbol ...   \n",
       "4  What's important to you?: So how bad do you want to restrict your calories? I gain weight easily, so I'm obsessive about counting my calories, but many times I am left not feeling very full. I read about these noodles and decided to give them a t...   \n",
       "\n",
       "   length  \\\n",
       "0     291   \n",
       "1      77   \n",
       "2      32   \n",
       "3     289   \n",
       "4     882   \n",
       "\n",
       "                                                                                                                                                                                                                                                        text  \\\n",
       "0  Odd chewy texture: This has a odd chewy texture and not much flavor, but used as a substitute for pasta, it helps cut calories and carbs. I can tolerate it, but it isn't really tasty. Surprisingly, my husband enjoyed it more than I did. I just co...   \n",
       "1                                                                                                                                                                              Fishy gross: They smell of fish and have a rubbery hard to chew texture. Yuck   \n",
       "2                                                                                                                                                                                                                           One Star: MOM DID NOT LIKE THESE   \n",
       "3  The noodles themselves are fine. The Amazon label description claims they are certified ...: The noodles themselves are fine. The Amazon label description claims they are certified non GMO and Vegan but the actual package contains no such symbol ...   \n",
       "4  What's important to you?: So how bad do you want to restrict your calories? I gain weight easily, so I'm obsessive about counting my calories, but many times I am left not feeling very full. I read about these noodles and decided to give them a t...   \n",
       "\n",
       "                                                                                                                                                                                                                                                  lower_text  \\\n",
       "0  odd chewy texture: this has a odd chewy texture and not much flavor, but used as a substitute for pasta, it helps cut calories and carbs. i can tolerate it, but it isn't really tasty. surprisingly, my husband enjoyed it more than i did. i just co...   \n",
       "1                                                                                                                                                                              fishy gross: they smell of fish and have a rubbery hard to chew texture. yuck   \n",
       "2                                                                                                                                                                                                                           one star: mom did not like these   \n",
       "3  the noodles themselves are fine. the amazon label description claims they are certified ...: the noodles themselves are fine. the amazon label description claims they are certified non gmo and vegan but the actual package contains no such symbol ...   \n",
       "4  what's important to you?: so how bad do you want to restrict your calories? i gain weight easily, so i'm obsessive about counting my calories, but many times i am left not feeling very full. i read about these noodles and decided to give them a t...   \n",
       "\n",
       "                                                                                                                                                                                                                                                      tokens  \\\n",
       "0  [odd, chewy, texture, :, this, has, a, odd, chewy, texture, and, not, much, flavor, ,, but, used, as, a, substitute, for, pasta, ,, it, helps, cut, calories, and, carbs, ., i, can, tolerate, it, ,, but, it, is, n't, really, tasty, ., surprisingly...   \n",
       "1                                                                                                                                                          [fishy, gross, :, they, smell, of, fish, and, have, a, rubbery, hard, to, chew, texture, ., yuck]   \n",
       "2                                                                                                                                                                                                                 [one, star, :, mom, did, not, like, these]   \n",
       "3  [the, noodles, themselves, are, fine, ., the, amazon, label, description, claims, they, are, certified, ..., :, the, noodles, themselves, are, fine, ., the, amazon, label, description, claims, they, are, certified, non, gmo, and, vegan, but, the,...   \n",
       "4  [what, 's, important, to, you, ?, :, so, how, bad, do, you, want, to, restrict, your, calories, ?, i, gain, weight, easily, ,, so, i, 'm, obsessive, about, counting, my, calories, ,, but, many, times, i, am, left, not, feeling, very, full, ., i, ...   \n",
       "\n",
       "                                                                                                                                                                                                                                                    no_stops  \\\n",
       "0  [odd, chewy, texture, :, odd, chewy, texture, much, flavor, ,, used, substitute, pasta, ,, helps, cut, calories, carbs, ., tolerate, ,, n't, really, tasty, ., surprisingly, ,, husband, enjoyed, ., could, n't, get, past, texture, (, rubber, noodle...   \n",
       "1                                                                                                                                                                                      [fishy, gross, :, smell, fish, rubbery, hard, chew, texture, ., yuck]   \n",
       "2                                                                                                                                                                                                                                  [one, star, :, mom, like]   \n",
       "3                       [noodles, fine, ., amazon, label, description, claims, certified, ..., :, noodles, fine, ., amazon, label, description, claims, certified, non, gmo, vegan, actual, package, contains, symbol, claim, online, description, shows, .]   \n",
       "4  ['s, important, ?, :, bad, want, restrict, calories, ?, gain, weight, easily, ,, 'm, obsessive, counting, calories, ,, many, times, left, feeling, full, ., read, noodles, decided, give, try, ., bag, ,, smell, like, fish, ,, goes, away, rinsing, ....   \n",
       "\n",
       "                                                                                                                                                                                                                                           no_stops_no_punct  \\\n",
       "0                              [odd, chewy, texture, odd, chewy, texture, much, flavor, used, substitute, pasta, helps, cut, calories, carbs, tolerate, n't, really, tasty, surprisingly, husband, enjoyed, could, n't, get, past, texture, rubber, noodles]   \n",
       "1                                                                                                                                                                                            [fishy, gross, smell, fish, rubbery, hard, chew, texture, yuck]   \n",
       "2                                                                                                                                                                                                                                     [one, star, mom, like]   \n",
       "3                                   [noodles, fine, amazon, label, description, claims, certified, ..., noodles, fine, amazon, label, description, claims, certified, non, gmo, vegan, actual, package, contains, symbol, claim, online, description, shows]   \n",
       "4  ['s, important, bad, want, restrict, calories, gain, weight, easily, 'm, obsessive, counting, calories, many, times, left, feeling, full, read, noodles, decided, give, try, bag, smell, like, fish, goes, away, rinsing, yes, texture, like, chewing,...   \n",
       "\n",
       "                                                                                                                                                                                                                                                spacy_lemmas  \\\n",
       "0                                                                              [odd, chewy, texture, odd, chewy, texture, flavor, substitute, pasta, help, cut, calorie, carb, tolerate, tasty, surprisingly, husband, enjoy, past, texture, rubber, noodle]   \n",
       "1                                                                                                                                                                                            [fishy, gross, smell, fish, rubbery, hard, chew, texture, yuck]   \n",
       "2                                                                                                                                                                                                                                          [star, mom, like]   \n",
       "3                                                  [noodle, fine, amazon, label, description, claim, certify, noodle, fine, amazon, label, description, claim, certify, non, gmo, vegan, actual, package, contain, symbol, claim, online, description, show]   \n",
       "4  [important, bad, want, restrict, calorie, gain, weight, easily, obsessive, count, calorie, time, leave, feel, read, noodle, decide, try, bag, smell, like, fish, go, away, rinse, yes, texture, like, chew, rubber, band, try, trick, boil, 30, minute...   \n",
       "\n",
       "                                                                                                                                                                                                                                                     bigrams  \n",
       "0  [(odd, chewy), (chewy, texture), (texture, odd), (odd, chewy), (chewy, texture), (texture, flavor), (flavor, substitute), (substitute, pasta), (pasta, help), (help, cut), (cut, calorie), (calorie, carb), (carb, tolerate), (tolerate, tasty), (tast...  \n",
       "1                                                                                                                          [(fishy, gross), (gross, smell), (smell, fish), (fish, rubbery), (rubbery, hard), (hard, chew), (chew, texture), (texture, yuck)]  \n",
       "2                                                                                                                                                                                                                                 [(star, mom), (mom, like)]  \n",
       "3  [(noodle, fine), (fine, amazon), (amazon, label), (label, description), (description, claim), (claim, certify), (certify, noodle), (noodle, fine), (fine, amazon), (amazon, label), (label, description), (description, claim), (claim, certify), (cer...  \n",
       "4  [(important, bad), (bad, want), (want, restrict), (restrict, calorie), (calorie, gain), (gain, weight), (weight, easily), (easily, obsessive), (obsessive, count), (count, calorie), (calorie, time), (time, leave), (leave, feel), (feel, read), (rea...  "
      ]
     },
     "execution_count": 56,
     "metadata": {},
     "output_type": "execute_result"
    }
   ],
   "source": [
    "df.head()"
   ]
  },
  {
   "cell_type": "code",
   "execution_count": 57,
   "id": "ac098abd-ad82-4db7-88ea-0eb307106c5a",
   "metadata": {
    "execution": {
     "iopub.execute_input": "2024-02-08T03:10:03.409328Z",
     "iopub.status.busy": "2024-02-08T03:10:03.409184Z",
     "iopub.status.idle": "2024-02-08T03:10:03.411548Z",
     "shell.execute_reply": "2024-02-08T03:10:03.411179Z",
     "shell.execute_reply.started": "2024-02-08T03:10:03.409317Z"
    }
   },
   "outputs": [],
   "source": [
    "import os\n",
    "folder_out = 'data/processed/'\n",
    "os.makedirs(folder_out, exist_ok=True)"
   ]
  },
  {
   "cell_type": "code",
   "execution_count": 59,
   "id": "0998455b",
   "metadata": {
    "execution": {
     "iopub.execute_input": "2024-02-08T03:10:51.683281Z",
     "iopub.status.busy": "2024-02-08T03:10:51.682802Z",
     "iopub.status.idle": "2024-02-08T03:10:51.928608Z",
     "shell.execute_reply": "2024-02-08T03:10:51.928265Z",
     "shell.execute_reply.started": "2024-02-08T03:10:51.683252Z"
    }
   },
   "outputs": [],
   "source": [
    "fpath_csv =f'{folder_out}processed-reviews.csv'\n",
    "## Save the processed data\n",
    "df.to_csv(fpath_csv, index=False)"
   ]
  },
  {
   "cell_type": "code",
   "execution_count": 60,
   "id": "144062b1-ad45-4ac8-b587-d26a0758d601",
   "metadata": {
    "execution": {
     "iopub.execute_input": "2024-02-08T03:10:58.001027Z",
     "iopub.status.busy": "2024-02-08T03:10:58.000622Z",
     "iopub.status.idle": "2024-02-08T03:10:58.095291Z",
     "shell.execute_reply": "2024-02-08T03:10:58.094953Z",
     "shell.execute_reply.started": "2024-02-08T03:10:58.001003Z"
    }
   },
   "outputs": [
    {
     "data": {
      "text/plain": [
       "['data/processed/processed-reviews.joblib']"
      ]
     },
     "execution_count": 60,
     "metadata": {},
     "output_type": "execute_result"
    }
   ],
   "source": [
    "# # Save the processed data\n",
    "import joblib\n",
    "fpath_joblib =f'{folder_out}processed-reviews.joblib'\n",
    "joblib.dump(df,fpath_joblib)"
   ]
  },
  {
   "cell_type": "code",
   "execution_count": null,
   "id": "9875936d-5cf9-453d-b530-d173bcd2e03f",
   "metadata": {},
   "outputs": [],
   "source": []
  }
 ],
 "metadata": {
  "kernelspec": {
   "display_name": "Python (dojo-env)",
   "language": "python",
   "name": "dojo-env"
  },
  "language_info": {
   "codemirror_mode": {
    "name": "ipython",
    "version": 3
   },
   "file_extension": ".py",
   "mimetype": "text/x-python",
   "name": "python",
   "nbconvert_exporter": "python",
   "pygments_lexer": "ipython3",
   "version": "3.10.10"
  },
  "widgets": {
   "application/vnd.jupyter.widget-state+json": {
    "state": {},
    "version_major": 2,
    "version_minor": 0
   }
  }
 },
 "nbformat": 4,
 "nbformat_minor": 5
}
